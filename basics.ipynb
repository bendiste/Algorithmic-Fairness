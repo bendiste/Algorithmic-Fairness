{
 "cells": [
  {
   "cell_type": "markdown",
   "metadata": {},
   "source": [
    "# Basics\n",
    "\n",
    "The `fairness` package does a few nice things for you. For example, it provides a standardized access to different ways of preprocessing a dataset:"
   ]
  },
  {
   "cell_type": "code",
   "execution_count": null,
   "metadata": {},
   "outputs": [],
   "source": [
    "#import sys\n",
    "#!{sys.executable} -m pip install fairness\n",
    "#!{sys.executable} -m pip install ggplot"
   ]
  },
  {
   "cell_type": "code",
   "execution_count": 1,
   "metadata": {},
   "outputs": [
    {
     "name": "stdout",
     "output_type": "stream",
     "text": [
      "Available algorithms:\n",
      "  SVM\n",
      "  GaussianNB\n",
      "  LR\n",
      "  DecisionTree\n",
      "  Kamishima\n",
      "  Calders\n",
      "  ZafarBaseline\n",
      "  ZafarFairness\n",
      "  ZafarAccuracy\n",
      "  Kamishima-accuracy\n",
      "  Kamishima-DIavgall\n",
      "  Feldman-SVM\n",
      "  Feldman-GaussianNB\n",
      "  Feldman-LR\n",
      "  Feldman-DecisionTree\n",
      "  Feldman-SVM-DIavgall\n",
      "  Feldman-SVM-accuracy\n",
      "  Feldman-GaussianNB-DIavgall\n",
      "  Feldman-GaussianNB-accuracy\n"
     ]
    }
   ],
   "source": [
    "import fairness.benchmark"
   ]
  },
  {
   "cell_type": "code",
   "execution_count": 2,
   "metadata": {},
   "outputs": [],
   "source": [
    "from fairness.data.objects.Ricci import Ricci\n",
    "from fairness.data.objects.ProcessedData import ProcessedData\n"
   ]
  },
  {
   "cell_type": "code",
   "execution_count": 3,
   "metadata": {},
   "outputs": [],
   "source": [
    "ricci = ProcessedData(Ricci())"
   ]
  },
  {
   "cell_type": "code",
   "execution_count": 4,
   "metadata": {},
   "outputs": [
    {
     "data": {
      "text/html": [
       "<div>\n",
       "<style scoped>\n",
       "    .dataframe tbody tr th:only-of-type {\n",
       "        vertical-align: middle;\n",
       "    }\n",
       "\n",
       "    .dataframe tbody tr th {\n",
       "        vertical-align: top;\n",
       "    }\n",
       "\n",
       "    .dataframe thead th {\n",
       "        text-align: right;\n",
       "    }\n",
       "</style>\n",
       "<table border=\"1\" class=\"dataframe\">\n",
       "  <thead>\n",
       "    <tr style=\"text-align: right;\">\n",
       "      <th></th>\n",
       "      <th>Position</th>\n",
       "      <th>Oral</th>\n",
       "      <th>Written</th>\n",
       "      <th>Race</th>\n",
       "      <th>Combine</th>\n",
       "      <th>Class</th>\n",
       "    </tr>\n",
       "  </thead>\n",
       "  <tbody>\n",
       "    <tr>\n",
       "      <th>0</th>\n",
       "      <td>Captain</td>\n",
       "      <td>89.52</td>\n",
       "      <td>95</td>\n",
       "      <td>W</td>\n",
       "      <td>92.808</td>\n",
       "      <td>1</td>\n",
       "    </tr>\n",
       "    <tr>\n",
       "      <th>1</th>\n",
       "      <td>Captain</td>\n",
       "      <td>80.00</td>\n",
       "      <td>95</td>\n",
       "      <td>W</td>\n",
       "      <td>89.000</td>\n",
       "      <td>1</td>\n",
       "    </tr>\n",
       "    <tr>\n",
       "      <th>2</th>\n",
       "      <td>Captain</td>\n",
       "      <td>82.38</td>\n",
       "      <td>87</td>\n",
       "      <td>W</td>\n",
       "      <td>85.152</td>\n",
       "      <td>1</td>\n",
       "    </tr>\n",
       "    <tr>\n",
       "      <th>3</th>\n",
       "      <td>Captain</td>\n",
       "      <td>88.57</td>\n",
       "      <td>76</td>\n",
       "      <td>W</td>\n",
       "      <td>81.028</td>\n",
       "      <td>1</td>\n",
       "    </tr>\n",
       "    <tr>\n",
       "      <th>4</th>\n",
       "      <td>Captain</td>\n",
       "      <td>76.19</td>\n",
       "      <td>84</td>\n",
       "      <td>W</td>\n",
       "      <td>80.876</td>\n",
       "      <td>1</td>\n",
       "    </tr>\n",
       "    <tr>\n",
       "      <th>...</th>\n",
       "      <td>...</td>\n",
       "      <td>...</td>\n",
       "      <td>...</td>\n",
       "      <td>...</td>\n",
       "      <td>...</td>\n",
       "      <td>...</td>\n",
       "    </tr>\n",
       "    <tr>\n",
       "      <th>113</th>\n",
       "      <td>Lieutenant</td>\n",
       "      <td>40.83</td>\n",
       "      <td>64</td>\n",
       "      <td>H</td>\n",
       "      <td>54.732</td>\n",
       "      <td>0</td>\n",
       "    </tr>\n",
       "    <tr>\n",
       "      <th>114</th>\n",
       "      <td>Lieutenant</td>\n",
       "      <td>52.08</td>\n",
       "      <td>56</td>\n",
       "      <td>B</td>\n",
       "      <td>54.432</td>\n",
       "      <td>0</td>\n",
       "    </tr>\n",
       "    <tr>\n",
       "      <th>115</th>\n",
       "      <td>Lieutenant</td>\n",
       "      <td>48.33</td>\n",
       "      <td>58</td>\n",
       "      <td>H</td>\n",
       "      <td>54.132</td>\n",
       "      <td>0</td>\n",
       "    </tr>\n",
       "    <tr>\n",
       "      <th>116</th>\n",
       "      <td>Lieutenant</td>\n",
       "      <td>52.92</td>\n",
       "      <td>49</td>\n",
       "      <td>B</td>\n",
       "      <td>50.568</td>\n",
       "      <td>0</td>\n",
       "    </tr>\n",
       "    <tr>\n",
       "      <th>117</th>\n",
       "      <td>Lieutenant</td>\n",
       "      <td>45.83</td>\n",
       "      <td>46</td>\n",
       "      <td>B</td>\n",
       "      <td>45.932</td>\n",
       "      <td>0</td>\n",
       "    </tr>\n",
       "  </tbody>\n",
       "</table>\n",
       "<p>118 rows × 6 columns</p>\n",
       "</div>"
      ],
      "text/plain": [
       "       Position   Oral  Written Race  Combine  Class\n",
       "0       Captain  89.52       95    W   92.808      1\n",
       "1       Captain  80.00       95    W   89.000      1\n",
       "2       Captain  82.38       87    W   85.152      1\n",
       "3       Captain  88.57       76    W   81.028      1\n",
       "4       Captain  76.19       84    W   80.876      1\n",
       "..          ...    ...      ...  ...      ...    ...\n",
       "113  Lieutenant  40.83       64    H   54.732      0\n",
       "114  Lieutenant  52.08       56    B   54.432      0\n",
       "115  Lieutenant  48.33       58    H   54.132      0\n",
       "116  Lieutenant  52.92       49    B   50.568      0\n",
       "117  Lieutenant  45.83       46    B   45.932      0\n",
       "\n",
       "[118 rows x 6 columns]"
      ]
     },
     "execution_count": 4,
     "metadata": {},
     "output_type": "execute_result"
    }
   ],
   "source": [
    "ricci.get_dataframe(\"original\")"
   ]
  },
  {
   "cell_type": "code",
   "execution_count": 5,
   "metadata": {},
   "outputs": [
    {
     "data": {
      "text/html": [
       "<div>\n",
       "<style scoped>\n",
       "    .dataframe tbody tr th:only-of-type {\n",
       "        vertical-align: middle;\n",
       "    }\n",
       "\n",
       "    .dataframe tbody tr th {\n",
       "        vertical-align: top;\n",
       "    }\n",
       "\n",
       "    .dataframe thead th {\n",
       "        text-align: right;\n",
       "    }\n",
       "</style>\n",
       "<table border=\"1\" class=\"dataframe\">\n",
       "  <thead>\n",
       "    <tr style=\"text-align: right;\">\n",
       "      <th></th>\n",
       "      <th>Oral</th>\n",
       "      <th>Written</th>\n",
       "      <th>Race</th>\n",
       "      <th>Combine</th>\n",
       "      <th>Class</th>\n",
       "      <th>Position_Captain</th>\n",
       "      <th>Position_Lieutenant</th>\n",
       "    </tr>\n",
       "  </thead>\n",
       "  <tbody>\n",
       "    <tr>\n",
       "      <th>0</th>\n",
       "      <td>89.52</td>\n",
       "      <td>95</td>\n",
       "      <td>1</td>\n",
       "      <td>92.808</td>\n",
       "      <td>1</td>\n",
       "      <td>1</td>\n",
       "      <td>0</td>\n",
       "    </tr>\n",
       "    <tr>\n",
       "      <th>1</th>\n",
       "      <td>80.00</td>\n",
       "      <td>95</td>\n",
       "      <td>1</td>\n",
       "      <td>89.000</td>\n",
       "      <td>1</td>\n",
       "      <td>1</td>\n",
       "      <td>0</td>\n",
       "    </tr>\n",
       "    <tr>\n",
       "      <th>2</th>\n",
       "      <td>82.38</td>\n",
       "      <td>87</td>\n",
       "      <td>1</td>\n",
       "      <td>85.152</td>\n",
       "      <td>1</td>\n",
       "      <td>1</td>\n",
       "      <td>0</td>\n",
       "    </tr>\n",
       "    <tr>\n",
       "      <th>3</th>\n",
       "      <td>88.57</td>\n",
       "      <td>76</td>\n",
       "      <td>1</td>\n",
       "      <td>81.028</td>\n",
       "      <td>1</td>\n",
       "      <td>1</td>\n",
       "      <td>0</td>\n",
       "    </tr>\n",
       "    <tr>\n",
       "      <th>4</th>\n",
       "      <td>76.19</td>\n",
       "      <td>84</td>\n",
       "      <td>1</td>\n",
       "      <td>80.876</td>\n",
       "      <td>1</td>\n",
       "      <td>1</td>\n",
       "      <td>0</td>\n",
       "    </tr>\n",
       "    <tr>\n",
       "      <th>...</th>\n",
       "      <td>...</td>\n",
       "      <td>...</td>\n",
       "      <td>...</td>\n",
       "      <td>...</td>\n",
       "      <td>...</td>\n",
       "      <td>...</td>\n",
       "      <td>...</td>\n",
       "    </tr>\n",
       "    <tr>\n",
       "      <th>113</th>\n",
       "      <td>40.83</td>\n",
       "      <td>64</td>\n",
       "      <td>0</td>\n",
       "      <td>54.732</td>\n",
       "      <td>0</td>\n",
       "      <td>0</td>\n",
       "      <td>1</td>\n",
       "    </tr>\n",
       "    <tr>\n",
       "      <th>114</th>\n",
       "      <td>52.08</td>\n",
       "      <td>56</td>\n",
       "      <td>0</td>\n",
       "      <td>54.432</td>\n",
       "      <td>0</td>\n",
       "      <td>0</td>\n",
       "      <td>1</td>\n",
       "    </tr>\n",
       "    <tr>\n",
       "      <th>115</th>\n",
       "      <td>48.33</td>\n",
       "      <td>58</td>\n",
       "      <td>0</td>\n",
       "      <td>54.132</td>\n",
       "      <td>0</td>\n",
       "      <td>0</td>\n",
       "      <td>1</td>\n",
       "    </tr>\n",
       "    <tr>\n",
       "      <th>116</th>\n",
       "      <td>52.92</td>\n",
       "      <td>49</td>\n",
       "      <td>0</td>\n",
       "      <td>50.568</td>\n",
       "      <td>0</td>\n",
       "      <td>0</td>\n",
       "      <td>1</td>\n",
       "    </tr>\n",
       "    <tr>\n",
       "      <th>117</th>\n",
       "      <td>45.83</td>\n",
       "      <td>46</td>\n",
       "      <td>0</td>\n",
       "      <td>45.932</td>\n",
       "      <td>0</td>\n",
       "      <td>0</td>\n",
       "      <td>1</td>\n",
       "    </tr>\n",
       "  </tbody>\n",
       "</table>\n",
       "<p>118 rows × 7 columns</p>\n",
       "</div>"
      ],
      "text/plain": [
       "      Oral  Written  Race  Combine  Class  Position_Captain  \\\n",
       "0    89.52       95     1   92.808      1                 1   \n",
       "1    80.00       95     1   89.000      1                 1   \n",
       "2    82.38       87     1   85.152      1                 1   \n",
       "3    88.57       76     1   81.028      1                 1   \n",
       "4    76.19       84     1   80.876      1                 1   \n",
       "..     ...      ...   ...      ...    ...               ...   \n",
       "113  40.83       64     0   54.732      0                 0   \n",
       "114  52.08       56     0   54.432      0                 0   \n",
       "115  48.33       58     0   54.132      0                 0   \n",
       "116  52.92       49     0   50.568      0                 0   \n",
       "117  45.83       46     0   45.932      0                 0   \n",
       "\n",
       "     Position_Lieutenant  \n",
       "0                      0  \n",
       "1                      0  \n",
       "2                      0  \n",
       "3                      0  \n",
       "4                      0  \n",
       "..                   ...  \n",
       "113                    1  \n",
       "114                    1  \n",
       "115                    1  \n",
       "116                    1  \n",
       "117                    1  \n",
       "\n",
       "[118 rows x 7 columns]"
      ]
     },
     "execution_count": 5,
     "metadata": {},
     "output_type": "execute_result"
    }
   ],
   "source": [
    "ricci.get_dataframe(\"numerical-binsensitive\")"
   ]
  },
  {
   "cell_type": "markdown",
   "metadata": {},
   "source": [
    "## Necessary imports\n",
    "We'll be using these throughout the tutorial."
   ]
  },
  {
   "cell_type": "code",
   "execution_count": 6,
   "metadata": {},
   "outputs": [
    {
     "data": {
      "text/plain": [
       "RendererRegistry.enable('notebook')"
      ]
     },
     "execution_count": 6,
     "metadata": {},
     "output_type": "execute_result"
    }
   ],
   "source": [
    "# We'll suppress warnings because both altair and sklearn are\n",
    "# emitting lots of them, and they're annoying in a demo setting.\n",
    "\n",
    "import warnings\n",
    "warnings.filterwarnings(\"ignore\")\n",
    "\n",
    "import altair as alt\n",
    "# Ask Altair to produce output that works on Jupyter Notebook\n",
    "alt.renderers.enable('notebook')"
   ]
  },
  {
   "cell_type": "code",
   "execution_count": 7,
   "metadata": {},
   "outputs": [],
   "source": [
    "import fairness\n",
    "import fairness.benchmark"
   ]
  },
  {
   "cell_type": "markdown",
   "metadata": {},
   "source": [
    "In order to run specific algorithms and datasets, pass them as parameters to `fairness.benchmark.run`. Do note that if you don't pass these parameters, `fairness` will run all available algorithms on all available datasets, which will take a *very* long time (about a week on a single processor in our machines)!"
   ]
  },
  {
   "cell_type": "code",
   "execution_count": 8,
   "metadata": {},
   "outputs": [
    {
     "name": "stdout",
     "output_type": "stream",
     "text": [
      "Datasets: '['ricci']'\n",
      "\n",
      "Evaluating dataset:ricci\n",
      "Sensitive attribute:Race\n",
      "    Algorithm: LR\n",
      "       supported types: {'numerical', 'numerical-binsensitive'}\n",
      "    Algorithm: Feldman-LR\n",
      "       supported types: {'numerical', 'numerical-binsensitive'}\n",
      "Results written to:\n",
      "    C:\\Users\\hatta\\.fairness\\results\\ricci_Race_numerical.csv\n",
      "    C:\\Users\\hatta\\.fairness\\results\\ricci_Race_numerical-binsensitive.csv\n"
     ]
    }
   ],
   "source": [
    "fairness.benchmark.run(algorithm=[\"LR\", \"Feldman-LR\"], dataset=[\"ricci\"])"
   ]
  },
  {
   "cell_type": "markdown",
   "metadata": {},
   "source": [
    "You can then access the results per dataset, sensitive attribute, and preprocessing option:"
   ]
  },
  {
   "cell_type": "code",
   "execution_count": 9,
   "metadata": {},
   "outputs": [],
   "source": [
    "ricci_Race = fairness.get_dataset_by_name(\"ricci\").get_results_data_frame(\"Race\", \"numerical-binsensitive\")"
   ]
  },
  {
   "cell_type": "code",
   "execution_count": 10,
   "metadata": {},
   "outputs": [
    {
     "data": {
      "text/plain": [
       "['algorithm',\n",
       " 'params',\n",
       " 'run-id',\n",
       " '0-FNR',\n",
       " '0-FNR_over_1-FNR',\n",
       " '0-FPR',\n",
       " '0-FPR_over_1-FPR',\n",
       " '0-TNR',\n",
       " '0-TNR_over_1-TNR',\n",
       " '0-TPR',\n",
       " '0-TPR_over_1-TPR',\n",
       " '0-accuracy',\n",
       " '0-accuracy_over_1-accuracy',\n",
       " '0-calibration+',\n",
       " '0-calibration+_over_1-calibration+',\n",
       " '0-calibration-',\n",
       " '0-calibration-_over_1-calibration-',\n",
       " '1-FNR',\n",
       " '1-FPR',\n",
       " '1-TNR',\n",
       " '1-TPR',\n",
       " '1-accuracy',\n",
       " '1-calibration+',\n",
       " '1-calibration-',\n",
       " 'BCR',\n",
       " 'CV',\n",
       " 'DIavgall',\n",
       " 'DIbinary',\n",
       " 'MCC',\n",
       " 'Race-FNR',\n",
       " 'Race-FNRDiff',\n",
       " 'Race-FNRRatio',\n",
       " 'Race-FPR',\n",
       " 'Race-FPRDiff',\n",
       " 'Race-FPRRatio',\n",
       " 'Race-TNR',\n",
       " 'Race-TNRDiff',\n",
       " 'Race-TNRRatio',\n",
       " 'Race-TPR',\n",
       " 'Race-TPRDiff',\n",
       " 'Race-TPRRatio',\n",
       " 'Race-accuracy',\n",
       " 'Race-accuracyDiff',\n",
       " 'Race-accuracyRatio',\n",
       " 'Race-calibration+',\n",
       " 'Race-calibration+Diff',\n",
       " 'Race-calibration+Ratio',\n",
       " 'Race-calibration-',\n",
       " 'Race-calibration-Diff',\n",
       " 'Race-calibration-Ratio',\n",
       " 'TNR',\n",
       " 'TPR',\n",
       " 'accuracy',\n",
       " 'diff:1-FNRto0-FNR',\n",
       " 'diff:1-FPRto0-FPR',\n",
       " 'diff:1-TNRto0-TNR',\n",
       " 'diff:1-TPRto0-TPR',\n",
       " 'diff:1-accuracyto0-accuracy',\n",
       " 'diff:1-calibration+to0-calibration+',\n",
       " 'diff:1-calibration-to0-calibration-']"
      ]
     },
     "execution_count": 10,
     "metadata": {},
     "output_type": "execute_result"
    }
   ],
   "source": [
    "# So many measures!\n",
    "list(ricci_Race.columns.values)"
   ]
  },
  {
   "cell_type": "markdown",
   "metadata": {},
   "source": [
    "To show a final example of what you can get out of `fairness`, we produce a simple plot of accuracy vs (binarized) disparate impact where color is used to differentiate algorithms:"
   ]
  },
  {
   "cell_type": "code",
   "execution_count": 11,
   "metadata": {},
   "outputs": [],
   "source": [
    "ricci_Race = ricci_Race[ricci_Race.algorithm.str.contains(\"LR\")]"
   ]
  },
  {
   "cell_type": "code",
   "execution_count": 12,
   "metadata": {},
   "outputs": [
    {
     "data": {
      "text/html": [
       "<div>\n",
       "<style scoped>\n",
       "    .dataframe tbody tr th:only-of-type {\n",
       "        vertical-align: middle;\n",
       "    }\n",
       "\n",
       "    .dataframe tbody tr th {\n",
       "        vertical-align: top;\n",
       "    }\n",
       "\n",
       "    .dataframe thead th {\n",
       "        text-align: right;\n",
       "    }\n",
       "</style>\n",
       "<table border=\"1\" class=\"dataframe\">\n",
       "  <thead>\n",
       "    <tr style=\"text-align: right;\">\n",
       "      <th></th>\n",
       "      <th>algorithm</th>\n",
       "      <th>params</th>\n",
       "      <th>run-id</th>\n",
       "      <th>0-FNR</th>\n",
       "      <th>0-FNR_over_1-FNR</th>\n",
       "      <th>0-FPR</th>\n",
       "      <th>0-FPR_over_1-FPR</th>\n",
       "      <th>0-TNR</th>\n",
       "      <th>0-TNR_over_1-TNR</th>\n",
       "      <th>0-TPR</th>\n",
       "      <th>...</th>\n",
       "      <th>TNR</th>\n",
       "      <th>TPR</th>\n",
       "      <th>accuracy</th>\n",
       "      <th>diff:1-FNRto0-FNR</th>\n",
       "      <th>diff:1-FPRto0-FPR</th>\n",
       "      <th>diff:1-TNRto0-TNR</th>\n",
       "      <th>diff:1-TPRto0-TPR</th>\n",
       "      <th>diff:1-accuracyto0-accuracy</th>\n",
       "      <th>diff:1-calibration+to0-calibration+</th>\n",
       "      <th>diff:1-calibration-to0-calibration-</th>\n",
       "    </tr>\n",
       "  </thead>\n",
       "  <tbody>\n",
       "    <tr>\n",
       "      <th>0</th>\n",
       "      <td>LR</td>\n",
       "      <td>NaN</td>\n",
       "      <td>0</td>\n",
       "      <td>0.0</td>\n",
       "      <td>1.0</td>\n",
       "      <td>0.000000</td>\n",
       "      <td>1.000000</td>\n",
       "      <td>1.000000</td>\n",
       "      <td>1.000000</td>\n",
       "      <td>1.0</td>\n",
       "      <td>...</td>\n",
       "      <td>1.000000</td>\n",
       "      <td>1.000000</td>\n",
       "      <td>1.000</td>\n",
       "      <td>1.000000</td>\n",
       "      <td>1.000000</td>\n",
       "      <td>1.000000</td>\n",
       "      <td>1.000000</td>\n",
       "      <td>1.000000</td>\n",
       "      <td>1.000000</td>\n",
       "      <td>1.000000</td>\n",
       "    </tr>\n",
       "    <tr>\n",
       "      <th>1</th>\n",
       "      <td>LR</td>\n",
       "      <td>NaN</td>\n",
       "      <td>1</td>\n",
       "      <td>0.0</td>\n",
       "      <td>1.0</td>\n",
       "      <td>0.000000</td>\n",
       "      <td>0.000000</td>\n",
       "      <td>1.000000</td>\n",
       "      <td>1.100000</td>\n",
       "      <td>1.0</td>\n",
       "      <td>...</td>\n",
       "      <td>0.960000</td>\n",
       "      <td>1.000000</td>\n",
       "      <td>0.975</td>\n",
       "      <td>1.000000</td>\n",
       "      <td>0.909091</td>\n",
       "      <td>1.090909</td>\n",
       "      <td>1.000000</td>\n",
       "      <td>1.043478</td>\n",
       "      <td>1.076923</td>\n",
       "      <td>1.000000</td>\n",
       "    </tr>\n",
       "    <tr>\n",
       "      <th>2</th>\n",
       "      <td>LR</td>\n",
       "      <td>NaN</td>\n",
       "      <td>2</td>\n",
       "      <td>0.0</td>\n",
       "      <td>1.0</td>\n",
       "      <td>0.000000</td>\n",
       "      <td>0.000000</td>\n",
       "      <td>1.000000</td>\n",
       "      <td>1.111111</td>\n",
       "      <td>1.0</td>\n",
       "      <td>...</td>\n",
       "      <td>0.947368</td>\n",
       "      <td>1.000000</td>\n",
       "      <td>0.975</td>\n",
       "      <td>1.000000</td>\n",
       "      <td>0.900000</td>\n",
       "      <td>1.100000</td>\n",
       "      <td>1.000000</td>\n",
       "      <td>1.037037</td>\n",
       "      <td>1.055556</td>\n",
       "      <td>1.000000</td>\n",
       "    </tr>\n",
       "    <tr>\n",
       "      <th>3</th>\n",
       "      <td>LR</td>\n",
       "      <td>NaN</td>\n",
       "      <td>3</td>\n",
       "      <td>0.0</td>\n",
       "      <td>1.0</td>\n",
       "      <td>0.000000</td>\n",
       "      <td>1.000000</td>\n",
       "      <td>1.000000</td>\n",
       "      <td>1.000000</td>\n",
       "      <td>1.0</td>\n",
       "      <td>...</td>\n",
       "      <td>1.000000</td>\n",
       "      <td>1.000000</td>\n",
       "      <td>1.000</td>\n",
       "      <td>1.000000</td>\n",
       "      <td>1.000000</td>\n",
       "      <td>1.000000</td>\n",
       "      <td>1.000000</td>\n",
       "      <td>1.000000</td>\n",
       "      <td>1.000000</td>\n",
       "      <td>1.000000</td>\n",
       "    </tr>\n",
       "    <tr>\n",
       "      <th>4</th>\n",
       "      <td>LR</td>\n",
       "      <td>NaN</td>\n",
       "      <td>4</td>\n",
       "      <td>0.0</td>\n",
       "      <td>1.0</td>\n",
       "      <td>0.000000</td>\n",
       "      <td>1.000000</td>\n",
       "      <td>1.000000</td>\n",
       "      <td>1.000000</td>\n",
       "      <td>1.0</td>\n",
       "      <td>...</td>\n",
       "      <td>1.000000</td>\n",
       "      <td>1.000000</td>\n",
       "      <td>1.000</td>\n",
       "      <td>1.000000</td>\n",
       "      <td>1.000000</td>\n",
       "      <td>1.000000</td>\n",
       "      <td>1.000000</td>\n",
       "      <td>1.000000</td>\n",
       "      <td>1.000000</td>\n",
       "      <td>1.000000</td>\n",
       "    </tr>\n",
       "    <tr>\n",
       "      <th>5</th>\n",
       "      <td>LR</td>\n",
       "      <td>NaN</td>\n",
       "      <td>5</td>\n",
       "      <td>0.0</td>\n",
       "      <td>1.0</td>\n",
       "      <td>0.000000</td>\n",
       "      <td>1.000000</td>\n",
       "      <td>1.000000</td>\n",
       "      <td>1.000000</td>\n",
       "      <td>1.0</td>\n",
       "      <td>...</td>\n",
       "      <td>1.000000</td>\n",
       "      <td>1.000000</td>\n",
       "      <td>1.000</td>\n",
       "      <td>1.000000</td>\n",
       "      <td>1.000000</td>\n",
       "      <td>1.000000</td>\n",
       "      <td>1.000000</td>\n",
       "      <td>1.000000</td>\n",
       "      <td>1.000000</td>\n",
       "      <td>1.000000</td>\n",
       "    </tr>\n",
       "    <tr>\n",
       "      <th>6</th>\n",
       "      <td>LR</td>\n",
       "      <td>NaN</td>\n",
       "      <td>6</td>\n",
       "      <td>0.0</td>\n",
       "      <td>1.0</td>\n",
       "      <td>0.000000</td>\n",
       "      <td>0.000000</td>\n",
       "      <td>1.000000</td>\n",
       "      <td>1.090909</td>\n",
       "      <td>1.0</td>\n",
       "      <td>...</td>\n",
       "      <td>0.954545</td>\n",
       "      <td>1.000000</td>\n",
       "      <td>0.975</td>\n",
       "      <td>1.000000</td>\n",
       "      <td>0.916667</td>\n",
       "      <td>1.083333</td>\n",
       "      <td>1.000000</td>\n",
       "      <td>1.040000</td>\n",
       "      <td>1.071429</td>\n",
       "      <td>1.000000</td>\n",
       "    </tr>\n",
       "    <tr>\n",
       "      <th>7</th>\n",
       "      <td>LR</td>\n",
       "      <td>NaN</td>\n",
       "      <td>7</td>\n",
       "      <td>0.0</td>\n",
       "      <td>1.0</td>\n",
       "      <td>0.000000</td>\n",
       "      <td>0.000000</td>\n",
       "      <td>1.000000</td>\n",
       "      <td>1.142857</td>\n",
       "      <td>1.0</td>\n",
       "      <td>...</td>\n",
       "      <td>0.950000</td>\n",
       "      <td>1.000000</td>\n",
       "      <td>0.975</td>\n",
       "      <td>1.000000</td>\n",
       "      <td>0.875000</td>\n",
       "      <td>1.125000</td>\n",
       "      <td>1.000000</td>\n",
       "      <td>1.043478</td>\n",
       "      <td>1.062500</td>\n",
       "      <td>1.000000</td>\n",
       "    </tr>\n",
       "    <tr>\n",
       "      <th>8</th>\n",
       "      <td>LR</td>\n",
       "      <td>NaN</td>\n",
       "      <td>8</td>\n",
       "      <td>0.0</td>\n",
       "      <td>1.0</td>\n",
       "      <td>0.000000</td>\n",
       "      <td>1.000000</td>\n",
       "      <td>1.000000</td>\n",
       "      <td>1.000000</td>\n",
       "      <td>1.0</td>\n",
       "      <td>...</td>\n",
       "      <td>1.000000</td>\n",
       "      <td>1.000000</td>\n",
       "      <td>1.000</td>\n",
       "      <td>1.000000</td>\n",
       "      <td>1.000000</td>\n",
       "      <td>1.000000</td>\n",
       "      <td>1.000000</td>\n",
       "      <td>1.000000</td>\n",
       "      <td>1.000000</td>\n",
       "      <td>1.000000</td>\n",
       "    </tr>\n",
       "    <tr>\n",
       "      <th>9</th>\n",
       "      <td>LR</td>\n",
       "      <td>NaN</td>\n",
       "      <td>9</td>\n",
       "      <td>0.0</td>\n",
       "      <td>0.0</td>\n",
       "      <td>0.000000</td>\n",
       "      <td>1.000000</td>\n",
       "      <td>1.000000</td>\n",
       "      <td>1.000000</td>\n",
       "      <td>1.0</td>\n",
       "      <td>...</td>\n",
       "      <td>1.000000</td>\n",
       "      <td>0.941176</td>\n",
       "      <td>0.975</td>\n",
       "      <td>0.909091</td>\n",
       "      <td>1.000000</td>\n",
       "      <td>1.000000</td>\n",
       "      <td>1.090909</td>\n",
       "      <td>1.050000</td>\n",
       "      <td>1.000000</td>\n",
       "      <td>0.900000</td>\n",
       "    </tr>\n",
       "    <tr>\n",
       "      <th>10</th>\n",
       "      <td>Feldman-LR</td>\n",
       "      <td>lambda=1.0</td>\n",
       "      <td>0</td>\n",
       "      <td>0.0</td>\n",
       "      <td>0.0</td>\n",
       "      <td>0.250000</td>\n",
       "      <td>0.000000</td>\n",
       "      <td>0.750000</td>\n",
       "      <td>0.750000</td>\n",
       "      <td>1.0</td>\n",
       "      <td>...</td>\n",
       "      <td>0.875000</td>\n",
       "      <td>0.625000</td>\n",
       "      <td>0.775</td>\n",
       "      <td>0.571429</td>\n",
       "      <td>1.250000</td>\n",
       "      <td>0.750000</td>\n",
       "      <td>1.428571</td>\n",
       "      <td>1.016484</td>\n",
       "      <td>0.400000</td>\n",
       "      <td>0.666667</td>\n",
       "    </tr>\n",
       "    <tr>\n",
       "      <th>11</th>\n",
       "      <td>Feldman-LR</td>\n",
       "      <td>lambda=1.0</td>\n",
       "      <td>1</td>\n",
       "      <td>0.0</td>\n",
       "      <td>0.0</td>\n",
       "      <td>0.357143</td>\n",
       "      <td>0.000000</td>\n",
       "      <td>0.642857</td>\n",
       "      <td>0.642857</td>\n",
       "      <td>1.0</td>\n",
       "      <td>...</td>\n",
       "      <td>0.800000</td>\n",
       "      <td>0.866667</td>\n",
       "      <td>0.825</td>\n",
       "      <td>0.833333</td>\n",
       "      <td>1.357143</td>\n",
       "      <td>0.642857</td>\n",
       "      <td>1.166667</td>\n",
       "      <td>0.792839</td>\n",
       "      <td>0.375000</td>\n",
       "      <td>0.846154</td>\n",
       "    </tr>\n",
       "    <tr>\n",
       "      <th>12</th>\n",
       "      <td>Feldman-LR</td>\n",
       "      <td>lambda=1.0</td>\n",
       "      <td>2</td>\n",
       "      <td>0.0</td>\n",
       "      <td>0.0</td>\n",
       "      <td>0.444444</td>\n",
       "      <td>0.000000</td>\n",
       "      <td>0.555556</td>\n",
       "      <td>0.555556</td>\n",
       "      <td>1.0</td>\n",
       "      <td>...</td>\n",
       "      <td>0.789474</td>\n",
       "      <td>0.761905</td>\n",
       "      <td>0.775</td>\n",
       "      <td>0.705882</td>\n",
       "      <td>1.444444</td>\n",
       "      <td>0.555556</td>\n",
       "      <td>1.294118</td>\n",
       "      <td>0.877493</td>\n",
       "      <td>0.500000</td>\n",
       "      <td>0.666667</td>\n",
       "    </tr>\n",
       "    <tr>\n",
       "      <th>13</th>\n",
       "      <td>Feldman-LR</td>\n",
       "      <td>lambda=1.0</td>\n",
       "      <td>3</td>\n",
       "      <td>0.0</td>\n",
       "      <td>0.0</td>\n",
       "      <td>0.333333</td>\n",
       "      <td>1.333333</td>\n",
       "      <td>0.666667</td>\n",
       "      <td>0.888889</td>\n",
       "      <td>1.0</td>\n",
       "      <td>...</td>\n",
       "      <td>0.714286</td>\n",
       "      <td>0.578947</td>\n",
       "      <td>0.650</td>\n",
       "      <td>0.428571</td>\n",
       "      <td>1.083333</td>\n",
       "      <td>0.916667</td>\n",
       "      <td>1.571429</td>\n",
       "      <td>1.208791</td>\n",
       "      <td>0.958333</td>\n",
       "      <td>0.529412</td>\n",
       "    </tr>\n",
       "    <tr>\n",
       "      <th>14</th>\n",
       "      <td>Feldman-LR</td>\n",
       "      <td>lambda=1.0</td>\n",
       "      <td>4</td>\n",
       "      <td>0.0</td>\n",
       "      <td>0.0</td>\n",
       "      <td>0.500000</td>\n",
       "      <td>5.000000</td>\n",
       "      <td>0.500000</td>\n",
       "      <td>0.555556</td>\n",
       "      <td>1.0</td>\n",
       "      <td>...</td>\n",
       "      <td>0.722222</td>\n",
       "      <td>0.954545</td>\n",
       "      <td>0.850</td>\n",
       "      <td>0.937500</td>\n",
       "      <td>1.400000</td>\n",
       "      <td>0.600000</td>\n",
       "      <td>1.062500</td>\n",
       "      <td>0.791209</td>\n",
       "      <td>0.662500</td>\n",
       "      <td>0.900000</td>\n",
       "    </tr>\n",
       "    <tr>\n",
       "      <th>15</th>\n",
       "      <td>Feldman-LR</td>\n",
       "      <td>lambda=1.0</td>\n",
       "      <td>5</td>\n",
       "      <td>0.0</td>\n",
       "      <td>0.0</td>\n",
       "      <td>0.083333</td>\n",
       "      <td>0.000000</td>\n",
       "      <td>0.916667</td>\n",
       "      <td>0.916667</td>\n",
       "      <td>1.0</td>\n",
       "      <td>...</td>\n",
       "      <td>0.952381</td>\n",
       "      <td>0.631579</td>\n",
       "      <td>0.800</td>\n",
       "      <td>0.533333</td>\n",
       "      <td>1.083333</td>\n",
       "      <td>0.916667</td>\n",
       "      <td>1.466667</td>\n",
       "      <td>1.229167</td>\n",
       "      <td>0.800000</td>\n",
       "      <td>0.562500</td>\n",
       "    </tr>\n",
       "    <tr>\n",
       "      <th>16</th>\n",
       "      <td>Feldman-LR</td>\n",
       "      <td>lambda=1.0</td>\n",
       "      <td>6</td>\n",
       "      <td>0.0</td>\n",
       "      <td>1.0</td>\n",
       "      <td>0.400000</td>\n",
       "      <td>2.400000</td>\n",
       "      <td>0.600000</td>\n",
       "      <td>0.720000</td>\n",
       "      <td>1.0</td>\n",
       "      <td>...</td>\n",
       "      <td>0.727273</td>\n",
       "      <td>1.000000</td>\n",
       "      <td>0.850</td>\n",
       "      <td>1.000000</td>\n",
       "      <td>1.233333</td>\n",
       "      <td>0.766667</td>\n",
       "      <td>1.000000</td>\n",
       "      <td>0.813333</td>\n",
       "      <td>0.688889</td>\n",
       "      <td>1.000000</td>\n",
       "    </tr>\n",
       "    <tr>\n",
       "      <th>17</th>\n",
       "      <td>Feldman-LR</td>\n",
       "      <td>lambda=1.0</td>\n",
       "      <td>7</td>\n",
       "      <td>0.0</td>\n",
       "      <td>0.0</td>\n",
       "      <td>0.250000</td>\n",
       "      <td>1.000000</td>\n",
       "      <td>0.750000</td>\n",
       "      <td>1.000000</td>\n",
       "      <td>1.0</td>\n",
       "      <td>...</td>\n",
       "      <td>0.750000</td>\n",
       "      <td>0.650000</td>\n",
       "      <td>0.700</td>\n",
       "      <td>0.533333</td>\n",
       "      <td>1.000000</td>\n",
       "      <td>1.000000</td>\n",
       "      <td>1.466667</td>\n",
       "      <td>1.214834</td>\n",
       "      <td>0.825000</td>\n",
       "      <td>0.461538</td>\n",
       "    </tr>\n",
       "    <tr>\n",
       "      <th>18</th>\n",
       "      <td>Feldman-LR</td>\n",
       "      <td>lambda=1.0</td>\n",
       "      <td>8</td>\n",
       "      <td>0.0</td>\n",
       "      <td>0.0</td>\n",
       "      <td>0.153846</td>\n",
       "      <td>0.000000</td>\n",
       "      <td>0.846154</td>\n",
       "      <td>0.846154</td>\n",
       "      <td>1.0</td>\n",
       "      <td>...</td>\n",
       "      <td>0.904762</td>\n",
       "      <td>0.842105</td>\n",
       "      <td>0.875</td>\n",
       "      <td>0.769231</td>\n",
       "      <td>1.153846</td>\n",
       "      <td>0.846154</td>\n",
       "      <td>1.230769</td>\n",
       "      <td>1.037594</td>\n",
       "      <td>0.750000</td>\n",
       "      <td>0.727273</td>\n",
       "    </tr>\n",
       "    <tr>\n",
       "      <th>19</th>\n",
       "      <td>Feldman-LR</td>\n",
       "      <td>lambda=1.0</td>\n",
       "      <td>9</td>\n",
       "      <td>0.0</td>\n",
       "      <td>0.0</td>\n",
       "      <td>0.214286</td>\n",
       "      <td>0.642857</td>\n",
       "      <td>0.785714</td>\n",
       "      <td>1.178571</td>\n",
       "      <td>1.0</td>\n",
       "      <td>...</td>\n",
       "      <td>0.739130</td>\n",
       "      <td>0.705882</td>\n",
       "      <td>0.725</td>\n",
       "      <td>0.545455</td>\n",
       "      <td>0.880952</td>\n",
       "      <td>1.119048</td>\n",
       "      <td>1.454545</td>\n",
       "      <td>1.250000</td>\n",
       "      <td>1.000000</td>\n",
       "      <td>0.545455</td>\n",
       "    </tr>\n",
       "  </tbody>\n",
       "</table>\n",
       "<p>20 rows × 60 columns</p>\n",
       "</div>"
      ],
      "text/plain": [
       "     algorithm      params  run-id  0-FNR  0-FNR_over_1-FNR     0-FPR  \\\n",
       "0           LR         NaN       0    0.0               1.0  0.000000   \n",
       "1           LR         NaN       1    0.0               1.0  0.000000   \n",
       "2           LR         NaN       2    0.0               1.0  0.000000   \n",
       "3           LR         NaN       3    0.0               1.0  0.000000   \n",
       "4           LR         NaN       4    0.0               1.0  0.000000   \n",
       "5           LR         NaN       5    0.0               1.0  0.000000   \n",
       "6           LR         NaN       6    0.0               1.0  0.000000   \n",
       "7           LR         NaN       7    0.0               1.0  0.000000   \n",
       "8           LR         NaN       8    0.0               1.0  0.000000   \n",
       "9           LR         NaN       9    0.0               0.0  0.000000   \n",
       "10  Feldman-LR  lambda=1.0       0    0.0               0.0  0.250000   \n",
       "11  Feldman-LR  lambda=1.0       1    0.0               0.0  0.357143   \n",
       "12  Feldman-LR  lambda=1.0       2    0.0               0.0  0.444444   \n",
       "13  Feldman-LR  lambda=1.0       3    0.0               0.0  0.333333   \n",
       "14  Feldman-LR  lambda=1.0       4    0.0               0.0  0.500000   \n",
       "15  Feldman-LR  lambda=1.0       5    0.0               0.0  0.083333   \n",
       "16  Feldman-LR  lambda=1.0       6    0.0               1.0  0.400000   \n",
       "17  Feldman-LR  lambda=1.0       7    0.0               0.0  0.250000   \n",
       "18  Feldman-LR  lambda=1.0       8    0.0               0.0  0.153846   \n",
       "19  Feldman-LR  lambda=1.0       9    0.0               0.0  0.214286   \n",
       "\n",
       "    0-FPR_over_1-FPR     0-TNR  0-TNR_over_1-TNR  0-TPR  ...       TNR  \\\n",
       "0           1.000000  1.000000          1.000000    1.0  ...  1.000000   \n",
       "1           0.000000  1.000000          1.100000    1.0  ...  0.960000   \n",
       "2           0.000000  1.000000          1.111111    1.0  ...  0.947368   \n",
       "3           1.000000  1.000000          1.000000    1.0  ...  1.000000   \n",
       "4           1.000000  1.000000          1.000000    1.0  ...  1.000000   \n",
       "5           1.000000  1.000000          1.000000    1.0  ...  1.000000   \n",
       "6           0.000000  1.000000          1.090909    1.0  ...  0.954545   \n",
       "7           0.000000  1.000000          1.142857    1.0  ...  0.950000   \n",
       "8           1.000000  1.000000          1.000000    1.0  ...  1.000000   \n",
       "9           1.000000  1.000000          1.000000    1.0  ...  1.000000   \n",
       "10          0.000000  0.750000          0.750000    1.0  ...  0.875000   \n",
       "11          0.000000  0.642857          0.642857    1.0  ...  0.800000   \n",
       "12          0.000000  0.555556          0.555556    1.0  ...  0.789474   \n",
       "13          1.333333  0.666667          0.888889    1.0  ...  0.714286   \n",
       "14          5.000000  0.500000          0.555556    1.0  ...  0.722222   \n",
       "15          0.000000  0.916667          0.916667    1.0  ...  0.952381   \n",
       "16          2.400000  0.600000          0.720000    1.0  ...  0.727273   \n",
       "17          1.000000  0.750000          1.000000    1.0  ...  0.750000   \n",
       "18          0.000000  0.846154          0.846154    1.0  ...  0.904762   \n",
       "19          0.642857  0.785714          1.178571    1.0  ...  0.739130   \n",
       "\n",
       "         TPR  accuracy  diff:1-FNRto0-FNR  diff:1-FPRto0-FPR  \\\n",
       "0   1.000000     1.000           1.000000           1.000000   \n",
       "1   1.000000     0.975           1.000000           0.909091   \n",
       "2   1.000000     0.975           1.000000           0.900000   \n",
       "3   1.000000     1.000           1.000000           1.000000   \n",
       "4   1.000000     1.000           1.000000           1.000000   \n",
       "5   1.000000     1.000           1.000000           1.000000   \n",
       "6   1.000000     0.975           1.000000           0.916667   \n",
       "7   1.000000     0.975           1.000000           0.875000   \n",
       "8   1.000000     1.000           1.000000           1.000000   \n",
       "9   0.941176     0.975           0.909091           1.000000   \n",
       "10  0.625000     0.775           0.571429           1.250000   \n",
       "11  0.866667     0.825           0.833333           1.357143   \n",
       "12  0.761905     0.775           0.705882           1.444444   \n",
       "13  0.578947     0.650           0.428571           1.083333   \n",
       "14  0.954545     0.850           0.937500           1.400000   \n",
       "15  0.631579     0.800           0.533333           1.083333   \n",
       "16  1.000000     0.850           1.000000           1.233333   \n",
       "17  0.650000     0.700           0.533333           1.000000   \n",
       "18  0.842105     0.875           0.769231           1.153846   \n",
       "19  0.705882     0.725           0.545455           0.880952   \n",
       "\n",
       "    diff:1-TNRto0-TNR  diff:1-TPRto0-TPR  diff:1-accuracyto0-accuracy  \\\n",
       "0            1.000000           1.000000                     1.000000   \n",
       "1            1.090909           1.000000                     1.043478   \n",
       "2            1.100000           1.000000                     1.037037   \n",
       "3            1.000000           1.000000                     1.000000   \n",
       "4            1.000000           1.000000                     1.000000   \n",
       "5            1.000000           1.000000                     1.000000   \n",
       "6            1.083333           1.000000                     1.040000   \n",
       "7            1.125000           1.000000                     1.043478   \n",
       "8            1.000000           1.000000                     1.000000   \n",
       "9            1.000000           1.090909                     1.050000   \n",
       "10           0.750000           1.428571                     1.016484   \n",
       "11           0.642857           1.166667                     0.792839   \n",
       "12           0.555556           1.294118                     0.877493   \n",
       "13           0.916667           1.571429                     1.208791   \n",
       "14           0.600000           1.062500                     0.791209   \n",
       "15           0.916667           1.466667                     1.229167   \n",
       "16           0.766667           1.000000                     0.813333   \n",
       "17           1.000000           1.466667                     1.214834   \n",
       "18           0.846154           1.230769                     1.037594   \n",
       "19           1.119048           1.454545                     1.250000   \n",
       "\n",
       "    diff:1-calibration+to0-calibration+  diff:1-calibration-to0-calibration-  \n",
       "0                              1.000000                             1.000000  \n",
       "1                              1.076923                             1.000000  \n",
       "2                              1.055556                             1.000000  \n",
       "3                              1.000000                             1.000000  \n",
       "4                              1.000000                             1.000000  \n",
       "5                              1.000000                             1.000000  \n",
       "6                              1.071429                             1.000000  \n",
       "7                              1.062500                             1.000000  \n",
       "8                              1.000000                             1.000000  \n",
       "9                              1.000000                             0.900000  \n",
       "10                             0.400000                             0.666667  \n",
       "11                             0.375000                             0.846154  \n",
       "12                             0.500000                             0.666667  \n",
       "13                             0.958333                             0.529412  \n",
       "14                             0.662500                             0.900000  \n",
       "15                             0.800000                             0.562500  \n",
       "16                             0.688889                             1.000000  \n",
       "17                             0.825000                             0.461538  \n",
       "18                             0.750000                             0.727273  \n",
       "19                             1.000000                             0.545455  \n",
       "\n",
       "[20 rows x 60 columns]"
      ]
     },
     "execution_count": 12,
     "metadata": {},
     "output_type": "execute_result"
    }
   ],
   "source": [
    "ricci_Race"
   ]
  },
  {
   "cell_type": "code",
   "execution_count": 13,
   "metadata": {},
   "outputs": [
    {
     "data": {
      "text/html": [
       "\n",
       "<div id=\"altair-viz-12c490f4478144ab9cbcbc48e41fb6dd\"></div>\n",
       "<script type=\"text/javascript\">\n",
       "  (function(spec, embedOpt){\n",
       "    let outputDiv = document.currentScript.previousElementSibling;\n",
       "    if (outputDiv.id !== \"altair-viz-12c490f4478144ab9cbcbc48e41fb6dd\") {\n",
       "      outputDiv = document.getElementById(\"altair-viz-12c490f4478144ab9cbcbc48e41fb6dd\");\n",
       "    }\n",
       "    const paths = {\n",
       "      \"vega\": \"https://cdn.jsdelivr.net/npm//vega@5?noext\",\n",
       "      \"vega-lib\": \"https://cdn.jsdelivr.net/npm//vega-lib?noext\",\n",
       "      \"vega-lite\": \"https://cdn.jsdelivr.net/npm//vega-lite@4.8.1?noext\",\n",
       "      \"vega-embed\": \"https://cdn.jsdelivr.net/npm//vega-embed@6?noext\",\n",
       "    };\n",
       "\n",
       "    function loadScript(lib) {\n",
       "      return new Promise(function(resolve, reject) {\n",
       "        var s = document.createElement('script');\n",
       "        s.src = paths[lib];\n",
       "        s.async = true;\n",
       "        s.onload = () => resolve(paths[lib]);\n",
       "        s.onerror = () => reject(`Error loading script: ${paths[lib]}`);\n",
       "        document.getElementsByTagName(\"head\")[0].appendChild(s);\n",
       "      });\n",
       "    }\n",
       "\n",
       "    function showError(err) {\n",
       "      outputDiv.innerHTML = `<div class=\"error\" style=\"color:red;\">${err}</div>`;\n",
       "      throw err;\n",
       "    }\n",
       "\n",
       "    function displayChart(vegaEmbed) {\n",
       "      vegaEmbed(outputDiv, spec, embedOpt)\n",
       "        .catch(err => showError(`Javascript Error: ${err.message}<br>This usually means there's a typo in your chart specification. See the javascript console for the full traceback.`));\n",
       "    }\n",
       "\n",
       "    if(typeof define === \"function\" && define.amd) {\n",
       "      requirejs.config({paths});\n",
       "      require([\"vega-embed\"], displayChart, err => showError(`Error loading script: ${err.message}`));\n",
       "    } else if (typeof vegaEmbed === \"function\") {\n",
       "      displayChart(vegaEmbed);\n",
       "    } else {\n",
       "      loadScript(\"vega\")\n",
       "        .then(() => loadScript(\"vega-lite\"))\n",
       "        .then(() => loadScript(\"vega-embed\"))\n",
       "        .catch(showError)\n",
       "        .then(() => displayChart(vegaEmbed));\n",
       "    }\n",
       "  })({\"config\": {\"view\": {\"continuousWidth\": 400, \"continuousHeight\": 300}}, \"data\": {\"name\": \"data-4396e66eb69b2f066b8667cf74d37a57\"}, \"mark\": \"point\", \"encoding\": {\"color\": {\"type\": \"nominal\", \"field\": \"algorithm\"}, \"x\": {\"type\": \"quantitative\", \"field\": \"accuracy\"}, \"y\": {\"type\": \"quantitative\", \"field\": \"DIbinary\"}}, \"$schema\": \"https://vega.github.io/schema/vega-lite/v4.8.1.json\", \"datasets\": {\"data-4396e66eb69b2f066b8667cf74d37a57\": [{\"algorithm\": \"LR\", \"params\": null, \"run-id\": 0, \"0-FNR\": 0.0, \"0-FNR_over_1-FNR\": 1.0, \"0-FPR\": 0.0, \"0-FPR_over_1-FPR\": 1.0, \"0-TNR\": 1.0, \"0-TNR_over_1-TNR\": 1.0, \"0-TPR\": 1.0, \"0-TPR_over_1-TPR\": 1.0, \"0-accuracy\": 1.0, \"0-accuracy_over_1-accuracy\": 1.0, \"0-calibration+\": 1.0, \"0-calibration+_over_1-calibration+\": 1.0, \"0-calibration-\": 0.0, \"0-calibration-_over_1-calibration-\": 1.0, \"1-FNR\": 0.0, \"1-FPR\": 0.0, \"1-TNR\": 1.0, \"1-TPR\": 1.0, \"1-accuracy\": 1.0, \"1-calibration+\": 1.0, \"1-calibration-\": 0.0, \"BCR\": 1.0, \"CV\": 0.6043956043956045, \"DIavgall\": 0.2653061224489796, \"DIbinary\": 0.2653061224489796, \"MCC\": 1.0, \"Race-FNR\": 1.0, \"Race-FNRDiff\": 1.0, \"Race-FNRRatio\": 1.0, \"Race-FPR\": 1.0, \"Race-FPRDiff\": 1.0, \"Race-FPRRatio\": 1.0, \"Race-TNR\": 1.0, \"Race-TNRDiff\": 1.0, \"Race-TNRRatio\": 1.0, \"Race-TPR\": 1.0, \"Race-TPRDiff\": 1.0, \"Race-TPRRatio\": 1.0, \"Race-accuracy\": 1.0, \"Race-accuracyDiff\": 1.0, \"Race-accuracyRatio\": 1.0, \"Race-calibration+\": 1.0, \"Race-calibration+Diff\": 1.0, \"Race-calibration+Ratio\": 1.0, \"Race-calibration-\": 1.0, \"Race-calibration-Diff\": 1.0, \"Race-calibration-Ratio\": 1.0, \"TNR\": 1.0, \"TPR\": 1.0, \"accuracy\": 1.0, \"diff:1-FNRto0-FNR\": 1.0, \"diff:1-FPRto0-FPR\": 1.0, \"diff:1-TNRto0-TNR\": 1.0, \"diff:1-TPRto0-TPR\": 1.0, \"diff:1-accuracyto0-accuracy\": 1.0, \"diff:1-calibration+to0-calibration+\": 1.0, \"diff:1-calibration-to0-calibration-\": 1.0}, {\"algorithm\": \"LR\", \"params\": null, \"run-id\": 1, \"0-FNR\": 0.0, \"0-FNR_over_1-FNR\": 1.0, \"0-FPR\": 0.0, \"0-FPR_over_1-FPR\": 0.0, \"0-TNR\": 1.0, \"0-TNR_over_1-TNR\": 1.1, \"0-TPR\": 1.0, \"0-TPR_over_1-TPR\": 1.0, \"0-accuracy\": 1.0, \"0-accuracy_over_1-accuracy\": 1.0454545454545454, \"0-calibration+\": 1.0, \"0-calibration+_over_1-calibration+\": 1.0833333333333333, \"0-calibration-\": 0.0, \"0-calibration-_over_1-calibration-\": 1.0, \"1-FNR\": 0.0, \"1-FPR\": 0.09090909090909094, \"1-TNR\": 0.9090909090909092, \"1-TPR\": 1.0, \"1-accuracy\": 0.9565217391304348, \"1-calibration+\": 0.9230769230769232, \"1-calibration-\": 0.0, \"BCR\": 0.98, \"CV\": 0.6112531969309464, \"DIavgall\": 0.3122171945701358, \"DIbinary\": 0.3122171945701358, \"MCC\": 0.948683298050514, \"Race-FNR\": 1.0, \"Race-FNRDiff\": 1.0, \"Race-FNRRatio\": 1.0, \"Race-FPR\": 0.04545454545454547, \"Race-FPRDiff\": 0.9090909090909092, \"Race-FPRRatio\": 1.0, \"Race-TNR\": 0.9545454545454546, \"Race-TNRDiff\": 1.0909090909090908, \"Race-TNRRatio\": 1.1, \"Race-TPR\": 1.0, \"Race-TPRDiff\": 1.0, \"Race-TPRRatio\": 1.0, \"Race-accuracy\": 0.9782608695652174, \"Race-accuracyDiff\": 1.0434782608695652, \"Race-accuracyRatio\": 1.0454545454545454, \"Race-calibration+\": 0.9615384615384616, \"Race-calibration+Diff\": 1.0769230769230769, \"Race-calibration+Ratio\": 1.0833333333333333, \"Race-calibration-\": 1.0, \"Race-calibration-Diff\": 1.0, \"Race-calibration-Ratio\": 1.0, \"TNR\": 0.96, \"TPR\": 1.0, \"accuracy\": 0.975, \"diff:1-FNRto0-FNR\": 1.0, \"diff:1-FPRto0-FPR\": 0.9090909090909092, \"diff:1-TNRto0-TNR\": 1.0909090909090908, \"diff:1-TPRto0-TPR\": 1.0, \"diff:1-accuracyto0-accuracy\": 1.0434782608695652, \"diff:1-calibration+to0-calibration+\": 1.0769230769230769, \"diff:1-calibration-to0-calibration-\": 1.0}, {\"algorithm\": \"LR\", \"params\": null, \"run-id\": 2, \"0-FNR\": 0.0, \"0-FNR_over_1-FNR\": 1.0, \"0-FPR\": 0.0, \"0-FPR_over_1-FPR\": 0.0, \"0-TNR\": 1.0, \"0-TNR_over_1-TNR\": 1.1111111111111112, \"0-TPR\": 1.0, \"0-TPR_over_1-TPR\": 1.0, \"0-accuracy\": 1.0, \"0-accuracy_over_1-accuracy\": 1.0384615384615383, \"0-calibration+\": 1.0, \"0-calibration+_over_1-calibration+\": 1.0588235294117647, \"0-calibration-\": 0.0, \"0-calibration-_over_1-calibration-\": 1.0, \"1-FNR\": 0.0, \"1-FPR\": 0.09999999999999998, \"1-TNR\": 0.9, \"1-TPR\": 1.0, \"1-accuracy\": 0.9629629629629628, \"1-calibration+\": 0.9444444444444444, \"1-calibration-\": 0.0, \"BCR\": 0.9736842105263156, \"CV\": 0.6410256410256411, \"DIavgall\": 0.4615384615384616, \"DIbinary\": 0.4615384615384616, \"MCC\": 0.9509501669886249, \"Race-FNR\": 1.0, \"Race-FNRDiff\": 1.0, \"Race-FNRRatio\": 1.0, \"Race-FPR\": 0.04999999999999999, \"Race-FPRDiff\": 0.9, \"Race-FPRRatio\": 1.0, \"Race-TNR\": 0.95, \"Race-TNRDiff\": 1.1, \"Race-TNRRatio\": 1.1111111111111112, \"Race-TPR\": 1.0, \"Race-TPRDiff\": 1.0, \"Race-TPRRatio\": 1.0, \"Race-accuracy\": 0.9814814814814814, \"Race-accuracyDiff\": 1.0370370370370372, \"Race-accuracyRatio\": 1.0384615384615383, \"Race-calibration+\": 0.9722222222222222, \"Race-calibration+Diff\": 1.0555555555555556, \"Race-calibration+Ratio\": 1.0588235294117647, \"Race-calibration-\": 1.0, \"Race-calibration-Diff\": 1.0, \"Race-calibration-Ratio\": 1.0, \"TNR\": 0.9473684210526316, \"TPR\": 1.0, \"accuracy\": 0.975, \"diff:1-FNRto0-FNR\": 1.0, \"diff:1-FPRto0-FPR\": 0.9, \"diff:1-TNRto0-TNR\": 1.1, \"diff:1-TPRto0-TPR\": 1.0, \"diff:1-accuracyto0-accuracy\": 1.0370370370370372, \"diff:1-calibration+to0-calibration+\": 1.0555555555555556, \"diff:1-calibration-to0-calibration-\": 1.0}, {\"algorithm\": \"LR\", \"params\": null, \"run-id\": 3, \"0-FNR\": 0.0, \"0-FNR_over_1-FNR\": 1.0, \"0-FPR\": 0.0, \"0-FPR_over_1-FPR\": 1.0, \"0-TNR\": 1.0, \"0-TNR_over_1-TNR\": 1.0, \"0-TPR\": 1.0, \"0-TPR_over_1-TPR\": 1.0, \"0-accuracy\": 1.0, \"0-accuracy_over_1-accuracy\": 1.0, \"0-calibration+\": 1.0, \"0-calibration+_over_1-calibration+\": 1.0, \"0-calibration-\": 0.0, \"0-calibration-_over_1-calibration-\": 1.0, \"1-FNR\": 0.0, \"1-FPR\": 0.0, \"1-TNR\": 1.0, \"1-TPR\": 1.0, \"1-accuracy\": 1.0, \"1-calibration+\": 1.0, \"1-calibration-\": 0.0, \"BCR\": 1.0, \"CV\": 0.8186813186813187, \"DIavgall\": 0.6632653061224489, \"DIbinary\": 0.6632653061224489, \"MCC\": 1.0, \"Race-FNR\": 1.0, \"Race-FNRDiff\": 1.0, \"Race-FNRRatio\": 1.0, \"Race-FPR\": 1.0, \"Race-FPRDiff\": 1.0, \"Race-FPRRatio\": 1.0, \"Race-TNR\": 1.0, \"Race-TNRDiff\": 1.0, \"Race-TNRRatio\": 1.0, \"Race-TPR\": 1.0, \"Race-TPRDiff\": 1.0, \"Race-TPRRatio\": 1.0, \"Race-accuracy\": 1.0, \"Race-accuracyDiff\": 1.0, \"Race-accuracyRatio\": 1.0, \"Race-calibration+\": 1.0, \"Race-calibration+Diff\": 1.0, \"Race-calibration+Ratio\": 1.0, \"Race-calibration-\": 1.0, \"Race-calibration-Diff\": 1.0, \"Race-calibration-Ratio\": 1.0, \"TNR\": 1.0, \"TPR\": 1.0, \"accuracy\": 1.0, \"diff:1-FNRto0-FNR\": 1.0, \"diff:1-FPRto0-FPR\": 1.0, \"diff:1-TNRto0-TNR\": 1.0, \"diff:1-TPRto0-TPR\": 1.0, \"diff:1-accuracyto0-accuracy\": 1.0, \"diff:1-calibration+to0-calibration+\": 1.0, \"diff:1-calibration-to0-calibration-\": 1.0}, {\"algorithm\": \"LR\", \"params\": null, \"run-id\": 4, \"0-FNR\": 0.0, \"0-FNR_over_1-FNR\": 1.0, \"0-FPR\": 0.0, \"0-FPR_over_1-FPR\": 1.0, \"0-TNR\": 1.0, \"0-TNR_over_1-TNR\": 1.0, \"0-TPR\": 1.0, \"0-TPR_over_1-TPR\": 1.0, \"0-accuracy\": 1.0, \"0-accuracy_over_1-accuracy\": 1.0, \"0-calibration+\": 1.0, \"0-calibration+_over_1-calibration+\": 1.0, \"0-calibration-\": 0.0, \"0-calibration-_over_1-calibration-\": 1.0, \"1-FNR\": 0.0, \"1-FPR\": 0.0, \"1-TNR\": 1.0, \"1-TPR\": 1.0, \"1-accuracy\": 1.0, \"1-calibration+\": 1.0, \"1-calibration-\": 0.0, \"BCR\": 1.0, \"CV\": 0.8131868131868132, \"DIavgall\": 0.6964285714285714, \"DIbinary\": 0.6964285714285714, \"MCC\": 1.0, \"Race-FNR\": 1.0, \"Race-FNRDiff\": 1.0, \"Race-FNRRatio\": 1.0, \"Race-FPR\": 1.0, \"Race-FPRDiff\": 1.0, \"Race-FPRRatio\": 1.0, \"Race-TNR\": 1.0, \"Race-TNRDiff\": 1.0, \"Race-TNRRatio\": 1.0, \"Race-TPR\": 1.0, \"Race-TPRDiff\": 1.0, \"Race-TPRRatio\": 1.0, \"Race-accuracy\": 1.0, \"Race-accuracyDiff\": 1.0, \"Race-accuracyRatio\": 1.0, \"Race-calibration+\": 1.0, \"Race-calibration+Diff\": 1.0, \"Race-calibration+Ratio\": 1.0, \"Race-calibration-\": 1.0, \"Race-calibration-Diff\": 1.0, \"Race-calibration-Ratio\": 1.0, \"TNR\": 1.0, \"TPR\": 1.0, \"accuracy\": 1.0, \"diff:1-FNRto0-FNR\": 1.0, \"diff:1-FPRto0-FPR\": 1.0, \"diff:1-TNRto0-TNR\": 1.0, \"diff:1-TPRto0-TPR\": 1.0, \"diff:1-accuracyto0-accuracy\": 1.0, \"diff:1-calibration+to0-calibration+\": 1.0, \"diff:1-calibration-to0-calibration-\": 1.0}, {\"algorithm\": \"LR\", \"params\": null, \"run-id\": 5, \"0-FNR\": 0.0, \"0-FNR_over_1-FNR\": 1.0, \"0-FPR\": 0.0, \"0-FPR_over_1-FPR\": 1.0, \"0-TNR\": 1.0, \"0-TNR_over_1-TNR\": 1.0, \"0-TPR\": 1.0, \"0-TPR_over_1-TPR\": 1.0, \"0-accuracy\": 1.0, \"0-accuracy_over_1-accuracy\": 1.0, \"0-calibration+\": 1.0, \"0-calibration+_over_1-calibration+\": 1.0, \"0-calibration-\": 0.0, \"0-calibration-_over_1-calibration-\": 1.0, \"1-FNR\": 0.0, \"1-FPR\": 0.0, \"1-TNR\": 1.0, \"1-TPR\": 1.0, \"1-accuracy\": 1.0, \"1-calibration+\": 1.0, \"1-calibration-\": 0.0, \"BCR\": 1.0, \"CV\": 0.625, \"DIavgall\": 0.4, \"DIbinary\": 0.4, \"MCC\": 1.0, \"Race-FNR\": 1.0, \"Race-FNRDiff\": 1.0, \"Race-FNRRatio\": 1.0, \"Race-FPR\": 1.0, \"Race-FPRDiff\": 1.0, \"Race-FPRRatio\": 1.0, \"Race-TNR\": 1.0, \"Race-TNRDiff\": 1.0, \"Race-TNRRatio\": 1.0, \"Race-TPR\": 1.0, \"Race-TPRDiff\": 1.0, \"Race-TPRRatio\": 1.0, \"Race-accuracy\": 1.0, \"Race-accuracyDiff\": 1.0, \"Race-accuracyRatio\": 1.0, \"Race-calibration+\": 1.0, \"Race-calibration+Diff\": 1.0, \"Race-calibration+Ratio\": 1.0, \"Race-calibration-\": 1.0, \"Race-calibration-Diff\": 1.0, \"Race-calibration-Ratio\": 1.0, \"TNR\": 1.0, \"TPR\": 1.0, \"accuracy\": 1.0, \"diff:1-FNRto0-FNR\": 1.0, \"diff:1-FPRto0-FPR\": 1.0, \"diff:1-TNRto0-TNR\": 1.0, \"diff:1-TPRto0-TPR\": 1.0, \"diff:1-accuracyto0-accuracy\": 1.0, \"diff:1-calibration+to0-calibration+\": 1.0, \"diff:1-calibration-to0-calibration-\": 1.0}, {\"algorithm\": \"LR\", \"params\": null, \"run-id\": 6, \"0-FNR\": 0.0, \"0-FNR_over_1-FNR\": 1.0, \"0-FPR\": 0.0, \"0-FPR_over_1-FPR\": 0.0, \"0-TNR\": 1.0, \"0-TNR_over_1-TNR\": 1.0909090909090908, \"0-TPR\": 1.0, \"0-TPR_over_1-TPR\": 1.0, \"0-accuracy\": 1.0, \"0-accuracy_over_1-accuracy\": 1.0416666666666667, \"0-calibration+\": 1.0, \"0-calibration+_over_1-calibration+\": 1.0769230769230769, \"0-calibration-\": 0.0, \"0-calibration-_over_1-calibration-\": 1.0, \"1-FNR\": 0.0, \"1-FPR\": 0.08333333333333337, \"1-TNR\": 0.9166666666666666, \"1-TPR\": 1.0, \"1-accuracy\": 0.96, \"1-calibration+\": 0.9285714285714286, \"1-calibration-\": 0.0, \"BCR\": 0.9772727272727272, \"CV\": 0.7733333333333332, \"DIavgall\": 0.5952380952380951, \"DIbinary\": 0.5952380952380951, \"MCC\": 0.9509501669886249, \"Race-FNR\": 1.0, \"Race-FNRDiff\": 1.0, \"Race-FNRRatio\": 1.0, \"Race-FPR\": 0.041666666666666685, \"Race-FPRDiff\": 0.9166666666666666, \"Race-FPRRatio\": 1.0, \"Race-TNR\": 0.9583333333333331, \"Race-TNRDiff\": 1.0833333333333337, \"Race-TNRRatio\": 1.0909090909090908, \"Race-TPR\": 1.0, \"Race-TPRDiff\": 1.0, \"Race-TPRRatio\": 1.0, \"Race-accuracy\": 0.98, \"Race-accuracyDiff\": 1.04, \"Race-accuracyRatio\": 1.0416666666666667, \"Race-calibration+\": 0.9642857142857144, \"Race-calibration+Diff\": 1.0714285714285714, \"Race-calibration+Ratio\": 1.0769230769230769, \"Race-calibration-\": 1.0, \"Race-calibration-Diff\": 1.0, \"Race-calibration-Ratio\": 1.0, \"TNR\": 0.9545454545454546, \"TPR\": 1.0, \"accuracy\": 0.975, \"diff:1-FNRto0-FNR\": 1.0, \"diff:1-FPRto0-FPR\": 0.9166666666666666, \"diff:1-TNRto0-TNR\": 1.0833333333333337, \"diff:1-TPRto0-TPR\": 1.0, \"diff:1-accuracyto0-accuracy\": 1.04, \"diff:1-calibration+to0-calibration+\": 1.0714285714285714, \"diff:1-calibration-to0-calibration-\": 1.0}, {\"algorithm\": \"LR\", \"params\": null, \"run-id\": 7, \"0-FNR\": 0.0, \"0-FNR_over_1-FNR\": 1.0, \"0-FPR\": 0.0, \"0-FPR_over_1-FPR\": 0.0, \"0-TNR\": 1.0, \"0-TNR_over_1-TNR\": 1.1428571428571428, \"0-TPR\": 1.0, \"0-TPR_over_1-TPR\": 1.0, \"0-accuracy\": 1.0, \"0-accuracy_over_1-accuracy\": 1.0454545454545454, \"0-calibration+\": 1.0, \"0-calibration+_over_1-calibration+\": 1.0666666666666669, \"0-calibration-\": 0.0, \"0-calibration-_over_1-calibration-\": 1.0, \"1-FNR\": 0.0, \"1-FPR\": 0.125, \"1-TNR\": 0.875, \"1-TPR\": 1.0, \"1-accuracy\": 0.9565217391304348, \"1-calibration+\": 0.9375, \"1-calibration-\": 0.0, \"BCR\": 0.975, \"CV\": 0.5984654731457801, \"DIavgall\": 0.4227941176470589, \"DIbinary\": 0.4227941176470589, \"MCC\": 0.951189731211342, \"Race-FNR\": 1.0, \"Race-FNRDiff\": 1.0, \"Race-FNRRatio\": 1.0, \"Race-FPR\": 0.0625, \"Race-FPRDiff\": 0.875, \"Race-FPRRatio\": 1.0, \"Race-TNR\": 0.9375, \"Race-TNRDiff\": 1.125, \"Race-TNRRatio\": 1.1428571428571428, \"Race-TPR\": 1.0, \"Race-TPRDiff\": 1.0, \"Race-TPRRatio\": 1.0, \"Race-accuracy\": 0.9782608695652174, \"Race-accuracyDiff\": 1.0434782608695652, \"Race-accuracyRatio\": 1.0454545454545454, \"Race-calibration+\": 0.96875, \"Race-calibration+Diff\": 1.0625, \"Race-calibration+Ratio\": 1.0666666666666669, \"Race-calibration-\": 1.0, \"Race-calibration-Diff\": 1.0, \"Race-calibration-Ratio\": 1.0, \"TNR\": 0.95, \"TPR\": 1.0, \"accuracy\": 0.975, \"diff:1-FNRto0-FNR\": 1.0, \"diff:1-FPRto0-FPR\": 0.875, \"diff:1-TNRto0-TNR\": 1.125, \"diff:1-TPRto0-TPR\": 1.0, \"diff:1-accuracyto0-accuracy\": 1.0434782608695652, \"diff:1-calibration+to0-calibration+\": 1.0625, \"diff:1-calibration-to0-calibration-\": 1.0}, {\"algorithm\": \"LR\", \"params\": null, \"run-id\": 8, \"0-FNR\": 0.0, \"0-FNR_over_1-FNR\": 1.0, \"0-FPR\": 0.0, \"0-FPR_over_1-FPR\": 1.0, \"0-TNR\": 1.0, \"0-TNR_over_1-TNR\": 1.0, \"0-TPR\": 1.0, \"0-TPR_over_1-TPR\": 1.0, \"0-accuracy\": 1.0, \"0-accuracy_over_1-accuracy\": 1.0, \"0-calibration+\": 1.0, \"0-calibration+_over_1-calibration+\": 1.0, \"0-calibration-\": 0.0, \"0-calibration-_over_1-calibration-\": 1.0, \"1-FNR\": 0.0, \"1-FPR\": 0.0, \"1-TNR\": 1.0, \"1-TPR\": 1.0, \"1-accuracy\": 1.0, \"1-calibration+\": 1.0, \"1-calibration-\": 0.0, \"BCR\": 1.0, \"CV\": 0.6967418546365914, \"DIavgall\": 0.5101214574898785, \"DIbinary\": 0.5101214574898785, \"MCC\": 1.0, \"Race-FNR\": 1.0, \"Race-FNRDiff\": 1.0, \"Race-FNRRatio\": 1.0, \"Race-FPR\": 1.0, \"Race-FPRDiff\": 1.0, \"Race-FPRRatio\": 1.0, \"Race-TNR\": 1.0, \"Race-TNRDiff\": 1.0, \"Race-TNRRatio\": 1.0, \"Race-TPR\": 1.0, \"Race-TPRDiff\": 1.0, \"Race-TPRRatio\": 1.0, \"Race-accuracy\": 1.0, \"Race-accuracyDiff\": 1.0, \"Race-accuracyRatio\": 1.0, \"Race-calibration+\": 1.0, \"Race-calibration+Diff\": 1.0, \"Race-calibration+Ratio\": 1.0, \"Race-calibration-\": 1.0, \"Race-calibration-Diff\": 1.0, \"Race-calibration-Ratio\": 1.0, \"TNR\": 1.0, \"TPR\": 1.0, \"accuracy\": 1.0, \"diff:1-FNRto0-FNR\": 1.0, \"diff:1-FPRto0-FPR\": 1.0, \"diff:1-TNRto0-TNR\": 1.0, \"diff:1-TPRto0-TPR\": 1.0, \"diff:1-accuracyto0-accuracy\": 1.0, \"diff:1-calibration+to0-calibration+\": 1.0, \"diff:1-calibration-to0-calibration-\": 1.0}, {\"algorithm\": \"LR\", \"params\": null, \"run-id\": 9, \"0-FNR\": 0.0, \"0-FNR_over_1-FNR\": 0.0, \"0-FPR\": 0.0, \"0-FPR_over_1-FPR\": 1.0, \"0-TNR\": 1.0, \"0-TNR_over_1-TNR\": 1.0, \"0-TPR\": 1.0, \"0-TPR_over_1-TPR\": 1.1, \"0-accuracy\": 1.0, \"0-accuracy_over_1-accuracy\": 1.0526315789473684, \"0-calibration+\": 1.0, \"0-calibration+_over_1-calibration+\": 1.0, \"0-calibration-\": 0.0, \"0-calibration-_over_1-calibration-\": 0.0, \"1-FNR\": 0.09090909090909094, \"1-FPR\": 0.0, \"1-TNR\": 1.0, \"1-TPR\": 0.9090909090909092, \"1-accuracy\": 0.95, \"1-calibration+\": 1.0, \"1-calibration-\": 0.1, \"BCR\": 0.9705882352941176, \"CV\": 0.8, \"DIavgall\": 0.6, \"DIbinary\": 0.6, \"MCC\": 0.949716159867634, \"Race-FNR\": 0.04545454545454547, \"Race-FNRDiff\": 0.9090909090909092, \"Race-FNRRatio\": 1.0, \"Race-FPR\": 1.0, \"Race-FPRDiff\": 1.0, \"Race-FPRRatio\": 1.0, \"Race-TNR\": 1.0, \"Race-TNRDiff\": 1.0, \"Race-TNRRatio\": 1.0, \"Race-TPR\": 0.9545454545454546, \"Race-TPRDiff\": 1.0909090909090908, \"Race-TPRRatio\": 1.1, \"Race-accuracy\": 0.975, \"Race-accuracyDiff\": 1.05, \"Race-accuracyRatio\": 1.0526315789473684, \"Race-calibration+\": 1.0, \"Race-calibration+Diff\": 1.0, \"Race-calibration+Ratio\": 1.0, \"Race-calibration-\": 0.05, \"Race-calibration-Diff\": 0.9, \"Race-calibration-Ratio\": 1.0, \"TNR\": 1.0, \"TPR\": 0.9411764705882352, \"accuracy\": 0.975, \"diff:1-FNRto0-FNR\": 0.9090909090909092, \"diff:1-FPRto0-FPR\": 1.0, \"diff:1-TNRto0-TNR\": 1.0, \"diff:1-TPRto0-TPR\": 1.0909090909090908, \"diff:1-accuracyto0-accuracy\": 1.05, \"diff:1-calibration+to0-calibration+\": 1.0, \"diff:1-calibration-to0-calibration-\": 0.9}, {\"algorithm\": \"Feldman-LR\", \"params\": \"lambda=1.0\", \"run-id\": 0, \"0-FNR\": 0.0, \"0-FNR_over_1-FNR\": 0.0, \"0-FPR\": 0.25, \"0-FPR_over_1-FPR\": 0.0, \"0-TNR\": 0.75, \"0-TNR_over_1-TNR\": 0.75, \"0-TPR\": 1.0, \"0-TPR_over_1-TPR\": 1.75, \"0-accuracy\": 0.7857142857142857, \"0-accuracy_over_1-accuracy\": 1.0214285714285714, \"0-calibration+\": 0.4, \"0-calibration+_over_1-calibration+\": 0.4, \"0-calibration-\": 0.0, \"0-calibration-_over_1-calibration-\": 0.0, \"1-FNR\": 0.4285714285714286, \"1-FPR\": 0.0, \"1-TNR\": 1.0, \"1-TPR\": 0.5714285714285714, \"1-accuracy\": 0.7692307692307693, \"1-calibration+\": 1.0, \"1-calibration-\": 0.3333333333333333, \"BCR\": 0.75, \"CV\": 1.0494505494505495, \"DIavgall\": 1.1607142857142856, \"DIbinary\": 1.1607142857142856, \"MCC\": 0.5229763603684907, \"Race-FNR\": 0.2142857142857143, \"Race-FNRDiff\": 0.5714285714285714, \"Race-FNRRatio\": 1.0, \"Race-FPR\": 0.125, \"Race-FPRDiff\": 1.25, \"Race-FPRRatio\": 1.0, \"Race-TNR\": 0.875, \"Race-TNRDiff\": 0.75, \"Race-TNRRatio\": 0.75, \"Race-TPR\": 0.7857142857142857, \"Race-TPRDiff\": 1.4285714285714286, \"Race-TPRRatio\": 1.75, \"Race-accuracy\": 0.7774725274725275, \"Race-accuracyDiff\": 1.0164835164835164, \"Race-accuracyRatio\": 1.0214285714285714, \"Race-calibration+\": 0.7, \"Race-calibration+Diff\": 0.4, \"Race-calibration+Ratio\": 0.4, \"Race-calibration-\": 0.16666666666666666, \"Race-calibration-Diff\": 0.6666666666666667, \"Race-calibration-Ratio\": 1.0, \"TNR\": 0.875, \"TPR\": 0.625, \"accuracy\": 0.775, \"diff:1-FNRto0-FNR\": 0.5714285714285714, \"diff:1-FPRto0-FPR\": 1.25, \"diff:1-TNRto0-TNR\": 0.75, \"diff:1-TPRto0-TPR\": 1.4285714285714286, \"diff:1-accuracyto0-accuracy\": 1.0164835164835164, \"diff:1-calibration+to0-calibration+\": 0.4, \"diff:1-calibration-to0-calibration-\": 0.6666666666666667}, {\"algorithm\": \"Feldman-LR\", \"params\": \"lambda=1.0\", \"run-id\": 1, \"0-FNR\": 0.0, \"0-FNR_over_1-FNR\": 0.0, \"0-FPR\": 0.3571428571428571, \"0-FPR_over_1-FPR\": 0.0, \"0-TNR\": 0.6428571428571429, \"0-TNR_over_1-TNR\": 0.6428571428571429, \"0-TPR\": 1.0, \"0-TPR_over_1-TPR\": 1.2, \"0-accuracy\": 0.7058823529411765, \"0-accuracy_over_1-accuracy\": 0.7731092436974791, \"0-calibration+\": 0.375, \"0-calibration+_over_1-calibration+\": 0.375, \"0-calibration-\": 0.0, \"0-calibration-_over_1-calibration-\": 0.0, \"1-FNR\": 0.16666666666666666, \"1-FPR\": 0.0, \"1-TNR\": 1.0, \"1-TPR\": 0.8333333333333334, \"1-accuracy\": 0.9130434782608696, \"1-calibration+\": 1.0, \"1-calibration-\": 0.15384615384615385, \"BCR\": 0.8333333333333334, \"CV\": 1.0358056265984654, \"DIavgall\": 1.0823529411764703, \"DIbinary\": 1.0823529411764703, \"MCC\": 0.6487491201346025, \"Race-FNR\": 0.08333333333333331, \"Race-FNRDiff\": 0.8333333333333334, \"Race-FNRRatio\": 1.0, \"Race-FPR\": 0.17857142857142855, \"Race-FPRDiff\": 1.3571428571428572, \"Race-FPRRatio\": 1.0, \"Race-TNR\": 0.8214285714285714, \"Race-TNRDiff\": 0.6428571428571429, \"Race-TNRRatio\": 0.6428571428571429, \"Race-TPR\": 0.9166666666666669, \"Race-TPRDiff\": 1.1666666666666663, \"Race-TPRRatio\": 1.2, \"Race-accuracy\": 0.809462915601023, \"Race-accuracyDiff\": 0.7928388746803071, \"Race-accuracyRatio\": 0.7731092436974791, \"Race-calibration+\": 0.6875, \"Race-calibration+Diff\": 0.375, \"Race-calibration+Ratio\": 0.375, \"Race-calibration-\": 0.07692307692307693, \"Race-calibration-Diff\": 0.8461538461538461, \"Race-calibration-Ratio\": 1.0, \"TNR\": 0.8, \"TPR\": 0.8666666666666667, \"accuracy\": 0.825, \"diff:1-FNRto0-FNR\": 0.8333333333333334, \"diff:1-FPRto0-FPR\": 1.3571428571428572, \"diff:1-TNRto0-TNR\": 0.6428571428571429, \"diff:1-TPRto0-TPR\": 1.1666666666666663, \"diff:1-accuracyto0-accuracy\": 0.7928388746803071, \"diff:1-calibration+to0-calibration+\": 0.375, \"diff:1-calibration-to0-calibration-\": 0.8461538461538461}, {\"algorithm\": \"Feldman-LR\", \"params\": \"lambda=1.0\", \"run-id\": 2, \"0-FNR\": 0.0, \"0-FNR_over_1-FNR\": 0.0, \"0-FPR\": 0.4444444444444444, \"0-FPR_over_1-FPR\": 0.0, \"0-TNR\": 0.5555555555555556, \"0-TNR_over_1-TNR\": 0.5555555555555556, \"0-TPR\": 1.0, \"0-TPR_over_1-TPR\": 1.4166666666666663, \"0-accuracy\": 0.6923076923076923, \"0-accuracy_over_1-accuracy\": 0.8496503496503497, \"0-calibration+\": 0.5, \"0-calibration+_over_1-calibration+\": 0.5, \"0-calibration-\": 0.0, \"0-calibration-_over_1-calibration-\": 0.0, \"1-FNR\": 0.2941176470588235, \"1-FPR\": 0.0, \"1-TNR\": 1.0, \"1-TPR\": 0.7058823529411765, \"1-accuracy\": 0.8148148148148148, \"1-calibration+\": 1.0, \"1-calibration-\": 0.3333333333333333, \"BCR\": 0.7756892230576441, \"CV\": 1.1709401709401708, \"DIavgall\": 1.3846153846153848, \"DIbinary\": 1.3846153846153848, \"MCC\": 0.5506887917539348, \"Race-FNR\": 0.14705882352941174, \"Race-FNRDiff\": 0.7058823529411765, \"Race-FNRRatio\": 1.0, \"Race-FPR\": 0.2222222222222222, \"Race-FPRDiff\": 1.4444444444444444, \"Race-FPRRatio\": 1.0, \"Race-TNR\": 0.7777777777777778, \"Race-TNRDiff\": 0.5555555555555556, \"Race-TNRRatio\": 0.5555555555555556, \"Race-TPR\": 0.8529411764705883, \"Race-TPRDiff\": 1.2941176470588234, \"Race-TPRRatio\": 1.4166666666666663, \"Race-accuracy\": 0.7535612535612535, \"Race-accuracyDiff\": 0.8774928774928775, \"Race-accuracyRatio\": 0.8496503496503497, \"Race-calibration+\": 0.75, \"Race-calibration+Diff\": 0.5, \"Race-calibration+Ratio\": 0.5, \"Race-calibration-\": 0.16666666666666666, \"Race-calibration-Diff\": 0.6666666666666667, \"Race-calibration-Ratio\": 1.0, \"TNR\": 0.7894736842105263, \"TPR\": 0.7619047619047619, \"accuracy\": 0.775, \"diff:1-FNRto0-FNR\": 0.7058823529411765, \"diff:1-FPRto0-FPR\": 1.4444444444444444, \"diff:1-TNRto0-TNR\": 0.5555555555555556, \"diff:1-TPRto0-TPR\": 1.2941176470588234, \"diff:1-accuracyto0-accuracy\": 0.8774928774928775, \"diff:1-calibration+to0-calibration+\": 0.5, \"diff:1-calibration-to0-calibration-\": 0.6666666666666667}, {\"algorithm\": \"Feldman-LR\", \"params\": \"lambda=1.0\", \"run-id\": 3, \"0-FNR\": 0.0, \"0-FNR_over_1-FNR\": 0.0, \"0-FPR\": 0.33333333333333337, \"0-FPR_over_1-FPR\": 1.3333333333333337, \"0-TNR\": 0.6666666666666666, \"0-TNR_over_1-TNR\": 0.8888888888888888, \"0-TPR\": 1.0, \"0-TPR_over_1-TPR\": 2.333333333333333, \"0-accuracy\": 0.7857142857142857, \"0-accuracy_over_1-accuracy\": 1.3619047619047622, \"0-calibration+\": 0.625, \"0-calibration+_over_1-calibration+\": 0.9375, \"0-calibration-\": 0.0, \"0-calibration-_over_1-calibration-\": 0.0, \"1-FNR\": 0.5714285714285714, \"1-FPR\": 0.25, \"1-TNR\": 0.75, \"1-TPR\": 0.42857142857142855, \"1-accuracy\": 0.5769230769230769, \"1-calibration+\": 0.6666666666666666, \"1-calibration-\": 0.4705882352941176, \"BCR\": 0.6466165413533835, \"CV\": 1.2252747252747254, \"DIavgall\": 1.6507936507936507, \"DIbinary\": 1.6507936507936507, \"MCC\": 0.29621772025328, \"Race-FNR\": 0.2857142857142857, \"Race-FNRDiff\": 0.4285714285714286, \"Race-FNRRatio\": 1.0, \"Race-FPR\": 0.2916666666666667, \"Race-FPRDiff\": 1.0833333333333337, \"Race-FPRRatio\": 1.3333333333333337, \"Race-TNR\": 0.7083333333333333, \"Race-TNRDiff\": 0.9166666666666666, \"Race-TNRRatio\": 0.8888888888888888, \"Race-TPR\": 0.7142857142857143, \"Race-TPRDiff\": 1.5714285714285714, \"Race-TPRRatio\": 2.333333333333333, \"Race-accuracy\": 0.6813186813186813, \"Race-accuracyDiff\": 1.208791208791209, \"Race-accuracyRatio\": 1.3619047619047622, \"Race-calibration+\": 0.6458333333333333, \"Race-calibration+Diff\": 0.9583333333333334, \"Race-calibration+Ratio\": 0.9375, \"Race-calibration-\": 0.2352941176470588, \"Race-calibration-Diff\": 0.5294117647058824, \"Race-calibration-Ratio\": 1.0, \"TNR\": 0.7142857142857143, \"TPR\": 0.5789473684210527, \"accuracy\": 0.65, \"diff:1-FNRto0-FNR\": 0.4285714285714286, \"diff:1-FPRto0-FPR\": 1.0833333333333337, \"diff:1-TNRto0-TNR\": 0.9166666666666666, \"diff:1-TPRto0-TPR\": 1.5714285714285714, \"diff:1-accuracyto0-accuracy\": 1.208791208791209, \"diff:1-calibration+to0-calibration+\": 0.9583333333333334, \"diff:1-calibration-to0-calibration-\": 0.5294117647058824}, {\"algorithm\": \"Feldman-LR\", \"params\": \"lambda=1.0\", \"run-id\": 4, \"0-FNR\": 0.0, \"0-FNR_over_1-FNR\": 0.0, \"0-FPR\": 0.5, \"0-FPR_over_1-FPR\": 5.000000000000001, \"0-TNR\": 0.5, \"0-TNR_over_1-TNR\": 0.5555555555555556, \"0-TPR\": 1.0, \"0-TPR_over_1-TPR\": 1.0666666666666669, \"0-accuracy\": 0.7142857142857143, \"0-accuracy_over_1-accuracy\": 0.7738095238095238, \"0-calibration+\": 0.6, \"0-calibration+_over_1-calibration+\": 0.64, \"0-calibration-\": 0.0, \"0-calibration-_over_1-calibration-\": 0.0, \"1-FNR\": 0.0625, \"1-FPR\": 0.09999999999999998, \"1-TNR\": 0.9, \"1-TPR\": 0.9375, \"1-accuracy\": 0.9230769230769232, \"1-calibration+\": 0.9375, \"1-calibration-\": 0.1, \"BCR\": 0.8383838383838385, \"CV\": 1.0989010989010992, \"DIavgall\": 1.1607142857142856, \"DIbinary\": 1.1607142857142856, \"MCC\": 0.7058891543857989, \"Race-FNR\": 0.03125, \"Race-FNRDiff\": 0.9375, \"Race-FNRRatio\": 1.0, \"Race-FPR\": 0.3, \"Race-FPRDiff\": 1.4, \"Race-FPRRatio\": 5.000000000000001, \"Race-TNR\": 0.7, \"Race-TNRDiff\": 0.6, \"Race-TNRRatio\": 0.5555555555555556, \"Race-TPR\": 0.96875, \"Race-TPRDiff\": 1.0625, \"Race-TPRRatio\": 1.0666666666666669, \"Race-accuracy\": 0.8186813186813187, \"Race-accuracyDiff\": 0.7912087912087912, \"Race-accuracyRatio\": 0.7738095238095238, \"Race-calibration+\": 0.76875, \"Race-calibration+Diff\": 0.6625, \"Race-calibration+Ratio\": 0.64, \"Race-calibration-\": 0.05, \"Race-calibration-Diff\": 0.9, \"Race-calibration-Ratio\": 1.0, \"TNR\": 0.7222222222222222, \"TPR\": 0.9545454545454546, \"accuracy\": 0.85, \"diff:1-FNRto0-FNR\": 0.9375, \"diff:1-FPRto0-FPR\": 1.4, \"diff:1-TNRto0-TNR\": 0.6, \"diff:1-TPRto0-TPR\": 1.0625, \"diff:1-accuracyto0-accuracy\": 0.7912087912087912, \"diff:1-calibration+to0-calibration+\": 0.6625, \"diff:1-calibration-to0-calibration-\": 0.9}, {\"algorithm\": \"Feldman-LR\", \"params\": \"lambda=1.0\", \"run-id\": 5, \"0-FNR\": 0.0, \"0-FNR_over_1-FNR\": 0.0, \"0-FPR\": 0.08333333333333337, \"0-FPR_over_1-FPR\": 0.0, \"0-TNR\": 0.9166666666666666, \"0-TNR_over_1-TNR\": 0.9166666666666666, \"0-TPR\": 1.0, \"0-TPR_over_1-TPR\": 1.875, \"0-accuracy\": 0.9375, \"0-accuracy_over_1-accuracy\": 1.3235294117647058, \"0-calibration+\": 0.8, \"0-calibration+_over_1-calibration+\": 0.8, \"0-calibration-\": 0.0, \"0-calibration-_over_1-calibration-\": 0.0, \"1-FNR\": 0.4666666666666667, \"1-FPR\": 0.0, \"1-TNR\": 1.0, \"1-TPR\": 0.5333333333333333, \"1-accuracy\": 0.7083333333333334, \"1-calibration+\": 1.0, \"1-calibration-\": 0.4375, \"BCR\": 0.7919799498746867, \"CV\": 0.9791666666666669, \"DIavgall\": 0.9375, \"DIbinary\": 0.9375, \"MCC\": 0.6226097464823581, \"Race-FNR\": 0.2333333333333333, \"Race-FNRDiff\": 0.5333333333333333, \"Race-FNRRatio\": 1.0, \"Race-FPR\": 0.041666666666666685, \"Race-FPRDiff\": 1.0833333333333337, \"Race-FPRRatio\": 1.0, \"Race-TNR\": 0.9583333333333331, \"Race-TNRDiff\": 0.9166666666666666, \"Race-TNRRatio\": 0.9166666666666666, \"Race-TPR\": 0.7666666666666666, \"Race-TPRDiff\": 1.4666666666666668, \"Race-TPRRatio\": 1.875, \"Race-accuracy\": 0.8229166666666667, \"Race-accuracyDiff\": 1.2291666666666663, \"Race-accuracyRatio\": 1.3235294117647058, \"Race-calibration+\": 0.9, \"Race-calibration+Diff\": 0.8, \"Race-calibration+Ratio\": 0.8, \"Race-calibration-\": 0.21875, \"Race-calibration-Diff\": 0.5625, \"Race-calibration-Ratio\": 1.0, \"TNR\": 0.9523809523809524, \"TPR\": 0.631578947368421, \"accuracy\": 0.8, \"diff:1-FNRto0-FNR\": 0.5333333333333333, \"diff:1-FPRto0-FPR\": 1.0833333333333337, \"diff:1-TNRto0-TNR\": 0.9166666666666666, \"diff:1-TPRto0-TPR\": 1.4666666666666668, \"diff:1-accuracyto0-accuracy\": 1.2291666666666663, \"diff:1-calibration+to0-calibration+\": 0.8, \"diff:1-calibration-to0-calibration-\": 0.5625}, {\"algorithm\": \"Feldman-LR\", \"params\": \"lambda=1.0\", \"run-id\": 6, \"0-FNR\": 0.0, \"0-FNR_over_1-FNR\": 1.0, \"0-FPR\": 0.4, \"0-FPR_over_1-FPR\": 2.400000000000001, \"0-TNR\": 0.6, \"0-TNR_over_1-TNR\": 0.72, \"0-TPR\": 1.0, \"0-TPR_over_1-TPR\": 1.0, \"0-accuracy\": 0.7333333333333333, \"0-accuracy_over_1-accuracy\": 0.7971014492753622, \"0-calibration+\": 0.5555555555555556, \"0-calibration+_over_1-calibration+\": 0.6410256410256411, \"0-calibration-\": 0.0, \"0-calibration-_over_1-calibration-\": 1.0, \"1-FNR\": 0.0, \"1-FPR\": 0.16666666666666666, \"1-TNR\": 0.8333333333333334, \"1-TPR\": 1.0, \"1-accuracy\": 0.92, \"1-calibration+\": 0.8666666666666667, \"1-calibration-\": 0.0, \"BCR\": 0.8636363636363636, \"CV\": 1.0, \"DIavgall\": 1.0, \"DIbinary\": 1.0, \"MCC\": 0.7385489458759964, \"Race-FNR\": 1.0, \"Race-FNRDiff\": 1.0, \"Race-FNRRatio\": 1.0, \"Race-FPR\": 0.2833333333333333, \"Race-FPRDiff\": 1.2333333333333334, \"Race-FPRRatio\": 2.400000000000001, \"Race-TNR\": 0.7166666666666667, \"Race-TNRDiff\": 0.7666666666666666, \"Race-TNRRatio\": 0.72, \"Race-TPR\": 1.0, \"Race-TPRDiff\": 1.0, \"Race-TPRRatio\": 1.0, \"Race-accuracy\": 0.8266666666666667, \"Race-accuracyDiff\": 0.8133333333333332, \"Race-accuracyRatio\": 0.7971014492753622, \"Race-calibration+\": 0.7111111111111111, \"Race-calibration+Diff\": 0.6888888888888889, \"Race-calibration+Ratio\": 0.6410256410256411, \"Race-calibration-\": 1.0, \"Race-calibration-Diff\": 1.0, \"Race-calibration-Ratio\": 1.0, \"TNR\": 0.7272727272727273, \"TPR\": 1.0, \"accuracy\": 0.85, \"diff:1-FNRto0-FNR\": 1.0, \"diff:1-FPRto0-FPR\": 1.2333333333333334, \"diff:1-TNRto0-TNR\": 0.7666666666666666, \"diff:1-TPRto0-TPR\": 1.0, \"diff:1-accuracyto0-accuracy\": 0.8133333333333332, \"diff:1-calibration+to0-calibration+\": 0.6888888888888889, \"diff:1-calibration-to0-calibration-\": 1.0}, {\"algorithm\": \"Feldman-LR\", \"params\": \"lambda=1.0\", \"run-id\": 7, \"0-FNR\": 0.0, \"0-FNR_over_1-FNR\": 0.0, \"0-FPR\": 0.25, \"0-FPR_over_1-FPR\": 1.0, \"0-TNR\": 0.75, \"0-TNR_over_1-TNR\": 1.0, \"0-TPR\": 1.0, \"0-TPR_over_1-TPR\": 1.875, \"0-accuracy\": 0.8235294117647058, \"0-accuracy_over_1-accuracy\": 1.3529411764705879, \"0-calibration+\": 0.625, \"0-calibration+_over_1-calibration+\": 0.78125, \"0-calibration-\": 0.0, \"0-calibration-_over_1-calibration-\": 0.0, \"1-FNR\": 0.4666666666666667, \"1-FPR\": 0.25, \"1-TNR\": 0.75, \"1-TPR\": 0.5333333333333333, \"1-accuracy\": 0.6086956521739131, \"1-calibration+\": 0.8, \"1-calibration-\": 0.5384615384615384, \"BCR\": 0.7, \"CV\": 1.0358056265984654, \"DIavgall\": 1.0823529411764703, \"DIbinary\": 1.0823529411764703, \"MCC\": 0.4020151261036848, \"Race-FNR\": 0.2333333333333333, \"Race-FNRDiff\": 0.5333333333333333, \"Race-FNRRatio\": 1.0, \"Race-FPR\": 0.25, \"Race-FPRDiff\": 1.0, \"Race-FPRRatio\": 1.0, \"Race-TNR\": 0.75, \"Race-TNRDiff\": 1.0, \"Race-TNRRatio\": 1.0, \"Race-TPR\": 0.7666666666666666, \"Race-TPRDiff\": 1.4666666666666668, \"Race-TPRRatio\": 1.875, \"Race-accuracy\": 0.7161125319693095, \"Race-accuracyDiff\": 1.2148337595907928, \"Race-accuracyRatio\": 1.3529411764705879, \"Race-calibration+\": 0.7125, \"Race-calibration+Diff\": 0.825, \"Race-calibration+Ratio\": 0.78125, \"Race-calibration-\": 0.2692307692307692, \"Race-calibration-Diff\": 0.4615384615384616, \"Race-calibration-Ratio\": 1.0, \"TNR\": 0.75, \"TPR\": 0.65, \"accuracy\": 0.7, \"diff:1-FNRto0-FNR\": 0.5333333333333333, \"diff:1-FPRto0-FPR\": 1.0, \"diff:1-TNRto0-TNR\": 1.0, \"diff:1-TPRto0-TPR\": 1.4666666666666668, \"diff:1-accuracyto0-accuracy\": 1.2148337595907928, \"diff:1-calibration+to0-calibration+\": 0.825, \"diff:1-calibration-to0-calibration-\": 0.4615384615384616}, {\"algorithm\": \"Feldman-LR\", \"params\": \"lambda=1.0\", \"run-id\": 8, \"0-FNR\": 0.0, \"0-FNR_over_1-FNR\": 0.0, \"0-FPR\": 0.15384615384615385, \"0-FPR_over_1-FPR\": 0.0, \"0-TNR\": 0.8461538461538461, \"0-TNR_over_1-TNR\": 0.8461538461538461, \"0-TPR\": 1.0, \"0-TPR_over_1-TPR\": 1.2999999999999998, \"0-accuracy\": 0.8947368421052632, \"0-accuracy_over_1-accuracy\": 1.0438596491228072, \"0-calibration+\": 0.75, \"0-calibration+_over_1-calibration+\": 0.75, \"0-calibration-\": 0.0, \"0-calibration-_over_1-calibration-\": 0.0, \"1-FNR\": 0.23076923076923075, \"1-FPR\": 0.0, \"1-TNR\": 1.0, \"1-TPR\": 0.7692307692307693, \"1-accuracy\": 0.8571428571428571, \"1-calibration+\": 1.0, \"1-calibration-\": 0.2727272727272727, \"BCR\": 0.8734335839598997, \"CV\": 0.9448621553884712, \"DIavgall\": 0.8842105263157894, \"DIbinary\": 0.8842105263157894, \"MCC\": 0.7496908723878578, \"Race-FNR\": 0.11538461538461535, \"Race-FNRDiff\": 0.7692307692307693, \"Race-FNRRatio\": 1.0, \"Race-FPR\": 0.07692307692307693, \"Race-FPRDiff\": 1.1538461538461535, \"Race-FPRRatio\": 1.0, \"Race-TNR\": 0.9230769230769232, \"Race-TNRDiff\": 0.8461538461538461, \"Race-TNRRatio\": 0.8461538461538461, \"Race-TPR\": 0.8846153846153846, \"Race-TPRDiff\": 1.2307692307692308, \"Race-TPRRatio\": 1.2999999999999998, \"Race-accuracy\": 0.8759398496240601, \"Race-accuracyDiff\": 1.0375939849624058, \"Race-accuracyRatio\": 1.0438596491228072, \"Race-calibration+\": 0.875, \"Race-calibration+Diff\": 0.75, \"Race-calibration+Ratio\": 0.75, \"Race-calibration-\": 0.13636363636363635, \"Race-calibration-Diff\": 0.7272727272727273, \"Race-calibration-Ratio\": 1.0, \"TNR\": 0.9047619047619048, \"TPR\": 0.8421052631578947, \"accuracy\": 0.875, \"diff:1-FNRto0-FNR\": 0.7692307692307693, \"diff:1-FPRto0-FPR\": 1.1538461538461535, \"diff:1-TNRto0-TNR\": 0.8461538461538461, \"diff:1-TPRto0-TPR\": 1.2307692307692308, \"diff:1-accuracyto0-accuracy\": 1.0375939849624058, \"diff:1-calibration+to0-calibration+\": 0.75, \"diff:1-calibration-to0-calibration-\": 0.7272727272727273}, {\"algorithm\": \"Feldman-LR\", \"params\": \"lambda=1.0\", \"run-id\": 9, \"0-FNR\": 0.0, \"0-FNR_over_1-FNR\": 0.0, \"0-FPR\": 0.2142857142857143, \"0-FPR_over_1-FPR\": 0.6428571428571428, \"0-TNR\": 0.7857142857142857, \"0-TNR_over_1-TNR\": 1.1785714285714286, \"0-TPR\": 1.0, \"0-TPR_over_1-TPR\": 1.8333333333333333, \"0-accuracy\": 0.85, \"0-accuracy_over_1-accuracy\": 1.4166666666666667, \"0-calibration+\": 0.6666666666666666, \"0-calibration+_over_1-calibration+\": 1.0, \"0-calibration-\": 0.0, \"0-calibration-_over_1-calibration-\": 0.0, \"1-FNR\": 0.4545454545454546, \"1-FPR\": 0.33333333333333337, \"1-TNR\": 0.6666666666666666, \"1-TPR\": 0.5454545454545454, \"1-accuracy\": 0.6, \"1-calibration+\": 0.6666666666666666, \"1-calibration-\": 0.4545454545454545, \"BCR\": 0.7225063938618925, \"CV\": 1.0, \"DIavgall\": 1.0, \"DIbinary\": 1.0, \"MCC\": 0.44219443899559935, \"Race-FNR\": 0.2272727272727273, \"Race-FNRDiff\": 0.5454545454545454, \"Race-FNRRatio\": 1.0, \"Race-FPR\": 0.27380952380952384, \"Race-FPRDiff\": 0.8809523809523809, \"Race-FPRRatio\": 0.6428571428571428, \"Race-TNR\": 0.7261904761904762, \"Race-TNRDiff\": 1.119047619047619, \"Race-TNRRatio\": 1.1785714285714286, \"Race-TPR\": 0.7727272727272727, \"Race-TPRDiff\": 1.4545454545454546, \"Race-TPRRatio\": 1.8333333333333333, \"Race-accuracy\": 0.725, \"Race-accuracyDiff\": 1.25, \"Race-accuracyRatio\": 1.4166666666666667, \"Race-calibration+\": 0.6666666666666666, \"Race-calibration+Diff\": 1.0, \"Race-calibration+Ratio\": 1.0, \"Race-calibration-\": 0.2272727272727273, \"Race-calibration-Diff\": 0.5454545454545454, \"Race-calibration-Ratio\": 1.0, \"TNR\": 0.7391304347826086, \"TPR\": 0.7058823529411765, \"accuracy\": 0.725, \"diff:1-FNRto0-FNR\": 0.5454545454545454, \"diff:1-FPRto0-FPR\": 0.8809523809523809, \"diff:1-TNRto0-TNR\": 1.119047619047619, \"diff:1-TPRto0-TPR\": 1.4545454545454546, \"diff:1-accuracyto0-accuracy\": 1.25, \"diff:1-calibration+to0-calibration+\": 1.0, \"diff:1-calibration-to0-calibration-\": 0.5454545454545454}]}}, {\"mode\": \"vega-lite\"});\n",
       "</script>"
      ],
      "text/plain": [
       "alt.Chart(...)"
      ]
     },
     "execution_count": 13,
     "metadata": {},
     "output_type": "execute_result"
    }
   ],
   "source": [
    "alt.renderers.enable('default')\n",
    "alt.Chart(ricci_Race).mark_point().encode(\n",
    "    x='accuracy',\n",
    "    y='DIbinary',\n",
    "    color='algorithm'\n",
    ")"
   ]
  },
  {
   "cell_type": "markdown",
   "metadata": {},
   "source": [
    "## Fairness Project Comparison Part (instead of the zip file, these are original py files called from the original library)\n",
    "from https://github.com/algofairness/fairness-comparison\n",
    "The github page states: \"The below instructions are still in the process of being updated to work with the new pip install-able version.\""
   ]
  },
  {
   "cell_type": "code",
   "execution_count": 4,
   "metadata": {},
   "outputs": [
    {
     "name": "stdout",
     "output_type": "stream",
     "text": [
      "Available algorithms:\n",
      "  SVM\n",
      "  GaussianNB\n",
      "  LR\n",
      "  DecisionTree\n",
      "  Kamishima\n",
      "  Calders\n",
      "  ZafarBaseline\n",
      "  ZafarFairness\n",
      "  ZafarAccuracy\n",
      "  Kamishima-accuracy\n",
      "  Kamishima-DIavgall\n",
      "  Feldman-SVM\n",
      "  Feldman-GaussianNB\n",
      "  Feldman-LR\n",
      "  Feldman-DecisionTree\n",
      "  Feldman-SVM-DIavgall\n",
      "  Feldman-SVM-accuracy\n",
      "  Feldman-GaussianNB-DIavgall\n",
      "  Feldman-GaussianNB-accuracy\n"
     ]
    }
   ],
   "source": [
    "from fairness.benchmark import run"
   ]
  },
  {
   "cell_type": "code",
   "execution_count": null,
   "metadata": {},
   "outputs": [
    {
     "name": "stdout",
     "output_type": "stream",
     "text": [
      "Datasets: '['ricci', 'adult', 'german', 'propublica-recidivism', 'propublica-violent-recidivism']'\n",
      "\n",
      "Evaluating dataset:ricci\n",
      "Sensitive attribute:Race\n",
      "    Algorithm: SVM\n",
      "       supported types: {'numerical', 'numerical-binsensitive'}\n",
      "    Algorithm: GaussianNB\n",
      "       supported types: {'numerical', 'numerical-binsensitive'}\n",
      "    Algorithm: LR\n",
      "       supported types: {'numerical', 'numerical-binsensitive'}\n",
      "    Algorithm: DecisionTree\n",
      "       supported types: {'numerical', 'numerical-binsensitive'}\n",
      "    Algorithm: Kamishima\n",
      "       supported types: {'numerical-binsensitive'}\n"
     ]
    },
    {
     "name": "stderr",
     "output_type": "stream",
     "text": [
      "C:\\Users\\hatta\\anaconda3\\lib\\site-packages\\fairness\\algorithms\\kamishima\\KamishimaAlgorithm.py:99: UserWarning: loadtxt: Empty input file: \"C:\\Users\\hatta\\AppData\\Local\\Temp\\tmpsx4dtaun\"\n",
      "  m = numpy.loadtxt(output_name)\n",
      "Traceback (most recent call last):\n",
      "  File \"C:\\Users\\hatta\\anaconda3\\lib\\site-packages\\fairness\\benchmark.py\", line 66, in run\n",
      "    run_eval_alg(algorithm, train, test, dataset_obj, processed_dataset,\n",
      "  File \"C:\\Users\\hatta\\anaconda3\\lib\\site-packages\\fairness\\benchmark.py\", line 107, in run_eval_alg\n",
      "    run_alg(algorithm, train, test, dataset, all_sensitive_attributes, single_sensitive,\n",
      "  File \"C:\\Users\\hatta\\anaconda3\\lib\\site-packages\\fairness\\benchmark.py\", line 145, in run_alg\n",
      "    algorithm.run(train, test, class_attr, positive_val, all_sensitive_attributes,\n",
      "  File \"C:\\Users\\hatta\\anaconda3\\lib\\site-packages\\fairness\\algorithms\\kamishima\\KamishimaAlgorithm.py\", line 102, in run\n",
      "    predictions = m[:,1]\n",
      "IndexError: too many indices for array\n",
      "Failed: too many indices for array\n",
      "C:\\Users\\hatta\\anaconda3\\lib\\site-packages\\fairness\\algorithms\\kamishima\\KamishimaAlgorithm.py:99: UserWarning: loadtxt: Empty input file: \"C:\\Users\\hatta\\AppData\\Local\\Temp\\tmpti4x9ctb\"\n",
      "  m = numpy.loadtxt(output_name)\n",
      "Traceback (most recent call last):\n",
      "  File \"C:\\Users\\hatta\\anaconda3\\lib\\site-packages\\fairness\\benchmark.py\", line 66, in run\n",
      "    run_eval_alg(algorithm, train, test, dataset_obj, processed_dataset,\n",
      "  File \"C:\\Users\\hatta\\anaconda3\\lib\\site-packages\\fairness\\benchmark.py\", line 107, in run_eval_alg\n",
      "    run_alg(algorithm, train, test, dataset, all_sensitive_attributes, single_sensitive,\n",
      "  File \"C:\\Users\\hatta\\anaconda3\\lib\\site-packages\\fairness\\benchmark.py\", line 145, in run_alg\n",
      "    algorithm.run(train, test, class_attr, positive_val, all_sensitive_attributes,\n",
      "  File \"C:\\Users\\hatta\\anaconda3\\lib\\site-packages\\fairness\\algorithms\\kamishima\\KamishimaAlgorithm.py\", line 102, in run\n",
      "    predictions = m[:,1]\n",
      "IndexError: too many indices for array\n",
      "Failed: too many indices for array\n",
      "C:\\Users\\hatta\\anaconda3\\lib\\site-packages\\fairness\\algorithms\\kamishima\\KamishimaAlgorithm.py:99: UserWarning: loadtxt: Empty input file: \"C:\\Users\\hatta\\AppData\\Local\\Temp\\tmpf96sqqb6\"\n",
      "  m = numpy.loadtxt(output_name)\n",
      "Traceback (most recent call last):\n",
      "  File \"C:\\Users\\hatta\\anaconda3\\lib\\site-packages\\fairness\\benchmark.py\", line 66, in run\n",
      "    run_eval_alg(algorithm, train, test, dataset_obj, processed_dataset,\n",
      "  File \"C:\\Users\\hatta\\anaconda3\\lib\\site-packages\\fairness\\benchmark.py\", line 107, in run_eval_alg\n",
      "    run_alg(algorithm, train, test, dataset, all_sensitive_attributes, single_sensitive,\n",
      "  File \"C:\\Users\\hatta\\anaconda3\\lib\\site-packages\\fairness\\benchmark.py\", line 145, in run_alg\n",
      "    algorithm.run(train, test, class_attr, positive_val, all_sensitive_attributes,\n",
      "  File \"C:\\Users\\hatta\\anaconda3\\lib\\site-packages\\fairness\\algorithms\\kamishima\\KamishimaAlgorithm.py\", line 102, in run\n",
      "    predictions = m[:,1]\n",
      "IndexError: too many indices for array\n",
      "Failed: too many indices for array\n",
      "C:\\Users\\hatta\\anaconda3\\lib\\site-packages\\fairness\\algorithms\\kamishima\\KamishimaAlgorithm.py:99: UserWarning: loadtxt: Empty input file: \"C:\\Users\\hatta\\AppData\\Local\\Temp\\tmp9l4mjzgx\"\n",
      "  m = numpy.loadtxt(output_name)\n",
      "Traceback (most recent call last):\n",
      "  File \"C:\\Users\\hatta\\anaconda3\\lib\\site-packages\\fairness\\benchmark.py\", line 66, in run\n",
      "    run_eval_alg(algorithm, train, test, dataset_obj, processed_dataset,\n",
      "  File \"C:\\Users\\hatta\\anaconda3\\lib\\site-packages\\fairness\\benchmark.py\", line 107, in run_eval_alg\n",
      "    run_alg(algorithm, train, test, dataset, all_sensitive_attributes, single_sensitive,\n",
      "  File \"C:\\Users\\hatta\\anaconda3\\lib\\site-packages\\fairness\\benchmark.py\", line 145, in run_alg\n",
      "    algorithm.run(train, test, class_attr, positive_val, all_sensitive_attributes,\n",
      "  File \"C:\\Users\\hatta\\anaconda3\\lib\\site-packages\\fairness\\algorithms\\kamishima\\KamishimaAlgorithm.py\", line 102, in run\n",
      "    predictions = m[:,1]\n",
      "IndexError: too many indices for array\n",
      "Failed: too many indices for array\n",
      "C:\\Users\\hatta\\anaconda3\\lib\\site-packages\\fairness\\algorithms\\kamishima\\KamishimaAlgorithm.py:99: UserWarning: loadtxt: Empty input file: \"C:\\Users\\hatta\\AppData\\Local\\Temp\\tmpo72qtg20\"\n",
      "  m = numpy.loadtxt(output_name)\n",
      "Traceback (most recent call last):\n",
      "  File \"C:\\Users\\hatta\\anaconda3\\lib\\site-packages\\fairness\\benchmark.py\", line 66, in run\n",
      "    run_eval_alg(algorithm, train, test, dataset_obj, processed_dataset,\n",
      "  File \"C:\\Users\\hatta\\anaconda3\\lib\\site-packages\\fairness\\benchmark.py\", line 107, in run_eval_alg\n",
      "    run_alg(algorithm, train, test, dataset, all_sensitive_attributes, single_sensitive,\n",
      "  File \"C:\\Users\\hatta\\anaconda3\\lib\\site-packages\\fairness\\benchmark.py\", line 145, in run_alg\n",
      "    algorithm.run(train, test, class_attr, positive_val, all_sensitive_attributes,\n",
      "  File \"C:\\Users\\hatta\\anaconda3\\lib\\site-packages\\fairness\\algorithms\\kamishima\\KamishimaAlgorithm.py\", line 102, in run\n",
      "    predictions = m[:,1]\n",
      "IndexError: too many indices for array\n",
      "Failed: too many indices for array\n",
      "C:\\Users\\hatta\\anaconda3\\lib\\site-packages\\fairness\\algorithms\\kamishima\\KamishimaAlgorithm.py:99: UserWarning: loadtxt: Empty input file: \"C:\\Users\\hatta\\AppData\\Local\\Temp\\tmp66cvi_qz\"\n",
      "  m = numpy.loadtxt(output_name)\n",
      "Traceback (most recent call last):\n",
      "  File \"C:\\Users\\hatta\\anaconda3\\lib\\site-packages\\fairness\\benchmark.py\", line 66, in run\n",
      "    run_eval_alg(algorithm, train, test, dataset_obj, processed_dataset,\n",
      "  File \"C:\\Users\\hatta\\anaconda3\\lib\\site-packages\\fairness\\benchmark.py\", line 107, in run_eval_alg\n",
      "    run_alg(algorithm, train, test, dataset, all_sensitive_attributes, single_sensitive,\n",
      "  File \"C:\\Users\\hatta\\anaconda3\\lib\\site-packages\\fairness\\benchmark.py\", line 145, in run_alg\n",
      "    algorithm.run(train, test, class_attr, positive_val, all_sensitive_attributes,\n",
      "  File \"C:\\Users\\hatta\\anaconda3\\lib\\site-packages\\fairness\\algorithms\\kamishima\\KamishimaAlgorithm.py\", line 102, in run\n",
      "    predictions = m[:,1]\n",
      "IndexError: too many indices for array\n",
      "Failed: too many indices for array\n",
      "C:\\Users\\hatta\\anaconda3\\lib\\site-packages\\fairness\\algorithms\\kamishima\\KamishimaAlgorithm.py:99: UserWarning: loadtxt: Empty input file: \"C:\\Users\\hatta\\AppData\\Local\\Temp\\tmptrf59cb7\"\n",
      "  m = numpy.loadtxt(output_name)\n",
      "Traceback (most recent call last):\n",
      "  File \"C:\\Users\\hatta\\anaconda3\\lib\\site-packages\\fairness\\benchmark.py\", line 66, in run\n",
      "    run_eval_alg(algorithm, train, test, dataset_obj, processed_dataset,\n",
      "  File \"C:\\Users\\hatta\\anaconda3\\lib\\site-packages\\fairness\\benchmark.py\", line 107, in run_eval_alg\n",
      "    run_alg(algorithm, train, test, dataset, all_sensitive_attributes, single_sensitive,\n",
      "  File \"C:\\Users\\hatta\\anaconda3\\lib\\site-packages\\fairness\\benchmark.py\", line 145, in run_alg\n",
      "    algorithm.run(train, test, class_attr, positive_val, all_sensitive_attributes,\n",
      "  File \"C:\\Users\\hatta\\anaconda3\\lib\\site-packages\\fairness\\algorithms\\kamishima\\KamishimaAlgorithm.py\", line 102, in run\n",
      "    predictions = m[:,1]\n",
      "IndexError: too many indices for array\n",
      "Failed: too many indices for array\n",
      "C:\\Users\\hatta\\anaconda3\\lib\\site-packages\\fairness\\algorithms\\kamishima\\KamishimaAlgorithm.py:99: UserWarning: loadtxt: Empty input file: \"C:\\Users\\hatta\\AppData\\Local\\Temp\\tmpkj__cw02\"\n",
      "  m = numpy.loadtxt(output_name)\n",
      "Traceback (most recent call last):\n",
      "  File \"C:\\Users\\hatta\\anaconda3\\lib\\site-packages\\fairness\\benchmark.py\", line 66, in run\n",
      "    run_eval_alg(algorithm, train, test, dataset_obj, processed_dataset,\n",
      "  File \"C:\\Users\\hatta\\anaconda3\\lib\\site-packages\\fairness\\benchmark.py\", line 107, in run_eval_alg\n",
      "    run_alg(algorithm, train, test, dataset, all_sensitive_attributes, single_sensitive,\n",
      "  File \"C:\\Users\\hatta\\anaconda3\\lib\\site-packages\\fairness\\benchmark.py\", line 145, in run_alg\n",
      "    algorithm.run(train, test, class_attr, positive_val, all_sensitive_attributes,\n",
      "  File \"C:\\Users\\hatta\\anaconda3\\lib\\site-packages\\fairness\\algorithms\\kamishima\\KamishimaAlgorithm.py\", line 102, in run\n",
      "    predictions = m[:,1]\n",
      "IndexError: too many indices for array\n",
      "Failed: too many indices for array\n",
      "C:\\Users\\hatta\\anaconda3\\lib\\site-packages\\fairness\\algorithms\\kamishima\\KamishimaAlgorithm.py:99: UserWarning: loadtxt: Empty input file: \"C:\\Users\\hatta\\AppData\\Local\\Temp\\tmprsds8j9z\"\n",
      "  m = numpy.loadtxt(output_name)\n"
     ]
    },
    {
     "name": "stderr",
     "output_type": "stream",
     "text": [
      "Traceback (most recent call last):\n",
      "  File \"C:\\Users\\hatta\\anaconda3\\lib\\site-packages\\fairness\\benchmark.py\", line 66, in run\n",
      "    run_eval_alg(algorithm, train, test, dataset_obj, processed_dataset,\n",
      "  File \"C:\\Users\\hatta\\anaconda3\\lib\\site-packages\\fairness\\benchmark.py\", line 107, in run_eval_alg\n",
      "    run_alg(algorithm, train, test, dataset, all_sensitive_attributes, single_sensitive,\n",
      "  File \"C:\\Users\\hatta\\anaconda3\\lib\\site-packages\\fairness\\benchmark.py\", line 145, in run_alg\n",
      "    algorithm.run(train, test, class_attr, positive_val, all_sensitive_attributes,\n",
      "  File \"C:\\Users\\hatta\\anaconda3\\lib\\site-packages\\fairness\\algorithms\\kamishima\\KamishimaAlgorithm.py\", line 102, in run\n",
      "    predictions = m[:,1]\n",
      "IndexError: too many indices for array\n",
      "Failed: too many indices for array\n",
      "C:\\Users\\hatta\\anaconda3\\lib\\site-packages\\fairness\\algorithms\\kamishima\\KamishimaAlgorithm.py:99: UserWarning: loadtxt: Empty input file: \"C:\\Users\\hatta\\AppData\\Local\\Temp\\tmpfd_wukpv\"\n",
      "  m = numpy.loadtxt(output_name)\n",
      "Traceback (most recent call last):\n",
      "  File \"C:\\Users\\hatta\\anaconda3\\lib\\site-packages\\fairness\\benchmark.py\", line 66, in run\n",
      "    run_eval_alg(algorithm, train, test, dataset_obj, processed_dataset,\n",
      "  File \"C:\\Users\\hatta\\anaconda3\\lib\\site-packages\\fairness\\benchmark.py\", line 107, in run_eval_alg\n",
      "    run_alg(algorithm, train, test, dataset, all_sensitive_attributes, single_sensitive,\n",
      "  File \"C:\\Users\\hatta\\anaconda3\\lib\\site-packages\\fairness\\benchmark.py\", line 145, in run_alg\n",
      "    algorithm.run(train, test, class_attr, positive_val, all_sensitive_attributes,\n",
      "  File \"C:\\Users\\hatta\\anaconda3\\lib\\site-packages\\fairness\\algorithms\\kamishima\\KamishimaAlgorithm.py\", line 102, in run\n",
      "    predictions = m[:,1]\n",
      "IndexError: too many indices for array\n",
      "Failed: too many indices for array\n"
     ]
    },
    {
     "name": "stdout",
     "output_type": "stream",
     "text": [
      "    Algorithm: Calders\n",
      "       supported types: {'numerical-binsensitive'}\n"
     ]
    },
    {
     "name": "stderr",
     "output_type": "stream",
     "text": [
      "Traceback (most recent call last):\n",
      "  File \"C:\\Users\\hatta\\anaconda3\\lib\\site-packages\\fairness\\benchmark.py\", line 66, in run\n",
      "    run_eval_alg(algorithm, train, test, dataset_obj, processed_dataset,\n",
      "  File \"C:\\Users\\hatta\\anaconda3\\lib\\site-packages\\fairness\\benchmark.py\", line 107, in run_eval_alg\n",
      "    run_alg(algorithm, train, test, dataset, all_sensitive_attributes, single_sensitive,\n",
      "  File \"C:\\Users\\hatta\\anaconda3\\lib\\site-packages\\fairness\\benchmark.py\", line 145, in run_alg\n",
      "    algorithm.run(train, test, class_attr, positive_val, all_sensitive_attributes,\n",
      "  File \"C:\\Users\\hatta\\anaconda3\\lib\\site-packages\\fairness\\algorithms\\kamishima\\CaldersAlgorithm.py\", line 99, in run\n",
      "    raise Exception(\"Training procedure failed\")\n",
      "Exception: Training procedure failed\n",
      "Failed: Training procedure failed\n",
      "Traceback (most recent call last):\n",
      "  File \"C:\\Users\\hatta\\anaconda3\\lib\\site-packages\\fairness\\benchmark.py\", line 66, in run\n",
      "    run_eval_alg(algorithm, train, test, dataset_obj, processed_dataset,\n",
      "  File \"C:\\Users\\hatta\\anaconda3\\lib\\site-packages\\fairness\\benchmark.py\", line 107, in run_eval_alg\n",
      "    run_alg(algorithm, train, test, dataset, all_sensitive_attributes, single_sensitive,\n",
      "  File \"C:\\Users\\hatta\\anaconda3\\lib\\site-packages\\fairness\\benchmark.py\", line 145, in run_alg\n",
      "    algorithm.run(train, test, class_attr, positive_val, all_sensitive_attributes,\n",
      "  File \"C:\\Users\\hatta\\anaconda3\\lib\\site-packages\\fairness\\algorithms\\kamishima\\CaldersAlgorithm.py\", line 99, in run\n",
      "    raise Exception(\"Training procedure failed\")\n",
      "Exception: Training procedure failed\n",
      "Failed: Training procedure failed\n",
      "Traceback (most recent call last):\n",
      "  File \"C:\\Users\\hatta\\anaconda3\\lib\\site-packages\\fairness\\benchmark.py\", line 66, in run\n",
      "    run_eval_alg(algorithm, train, test, dataset_obj, processed_dataset,\n",
      "  File \"C:\\Users\\hatta\\anaconda3\\lib\\site-packages\\fairness\\benchmark.py\", line 107, in run_eval_alg\n",
      "    run_alg(algorithm, train, test, dataset, all_sensitive_attributes, single_sensitive,\n",
      "  File \"C:\\Users\\hatta\\anaconda3\\lib\\site-packages\\fairness\\benchmark.py\", line 145, in run_alg\n",
      "    algorithm.run(train, test, class_attr, positive_val, all_sensitive_attributes,\n",
      "  File \"C:\\Users\\hatta\\anaconda3\\lib\\site-packages\\fairness\\algorithms\\kamishima\\CaldersAlgorithm.py\", line 99, in run\n",
      "    raise Exception(\"Training procedure failed\")\n",
      "Exception: Training procedure failed\n",
      "Failed: Training procedure failed\n",
      "Traceback (most recent call last):\n",
      "  File \"C:\\Users\\hatta\\anaconda3\\lib\\site-packages\\fairness\\benchmark.py\", line 66, in run\n",
      "    run_eval_alg(algorithm, train, test, dataset_obj, processed_dataset,\n",
      "  File \"C:\\Users\\hatta\\anaconda3\\lib\\site-packages\\fairness\\benchmark.py\", line 107, in run_eval_alg\n",
      "    run_alg(algorithm, train, test, dataset, all_sensitive_attributes, single_sensitive,\n",
      "  File \"C:\\Users\\hatta\\anaconda3\\lib\\site-packages\\fairness\\benchmark.py\", line 145, in run_alg\n",
      "    algorithm.run(train, test, class_attr, positive_val, all_sensitive_attributes,\n",
      "  File \"C:\\Users\\hatta\\anaconda3\\lib\\site-packages\\fairness\\algorithms\\kamishima\\CaldersAlgorithm.py\", line 99, in run\n",
      "    raise Exception(\"Training procedure failed\")\n",
      "Exception: Training procedure failed\n",
      "Failed: Training procedure failed\n",
      "Traceback (most recent call last):\n",
      "  File \"C:\\Users\\hatta\\anaconda3\\lib\\site-packages\\fairness\\benchmark.py\", line 66, in run\n",
      "    run_eval_alg(algorithm, train, test, dataset_obj, processed_dataset,\n",
      "  File \"C:\\Users\\hatta\\anaconda3\\lib\\site-packages\\fairness\\benchmark.py\", line 107, in run_eval_alg\n",
      "    run_alg(algorithm, train, test, dataset, all_sensitive_attributes, single_sensitive,\n",
      "  File \"C:\\Users\\hatta\\anaconda3\\lib\\site-packages\\fairness\\benchmark.py\", line 145, in run_alg\n",
      "    algorithm.run(train, test, class_attr, positive_val, all_sensitive_attributes,\n",
      "  File \"C:\\Users\\hatta\\anaconda3\\lib\\site-packages\\fairness\\algorithms\\kamishima\\CaldersAlgorithm.py\", line 99, in run\n",
      "    raise Exception(\"Training procedure failed\")\n",
      "Exception: Training procedure failed\n",
      "Failed: Training procedure failed\n",
      "Traceback (most recent call last):\n",
      "  File \"C:\\Users\\hatta\\anaconda3\\lib\\site-packages\\fairness\\benchmark.py\", line 66, in run\n",
      "    run_eval_alg(algorithm, train, test, dataset_obj, processed_dataset,\n",
      "  File \"C:\\Users\\hatta\\anaconda3\\lib\\site-packages\\fairness\\benchmark.py\", line 107, in run_eval_alg\n",
      "    run_alg(algorithm, train, test, dataset, all_sensitive_attributes, single_sensitive,\n",
      "  File \"C:\\Users\\hatta\\anaconda3\\lib\\site-packages\\fairness\\benchmark.py\", line 145, in run_alg\n",
      "    algorithm.run(train, test, class_attr, positive_val, all_sensitive_attributes,\n",
      "  File \"C:\\Users\\hatta\\anaconda3\\lib\\site-packages\\fairness\\algorithms\\kamishima\\CaldersAlgorithm.py\", line 99, in run\n",
      "    raise Exception(\"Training procedure failed\")\n",
      "Exception: Training procedure failed\n",
      "Failed: Training procedure failed\n",
      "Traceback (most recent call last):\n",
      "  File \"C:\\Users\\hatta\\anaconda3\\lib\\site-packages\\fairness\\benchmark.py\", line 66, in run\n",
      "    run_eval_alg(algorithm, train, test, dataset_obj, processed_dataset,\n",
      "  File \"C:\\Users\\hatta\\anaconda3\\lib\\site-packages\\fairness\\benchmark.py\", line 107, in run_eval_alg\n",
      "    run_alg(algorithm, train, test, dataset, all_sensitive_attributes, single_sensitive,\n",
      "  File \"C:\\Users\\hatta\\anaconda3\\lib\\site-packages\\fairness\\benchmark.py\", line 145, in run_alg\n",
      "    algorithm.run(train, test, class_attr, positive_val, all_sensitive_attributes,\n",
      "  File \"C:\\Users\\hatta\\anaconda3\\lib\\site-packages\\fairness\\algorithms\\kamishima\\CaldersAlgorithm.py\", line 99, in run\n",
      "    raise Exception(\"Training procedure failed\")\n",
      "Exception: Training procedure failed\n",
      "Failed: Training procedure failed\n",
      "Traceback (most recent call last):\n",
      "  File \"C:\\Users\\hatta\\anaconda3\\lib\\site-packages\\fairness\\benchmark.py\", line 66, in run\n",
      "    run_eval_alg(algorithm, train, test, dataset_obj, processed_dataset,\n",
      "  File \"C:\\Users\\hatta\\anaconda3\\lib\\site-packages\\fairness\\benchmark.py\", line 107, in run_eval_alg\n",
      "    run_alg(algorithm, train, test, dataset, all_sensitive_attributes, single_sensitive,\n",
      "  File \"C:\\Users\\hatta\\anaconda3\\lib\\site-packages\\fairness\\benchmark.py\", line 145, in run_alg\n",
      "    algorithm.run(train, test, class_attr, positive_val, all_sensitive_attributes,\n",
      "  File \"C:\\Users\\hatta\\anaconda3\\lib\\site-packages\\fairness\\algorithms\\kamishima\\CaldersAlgorithm.py\", line 99, in run\n",
      "    raise Exception(\"Training procedure failed\")\n",
      "Exception: Training procedure failed\n",
      "Failed: Training procedure failed\n",
      "Traceback (most recent call last):\n",
      "  File \"C:\\Users\\hatta\\anaconda3\\lib\\site-packages\\fairness\\benchmark.py\", line 66, in run\n",
      "    run_eval_alg(algorithm, train, test, dataset_obj, processed_dataset,\n",
      "  File \"C:\\Users\\hatta\\anaconda3\\lib\\site-packages\\fairness\\benchmark.py\", line 107, in run_eval_alg\n",
      "    run_alg(algorithm, train, test, dataset, all_sensitive_attributes, single_sensitive,\n",
      "  File \"C:\\Users\\hatta\\anaconda3\\lib\\site-packages\\fairness\\benchmark.py\", line 145, in run_alg\n",
      "    algorithm.run(train, test, class_attr, positive_val, all_sensitive_attributes,\n",
      "  File \"C:\\Users\\hatta\\anaconda3\\lib\\site-packages\\fairness\\algorithms\\kamishima\\CaldersAlgorithm.py\", line 99, in run\n",
      "    raise Exception(\"Training procedure failed\")\n",
      "Exception: Training procedure failed\n",
      "Failed: Training procedure failed\n",
      "Traceback (most recent call last):\n",
      "  File \"C:\\Users\\hatta\\anaconda3\\lib\\site-packages\\fairness\\benchmark.py\", line 66, in run\n",
      "    run_eval_alg(algorithm, train, test, dataset_obj, processed_dataset,\n",
      "  File \"C:\\Users\\hatta\\anaconda3\\lib\\site-packages\\fairness\\benchmark.py\", line 107, in run_eval_alg\n",
      "    run_alg(algorithm, train, test, dataset, all_sensitive_attributes, single_sensitive,\n",
      "  File \"C:\\Users\\hatta\\anaconda3\\lib\\site-packages\\fairness\\benchmark.py\", line 145, in run_alg\n",
      "    algorithm.run(train, test, class_attr, positive_val, all_sensitive_attributes,\n",
      "  File \"C:\\Users\\hatta\\anaconda3\\lib\\site-packages\\fairness\\algorithms\\kamishima\\CaldersAlgorithm.py\", line 99, in run\n",
      "    raise Exception(\"Training procedure failed\")\n",
      "Exception: Training procedure failed\n",
      "Failed: Training procedure failed\n"
     ]
    },
    {
     "name": "stdout",
     "output_type": "stream",
     "text": [
      "    Algorithm: ZafarBaseline\n",
      "       supported types: {'numerical-binsensitive'}\n"
     ]
    },
    {
     "name": "stderr",
     "output_type": "stream",
     "text": [
      "Traceback (most recent call last):\n",
      "  File \"C:\\Users\\hatta\\anaconda3\\lib\\site-packages\\fairness\\benchmark.py\", line 66, in run\n",
      "    run_eval_alg(algorithm, train, test, dataset_obj, processed_dataset,\n",
      "  File \"C:\\Users\\hatta\\anaconda3\\lib\\site-packages\\fairness\\benchmark.py\", line 107, in run_eval_alg\n",
      "    run_alg(algorithm, train, test, dataset, all_sensitive_attributes, single_sensitive,\n",
      "  File \"C:\\Users\\hatta\\anaconda3\\lib\\site-packages\\fairness\\benchmark.py\", line 145, in run_alg\n",
      "    algorithm.run(train, test, class_attr, positive_val, all_sensitive_attributes,\n",
      "  File \"C:\\Users\\hatta\\anaconda3\\lib\\site-packages\\fairness\\algorithms\\zafar\\ZafarAlgorithm.py\", line 40, in run\n",
      "    train_name = create_file(train_df)\n",
      "  File \"C:\\Users\\hatta\\anaconda3\\lib\\site-packages\\fairness\\algorithms\\zafar\\ZafarAlgorithm.py\", line 29, in create_file\n",
      "    out[\"x\"] = df.drop(columns=[class_attr]).as_matrix().tolist()\n",
      "  File \"C:\\Users\\hatta\\anaconda3\\lib\\site-packages\\pandas\\core\\generic.py\", line 5274, in __getattr__\n",
      "    return object.__getattribute__(self, name)\n",
      "AttributeError: 'DataFrame' object has no attribute 'as_matrix'\n",
      "Failed: 'DataFrame' object has no attribute 'as_matrix'\n",
      "Traceback (most recent call last):\n",
      "  File \"C:\\Users\\hatta\\anaconda3\\lib\\site-packages\\fairness\\benchmark.py\", line 66, in run\n",
      "    run_eval_alg(algorithm, train, test, dataset_obj, processed_dataset,\n",
      "  File \"C:\\Users\\hatta\\anaconda3\\lib\\site-packages\\fairness\\benchmark.py\", line 107, in run_eval_alg\n",
      "    run_alg(algorithm, train, test, dataset, all_sensitive_attributes, single_sensitive,\n",
      "  File \"C:\\Users\\hatta\\anaconda3\\lib\\site-packages\\fairness\\benchmark.py\", line 145, in run_alg\n",
      "    algorithm.run(train, test, class_attr, positive_val, all_sensitive_attributes,\n",
      "  File \"C:\\Users\\hatta\\anaconda3\\lib\\site-packages\\fairness\\algorithms\\zafar\\ZafarAlgorithm.py\", line 40, in run\n",
      "    train_name = create_file(train_df)\n",
      "  File \"C:\\Users\\hatta\\anaconda3\\lib\\site-packages\\fairness\\algorithms\\zafar\\ZafarAlgorithm.py\", line 29, in create_file\n",
      "    out[\"x\"] = df.drop(columns=[class_attr]).as_matrix().tolist()\n",
      "  File \"C:\\Users\\hatta\\anaconda3\\lib\\site-packages\\pandas\\core\\generic.py\", line 5274, in __getattr__\n",
      "    return object.__getattribute__(self, name)\n",
      "AttributeError: 'DataFrame' object has no attribute 'as_matrix'\n",
      "Failed: 'DataFrame' object has no attribute 'as_matrix'\n",
      "Traceback (most recent call last):\n",
      "  File \"C:\\Users\\hatta\\anaconda3\\lib\\site-packages\\fairness\\benchmark.py\", line 66, in run\n",
      "    run_eval_alg(algorithm, train, test, dataset_obj, processed_dataset,\n",
      "  File \"C:\\Users\\hatta\\anaconda3\\lib\\site-packages\\fairness\\benchmark.py\", line 107, in run_eval_alg\n",
      "    run_alg(algorithm, train, test, dataset, all_sensitive_attributes, single_sensitive,\n",
      "  File \"C:\\Users\\hatta\\anaconda3\\lib\\site-packages\\fairness\\benchmark.py\", line 145, in run_alg\n",
      "    algorithm.run(train, test, class_attr, positive_val, all_sensitive_attributes,\n",
      "  File \"C:\\Users\\hatta\\anaconda3\\lib\\site-packages\\fairness\\algorithms\\zafar\\ZafarAlgorithm.py\", line 40, in run\n",
      "    train_name = create_file(train_df)\n",
      "  File \"C:\\Users\\hatta\\anaconda3\\lib\\site-packages\\fairness\\algorithms\\zafar\\ZafarAlgorithm.py\", line 29, in create_file\n",
      "    out[\"x\"] = df.drop(columns=[class_attr]).as_matrix().tolist()\n",
      "  File \"C:\\Users\\hatta\\anaconda3\\lib\\site-packages\\pandas\\core\\generic.py\", line 5274, in __getattr__\n",
      "    return object.__getattribute__(self, name)\n",
      "AttributeError: 'DataFrame' object has no attribute 'as_matrix'\n",
      "Failed: 'DataFrame' object has no attribute 'as_matrix'\n",
      "Traceback (most recent call last):\n",
      "  File \"C:\\Users\\hatta\\anaconda3\\lib\\site-packages\\fairness\\benchmark.py\", line 66, in run\n",
      "    run_eval_alg(algorithm, train, test, dataset_obj, processed_dataset,\n",
      "  File \"C:\\Users\\hatta\\anaconda3\\lib\\site-packages\\fairness\\benchmark.py\", line 107, in run_eval_alg\n",
      "    run_alg(algorithm, train, test, dataset, all_sensitive_attributes, single_sensitive,\n",
      "  File \"C:\\Users\\hatta\\anaconda3\\lib\\site-packages\\fairness\\benchmark.py\", line 145, in run_alg\n",
      "    algorithm.run(train, test, class_attr, positive_val, all_sensitive_attributes,\n",
      "  File \"C:\\Users\\hatta\\anaconda3\\lib\\site-packages\\fairness\\algorithms\\zafar\\ZafarAlgorithm.py\", line 40, in run\n",
      "    train_name = create_file(train_df)\n",
      "  File \"C:\\Users\\hatta\\anaconda3\\lib\\site-packages\\fairness\\algorithms\\zafar\\ZafarAlgorithm.py\", line 29, in create_file\n",
      "    out[\"x\"] = df.drop(columns=[class_attr]).as_matrix().tolist()\n",
      "  File \"C:\\Users\\hatta\\anaconda3\\lib\\site-packages\\pandas\\core\\generic.py\", line 5274, in __getattr__\n",
      "    return object.__getattribute__(self, name)\n",
      "AttributeError: 'DataFrame' object has no attribute 'as_matrix'\n",
      "Failed: 'DataFrame' object has no attribute 'as_matrix'\n",
      "Traceback (most recent call last):\n",
      "  File \"C:\\Users\\hatta\\anaconda3\\lib\\site-packages\\fairness\\benchmark.py\", line 66, in run\n",
      "    run_eval_alg(algorithm, train, test, dataset_obj, processed_dataset,\n",
      "  File \"C:\\Users\\hatta\\anaconda3\\lib\\site-packages\\fairness\\benchmark.py\", line 107, in run_eval_alg\n",
      "    run_alg(algorithm, train, test, dataset, all_sensitive_attributes, single_sensitive,\n",
      "  File \"C:\\Users\\hatta\\anaconda3\\lib\\site-packages\\fairness\\benchmark.py\", line 145, in run_alg\n",
      "    algorithm.run(train, test, class_attr, positive_val, all_sensitive_attributes,\n",
      "  File \"C:\\Users\\hatta\\anaconda3\\lib\\site-packages\\fairness\\algorithms\\zafar\\ZafarAlgorithm.py\", line 40, in run\n",
      "    train_name = create_file(train_df)\n",
      "  File \"C:\\Users\\hatta\\anaconda3\\lib\\site-packages\\fairness\\algorithms\\zafar\\ZafarAlgorithm.py\", line 29, in create_file\n",
      "    out[\"x\"] = df.drop(columns=[class_attr]).as_matrix().tolist()\n",
      "  File \"C:\\Users\\hatta\\anaconda3\\lib\\site-packages\\pandas\\core\\generic.py\", line 5274, in __getattr__\n",
      "    return object.__getattribute__(self, name)\n",
      "AttributeError: 'DataFrame' object has no attribute 'as_matrix'\n",
      "Failed: 'DataFrame' object has no attribute 'as_matrix'\n",
      "Traceback (most recent call last):\n",
      "  File \"C:\\Users\\hatta\\anaconda3\\lib\\site-packages\\fairness\\benchmark.py\", line 66, in run\n",
      "    run_eval_alg(algorithm, train, test, dataset_obj, processed_dataset,\n",
      "  File \"C:\\Users\\hatta\\anaconda3\\lib\\site-packages\\fairness\\benchmark.py\", line 107, in run_eval_alg\n",
      "    run_alg(algorithm, train, test, dataset, all_sensitive_attributes, single_sensitive,\n",
      "  File \"C:\\Users\\hatta\\anaconda3\\lib\\site-packages\\fairness\\benchmark.py\", line 145, in run_alg\n",
      "    algorithm.run(train, test, class_attr, positive_val, all_sensitive_attributes,\n",
      "  File \"C:\\Users\\hatta\\anaconda3\\lib\\site-packages\\fairness\\algorithms\\zafar\\ZafarAlgorithm.py\", line 40, in run\n",
      "    train_name = create_file(train_df)\n",
      "  File \"C:\\Users\\hatta\\anaconda3\\lib\\site-packages\\fairness\\algorithms\\zafar\\ZafarAlgorithm.py\", line 29, in create_file\n",
      "    out[\"x\"] = df.drop(columns=[class_attr]).as_matrix().tolist()\n",
      "  File \"C:\\Users\\hatta\\anaconda3\\lib\\site-packages\\pandas\\core\\generic.py\", line 5274, in __getattr__\n",
      "    return object.__getattribute__(self, name)\n",
      "AttributeError: 'DataFrame' object has no attribute 'as_matrix'\n",
      "Failed: 'DataFrame' object has no attribute 'as_matrix'\n",
      "Traceback (most recent call last):\n",
      "  File \"C:\\Users\\hatta\\anaconda3\\lib\\site-packages\\fairness\\benchmark.py\", line 66, in run\n",
      "    run_eval_alg(algorithm, train, test, dataset_obj, processed_dataset,\n",
      "  File \"C:\\Users\\hatta\\anaconda3\\lib\\site-packages\\fairness\\benchmark.py\", line 107, in run_eval_alg\n",
      "    run_alg(algorithm, train, test, dataset, all_sensitive_attributes, single_sensitive,\n",
      "  File \"C:\\Users\\hatta\\anaconda3\\lib\\site-packages\\fairness\\benchmark.py\", line 145, in run_alg\n",
      "    algorithm.run(train, test, class_attr, positive_val, all_sensitive_attributes,\n",
      "  File \"C:\\Users\\hatta\\anaconda3\\lib\\site-packages\\fairness\\algorithms\\zafar\\ZafarAlgorithm.py\", line 40, in run\n",
      "    train_name = create_file(train_df)\n",
      "  File \"C:\\Users\\hatta\\anaconda3\\lib\\site-packages\\fairness\\algorithms\\zafar\\ZafarAlgorithm.py\", line 29, in create_file\n",
      "    out[\"x\"] = df.drop(columns=[class_attr]).as_matrix().tolist()\n",
      "  File \"C:\\Users\\hatta\\anaconda3\\lib\\site-packages\\pandas\\core\\generic.py\", line 5274, in __getattr__\n",
      "    return object.__getattribute__(self, name)\n",
      "AttributeError: 'DataFrame' object has no attribute 'as_matrix'\n"
     ]
    },
    {
     "name": "stderr",
     "output_type": "stream",
     "text": [
      "Failed: 'DataFrame' object has no attribute 'as_matrix'\n",
      "Traceback (most recent call last):\n",
      "  File \"C:\\Users\\hatta\\anaconda3\\lib\\site-packages\\fairness\\benchmark.py\", line 66, in run\n",
      "    run_eval_alg(algorithm, train, test, dataset_obj, processed_dataset,\n",
      "  File \"C:\\Users\\hatta\\anaconda3\\lib\\site-packages\\fairness\\benchmark.py\", line 107, in run_eval_alg\n",
      "    run_alg(algorithm, train, test, dataset, all_sensitive_attributes, single_sensitive,\n",
      "  File \"C:\\Users\\hatta\\anaconda3\\lib\\site-packages\\fairness\\benchmark.py\", line 145, in run_alg\n",
      "    algorithm.run(train, test, class_attr, positive_val, all_sensitive_attributes,\n",
      "  File \"C:\\Users\\hatta\\anaconda3\\lib\\site-packages\\fairness\\algorithms\\zafar\\ZafarAlgorithm.py\", line 40, in run\n",
      "    train_name = create_file(train_df)\n",
      "  File \"C:\\Users\\hatta\\anaconda3\\lib\\site-packages\\fairness\\algorithms\\zafar\\ZafarAlgorithm.py\", line 29, in create_file\n",
      "    out[\"x\"] = df.drop(columns=[class_attr]).as_matrix().tolist()\n",
      "  File \"C:\\Users\\hatta\\anaconda3\\lib\\site-packages\\pandas\\core\\generic.py\", line 5274, in __getattr__\n",
      "    return object.__getattribute__(self, name)\n",
      "AttributeError: 'DataFrame' object has no attribute 'as_matrix'\n",
      "Failed: 'DataFrame' object has no attribute 'as_matrix'\n",
      "Traceback (most recent call last):\n",
      "  File \"C:\\Users\\hatta\\anaconda3\\lib\\site-packages\\fairness\\benchmark.py\", line 66, in run\n",
      "    run_eval_alg(algorithm, train, test, dataset_obj, processed_dataset,\n",
      "  File \"C:\\Users\\hatta\\anaconda3\\lib\\site-packages\\fairness\\benchmark.py\", line 107, in run_eval_alg\n",
      "    run_alg(algorithm, train, test, dataset, all_sensitive_attributes, single_sensitive,\n",
      "  File \"C:\\Users\\hatta\\anaconda3\\lib\\site-packages\\fairness\\benchmark.py\", line 145, in run_alg\n",
      "    algorithm.run(train, test, class_attr, positive_val, all_sensitive_attributes,\n",
      "  File \"C:\\Users\\hatta\\anaconda3\\lib\\site-packages\\fairness\\algorithms\\zafar\\ZafarAlgorithm.py\", line 40, in run\n",
      "    train_name = create_file(train_df)\n",
      "  File \"C:\\Users\\hatta\\anaconda3\\lib\\site-packages\\fairness\\algorithms\\zafar\\ZafarAlgorithm.py\", line 29, in create_file\n",
      "    out[\"x\"] = df.drop(columns=[class_attr]).as_matrix().tolist()\n",
      "  File \"C:\\Users\\hatta\\anaconda3\\lib\\site-packages\\pandas\\core\\generic.py\", line 5274, in __getattr__\n",
      "    return object.__getattribute__(self, name)\n",
      "AttributeError: 'DataFrame' object has no attribute 'as_matrix'\n",
      "Failed: 'DataFrame' object has no attribute 'as_matrix'\n",
      "Traceback (most recent call last):\n",
      "  File \"C:\\Users\\hatta\\anaconda3\\lib\\site-packages\\fairness\\benchmark.py\", line 66, in run\n",
      "    run_eval_alg(algorithm, train, test, dataset_obj, processed_dataset,\n",
      "  File \"C:\\Users\\hatta\\anaconda3\\lib\\site-packages\\fairness\\benchmark.py\", line 107, in run_eval_alg\n",
      "    run_alg(algorithm, train, test, dataset, all_sensitive_attributes, single_sensitive,\n",
      "  File \"C:\\Users\\hatta\\anaconda3\\lib\\site-packages\\fairness\\benchmark.py\", line 145, in run_alg\n",
      "    algorithm.run(train, test, class_attr, positive_val, all_sensitive_attributes,\n",
      "  File \"C:\\Users\\hatta\\anaconda3\\lib\\site-packages\\fairness\\algorithms\\zafar\\ZafarAlgorithm.py\", line 40, in run\n",
      "    train_name = create_file(train_df)\n",
      "  File \"C:\\Users\\hatta\\anaconda3\\lib\\site-packages\\fairness\\algorithms\\zafar\\ZafarAlgorithm.py\", line 29, in create_file\n",
      "    out[\"x\"] = df.drop(columns=[class_attr]).as_matrix().tolist()\n",
      "  File \"C:\\Users\\hatta\\anaconda3\\lib\\site-packages\\pandas\\core\\generic.py\", line 5274, in __getattr__\n",
      "    return object.__getattribute__(self, name)\n",
      "AttributeError: 'DataFrame' object has no attribute 'as_matrix'\n",
      "Failed: 'DataFrame' object has no attribute 'as_matrix'\n"
     ]
    },
    {
     "name": "stdout",
     "output_type": "stream",
     "text": [
      "    Algorithm: ZafarFairness\n",
      "       supported types: {'numerical-binsensitive'}\n"
     ]
    },
    {
     "name": "stderr",
     "output_type": "stream",
     "text": [
      "Traceback (most recent call last):\n",
      "  File \"C:\\Users\\hatta\\anaconda3\\lib\\site-packages\\fairness\\benchmark.py\", line 66, in run\n",
      "    run_eval_alg(algorithm, train, test, dataset_obj, processed_dataset,\n",
      "  File \"C:\\Users\\hatta\\anaconda3\\lib\\site-packages\\fairness\\benchmark.py\", line 107, in run_eval_alg\n",
      "    run_alg(algorithm, train, test, dataset, all_sensitive_attributes, single_sensitive,\n",
      "  File \"C:\\Users\\hatta\\anaconda3\\lib\\site-packages\\fairness\\benchmark.py\", line 145, in run_alg\n",
      "    algorithm.run(train, test, class_attr, positive_val, all_sensitive_attributes,\n",
      "  File \"C:\\Users\\hatta\\anaconda3\\lib\\site-packages\\fairness\\algorithms\\zafar\\ZafarAlgorithm.py\", line 40, in run\n",
      "    train_name = create_file(train_df)\n",
      "  File \"C:\\Users\\hatta\\anaconda3\\lib\\site-packages\\fairness\\algorithms\\zafar\\ZafarAlgorithm.py\", line 29, in create_file\n",
      "    out[\"x\"] = df.drop(columns=[class_attr]).as_matrix().tolist()\n",
      "  File \"C:\\Users\\hatta\\anaconda3\\lib\\site-packages\\pandas\\core\\generic.py\", line 5274, in __getattr__\n",
      "    return object.__getattribute__(self, name)\n",
      "AttributeError: 'DataFrame' object has no attribute 'as_matrix'\n",
      "Failed: 'DataFrame' object has no attribute 'as_matrix'\n",
      "Traceback (most recent call last):\n",
      "  File \"C:\\Users\\hatta\\anaconda3\\lib\\site-packages\\fairness\\benchmark.py\", line 66, in run\n",
      "    run_eval_alg(algorithm, train, test, dataset_obj, processed_dataset,\n",
      "  File \"C:\\Users\\hatta\\anaconda3\\lib\\site-packages\\fairness\\benchmark.py\", line 107, in run_eval_alg\n",
      "    run_alg(algorithm, train, test, dataset, all_sensitive_attributes, single_sensitive,\n",
      "  File \"C:\\Users\\hatta\\anaconda3\\lib\\site-packages\\fairness\\benchmark.py\", line 145, in run_alg\n",
      "    algorithm.run(train, test, class_attr, positive_val, all_sensitive_attributes,\n",
      "  File \"C:\\Users\\hatta\\anaconda3\\lib\\site-packages\\fairness\\algorithms\\zafar\\ZafarAlgorithm.py\", line 40, in run\n",
      "    train_name = create_file(train_df)\n",
      "  File \"C:\\Users\\hatta\\anaconda3\\lib\\site-packages\\fairness\\algorithms\\zafar\\ZafarAlgorithm.py\", line 29, in create_file\n",
      "    out[\"x\"] = df.drop(columns=[class_attr]).as_matrix().tolist()\n",
      "  File \"C:\\Users\\hatta\\anaconda3\\lib\\site-packages\\pandas\\core\\generic.py\", line 5274, in __getattr__\n",
      "    return object.__getattribute__(self, name)\n",
      "AttributeError: 'DataFrame' object has no attribute 'as_matrix'\n",
      "Failed: 'DataFrame' object has no attribute 'as_matrix'\n",
      "Traceback (most recent call last):\n",
      "  File \"C:\\Users\\hatta\\anaconda3\\lib\\site-packages\\fairness\\benchmark.py\", line 66, in run\n",
      "    run_eval_alg(algorithm, train, test, dataset_obj, processed_dataset,\n",
      "  File \"C:\\Users\\hatta\\anaconda3\\lib\\site-packages\\fairness\\benchmark.py\", line 107, in run_eval_alg\n",
      "    run_alg(algorithm, train, test, dataset, all_sensitive_attributes, single_sensitive,\n",
      "  File \"C:\\Users\\hatta\\anaconda3\\lib\\site-packages\\fairness\\benchmark.py\", line 145, in run_alg\n",
      "    algorithm.run(train, test, class_attr, positive_val, all_sensitive_attributes,\n",
      "  File \"C:\\Users\\hatta\\anaconda3\\lib\\site-packages\\fairness\\algorithms\\zafar\\ZafarAlgorithm.py\", line 40, in run\n",
      "    train_name = create_file(train_df)\n",
      "  File \"C:\\Users\\hatta\\anaconda3\\lib\\site-packages\\fairness\\algorithms\\zafar\\ZafarAlgorithm.py\", line 29, in create_file\n",
      "    out[\"x\"] = df.drop(columns=[class_attr]).as_matrix().tolist()\n",
      "  File \"C:\\Users\\hatta\\anaconda3\\lib\\site-packages\\pandas\\core\\generic.py\", line 5274, in __getattr__\n",
      "    return object.__getattribute__(self, name)\n",
      "AttributeError: 'DataFrame' object has no attribute 'as_matrix'\n",
      "Failed: 'DataFrame' object has no attribute 'as_matrix'\n",
      "Traceback (most recent call last):\n",
      "  File \"C:\\Users\\hatta\\anaconda3\\lib\\site-packages\\fairness\\benchmark.py\", line 66, in run\n",
      "    run_eval_alg(algorithm, train, test, dataset_obj, processed_dataset,\n",
      "  File \"C:\\Users\\hatta\\anaconda3\\lib\\site-packages\\fairness\\benchmark.py\", line 107, in run_eval_alg\n",
      "    run_alg(algorithm, train, test, dataset, all_sensitive_attributes, single_sensitive,\n",
      "  File \"C:\\Users\\hatta\\anaconda3\\lib\\site-packages\\fairness\\benchmark.py\", line 145, in run_alg\n",
      "    algorithm.run(train, test, class_attr, positive_val, all_sensitive_attributes,\n",
      "  File \"C:\\Users\\hatta\\anaconda3\\lib\\site-packages\\fairness\\algorithms\\zafar\\ZafarAlgorithm.py\", line 40, in run\n",
      "    train_name = create_file(train_df)\n",
      "  File \"C:\\Users\\hatta\\anaconda3\\lib\\site-packages\\fairness\\algorithms\\zafar\\ZafarAlgorithm.py\", line 29, in create_file\n",
      "    out[\"x\"] = df.drop(columns=[class_attr]).as_matrix().tolist()\n",
      "  File \"C:\\Users\\hatta\\anaconda3\\lib\\site-packages\\pandas\\core\\generic.py\", line 5274, in __getattr__\n",
      "    return object.__getattribute__(self, name)\n",
      "AttributeError: 'DataFrame' object has no attribute 'as_matrix'\n",
      "Failed: 'DataFrame' object has no attribute 'as_matrix'\n",
      "Traceback (most recent call last):\n",
      "  File \"C:\\Users\\hatta\\anaconda3\\lib\\site-packages\\fairness\\benchmark.py\", line 66, in run\n",
      "    run_eval_alg(algorithm, train, test, dataset_obj, processed_dataset,\n",
      "  File \"C:\\Users\\hatta\\anaconda3\\lib\\site-packages\\fairness\\benchmark.py\", line 107, in run_eval_alg\n",
      "    run_alg(algorithm, train, test, dataset, all_sensitive_attributes, single_sensitive,\n",
      "  File \"C:\\Users\\hatta\\anaconda3\\lib\\site-packages\\fairness\\benchmark.py\", line 145, in run_alg\n",
      "    algorithm.run(train, test, class_attr, positive_val, all_sensitive_attributes,\n",
      "  File \"C:\\Users\\hatta\\anaconda3\\lib\\site-packages\\fairness\\algorithms\\zafar\\ZafarAlgorithm.py\", line 40, in run\n",
      "    train_name = create_file(train_df)\n",
      "  File \"C:\\Users\\hatta\\anaconda3\\lib\\site-packages\\fairness\\algorithms\\zafar\\ZafarAlgorithm.py\", line 29, in create_file\n",
      "    out[\"x\"] = df.drop(columns=[class_attr]).as_matrix().tolist()\n",
      "  File \"C:\\Users\\hatta\\anaconda3\\lib\\site-packages\\pandas\\core\\generic.py\", line 5274, in __getattr__\n",
      "    return object.__getattribute__(self, name)\n",
      "AttributeError: 'DataFrame' object has no attribute 'as_matrix'\n",
      "Failed: 'DataFrame' object has no attribute 'as_matrix'\n",
      "Traceback (most recent call last):\n",
      "  File \"C:\\Users\\hatta\\anaconda3\\lib\\site-packages\\fairness\\benchmark.py\", line 66, in run\n",
      "    run_eval_alg(algorithm, train, test, dataset_obj, processed_dataset,\n",
      "  File \"C:\\Users\\hatta\\anaconda3\\lib\\site-packages\\fairness\\benchmark.py\", line 107, in run_eval_alg\n",
      "    run_alg(algorithm, train, test, dataset, all_sensitive_attributes, single_sensitive,\n",
      "  File \"C:\\Users\\hatta\\anaconda3\\lib\\site-packages\\fairness\\benchmark.py\", line 145, in run_alg\n",
      "    algorithm.run(train, test, class_attr, positive_val, all_sensitive_attributes,\n",
      "  File \"C:\\Users\\hatta\\anaconda3\\lib\\site-packages\\fairness\\algorithms\\zafar\\ZafarAlgorithm.py\", line 40, in run\n",
      "    train_name = create_file(train_df)\n",
      "  File \"C:\\Users\\hatta\\anaconda3\\lib\\site-packages\\fairness\\algorithms\\zafar\\ZafarAlgorithm.py\", line 29, in create_file\n",
      "    out[\"x\"] = df.drop(columns=[class_attr]).as_matrix().tolist()\n",
      "  File \"C:\\Users\\hatta\\anaconda3\\lib\\site-packages\\pandas\\core\\generic.py\", line 5274, in __getattr__\n",
      "    return object.__getattribute__(self, name)\n",
      "AttributeError: 'DataFrame' object has no attribute 'as_matrix'\n",
      "Failed: 'DataFrame' object has no attribute 'as_matrix'\n",
      "Traceback (most recent call last):\n",
      "  File \"C:\\Users\\hatta\\anaconda3\\lib\\site-packages\\fairness\\benchmark.py\", line 66, in run\n",
      "    run_eval_alg(algorithm, train, test, dataset_obj, processed_dataset,\n",
      "  File \"C:\\Users\\hatta\\anaconda3\\lib\\site-packages\\fairness\\benchmark.py\", line 107, in run_eval_alg\n",
      "    run_alg(algorithm, train, test, dataset, all_sensitive_attributes, single_sensitive,\n",
      "  File \"C:\\Users\\hatta\\anaconda3\\lib\\site-packages\\fairness\\benchmark.py\", line 145, in run_alg\n",
      "    algorithm.run(train, test, class_attr, positive_val, all_sensitive_attributes,\n",
      "  File \"C:\\Users\\hatta\\anaconda3\\lib\\site-packages\\fairness\\algorithms\\zafar\\ZafarAlgorithm.py\", line 40, in run\n",
      "    train_name = create_file(train_df)\n",
      "  File \"C:\\Users\\hatta\\anaconda3\\lib\\site-packages\\fairness\\algorithms\\zafar\\ZafarAlgorithm.py\", line 29, in create_file\n",
      "    out[\"x\"] = df.drop(columns=[class_attr]).as_matrix().tolist()\n",
      "  File \"C:\\Users\\hatta\\anaconda3\\lib\\site-packages\\pandas\\core\\generic.py\", line 5274, in __getattr__\n",
      "    return object.__getattribute__(self, name)\n",
      "AttributeError: 'DataFrame' object has no attribute 'as_matrix'\n"
     ]
    },
    {
     "name": "stderr",
     "output_type": "stream",
     "text": [
      "Failed: 'DataFrame' object has no attribute 'as_matrix'\n",
      "Traceback (most recent call last):\n",
      "  File \"C:\\Users\\hatta\\anaconda3\\lib\\site-packages\\fairness\\benchmark.py\", line 66, in run\n",
      "    run_eval_alg(algorithm, train, test, dataset_obj, processed_dataset,\n",
      "  File \"C:\\Users\\hatta\\anaconda3\\lib\\site-packages\\fairness\\benchmark.py\", line 107, in run_eval_alg\n",
      "    run_alg(algorithm, train, test, dataset, all_sensitive_attributes, single_sensitive,\n",
      "  File \"C:\\Users\\hatta\\anaconda3\\lib\\site-packages\\fairness\\benchmark.py\", line 145, in run_alg\n",
      "    algorithm.run(train, test, class_attr, positive_val, all_sensitive_attributes,\n",
      "  File \"C:\\Users\\hatta\\anaconda3\\lib\\site-packages\\fairness\\algorithms\\zafar\\ZafarAlgorithm.py\", line 40, in run\n",
      "    train_name = create_file(train_df)\n",
      "  File \"C:\\Users\\hatta\\anaconda3\\lib\\site-packages\\fairness\\algorithms\\zafar\\ZafarAlgorithm.py\", line 29, in create_file\n",
      "    out[\"x\"] = df.drop(columns=[class_attr]).as_matrix().tolist()\n",
      "  File \"C:\\Users\\hatta\\anaconda3\\lib\\site-packages\\pandas\\core\\generic.py\", line 5274, in __getattr__\n",
      "    return object.__getattribute__(self, name)\n",
      "AttributeError: 'DataFrame' object has no attribute 'as_matrix'\n",
      "Failed: 'DataFrame' object has no attribute 'as_matrix'\n",
      "Traceback (most recent call last):\n",
      "  File \"C:\\Users\\hatta\\anaconda3\\lib\\site-packages\\fairness\\benchmark.py\", line 66, in run\n",
      "    run_eval_alg(algorithm, train, test, dataset_obj, processed_dataset,\n",
      "  File \"C:\\Users\\hatta\\anaconda3\\lib\\site-packages\\fairness\\benchmark.py\", line 107, in run_eval_alg\n",
      "    run_alg(algorithm, train, test, dataset, all_sensitive_attributes, single_sensitive,\n",
      "  File \"C:\\Users\\hatta\\anaconda3\\lib\\site-packages\\fairness\\benchmark.py\", line 145, in run_alg\n",
      "    algorithm.run(train, test, class_attr, positive_val, all_sensitive_attributes,\n",
      "  File \"C:\\Users\\hatta\\anaconda3\\lib\\site-packages\\fairness\\algorithms\\zafar\\ZafarAlgorithm.py\", line 40, in run\n",
      "    train_name = create_file(train_df)\n",
      "  File \"C:\\Users\\hatta\\anaconda3\\lib\\site-packages\\fairness\\algorithms\\zafar\\ZafarAlgorithm.py\", line 29, in create_file\n",
      "    out[\"x\"] = df.drop(columns=[class_attr]).as_matrix().tolist()\n",
      "  File \"C:\\Users\\hatta\\anaconda3\\lib\\site-packages\\pandas\\core\\generic.py\", line 5274, in __getattr__\n",
      "    return object.__getattribute__(self, name)\n",
      "AttributeError: 'DataFrame' object has no attribute 'as_matrix'\n",
      "Failed: 'DataFrame' object has no attribute 'as_matrix'\n",
      "Traceback (most recent call last):\n",
      "  File \"C:\\Users\\hatta\\anaconda3\\lib\\site-packages\\fairness\\benchmark.py\", line 66, in run\n",
      "    run_eval_alg(algorithm, train, test, dataset_obj, processed_dataset,\n",
      "  File \"C:\\Users\\hatta\\anaconda3\\lib\\site-packages\\fairness\\benchmark.py\", line 107, in run_eval_alg\n",
      "    run_alg(algorithm, train, test, dataset, all_sensitive_attributes, single_sensitive,\n",
      "  File \"C:\\Users\\hatta\\anaconda3\\lib\\site-packages\\fairness\\benchmark.py\", line 145, in run_alg\n",
      "    algorithm.run(train, test, class_attr, positive_val, all_sensitive_attributes,\n",
      "  File \"C:\\Users\\hatta\\anaconda3\\lib\\site-packages\\fairness\\algorithms\\zafar\\ZafarAlgorithm.py\", line 40, in run\n",
      "    train_name = create_file(train_df)\n",
      "  File \"C:\\Users\\hatta\\anaconda3\\lib\\site-packages\\fairness\\algorithms\\zafar\\ZafarAlgorithm.py\", line 29, in create_file\n",
      "    out[\"x\"] = df.drop(columns=[class_attr]).as_matrix().tolist()\n",
      "  File \"C:\\Users\\hatta\\anaconda3\\lib\\site-packages\\pandas\\core\\generic.py\", line 5274, in __getattr__\n",
      "    return object.__getattribute__(self, name)\n",
      "AttributeError: 'DataFrame' object has no attribute 'as_matrix'\n",
      "Failed: 'DataFrame' object has no attribute 'as_matrix'\n"
     ]
    },
    {
     "name": "stdout",
     "output_type": "stream",
     "text": [
      "    Algorithm: ZafarAccuracy\n",
      "       supported types: {'numerical-binsensitive'}\n"
     ]
    },
    {
     "name": "stderr",
     "output_type": "stream",
     "text": [
      "Traceback (most recent call last):\n",
      "  File \"C:\\Users\\hatta\\anaconda3\\lib\\site-packages\\fairness\\benchmark.py\", line 66, in run\n",
      "    run_eval_alg(algorithm, train, test, dataset_obj, processed_dataset,\n",
      "  File \"C:\\Users\\hatta\\anaconda3\\lib\\site-packages\\fairness\\benchmark.py\", line 107, in run_eval_alg\n",
      "    run_alg(algorithm, train, test, dataset, all_sensitive_attributes, single_sensitive,\n",
      "  File \"C:\\Users\\hatta\\anaconda3\\lib\\site-packages\\fairness\\benchmark.py\", line 145, in run_alg\n",
      "    algorithm.run(train, test, class_attr, positive_val, all_sensitive_attributes,\n",
      "  File \"C:\\Users\\hatta\\anaconda3\\lib\\site-packages\\fairness\\algorithms\\zafar\\ZafarAlgorithm.py\", line 40, in run\n",
      "    train_name = create_file(train_df)\n",
      "  File \"C:\\Users\\hatta\\anaconda3\\lib\\site-packages\\fairness\\algorithms\\zafar\\ZafarAlgorithm.py\", line 29, in create_file\n",
      "    out[\"x\"] = df.drop(columns=[class_attr]).as_matrix().tolist()\n",
      "  File \"C:\\Users\\hatta\\anaconda3\\lib\\site-packages\\pandas\\core\\generic.py\", line 5274, in __getattr__\n",
      "    return object.__getattribute__(self, name)\n",
      "AttributeError: 'DataFrame' object has no attribute 'as_matrix'\n",
      "Failed: 'DataFrame' object has no attribute 'as_matrix'\n",
      "Traceback (most recent call last):\n",
      "  File \"C:\\Users\\hatta\\anaconda3\\lib\\site-packages\\fairness\\benchmark.py\", line 66, in run\n",
      "    run_eval_alg(algorithm, train, test, dataset_obj, processed_dataset,\n",
      "  File \"C:\\Users\\hatta\\anaconda3\\lib\\site-packages\\fairness\\benchmark.py\", line 107, in run_eval_alg\n",
      "    run_alg(algorithm, train, test, dataset, all_sensitive_attributes, single_sensitive,\n",
      "  File \"C:\\Users\\hatta\\anaconda3\\lib\\site-packages\\fairness\\benchmark.py\", line 145, in run_alg\n",
      "    algorithm.run(train, test, class_attr, positive_val, all_sensitive_attributes,\n",
      "  File \"C:\\Users\\hatta\\anaconda3\\lib\\site-packages\\fairness\\algorithms\\zafar\\ZafarAlgorithm.py\", line 40, in run\n",
      "    train_name = create_file(train_df)\n",
      "  File \"C:\\Users\\hatta\\anaconda3\\lib\\site-packages\\fairness\\algorithms\\zafar\\ZafarAlgorithm.py\", line 29, in create_file\n",
      "    out[\"x\"] = df.drop(columns=[class_attr]).as_matrix().tolist()\n",
      "  File \"C:\\Users\\hatta\\anaconda3\\lib\\site-packages\\pandas\\core\\generic.py\", line 5274, in __getattr__\n",
      "    return object.__getattribute__(self, name)\n",
      "AttributeError: 'DataFrame' object has no attribute 'as_matrix'\n",
      "Failed: 'DataFrame' object has no attribute 'as_matrix'\n",
      "Traceback (most recent call last):\n",
      "  File \"C:\\Users\\hatta\\anaconda3\\lib\\site-packages\\fairness\\benchmark.py\", line 66, in run\n",
      "    run_eval_alg(algorithm, train, test, dataset_obj, processed_dataset,\n",
      "  File \"C:\\Users\\hatta\\anaconda3\\lib\\site-packages\\fairness\\benchmark.py\", line 107, in run_eval_alg\n",
      "    run_alg(algorithm, train, test, dataset, all_sensitive_attributes, single_sensitive,\n",
      "  File \"C:\\Users\\hatta\\anaconda3\\lib\\site-packages\\fairness\\benchmark.py\", line 145, in run_alg\n",
      "    algorithm.run(train, test, class_attr, positive_val, all_sensitive_attributes,\n",
      "  File \"C:\\Users\\hatta\\anaconda3\\lib\\site-packages\\fairness\\algorithms\\zafar\\ZafarAlgorithm.py\", line 40, in run\n",
      "    train_name = create_file(train_df)\n",
      "  File \"C:\\Users\\hatta\\anaconda3\\lib\\site-packages\\fairness\\algorithms\\zafar\\ZafarAlgorithm.py\", line 29, in create_file\n",
      "    out[\"x\"] = df.drop(columns=[class_attr]).as_matrix().tolist()\n",
      "  File \"C:\\Users\\hatta\\anaconda3\\lib\\site-packages\\pandas\\core\\generic.py\", line 5274, in __getattr__\n",
      "    return object.__getattribute__(self, name)\n",
      "AttributeError: 'DataFrame' object has no attribute 'as_matrix'\n",
      "Failed: 'DataFrame' object has no attribute 'as_matrix'\n",
      "Traceback (most recent call last):\n",
      "  File \"C:\\Users\\hatta\\anaconda3\\lib\\site-packages\\fairness\\benchmark.py\", line 66, in run\n",
      "    run_eval_alg(algorithm, train, test, dataset_obj, processed_dataset,\n",
      "  File \"C:\\Users\\hatta\\anaconda3\\lib\\site-packages\\fairness\\benchmark.py\", line 107, in run_eval_alg\n",
      "    run_alg(algorithm, train, test, dataset, all_sensitive_attributes, single_sensitive,\n",
      "  File \"C:\\Users\\hatta\\anaconda3\\lib\\site-packages\\fairness\\benchmark.py\", line 145, in run_alg\n",
      "    algorithm.run(train, test, class_attr, positive_val, all_sensitive_attributes,\n",
      "  File \"C:\\Users\\hatta\\anaconda3\\lib\\site-packages\\fairness\\algorithms\\zafar\\ZafarAlgorithm.py\", line 40, in run\n",
      "    train_name = create_file(train_df)\n",
      "  File \"C:\\Users\\hatta\\anaconda3\\lib\\site-packages\\fairness\\algorithms\\zafar\\ZafarAlgorithm.py\", line 29, in create_file\n",
      "    out[\"x\"] = df.drop(columns=[class_attr]).as_matrix().tolist()\n",
      "  File \"C:\\Users\\hatta\\anaconda3\\lib\\site-packages\\pandas\\core\\generic.py\", line 5274, in __getattr__\n",
      "    return object.__getattribute__(self, name)\n",
      "AttributeError: 'DataFrame' object has no attribute 'as_matrix'\n",
      "Failed: 'DataFrame' object has no attribute 'as_matrix'\n",
      "Traceback (most recent call last):\n",
      "  File \"C:\\Users\\hatta\\anaconda3\\lib\\site-packages\\fairness\\benchmark.py\", line 66, in run\n",
      "    run_eval_alg(algorithm, train, test, dataset_obj, processed_dataset,\n",
      "  File \"C:\\Users\\hatta\\anaconda3\\lib\\site-packages\\fairness\\benchmark.py\", line 107, in run_eval_alg\n",
      "    run_alg(algorithm, train, test, dataset, all_sensitive_attributes, single_sensitive,\n",
      "  File \"C:\\Users\\hatta\\anaconda3\\lib\\site-packages\\fairness\\benchmark.py\", line 145, in run_alg\n",
      "    algorithm.run(train, test, class_attr, positive_val, all_sensitive_attributes,\n",
      "  File \"C:\\Users\\hatta\\anaconda3\\lib\\site-packages\\fairness\\algorithms\\zafar\\ZafarAlgorithm.py\", line 40, in run\n",
      "    train_name = create_file(train_df)\n",
      "  File \"C:\\Users\\hatta\\anaconda3\\lib\\site-packages\\fairness\\algorithms\\zafar\\ZafarAlgorithm.py\", line 29, in create_file\n",
      "    out[\"x\"] = df.drop(columns=[class_attr]).as_matrix().tolist()\n",
      "  File \"C:\\Users\\hatta\\anaconda3\\lib\\site-packages\\pandas\\core\\generic.py\", line 5274, in __getattr__\n",
      "    return object.__getattribute__(self, name)\n",
      "AttributeError: 'DataFrame' object has no attribute 'as_matrix'\n",
      "Failed: 'DataFrame' object has no attribute 'as_matrix'\n",
      "Traceback (most recent call last):\n",
      "  File \"C:\\Users\\hatta\\anaconda3\\lib\\site-packages\\fairness\\benchmark.py\", line 66, in run\n",
      "    run_eval_alg(algorithm, train, test, dataset_obj, processed_dataset,\n",
      "  File \"C:\\Users\\hatta\\anaconda3\\lib\\site-packages\\fairness\\benchmark.py\", line 107, in run_eval_alg\n",
      "    run_alg(algorithm, train, test, dataset, all_sensitive_attributes, single_sensitive,\n",
      "  File \"C:\\Users\\hatta\\anaconda3\\lib\\site-packages\\fairness\\benchmark.py\", line 145, in run_alg\n",
      "    algorithm.run(train, test, class_attr, positive_val, all_sensitive_attributes,\n",
      "  File \"C:\\Users\\hatta\\anaconda3\\lib\\site-packages\\fairness\\algorithms\\zafar\\ZafarAlgorithm.py\", line 40, in run\n",
      "    train_name = create_file(train_df)\n",
      "  File \"C:\\Users\\hatta\\anaconda3\\lib\\site-packages\\fairness\\algorithms\\zafar\\ZafarAlgorithm.py\", line 29, in create_file\n",
      "    out[\"x\"] = df.drop(columns=[class_attr]).as_matrix().tolist()\n",
      "  File \"C:\\Users\\hatta\\anaconda3\\lib\\site-packages\\pandas\\core\\generic.py\", line 5274, in __getattr__\n",
      "    return object.__getattribute__(self, name)\n",
      "AttributeError: 'DataFrame' object has no attribute 'as_matrix'\n",
      "Failed: 'DataFrame' object has no attribute 'as_matrix'\n",
      "Traceback (most recent call last):\n",
      "  File \"C:\\Users\\hatta\\anaconda3\\lib\\site-packages\\fairness\\benchmark.py\", line 66, in run\n",
      "    run_eval_alg(algorithm, train, test, dataset_obj, processed_dataset,\n",
      "  File \"C:\\Users\\hatta\\anaconda3\\lib\\site-packages\\fairness\\benchmark.py\", line 107, in run_eval_alg\n",
      "    run_alg(algorithm, train, test, dataset, all_sensitive_attributes, single_sensitive,\n",
      "  File \"C:\\Users\\hatta\\anaconda3\\lib\\site-packages\\fairness\\benchmark.py\", line 145, in run_alg\n",
      "    algorithm.run(train, test, class_attr, positive_val, all_sensitive_attributes,\n",
      "  File \"C:\\Users\\hatta\\anaconda3\\lib\\site-packages\\fairness\\algorithms\\zafar\\ZafarAlgorithm.py\", line 40, in run\n",
      "    train_name = create_file(train_df)\n",
      "  File \"C:\\Users\\hatta\\anaconda3\\lib\\site-packages\\fairness\\algorithms\\zafar\\ZafarAlgorithm.py\", line 29, in create_file\n",
      "    out[\"x\"] = df.drop(columns=[class_attr]).as_matrix().tolist()\n",
      "  File \"C:\\Users\\hatta\\anaconda3\\lib\\site-packages\\pandas\\core\\generic.py\", line 5274, in __getattr__\n",
      "    return object.__getattribute__(self, name)\n",
      "AttributeError: 'DataFrame' object has no attribute 'as_matrix'\n"
     ]
    },
    {
     "name": "stderr",
     "output_type": "stream",
     "text": [
      "Failed: 'DataFrame' object has no attribute 'as_matrix'\n",
      "Traceback (most recent call last):\n",
      "  File \"C:\\Users\\hatta\\anaconda3\\lib\\site-packages\\fairness\\benchmark.py\", line 66, in run\n",
      "    run_eval_alg(algorithm, train, test, dataset_obj, processed_dataset,\n",
      "  File \"C:\\Users\\hatta\\anaconda3\\lib\\site-packages\\fairness\\benchmark.py\", line 107, in run_eval_alg\n",
      "    run_alg(algorithm, train, test, dataset, all_sensitive_attributes, single_sensitive,\n",
      "  File \"C:\\Users\\hatta\\anaconda3\\lib\\site-packages\\fairness\\benchmark.py\", line 145, in run_alg\n",
      "    algorithm.run(train, test, class_attr, positive_val, all_sensitive_attributes,\n",
      "  File \"C:\\Users\\hatta\\anaconda3\\lib\\site-packages\\fairness\\algorithms\\zafar\\ZafarAlgorithm.py\", line 40, in run\n",
      "    train_name = create_file(train_df)\n",
      "  File \"C:\\Users\\hatta\\anaconda3\\lib\\site-packages\\fairness\\algorithms\\zafar\\ZafarAlgorithm.py\", line 29, in create_file\n",
      "    out[\"x\"] = df.drop(columns=[class_attr]).as_matrix().tolist()\n",
      "  File \"C:\\Users\\hatta\\anaconda3\\lib\\site-packages\\pandas\\core\\generic.py\", line 5274, in __getattr__\n",
      "    return object.__getattribute__(self, name)\n",
      "AttributeError: 'DataFrame' object has no attribute 'as_matrix'\n",
      "Failed: 'DataFrame' object has no attribute 'as_matrix'\n",
      "Traceback (most recent call last):\n",
      "  File \"C:\\Users\\hatta\\anaconda3\\lib\\site-packages\\fairness\\benchmark.py\", line 66, in run\n",
      "    run_eval_alg(algorithm, train, test, dataset_obj, processed_dataset,\n",
      "  File \"C:\\Users\\hatta\\anaconda3\\lib\\site-packages\\fairness\\benchmark.py\", line 107, in run_eval_alg\n",
      "    run_alg(algorithm, train, test, dataset, all_sensitive_attributes, single_sensitive,\n",
      "  File \"C:\\Users\\hatta\\anaconda3\\lib\\site-packages\\fairness\\benchmark.py\", line 145, in run_alg\n",
      "    algorithm.run(train, test, class_attr, positive_val, all_sensitive_attributes,\n",
      "  File \"C:\\Users\\hatta\\anaconda3\\lib\\site-packages\\fairness\\algorithms\\zafar\\ZafarAlgorithm.py\", line 40, in run\n",
      "    train_name = create_file(train_df)\n",
      "  File \"C:\\Users\\hatta\\anaconda3\\lib\\site-packages\\fairness\\algorithms\\zafar\\ZafarAlgorithm.py\", line 29, in create_file\n",
      "    out[\"x\"] = df.drop(columns=[class_attr]).as_matrix().tolist()\n",
      "  File \"C:\\Users\\hatta\\anaconda3\\lib\\site-packages\\pandas\\core\\generic.py\", line 5274, in __getattr__\n",
      "    return object.__getattribute__(self, name)\n",
      "AttributeError: 'DataFrame' object has no attribute 'as_matrix'\n",
      "Failed: 'DataFrame' object has no attribute 'as_matrix'\n",
      "Traceback (most recent call last):\n",
      "  File \"C:\\Users\\hatta\\anaconda3\\lib\\site-packages\\fairness\\benchmark.py\", line 66, in run\n",
      "    run_eval_alg(algorithm, train, test, dataset_obj, processed_dataset,\n",
      "  File \"C:\\Users\\hatta\\anaconda3\\lib\\site-packages\\fairness\\benchmark.py\", line 107, in run_eval_alg\n",
      "    run_alg(algorithm, train, test, dataset, all_sensitive_attributes, single_sensitive,\n",
      "  File \"C:\\Users\\hatta\\anaconda3\\lib\\site-packages\\fairness\\benchmark.py\", line 145, in run_alg\n",
      "    algorithm.run(train, test, class_attr, positive_val, all_sensitive_attributes,\n",
      "  File \"C:\\Users\\hatta\\anaconda3\\lib\\site-packages\\fairness\\algorithms\\zafar\\ZafarAlgorithm.py\", line 40, in run\n",
      "    train_name = create_file(train_df)\n",
      "  File \"C:\\Users\\hatta\\anaconda3\\lib\\site-packages\\fairness\\algorithms\\zafar\\ZafarAlgorithm.py\", line 29, in create_file\n",
      "    out[\"x\"] = df.drop(columns=[class_attr]).as_matrix().tolist()\n",
      "  File \"C:\\Users\\hatta\\anaconda3\\lib\\site-packages\\pandas\\core\\generic.py\", line 5274, in __getattr__\n",
      "    return object.__getattribute__(self, name)\n",
      "AttributeError: 'DataFrame' object has no attribute 'as_matrix'\n",
      "Failed: 'DataFrame' object has no attribute 'as_matrix'\n"
     ]
    },
    {
     "name": "stdout",
     "output_type": "stream",
     "text": [
      "    Algorithm: Kamishima-accuracy\n",
      "       supported types: {'numerical-binsensitive'}\n"
     ]
    },
    {
     "name": "stderr",
     "output_type": "stream",
     "text": [
      "C:\\Users\\hatta\\anaconda3\\lib\\site-packages\\fairness\\algorithms\\kamishima\\KamishimaAlgorithm.py:99: UserWarning: loadtxt: Empty input file: \"C:\\Users\\hatta\\AppData\\Local\\Temp\\tmpdd5i9y60\"\n",
      "  m = numpy.loadtxt(output_name)\n"
     ]
    },
    {
     "name": "stdout",
     "output_type": "stream",
     "text": [
      "run for parameters {} failed: too many indices for array\n"
     ]
    },
    {
     "name": "stderr",
     "output_type": "stream",
     "text": [
      "C:\\Users\\hatta\\anaconda3\\lib\\site-packages\\fairness\\algorithms\\kamishima\\KamishimaAlgorithm.py:99: UserWarning: loadtxt: Empty input file: \"C:\\Users\\hatta\\AppData\\Local\\Temp\\tmpnhibo1_u\"\n",
      "  m = numpy.loadtxt(output_name)\n"
     ]
    },
    {
     "name": "stdout",
     "output_type": "stream",
     "text": [
      "run for parameters {} failed: too many indices for array\n"
     ]
    },
    {
     "name": "stderr",
     "output_type": "stream",
     "text": [
      "C:\\Users\\hatta\\anaconda3\\lib\\site-packages\\fairness\\algorithms\\kamishima\\KamishimaAlgorithm.py:99: UserWarning: loadtxt: Empty input file: \"C:\\Users\\hatta\\AppData\\Local\\Temp\\tmpdwjnda3l\"\n",
      "  m = numpy.loadtxt(output_name)\n"
     ]
    },
    {
     "name": "stdout",
     "output_type": "stream",
     "text": [
      "run for parameters {} failed: too many indices for array\n"
     ]
    },
    {
     "name": "stderr",
     "output_type": "stream",
     "text": [
      "C:\\Users\\hatta\\anaconda3\\lib\\site-packages\\fairness\\algorithms\\kamishima\\KamishimaAlgorithm.py:99: UserWarning: loadtxt: Empty input file: \"C:\\Users\\hatta\\AppData\\Local\\Temp\\tmpv17bpm8m\"\n",
      "  m = numpy.loadtxt(output_name)\n"
     ]
    },
    {
     "name": "stdout",
     "output_type": "stream",
     "text": [
      "run for parameters {} failed: too many indices for array\n"
     ]
    },
    {
     "name": "stderr",
     "output_type": "stream",
     "text": [
      "C:\\Users\\hatta\\anaconda3\\lib\\site-packages\\fairness\\algorithms\\kamishima\\KamishimaAlgorithm.py:99: UserWarning: loadtxt: Empty input file: \"C:\\Users\\hatta\\AppData\\Local\\Temp\\tmpteg3ivpq\"\n",
      "  m = numpy.loadtxt(output_name)\n"
     ]
    },
    {
     "name": "stdout",
     "output_type": "stream",
     "text": [
      "run for parameters {} failed: too many indices for array\n"
     ]
    },
    {
     "name": "stderr",
     "output_type": "stream",
     "text": [
      "C:\\Users\\hatta\\anaconda3\\lib\\site-packages\\fairness\\algorithms\\kamishima\\KamishimaAlgorithm.py:99: UserWarning: loadtxt: Empty input file: \"C:\\Users\\hatta\\AppData\\Local\\Temp\\tmpyzu5btsv\"\n",
      "  m = numpy.loadtxt(output_name)\n"
     ]
    },
    {
     "name": "stdout",
     "output_type": "stream",
     "text": [
      "run for parameters {} failed: too many indices for array\n"
     ]
    },
    {
     "name": "stderr",
     "output_type": "stream",
     "text": [
      "C:\\Users\\hatta\\anaconda3\\lib\\site-packages\\fairness\\algorithms\\kamishima\\KamishimaAlgorithm.py:99: UserWarning: loadtxt: Empty input file: \"C:\\Users\\hatta\\AppData\\Local\\Temp\\tmph76dbpr8\"\n",
      "  m = numpy.loadtxt(output_name)\n"
     ]
    },
    {
     "name": "stdout",
     "output_type": "stream",
     "text": [
      "run for parameters {} failed: too many indices for array\n"
     ]
    },
    {
     "name": "stderr",
     "output_type": "stream",
     "text": [
      "C:\\Users\\hatta\\anaconda3\\lib\\site-packages\\fairness\\algorithms\\kamishima\\KamishimaAlgorithm.py:99: UserWarning: loadtxt: Empty input file: \"C:\\Users\\hatta\\AppData\\Local\\Temp\\tmpqsbjd918\"\n",
      "  m = numpy.loadtxt(output_name)\n"
     ]
    },
    {
     "name": "stdout",
     "output_type": "stream",
     "text": [
      "run for parameters {} failed: too many indices for array\n"
     ]
    },
    {
     "name": "stderr",
     "output_type": "stream",
     "text": [
      "C:\\Users\\hatta\\anaconda3\\lib\\site-packages\\fairness\\algorithms\\kamishima\\KamishimaAlgorithm.py:99: UserWarning: loadtxt: Empty input file: \"C:\\Users\\hatta\\AppData\\Local\\Temp\\tmpb99xy9vl\"\n",
      "  m = numpy.loadtxt(output_name)\n"
     ]
    },
    {
     "name": "stdout",
     "output_type": "stream",
     "text": [
      "run for parameters {} failed: too many indices for array\n"
     ]
    },
    {
     "name": "stderr",
     "output_type": "stream",
     "text": [
      "C:\\Users\\hatta\\anaconda3\\lib\\site-packages\\fairness\\algorithms\\kamishima\\KamishimaAlgorithm.py:99: UserWarning: loadtxt: Empty input file: \"C:\\Users\\hatta\\AppData\\Local\\Temp\\tmpllfv64bo\"\n",
      "  m = numpy.loadtxt(output_name)\n"
     ]
    },
    {
     "name": "stdout",
     "output_type": "stream",
     "text": [
      "run for parameters {} failed: too many indices for array\n"
     ]
    },
    {
     "name": "stderr",
     "output_type": "stream",
     "text": [
      "C:\\Users\\hatta\\anaconda3\\lib\\site-packages\\fairness\\algorithms\\kamishima\\KamishimaAlgorithm.py:99: UserWarning: loadtxt: Empty input file: \"C:\\Users\\hatta\\AppData\\Local\\Temp\\tmp8lodoefg\"\n",
      "  m = numpy.loadtxt(output_name)\n"
     ]
    },
    {
     "name": "stdout",
     "output_type": "stream",
     "text": [
      "run for parameters {} failed: too many indices for array\n"
     ]
    },
    {
     "name": "stderr",
     "output_type": "stream",
     "text": [
      "C:\\Users\\hatta\\anaconda3\\lib\\site-packages\\fairness\\algorithms\\kamishima\\KamishimaAlgorithm.py:99: UserWarning: loadtxt: Empty input file: \"C:\\Users\\hatta\\AppData\\Local\\Temp\\tmpulrjfhff\"\n",
      "  m = numpy.loadtxt(output_name)\n"
     ]
    },
    {
     "name": "stdout",
     "output_type": "stream",
     "text": [
      "run for parameters {} failed: too many indices for array\n"
     ]
    },
    {
     "name": "stderr",
     "output_type": "stream",
     "text": [
      "C:\\Users\\hatta\\anaconda3\\lib\\site-packages\\fairness\\algorithms\\kamishima\\KamishimaAlgorithm.py:99: UserWarning: loadtxt: Empty input file: \"C:\\Users\\hatta\\AppData\\Local\\Temp\\tmpe4jwufh_\"\n",
      "  m = numpy.loadtxt(output_name)\n"
     ]
    },
    {
     "name": "stdout",
     "output_type": "stream",
     "text": [
      "run for parameters {} failed: too many indices for array\n"
     ]
    },
    {
     "name": "stderr",
     "output_type": "stream",
     "text": [
      "C:\\Users\\hatta\\anaconda3\\lib\\site-packages\\fairness\\algorithms\\kamishima\\KamishimaAlgorithm.py:99: UserWarning: loadtxt: Empty input file: \"C:\\Users\\hatta\\AppData\\Local\\Temp\\tmps6er2ovl\"\n",
      "  m = numpy.loadtxt(output_name)\n"
     ]
    },
    {
     "name": "stdout",
     "output_type": "stream",
     "text": [
      "run for parameters {} failed: too many indices for array\n"
     ]
    },
    {
     "name": "stderr",
     "output_type": "stream",
     "text": [
      "C:\\Users\\hatta\\anaconda3\\lib\\site-packages\\fairness\\algorithms\\kamishima\\KamishimaAlgorithm.py:99: UserWarning: loadtxt: Empty input file: \"C:\\Users\\hatta\\AppData\\Local\\Temp\\tmp4jr3czox\"\n",
      "  m = numpy.loadtxt(output_name)\n"
     ]
    },
    {
     "name": "stdout",
     "output_type": "stream",
     "text": [
      "run for parameters {} failed: too many indices for array\n"
     ]
    },
    {
     "name": "stderr",
     "output_type": "stream",
     "text": [
      "C:\\Users\\hatta\\anaconda3\\lib\\site-packages\\fairness\\algorithms\\kamishima\\KamishimaAlgorithm.py:99: UserWarning: loadtxt: Empty input file: \"C:\\Users\\hatta\\AppData\\Local\\Temp\\tmp7thjn0oz\"\n",
      "  m = numpy.loadtxt(output_name)\n"
     ]
    },
    {
     "name": "stdout",
     "output_type": "stream",
     "text": [
      "run for parameters {} failed: too many indices for array\n"
     ]
    },
    {
     "name": "stderr",
     "output_type": "stream",
     "text": [
      "C:\\Users\\hatta\\anaconda3\\lib\\site-packages\\fairness\\algorithms\\kamishima\\KamishimaAlgorithm.py:99: UserWarning: loadtxt: Empty input file: \"C:\\Users\\hatta\\AppData\\Local\\Temp\\tmp13ktvbvj\"\n",
      "  m = numpy.loadtxt(output_name)\n"
     ]
    },
    {
     "name": "stdout",
     "output_type": "stream",
     "text": [
      "run for parameters {} failed: too many indices for array\n"
     ]
    },
    {
     "name": "stderr",
     "output_type": "stream",
     "text": [
      "Traceback (most recent call last):\n",
      "  File \"C:\\Users\\hatta\\anaconda3\\lib\\site-packages\\fairness\\benchmark.py\", line 66, in run\n",
      "    run_eval_alg(algorithm, train, test, dataset_obj, processed_dataset,\n",
      "  File \"C:\\Users\\hatta\\anaconda3\\lib\\site-packages\\fairness\\benchmark.py\", line 107, in run_eval_alg\n",
      "    run_alg(algorithm, train, test, dataset, all_sensitive_attributes, single_sensitive,\n",
      "  File \"C:\\Users\\hatta\\anaconda3\\lib\\site-packages\\fairness\\benchmark.py\", line 145, in run_alg\n",
      "    algorithm.run(train, test, class_attr, positive_val, all_sensitive_attributes,\n",
      "  File \"C:\\Users\\hatta\\anaconda3\\lib\\site-packages\\fairness\\algorithms\\ParamGridSearch.py\", line 36, in run\n",
      "    best_predictions = self.find_best(all_predictions, train_df, test_df, class_attr,\n",
      "  File \"C:\\Users\\hatta\\anaconda3\\lib\\site-packages\\fairness\\algorithms\\ParamGridSearch.py\", line 44, in find_best\n",
      "    raise Exception(\n",
      "Exception: No run in the parameter grid search succeeded - failing run of algorithm\n",
      "Failed: No run in the parameter grid search succeeded - failing run of algorithm\n",
      "C:\\Users\\hatta\\anaconda3\\lib\\site-packages\\fairness\\algorithms\\kamishima\\KamishimaAlgorithm.py:99: UserWarning: loadtxt: Empty input file: \"C:\\Users\\hatta\\AppData\\Local\\Temp\\tmpm1qll8by\"\n",
      "  m = numpy.loadtxt(output_name)\n"
     ]
    },
    {
     "name": "stdout",
     "output_type": "stream",
     "text": [
      "run for parameters {} failed: too many indices for array\n"
     ]
    },
    {
     "name": "stderr",
     "output_type": "stream",
     "text": [
      "C:\\Users\\hatta\\anaconda3\\lib\\site-packages\\fairness\\algorithms\\kamishima\\KamishimaAlgorithm.py:99: UserWarning: loadtxt: Empty input file: \"C:\\Users\\hatta\\AppData\\Local\\Temp\\tmpk9gdwozw\"\n",
      "  m = numpy.loadtxt(output_name)\n"
     ]
    },
    {
     "name": "stdout",
     "output_type": "stream",
     "text": [
      "run for parameters {} failed: too many indices for array\n"
     ]
    },
    {
     "name": "stderr",
     "output_type": "stream",
     "text": [
      "C:\\Users\\hatta\\anaconda3\\lib\\site-packages\\fairness\\algorithms\\kamishima\\KamishimaAlgorithm.py:99: UserWarning: loadtxt: Empty input file: \"C:\\Users\\hatta\\AppData\\Local\\Temp\\tmpq88ulzwk\"\n",
      "  m = numpy.loadtxt(output_name)\n"
     ]
    },
    {
     "name": "stdout",
     "output_type": "stream",
     "text": [
      "run for parameters {} failed: too many indices for array\n"
     ]
    },
    {
     "name": "stderr",
     "output_type": "stream",
     "text": [
      "C:\\Users\\hatta\\anaconda3\\lib\\site-packages\\fairness\\algorithms\\kamishima\\KamishimaAlgorithm.py:99: UserWarning: loadtxt: Empty input file: \"C:\\Users\\hatta\\AppData\\Local\\Temp\\tmpd7wd7dz5\"\n",
      "  m = numpy.loadtxt(output_name)\n"
     ]
    },
    {
     "name": "stdout",
     "output_type": "stream",
     "text": [
      "run for parameters {} failed: too many indices for array\n"
     ]
    },
    {
     "name": "stderr",
     "output_type": "stream",
     "text": [
      "C:\\Users\\hatta\\anaconda3\\lib\\site-packages\\fairness\\algorithms\\kamishima\\KamishimaAlgorithm.py:99: UserWarning: loadtxt: Empty input file: \"C:\\Users\\hatta\\AppData\\Local\\Temp\\tmph1ye0lf1\"\n",
      "  m = numpy.loadtxt(output_name)\n"
     ]
    },
    {
     "name": "stdout",
     "output_type": "stream",
     "text": [
      "run for parameters {} failed: too many indices for array\n"
     ]
    },
    {
     "name": "stderr",
     "output_type": "stream",
     "text": [
      "C:\\Users\\hatta\\anaconda3\\lib\\site-packages\\fairness\\algorithms\\kamishima\\KamishimaAlgorithm.py:99: UserWarning: loadtxt: Empty input file: \"C:\\Users\\hatta\\AppData\\Local\\Temp\\tmpt1_tvhgs\"\n",
      "  m = numpy.loadtxt(output_name)\n"
     ]
    },
    {
     "name": "stdout",
     "output_type": "stream",
     "text": [
      "run for parameters {} failed: too many indices for array\n"
     ]
    },
    {
     "name": "stderr",
     "output_type": "stream",
     "text": [
      "C:\\Users\\hatta\\anaconda3\\lib\\site-packages\\fairness\\algorithms\\kamishima\\KamishimaAlgorithm.py:99: UserWarning: loadtxt: Empty input file: \"C:\\Users\\hatta\\AppData\\Local\\Temp\\tmp43gz03p3\"\n",
      "  m = numpy.loadtxt(output_name)\n"
     ]
    },
    {
     "name": "stdout",
     "output_type": "stream",
     "text": [
      "run for parameters {} failed: too many indices for array\n"
     ]
    },
    {
     "name": "stderr",
     "output_type": "stream",
     "text": [
      "C:\\Users\\hatta\\anaconda3\\lib\\site-packages\\fairness\\algorithms\\kamishima\\KamishimaAlgorithm.py:99: UserWarning: loadtxt: Empty input file: \"C:\\Users\\hatta\\AppData\\Local\\Temp\\tmpwhn8jskn\"\n",
      "  m = numpy.loadtxt(output_name)\n"
     ]
    },
    {
     "name": "stdout",
     "output_type": "stream",
     "text": [
      "run for parameters {} failed: too many indices for array\n"
     ]
    },
    {
     "name": "stderr",
     "output_type": "stream",
     "text": [
      "C:\\Users\\hatta\\anaconda3\\lib\\site-packages\\fairness\\algorithms\\kamishima\\KamishimaAlgorithm.py:99: UserWarning: loadtxt: Empty input file: \"C:\\Users\\hatta\\AppData\\Local\\Temp\\tmp_mx7hc5x\"\n",
      "  m = numpy.loadtxt(output_name)\n"
     ]
    },
    {
     "name": "stdout",
     "output_type": "stream",
     "text": [
      "run for parameters {} failed: too many indices for array\n"
     ]
    },
    {
     "name": "stderr",
     "output_type": "stream",
     "text": [
      "C:\\Users\\hatta\\anaconda3\\lib\\site-packages\\fairness\\algorithms\\kamishima\\KamishimaAlgorithm.py:99: UserWarning: loadtxt: Empty input file: \"C:\\Users\\hatta\\AppData\\Local\\Temp\\tmpky_ll2xk\"\n",
      "  m = numpy.loadtxt(output_name)\n"
     ]
    },
    {
     "name": "stdout",
     "output_type": "stream",
     "text": [
      "run for parameters {} failed: too many indices for array\n"
     ]
    },
    {
     "name": "stderr",
     "output_type": "stream",
     "text": [
      "C:\\Users\\hatta\\anaconda3\\lib\\site-packages\\fairness\\algorithms\\kamishima\\KamishimaAlgorithm.py:99: UserWarning: loadtxt: Empty input file: \"C:\\Users\\hatta\\AppData\\Local\\Temp\\tmp2t9f37_4\"\n",
      "  m = numpy.loadtxt(output_name)\n"
     ]
    },
    {
     "name": "stdout",
     "output_type": "stream",
     "text": [
      "run for parameters {} failed: too many indices for array\n"
     ]
    },
    {
     "name": "stderr",
     "output_type": "stream",
     "text": [
      "C:\\Users\\hatta\\anaconda3\\lib\\site-packages\\fairness\\algorithms\\kamishima\\KamishimaAlgorithm.py:99: UserWarning: loadtxt: Empty input file: \"C:\\Users\\hatta\\AppData\\Local\\Temp\\tmpxcwsgszq\"\n",
      "  m = numpy.loadtxt(output_name)\n"
     ]
    },
    {
     "name": "stdout",
     "output_type": "stream",
     "text": [
      "run for parameters {} failed: too many indices for array\n"
     ]
    },
    {
     "name": "stderr",
     "output_type": "stream",
     "text": [
      "C:\\Users\\hatta\\anaconda3\\lib\\site-packages\\fairness\\algorithms\\kamishima\\KamishimaAlgorithm.py:99: UserWarning: loadtxt: Empty input file: \"C:\\Users\\hatta\\AppData\\Local\\Temp\\tmpu51flaja\"\n",
      "  m = numpy.loadtxt(output_name)\n"
     ]
    },
    {
     "name": "stdout",
     "output_type": "stream",
     "text": [
      "run for parameters {} failed: too many indices for array\n"
     ]
    },
    {
     "name": "stderr",
     "output_type": "stream",
     "text": [
      "C:\\Users\\hatta\\anaconda3\\lib\\site-packages\\fairness\\algorithms\\kamishima\\KamishimaAlgorithm.py:99: UserWarning: loadtxt: Empty input file: \"C:\\Users\\hatta\\AppData\\Local\\Temp\\tmptq1_73oe\"\n",
      "  m = numpy.loadtxt(output_name)\n"
     ]
    },
    {
     "name": "stdout",
     "output_type": "stream",
     "text": [
      "run for parameters {} failed: too many indices for array\n"
     ]
    },
    {
     "name": "stderr",
     "output_type": "stream",
     "text": [
      "C:\\Users\\hatta\\anaconda3\\lib\\site-packages\\fairness\\algorithms\\kamishima\\KamishimaAlgorithm.py:99: UserWarning: loadtxt: Empty input file: \"C:\\Users\\hatta\\AppData\\Local\\Temp\\tmphsrkqwk0\"\n",
      "  m = numpy.loadtxt(output_name)\n"
     ]
    },
    {
     "name": "stdout",
     "output_type": "stream",
     "text": [
      "run for parameters {} failed: too many indices for array\n"
     ]
    },
    {
     "name": "stderr",
     "output_type": "stream",
     "text": [
      "C:\\Users\\hatta\\anaconda3\\lib\\site-packages\\fairness\\algorithms\\kamishima\\KamishimaAlgorithm.py:99: UserWarning: loadtxt: Empty input file: \"C:\\Users\\hatta\\AppData\\Local\\Temp\\tmpirxkbuel\"\n",
      "  m = numpy.loadtxt(output_name)\n"
     ]
    },
    {
     "name": "stdout",
     "output_type": "stream",
     "text": [
      "run for parameters {} failed: too many indices for array\n"
     ]
    },
    {
     "name": "stderr",
     "output_type": "stream",
     "text": [
      "C:\\Users\\hatta\\anaconda3\\lib\\site-packages\\fairness\\algorithms\\kamishima\\KamishimaAlgorithm.py:99: UserWarning: loadtxt: Empty input file: \"C:\\Users\\hatta\\AppData\\Local\\Temp\\tmpe13c1yqs\"\n",
      "  m = numpy.loadtxt(output_name)\n"
     ]
    },
    {
     "name": "stdout",
     "output_type": "stream",
     "text": [
      "run for parameters {} failed: too many indices for array\n"
     ]
    },
    {
     "name": "stderr",
     "output_type": "stream",
     "text": [
      "Traceback (most recent call last):\n",
      "  File \"C:\\Users\\hatta\\anaconda3\\lib\\site-packages\\fairness\\benchmark.py\", line 66, in run\n",
      "    run_eval_alg(algorithm, train, test, dataset_obj, processed_dataset,\n",
      "  File \"C:\\Users\\hatta\\anaconda3\\lib\\site-packages\\fairness\\benchmark.py\", line 107, in run_eval_alg\n",
      "    run_alg(algorithm, train, test, dataset, all_sensitive_attributes, single_sensitive,\n",
      "  File \"C:\\Users\\hatta\\anaconda3\\lib\\site-packages\\fairness\\benchmark.py\", line 145, in run_alg\n",
      "    algorithm.run(train, test, class_attr, positive_val, all_sensitive_attributes,\n",
      "  File \"C:\\Users\\hatta\\anaconda3\\lib\\site-packages\\fairness\\algorithms\\ParamGridSearch.py\", line 36, in run\n",
      "    best_predictions = self.find_best(all_predictions, train_df, test_df, class_attr,\n",
      "  File \"C:\\Users\\hatta\\anaconda3\\lib\\site-packages\\fairness\\algorithms\\ParamGridSearch.py\", line 44, in find_best\n",
      "    raise Exception(\n",
      "Exception: No run in the parameter grid search succeeded - failing run of algorithm\n",
      "Failed: No run in the parameter grid search succeeded - failing run of algorithm\n",
      "C:\\Users\\hatta\\anaconda3\\lib\\site-packages\\fairness\\algorithms\\kamishima\\KamishimaAlgorithm.py:99: UserWarning: loadtxt: Empty input file: \"C:\\Users\\hatta\\AppData\\Local\\Temp\\tmpd9zet53o\"\n",
      "  m = numpy.loadtxt(output_name)\n"
     ]
    },
    {
     "name": "stdout",
     "output_type": "stream",
     "text": [
      "run for parameters {} failed: too many indices for array\n"
     ]
    },
    {
     "name": "stderr",
     "output_type": "stream",
     "text": [
      "C:\\Users\\hatta\\anaconda3\\lib\\site-packages\\fairness\\algorithms\\kamishima\\KamishimaAlgorithm.py:99: UserWarning: loadtxt: Empty input file: \"C:\\Users\\hatta\\AppData\\Local\\Temp\\tmp4s0bx9j8\"\n",
      "  m = numpy.loadtxt(output_name)\n"
     ]
    },
    {
     "name": "stdout",
     "output_type": "stream",
     "text": [
      "run for parameters {} failed: too many indices for array\n"
     ]
    },
    {
     "name": "stderr",
     "output_type": "stream",
     "text": [
      "C:\\Users\\hatta\\anaconda3\\lib\\site-packages\\fairness\\algorithms\\kamishima\\KamishimaAlgorithm.py:99: UserWarning: loadtxt: Empty input file: \"C:\\Users\\hatta\\AppData\\Local\\Temp\\tmp44uuyp_d\"\n",
      "  m = numpy.loadtxt(output_name)\n"
     ]
    },
    {
     "name": "stdout",
     "output_type": "stream",
     "text": [
      "run for parameters {} failed: too many indices for array\n"
     ]
    },
    {
     "name": "stderr",
     "output_type": "stream",
     "text": [
      "C:\\Users\\hatta\\anaconda3\\lib\\site-packages\\fairness\\algorithms\\kamishima\\KamishimaAlgorithm.py:99: UserWarning: loadtxt: Empty input file: \"C:\\Users\\hatta\\AppData\\Local\\Temp\\tmp_m805izh\"\n",
      "  m = numpy.loadtxt(output_name)\n"
     ]
    },
    {
     "name": "stdout",
     "output_type": "stream",
     "text": [
      "run for parameters {} failed: too many indices for array\n"
     ]
    },
    {
     "name": "stderr",
     "output_type": "stream",
     "text": [
      "C:\\Users\\hatta\\anaconda3\\lib\\site-packages\\fairness\\algorithms\\kamishima\\KamishimaAlgorithm.py:99: UserWarning: loadtxt: Empty input file: \"C:\\Users\\hatta\\AppData\\Local\\Temp\\tmpwb3lxs_h\"\n",
      "  m = numpy.loadtxt(output_name)\n"
     ]
    },
    {
     "name": "stdout",
     "output_type": "stream",
     "text": [
      "run for parameters {} failed: too many indices for array\n"
     ]
    },
    {
     "name": "stderr",
     "output_type": "stream",
     "text": [
      "C:\\Users\\hatta\\anaconda3\\lib\\site-packages\\fairness\\algorithms\\kamishima\\KamishimaAlgorithm.py:99: UserWarning: loadtxt: Empty input file: \"C:\\Users\\hatta\\AppData\\Local\\Temp\\tmp1k7ejouc\"\n",
      "  m = numpy.loadtxt(output_name)\n"
     ]
    },
    {
     "name": "stdout",
     "output_type": "stream",
     "text": [
      "run for parameters {} failed: too many indices for array\n"
     ]
    },
    {
     "name": "stderr",
     "output_type": "stream",
     "text": [
      "C:\\Users\\hatta\\anaconda3\\lib\\site-packages\\fairness\\algorithms\\kamishima\\KamishimaAlgorithm.py:99: UserWarning: loadtxt: Empty input file: \"C:\\Users\\hatta\\AppData\\Local\\Temp\\tmpkjov1yt9\"\n",
      "  m = numpy.loadtxt(output_name)\n"
     ]
    },
    {
     "name": "stdout",
     "output_type": "stream",
     "text": [
      "run for parameters {} failed: too many indices for array\n"
     ]
    },
    {
     "name": "stderr",
     "output_type": "stream",
     "text": [
      "C:\\Users\\hatta\\anaconda3\\lib\\site-packages\\fairness\\algorithms\\kamishima\\KamishimaAlgorithm.py:99: UserWarning: loadtxt: Empty input file: \"C:\\Users\\hatta\\AppData\\Local\\Temp\\tmp_8z2r3mi\"\n",
      "  m = numpy.loadtxt(output_name)\n"
     ]
    },
    {
     "name": "stdout",
     "output_type": "stream",
     "text": [
      "run for parameters {} failed: too many indices for array\n"
     ]
    },
    {
     "name": "stderr",
     "output_type": "stream",
     "text": [
      "C:\\Users\\hatta\\anaconda3\\lib\\site-packages\\fairness\\algorithms\\kamishima\\KamishimaAlgorithm.py:99: UserWarning: loadtxt: Empty input file: \"C:\\Users\\hatta\\AppData\\Local\\Temp\\tmpmg1ogjdq\"\n",
      "  m = numpy.loadtxt(output_name)\n"
     ]
    },
    {
     "name": "stdout",
     "output_type": "stream",
     "text": [
      "run for parameters {} failed: too many indices for array\n"
     ]
    },
    {
     "name": "stderr",
     "output_type": "stream",
     "text": [
      "C:\\Users\\hatta\\anaconda3\\lib\\site-packages\\fairness\\algorithms\\kamishima\\KamishimaAlgorithm.py:99: UserWarning: loadtxt: Empty input file: \"C:\\Users\\hatta\\AppData\\Local\\Temp\\tmpka3x87xf\"\n",
      "  m = numpy.loadtxt(output_name)\n"
     ]
    },
    {
     "name": "stdout",
     "output_type": "stream",
     "text": [
      "run for parameters {} failed: too many indices for array\n"
     ]
    },
    {
     "name": "stderr",
     "output_type": "stream",
     "text": [
      "C:\\Users\\hatta\\anaconda3\\lib\\site-packages\\fairness\\algorithms\\kamishima\\KamishimaAlgorithm.py:99: UserWarning: loadtxt: Empty input file: \"C:\\Users\\hatta\\AppData\\Local\\Temp\\tmpq1epbp0y\"\n",
      "  m = numpy.loadtxt(output_name)\n"
     ]
    },
    {
     "name": "stdout",
     "output_type": "stream",
     "text": [
      "run for parameters {} failed: too many indices for array\n"
     ]
    },
    {
     "name": "stderr",
     "output_type": "stream",
     "text": [
      "C:\\Users\\hatta\\anaconda3\\lib\\site-packages\\fairness\\algorithms\\kamishima\\KamishimaAlgorithm.py:99: UserWarning: loadtxt: Empty input file: \"C:\\Users\\hatta\\AppData\\Local\\Temp\\tmpx37ic07f\"\n",
      "  m = numpy.loadtxt(output_name)\n"
     ]
    },
    {
     "name": "stdout",
     "output_type": "stream",
     "text": [
      "run for parameters {} failed: too many indices for array\n"
     ]
    },
    {
     "name": "stderr",
     "output_type": "stream",
     "text": [
      "C:\\Users\\hatta\\anaconda3\\lib\\site-packages\\fairness\\algorithms\\kamishima\\KamishimaAlgorithm.py:99: UserWarning: loadtxt: Empty input file: \"C:\\Users\\hatta\\AppData\\Local\\Temp\\tmpz0e93es3\"\n",
      "  m = numpy.loadtxt(output_name)\n"
     ]
    },
    {
     "name": "stdout",
     "output_type": "stream",
     "text": [
      "run for parameters {} failed: too many indices for array\n"
     ]
    },
    {
     "name": "stderr",
     "output_type": "stream",
     "text": [
      "C:\\Users\\hatta\\anaconda3\\lib\\site-packages\\fairness\\algorithms\\kamishima\\KamishimaAlgorithm.py:99: UserWarning: loadtxt: Empty input file: \"C:\\Users\\hatta\\AppData\\Local\\Temp\\tmp07ppoft1\"\n",
      "  m = numpy.loadtxt(output_name)\n"
     ]
    },
    {
     "name": "stdout",
     "output_type": "stream",
     "text": [
      "run for parameters {} failed: too many indices for array\n"
     ]
    },
    {
     "name": "stderr",
     "output_type": "stream",
     "text": [
      "C:\\Users\\hatta\\anaconda3\\lib\\site-packages\\fairness\\algorithms\\kamishima\\KamishimaAlgorithm.py:99: UserWarning: loadtxt: Empty input file: \"C:\\Users\\hatta\\AppData\\Local\\Temp\\tmprwb_b2rd\"\n",
      "  m = numpy.loadtxt(output_name)\n"
     ]
    },
    {
     "name": "stdout",
     "output_type": "stream",
     "text": [
      "run for parameters {} failed: too many indices for array\n"
     ]
    },
    {
     "name": "stderr",
     "output_type": "stream",
     "text": [
      "C:\\Users\\hatta\\anaconda3\\lib\\site-packages\\fairness\\algorithms\\kamishima\\KamishimaAlgorithm.py:99: UserWarning: loadtxt: Empty input file: \"C:\\Users\\hatta\\AppData\\Local\\Temp\\tmpnedl6yon\"\n",
      "  m = numpy.loadtxt(output_name)\n"
     ]
    },
    {
     "name": "stdout",
     "output_type": "stream",
     "text": [
      "run for parameters {} failed: too many indices for array\n"
     ]
    },
    {
     "name": "stderr",
     "output_type": "stream",
     "text": [
      "C:\\Users\\hatta\\anaconda3\\lib\\site-packages\\fairness\\algorithms\\kamishima\\KamishimaAlgorithm.py:99: UserWarning: loadtxt: Empty input file: \"C:\\Users\\hatta\\AppData\\Local\\Temp\\tmpmntjn9mn\"\n",
      "  m = numpy.loadtxt(output_name)\n"
     ]
    },
    {
     "name": "stdout",
     "output_type": "stream",
     "text": [
      "run for parameters {} failed: too many indices for array\n"
     ]
    },
    {
     "name": "stderr",
     "output_type": "stream",
     "text": [
      "Traceback (most recent call last):\n",
      "  File \"C:\\Users\\hatta\\anaconda3\\lib\\site-packages\\fairness\\benchmark.py\", line 66, in run\n",
      "    run_eval_alg(algorithm, train, test, dataset_obj, processed_dataset,\n",
      "  File \"C:\\Users\\hatta\\anaconda3\\lib\\site-packages\\fairness\\benchmark.py\", line 107, in run_eval_alg\n",
      "    run_alg(algorithm, train, test, dataset, all_sensitive_attributes, single_sensitive,\n",
      "  File \"C:\\Users\\hatta\\anaconda3\\lib\\site-packages\\fairness\\benchmark.py\", line 145, in run_alg\n",
      "    algorithm.run(train, test, class_attr, positive_val, all_sensitive_attributes,\n",
      "  File \"C:\\Users\\hatta\\anaconda3\\lib\\site-packages\\fairness\\algorithms\\ParamGridSearch.py\", line 36, in run\n",
      "    best_predictions = self.find_best(all_predictions, train_df, test_df, class_attr,\n",
      "  File \"C:\\Users\\hatta\\anaconda3\\lib\\site-packages\\fairness\\algorithms\\ParamGridSearch.py\", line 44, in find_best\n",
      "    raise Exception(\n",
      "Exception: No run in the parameter grid search succeeded - failing run of algorithm\n",
      "Failed: No run in the parameter grid search succeeded - failing run of algorithm\n",
      "C:\\Users\\hatta\\anaconda3\\lib\\site-packages\\fairness\\algorithms\\kamishima\\KamishimaAlgorithm.py:99: UserWarning: loadtxt: Empty input file: \"C:\\Users\\hatta\\AppData\\Local\\Temp\\tmpnkfi8coo\"\n",
      "  m = numpy.loadtxt(output_name)\n"
     ]
    },
    {
     "name": "stdout",
     "output_type": "stream",
     "text": [
      "run for parameters {} failed: too many indices for array\n"
     ]
    },
    {
     "name": "stderr",
     "output_type": "stream",
     "text": [
      "C:\\Users\\hatta\\anaconda3\\lib\\site-packages\\fairness\\algorithms\\kamishima\\KamishimaAlgorithm.py:99: UserWarning: loadtxt: Empty input file: \"C:\\Users\\hatta\\AppData\\Local\\Temp\\tmp4chn3fl9\"\n",
      "  m = numpy.loadtxt(output_name)\n"
     ]
    },
    {
     "name": "stdout",
     "output_type": "stream",
     "text": [
      "run for parameters {} failed: too many indices for array\n"
     ]
    },
    {
     "name": "stderr",
     "output_type": "stream",
     "text": [
      "C:\\Users\\hatta\\anaconda3\\lib\\site-packages\\fairness\\algorithms\\kamishima\\KamishimaAlgorithm.py:99: UserWarning: loadtxt: Empty input file: \"C:\\Users\\hatta\\AppData\\Local\\Temp\\tmpxnliz5cq\"\n",
      "  m = numpy.loadtxt(output_name)\n"
     ]
    },
    {
     "name": "stdout",
     "output_type": "stream",
     "text": [
      "run for parameters {} failed: too many indices for array\n"
     ]
    },
    {
     "name": "stderr",
     "output_type": "stream",
     "text": [
      "C:\\Users\\hatta\\anaconda3\\lib\\site-packages\\fairness\\algorithms\\kamishima\\KamishimaAlgorithm.py:99: UserWarning: loadtxt: Empty input file: \"C:\\Users\\hatta\\AppData\\Local\\Temp\\tmphhy_p987\"\n",
      "  m = numpy.loadtxt(output_name)\n"
     ]
    },
    {
     "name": "stdout",
     "output_type": "stream",
     "text": [
      "run for parameters {} failed: too many indices for array\n"
     ]
    },
    {
     "name": "stderr",
     "output_type": "stream",
     "text": [
      "C:\\Users\\hatta\\anaconda3\\lib\\site-packages\\fairness\\algorithms\\kamishima\\KamishimaAlgorithm.py:99: UserWarning: loadtxt: Empty input file: \"C:\\Users\\hatta\\AppData\\Local\\Temp\\tmplssu9oge\"\n",
      "  m = numpy.loadtxt(output_name)\n"
     ]
    },
    {
     "name": "stdout",
     "output_type": "stream",
     "text": [
      "run for parameters {} failed: too many indices for array\n"
     ]
    },
    {
     "name": "stderr",
     "output_type": "stream",
     "text": [
      "C:\\Users\\hatta\\anaconda3\\lib\\site-packages\\fairness\\algorithms\\kamishima\\KamishimaAlgorithm.py:99: UserWarning: loadtxt: Empty input file: \"C:\\Users\\hatta\\AppData\\Local\\Temp\\tmpp37my1tw\"\n",
      "  m = numpy.loadtxt(output_name)\n"
     ]
    },
    {
     "name": "stdout",
     "output_type": "stream",
     "text": [
      "run for parameters {} failed: too many indices for array\n"
     ]
    },
    {
     "name": "stderr",
     "output_type": "stream",
     "text": [
      "C:\\Users\\hatta\\anaconda3\\lib\\site-packages\\fairness\\algorithms\\kamishima\\KamishimaAlgorithm.py:99: UserWarning: loadtxt: Empty input file: \"C:\\Users\\hatta\\AppData\\Local\\Temp\\tmp0whr0ezd\"\n",
      "  m = numpy.loadtxt(output_name)\n"
     ]
    },
    {
     "name": "stdout",
     "output_type": "stream",
     "text": [
      "run for parameters {} failed: too many indices for array\n"
     ]
    },
    {
     "name": "stderr",
     "output_type": "stream",
     "text": [
      "C:\\Users\\hatta\\anaconda3\\lib\\site-packages\\fairness\\algorithms\\kamishima\\KamishimaAlgorithm.py:99: UserWarning: loadtxt: Empty input file: \"C:\\Users\\hatta\\AppData\\Local\\Temp\\tmpkpiu0aqb\"\n",
      "  m = numpy.loadtxt(output_name)\n"
     ]
    },
    {
     "name": "stdout",
     "output_type": "stream",
     "text": [
      "run for parameters {} failed: too many indices for array\n"
     ]
    },
    {
     "name": "stderr",
     "output_type": "stream",
     "text": [
      "C:\\Users\\hatta\\anaconda3\\lib\\site-packages\\fairness\\algorithms\\kamishima\\KamishimaAlgorithm.py:99: UserWarning: loadtxt: Empty input file: \"C:\\Users\\hatta\\AppData\\Local\\Temp\\tmpdjisg557\"\n",
      "  m = numpy.loadtxt(output_name)\n"
     ]
    },
    {
     "name": "stdout",
     "output_type": "stream",
     "text": [
      "run for parameters {} failed: too many indices for array\n"
     ]
    },
    {
     "name": "stderr",
     "output_type": "stream",
     "text": [
      "C:\\Users\\hatta\\anaconda3\\lib\\site-packages\\fairness\\algorithms\\kamishima\\KamishimaAlgorithm.py:99: UserWarning: loadtxt: Empty input file: \"C:\\Users\\hatta\\AppData\\Local\\Temp\\tmpzrr8dfmu\"\n",
      "  m = numpy.loadtxt(output_name)\n"
     ]
    },
    {
     "name": "stdout",
     "output_type": "stream",
     "text": [
      "run for parameters {} failed: too many indices for array\n"
     ]
    },
    {
     "name": "stderr",
     "output_type": "stream",
     "text": [
      "C:\\Users\\hatta\\anaconda3\\lib\\site-packages\\fairness\\algorithms\\kamishima\\KamishimaAlgorithm.py:99: UserWarning: loadtxt: Empty input file: \"C:\\Users\\hatta\\AppData\\Local\\Temp\\tmpggan_hjm\"\n",
      "  m = numpy.loadtxt(output_name)\n"
     ]
    },
    {
     "name": "stdout",
     "output_type": "stream",
     "text": [
      "run for parameters {} failed: too many indices for array\n"
     ]
    },
    {
     "name": "stderr",
     "output_type": "stream",
     "text": [
      "C:\\Users\\hatta\\anaconda3\\lib\\site-packages\\fairness\\algorithms\\kamishima\\KamishimaAlgorithm.py:99: UserWarning: loadtxt: Empty input file: \"C:\\Users\\hatta\\AppData\\Local\\Temp\\tmp9r02i1rx\"\n",
      "  m = numpy.loadtxt(output_name)\n"
     ]
    },
    {
     "name": "stdout",
     "output_type": "stream",
     "text": [
      "run for parameters {} failed: too many indices for array\n"
     ]
    },
    {
     "name": "stderr",
     "output_type": "stream",
     "text": [
      "C:\\Users\\hatta\\anaconda3\\lib\\site-packages\\fairness\\algorithms\\kamishima\\KamishimaAlgorithm.py:99: UserWarning: loadtxt: Empty input file: \"C:\\Users\\hatta\\AppData\\Local\\Temp\\tmpff_zzyee\"\n",
      "  m = numpy.loadtxt(output_name)\n"
     ]
    },
    {
     "name": "stdout",
     "output_type": "stream",
     "text": [
      "run for parameters {} failed: too many indices for array\n"
     ]
    },
    {
     "name": "stderr",
     "output_type": "stream",
     "text": [
      "C:\\Users\\hatta\\anaconda3\\lib\\site-packages\\fairness\\algorithms\\kamishima\\KamishimaAlgorithm.py:99: UserWarning: loadtxt: Empty input file: \"C:\\Users\\hatta\\AppData\\Local\\Temp\\tmp6z49mp8y\"\n",
      "  m = numpy.loadtxt(output_name)\n"
     ]
    },
    {
     "name": "stdout",
     "output_type": "stream",
     "text": [
      "run for parameters {} failed: too many indices for array\n"
     ]
    },
    {
     "name": "stderr",
     "output_type": "stream",
     "text": [
      "C:\\Users\\hatta\\anaconda3\\lib\\site-packages\\fairness\\algorithms\\kamishima\\KamishimaAlgorithm.py:99: UserWarning: loadtxt: Empty input file: \"C:\\Users\\hatta\\AppData\\Local\\Temp\\tmp5gu_oa82\"\n",
      "  m = numpy.loadtxt(output_name)\n"
     ]
    },
    {
     "name": "stdout",
     "output_type": "stream",
     "text": [
      "run for parameters {} failed: too many indices for array\n"
     ]
    },
    {
     "name": "stderr",
     "output_type": "stream",
     "text": [
      "C:\\Users\\hatta\\anaconda3\\lib\\site-packages\\fairness\\algorithms\\kamishima\\KamishimaAlgorithm.py:99: UserWarning: loadtxt: Empty input file: \"C:\\Users\\hatta\\AppData\\Local\\Temp\\tmp8k7q4npq\"\n",
      "  m = numpy.loadtxt(output_name)\n"
     ]
    },
    {
     "name": "stdout",
     "output_type": "stream",
     "text": [
      "run for parameters {} failed: too many indices for array\n"
     ]
    },
    {
     "name": "stderr",
     "output_type": "stream",
     "text": [
      "C:\\Users\\hatta\\anaconda3\\lib\\site-packages\\fairness\\algorithms\\kamishima\\KamishimaAlgorithm.py:99: UserWarning: loadtxt: Empty input file: \"C:\\Users\\hatta\\AppData\\Local\\Temp\\tmp52m0qjcm\"\n",
      "  m = numpy.loadtxt(output_name)\n"
     ]
    },
    {
     "name": "stdout",
     "output_type": "stream",
     "text": [
      "run for parameters {} failed: too many indices for array\n"
     ]
    },
    {
     "name": "stderr",
     "output_type": "stream",
     "text": [
      "Traceback (most recent call last):\n",
      "  File \"C:\\Users\\hatta\\anaconda3\\lib\\site-packages\\fairness\\benchmark.py\", line 66, in run\n",
      "    run_eval_alg(algorithm, train, test, dataset_obj, processed_dataset,\n",
      "  File \"C:\\Users\\hatta\\anaconda3\\lib\\site-packages\\fairness\\benchmark.py\", line 107, in run_eval_alg\n",
      "    run_alg(algorithm, train, test, dataset, all_sensitive_attributes, single_sensitive,\n",
      "  File \"C:\\Users\\hatta\\anaconda3\\lib\\site-packages\\fairness\\benchmark.py\", line 145, in run_alg\n",
      "    algorithm.run(train, test, class_attr, positive_val, all_sensitive_attributes,\n",
      "  File \"C:\\Users\\hatta\\anaconda3\\lib\\site-packages\\fairness\\algorithms\\ParamGridSearch.py\", line 36, in run\n",
      "    best_predictions = self.find_best(all_predictions, train_df, test_df, class_attr,\n",
      "  File \"C:\\Users\\hatta\\anaconda3\\lib\\site-packages\\fairness\\algorithms\\ParamGridSearch.py\", line 44, in find_best\n",
      "    raise Exception(\n",
      "Exception: No run in the parameter grid search succeeded - failing run of algorithm\n",
      "Failed: No run in the parameter grid search succeeded - failing run of algorithm\n",
      "C:\\Users\\hatta\\anaconda3\\lib\\site-packages\\fairness\\algorithms\\kamishima\\KamishimaAlgorithm.py:99: UserWarning: loadtxt: Empty input file: \"C:\\Users\\hatta\\AppData\\Local\\Temp\\tmpta7thow8\"\n",
      "  m = numpy.loadtxt(output_name)\n"
     ]
    },
    {
     "name": "stdout",
     "output_type": "stream",
     "text": [
      "run for parameters {} failed: too many indices for array\n"
     ]
    },
    {
     "name": "stderr",
     "output_type": "stream",
     "text": [
      "C:\\Users\\hatta\\anaconda3\\lib\\site-packages\\fairness\\algorithms\\kamishima\\KamishimaAlgorithm.py:99: UserWarning: loadtxt: Empty input file: \"C:\\Users\\hatta\\AppData\\Local\\Temp\\tmpbal59gdv\"\n",
      "  m = numpy.loadtxt(output_name)\n"
     ]
    },
    {
     "name": "stdout",
     "output_type": "stream",
     "text": [
      "run for parameters {} failed: too many indices for array\n"
     ]
    },
    {
     "name": "stderr",
     "output_type": "stream",
     "text": [
      "C:\\Users\\hatta\\anaconda3\\lib\\site-packages\\fairness\\algorithms\\kamishima\\KamishimaAlgorithm.py:99: UserWarning: loadtxt: Empty input file: \"C:\\Users\\hatta\\AppData\\Local\\Temp\\tmpdsnu0oo2\"\n",
      "  m = numpy.loadtxt(output_name)\n"
     ]
    },
    {
     "name": "stdout",
     "output_type": "stream",
     "text": [
      "run for parameters {} failed: too many indices for array\n"
     ]
    },
    {
     "name": "stderr",
     "output_type": "stream",
     "text": [
      "C:\\Users\\hatta\\anaconda3\\lib\\site-packages\\fairness\\algorithms\\kamishima\\KamishimaAlgorithm.py:99: UserWarning: loadtxt: Empty input file: \"C:\\Users\\hatta\\AppData\\Local\\Temp\\tmpgvluvc7i\"\n",
      "  m = numpy.loadtxt(output_name)\n"
     ]
    },
    {
     "name": "stdout",
     "output_type": "stream",
     "text": [
      "run for parameters {} failed: too many indices for array\n"
     ]
    },
    {
     "name": "stderr",
     "output_type": "stream",
     "text": [
      "C:\\Users\\hatta\\anaconda3\\lib\\site-packages\\fairness\\algorithms\\kamishima\\KamishimaAlgorithm.py:99: UserWarning: loadtxt: Empty input file: \"C:\\Users\\hatta\\AppData\\Local\\Temp\\tmpoxuwngx9\"\n",
      "  m = numpy.loadtxt(output_name)\n"
     ]
    },
    {
     "name": "stdout",
     "output_type": "stream",
     "text": [
      "run for parameters {} failed: too many indices for array\n"
     ]
    },
    {
     "name": "stderr",
     "output_type": "stream",
     "text": [
      "C:\\Users\\hatta\\anaconda3\\lib\\site-packages\\fairness\\algorithms\\kamishima\\KamishimaAlgorithm.py:99: UserWarning: loadtxt: Empty input file: \"C:\\Users\\hatta\\AppData\\Local\\Temp\\tmpyex7hpk2\"\n",
      "  m = numpy.loadtxt(output_name)\n"
     ]
    },
    {
     "name": "stdout",
     "output_type": "stream",
     "text": [
      "run for parameters {} failed: too many indices for array\n"
     ]
    },
    {
     "name": "stderr",
     "output_type": "stream",
     "text": [
      "C:\\Users\\hatta\\anaconda3\\lib\\site-packages\\fairness\\algorithms\\kamishima\\KamishimaAlgorithm.py:99: UserWarning: loadtxt: Empty input file: \"C:\\Users\\hatta\\AppData\\Local\\Temp\\tmptqzbsj_m\"\n",
      "  m = numpy.loadtxt(output_name)\n"
     ]
    },
    {
     "name": "stdout",
     "output_type": "stream",
     "text": [
      "run for parameters {} failed: too many indices for array\n"
     ]
    },
    {
     "name": "stderr",
     "output_type": "stream",
     "text": [
      "C:\\Users\\hatta\\anaconda3\\lib\\site-packages\\fairness\\algorithms\\kamishima\\KamishimaAlgorithm.py:99: UserWarning: loadtxt: Empty input file: \"C:\\Users\\hatta\\AppData\\Local\\Temp\\tmpcyfxcf2d\"\n",
      "  m = numpy.loadtxt(output_name)\n"
     ]
    },
    {
     "name": "stdout",
     "output_type": "stream",
     "text": [
      "run for parameters {} failed: too many indices for array\n"
     ]
    },
    {
     "name": "stderr",
     "output_type": "stream",
     "text": [
      "C:\\Users\\hatta\\anaconda3\\lib\\site-packages\\fairness\\algorithms\\kamishima\\KamishimaAlgorithm.py:99: UserWarning: loadtxt: Empty input file: \"C:\\Users\\hatta\\AppData\\Local\\Temp\\tmpell6jk0v\"\n",
      "  m = numpy.loadtxt(output_name)\n"
     ]
    },
    {
     "name": "stdout",
     "output_type": "stream",
     "text": [
      "run for parameters {} failed: too many indices for array\n"
     ]
    },
    {
     "name": "stderr",
     "output_type": "stream",
     "text": [
      "C:\\Users\\hatta\\anaconda3\\lib\\site-packages\\fairness\\algorithms\\kamishima\\KamishimaAlgorithm.py:99: UserWarning: loadtxt: Empty input file: \"C:\\Users\\hatta\\AppData\\Local\\Temp\\tmp5rssnc25\"\n",
      "  m = numpy.loadtxt(output_name)\n"
     ]
    },
    {
     "name": "stdout",
     "output_type": "stream",
     "text": [
      "run for parameters {} failed: too many indices for array\n"
     ]
    },
    {
     "name": "stderr",
     "output_type": "stream",
     "text": [
      "C:\\Users\\hatta\\anaconda3\\lib\\site-packages\\fairness\\algorithms\\kamishima\\KamishimaAlgorithm.py:99: UserWarning: loadtxt: Empty input file: \"C:\\Users\\hatta\\AppData\\Local\\Temp\\tmprwo22hsj\"\n",
      "  m = numpy.loadtxt(output_name)\n"
     ]
    },
    {
     "name": "stdout",
     "output_type": "stream",
     "text": [
      "run for parameters {} failed: too many indices for array\n"
     ]
    },
    {
     "name": "stderr",
     "output_type": "stream",
     "text": [
      "C:\\Users\\hatta\\anaconda3\\lib\\site-packages\\fairness\\algorithms\\kamishima\\KamishimaAlgorithm.py:99: UserWarning: loadtxt: Empty input file: \"C:\\Users\\hatta\\AppData\\Local\\Temp\\tmpvpx3liop\"\n",
      "  m = numpy.loadtxt(output_name)\n"
     ]
    },
    {
     "name": "stdout",
     "output_type": "stream",
     "text": [
      "run for parameters {} failed: too many indices for array\n"
     ]
    },
    {
     "name": "stderr",
     "output_type": "stream",
     "text": [
      "C:\\Users\\hatta\\anaconda3\\lib\\site-packages\\fairness\\algorithms\\kamishima\\KamishimaAlgorithm.py:99: UserWarning: loadtxt: Empty input file: \"C:\\Users\\hatta\\AppData\\Local\\Temp\\tmpt5_ceat4\"\n",
      "  m = numpy.loadtxt(output_name)\n"
     ]
    },
    {
     "name": "stdout",
     "output_type": "stream",
     "text": [
      "run for parameters {} failed: too many indices for array\n"
     ]
    },
    {
     "name": "stderr",
     "output_type": "stream",
     "text": [
      "C:\\Users\\hatta\\anaconda3\\lib\\site-packages\\fairness\\algorithms\\kamishima\\KamishimaAlgorithm.py:99: UserWarning: loadtxt: Empty input file: \"C:\\Users\\hatta\\AppData\\Local\\Temp\\tmp2ebw3fnz\"\n",
      "  m = numpy.loadtxt(output_name)\n"
     ]
    },
    {
     "name": "stdout",
     "output_type": "stream",
     "text": [
      "run for parameters {} failed: too many indices for array\n"
     ]
    },
    {
     "name": "stderr",
     "output_type": "stream",
     "text": [
      "C:\\Users\\hatta\\anaconda3\\lib\\site-packages\\fairness\\algorithms\\kamishima\\KamishimaAlgorithm.py:99: UserWarning: loadtxt: Empty input file: \"C:\\Users\\hatta\\AppData\\Local\\Temp\\tmpptlgvxm7\"\n",
      "  m = numpy.loadtxt(output_name)\n"
     ]
    },
    {
     "name": "stdout",
     "output_type": "stream",
     "text": [
      "run for parameters {} failed: too many indices for array\n"
     ]
    },
    {
     "name": "stderr",
     "output_type": "stream",
     "text": [
      "C:\\Users\\hatta\\anaconda3\\lib\\site-packages\\fairness\\algorithms\\kamishima\\KamishimaAlgorithm.py:99: UserWarning: loadtxt: Empty input file: \"C:\\Users\\hatta\\AppData\\Local\\Temp\\tmpt8xxm1fj\"\n",
      "  m = numpy.loadtxt(output_name)\n"
     ]
    },
    {
     "name": "stdout",
     "output_type": "stream",
     "text": [
      "run for parameters {} failed: too many indices for array\n"
     ]
    },
    {
     "name": "stderr",
     "output_type": "stream",
     "text": [
      "C:\\Users\\hatta\\anaconda3\\lib\\site-packages\\fairness\\algorithms\\kamishima\\KamishimaAlgorithm.py:99: UserWarning: loadtxt: Empty input file: \"C:\\Users\\hatta\\AppData\\Local\\Temp\\tmp56f2qfqi\"\n",
      "  m = numpy.loadtxt(output_name)\n"
     ]
    },
    {
     "name": "stdout",
     "output_type": "stream",
     "text": [
      "run for parameters {} failed: too many indices for array\n"
     ]
    },
    {
     "name": "stderr",
     "output_type": "stream",
     "text": [
      "Traceback (most recent call last):\n",
      "  File \"C:\\Users\\hatta\\anaconda3\\lib\\site-packages\\fairness\\benchmark.py\", line 66, in run\n",
      "    run_eval_alg(algorithm, train, test, dataset_obj, processed_dataset,\n",
      "  File \"C:\\Users\\hatta\\anaconda3\\lib\\site-packages\\fairness\\benchmark.py\", line 107, in run_eval_alg\n",
      "    run_alg(algorithm, train, test, dataset, all_sensitive_attributes, single_sensitive,\n",
      "  File \"C:\\Users\\hatta\\anaconda3\\lib\\site-packages\\fairness\\benchmark.py\", line 145, in run_alg\n",
      "    algorithm.run(train, test, class_attr, positive_val, all_sensitive_attributes,\n",
      "  File \"C:\\Users\\hatta\\anaconda3\\lib\\site-packages\\fairness\\algorithms\\ParamGridSearch.py\", line 36, in run\n",
      "    best_predictions = self.find_best(all_predictions, train_df, test_df, class_attr,\n",
      "  File \"C:\\Users\\hatta\\anaconda3\\lib\\site-packages\\fairness\\algorithms\\ParamGridSearch.py\", line 44, in find_best\n",
      "    raise Exception(\n",
      "Exception: No run in the parameter grid search succeeded - failing run of algorithm\n",
      "Failed: No run in the parameter grid search succeeded - failing run of algorithm\n",
      "C:\\Users\\hatta\\anaconda3\\lib\\site-packages\\fairness\\algorithms\\kamishima\\KamishimaAlgorithm.py:99: UserWarning: loadtxt: Empty input file: \"C:\\Users\\hatta\\AppData\\Local\\Temp\\tmpbhll1ty0\"\n",
      "  m = numpy.loadtxt(output_name)\n"
     ]
    },
    {
     "name": "stdout",
     "output_type": "stream",
     "text": [
      "run for parameters {} failed: too many indices for array\n"
     ]
    },
    {
     "name": "stderr",
     "output_type": "stream",
     "text": [
      "C:\\Users\\hatta\\anaconda3\\lib\\site-packages\\fairness\\algorithms\\kamishima\\KamishimaAlgorithm.py:99: UserWarning: loadtxt: Empty input file: \"C:\\Users\\hatta\\AppData\\Local\\Temp\\tmpran__mqo\"\n",
      "  m = numpy.loadtxt(output_name)\n"
     ]
    },
    {
     "name": "stdout",
     "output_type": "stream",
     "text": [
      "run for parameters {} failed: too many indices for array\n"
     ]
    },
    {
     "name": "stderr",
     "output_type": "stream",
     "text": [
      "C:\\Users\\hatta\\anaconda3\\lib\\site-packages\\fairness\\algorithms\\kamishima\\KamishimaAlgorithm.py:99: UserWarning: loadtxt: Empty input file: \"C:\\Users\\hatta\\AppData\\Local\\Temp\\tmpvy3o7myj\"\n",
      "  m = numpy.loadtxt(output_name)\n"
     ]
    },
    {
     "name": "stdout",
     "output_type": "stream",
     "text": [
      "run for parameters {} failed: too many indices for array\n"
     ]
    },
    {
     "name": "stderr",
     "output_type": "stream",
     "text": [
      "C:\\Users\\hatta\\anaconda3\\lib\\site-packages\\fairness\\algorithms\\kamishima\\KamishimaAlgorithm.py:99: UserWarning: loadtxt: Empty input file: \"C:\\Users\\hatta\\AppData\\Local\\Temp\\tmpfbxlb7at\"\n",
      "  m = numpy.loadtxt(output_name)\n"
     ]
    },
    {
     "name": "stdout",
     "output_type": "stream",
     "text": [
      "run for parameters {} failed: too many indices for array\n"
     ]
    },
    {
     "name": "stderr",
     "output_type": "stream",
     "text": [
      "C:\\Users\\hatta\\anaconda3\\lib\\site-packages\\fairness\\algorithms\\kamishima\\KamishimaAlgorithm.py:99: UserWarning: loadtxt: Empty input file: \"C:\\Users\\hatta\\AppData\\Local\\Temp\\tmpo7b1tudg\"\n",
      "  m = numpy.loadtxt(output_name)\n"
     ]
    },
    {
     "name": "stdout",
     "output_type": "stream",
     "text": [
      "run for parameters {} failed: too many indices for array\n"
     ]
    },
    {
     "name": "stderr",
     "output_type": "stream",
     "text": [
      "C:\\Users\\hatta\\anaconda3\\lib\\site-packages\\fairness\\algorithms\\kamishima\\KamishimaAlgorithm.py:99: UserWarning: loadtxt: Empty input file: \"C:\\Users\\hatta\\AppData\\Local\\Temp\\tmp19vs7r2r\"\n",
      "  m = numpy.loadtxt(output_name)\n"
     ]
    },
    {
     "name": "stdout",
     "output_type": "stream",
     "text": [
      "run for parameters {} failed: too many indices for array\n"
     ]
    },
    {
     "name": "stderr",
     "output_type": "stream",
     "text": [
      "C:\\Users\\hatta\\anaconda3\\lib\\site-packages\\fairness\\algorithms\\kamishima\\KamishimaAlgorithm.py:99: UserWarning: loadtxt: Empty input file: \"C:\\Users\\hatta\\AppData\\Local\\Temp\\tmpzurzo8c6\"\n",
      "  m = numpy.loadtxt(output_name)\n"
     ]
    },
    {
     "name": "stdout",
     "output_type": "stream",
     "text": [
      "run for parameters {} failed: too many indices for array\n"
     ]
    },
    {
     "name": "stderr",
     "output_type": "stream",
     "text": [
      "C:\\Users\\hatta\\anaconda3\\lib\\site-packages\\fairness\\algorithms\\kamishima\\KamishimaAlgorithm.py:99: UserWarning: loadtxt: Empty input file: \"C:\\Users\\hatta\\AppData\\Local\\Temp\\tmp_2bflffn\"\n",
      "  m = numpy.loadtxt(output_name)\n"
     ]
    },
    {
     "name": "stdout",
     "output_type": "stream",
     "text": [
      "run for parameters {} failed: too many indices for array\n"
     ]
    },
    {
     "name": "stderr",
     "output_type": "stream",
     "text": [
      "C:\\Users\\hatta\\anaconda3\\lib\\site-packages\\fairness\\algorithms\\kamishima\\KamishimaAlgorithm.py:99: UserWarning: loadtxt: Empty input file: \"C:\\Users\\hatta\\AppData\\Local\\Temp\\tmpivfjq5bb\"\n",
      "  m = numpy.loadtxt(output_name)\n"
     ]
    },
    {
     "name": "stdout",
     "output_type": "stream",
     "text": [
      "run for parameters {} failed: too many indices for array\n"
     ]
    },
    {
     "name": "stderr",
     "output_type": "stream",
     "text": [
      "C:\\Users\\hatta\\anaconda3\\lib\\site-packages\\fairness\\algorithms\\kamishima\\KamishimaAlgorithm.py:99: UserWarning: loadtxt: Empty input file: \"C:\\Users\\hatta\\AppData\\Local\\Temp\\tmpguo3gm0f\"\n",
      "  m = numpy.loadtxt(output_name)\n"
     ]
    },
    {
     "name": "stdout",
     "output_type": "stream",
     "text": [
      "run for parameters {} failed: too many indices for array\n"
     ]
    },
    {
     "name": "stderr",
     "output_type": "stream",
     "text": [
      "C:\\Users\\hatta\\anaconda3\\lib\\site-packages\\fairness\\algorithms\\kamishima\\KamishimaAlgorithm.py:99: UserWarning: loadtxt: Empty input file: \"C:\\Users\\hatta\\AppData\\Local\\Temp\\tmpco63wti5\"\n",
      "  m = numpy.loadtxt(output_name)\n"
     ]
    },
    {
     "name": "stdout",
     "output_type": "stream",
     "text": [
      "run for parameters {} failed: too many indices for array\n"
     ]
    },
    {
     "name": "stderr",
     "output_type": "stream",
     "text": [
      "C:\\Users\\hatta\\anaconda3\\lib\\site-packages\\fairness\\algorithms\\kamishima\\KamishimaAlgorithm.py:99: UserWarning: loadtxt: Empty input file: \"C:\\Users\\hatta\\AppData\\Local\\Temp\\tmpzxmw9k32\"\n",
      "  m = numpy.loadtxt(output_name)\n"
     ]
    },
    {
     "name": "stdout",
     "output_type": "stream",
     "text": [
      "run for parameters {} failed: too many indices for array\n"
     ]
    },
    {
     "name": "stderr",
     "output_type": "stream",
     "text": [
      "C:\\Users\\hatta\\anaconda3\\lib\\site-packages\\fairness\\algorithms\\kamishima\\KamishimaAlgorithm.py:99: UserWarning: loadtxt: Empty input file: \"C:\\Users\\hatta\\AppData\\Local\\Temp\\tmp92j3bull\"\n",
      "  m = numpy.loadtxt(output_name)\n"
     ]
    },
    {
     "name": "stdout",
     "output_type": "stream",
     "text": [
      "run for parameters {} failed: too many indices for array\n"
     ]
    },
    {
     "name": "stderr",
     "output_type": "stream",
     "text": [
      "C:\\Users\\hatta\\anaconda3\\lib\\site-packages\\fairness\\algorithms\\kamishima\\KamishimaAlgorithm.py:99: UserWarning: loadtxt: Empty input file: \"C:\\Users\\hatta\\AppData\\Local\\Temp\\tmpahu3gphu\"\n",
      "  m = numpy.loadtxt(output_name)\n"
     ]
    },
    {
     "name": "stdout",
     "output_type": "stream",
     "text": [
      "run for parameters {} failed: too many indices for array\n"
     ]
    },
    {
     "name": "stderr",
     "output_type": "stream",
     "text": [
      "C:\\Users\\hatta\\anaconda3\\lib\\site-packages\\fairness\\algorithms\\kamishima\\KamishimaAlgorithm.py:99: UserWarning: loadtxt: Empty input file: \"C:\\Users\\hatta\\AppData\\Local\\Temp\\tmpe7vmdzqk\"\n",
      "  m = numpy.loadtxt(output_name)\n"
     ]
    },
    {
     "name": "stdout",
     "output_type": "stream",
     "text": [
      "run for parameters {} failed: too many indices for array\n"
     ]
    },
    {
     "name": "stderr",
     "output_type": "stream",
     "text": [
      "C:\\Users\\hatta\\anaconda3\\lib\\site-packages\\fairness\\algorithms\\kamishima\\KamishimaAlgorithm.py:99: UserWarning: loadtxt: Empty input file: \"C:\\Users\\hatta\\AppData\\Local\\Temp\\tmpftbk_avg\"\n",
      "  m = numpy.loadtxt(output_name)\n"
     ]
    },
    {
     "name": "stdout",
     "output_type": "stream",
     "text": [
      "run for parameters {} failed: too many indices for array\n"
     ]
    },
    {
     "name": "stderr",
     "output_type": "stream",
     "text": [
      "C:\\Users\\hatta\\anaconda3\\lib\\site-packages\\fairness\\algorithms\\kamishima\\KamishimaAlgorithm.py:99: UserWarning: loadtxt: Empty input file: \"C:\\Users\\hatta\\AppData\\Local\\Temp\\tmp_4wzcl8j\"\n",
      "  m = numpy.loadtxt(output_name)\n"
     ]
    },
    {
     "name": "stdout",
     "output_type": "stream",
     "text": [
      "run for parameters {} failed: too many indices for array\n"
     ]
    },
    {
     "name": "stderr",
     "output_type": "stream",
     "text": [
      "Traceback (most recent call last):\n",
      "  File \"C:\\Users\\hatta\\anaconda3\\lib\\site-packages\\fairness\\benchmark.py\", line 66, in run\n",
      "    run_eval_alg(algorithm, train, test, dataset_obj, processed_dataset,\n",
      "  File \"C:\\Users\\hatta\\anaconda3\\lib\\site-packages\\fairness\\benchmark.py\", line 107, in run_eval_alg\n",
      "    run_alg(algorithm, train, test, dataset, all_sensitive_attributes, single_sensitive,\n",
      "  File \"C:\\Users\\hatta\\anaconda3\\lib\\site-packages\\fairness\\benchmark.py\", line 145, in run_alg\n",
      "    algorithm.run(train, test, class_attr, positive_val, all_sensitive_attributes,\n",
      "  File \"C:\\Users\\hatta\\anaconda3\\lib\\site-packages\\fairness\\algorithms\\ParamGridSearch.py\", line 36, in run\n",
      "    best_predictions = self.find_best(all_predictions, train_df, test_df, class_attr,\n",
      "  File \"C:\\Users\\hatta\\anaconda3\\lib\\site-packages\\fairness\\algorithms\\ParamGridSearch.py\", line 44, in find_best\n",
      "    raise Exception(\n",
      "Exception: No run in the parameter grid search succeeded - failing run of algorithm\n",
      "Failed: No run in the parameter grid search succeeded - failing run of algorithm\n",
      "C:\\Users\\hatta\\anaconda3\\lib\\site-packages\\fairness\\algorithms\\kamishima\\KamishimaAlgorithm.py:99: UserWarning: loadtxt: Empty input file: \"C:\\Users\\hatta\\AppData\\Local\\Temp\\tmpjr3ukhdd\"\n",
      "  m = numpy.loadtxt(output_name)\n"
     ]
    },
    {
     "name": "stdout",
     "output_type": "stream",
     "text": [
      "run for parameters {} failed: too many indices for array\n"
     ]
    },
    {
     "name": "stderr",
     "output_type": "stream",
     "text": [
      "C:\\Users\\hatta\\anaconda3\\lib\\site-packages\\fairness\\algorithms\\kamishima\\KamishimaAlgorithm.py:99: UserWarning: loadtxt: Empty input file: \"C:\\Users\\hatta\\AppData\\Local\\Temp\\tmppt4u2j61\"\n",
      "  m = numpy.loadtxt(output_name)\n"
     ]
    },
    {
     "name": "stdout",
     "output_type": "stream",
     "text": [
      "run for parameters {} failed: too many indices for array\n"
     ]
    },
    {
     "name": "stderr",
     "output_type": "stream",
     "text": [
      "C:\\Users\\hatta\\anaconda3\\lib\\site-packages\\fairness\\algorithms\\kamishima\\KamishimaAlgorithm.py:99: UserWarning: loadtxt: Empty input file: \"C:\\Users\\hatta\\AppData\\Local\\Temp\\tmpcjdbqgf5\"\n",
      "  m = numpy.loadtxt(output_name)\n"
     ]
    },
    {
     "name": "stdout",
     "output_type": "stream",
     "text": [
      "run for parameters {} failed: too many indices for array\n"
     ]
    },
    {
     "name": "stderr",
     "output_type": "stream",
     "text": [
      "C:\\Users\\hatta\\anaconda3\\lib\\site-packages\\fairness\\algorithms\\kamishima\\KamishimaAlgorithm.py:99: UserWarning: loadtxt: Empty input file: \"C:\\Users\\hatta\\AppData\\Local\\Temp\\tmp3hiejmyx\"\n",
      "  m = numpy.loadtxt(output_name)\n"
     ]
    },
    {
     "name": "stdout",
     "output_type": "stream",
     "text": [
      "run for parameters {} failed: too many indices for array\n"
     ]
    },
    {
     "name": "stderr",
     "output_type": "stream",
     "text": [
      "C:\\Users\\hatta\\anaconda3\\lib\\site-packages\\fairness\\algorithms\\kamishima\\KamishimaAlgorithm.py:99: UserWarning: loadtxt: Empty input file: \"C:\\Users\\hatta\\AppData\\Local\\Temp\\tmp6zbonttp\"\n",
      "  m = numpy.loadtxt(output_name)\n"
     ]
    },
    {
     "name": "stdout",
     "output_type": "stream",
     "text": [
      "run for parameters {} failed: too many indices for array\n"
     ]
    },
    {
     "name": "stderr",
     "output_type": "stream",
     "text": [
      "C:\\Users\\hatta\\anaconda3\\lib\\site-packages\\fairness\\algorithms\\kamishima\\KamishimaAlgorithm.py:99: UserWarning: loadtxt: Empty input file: \"C:\\Users\\hatta\\AppData\\Local\\Temp\\tmp03pdmdkp\"\n",
      "  m = numpy.loadtxt(output_name)\n"
     ]
    },
    {
     "name": "stdout",
     "output_type": "stream",
     "text": [
      "run for parameters {} failed: too many indices for array\n"
     ]
    },
    {
     "name": "stderr",
     "output_type": "stream",
     "text": [
      "C:\\Users\\hatta\\anaconda3\\lib\\site-packages\\fairness\\algorithms\\kamishima\\KamishimaAlgorithm.py:99: UserWarning: loadtxt: Empty input file: \"C:\\Users\\hatta\\AppData\\Local\\Temp\\tmpi7zhq3oc\"\n",
      "  m = numpy.loadtxt(output_name)\n"
     ]
    },
    {
     "name": "stdout",
     "output_type": "stream",
     "text": [
      "run for parameters {} failed: too many indices for array\n"
     ]
    },
    {
     "name": "stderr",
     "output_type": "stream",
     "text": [
      "C:\\Users\\hatta\\anaconda3\\lib\\site-packages\\fairness\\algorithms\\kamishima\\KamishimaAlgorithm.py:99: UserWarning: loadtxt: Empty input file: \"C:\\Users\\hatta\\AppData\\Local\\Temp\\tmpk_1xqvju\"\n",
      "  m = numpy.loadtxt(output_name)\n"
     ]
    },
    {
     "name": "stdout",
     "output_type": "stream",
     "text": [
      "run for parameters {} failed: too many indices for array\n"
     ]
    },
    {
     "name": "stderr",
     "output_type": "stream",
     "text": [
      "C:\\Users\\hatta\\anaconda3\\lib\\site-packages\\fairness\\algorithms\\kamishima\\KamishimaAlgorithm.py:99: UserWarning: loadtxt: Empty input file: \"C:\\Users\\hatta\\AppData\\Local\\Temp\\tmpqpjr93s1\"\n",
      "  m = numpy.loadtxt(output_name)\n"
     ]
    },
    {
     "name": "stdout",
     "output_type": "stream",
     "text": [
      "run for parameters {} failed: too many indices for array\n"
     ]
    },
    {
     "name": "stderr",
     "output_type": "stream",
     "text": [
      "C:\\Users\\hatta\\anaconda3\\lib\\site-packages\\fairness\\algorithms\\kamishima\\KamishimaAlgorithm.py:99: UserWarning: loadtxt: Empty input file: \"C:\\Users\\hatta\\AppData\\Local\\Temp\\tmp18i1hsj2\"\n",
      "  m = numpy.loadtxt(output_name)\n"
     ]
    },
    {
     "name": "stdout",
     "output_type": "stream",
     "text": [
      "run for parameters {} failed: too many indices for array\n"
     ]
    },
    {
     "name": "stderr",
     "output_type": "stream",
     "text": [
      "C:\\Users\\hatta\\anaconda3\\lib\\site-packages\\fairness\\algorithms\\kamishima\\KamishimaAlgorithm.py:99: UserWarning: loadtxt: Empty input file: \"C:\\Users\\hatta\\AppData\\Local\\Temp\\tmpok_k4_su\"\n",
      "  m = numpy.loadtxt(output_name)\n"
     ]
    },
    {
     "name": "stdout",
     "output_type": "stream",
     "text": [
      "run for parameters {} failed: too many indices for array\n"
     ]
    },
    {
     "name": "stderr",
     "output_type": "stream",
     "text": [
      "C:\\Users\\hatta\\anaconda3\\lib\\site-packages\\fairness\\algorithms\\kamishima\\KamishimaAlgorithm.py:99: UserWarning: loadtxt: Empty input file: \"C:\\Users\\hatta\\AppData\\Local\\Temp\\tmpbfg0r8v1\"\n",
      "  m = numpy.loadtxt(output_name)\n"
     ]
    },
    {
     "name": "stdout",
     "output_type": "stream",
     "text": [
      "run for parameters {} failed: too many indices for array\n"
     ]
    },
    {
     "name": "stderr",
     "output_type": "stream",
     "text": [
      "C:\\Users\\hatta\\anaconda3\\lib\\site-packages\\fairness\\algorithms\\kamishima\\KamishimaAlgorithm.py:99: UserWarning: loadtxt: Empty input file: \"C:\\Users\\hatta\\AppData\\Local\\Temp\\tmpaysyvutd\"\n",
      "  m = numpy.loadtxt(output_name)\n"
     ]
    },
    {
     "name": "stdout",
     "output_type": "stream",
     "text": [
      "run for parameters {} failed: too many indices for array\n"
     ]
    },
    {
     "name": "stderr",
     "output_type": "stream",
     "text": [
      "C:\\Users\\hatta\\anaconda3\\lib\\site-packages\\fairness\\algorithms\\kamishima\\KamishimaAlgorithm.py:99: UserWarning: loadtxt: Empty input file: \"C:\\Users\\hatta\\AppData\\Local\\Temp\\tmpn1_a1jiu\"\n",
      "  m = numpy.loadtxt(output_name)\n"
     ]
    },
    {
     "name": "stdout",
     "output_type": "stream",
     "text": [
      "run for parameters {} failed: too many indices for array\n"
     ]
    },
    {
     "name": "stderr",
     "output_type": "stream",
     "text": [
      "C:\\Users\\hatta\\anaconda3\\lib\\site-packages\\fairness\\algorithms\\kamishima\\KamishimaAlgorithm.py:99: UserWarning: loadtxt: Empty input file: \"C:\\Users\\hatta\\AppData\\Local\\Temp\\tmpcztxiv5v\"\n",
      "  m = numpy.loadtxt(output_name)\n"
     ]
    },
    {
     "name": "stdout",
     "output_type": "stream",
     "text": [
      "run for parameters {} failed: too many indices for array\n"
     ]
    },
    {
     "name": "stderr",
     "output_type": "stream",
     "text": [
      "C:\\Users\\hatta\\anaconda3\\lib\\site-packages\\fairness\\algorithms\\kamishima\\KamishimaAlgorithm.py:99: UserWarning: loadtxt: Empty input file: \"C:\\Users\\hatta\\AppData\\Local\\Temp\\tmp5ny2yo2f\"\n",
      "  m = numpy.loadtxt(output_name)\n"
     ]
    },
    {
     "name": "stdout",
     "output_type": "stream",
     "text": [
      "run for parameters {} failed: too many indices for array\n"
     ]
    },
    {
     "name": "stderr",
     "output_type": "stream",
     "text": [
      "C:\\Users\\hatta\\anaconda3\\lib\\site-packages\\fairness\\algorithms\\kamishima\\KamishimaAlgorithm.py:99: UserWarning: loadtxt: Empty input file: \"C:\\Users\\hatta\\AppData\\Local\\Temp\\tmppm6hwxy8\"\n",
      "  m = numpy.loadtxt(output_name)\n"
     ]
    },
    {
     "name": "stdout",
     "output_type": "stream",
     "text": [
      "run for parameters {} failed: too many indices for array\n"
     ]
    },
    {
     "name": "stderr",
     "output_type": "stream",
     "text": [
      "Traceback (most recent call last):\n",
      "  File \"C:\\Users\\hatta\\anaconda3\\lib\\site-packages\\fairness\\benchmark.py\", line 66, in run\n",
      "    run_eval_alg(algorithm, train, test, dataset_obj, processed_dataset,\n",
      "  File \"C:\\Users\\hatta\\anaconda3\\lib\\site-packages\\fairness\\benchmark.py\", line 107, in run_eval_alg\n",
      "    run_alg(algorithm, train, test, dataset, all_sensitive_attributes, single_sensitive,\n",
      "  File \"C:\\Users\\hatta\\anaconda3\\lib\\site-packages\\fairness\\benchmark.py\", line 145, in run_alg\n",
      "    algorithm.run(train, test, class_attr, positive_val, all_sensitive_attributes,\n",
      "  File \"C:\\Users\\hatta\\anaconda3\\lib\\site-packages\\fairness\\algorithms\\ParamGridSearch.py\", line 36, in run\n",
      "    best_predictions = self.find_best(all_predictions, train_df, test_df, class_attr,\n",
      "  File \"C:\\Users\\hatta\\anaconda3\\lib\\site-packages\\fairness\\algorithms\\ParamGridSearch.py\", line 44, in find_best\n",
      "    raise Exception(\n",
      "Exception: No run in the parameter grid search succeeded - failing run of algorithm\n",
      "Failed: No run in the parameter grid search succeeded - failing run of algorithm\n",
      "C:\\Users\\hatta\\anaconda3\\lib\\site-packages\\fairness\\algorithms\\kamishima\\KamishimaAlgorithm.py:99: UserWarning: loadtxt: Empty input file: \"C:\\Users\\hatta\\AppData\\Local\\Temp\\tmpfyyr4krs\"\n",
      "  m = numpy.loadtxt(output_name)\n"
     ]
    },
    {
     "name": "stdout",
     "output_type": "stream",
     "text": [
      "run for parameters {} failed: too many indices for array\n"
     ]
    },
    {
     "name": "stderr",
     "output_type": "stream",
     "text": [
      "C:\\Users\\hatta\\anaconda3\\lib\\site-packages\\fairness\\algorithms\\kamishima\\KamishimaAlgorithm.py:99: UserWarning: loadtxt: Empty input file: \"C:\\Users\\hatta\\AppData\\Local\\Temp\\tmp3v8hiagp\"\n",
      "  m = numpy.loadtxt(output_name)\n"
     ]
    },
    {
     "name": "stdout",
     "output_type": "stream",
     "text": [
      "run for parameters {} failed: too many indices for array\n"
     ]
    },
    {
     "name": "stderr",
     "output_type": "stream",
     "text": [
      "C:\\Users\\hatta\\anaconda3\\lib\\site-packages\\fairness\\algorithms\\kamishima\\KamishimaAlgorithm.py:99: UserWarning: loadtxt: Empty input file: \"C:\\Users\\hatta\\AppData\\Local\\Temp\\tmpnngrk49c\"\n",
      "  m = numpy.loadtxt(output_name)\n"
     ]
    },
    {
     "name": "stdout",
     "output_type": "stream",
     "text": [
      "run for parameters {} failed: too many indices for array\n"
     ]
    },
    {
     "name": "stderr",
     "output_type": "stream",
     "text": [
      "C:\\Users\\hatta\\anaconda3\\lib\\site-packages\\fairness\\algorithms\\kamishima\\KamishimaAlgorithm.py:99: UserWarning: loadtxt: Empty input file: \"C:\\Users\\hatta\\AppData\\Local\\Temp\\tmplsqps4rg\"\n",
      "  m = numpy.loadtxt(output_name)\n"
     ]
    },
    {
     "name": "stdout",
     "output_type": "stream",
     "text": [
      "run for parameters {} failed: too many indices for array\n"
     ]
    },
    {
     "name": "stderr",
     "output_type": "stream",
     "text": [
      "C:\\Users\\hatta\\anaconda3\\lib\\site-packages\\fairness\\algorithms\\kamishima\\KamishimaAlgorithm.py:99: UserWarning: loadtxt: Empty input file: \"C:\\Users\\hatta\\AppData\\Local\\Temp\\tmpn83b1i37\"\n",
      "  m = numpy.loadtxt(output_name)\n"
     ]
    },
    {
     "name": "stdout",
     "output_type": "stream",
     "text": [
      "run for parameters {} failed: too many indices for array\n"
     ]
    },
    {
     "name": "stderr",
     "output_type": "stream",
     "text": [
      "C:\\Users\\hatta\\anaconda3\\lib\\site-packages\\fairness\\algorithms\\kamishima\\KamishimaAlgorithm.py:99: UserWarning: loadtxt: Empty input file: \"C:\\Users\\hatta\\AppData\\Local\\Temp\\tmps_foqv8x\"\n",
      "  m = numpy.loadtxt(output_name)\n"
     ]
    },
    {
     "name": "stdout",
     "output_type": "stream",
     "text": [
      "run for parameters {} failed: too many indices for array\n"
     ]
    },
    {
     "name": "stderr",
     "output_type": "stream",
     "text": [
      "C:\\Users\\hatta\\anaconda3\\lib\\site-packages\\fairness\\algorithms\\kamishima\\KamishimaAlgorithm.py:99: UserWarning: loadtxt: Empty input file: \"C:\\Users\\hatta\\AppData\\Local\\Temp\\tmpmivzf6tb\"\n",
      "  m = numpy.loadtxt(output_name)\n"
     ]
    },
    {
     "name": "stdout",
     "output_type": "stream",
     "text": [
      "run for parameters {} failed: too many indices for array\n"
     ]
    },
    {
     "name": "stderr",
     "output_type": "stream",
     "text": [
      "C:\\Users\\hatta\\anaconda3\\lib\\site-packages\\fairness\\algorithms\\kamishima\\KamishimaAlgorithm.py:99: UserWarning: loadtxt: Empty input file: \"C:\\Users\\hatta\\AppData\\Local\\Temp\\tmpprl22h3n\"\n",
      "  m = numpy.loadtxt(output_name)\n"
     ]
    },
    {
     "name": "stdout",
     "output_type": "stream",
     "text": [
      "run for parameters {} failed: too many indices for array\n"
     ]
    },
    {
     "name": "stderr",
     "output_type": "stream",
     "text": [
      "C:\\Users\\hatta\\anaconda3\\lib\\site-packages\\fairness\\algorithms\\kamishima\\KamishimaAlgorithm.py:99: UserWarning: loadtxt: Empty input file: \"C:\\Users\\hatta\\AppData\\Local\\Temp\\tmpsr3qz4w5\"\n",
      "  m = numpy.loadtxt(output_name)\n"
     ]
    },
    {
     "name": "stdout",
     "output_type": "stream",
     "text": [
      "run for parameters {} failed: too many indices for array\n"
     ]
    },
    {
     "name": "stderr",
     "output_type": "stream",
     "text": [
      "C:\\Users\\hatta\\anaconda3\\lib\\site-packages\\fairness\\algorithms\\kamishima\\KamishimaAlgorithm.py:99: UserWarning: loadtxt: Empty input file: \"C:\\Users\\hatta\\AppData\\Local\\Temp\\tmpquw978u_\"\n",
      "  m = numpy.loadtxt(output_name)\n"
     ]
    },
    {
     "name": "stdout",
     "output_type": "stream",
     "text": [
      "run for parameters {} failed: too many indices for array\n"
     ]
    },
    {
     "name": "stderr",
     "output_type": "stream",
     "text": [
      "C:\\Users\\hatta\\anaconda3\\lib\\site-packages\\fairness\\algorithms\\kamishima\\KamishimaAlgorithm.py:99: UserWarning: loadtxt: Empty input file: \"C:\\Users\\hatta\\AppData\\Local\\Temp\\tmpcjga6_77\"\n",
      "  m = numpy.loadtxt(output_name)\n"
     ]
    },
    {
     "name": "stdout",
     "output_type": "stream",
     "text": [
      "run for parameters {} failed: too many indices for array\n"
     ]
    },
    {
     "name": "stderr",
     "output_type": "stream",
     "text": [
      "C:\\Users\\hatta\\anaconda3\\lib\\site-packages\\fairness\\algorithms\\kamishima\\KamishimaAlgorithm.py:99: UserWarning: loadtxt: Empty input file: \"C:\\Users\\hatta\\AppData\\Local\\Temp\\tmpq2zp1_mi\"\n",
      "  m = numpy.loadtxt(output_name)\n"
     ]
    },
    {
     "name": "stdout",
     "output_type": "stream",
     "text": [
      "run for parameters {} failed: too many indices for array\n"
     ]
    },
    {
     "name": "stderr",
     "output_type": "stream",
     "text": [
      "C:\\Users\\hatta\\anaconda3\\lib\\site-packages\\fairness\\algorithms\\kamishima\\KamishimaAlgorithm.py:99: UserWarning: loadtxt: Empty input file: \"C:\\Users\\hatta\\AppData\\Local\\Temp\\tmpfo_v0ff4\"\n",
      "  m = numpy.loadtxt(output_name)\n"
     ]
    },
    {
     "name": "stdout",
     "output_type": "stream",
     "text": [
      "run for parameters {} failed: too many indices for array\n"
     ]
    },
    {
     "name": "stderr",
     "output_type": "stream",
     "text": [
      "C:\\Users\\hatta\\anaconda3\\lib\\site-packages\\fairness\\algorithms\\kamishima\\KamishimaAlgorithm.py:99: UserWarning: loadtxt: Empty input file: \"C:\\Users\\hatta\\AppData\\Local\\Temp\\tmpjxrdn3vy\"\n",
      "  m = numpy.loadtxt(output_name)\n"
     ]
    },
    {
     "name": "stdout",
     "output_type": "stream",
     "text": [
      "run for parameters {} failed: too many indices for array\n"
     ]
    },
    {
     "name": "stderr",
     "output_type": "stream",
     "text": [
      "C:\\Users\\hatta\\anaconda3\\lib\\site-packages\\fairness\\algorithms\\kamishima\\KamishimaAlgorithm.py:99: UserWarning: loadtxt: Empty input file: \"C:\\Users\\hatta\\AppData\\Local\\Temp\\tmp1qbjvnme\"\n",
      "  m = numpy.loadtxt(output_name)\n"
     ]
    },
    {
     "name": "stdout",
     "output_type": "stream",
     "text": [
      "run for parameters {} failed: too many indices for array\n"
     ]
    },
    {
     "name": "stderr",
     "output_type": "stream",
     "text": [
      "C:\\Users\\hatta\\anaconda3\\lib\\site-packages\\fairness\\algorithms\\kamishima\\KamishimaAlgorithm.py:99: UserWarning: loadtxt: Empty input file: \"C:\\Users\\hatta\\AppData\\Local\\Temp\\tmpjuhzom4d\"\n",
      "  m = numpy.loadtxt(output_name)\n"
     ]
    },
    {
     "name": "stdout",
     "output_type": "stream",
     "text": [
      "run for parameters {} failed: too many indices for array\n"
     ]
    },
    {
     "name": "stderr",
     "output_type": "stream",
     "text": [
      "C:\\Users\\hatta\\anaconda3\\lib\\site-packages\\fairness\\algorithms\\kamishima\\KamishimaAlgorithm.py:99: UserWarning: loadtxt: Empty input file: \"C:\\Users\\hatta\\AppData\\Local\\Temp\\tmp9a55nde0\"\n",
      "  m = numpy.loadtxt(output_name)\n"
     ]
    },
    {
     "name": "stdout",
     "output_type": "stream",
     "text": [
      "run for parameters {} failed: too many indices for array\n"
     ]
    },
    {
     "name": "stderr",
     "output_type": "stream",
     "text": [
      "Traceback (most recent call last):\n",
      "  File \"C:\\Users\\hatta\\anaconda3\\lib\\site-packages\\fairness\\benchmark.py\", line 66, in run\n",
      "    run_eval_alg(algorithm, train, test, dataset_obj, processed_dataset,\n",
      "  File \"C:\\Users\\hatta\\anaconda3\\lib\\site-packages\\fairness\\benchmark.py\", line 107, in run_eval_alg\n",
      "    run_alg(algorithm, train, test, dataset, all_sensitive_attributes, single_sensitive,\n",
      "  File \"C:\\Users\\hatta\\anaconda3\\lib\\site-packages\\fairness\\benchmark.py\", line 145, in run_alg\n",
      "    algorithm.run(train, test, class_attr, positive_val, all_sensitive_attributes,\n",
      "  File \"C:\\Users\\hatta\\anaconda3\\lib\\site-packages\\fairness\\algorithms\\ParamGridSearch.py\", line 36, in run\n",
      "    best_predictions = self.find_best(all_predictions, train_df, test_df, class_attr,\n",
      "  File \"C:\\Users\\hatta\\anaconda3\\lib\\site-packages\\fairness\\algorithms\\ParamGridSearch.py\", line 44, in find_best\n",
      "    raise Exception(\n",
      "Exception: No run in the parameter grid search succeeded - failing run of algorithm\n",
      "Failed: No run in the parameter grid search succeeded - failing run of algorithm\n",
      "C:\\Users\\hatta\\anaconda3\\lib\\site-packages\\fairness\\algorithms\\kamishima\\KamishimaAlgorithm.py:99: UserWarning: loadtxt: Empty input file: \"C:\\Users\\hatta\\AppData\\Local\\Temp\\tmpgsreocxv\"\n",
      "  m = numpy.loadtxt(output_name)\n"
     ]
    },
    {
     "name": "stdout",
     "output_type": "stream",
     "text": [
      "run for parameters {} failed: too many indices for array\n"
     ]
    },
    {
     "name": "stderr",
     "output_type": "stream",
     "text": [
      "C:\\Users\\hatta\\anaconda3\\lib\\site-packages\\fairness\\algorithms\\kamishima\\KamishimaAlgorithm.py:99: UserWarning: loadtxt: Empty input file: \"C:\\Users\\hatta\\AppData\\Local\\Temp\\tmp_oqs53n0\"\n",
      "  m = numpy.loadtxt(output_name)\n"
     ]
    },
    {
     "name": "stdout",
     "output_type": "stream",
     "text": [
      "run for parameters {} failed: too many indices for array\n"
     ]
    },
    {
     "name": "stderr",
     "output_type": "stream",
     "text": [
      "C:\\Users\\hatta\\anaconda3\\lib\\site-packages\\fairness\\algorithms\\kamishima\\KamishimaAlgorithm.py:99: UserWarning: loadtxt: Empty input file: \"C:\\Users\\hatta\\AppData\\Local\\Temp\\tmp1pweoc6e\"\n",
      "  m = numpy.loadtxt(output_name)\n"
     ]
    },
    {
     "name": "stdout",
     "output_type": "stream",
     "text": [
      "run for parameters {} failed: too many indices for array\n"
     ]
    },
    {
     "name": "stderr",
     "output_type": "stream",
     "text": [
      "C:\\Users\\hatta\\anaconda3\\lib\\site-packages\\fairness\\algorithms\\kamishima\\KamishimaAlgorithm.py:99: UserWarning: loadtxt: Empty input file: \"C:\\Users\\hatta\\AppData\\Local\\Temp\\tmphr4l4enk\"\n",
      "  m = numpy.loadtxt(output_name)\n"
     ]
    },
    {
     "name": "stdout",
     "output_type": "stream",
     "text": [
      "run for parameters {} failed: too many indices for array\n"
     ]
    },
    {
     "name": "stderr",
     "output_type": "stream",
     "text": [
      "C:\\Users\\hatta\\anaconda3\\lib\\site-packages\\fairness\\algorithms\\kamishima\\KamishimaAlgorithm.py:99: UserWarning: loadtxt: Empty input file: \"C:\\Users\\hatta\\AppData\\Local\\Temp\\tmpe1pbn7fi\"\n",
      "  m = numpy.loadtxt(output_name)\n"
     ]
    },
    {
     "name": "stdout",
     "output_type": "stream",
     "text": [
      "run for parameters {} failed: too many indices for array\n"
     ]
    },
    {
     "name": "stderr",
     "output_type": "stream",
     "text": [
      "C:\\Users\\hatta\\anaconda3\\lib\\site-packages\\fairness\\algorithms\\kamishima\\KamishimaAlgorithm.py:99: UserWarning: loadtxt: Empty input file: \"C:\\Users\\hatta\\AppData\\Local\\Temp\\tmptpaxk25w\"\n",
      "  m = numpy.loadtxt(output_name)\n"
     ]
    },
    {
     "name": "stdout",
     "output_type": "stream",
     "text": [
      "run for parameters {} failed: too many indices for array\n"
     ]
    },
    {
     "name": "stderr",
     "output_type": "stream",
     "text": [
      "C:\\Users\\hatta\\anaconda3\\lib\\site-packages\\fairness\\algorithms\\kamishima\\KamishimaAlgorithm.py:99: UserWarning: loadtxt: Empty input file: \"C:\\Users\\hatta\\AppData\\Local\\Temp\\tmpcv2kjpif\"\n",
      "  m = numpy.loadtxt(output_name)\n"
     ]
    },
    {
     "name": "stdout",
     "output_type": "stream",
     "text": [
      "run for parameters {} failed: too many indices for array\n"
     ]
    },
    {
     "name": "stderr",
     "output_type": "stream",
     "text": [
      "C:\\Users\\hatta\\anaconda3\\lib\\site-packages\\fairness\\algorithms\\kamishima\\KamishimaAlgorithm.py:99: UserWarning: loadtxt: Empty input file: \"C:\\Users\\hatta\\AppData\\Local\\Temp\\tmp0dkbox6e\"\n",
      "  m = numpy.loadtxt(output_name)\n"
     ]
    },
    {
     "name": "stdout",
     "output_type": "stream",
     "text": [
      "run for parameters {} failed: too many indices for array\n"
     ]
    },
    {
     "name": "stderr",
     "output_type": "stream",
     "text": [
      "C:\\Users\\hatta\\anaconda3\\lib\\site-packages\\fairness\\algorithms\\kamishima\\KamishimaAlgorithm.py:99: UserWarning: loadtxt: Empty input file: \"C:\\Users\\hatta\\AppData\\Local\\Temp\\tmpbzmej8kr\"\n",
      "  m = numpy.loadtxt(output_name)\n"
     ]
    },
    {
     "name": "stdout",
     "output_type": "stream",
     "text": [
      "run for parameters {} failed: too many indices for array\n"
     ]
    },
    {
     "name": "stderr",
     "output_type": "stream",
     "text": [
      "C:\\Users\\hatta\\anaconda3\\lib\\site-packages\\fairness\\algorithms\\kamishima\\KamishimaAlgorithm.py:99: UserWarning: loadtxt: Empty input file: \"C:\\Users\\hatta\\AppData\\Local\\Temp\\tmpvnqvrc__\"\n",
      "  m = numpy.loadtxt(output_name)\n"
     ]
    },
    {
     "name": "stdout",
     "output_type": "stream",
     "text": [
      "run for parameters {} failed: too many indices for array\n"
     ]
    },
    {
     "name": "stderr",
     "output_type": "stream",
     "text": [
      "C:\\Users\\hatta\\anaconda3\\lib\\site-packages\\fairness\\algorithms\\kamishima\\KamishimaAlgorithm.py:99: UserWarning: loadtxt: Empty input file: \"C:\\Users\\hatta\\AppData\\Local\\Temp\\tmpuddzhtz_\"\n",
      "  m = numpy.loadtxt(output_name)\n"
     ]
    },
    {
     "name": "stdout",
     "output_type": "stream",
     "text": [
      "run for parameters {} failed: too many indices for array\n"
     ]
    },
    {
     "name": "stderr",
     "output_type": "stream",
     "text": [
      "C:\\Users\\hatta\\anaconda3\\lib\\site-packages\\fairness\\algorithms\\kamishima\\KamishimaAlgorithm.py:99: UserWarning: loadtxt: Empty input file: \"C:\\Users\\hatta\\AppData\\Local\\Temp\\tmpblur8iog\"\n",
      "  m = numpy.loadtxt(output_name)\n"
     ]
    },
    {
     "name": "stdout",
     "output_type": "stream",
     "text": [
      "run for parameters {} failed: too many indices for array\n"
     ]
    },
    {
     "name": "stderr",
     "output_type": "stream",
     "text": [
      "C:\\Users\\hatta\\anaconda3\\lib\\site-packages\\fairness\\algorithms\\kamishima\\KamishimaAlgorithm.py:99: UserWarning: loadtxt: Empty input file: \"C:\\Users\\hatta\\AppData\\Local\\Temp\\tmp4blr7ubm\"\n",
      "  m = numpy.loadtxt(output_name)\n"
     ]
    },
    {
     "name": "stdout",
     "output_type": "stream",
     "text": [
      "run for parameters {} failed: too many indices for array\n"
     ]
    },
    {
     "name": "stderr",
     "output_type": "stream",
     "text": [
      "C:\\Users\\hatta\\anaconda3\\lib\\site-packages\\fairness\\algorithms\\kamishima\\KamishimaAlgorithm.py:99: UserWarning: loadtxt: Empty input file: \"C:\\Users\\hatta\\AppData\\Local\\Temp\\tmpp3luxp6i\"\n",
      "  m = numpy.loadtxt(output_name)\n"
     ]
    },
    {
     "name": "stdout",
     "output_type": "stream",
     "text": [
      "run for parameters {} failed: too many indices for array\n"
     ]
    },
    {
     "name": "stderr",
     "output_type": "stream",
     "text": [
      "C:\\Users\\hatta\\anaconda3\\lib\\site-packages\\fairness\\algorithms\\kamishima\\KamishimaAlgorithm.py:99: UserWarning: loadtxt: Empty input file: \"C:\\Users\\hatta\\AppData\\Local\\Temp\\tmpdrqjv6a7\"\n",
      "  m = numpy.loadtxt(output_name)\n"
     ]
    },
    {
     "name": "stdout",
     "output_type": "stream",
     "text": [
      "run for parameters {} failed: too many indices for array\n"
     ]
    },
    {
     "name": "stderr",
     "output_type": "stream",
     "text": [
      "C:\\Users\\hatta\\anaconda3\\lib\\site-packages\\fairness\\algorithms\\kamishima\\KamishimaAlgorithm.py:99: UserWarning: loadtxt: Empty input file: \"C:\\Users\\hatta\\AppData\\Local\\Temp\\tmpbvlsfsek\"\n",
      "  m = numpy.loadtxt(output_name)\n"
     ]
    },
    {
     "name": "stdout",
     "output_type": "stream",
     "text": [
      "run for parameters {} failed: too many indices for array\n"
     ]
    },
    {
     "name": "stderr",
     "output_type": "stream",
     "text": [
      "C:\\Users\\hatta\\anaconda3\\lib\\site-packages\\fairness\\algorithms\\kamishima\\KamishimaAlgorithm.py:99: UserWarning: loadtxt: Empty input file: \"C:\\Users\\hatta\\AppData\\Local\\Temp\\tmpfcsronnv\"\n",
      "  m = numpy.loadtxt(output_name)\n"
     ]
    },
    {
     "name": "stdout",
     "output_type": "stream",
     "text": [
      "run for parameters {} failed: too many indices for array\n"
     ]
    },
    {
     "name": "stderr",
     "output_type": "stream",
     "text": [
      "Traceback (most recent call last):\n",
      "  File \"C:\\Users\\hatta\\anaconda3\\lib\\site-packages\\fairness\\benchmark.py\", line 66, in run\n",
      "    run_eval_alg(algorithm, train, test, dataset_obj, processed_dataset,\n",
      "  File \"C:\\Users\\hatta\\anaconda3\\lib\\site-packages\\fairness\\benchmark.py\", line 107, in run_eval_alg\n",
      "    run_alg(algorithm, train, test, dataset, all_sensitive_attributes, single_sensitive,\n",
      "  File \"C:\\Users\\hatta\\anaconda3\\lib\\site-packages\\fairness\\benchmark.py\", line 145, in run_alg\n",
      "    algorithm.run(train, test, class_attr, positive_val, all_sensitive_attributes,\n",
      "  File \"C:\\Users\\hatta\\anaconda3\\lib\\site-packages\\fairness\\algorithms\\ParamGridSearch.py\", line 36, in run\n",
      "    best_predictions = self.find_best(all_predictions, train_df, test_df, class_attr,\n",
      "  File \"C:\\Users\\hatta\\anaconda3\\lib\\site-packages\\fairness\\algorithms\\ParamGridSearch.py\", line 44, in find_best\n",
      "    raise Exception(\n",
      "Exception: No run in the parameter grid search succeeded - failing run of algorithm\n",
      "Failed: No run in the parameter grid search succeeded - failing run of algorithm\n",
      "C:\\Users\\hatta\\anaconda3\\lib\\site-packages\\fairness\\algorithms\\kamishima\\KamishimaAlgorithm.py:99: UserWarning: loadtxt: Empty input file: \"C:\\Users\\hatta\\AppData\\Local\\Temp\\tmp_7y_kzp9\"\n",
      "  m = numpy.loadtxt(output_name)\n"
     ]
    },
    {
     "name": "stdout",
     "output_type": "stream",
     "text": [
      "run for parameters {} failed: too many indices for array\n"
     ]
    },
    {
     "name": "stderr",
     "output_type": "stream",
     "text": [
      "C:\\Users\\hatta\\anaconda3\\lib\\site-packages\\fairness\\algorithms\\kamishima\\KamishimaAlgorithm.py:99: UserWarning: loadtxt: Empty input file: \"C:\\Users\\hatta\\AppData\\Local\\Temp\\tmpfz_bk6ai\"\n",
      "  m = numpy.loadtxt(output_name)\n"
     ]
    },
    {
     "name": "stdout",
     "output_type": "stream",
     "text": [
      "run for parameters {} failed: too many indices for array\n"
     ]
    },
    {
     "name": "stderr",
     "output_type": "stream",
     "text": [
      "C:\\Users\\hatta\\anaconda3\\lib\\site-packages\\fairness\\algorithms\\kamishima\\KamishimaAlgorithm.py:99: UserWarning: loadtxt: Empty input file: \"C:\\Users\\hatta\\AppData\\Local\\Temp\\tmpx9yewn02\"\n",
      "  m = numpy.loadtxt(output_name)\n"
     ]
    },
    {
     "name": "stdout",
     "output_type": "stream",
     "text": [
      "run for parameters {} failed: too many indices for array\n"
     ]
    },
    {
     "name": "stderr",
     "output_type": "stream",
     "text": [
      "C:\\Users\\hatta\\anaconda3\\lib\\site-packages\\fairness\\algorithms\\kamishima\\KamishimaAlgorithm.py:99: UserWarning: loadtxt: Empty input file: \"C:\\Users\\hatta\\AppData\\Local\\Temp\\tmpvbe_8o2s\"\n",
      "  m = numpy.loadtxt(output_name)\n"
     ]
    },
    {
     "name": "stdout",
     "output_type": "stream",
     "text": [
      "run for parameters {} failed: too many indices for array\n"
     ]
    },
    {
     "name": "stderr",
     "output_type": "stream",
     "text": [
      "C:\\Users\\hatta\\anaconda3\\lib\\site-packages\\fairness\\algorithms\\kamishima\\KamishimaAlgorithm.py:99: UserWarning: loadtxt: Empty input file: \"C:\\Users\\hatta\\AppData\\Local\\Temp\\tmpxn4a5xz5\"\n",
      "  m = numpy.loadtxt(output_name)\n"
     ]
    },
    {
     "name": "stdout",
     "output_type": "stream",
     "text": [
      "run for parameters {} failed: too many indices for array\n"
     ]
    },
    {
     "name": "stderr",
     "output_type": "stream",
     "text": [
      "C:\\Users\\hatta\\anaconda3\\lib\\site-packages\\fairness\\algorithms\\kamishima\\KamishimaAlgorithm.py:99: UserWarning: loadtxt: Empty input file: \"C:\\Users\\hatta\\AppData\\Local\\Temp\\tmp47ghzj4i\"\n",
      "  m = numpy.loadtxt(output_name)\n"
     ]
    },
    {
     "name": "stdout",
     "output_type": "stream",
     "text": [
      "run for parameters {} failed: too many indices for array\n"
     ]
    },
    {
     "name": "stderr",
     "output_type": "stream",
     "text": [
      "C:\\Users\\hatta\\anaconda3\\lib\\site-packages\\fairness\\algorithms\\kamishima\\KamishimaAlgorithm.py:99: UserWarning: loadtxt: Empty input file: \"C:\\Users\\hatta\\AppData\\Local\\Temp\\tmpycyk30ma\"\n",
      "  m = numpy.loadtxt(output_name)\n"
     ]
    },
    {
     "name": "stdout",
     "output_type": "stream",
     "text": [
      "run for parameters {} failed: too many indices for array\n"
     ]
    },
    {
     "name": "stderr",
     "output_type": "stream",
     "text": [
      "C:\\Users\\hatta\\anaconda3\\lib\\site-packages\\fairness\\algorithms\\kamishima\\KamishimaAlgorithm.py:99: UserWarning: loadtxt: Empty input file: \"C:\\Users\\hatta\\AppData\\Local\\Temp\\tmpli2g3p_k\"\n",
      "  m = numpy.loadtxt(output_name)\n"
     ]
    },
    {
     "name": "stdout",
     "output_type": "stream",
     "text": [
      "run for parameters {} failed: too many indices for array\n"
     ]
    },
    {
     "name": "stderr",
     "output_type": "stream",
     "text": [
      "C:\\Users\\hatta\\anaconda3\\lib\\site-packages\\fairness\\algorithms\\kamishima\\KamishimaAlgorithm.py:99: UserWarning: loadtxt: Empty input file: \"C:\\Users\\hatta\\AppData\\Local\\Temp\\tmpt5ivw2b_\"\n",
      "  m = numpy.loadtxt(output_name)\n"
     ]
    },
    {
     "name": "stdout",
     "output_type": "stream",
     "text": [
      "run for parameters {} failed: too many indices for array\n"
     ]
    },
    {
     "name": "stderr",
     "output_type": "stream",
     "text": [
      "C:\\Users\\hatta\\anaconda3\\lib\\site-packages\\fairness\\algorithms\\kamishima\\KamishimaAlgorithm.py:99: UserWarning: loadtxt: Empty input file: \"C:\\Users\\hatta\\AppData\\Local\\Temp\\tmp2w0zc4du\"\n",
      "  m = numpy.loadtxt(output_name)\n"
     ]
    },
    {
     "name": "stdout",
     "output_type": "stream",
     "text": [
      "run for parameters {} failed: too many indices for array\n"
     ]
    },
    {
     "name": "stderr",
     "output_type": "stream",
     "text": [
      "C:\\Users\\hatta\\anaconda3\\lib\\site-packages\\fairness\\algorithms\\kamishima\\KamishimaAlgorithm.py:99: UserWarning: loadtxt: Empty input file: \"C:\\Users\\hatta\\AppData\\Local\\Temp\\tmpw4279lpg\"\n",
      "  m = numpy.loadtxt(output_name)\n"
     ]
    },
    {
     "name": "stdout",
     "output_type": "stream",
     "text": [
      "run for parameters {} failed: too many indices for array\n"
     ]
    },
    {
     "name": "stderr",
     "output_type": "stream",
     "text": [
      "C:\\Users\\hatta\\anaconda3\\lib\\site-packages\\fairness\\algorithms\\kamishima\\KamishimaAlgorithm.py:99: UserWarning: loadtxt: Empty input file: \"C:\\Users\\hatta\\AppData\\Local\\Temp\\tmpzcyes8zf\"\n",
      "  m = numpy.loadtxt(output_name)\n"
     ]
    },
    {
     "name": "stdout",
     "output_type": "stream",
     "text": [
      "run for parameters {} failed: too many indices for array\n"
     ]
    },
    {
     "name": "stderr",
     "output_type": "stream",
     "text": [
      "C:\\Users\\hatta\\anaconda3\\lib\\site-packages\\fairness\\algorithms\\kamishima\\KamishimaAlgorithm.py:99: UserWarning: loadtxt: Empty input file: \"C:\\Users\\hatta\\AppData\\Local\\Temp\\tmp2zl54w8d\"\n",
      "  m = numpy.loadtxt(output_name)\n"
     ]
    },
    {
     "name": "stdout",
     "output_type": "stream",
     "text": [
      "run for parameters {} failed: too many indices for array\n"
     ]
    },
    {
     "name": "stderr",
     "output_type": "stream",
     "text": [
      "C:\\Users\\hatta\\anaconda3\\lib\\site-packages\\fairness\\algorithms\\kamishima\\KamishimaAlgorithm.py:99: UserWarning: loadtxt: Empty input file: \"C:\\Users\\hatta\\AppData\\Local\\Temp\\tmp78_6flih\"\n",
      "  m = numpy.loadtxt(output_name)\n"
     ]
    },
    {
     "name": "stdout",
     "output_type": "stream",
     "text": [
      "run for parameters {} failed: too many indices for array\n"
     ]
    },
    {
     "name": "stderr",
     "output_type": "stream",
     "text": [
      "C:\\Users\\hatta\\anaconda3\\lib\\site-packages\\fairness\\algorithms\\kamishima\\KamishimaAlgorithm.py:99: UserWarning: loadtxt: Empty input file: \"C:\\Users\\hatta\\AppData\\Local\\Temp\\tmpdjtp2yww\"\n",
      "  m = numpy.loadtxt(output_name)\n"
     ]
    },
    {
     "name": "stdout",
     "output_type": "stream",
     "text": [
      "run for parameters {} failed: too many indices for array\n"
     ]
    },
    {
     "name": "stderr",
     "output_type": "stream",
     "text": [
      "C:\\Users\\hatta\\anaconda3\\lib\\site-packages\\fairness\\algorithms\\kamishima\\KamishimaAlgorithm.py:99: UserWarning: loadtxt: Empty input file: \"C:\\Users\\hatta\\AppData\\Local\\Temp\\tmppwdn39fw\"\n",
      "  m = numpy.loadtxt(output_name)\n"
     ]
    },
    {
     "name": "stdout",
     "output_type": "stream",
     "text": [
      "run for parameters {} failed: too many indices for array\n"
     ]
    },
    {
     "name": "stderr",
     "output_type": "stream",
     "text": [
      "C:\\Users\\hatta\\anaconda3\\lib\\site-packages\\fairness\\algorithms\\kamishima\\KamishimaAlgorithm.py:99: UserWarning: loadtxt: Empty input file: \"C:\\Users\\hatta\\AppData\\Local\\Temp\\tmp351ba7pw\"\n",
      "  m = numpy.loadtxt(output_name)\n"
     ]
    },
    {
     "name": "stdout",
     "output_type": "stream",
     "text": [
      "run for parameters {} failed: too many indices for array\n"
     ]
    },
    {
     "name": "stderr",
     "output_type": "stream",
     "text": [
      "Traceback (most recent call last):\n",
      "  File \"C:\\Users\\hatta\\anaconda3\\lib\\site-packages\\fairness\\benchmark.py\", line 66, in run\n",
      "    run_eval_alg(algorithm, train, test, dataset_obj, processed_dataset,\n",
      "  File \"C:\\Users\\hatta\\anaconda3\\lib\\site-packages\\fairness\\benchmark.py\", line 107, in run_eval_alg\n",
      "    run_alg(algorithm, train, test, dataset, all_sensitive_attributes, single_sensitive,\n",
      "  File \"C:\\Users\\hatta\\anaconda3\\lib\\site-packages\\fairness\\benchmark.py\", line 145, in run_alg\n",
      "    algorithm.run(train, test, class_attr, positive_val, all_sensitive_attributes,\n",
      "  File \"C:\\Users\\hatta\\anaconda3\\lib\\site-packages\\fairness\\algorithms\\ParamGridSearch.py\", line 36, in run\n",
      "    best_predictions = self.find_best(all_predictions, train_df, test_df, class_attr,\n",
      "  File \"C:\\Users\\hatta\\anaconda3\\lib\\site-packages\\fairness\\algorithms\\ParamGridSearch.py\", line 44, in find_best\n",
      "    raise Exception(\n",
      "Exception: No run in the parameter grid search succeeded - failing run of algorithm\n",
      "Failed: No run in the parameter grid search succeeded - failing run of algorithm\n"
     ]
    },
    {
     "name": "stdout",
     "output_type": "stream",
     "text": [
      "    Algorithm: Kamishima-DIavgall\n",
      "       supported types: {'numerical-binsensitive'}\n"
     ]
    },
    {
     "name": "stderr",
     "output_type": "stream",
     "text": [
      "C:\\Users\\hatta\\anaconda3\\lib\\site-packages\\fairness\\algorithms\\kamishima\\KamishimaAlgorithm.py:99: UserWarning: loadtxt: Empty input file: \"C:\\Users\\hatta\\AppData\\Local\\Temp\\tmpdcovvttt\"\n",
      "  m = numpy.loadtxt(output_name)\n"
     ]
    },
    {
     "name": "stdout",
     "output_type": "stream",
     "text": [
      "run for parameters {} failed: too many indices for array\n"
     ]
    },
    {
     "name": "stderr",
     "output_type": "stream",
     "text": [
      "C:\\Users\\hatta\\anaconda3\\lib\\site-packages\\fairness\\algorithms\\kamishima\\KamishimaAlgorithm.py:99: UserWarning: loadtxt: Empty input file: \"C:\\Users\\hatta\\AppData\\Local\\Temp\\tmp5oogzuvs\"\n",
      "  m = numpy.loadtxt(output_name)\n"
     ]
    },
    {
     "name": "stdout",
     "output_type": "stream",
     "text": [
      "run for parameters {} failed: too many indices for array\n"
     ]
    },
    {
     "name": "stderr",
     "output_type": "stream",
     "text": [
      "C:\\Users\\hatta\\anaconda3\\lib\\site-packages\\fairness\\algorithms\\kamishima\\KamishimaAlgorithm.py:99: UserWarning: loadtxt: Empty input file: \"C:\\Users\\hatta\\AppData\\Local\\Temp\\tmpqp5rsfxz\"\n",
      "  m = numpy.loadtxt(output_name)\n"
     ]
    },
    {
     "name": "stdout",
     "output_type": "stream",
     "text": [
      "run for parameters {} failed: too many indices for array\n"
     ]
    },
    {
     "name": "stderr",
     "output_type": "stream",
     "text": [
      "C:\\Users\\hatta\\anaconda3\\lib\\site-packages\\fairness\\algorithms\\kamishima\\KamishimaAlgorithm.py:99: UserWarning: loadtxt: Empty input file: \"C:\\Users\\hatta\\AppData\\Local\\Temp\\tmp2kc64z2_\"\n",
      "  m = numpy.loadtxt(output_name)\n"
     ]
    },
    {
     "name": "stdout",
     "output_type": "stream",
     "text": [
      "run for parameters {} failed: too many indices for array\n"
     ]
    },
    {
     "name": "stderr",
     "output_type": "stream",
     "text": [
      "C:\\Users\\hatta\\anaconda3\\lib\\site-packages\\fairness\\algorithms\\kamishima\\KamishimaAlgorithm.py:99: UserWarning: loadtxt: Empty input file: \"C:\\Users\\hatta\\AppData\\Local\\Temp\\tmpss8k_wah\"\n",
      "  m = numpy.loadtxt(output_name)\n"
     ]
    },
    {
     "name": "stdout",
     "output_type": "stream",
     "text": [
      "run for parameters {} failed: too many indices for array\n"
     ]
    },
    {
     "name": "stderr",
     "output_type": "stream",
     "text": [
      "C:\\Users\\hatta\\anaconda3\\lib\\site-packages\\fairness\\algorithms\\kamishima\\KamishimaAlgorithm.py:99: UserWarning: loadtxt: Empty input file: \"C:\\Users\\hatta\\AppData\\Local\\Temp\\tmp01j88gyl\"\n",
      "  m = numpy.loadtxt(output_name)\n"
     ]
    },
    {
     "name": "stdout",
     "output_type": "stream",
     "text": [
      "run for parameters {} failed: too many indices for array\n"
     ]
    },
    {
     "name": "stderr",
     "output_type": "stream",
     "text": [
      "C:\\Users\\hatta\\anaconda3\\lib\\site-packages\\fairness\\algorithms\\kamishima\\KamishimaAlgorithm.py:99: UserWarning: loadtxt: Empty input file: \"C:\\Users\\hatta\\AppData\\Local\\Temp\\tmpekfvli6m\"\n",
      "  m = numpy.loadtxt(output_name)\n"
     ]
    },
    {
     "name": "stdout",
     "output_type": "stream",
     "text": [
      "run for parameters {} failed: too many indices for array\n"
     ]
    },
    {
     "name": "stderr",
     "output_type": "stream",
     "text": [
      "C:\\Users\\hatta\\anaconda3\\lib\\site-packages\\fairness\\algorithms\\kamishima\\KamishimaAlgorithm.py:99: UserWarning: loadtxt: Empty input file: \"C:\\Users\\hatta\\AppData\\Local\\Temp\\tmpl3rn6vb8\"\n",
      "  m = numpy.loadtxt(output_name)\n"
     ]
    },
    {
     "name": "stdout",
     "output_type": "stream",
     "text": [
      "run for parameters {} failed: too many indices for array\n"
     ]
    },
    {
     "name": "stderr",
     "output_type": "stream",
     "text": [
      "C:\\Users\\hatta\\anaconda3\\lib\\site-packages\\fairness\\algorithms\\kamishima\\KamishimaAlgorithm.py:99: UserWarning: loadtxt: Empty input file: \"C:\\Users\\hatta\\AppData\\Local\\Temp\\tmpk5a9cwip\"\n",
      "  m = numpy.loadtxt(output_name)\n"
     ]
    },
    {
     "name": "stdout",
     "output_type": "stream",
     "text": [
      "run for parameters {} failed: too many indices for array\n"
     ]
    },
    {
     "name": "stderr",
     "output_type": "stream",
     "text": [
      "C:\\Users\\hatta\\anaconda3\\lib\\site-packages\\fairness\\algorithms\\kamishima\\KamishimaAlgorithm.py:99: UserWarning: loadtxt: Empty input file: \"C:\\Users\\hatta\\AppData\\Local\\Temp\\tmpf2ssnuzj\"\n",
      "  m = numpy.loadtxt(output_name)\n"
     ]
    },
    {
     "name": "stdout",
     "output_type": "stream",
     "text": [
      "run for parameters {} failed: too many indices for array\n"
     ]
    },
    {
     "name": "stderr",
     "output_type": "stream",
     "text": [
      "C:\\Users\\hatta\\anaconda3\\lib\\site-packages\\fairness\\algorithms\\kamishima\\KamishimaAlgorithm.py:99: UserWarning: loadtxt: Empty input file: \"C:\\Users\\hatta\\AppData\\Local\\Temp\\tmpqxxqa7cp\"\n",
      "  m = numpy.loadtxt(output_name)\n"
     ]
    },
    {
     "name": "stdout",
     "output_type": "stream",
     "text": [
      "run for parameters {} failed: too many indices for array\n"
     ]
    },
    {
     "name": "stderr",
     "output_type": "stream",
     "text": [
      "C:\\Users\\hatta\\anaconda3\\lib\\site-packages\\fairness\\algorithms\\kamishima\\KamishimaAlgorithm.py:99: UserWarning: loadtxt: Empty input file: \"C:\\Users\\hatta\\AppData\\Local\\Temp\\tmpakp_3ars\"\n",
      "  m = numpy.loadtxt(output_name)\n"
     ]
    },
    {
     "name": "stdout",
     "output_type": "stream",
     "text": [
      "run for parameters {} failed: too many indices for array\n"
     ]
    },
    {
     "name": "stderr",
     "output_type": "stream",
     "text": [
      "C:\\Users\\hatta\\anaconda3\\lib\\site-packages\\fairness\\algorithms\\kamishima\\KamishimaAlgorithm.py:99: UserWarning: loadtxt: Empty input file: \"C:\\Users\\hatta\\AppData\\Local\\Temp\\tmp0fi7pbub\"\n",
      "  m = numpy.loadtxt(output_name)\n"
     ]
    },
    {
     "name": "stdout",
     "output_type": "stream",
     "text": [
      "run for parameters {} failed: too many indices for array\n"
     ]
    },
    {
     "name": "stderr",
     "output_type": "stream",
     "text": [
      "C:\\Users\\hatta\\anaconda3\\lib\\site-packages\\fairness\\algorithms\\kamishima\\KamishimaAlgorithm.py:99: UserWarning: loadtxt: Empty input file: \"C:\\Users\\hatta\\AppData\\Local\\Temp\\tmpt7jzu34y\"\n",
      "  m = numpy.loadtxt(output_name)\n"
     ]
    },
    {
     "name": "stdout",
     "output_type": "stream",
     "text": [
      "run for parameters {} failed: too many indices for array\n"
     ]
    },
    {
     "name": "stderr",
     "output_type": "stream",
     "text": [
      "C:\\Users\\hatta\\anaconda3\\lib\\site-packages\\fairness\\algorithms\\kamishima\\KamishimaAlgorithm.py:99: UserWarning: loadtxt: Empty input file: \"C:\\Users\\hatta\\AppData\\Local\\Temp\\tmp8oykt9hq\"\n",
      "  m = numpy.loadtxt(output_name)\n"
     ]
    },
    {
     "name": "stdout",
     "output_type": "stream",
     "text": [
      "run for parameters {} failed: too many indices for array\n"
     ]
    },
    {
     "name": "stderr",
     "output_type": "stream",
     "text": [
      "C:\\Users\\hatta\\anaconda3\\lib\\site-packages\\fairness\\algorithms\\kamishima\\KamishimaAlgorithm.py:99: UserWarning: loadtxt: Empty input file: \"C:\\Users\\hatta\\AppData\\Local\\Temp\\tmp9wk7mz50\"\n",
      "  m = numpy.loadtxt(output_name)\n"
     ]
    },
    {
     "name": "stdout",
     "output_type": "stream",
     "text": [
      "run for parameters {} failed: too many indices for array\n"
     ]
    },
    {
     "name": "stderr",
     "output_type": "stream",
     "text": [
      "C:\\Users\\hatta\\anaconda3\\lib\\site-packages\\fairness\\algorithms\\kamishima\\KamishimaAlgorithm.py:99: UserWarning: loadtxt: Empty input file: \"C:\\Users\\hatta\\AppData\\Local\\Temp\\tmpy9vjd1xn\"\n",
      "  m = numpy.loadtxt(output_name)\n"
     ]
    },
    {
     "name": "stdout",
     "output_type": "stream",
     "text": [
      "run for parameters {} failed: too many indices for array\n"
     ]
    },
    {
     "name": "stderr",
     "output_type": "stream",
     "text": [
      "Traceback (most recent call last):\n",
      "  File \"C:\\Users\\hatta\\anaconda3\\lib\\site-packages\\fairness\\benchmark.py\", line 66, in run\n",
      "    run_eval_alg(algorithm, train, test, dataset_obj, processed_dataset,\n",
      "  File \"C:\\Users\\hatta\\anaconda3\\lib\\site-packages\\fairness\\benchmark.py\", line 107, in run_eval_alg\n",
      "    run_alg(algorithm, train, test, dataset, all_sensitive_attributes, single_sensitive,\n",
      "  File \"C:\\Users\\hatta\\anaconda3\\lib\\site-packages\\fairness\\benchmark.py\", line 145, in run_alg\n",
      "    algorithm.run(train, test, class_attr, positive_val, all_sensitive_attributes,\n",
      "  File \"C:\\Users\\hatta\\anaconda3\\lib\\site-packages\\fairness\\algorithms\\ParamGridSearch.py\", line 36, in run\n",
      "    best_predictions = self.find_best(all_predictions, train_df, test_df, class_attr,\n",
      "  File \"C:\\Users\\hatta\\anaconda3\\lib\\site-packages\\fairness\\algorithms\\ParamGridSearch.py\", line 44, in find_best\n",
      "    raise Exception(\n",
      "Exception: No run in the parameter grid search succeeded - failing run of algorithm\n",
      "Failed: No run in the parameter grid search succeeded - failing run of algorithm\n",
      "C:\\Users\\hatta\\anaconda3\\lib\\site-packages\\fairness\\algorithms\\kamishima\\KamishimaAlgorithm.py:99: UserWarning: loadtxt: Empty input file: \"C:\\Users\\hatta\\AppData\\Local\\Temp\\tmpa5cejfur\"\n",
      "  m = numpy.loadtxt(output_name)\n"
     ]
    },
    {
     "name": "stdout",
     "output_type": "stream",
     "text": [
      "run for parameters {} failed: too many indices for array\n"
     ]
    },
    {
     "name": "stderr",
     "output_type": "stream",
     "text": [
      "C:\\Users\\hatta\\anaconda3\\lib\\site-packages\\fairness\\algorithms\\kamishima\\KamishimaAlgorithm.py:99: UserWarning: loadtxt: Empty input file: \"C:\\Users\\hatta\\AppData\\Local\\Temp\\tmp76rlo_15\"\n",
      "  m = numpy.loadtxt(output_name)\n"
     ]
    },
    {
     "name": "stdout",
     "output_type": "stream",
     "text": [
      "run for parameters {} failed: too many indices for array\n"
     ]
    },
    {
     "name": "stderr",
     "output_type": "stream",
     "text": [
      "C:\\Users\\hatta\\anaconda3\\lib\\site-packages\\fairness\\algorithms\\kamishima\\KamishimaAlgorithm.py:99: UserWarning: loadtxt: Empty input file: \"C:\\Users\\hatta\\AppData\\Local\\Temp\\tmpvximef94\"\n",
      "  m = numpy.loadtxt(output_name)\n"
     ]
    },
    {
     "name": "stdout",
     "output_type": "stream",
     "text": [
      "run for parameters {} failed: too many indices for array\n"
     ]
    },
    {
     "name": "stderr",
     "output_type": "stream",
     "text": [
      "C:\\Users\\hatta\\anaconda3\\lib\\site-packages\\fairness\\algorithms\\kamishima\\KamishimaAlgorithm.py:99: UserWarning: loadtxt: Empty input file: \"C:\\Users\\hatta\\AppData\\Local\\Temp\\tmppqy_qf7q\"\n",
      "  m = numpy.loadtxt(output_name)\n"
     ]
    },
    {
     "name": "stdout",
     "output_type": "stream",
     "text": [
      "run for parameters {} failed: too many indices for array\n"
     ]
    },
    {
     "name": "stderr",
     "output_type": "stream",
     "text": [
      "C:\\Users\\hatta\\anaconda3\\lib\\site-packages\\fairness\\algorithms\\kamishima\\KamishimaAlgorithm.py:99: UserWarning: loadtxt: Empty input file: \"C:\\Users\\hatta\\AppData\\Local\\Temp\\tmprxnjo7ym\"\n",
      "  m = numpy.loadtxt(output_name)\n"
     ]
    },
    {
     "name": "stdout",
     "output_type": "stream",
     "text": [
      "run for parameters {} failed: too many indices for array\n"
     ]
    },
    {
     "name": "stderr",
     "output_type": "stream",
     "text": [
      "C:\\Users\\hatta\\anaconda3\\lib\\site-packages\\fairness\\algorithms\\kamishima\\KamishimaAlgorithm.py:99: UserWarning: loadtxt: Empty input file: \"C:\\Users\\hatta\\AppData\\Local\\Temp\\tmpda7dihpt\"\n",
      "  m = numpy.loadtxt(output_name)\n"
     ]
    },
    {
     "name": "stdout",
     "output_type": "stream",
     "text": [
      "run for parameters {} failed: too many indices for array\n"
     ]
    },
    {
     "name": "stderr",
     "output_type": "stream",
     "text": [
      "C:\\Users\\hatta\\anaconda3\\lib\\site-packages\\fairness\\algorithms\\kamishima\\KamishimaAlgorithm.py:99: UserWarning: loadtxt: Empty input file: \"C:\\Users\\hatta\\AppData\\Local\\Temp\\tmpgahlw1wn\"\n",
      "  m = numpy.loadtxt(output_name)\n"
     ]
    },
    {
     "name": "stdout",
     "output_type": "stream",
     "text": [
      "run for parameters {} failed: too many indices for array\n"
     ]
    },
    {
     "name": "stderr",
     "output_type": "stream",
     "text": [
      "C:\\Users\\hatta\\anaconda3\\lib\\site-packages\\fairness\\algorithms\\kamishima\\KamishimaAlgorithm.py:99: UserWarning: loadtxt: Empty input file: \"C:\\Users\\hatta\\AppData\\Local\\Temp\\tmp_qyiyaja\"\n",
      "  m = numpy.loadtxt(output_name)\n"
     ]
    },
    {
     "name": "stdout",
     "output_type": "stream",
     "text": [
      "run for parameters {} failed: too many indices for array\n"
     ]
    },
    {
     "name": "stderr",
     "output_type": "stream",
     "text": [
      "C:\\Users\\hatta\\anaconda3\\lib\\site-packages\\fairness\\algorithms\\kamishima\\KamishimaAlgorithm.py:99: UserWarning: loadtxt: Empty input file: \"C:\\Users\\hatta\\AppData\\Local\\Temp\\tmpl811hulu\"\n",
      "  m = numpy.loadtxt(output_name)\n"
     ]
    },
    {
     "name": "stdout",
     "output_type": "stream",
     "text": [
      "run for parameters {} failed: too many indices for array\n"
     ]
    },
    {
     "name": "stderr",
     "output_type": "stream",
     "text": [
      "C:\\Users\\hatta\\anaconda3\\lib\\site-packages\\fairness\\algorithms\\kamishima\\KamishimaAlgorithm.py:99: UserWarning: loadtxt: Empty input file: \"C:\\Users\\hatta\\AppData\\Local\\Temp\\tmptvgbp32v\"\n",
      "  m = numpy.loadtxt(output_name)\n"
     ]
    },
    {
     "name": "stdout",
     "output_type": "stream",
     "text": [
      "run for parameters {} failed: too many indices for array\n"
     ]
    },
    {
     "name": "stderr",
     "output_type": "stream",
     "text": [
      "C:\\Users\\hatta\\anaconda3\\lib\\site-packages\\fairness\\algorithms\\kamishima\\KamishimaAlgorithm.py:99: UserWarning: loadtxt: Empty input file: \"C:\\Users\\hatta\\AppData\\Local\\Temp\\tmpy28tchw0\"\n",
      "  m = numpy.loadtxt(output_name)\n"
     ]
    },
    {
     "name": "stdout",
     "output_type": "stream",
     "text": [
      "run for parameters {} failed: too many indices for array\n"
     ]
    },
    {
     "name": "stderr",
     "output_type": "stream",
     "text": [
      "C:\\Users\\hatta\\anaconda3\\lib\\site-packages\\fairness\\algorithms\\kamishima\\KamishimaAlgorithm.py:99: UserWarning: loadtxt: Empty input file: \"C:\\Users\\hatta\\AppData\\Local\\Temp\\tmph7ju_z_t\"\n",
      "  m = numpy.loadtxt(output_name)\n"
     ]
    },
    {
     "name": "stdout",
     "output_type": "stream",
     "text": [
      "run for parameters {} failed: too many indices for array\n"
     ]
    },
    {
     "name": "stderr",
     "output_type": "stream",
     "text": [
      "C:\\Users\\hatta\\anaconda3\\lib\\site-packages\\fairness\\algorithms\\kamishima\\KamishimaAlgorithm.py:99: UserWarning: loadtxt: Empty input file: \"C:\\Users\\hatta\\AppData\\Local\\Temp\\tmpo1ajdutg\"\n",
      "  m = numpy.loadtxt(output_name)\n"
     ]
    },
    {
     "name": "stdout",
     "output_type": "stream",
     "text": [
      "run for parameters {} failed: too many indices for array\n"
     ]
    },
    {
     "name": "stderr",
     "output_type": "stream",
     "text": [
      "C:\\Users\\hatta\\anaconda3\\lib\\site-packages\\fairness\\algorithms\\kamishima\\KamishimaAlgorithm.py:99: UserWarning: loadtxt: Empty input file: \"C:\\Users\\hatta\\AppData\\Local\\Temp\\tmpr6ekggc1\"\n",
      "  m = numpy.loadtxt(output_name)\n"
     ]
    },
    {
     "name": "stdout",
     "output_type": "stream",
     "text": [
      "run for parameters {} failed: too many indices for array\n"
     ]
    },
    {
     "name": "stderr",
     "output_type": "stream",
     "text": [
      "C:\\Users\\hatta\\anaconda3\\lib\\site-packages\\fairness\\algorithms\\kamishima\\KamishimaAlgorithm.py:99: UserWarning: loadtxt: Empty input file: \"C:\\Users\\hatta\\AppData\\Local\\Temp\\tmpa3x7ntt9\"\n",
      "  m = numpy.loadtxt(output_name)\n"
     ]
    },
    {
     "name": "stdout",
     "output_type": "stream",
     "text": [
      "run for parameters {} failed: too many indices for array\n"
     ]
    },
    {
     "name": "stderr",
     "output_type": "stream",
     "text": [
      "C:\\Users\\hatta\\anaconda3\\lib\\site-packages\\fairness\\algorithms\\kamishima\\KamishimaAlgorithm.py:99: UserWarning: loadtxt: Empty input file: \"C:\\Users\\hatta\\AppData\\Local\\Temp\\tmp8qqe4xx3\"\n",
      "  m = numpy.loadtxt(output_name)\n"
     ]
    },
    {
     "name": "stdout",
     "output_type": "stream",
     "text": [
      "run for parameters {} failed: too many indices for array\n"
     ]
    },
    {
     "name": "stderr",
     "output_type": "stream",
     "text": [
      "C:\\Users\\hatta\\anaconda3\\lib\\site-packages\\fairness\\algorithms\\kamishima\\KamishimaAlgorithm.py:99: UserWarning: loadtxt: Empty input file: \"C:\\Users\\hatta\\AppData\\Local\\Temp\\tmpofl0b97h\"\n",
      "  m = numpy.loadtxt(output_name)\n"
     ]
    },
    {
     "name": "stdout",
     "output_type": "stream",
     "text": [
      "run for parameters {} failed: too many indices for array\n"
     ]
    },
    {
     "name": "stderr",
     "output_type": "stream",
     "text": [
      "Traceback (most recent call last):\n",
      "  File \"C:\\Users\\hatta\\anaconda3\\lib\\site-packages\\fairness\\benchmark.py\", line 66, in run\n",
      "    run_eval_alg(algorithm, train, test, dataset_obj, processed_dataset,\n",
      "  File \"C:\\Users\\hatta\\anaconda3\\lib\\site-packages\\fairness\\benchmark.py\", line 107, in run_eval_alg\n",
      "    run_alg(algorithm, train, test, dataset, all_sensitive_attributes, single_sensitive,\n",
      "  File \"C:\\Users\\hatta\\anaconda3\\lib\\site-packages\\fairness\\benchmark.py\", line 145, in run_alg\n",
      "    algorithm.run(train, test, class_attr, positive_val, all_sensitive_attributes,\n",
      "  File \"C:\\Users\\hatta\\anaconda3\\lib\\site-packages\\fairness\\algorithms\\ParamGridSearch.py\", line 36, in run\n",
      "    best_predictions = self.find_best(all_predictions, train_df, test_df, class_attr,\n",
      "  File \"C:\\Users\\hatta\\anaconda3\\lib\\site-packages\\fairness\\algorithms\\ParamGridSearch.py\", line 44, in find_best\n",
      "    raise Exception(\n",
      "Exception: No run in the parameter grid search succeeded - failing run of algorithm\n",
      "Failed: No run in the parameter grid search succeeded - failing run of algorithm\n",
      "C:\\Users\\hatta\\anaconda3\\lib\\site-packages\\fairness\\algorithms\\kamishima\\KamishimaAlgorithm.py:99: UserWarning: loadtxt: Empty input file: \"C:\\Users\\hatta\\AppData\\Local\\Temp\\tmpvkk_kdox\"\n",
      "  m = numpy.loadtxt(output_name)\n"
     ]
    },
    {
     "name": "stdout",
     "output_type": "stream",
     "text": [
      "run for parameters {} failed: too many indices for array\n"
     ]
    },
    {
     "name": "stderr",
     "output_type": "stream",
     "text": [
      "C:\\Users\\hatta\\anaconda3\\lib\\site-packages\\fairness\\algorithms\\kamishima\\KamishimaAlgorithm.py:99: UserWarning: loadtxt: Empty input file: \"C:\\Users\\hatta\\AppData\\Local\\Temp\\tmpl45cftr_\"\n",
      "  m = numpy.loadtxt(output_name)\n"
     ]
    },
    {
     "name": "stdout",
     "output_type": "stream",
     "text": [
      "run for parameters {} failed: too many indices for array\n"
     ]
    },
    {
     "name": "stderr",
     "output_type": "stream",
     "text": [
      "C:\\Users\\hatta\\anaconda3\\lib\\site-packages\\fairness\\algorithms\\kamishima\\KamishimaAlgorithm.py:99: UserWarning: loadtxt: Empty input file: \"C:\\Users\\hatta\\AppData\\Local\\Temp\\tmpw1oewxra\"\n",
      "  m = numpy.loadtxt(output_name)\n"
     ]
    },
    {
     "name": "stdout",
     "output_type": "stream",
     "text": [
      "run for parameters {} failed: too many indices for array\n"
     ]
    },
    {
     "name": "stderr",
     "output_type": "stream",
     "text": [
      "C:\\Users\\hatta\\anaconda3\\lib\\site-packages\\fairness\\algorithms\\kamishima\\KamishimaAlgorithm.py:99: UserWarning: loadtxt: Empty input file: \"C:\\Users\\hatta\\AppData\\Local\\Temp\\tmp9c280osy\"\n",
      "  m = numpy.loadtxt(output_name)\n"
     ]
    },
    {
     "name": "stdout",
     "output_type": "stream",
     "text": [
      "run for parameters {} failed: too many indices for array\n"
     ]
    },
    {
     "name": "stderr",
     "output_type": "stream",
     "text": [
      "C:\\Users\\hatta\\anaconda3\\lib\\site-packages\\fairness\\algorithms\\kamishima\\KamishimaAlgorithm.py:99: UserWarning: loadtxt: Empty input file: \"C:\\Users\\hatta\\AppData\\Local\\Temp\\tmpkpabrux_\"\n",
      "  m = numpy.loadtxt(output_name)\n"
     ]
    },
    {
     "name": "stdout",
     "output_type": "stream",
     "text": [
      "run for parameters {} failed: too many indices for array\n"
     ]
    },
    {
     "name": "stderr",
     "output_type": "stream",
     "text": [
      "C:\\Users\\hatta\\anaconda3\\lib\\site-packages\\fairness\\algorithms\\kamishima\\KamishimaAlgorithm.py:99: UserWarning: loadtxt: Empty input file: \"C:\\Users\\hatta\\AppData\\Local\\Temp\\tmp0m8viei1\"\n",
      "  m = numpy.loadtxt(output_name)\n"
     ]
    },
    {
     "name": "stdout",
     "output_type": "stream",
     "text": [
      "run for parameters {} failed: too many indices for array\n"
     ]
    },
    {
     "name": "stderr",
     "output_type": "stream",
     "text": [
      "C:\\Users\\hatta\\anaconda3\\lib\\site-packages\\fairness\\algorithms\\kamishima\\KamishimaAlgorithm.py:99: UserWarning: loadtxt: Empty input file: \"C:\\Users\\hatta\\AppData\\Local\\Temp\\tmpq6ji9rqu\"\n",
      "  m = numpy.loadtxt(output_name)\n"
     ]
    },
    {
     "name": "stdout",
     "output_type": "stream",
     "text": [
      "run for parameters {} failed: too many indices for array\n"
     ]
    },
    {
     "name": "stderr",
     "output_type": "stream",
     "text": [
      "C:\\Users\\hatta\\anaconda3\\lib\\site-packages\\fairness\\algorithms\\kamishima\\KamishimaAlgorithm.py:99: UserWarning: loadtxt: Empty input file: \"C:\\Users\\hatta\\AppData\\Local\\Temp\\tmpzo17_p94\"\n",
      "  m = numpy.loadtxt(output_name)\n"
     ]
    },
    {
     "name": "stdout",
     "output_type": "stream",
     "text": [
      "run for parameters {} failed: too many indices for array\n"
     ]
    },
    {
     "name": "stderr",
     "output_type": "stream",
     "text": [
      "C:\\Users\\hatta\\anaconda3\\lib\\site-packages\\fairness\\algorithms\\kamishima\\KamishimaAlgorithm.py:99: UserWarning: loadtxt: Empty input file: \"C:\\Users\\hatta\\AppData\\Local\\Temp\\tmpczspbg7f\"\n",
      "  m = numpy.loadtxt(output_name)\n"
     ]
    },
    {
     "name": "stdout",
     "output_type": "stream",
     "text": [
      "run for parameters {} failed: too many indices for array\n"
     ]
    },
    {
     "name": "stderr",
     "output_type": "stream",
     "text": [
      "C:\\Users\\hatta\\anaconda3\\lib\\site-packages\\fairness\\algorithms\\kamishima\\KamishimaAlgorithm.py:99: UserWarning: loadtxt: Empty input file: \"C:\\Users\\hatta\\AppData\\Local\\Temp\\tmp40obex7_\"\n",
      "  m = numpy.loadtxt(output_name)\n"
     ]
    },
    {
     "name": "stdout",
     "output_type": "stream",
     "text": [
      "run for parameters {} failed: too many indices for array\n"
     ]
    },
    {
     "name": "stderr",
     "output_type": "stream",
     "text": [
      "C:\\Users\\hatta\\anaconda3\\lib\\site-packages\\fairness\\algorithms\\kamishima\\KamishimaAlgorithm.py:99: UserWarning: loadtxt: Empty input file: \"C:\\Users\\hatta\\AppData\\Local\\Temp\\tmpyzvvubjz\"\n",
      "  m = numpy.loadtxt(output_name)\n"
     ]
    },
    {
     "name": "stdout",
     "output_type": "stream",
     "text": [
      "run for parameters {} failed: too many indices for array\n"
     ]
    },
    {
     "name": "stderr",
     "output_type": "stream",
     "text": [
      "C:\\Users\\hatta\\anaconda3\\lib\\site-packages\\fairness\\algorithms\\kamishima\\KamishimaAlgorithm.py:99: UserWarning: loadtxt: Empty input file: \"C:\\Users\\hatta\\AppData\\Local\\Temp\\tmp4vcqd_xw\"\n",
      "  m = numpy.loadtxt(output_name)\n"
     ]
    },
    {
     "name": "stdout",
     "output_type": "stream",
     "text": [
      "run for parameters {} failed: too many indices for array\n"
     ]
    },
    {
     "name": "stderr",
     "output_type": "stream",
     "text": [
      "C:\\Users\\hatta\\anaconda3\\lib\\site-packages\\fairness\\algorithms\\kamishima\\KamishimaAlgorithm.py:99: UserWarning: loadtxt: Empty input file: \"C:\\Users\\hatta\\AppData\\Local\\Temp\\tmpnnwuy2a0\"\n",
      "  m = numpy.loadtxt(output_name)\n"
     ]
    },
    {
     "name": "stdout",
     "output_type": "stream",
     "text": [
      "run for parameters {} failed: too many indices for array\n"
     ]
    },
    {
     "name": "stderr",
     "output_type": "stream",
     "text": [
      "C:\\Users\\hatta\\anaconda3\\lib\\site-packages\\fairness\\algorithms\\kamishima\\KamishimaAlgorithm.py:99: UserWarning: loadtxt: Empty input file: \"C:\\Users\\hatta\\AppData\\Local\\Temp\\tmpdig0b61x\"\n",
      "  m = numpy.loadtxt(output_name)\n"
     ]
    },
    {
     "name": "stdout",
     "output_type": "stream",
     "text": [
      "run for parameters {} failed: too many indices for array\n"
     ]
    },
    {
     "name": "stderr",
     "output_type": "stream",
     "text": [
      "C:\\Users\\hatta\\anaconda3\\lib\\site-packages\\fairness\\algorithms\\kamishima\\KamishimaAlgorithm.py:99: UserWarning: loadtxt: Empty input file: \"C:\\Users\\hatta\\AppData\\Local\\Temp\\tmpkp3f91ee\"\n",
      "  m = numpy.loadtxt(output_name)\n"
     ]
    },
    {
     "name": "stdout",
     "output_type": "stream",
     "text": [
      "run for parameters {} failed: too many indices for array\n"
     ]
    },
    {
     "name": "stderr",
     "output_type": "stream",
     "text": [
      "C:\\Users\\hatta\\anaconda3\\lib\\site-packages\\fairness\\algorithms\\kamishima\\KamishimaAlgorithm.py:99: UserWarning: loadtxt: Empty input file: \"C:\\Users\\hatta\\AppData\\Local\\Temp\\tmpe_yfgxnw\"\n",
      "  m = numpy.loadtxt(output_name)\n"
     ]
    },
    {
     "name": "stdout",
     "output_type": "stream",
     "text": [
      "run for parameters {} failed: too many indices for array\n"
     ]
    },
    {
     "name": "stderr",
     "output_type": "stream",
     "text": [
      "C:\\Users\\hatta\\anaconda3\\lib\\site-packages\\fairness\\algorithms\\kamishima\\KamishimaAlgorithm.py:99: UserWarning: loadtxt: Empty input file: \"C:\\Users\\hatta\\AppData\\Local\\Temp\\tmps0sfhi_k\"\n",
      "  m = numpy.loadtxt(output_name)\n"
     ]
    },
    {
     "name": "stdout",
     "output_type": "stream",
     "text": [
      "run for parameters {} failed: too many indices for array\n"
     ]
    },
    {
     "name": "stderr",
     "output_type": "stream",
     "text": [
      "Traceback (most recent call last):\n",
      "  File \"C:\\Users\\hatta\\anaconda3\\lib\\site-packages\\fairness\\benchmark.py\", line 66, in run\n",
      "    run_eval_alg(algorithm, train, test, dataset_obj, processed_dataset,\n",
      "  File \"C:\\Users\\hatta\\anaconda3\\lib\\site-packages\\fairness\\benchmark.py\", line 107, in run_eval_alg\n",
      "    run_alg(algorithm, train, test, dataset, all_sensitive_attributes, single_sensitive,\n",
      "  File \"C:\\Users\\hatta\\anaconda3\\lib\\site-packages\\fairness\\benchmark.py\", line 145, in run_alg\n",
      "    algorithm.run(train, test, class_attr, positive_val, all_sensitive_attributes,\n",
      "  File \"C:\\Users\\hatta\\anaconda3\\lib\\site-packages\\fairness\\algorithms\\ParamGridSearch.py\", line 36, in run\n",
      "    best_predictions = self.find_best(all_predictions, train_df, test_df, class_attr,\n",
      "  File \"C:\\Users\\hatta\\anaconda3\\lib\\site-packages\\fairness\\algorithms\\ParamGridSearch.py\", line 44, in find_best\n",
      "    raise Exception(\n",
      "Exception: No run in the parameter grid search succeeded - failing run of algorithm\n",
      "Failed: No run in the parameter grid search succeeded - failing run of algorithm\n",
      "C:\\Users\\hatta\\anaconda3\\lib\\site-packages\\fairness\\algorithms\\kamishima\\KamishimaAlgorithm.py:99: UserWarning: loadtxt: Empty input file: \"C:\\Users\\hatta\\AppData\\Local\\Temp\\tmp_y0mujyx\"\n",
      "  m = numpy.loadtxt(output_name)\n"
     ]
    },
    {
     "name": "stdout",
     "output_type": "stream",
     "text": [
      "run for parameters {} failed: too many indices for array\n"
     ]
    },
    {
     "name": "stderr",
     "output_type": "stream",
     "text": [
      "C:\\Users\\hatta\\anaconda3\\lib\\site-packages\\fairness\\algorithms\\kamishima\\KamishimaAlgorithm.py:99: UserWarning: loadtxt: Empty input file: \"C:\\Users\\hatta\\AppData\\Local\\Temp\\tmpdbhh6e_c\"\n",
      "  m = numpy.loadtxt(output_name)\n"
     ]
    },
    {
     "name": "stdout",
     "output_type": "stream",
     "text": [
      "run for parameters {} failed: too many indices for array\n"
     ]
    },
    {
     "name": "stderr",
     "output_type": "stream",
     "text": [
      "C:\\Users\\hatta\\anaconda3\\lib\\site-packages\\fairness\\algorithms\\kamishima\\KamishimaAlgorithm.py:99: UserWarning: loadtxt: Empty input file: \"C:\\Users\\hatta\\AppData\\Local\\Temp\\tmpgpflg4qp\"\n",
      "  m = numpy.loadtxt(output_name)\n"
     ]
    },
    {
     "name": "stdout",
     "output_type": "stream",
     "text": [
      "run for parameters {} failed: too many indices for array\n"
     ]
    },
    {
     "name": "stderr",
     "output_type": "stream",
     "text": [
      "C:\\Users\\hatta\\anaconda3\\lib\\site-packages\\fairness\\algorithms\\kamishima\\KamishimaAlgorithm.py:99: UserWarning: loadtxt: Empty input file: \"C:\\Users\\hatta\\AppData\\Local\\Temp\\tmpe51esfde\"\n",
      "  m = numpy.loadtxt(output_name)\n"
     ]
    },
    {
     "name": "stdout",
     "output_type": "stream",
     "text": [
      "run for parameters {} failed: too many indices for array\n"
     ]
    },
    {
     "name": "stderr",
     "output_type": "stream",
     "text": [
      "C:\\Users\\hatta\\anaconda3\\lib\\site-packages\\fairness\\algorithms\\kamishima\\KamishimaAlgorithm.py:99: UserWarning: loadtxt: Empty input file: \"C:\\Users\\hatta\\AppData\\Local\\Temp\\tmpe9oi4s6t\"\n",
      "  m = numpy.loadtxt(output_name)\n"
     ]
    },
    {
     "name": "stdout",
     "output_type": "stream",
     "text": [
      "run for parameters {} failed: too many indices for array\n"
     ]
    },
    {
     "name": "stderr",
     "output_type": "stream",
     "text": [
      "C:\\Users\\hatta\\anaconda3\\lib\\site-packages\\fairness\\algorithms\\kamishima\\KamishimaAlgorithm.py:99: UserWarning: loadtxt: Empty input file: \"C:\\Users\\hatta\\AppData\\Local\\Temp\\tmpe3wid9p1\"\n",
      "  m = numpy.loadtxt(output_name)\n"
     ]
    },
    {
     "name": "stdout",
     "output_type": "stream",
     "text": [
      "run for parameters {} failed: too many indices for array\n"
     ]
    },
    {
     "name": "stderr",
     "output_type": "stream",
     "text": [
      "C:\\Users\\hatta\\anaconda3\\lib\\site-packages\\fairness\\algorithms\\kamishima\\KamishimaAlgorithm.py:99: UserWarning: loadtxt: Empty input file: \"C:\\Users\\hatta\\AppData\\Local\\Temp\\tmp5ts6kz1w\"\n",
      "  m = numpy.loadtxt(output_name)\n"
     ]
    },
    {
     "name": "stdout",
     "output_type": "stream",
     "text": [
      "run for parameters {} failed: too many indices for array\n"
     ]
    },
    {
     "name": "stderr",
     "output_type": "stream",
     "text": [
      "C:\\Users\\hatta\\anaconda3\\lib\\site-packages\\fairness\\algorithms\\kamishima\\KamishimaAlgorithm.py:99: UserWarning: loadtxt: Empty input file: \"C:\\Users\\hatta\\AppData\\Local\\Temp\\tmp6uh55tpg\"\n",
      "  m = numpy.loadtxt(output_name)\n"
     ]
    },
    {
     "name": "stdout",
     "output_type": "stream",
     "text": [
      "run for parameters {} failed: too many indices for array\n"
     ]
    },
    {
     "name": "stderr",
     "output_type": "stream",
     "text": [
      "C:\\Users\\hatta\\anaconda3\\lib\\site-packages\\fairness\\algorithms\\kamishima\\KamishimaAlgorithm.py:99: UserWarning: loadtxt: Empty input file: \"C:\\Users\\hatta\\AppData\\Local\\Temp\\tmpxkzsc99j\"\n",
      "  m = numpy.loadtxt(output_name)\n"
     ]
    },
    {
     "name": "stdout",
     "output_type": "stream",
     "text": [
      "run for parameters {} failed: too many indices for array\n"
     ]
    },
    {
     "name": "stderr",
     "output_type": "stream",
     "text": [
      "C:\\Users\\hatta\\anaconda3\\lib\\site-packages\\fairness\\algorithms\\kamishima\\KamishimaAlgorithm.py:99: UserWarning: loadtxt: Empty input file: \"C:\\Users\\hatta\\AppData\\Local\\Temp\\tmpy_70dka6\"\n",
      "  m = numpy.loadtxt(output_name)\n"
     ]
    },
    {
     "name": "stdout",
     "output_type": "stream",
     "text": [
      "run for parameters {} failed: too many indices for array\n"
     ]
    },
    {
     "name": "stderr",
     "output_type": "stream",
     "text": [
      "C:\\Users\\hatta\\anaconda3\\lib\\site-packages\\fairness\\algorithms\\kamishima\\KamishimaAlgorithm.py:99: UserWarning: loadtxt: Empty input file: \"C:\\Users\\hatta\\AppData\\Local\\Temp\\tmpvokgglkm\"\n",
      "  m = numpy.loadtxt(output_name)\n"
     ]
    },
    {
     "name": "stdout",
     "output_type": "stream",
     "text": [
      "run for parameters {} failed: too many indices for array\n"
     ]
    },
    {
     "name": "stderr",
     "output_type": "stream",
     "text": [
      "C:\\Users\\hatta\\anaconda3\\lib\\site-packages\\fairness\\algorithms\\kamishima\\KamishimaAlgorithm.py:99: UserWarning: loadtxt: Empty input file: \"C:\\Users\\hatta\\AppData\\Local\\Temp\\tmpf46o26mt\"\n",
      "  m = numpy.loadtxt(output_name)\n"
     ]
    },
    {
     "name": "stdout",
     "output_type": "stream",
     "text": [
      "run for parameters {} failed: too many indices for array\n"
     ]
    },
    {
     "name": "stderr",
     "output_type": "stream",
     "text": [
      "C:\\Users\\hatta\\anaconda3\\lib\\site-packages\\fairness\\algorithms\\kamishima\\KamishimaAlgorithm.py:99: UserWarning: loadtxt: Empty input file: \"C:\\Users\\hatta\\AppData\\Local\\Temp\\tmp4ms4d4gv\"\n",
      "  m = numpy.loadtxt(output_name)\n"
     ]
    },
    {
     "name": "stdout",
     "output_type": "stream",
     "text": [
      "run for parameters {} failed: too many indices for array\n"
     ]
    },
    {
     "name": "stderr",
     "output_type": "stream",
     "text": [
      "C:\\Users\\hatta\\anaconda3\\lib\\site-packages\\fairness\\algorithms\\kamishima\\KamishimaAlgorithm.py:99: UserWarning: loadtxt: Empty input file: \"C:\\Users\\hatta\\AppData\\Local\\Temp\\tmpev2v5wla\"\n",
      "  m = numpy.loadtxt(output_name)\n"
     ]
    },
    {
     "name": "stdout",
     "output_type": "stream",
     "text": [
      "run for parameters {} failed: too many indices for array\n"
     ]
    },
    {
     "name": "stderr",
     "output_type": "stream",
     "text": [
      "C:\\Users\\hatta\\anaconda3\\lib\\site-packages\\fairness\\algorithms\\kamishima\\KamishimaAlgorithm.py:99: UserWarning: loadtxt: Empty input file: \"C:\\Users\\hatta\\AppData\\Local\\Temp\\tmp_2gdobu0\"\n",
      "  m = numpy.loadtxt(output_name)\n"
     ]
    },
    {
     "name": "stdout",
     "output_type": "stream",
     "text": [
      "run for parameters {} failed: too many indices for array\n"
     ]
    },
    {
     "name": "stderr",
     "output_type": "stream",
     "text": [
      "C:\\Users\\hatta\\anaconda3\\lib\\site-packages\\fairness\\algorithms\\kamishima\\KamishimaAlgorithm.py:99: UserWarning: loadtxt: Empty input file: \"C:\\Users\\hatta\\AppData\\Local\\Temp\\tmph6yt67mk\"\n",
      "  m = numpy.loadtxt(output_name)\n"
     ]
    },
    {
     "name": "stdout",
     "output_type": "stream",
     "text": [
      "run for parameters {} failed: too many indices for array\n"
     ]
    },
    {
     "name": "stderr",
     "output_type": "stream",
     "text": [
      "C:\\Users\\hatta\\anaconda3\\lib\\site-packages\\fairness\\algorithms\\kamishima\\KamishimaAlgorithm.py:99: UserWarning: loadtxt: Empty input file: \"C:\\Users\\hatta\\AppData\\Local\\Temp\\tmp5dnwmcla\"\n",
      "  m = numpy.loadtxt(output_name)\n"
     ]
    },
    {
     "name": "stdout",
     "output_type": "stream",
     "text": [
      "run for parameters {} failed: too many indices for array\n"
     ]
    },
    {
     "name": "stderr",
     "output_type": "stream",
     "text": [
      "Traceback (most recent call last):\n",
      "  File \"C:\\Users\\hatta\\anaconda3\\lib\\site-packages\\fairness\\benchmark.py\", line 66, in run\n",
      "    run_eval_alg(algorithm, train, test, dataset_obj, processed_dataset,\n",
      "  File \"C:\\Users\\hatta\\anaconda3\\lib\\site-packages\\fairness\\benchmark.py\", line 107, in run_eval_alg\n",
      "    run_alg(algorithm, train, test, dataset, all_sensitive_attributes, single_sensitive,\n",
      "  File \"C:\\Users\\hatta\\anaconda3\\lib\\site-packages\\fairness\\benchmark.py\", line 145, in run_alg\n",
      "    algorithm.run(train, test, class_attr, positive_val, all_sensitive_attributes,\n",
      "  File \"C:\\Users\\hatta\\anaconda3\\lib\\site-packages\\fairness\\algorithms\\ParamGridSearch.py\", line 36, in run\n",
      "    best_predictions = self.find_best(all_predictions, train_df, test_df, class_attr,\n",
      "  File \"C:\\Users\\hatta\\anaconda3\\lib\\site-packages\\fairness\\algorithms\\ParamGridSearch.py\", line 44, in find_best\n",
      "    raise Exception(\n",
      "Exception: No run in the parameter grid search succeeded - failing run of algorithm\n",
      "Failed: No run in the parameter grid search succeeded - failing run of algorithm\n",
      "C:\\Users\\hatta\\anaconda3\\lib\\site-packages\\fairness\\algorithms\\kamishima\\KamishimaAlgorithm.py:99: UserWarning: loadtxt: Empty input file: \"C:\\Users\\hatta\\AppData\\Local\\Temp\\tmp9jes2yvo\"\n",
      "  m = numpy.loadtxt(output_name)\n"
     ]
    },
    {
     "name": "stdout",
     "output_type": "stream",
     "text": [
      "run for parameters {} failed: too many indices for array\n"
     ]
    },
    {
     "name": "stderr",
     "output_type": "stream",
     "text": [
      "C:\\Users\\hatta\\anaconda3\\lib\\site-packages\\fairness\\algorithms\\kamishima\\KamishimaAlgorithm.py:99: UserWarning: loadtxt: Empty input file: \"C:\\Users\\hatta\\AppData\\Local\\Temp\\tmpq69fq4v2\"\n",
      "  m = numpy.loadtxt(output_name)\n"
     ]
    },
    {
     "name": "stdout",
     "output_type": "stream",
     "text": [
      "run for parameters {} failed: too many indices for array\n"
     ]
    },
    {
     "name": "stderr",
     "output_type": "stream",
     "text": [
      "C:\\Users\\hatta\\anaconda3\\lib\\site-packages\\fairness\\algorithms\\kamishima\\KamishimaAlgorithm.py:99: UserWarning: loadtxt: Empty input file: \"C:\\Users\\hatta\\AppData\\Local\\Temp\\tmpvqh9azsx\"\n",
      "  m = numpy.loadtxt(output_name)\n"
     ]
    },
    {
     "name": "stdout",
     "output_type": "stream",
     "text": [
      "run for parameters {} failed: too many indices for array\n"
     ]
    },
    {
     "name": "stderr",
     "output_type": "stream",
     "text": [
      "C:\\Users\\hatta\\anaconda3\\lib\\site-packages\\fairness\\algorithms\\kamishima\\KamishimaAlgorithm.py:99: UserWarning: loadtxt: Empty input file: \"C:\\Users\\hatta\\AppData\\Local\\Temp\\tmp_n9iteoj\"\n",
      "  m = numpy.loadtxt(output_name)\n"
     ]
    },
    {
     "name": "stdout",
     "output_type": "stream",
     "text": [
      "run for parameters {} failed: too many indices for array\n"
     ]
    },
    {
     "name": "stderr",
     "output_type": "stream",
     "text": [
      "C:\\Users\\hatta\\anaconda3\\lib\\site-packages\\fairness\\algorithms\\kamishima\\KamishimaAlgorithm.py:99: UserWarning: loadtxt: Empty input file: \"C:\\Users\\hatta\\AppData\\Local\\Temp\\tmpjnoh_98_\"\n",
      "  m = numpy.loadtxt(output_name)\n"
     ]
    },
    {
     "name": "stdout",
     "output_type": "stream",
     "text": [
      "run for parameters {} failed: too many indices for array\n"
     ]
    },
    {
     "name": "stderr",
     "output_type": "stream",
     "text": [
      "C:\\Users\\hatta\\anaconda3\\lib\\site-packages\\fairness\\algorithms\\kamishima\\KamishimaAlgorithm.py:99: UserWarning: loadtxt: Empty input file: \"C:\\Users\\hatta\\AppData\\Local\\Temp\\tmpdn57upsk\"\n",
      "  m = numpy.loadtxt(output_name)\n"
     ]
    },
    {
     "name": "stdout",
     "output_type": "stream",
     "text": [
      "run for parameters {} failed: too many indices for array\n"
     ]
    },
    {
     "name": "stderr",
     "output_type": "stream",
     "text": [
      "C:\\Users\\hatta\\anaconda3\\lib\\site-packages\\fairness\\algorithms\\kamishima\\KamishimaAlgorithm.py:99: UserWarning: loadtxt: Empty input file: \"C:\\Users\\hatta\\AppData\\Local\\Temp\\tmpyxzo0ofd\"\n",
      "  m = numpy.loadtxt(output_name)\n"
     ]
    },
    {
     "name": "stdout",
     "output_type": "stream",
     "text": [
      "run for parameters {} failed: too many indices for array\n"
     ]
    },
    {
     "name": "stderr",
     "output_type": "stream",
     "text": [
      "C:\\Users\\hatta\\anaconda3\\lib\\site-packages\\fairness\\algorithms\\kamishima\\KamishimaAlgorithm.py:99: UserWarning: loadtxt: Empty input file: \"C:\\Users\\hatta\\AppData\\Local\\Temp\\tmpfzxsxsoh\"\n",
      "  m = numpy.loadtxt(output_name)\n"
     ]
    },
    {
     "name": "stdout",
     "output_type": "stream",
     "text": [
      "run for parameters {} failed: too many indices for array\n"
     ]
    },
    {
     "name": "stderr",
     "output_type": "stream",
     "text": [
      "C:\\Users\\hatta\\anaconda3\\lib\\site-packages\\fairness\\algorithms\\kamishima\\KamishimaAlgorithm.py:99: UserWarning: loadtxt: Empty input file: \"C:\\Users\\hatta\\AppData\\Local\\Temp\\tmpi4fpau00\"\n",
      "  m = numpy.loadtxt(output_name)\n"
     ]
    },
    {
     "name": "stdout",
     "output_type": "stream",
     "text": [
      "run for parameters {} failed: too many indices for array\n"
     ]
    },
    {
     "name": "stderr",
     "output_type": "stream",
     "text": [
      "C:\\Users\\hatta\\anaconda3\\lib\\site-packages\\fairness\\algorithms\\kamishima\\KamishimaAlgorithm.py:99: UserWarning: loadtxt: Empty input file: \"C:\\Users\\hatta\\AppData\\Local\\Temp\\tmpqcqkb2o5\"\n",
      "  m = numpy.loadtxt(output_name)\n"
     ]
    },
    {
     "name": "stdout",
     "output_type": "stream",
     "text": [
      "run for parameters {} failed: too many indices for array\n"
     ]
    },
    {
     "name": "stderr",
     "output_type": "stream",
     "text": [
      "C:\\Users\\hatta\\anaconda3\\lib\\site-packages\\fairness\\algorithms\\kamishima\\KamishimaAlgorithm.py:99: UserWarning: loadtxt: Empty input file: \"C:\\Users\\hatta\\AppData\\Local\\Temp\\tmp8nqu3c07\"\n",
      "  m = numpy.loadtxt(output_name)\n"
     ]
    },
    {
     "name": "stdout",
     "output_type": "stream",
     "text": [
      "run for parameters {} failed: too many indices for array\n"
     ]
    },
    {
     "name": "stderr",
     "output_type": "stream",
     "text": [
      "C:\\Users\\hatta\\anaconda3\\lib\\site-packages\\fairness\\algorithms\\kamishima\\KamishimaAlgorithm.py:99: UserWarning: loadtxt: Empty input file: \"C:\\Users\\hatta\\AppData\\Local\\Temp\\tmpucnmhqbi\"\n",
      "  m = numpy.loadtxt(output_name)\n"
     ]
    },
    {
     "name": "stdout",
     "output_type": "stream",
     "text": [
      "run for parameters {} failed: too many indices for array\n"
     ]
    },
    {
     "name": "stderr",
     "output_type": "stream",
     "text": [
      "C:\\Users\\hatta\\anaconda3\\lib\\site-packages\\fairness\\algorithms\\kamishima\\KamishimaAlgorithm.py:99: UserWarning: loadtxt: Empty input file: \"C:\\Users\\hatta\\AppData\\Local\\Temp\\tmpiprx3a4m\"\n",
      "  m = numpy.loadtxt(output_name)\n"
     ]
    },
    {
     "name": "stdout",
     "output_type": "stream",
     "text": [
      "run for parameters {} failed: too many indices for array\n"
     ]
    },
    {
     "name": "stderr",
     "output_type": "stream",
     "text": [
      "C:\\Users\\hatta\\anaconda3\\lib\\site-packages\\fairness\\algorithms\\kamishima\\KamishimaAlgorithm.py:99: UserWarning: loadtxt: Empty input file: \"C:\\Users\\hatta\\AppData\\Local\\Temp\\tmpjkru9p7l\"\n",
      "  m = numpy.loadtxt(output_name)\n"
     ]
    },
    {
     "name": "stdout",
     "output_type": "stream",
     "text": [
      "run for parameters {} failed: too many indices for array\n"
     ]
    },
    {
     "name": "stderr",
     "output_type": "stream",
     "text": [
      "C:\\Users\\hatta\\anaconda3\\lib\\site-packages\\fairness\\algorithms\\kamishima\\KamishimaAlgorithm.py:99: UserWarning: loadtxt: Empty input file: \"C:\\Users\\hatta\\AppData\\Local\\Temp\\tmp9yehofpb\"\n",
      "  m = numpy.loadtxt(output_name)\n"
     ]
    },
    {
     "name": "stdout",
     "output_type": "stream",
     "text": [
      "run for parameters {} failed: too many indices for array\n"
     ]
    },
    {
     "name": "stderr",
     "output_type": "stream",
     "text": [
      "C:\\Users\\hatta\\anaconda3\\lib\\site-packages\\fairness\\algorithms\\kamishima\\KamishimaAlgorithm.py:99: UserWarning: loadtxt: Empty input file: \"C:\\Users\\hatta\\AppData\\Local\\Temp\\tmp0o6s5xbf\"\n",
      "  m = numpy.loadtxt(output_name)\n"
     ]
    },
    {
     "name": "stdout",
     "output_type": "stream",
     "text": [
      "run for parameters {} failed: too many indices for array\n"
     ]
    },
    {
     "name": "stderr",
     "output_type": "stream",
     "text": [
      "C:\\Users\\hatta\\anaconda3\\lib\\site-packages\\fairness\\algorithms\\kamishima\\KamishimaAlgorithm.py:99: UserWarning: loadtxt: Empty input file: \"C:\\Users\\hatta\\AppData\\Local\\Temp\\tmppwq69f8u\"\n",
      "  m = numpy.loadtxt(output_name)\n"
     ]
    },
    {
     "name": "stdout",
     "output_type": "stream",
     "text": [
      "run for parameters {} failed: too many indices for array\n"
     ]
    },
    {
     "name": "stderr",
     "output_type": "stream",
     "text": [
      "Traceback (most recent call last):\n",
      "  File \"C:\\Users\\hatta\\anaconda3\\lib\\site-packages\\fairness\\benchmark.py\", line 66, in run\n",
      "    run_eval_alg(algorithm, train, test, dataset_obj, processed_dataset,\n",
      "  File \"C:\\Users\\hatta\\anaconda3\\lib\\site-packages\\fairness\\benchmark.py\", line 107, in run_eval_alg\n",
      "    run_alg(algorithm, train, test, dataset, all_sensitive_attributes, single_sensitive,\n",
      "  File \"C:\\Users\\hatta\\anaconda3\\lib\\site-packages\\fairness\\benchmark.py\", line 145, in run_alg\n",
      "    algorithm.run(train, test, class_attr, positive_val, all_sensitive_attributes,\n",
      "  File \"C:\\Users\\hatta\\anaconda3\\lib\\site-packages\\fairness\\algorithms\\ParamGridSearch.py\", line 36, in run\n",
      "    best_predictions = self.find_best(all_predictions, train_df, test_df, class_attr,\n",
      "  File \"C:\\Users\\hatta\\anaconda3\\lib\\site-packages\\fairness\\algorithms\\ParamGridSearch.py\", line 44, in find_best\n",
      "    raise Exception(\n",
      "Exception: No run in the parameter grid search succeeded - failing run of algorithm\n",
      "Failed: No run in the parameter grid search succeeded - failing run of algorithm\n",
      "C:\\Users\\hatta\\anaconda3\\lib\\site-packages\\fairness\\algorithms\\kamishima\\KamishimaAlgorithm.py:99: UserWarning: loadtxt: Empty input file: \"C:\\Users\\hatta\\AppData\\Local\\Temp\\tmpduno977j\"\n",
      "  m = numpy.loadtxt(output_name)\n"
     ]
    },
    {
     "name": "stdout",
     "output_type": "stream",
     "text": [
      "run for parameters {} failed: too many indices for array\n"
     ]
    },
    {
     "name": "stderr",
     "output_type": "stream",
     "text": [
      "C:\\Users\\hatta\\anaconda3\\lib\\site-packages\\fairness\\algorithms\\kamishima\\KamishimaAlgorithm.py:99: UserWarning: loadtxt: Empty input file: \"C:\\Users\\hatta\\AppData\\Local\\Temp\\tmp8k_8a1l4\"\n",
      "  m = numpy.loadtxt(output_name)\n"
     ]
    },
    {
     "name": "stdout",
     "output_type": "stream",
     "text": [
      "run for parameters {} failed: too many indices for array\n"
     ]
    },
    {
     "name": "stderr",
     "output_type": "stream",
     "text": [
      "C:\\Users\\hatta\\anaconda3\\lib\\site-packages\\fairness\\algorithms\\kamishima\\KamishimaAlgorithm.py:99: UserWarning: loadtxt: Empty input file: \"C:\\Users\\hatta\\AppData\\Local\\Temp\\tmp6bp2fcgk\"\n",
      "  m = numpy.loadtxt(output_name)\n"
     ]
    },
    {
     "name": "stdout",
     "output_type": "stream",
     "text": [
      "run for parameters {} failed: too many indices for array\n"
     ]
    },
    {
     "name": "stderr",
     "output_type": "stream",
     "text": [
      "C:\\Users\\hatta\\anaconda3\\lib\\site-packages\\fairness\\algorithms\\kamishima\\KamishimaAlgorithm.py:99: UserWarning: loadtxt: Empty input file: \"C:\\Users\\hatta\\AppData\\Local\\Temp\\tmpxwrb2zg4\"\n",
      "  m = numpy.loadtxt(output_name)\n"
     ]
    },
    {
     "name": "stdout",
     "output_type": "stream",
     "text": [
      "run for parameters {} failed: too many indices for array\n"
     ]
    },
    {
     "name": "stderr",
     "output_type": "stream",
     "text": [
      "C:\\Users\\hatta\\anaconda3\\lib\\site-packages\\fairness\\algorithms\\kamishima\\KamishimaAlgorithm.py:99: UserWarning: loadtxt: Empty input file: \"C:\\Users\\hatta\\AppData\\Local\\Temp\\tmpqt3y1cvr\"\n",
      "  m = numpy.loadtxt(output_name)\n"
     ]
    },
    {
     "name": "stdout",
     "output_type": "stream",
     "text": [
      "run for parameters {} failed: too many indices for array\n"
     ]
    },
    {
     "name": "stderr",
     "output_type": "stream",
     "text": [
      "C:\\Users\\hatta\\anaconda3\\lib\\site-packages\\fairness\\algorithms\\kamishima\\KamishimaAlgorithm.py:99: UserWarning: loadtxt: Empty input file: \"C:\\Users\\hatta\\AppData\\Local\\Temp\\tmpqzksnr2p\"\n",
      "  m = numpy.loadtxt(output_name)\n"
     ]
    },
    {
     "name": "stdout",
     "output_type": "stream",
     "text": [
      "run for parameters {} failed: too many indices for array\n"
     ]
    },
    {
     "name": "stderr",
     "output_type": "stream",
     "text": [
      "C:\\Users\\hatta\\anaconda3\\lib\\site-packages\\fairness\\algorithms\\kamishima\\KamishimaAlgorithm.py:99: UserWarning: loadtxt: Empty input file: \"C:\\Users\\hatta\\AppData\\Local\\Temp\\tmpr86ufjm6\"\n",
      "  m = numpy.loadtxt(output_name)\n"
     ]
    },
    {
     "name": "stdout",
     "output_type": "stream",
     "text": [
      "run for parameters {} failed: too many indices for array\n"
     ]
    },
    {
     "name": "stderr",
     "output_type": "stream",
     "text": [
      "C:\\Users\\hatta\\anaconda3\\lib\\site-packages\\fairness\\algorithms\\kamishima\\KamishimaAlgorithm.py:99: UserWarning: loadtxt: Empty input file: \"C:\\Users\\hatta\\AppData\\Local\\Temp\\tmpuae_mgfs\"\n",
      "  m = numpy.loadtxt(output_name)\n"
     ]
    },
    {
     "name": "stdout",
     "output_type": "stream",
     "text": [
      "run for parameters {} failed: too many indices for array\n"
     ]
    },
    {
     "name": "stderr",
     "output_type": "stream",
     "text": [
      "C:\\Users\\hatta\\anaconda3\\lib\\site-packages\\fairness\\algorithms\\kamishima\\KamishimaAlgorithm.py:99: UserWarning: loadtxt: Empty input file: \"C:\\Users\\hatta\\AppData\\Local\\Temp\\tmp7yqrjki5\"\n",
      "  m = numpy.loadtxt(output_name)\n"
     ]
    },
    {
     "name": "stdout",
     "output_type": "stream",
     "text": [
      "run for parameters {} failed: too many indices for array\n"
     ]
    },
    {
     "name": "stderr",
     "output_type": "stream",
     "text": [
      "C:\\Users\\hatta\\anaconda3\\lib\\site-packages\\fairness\\algorithms\\kamishima\\KamishimaAlgorithm.py:99: UserWarning: loadtxt: Empty input file: \"C:\\Users\\hatta\\AppData\\Local\\Temp\\tmpk3scrhy9\"\n",
      "  m = numpy.loadtxt(output_name)\n"
     ]
    },
    {
     "name": "stdout",
     "output_type": "stream",
     "text": [
      "run for parameters {} failed: too many indices for array\n"
     ]
    },
    {
     "name": "stderr",
     "output_type": "stream",
     "text": [
      "C:\\Users\\hatta\\anaconda3\\lib\\site-packages\\fairness\\algorithms\\kamishima\\KamishimaAlgorithm.py:99: UserWarning: loadtxt: Empty input file: \"C:\\Users\\hatta\\AppData\\Local\\Temp\\tmpsi5ypgb2\"\n",
      "  m = numpy.loadtxt(output_name)\n"
     ]
    },
    {
     "name": "stdout",
     "output_type": "stream",
     "text": [
      "run for parameters {} failed: too many indices for array\n"
     ]
    },
    {
     "name": "stderr",
     "output_type": "stream",
     "text": [
      "C:\\Users\\hatta\\anaconda3\\lib\\site-packages\\fairness\\algorithms\\kamishima\\KamishimaAlgorithm.py:99: UserWarning: loadtxt: Empty input file: \"C:\\Users\\hatta\\AppData\\Local\\Temp\\tmpryypyt3x\"\n",
      "  m = numpy.loadtxt(output_name)\n"
     ]
    },
    {
     "name": "stdout",
     "output_type": "stream",
     "text": [
      "run for parameters {} failed: too many indices for array\n"
     ]
    },
    {
     "name": "stderr",
     "output_type": "stream",
     "text": [
      "C:\\Users\\hatta\\anaconda3\\lib\\site-packages\\fairness\\algorithms\\kamishima\\KamishimaAlgorithm.py:99: UserWarning: loadtxt: Empty input file: \"C:\\Users\\hatta\\AppData\\Local\\Temp\\tmp0qtlpbxl\"\n",
      "  m = numpy.loadtxt(output_name)\n"
     ]
    },
    {
     "name": "stdout",
     "output_type": "stream",
     "text": [
      "run for parameters {} failed: too many indices for array\n"
     ]
    },
    {
     "name": "stderr",
     "output_type": "stream",
     "text": [
      "C:\\Users\\hatta\\anaconda3\\lib\\site-packages\\fairness\\algorithms\\kamishima\\KamishimaAlgorithm.py:99: UserWarning: loadtxt: Empty input file: \"C:\\Users\\hatta\\AppData\\Local\\Temp\\tmp1olc8xr3\"\n",
      "  m = numpy.loadtxt(output_name)\n"
     ]
    },
    {
     "name": "stdout",
     "output_type": "stream",
     "text": [
      "run for parameters {} failed: too many indices for array\n"
     ]
    },
    {
     "name": "stderr",
     "output_type": "stream",
     "text": [
      "C:\\Users\\hatta\\anaconda3\\lib\\site-packages\\fairness\\algorithms\\kamishima\\KamishimaAlgorithm.py:99: UserWarning: loadtxt: Empty input file: \"C:\\Users\\hatta\\AppData\\Local\\Temp\\tmp79cgy818\"\n",
      "  m = numpy.loadtxt(output_name)\n"
     ]
    },
    {
     "name": "stdout",
     "output_type": "stream",
     "text": [
      "run for parameters {} failed: too many indices for array\n"
     ]
    },
    {
     "name": "stderr",
     "output_type": "stream",
     "text": [
      "C:\\Users\\hatta\\anaconda3\\lib\\site-packages\\fairness\\algorithms\\kamishima\\KamishimaAlgorithm.py:99: UserWarning: loadtxt: Empty input file: \"C:\\Users\\hatta\\AppData\\Local\\Temp\\tmpiu6s5r8m\"\n",
      "  m = numpy.loadtxt(output_name)\n"
     ]
    },
    {
     "name": "stdout",
     "output_type": "stream",
     "text": [
      "run for parameters {} failed: too many indices for array\n"
     ]
    },
    {
     "name": "stderr",
     "output_type": "stream",
     "text": [
      "C:\\Users\\hatta\\anaconda3\\lib\\site-packages\\fairness\\algorithms\\kamishima\\KamishimaAlgorithm.py:99: UserWarning: loadtxt: Empty input file: \"C:\\Users\\hatta\\AppData\\Local\\Temp\\tmpuhw72gin\"\n",
      "  m = numpy.loadtxt(output_name)\n"
     ]
    },
    {
     "name": "stdout",
     "output_type": "stream",
     "text": [
      "run for parameters {} failed: too many indices for array\n"
     ]
    },
    {
     "name": "stderr",
     "output_type": "stream",
     "text": [
      "Traceback (most recent call last):\n",
      "  File \"C:\\Users\\hatta\\anaconda3\\lib\\site-packages\\fairness\\benchmark.py\", line 66, in run\n",
      "    run_eval_alg(algorithm, train, test, dataset_obj, processed_dataset,\n",
      "  File \"C:\\Users\\hatta\\anaconda3\\lib\\site-packages\\fairness\\benchmark.py\", line 107, in run_eval_alg\n",
      "    run_alg(algorithm, train, test, dataset, all_sensitive_attributes, single_sensitive,\n",
      "  File \"C:\\Users\\hatta\\anaconda3\\lib\\site-packages\\fairness\\benchmark.py\", line 145, in run_alg\n",
      "    algorithm.run(train, test, class_attr, positive_val, all_sensitive_attributes,\n",
      "  File \"C:\\Users\\hatta\\anaconda3\\lib\\site-packages\\fairness\\algorithms\\ParamGridSearch.py\", line 36, in run\n",
      "    best_predictions = self.find_best(all_predictions, train_df, test_df, class_attr,\n",
      "  File \"C:\\Users\\hatta\\anaconda3\\lib\\site-packages\\fairness\\algorithms\\ParamGridSearch.py\", line 44, in find_best\n",
      "    raise Exception(\n",
      "Exception: No run in the parameter grid search succeeded - failing run of algorithm\n",
      "Failed: No run in the parameter grid search succeeded - failing run of algorithm\n",
      "C:\\Users\\hatta\\anaconda3\\lib\\site-packages\\fairness\\algorithms\\kamishima\\KamishimaAlgorithm.py:99: UserWarning: loadtxt: Empty input file: \"C:\\Users\\hatta\\AppData\\Local\\Temp\\tmp16bfg7u3\"\n",
      "  m = numpy.loadtxt(output_name)\n"
     ]
    },
    {
     "name": "stdout",
     "output_type": "stream",
     "text": [
      "run for parameters {} failed: too many indices for array\n"
     ]
    },
    {
     "name": "stderr",
     "output_type": "stream",
     "text": [
      "C:\\Users\\hatta\\anaconda3\\lib\\site-packages\\fairness\\algorithms\\kamishima\\KamishimaAlgorithm.py:99: UserWarning: loadtxt: Empty input file: \"C:\\Users\\hatta\\AppData\\Local\\Temp\\tmpd73lo2w_\"\n",
      "  m = numpy.loadtxt(output_name)\n"
     ]
    },
    {
     "name": "stdout",
     "output_type": "stream",
     "text": [
      "run for parameters {} failed: too many indices for array\n"
     ]
    },
    {
     "name": "stderr",
     "output_type": "stream",
     "text": [
      "C:\\Users\\hatta\\anaconda3\\lib\\site-packages\\fairness\\algorithms\\kamishima\\KamishimaAlgorithm.py:99: UserWarning: loadtxt: Empty input file: \"C:\\Users\\hatta\\AppData\\Local\\Temp\\tmpsys3t21t\"\n",
      "  m = numpy.loadtxt(output_name)\n"
     ]
    },
    {
     "name": "stdout",
     "output_type": "stream",
     "text": [
      "run for parameters {} failed: too many indices for array\n"
     ]
    },
    {
     "name": "stderr",
     "output_type": "stream",
     "text": [
      "C:\\Users\\hatta\\anaconda3\\lib\\site-packages\\fairness\\algorithms\\kamishima\\KamishimaAlgorithm.py:99: UserWarning: loadtxt: Empty input file: \"C:\\Users\\hatta\\AppData\\Local\\Temp\\tmphhar0rqx\"\n",
      "  m = numpy.loadtxt(output_name)\n"
     ]
    },
    {
     "name": "stdout",
     "output_type": "stream",
     "text": [
      "run for parameters {} failed: too many indices for array\n"
     ]
    },
    {
     "name": "stderr",
     "output_type": "stream",
     "text": [
      "C:\\Users\\hatta\\anaconda3\\lib\\site-packages\\fairness\\algorithms\\kamishima\\KamishimaAlgorithm.py:99: UserWarning: loadtxt: Empty input file: \"C:\\Users\\hatta\\AppData\\Local\\Temp\\tmpo8ems391\"\n",
      "  m = numpy.loadtxt(output_name)\n"
     ]
    },
    {
     "name": "stdout",
     "output_type": "stream",
     "text": [
      "run for parameters {} failed: too many indices for array\n"
     ]
    },
    {
     "name": "stderr",
     "output_type": "stream",
     "text": [
      "C:\\Users\\hatta\\anaconda3\\lib\\site-packages\\fairness\\algorithms\\kamishima\\KamishimaAlgorithm.py:99: UserWarning: loadtxt: Empty input file: \"C:\\Users\\hatta\\AppData\\Local\\Temp\\tmpvc84525m\"\n",
      "  m = numpy.loadtxt(output_name)\n"
     ]
    },
    {
     "name": "stdout",
     "output_type": "stream",
     "text": [
      "run for parameters {} failed: too many indices for array\n"
     ]
    },
    {
     "name": "stderr",
     "output_type": "stream",
     "text": [
      "C:\\Users\\hatta\\anaconda3\\lib\\site-packages\\fairness\\algorithms\\kamishima\\KamishimaAlgorithm.py:99: UserWarning: loadtxt: Empty input file: \"C:\\Users\\hatta\\AppData\\Local\\Temp\\tmpbwhclw80\"\n",
      "  m = numpy.loadtxt(output_name)\n"
     ]
    },
    {
     "name": "stdout",
     "output_type": "stream",
     "text": [
      "run for parameters {} failed: too many indices for array\n"
     ]
    },
    {
     "name": "stderr",
     "output_type": "stream",
     "text": [
      "C:\\Users\\hatta\\anaconda3\\lib\\site-packages\\fairness\\algorithms\\kamishima\\KamishimaAlgorithm.py:99: UserWarning: loadtxt: Empty input file: \"C:\\Users\\hatta\\AppData\\Local\\Temp\\tmp7bfxtkvg\"\n",
      "  m = numpy.loadtxt(output_name)\n"
     ]
    },
    {
     "name": "stdout",
     "output_type": "stream",
     "text": [
      "run for parameters {} failed: too many indices for array\n"
     ]
    },
    {
     "name": "stderr",
     "output_type": "stream",
     "text": [
      "C:\\Users\\hatta\\anaconda3\\lib\\site-packages\\fairness\\algorithms\\kamishima\\KamishimaAlgorithm.py:99: UserWarning: loadtxt: Empty input file: \"C:\\Users\\hatta\\AppData\\Local\\Temp\\tmpbn8o9z2c\"\n",
      "  m = numpy.loadtxt(output_name)\n"
     ]
    },
    {
     "name": "stdout",
     "output_type": "stream",
     "text": [
      "run for parameters {} failed: too many indices for array\n"
     ]
    },
    {
     "name": "stderr",
     "output_type": "stream",
     "text": [
      "C:\\Users\\hatta\\anaconda3\\lib\\site-packages\\fairness\\algorithms\\kamishima\\KamishimaAlgorithm.py:99: UserWarning: loadtxt: Empty input file: \"C:\\Users\\hatta\\AppData\\Local\\Temp\\tmpl8c3alks\"\n",
      "  m = numpy.loadtxt(output_name)\n"
     ]
    },
    {
     "name": "stdout",
     "output_type": "stream",
     "text": [
      "run for parameters {} failed: too many indices for array\n"
     ]
    },
    {
     "name": "stderr",
     "output_type": "stream",
     "text": [
      "C:\\Users\\hatta\\anaconda3\\lib\\site-packages\\fairness\\algorithms\\kamishima\\KamishimaAlgorithm.py:99: UserWarning: loadtxt: Empty input file: \"C:\\Users\\hatta\\AppData\\Local\\Temp\\tmpw5t3y2nr\"\n",
      "  m = numpy.loadtxt(output_name)\n"
     ]
    },
    {
     "name": "stdout",
     "output_type": "stream",
     "text": [
      "run for parameters {} failed: too many indices for array\n"
     ]
    },
    {
     "name": "stderr",
     "output_type": "stream",
     "text": [
      "C:\\Users\\hatta\\anaconda3\\lib\\site-packages\\fairness\\algorithms\\kamishima\\KamishimaAlgorithm.py:99: UserWarning: loadtxt: Empty input file: \"C:\\Users\\hatta\\AppData\\Local\\Temp\\tmposq6_epz\"\n",
      "  m = numpy.loadtxt(output_name)\n"
     ]
    },
    {
     "name": "stdout",
     "output_type": "stream",
     "text": [
      "run for parameters {} failed: too many indices for array\n"
     ]
    },
    {
     "name": "stderr",
     "output_type": "stream",
     "text": [
      "C:\\Users\\hatta\\anaconda3\\lib\\site-packages\\fairness\\algorithms\\kamishima\\KamishimaAlgorithm.py:99: UserWarning: loadtxt: Empty input file: \"C:\\Users\\hatta\\AppData\\Local\\Temp\\tmp7c51yvfu\"\n",
      "  m = numpy.loadtxt(output_name)\n"
     ]
    },
    {
     "name": "stdout",
     "output_type": "stream",
     "text": [
      "run for parameters {} failed: too many indices for array\n"
     ]
    },
    {
     "name": "stderr",
     "output_type": "stream",
     "text": [
      "C:\\Users\\hatta\\anaconda3\\lib\\site-packages\\fairness\\algorithms\\kamishima\\KamishimaAlgorithm.py:99: UserWarning: loadtxt: Empty input file: \"C:\\Users\\hatta\\AppData\\Local\\Temp\\tmp__upxxh1\"\n",
      "  m = numpy.loadtxt(output_name)\n"
     ]
    },
    {
     "name": "stdout",
     "output_type": "stream",
     "text": [
      "run for parameters {} failed: too many indices for array\n"
     ]
    },
    {
     "name": "stderr",
     "output_type": "stream",
     "text": [
      "C:\\Users\\hatta\\anaconda3\\lib\\site-packages\\fairness\\algorithms\\kamishima\\KamishimaAlgorithm.py:99: UserWarning: loadtxt: Empty input file: \"C:\\Users\\hatta\\AppData\\Local\\Temp\\tmp3sdhtvr5\"\n",
      "  m = numpy.loadtxt(output_name)\n"
     ]
    },
    {
     "name": "stdout",
     "output_type": "stream",
     "text": [
      "run for parameters {} failed: too many indices for array\n"
     ]
    },
    {
     "name": "stderr",
     "output_type": "stream",
     "text": [
      "C:\\Users\\hatta\\anaconda3\\lib\\site-packages\\fairness\\algorithms\\kamishima\\KamishimaAlgorithm.py:99: UserWarning: loadtxt: Empty input file: \"C:\\Users\\hatta\\AppData\\Local\\Temp\\tmpumuxzs9a\"\n",
      "  m = numpy.loadtxt(output_name)\n"
     ]
    },
    {
     "name": "stdout",
     "output_type": "stream",
     "text": [
      "run for parameters {} failed: too many indices for array\n"
     ]
    },
    {
     "name": "stderr",
     "output_type": "stream",
     "text": [
      "C:\\Users\\hatta\\anaconda3\\lib\\site-packages\\fairness\\algorithms\\kamishima\\KamishimaAlgorithm.py:99: UserWarning: loadtxt: Empty input file: \"C:\\Users\\hatta\\AppData\\Local\\Temp\\tmpzbrpx89k\"\n",
      "  m = numpy.loadtxt(output_name)\n"
     ]
    },
    {
     "name": "stdout",
     "output_type": "stream",
     "text": [
      "run for parameters {} failed: too many indices for array\n"
     ]
    },
    {
     "name": "stderr",
     "output_type": "stream",
     "text": [
      "Traceback (most recent call last):\n",
      "  File \"C:\\Users\\hatta\\anaconda3\\lib\\site-packages\\fairness\\benchmark.py\", line 66, in run\n",
      "    run_eval_alg(algorithm, train, test, dataset_obj, processed_dataset,\n",
      "  File \"C:\\Users\\hatta\\anaconda3\\lib\\site-packages\\fairness\\benchmark.py\", line 107, in run_eval_alg\n",
      "    run_alg(algorithm, train, test, dataset, all_sensitive_attributes, single_sensitive,\n",
      "  File \"C:\\Users\\hatta\\anaconda3\\lib\\site-packages\\fairness\\benchmark.py\", line 145, in run_alg\n",
      "    algorithm.run(train, test, class_attr, positive_val, all_sensitive_attributes,\n",
      "  File \"C:\\Users\\hatta\\anaconda3\\lib\\site-packages\\fairness\\algorithms\\ParamGridSearch.py\", line 36, in run\n",
      "    best_predictions = self.find_best(all_predictions, train_df, test_df, class_attr,\n",
      "  File \"C:\\Users\\hatta\\anaconda3\\lib\\site-packages\\fairness\\algorithms\\ParamGridSearch.py\", line 44, in find_best\n",
      "    raise Exception(\n",
      "Exception: No run in the parameter grid search succeeded - failing run of algorithm\n",
      "Failed: No run in the parameter grid search succeeded - failing run of algorithm\n",
      "C:\\Users\\hatta\\anaconda3\\lib\\site-packages\\fairness\\algorithms\\kamishima\\KamishimaAlgorithm.py:99: UserWarning: loadtxt: Empty input file: \"C:\\Users\\hatta\\AppData\\Local\\Temp\\tmpkd9flwn3\"\n",
      "  m = numpy.loadtxt(output_name)\n"
     ]
    },
    {
     "name": "stdout",
     "output_type": "stream",
     "text": [
      "run for parameters {} failed: too many indices for array\n"
     ]
    },
    {
     "name": "stderr",
     "output_type": "stream",
     "text": [
      "C:\\Users\\hatta\\anaconda3\\lib\\site-packages\\fairness\\algorithms\\kamishima\\KamishimaAlgorithm.py:99: UserWarning: loadtxt: Empty input file: \"C:\\Users\\hatta\\AppData\\Local\\Temp\\tmpnwax4div\"\n",
      "  m = numpy.loadtxt(output_name)\n"
     ]
    },
    {
     "name": "stdout",
     "output_type": "stream",
     "text": [
      "run for parameters {} failed: too many indices for array\n"
     ]
    },
    {
     "name": "stderr",
     "output_type": "stream",
     "text": [
      "C:\\Users\\hatta\\anaconda3\\lib\\site-packages\\fairness\\algorithms\\kamishima\\KamishimaAlgorithm.py:99: UserWarning: loadtxt: Empty input file: \"C:\\Users\\hatta\\AppData\\Local\\Temp\\tmpbctnh9ds\"\n",
      "  m = numpy.loadtxt(output_name)\n"
     ]
    },
    {
     "name": "stdout",
     "output_type": "stream",
     "text": [
      "run for parameters {} failed: too many indices for array\n"
     ]
    },
    {
     "name": "stderr",
     "output_type": "stream",
     "text": [
      "C:\\Users\\hatta\\anaconda3\\lib\\site-packages\\fairness\\algorithms\\kamishima\\KamishimaAlgorithm.py:99: UserWarning: loadtxt: Empty input file: \"C:\\Users\\hatta\\AppData\\Local\\Temp\\tmplmxxo64p\"\n",
      "  m = numpy.loadtxt(output_name)\n"
     ]
    },
    {
     "name": "stdout",
     "output_type": "stream",
     "text": [
      "run for parameters {} failed: too many indices for array\n"
     ]
    },
    {
     "name": "stderr",
     "output_type": "stream",
     "text": [
      "C:\\Users\\hatta\\anaconda3\\lib\\site-packages\\fairness\\algorithms\\kamishima\\KamishimaAlgorithm.py:99: UserWarning: loadtxt: Empty input file: \"C:\\Users\\hatta\\AppData\\Local\\Temp\\tmprx5lku4y\"\n",
      "  m = numpy.loadtxt(output_name)\n"
     ]
    },
    {
     "name": "stdout",
     "output_type": "stream",
     "text": [
      "run for parameters {} failed: too many indices for array\n"
     ]
    },
    {
     "name": "stderr",
     "output_type": "stream",
     "text": [
      "C:\\Users\\hatta\\anaconda3\\lib\\site-packages\\fairness\\algorithms\\kamishima\\KamishimaAlgorithm.py:99: UserWarning: loadtxt: Empty input file: \"C:\\Users\\hatta\\AppData\\Local\\Temp\\tmppfalb8m3\"\n",
      "  m = numpy.loadtxt(output_name)\n"
     ]
    },
    {
     "name": "stdout",
     "output_type": "stream",
     "text": [
      "run for parameters {} failed: too many indices for array\n"
     ]
    },
    {
     "name": "stderr",
     "output_type": "stream",
     "text": [
      "C:\\Users\\hatta\\anaconda3\\lib\\site-packages\\fairness\\algorithms\\kamishima\\KamishimaAlgorithm.py:99: UserWarning: loadtxt: Empty input file: \"C:\\Users\\hatta\\AppData\\Local\\Temp\\tmpzy10o9lm\"\n",
      "  m = numpy.loadtxt(output_name)\n"
     ]
    },
    {
     "name": "stdout",
     "output_type": "stream",
     "text": [
      "run for parameters {} failed: too many indices for array\n"
     ]
    },
    {
     "name": "stderr",
     "output_type": "stream",
     "text": [
      "C:\\Users\\hatta\\anaconda3\\lib\\site-packages\\fairness\\algorithms\\kamishima\\KamishimaAlgorithm.py:99: UserWarning: loadtxt: Empty input file: \"C:\\Users\\hatta\\AppData\\Local\\Temp\\tmp3j0pfn5j\"\n",
      "  m = numpy.loadtxt(output_name)\n"
     ]
    },
    {
     "name": "stdout",
     "output_type": "stream",
     "text": [
      "run for parameters {} failed: too many indices for array\n"
     ]
    },
    {
     "name": "stderr",
     "output_type": "stream",
     "text": [
      "C:\\Users\\hatta\\anaconda3\\lib\\site-packages\\fairness\\algorithms\\kamishima\\KamishimaAlgorithm.py:99: UserWarning: loadtxt: Empty input file: \"C:\\Users\\hatta\\AppData\\Local\\Temp\\tmpzshln1fc\"\n",
      "  m = numpy.loadtxt(output_name)\n"
     ]
    },
    {
     "name": "stdout",
     "output_type": "stream",
     "text": [
      "run for parameters {} failed: too many indices for array\n"
     ]
    },
    {
     "name": "stderr",
     "output_type": "stream",
     "text": [
      "C:\\Users\\hatta\\anaconda3\\lib\\site-packages\\fairness\\algorithms\\kamishima\\KamishimaAlgorithm.py:99: UserWarning: loadtxt: Empty input file: \"C:\\Users\\hatta\\AppData\\Local\\Temp\\tmpho3wtj_m\"\n",
      "  m = numpy.loadtxt(output_name)\n"
     ]
    },
    {
     "name": "stdout",
     "output_type": "stream",
     "text": [
      "run for parameters {} failed: too many indices for array\n"
     ]
    },
    {
     "name": "stderr",
     "output_type": "stream",
     "text": [
      "C:\\Users\\hatta\\anaconda3\\lib\\site-packages\\fairness\\algorithms\\kamishima\\KamishimaAlgorithm.py:99: UserWarning: loadtxt: Empty input file: \"C:\\Users\\hatta\\AppData\\Local\\Temp\\tmpqj__2lge\"\n",
      "  m = numpy.loadtxt(output_name)\n"
     ]
    },
    {
     "name": "stdout",
     "output_type": "stream",
     "text": [
      "run for parameters {} failed: too many indices for array\n"
     ]
    },
    {
     "name": "stderr",
     "output_type": "stream",
     "text": [
      "C:\\Users\\hatta\\anaconda3\\lib\\site-packages\\fairness\\algorithms\\kamishima\\KamishimaAlgorithm.py:99: UserWarning: loadtxt: Empty input file: \"C:\\Users\\hatta\\AppData\\Local\\Temp\\tmpt5ssh_d0\"\n",
      "  m = numpy.loadtxt(output_name)\n"
     ]
    },
    {
     "name": "stdout",
     "output_type": "stream",
     "text": [
      "run for parameters {} failed: too many indices for array\n"
     ]
    },
    {
     "name": "stderr",
     "output_type": "stream",
     "text": [
      "C:\\Users\\hatta\\anaconda3\\lib\\site-packages\\fairness\\algorithms\\kamishima\\KamishimaAlgorithm.py:99: UserWarning: loadtxt: Empty input file: \"C:\\Users\\hatta\\AppData\\Local\\Temp\\tmppyg_454y\"\n",
      "  m = numpy.loadtxt(output_name)\n"
     ]
    },
    {
     "name": "stdout",
     "output_type": "stream",
     "text": [
      "run for parameters {} failed: too many indices for array\n"
     ]
    },
    {
     "name": "stderr",
     "output_type": "stream",
     "text": [
      "C:\\Users\\hatta\\anaconda3\\lib\\site-packages\\fairness\\algorithms\\kamishima\\KamishimaAlgorithm.py:99: UserWarning: loadtxt: Empty input file: \"C:\\Users\\hatta\\AppData\\Local\\Temp\\tmptdj4_svq\"\n",
      "  m = numpy.loadtxt(output_name)\n"
     ]
    },
    {
     "name": "stdout",
     "output_type": "stream",
     "text": [
      "run for parameters {} failed: too many indices for array\n"
     ]
    },
    {
     "name": "stderr",
     "output_type": "stream",
     "text": [
      "C:\\Users\\hatta\\anaconda3\\lib\\site-packages\\fairness\\algorithms\\kamishima\\KamishimaAlgorithm.py:99: UserWarning: loadtxt: Empty input file: \"C:\\Users\\hatta\\AppData\\Local\\Temp\\tmpb9cu_hrm\"\n",
      "  m = numpy.loadtxt(output_name)\n"
     ]
    },
    {
     "name": "stdout",
     "output_type": "stream",
     "text": [
      "run for parameters {} failed: too many indices for array\n"
     ]
    },
    {
     "name": "stderr",
     "output_type": "stream",
     "text": [
      "C:\\Users\\hatta\\anaconda3\\lib\\site-packages\\fairness\\algorithms\\kamishima\\KamishimaAlgorithm.py:99: UserWarning: loadtxt: Empty input file: \"C:\\Users\\hatta\\AppData\\Local\\Temp\\tmp7tmsr32_\"\n",
      "  m = numpy.loadtxt(output_name)\n"
     ]
    },
    {
     "name": "stdout",
     "output_type": "stream",
     "text": [
      "run for parameters {} failed: too many indices for array\n"
     ]
    },
    {
     "name": "stderr",
     "output_type": "stream",
     "text": [
      "C:\\Users\\hatta\\anaconda3\\lib\\site-packages\\fairness\\algorithms\\kamishima\\KamishimaAlgorithm.py:99: UserWarning: loadtxt: Empty input file: \"C:\\Users\\hatta\\AppData\\Local\\Temp\\tmps4yy6l67\"\n",
      "  m = numpy.loadtxt(output_name)\n"
     ]
    },
    {
     "name": "stdout",
     "output_type": "stream",
     "text": [
      "run for parameters {} failed: too many indices for array\n"
     ]
    },
    {
     "name": "stderr",
     "output_type": "stream",
     "text": [
      "Traceback (most recent call last):\n",
      "  File \"C:\\Users\\hatta\\anaconda3\\lib\\site-packages\\fairness\\benchmark.py\", line 66, in run\n",
      "    run_eval_alg(algorithm, train, test, dataset_obj, processed_dataset,\n",
      "  File \"C:\\Users\\hatta\\anaconda3\\lib\\site-packages\\fairness\\benchmark.py\", line 107, in run_eval_alg\n",
      "    run_alg(algorithm, train, test, dataset, all_sensitive_attributes, single_sensitive,\n",
      "  File \"C:\\Users\\hatta\\anaconda3\\lib\\site-packages\\fairness\\benchmark.py\", line 145, in run_alg\n",
      "    algorithm.run(train, test, class_attr, positive_val, all_sensitive_attributes,\n",
      "  File \"C:\\Users\\hatta\\anaconda3\\lib\\site-packages\\fairness\\algorithms\\ParamGridSearch.py\", line 36, in run\n",
      "    best_predictions = self.find_best(all_predictions, train_df, test_df, class_attr,\n",
      "  File \"C:\\Users\\hatta\\anaconda3\\lib\\site-packages\\fairness\\algorithms\\ParamGridSearch.py\", line 44, in find_best\n",
      "    raise Exception(\n",
      "Exception: No run in the parameter grid search succeeded - failing run of algorithm\n",
      "Failed: No run in the parameter grid search succeeded - failing run of algorithm\n",
      "C:\\Users\\hatta\\anaconda3\\lib\\site-packages\\fairness\\algorithms\\kamishima\\KamishimaAlgorithm.py:99: UserWarning: loadtxt: Empty input file: \"C:\\Users\\hatta\\AppData\\Local\\Temp\\tmpad3eafy8\"\n",
      "  m = numpy.loadtxt(output_name)\n"
     ]
    },
    {
     "name": "stdout",
     "output_type": "stream",
     "text": [
      "run for parameters {} failed: too many indices for array\n"
     ]
    },
    {
     "name": "stderr",
     "output_type": "stream",
     "text": [
      "C:\\Users\\hatta\\anaconda3\\lib\\site-packages\\fairness\\algorithms\\kamishima\\KamishimaAlgorithm.py:99: UserWarning: loadtxt: Empty input file: \"C:\\Users\\hatta\\AppData\\Local\\Temp\\tmptkc7234f\"\n",
      "  m = numpy.loadtxt(output_name)\n"
     ]
    },
    {
     "name": "stdout",
     "output_type": "stream",
     "text": [
      "run for parameters {} failed: too many indices for array\n"
     ]
    },
    {
     "name": "stderr",
     "output_type": "stream",
     "text": [
      "C:\\Users\\hatta\\anaconda3\\lib\\site-packages\\fairness\\algorithms\\kamishima\\KamishimaAlgorithm.py:99: UserWarning: loadtxt: Empty input file: \"C:\\Users\\hatta\\AppData\\Local\\Temp\\tmp0ud0dmf_\"\n",
      "  m = numpy.loadtxt(output_name)\n"
     ]
    },
    {
     "name": "stdout",
     "output_type": "stream",
     "text": [
      "run for parameters {} failed: too many indices for array\n"
     ]
    },
    {
     "name": "stderr",
     "output_type": "stream",
     "text": [
      "C:\\Users\\hatta\\anaconda3\\lib\\site-packages\\fairness\\algorithms\\kamishima\\KamishimaAlgorithm.py:99: UserWarning: loadtxt: Empty input file: \"C:\\Users\\hatta\\AppData\\Local\\Temp\\tmpwap850qk\"\n",
      "  m = numpy.loadtxt(output_name)\n"
     ]
    },
    {
     "name": "stdout",
     "output_type": "stream",
     "text": [
      "run for parameters {} failed: too many indices for array\n"
     ]
    },
    {
     "name": "stderr",
     "output_type": "stream",
     "text": [
      "C:\\Users\\hatta\\anaconda3\\lib\\site-packages\\fairness\\algorithms\\kamishima\\KamishimaAlgorithm.py:99: UserWarning: loadtxt: Empty input file: \"C:\\Users\\hatta\\AppData\\Local\\Temp\\tmpib7h5lbr\"\n",
      "  m = numpy.loadtxt(output_name)\n"
     ]
    },
    {
     "name": "stdout",
     "output_type": "stream",
     "text": [
      "run for parameters {} failed: too many indices for array\n"
     ]
    },
    {
     "name": "stderr",
     "output_type": "stream",
     "text": [
      "C:\\Users\\hatta\\anaconda3\\lib\\site-packages\\fairness\\algorithms\\kamishima\\KamishimaAlgorithm.py:99: UserWarning: loadtxt: Empty input file: \"C:\\Users\\hatta\\AppData\\Local\\Temp\\tmpza02md90\"\n",
      "  m = numpy.loadtxt(output_name)\n"
     ]
    },
    {
     "name": "stdout",
     "output_type": "stream",
     "text": [
      "run for parameters {} failed: too many indices for array\n"
     ]
    },
    {
     "name": "stderr",
     "output_type": "stream",
     "text": [
      "C:\\Users\\hatta\\anaconda3\\lib\\site-packages\\fairness\\algorithms\\kamishima\\KamishimaAlgorithm.py:99: UserWarning: loadtxt: Empty input file: \"C:\\Users\\hatta\\AppData\\Local\\Temp\\tmpk3agb2ar\"\n",
      "  m = numpy.loadtxt(output_name)\n"
     ]
    },
    {
     "name": "stdout",
     "output_type": "stream",
     "text": [
      "run for parameters {} failed: too many indices for array\n"
     ]
    },
    {
     "name": "stderr",
     "output_type": "stream",
     "text": [
      "C:\\Users\\hatta\\anaconda3\\lib\\site-packages\\fairness\\algorithms\\kamishima\\KamishimaAlgorithm.py:99: UserWarning: loadtxt: Empty input file: \"C:\\Users\\hatta\\AppData\\Local\\Temp\\tmpil99iw_n\"\n",
      "  m = numpy.loadtxt(output_name)\n"
     ]
    },
    {
     "name": "stdout",
     "output_type": "stream",
     "text": [
      "run for parameters {} failed: too many indices for array\n"
     ]
    },
    {
     "name": "stderr",
     "output_type": "stream",
     "text": [
      "C:\\Users\\hatta\\anaconda3\\lib\\site-packages\\fairness\\algorithms\\kamishima\\KamishimaAlgorithm.py:99: UserWarning: loadtxt: Empty input file: \"C:\\Users\\hatta\\AppData\\Local\\Temp\\tmpqnz10ncb\"\n",
      "  m = numpy.loadtxt(output_name)\n"
     ]
    },
    {
     "name": "stdout",
     "output_type": "stream",
     "text": [
      "run for parameters {} failed: too many indices for array\n"
     ]
    },
    {
     "name": "stderr",
     "output_type": "stream",
     "text": [
      "C:\\Users\\hatta\\anaconda3\\lib\\site-packages\\fairness\\algorithms\\kamishima\\KamishimaAlgorithm.py:99: UserWarning: loadtxt: Empty input file: \"C:\\Users\\hatta\\AppData\\Local\\Temp\\tmpnk676z2g\"\n",
      "  m = numpy.loadtxt(output_name)\n"
     ]
    },
    {
     "name": "stdout",
     "output_type": "stream",
     "text": [
      "run for parameters {} failed: too many indices for array\n"
     ]
    },
    {
     "name": "stderr",
     "output_type": "stream",
     "text": [
      "C:\\Users\\hatta\\anaconda3\\lib\\site-packages\\fairness\\algorithms\\kamishima\\KamishimaAlgorithm.py:99: UserWarning: loadtxt: Empty input file: \"C:\\Users\\hatta\\AppData\\Local\\Temp\\tmpzxpxn08u\"\n",
      "  m = numpy.loadtxt(output_name)\n"
     ]
    },
    {
     "name": "stdout",
     "output_type": "stream",
     "text": [
      "run for parameters {} failed: too many indices for array\n"
     ]
    },
    {
     "name": "stderr",
     "output_type": "stream",
     "text": [
      "C:\\Users\\hatta\\anaconda3\\lib\\site-packages\\fairness\\algorithms\\kamishima\\KamishimaAlgorithm.py:99: UserWarning: loadtxt: Empty input file: \"C:\\Users\\hatta\\AppData\\Local\\Temp\\tmpuarjmf7o\"\n",
      "  m = numpy.loadtxt(output_name)\n"
     ]
    },
    {
     "name": "stdout",
     "output_type": "stream",
     "text": [
      "run for parameters {} failed: too many indices for array\n"
     ]
    },
    {
     "name": "stderr",
     "output_type": "stream",
     "text": [
      "C:\\Users\\hatta\\anaconda3\\lib\\site-packages\\fairness\\algorithms\\kamishima\\KamishimaAlgorithm.py:99: UserWarning: loadtxt: Empty input file: \"C:\\Users\\hatta\\AppData\\Local\\Temp\\tmpwob1sw0n\"\n",
      "  m = numpy.loadtxt(output_name)\n"
     ]
    },
    {
     "name": "stdout",
     "output_type": "stream",
     "text": [
      "run for parameters {} failed: too many indices for array\n"
     ]
    },
    {
     "name": "stderr",
     "output_type": "stream",
     "text": [
      "C:\\Users\\hatta\\anaconda3\\lib\\site-packages\\fairness\\algorithms\\kamishima\\KamishimaAlgorithm.py:99: UserWarning: loadtxt: Empty input file: \"C:\\Users\\hatta\\AppData\\Local\\Temp\\tmp9dhuk3j4\"\n",
      "  m = numpy.loadtxt(output_name)\n"
     ]
    },
    {
     "name": "stdout",
     "output_type": "stream",
     "text": [
      "run for parameters {} failed: too many indices for array\n"
     ]
    },
    {
     "name": "stderr",
     "output_type": "stream",
     "text": [
      "C:\\Users\\hatta\\anaconda3\\lib\\site-packages\\fairness\\algorithms\\kamishima\\KamishimaAlgorithm.py:99: UserWarning: loadtxt: Empty input file: \"C:\\Users\\hatta\\AppData\\Local\\Temp\\tmpjuwguh_v\"\n",
      "  m = numpy.loadtxt(output_name)\n"
     ]
    },
    {
     "name": "stdout",
     "output_type": "stream",
     "text": [
      "run for parameters {} failed: too many indices for array\n"
     ]
    },
    {
     "name": "stderr",
     "output_type": "stream",
     "text": [
      "C:\\Users\\hatta\\anaconda3\\lib\\site-packages\\fairness\\algorithms\\kamishima\\KamishimaAlgorithm.py:99: UserWarning: loadtxt: Empty input file: \"C:\\Users\\hatta\\AppData\\Local\\Temp\\tmp78yed3vo\"\n",
      "  m = numpy.loadtxt(output_name)\n"
     ]
    },
    {
     "name": "stdout",
     "output_type": "stream",
     "text": [
      "run for parameters {} failed: too many indices for array\n"
     ]
    },
    {
     "name": "stderr",
     "output_type": "stream",
     "text": [
      "C:\\Users\\hatta\\anaconda3\\lib\\site-packages\\fairness\\algorithms\\kamishima\\KamishimaAlgorithm.py:99: UserWarning: loadtxt: Empty input file: \"C:\\Users\\hatta\\AppData\\Local\\Temp\\tmpom1ovgeu\"\n",
      "  m = numpy.loadtxt(output_name)\n"
     ]
    },
    {
     "name": "stdout",
     "output_type": "stream",
     "text": [
      "run for parameters {} failed: too many indices for array\n"
     ]
    },
    {
     "name": "stderr",
     "output_type": "stream",
     "text": [
      "Traceback (most recent call last):\n",
      "  File \"C:\\Users\\hatta\\anaconda3\\lib\\site-packages\\fairness\\benchmark.py\", line 66, in run\n",
      "    run_eval_alg(algorithm, train, test, dataset_obj, processed_dataset,\n",
      "  File \"C:\\Users\\hatta\\anaconda3\\lib\\site-packages\\fairness\\benchmark.py\", line 107, in run_eval_alg\n",
      "    run_alg(algorithm, train, test, dataset, all_sensitive_attributes, single_sensitive,\n",
      "  File \"C:\\Users\\hatta\\anaconda3\\lib\\site-packages\\fairness\\benchmark.py\", line 145, in run_alg\n",
      "    algorithm.run(train, test, class_attr, positive_val, all_sensitive_attributes,\n",
      "  File \"C:\\Users\\hatta\\anaconda3\\lib\\site-packages\\fairness\\algorithms\\ParamGridSearch.py\", line 36, in run\n",
      "    best_predictions = self.find_best(all_predictions, train_df, test_df, class_attr,\n",
      "  File \"C:\\Users\\hatta\\anaconda3\\lib\\site-packages\\fairness\\algorithms\\ParamGridSearch.py\", line 44, in find_best\n",
      "    raise Exception(\n",
      "Exception: No run in the parameter grid search succeeded - failing run of algorithm\n",
      "Failed: No run in the parameter grid search succeeded - failing run of algorithm\n",
      "C:\\Users\\hatta\\anaconda3\\lib\\site-packages\\fairness\\algorithms\\kamishima\\KamishimaAlgorithm.py:99: UserWarning: loadtxt: Empty input file: \"C:\\Users\\hatta\\AppData\\Local\\Temp\\tmp6r_0ayxp\"\n",
      "  m = numpy.loadtxt(output_name)\n"
     ]
    },
    {
     "name": "stdout",
     "output_type": "stream",
     "text": [
      "run for parameters {} failed: too many indices for array\n"
     ]
    },
    {
     "name": "stderr",
     "output_type": "stream",
     "text": [
      "C:\\Users\\hatta\\anaconda3\\lib\\site-packages\\fairness\\algorithms\\kamishima\\KamishimaAlgorithm.py:99: UserWarning: loadtxt: Empty input file: \"C:\\Users\\hatta\\AppData\\Local\\Temp\\tmpjocp_jsm\"\n",
      "  m = numpy.loadtxt(output_name)\n"
     ]
    },
    {
     "name": "stdout",
     "output_type": "stream",
     "text": [
      "run for parameters {} failed: too many indices for array\n"
     ]
    },
    {
     "name": "stderr",
     "output_type": "stream",
     "text": [
      "C:\\Users\\hatta\\anaconda3\\lib\\site-packages\\fairness\\algorithms\\kamishima\\KamishimaAlgorithm.py:99: UserWarning: loadtxt: Empty input file: \"C:\\Users\\hatta\\AppData\\Local\\Temp\\tmpbpnf91l0\"\n",
      "  m = numpy.loadtxt(output_name)\n"
     ]
    },
    {
     "name": "stdout",
     "output_type": "stream",
     "text": [
      "run for parameters {} failed: too many indices for array\n"
     ]
    },
    {
     "name": "stderr",
     "output_type": "stream",
     "text": [
      "C:\\Users\\hatta\\anaconda3\\lib\\site-packages\\fairness\\algorithms\\kamishima\\KamishimaAlgorithm.py:99: UserWarning: loadtxt: Empty input file: \"C:\\Users\\hatta\\AppData\\Local\\Temp\\tmpp_ijekbj\"\n",
      "  m = numpy.loadtxt(output_name)\n"
     ]
    },
    {
     "name": "stdout",
     "output_type": "stream",
     "text": [
      "run for parameters {} failed: too many indices for array\n"
     ]
    },
    {
     "name": "stderr",
     "output_type": "stream",
     "text": [
      "C:\\Users\\hatta\\anaconda3\\lib\\site-packages\\fairness\\algorithms\\kamishima\\KamishimaAlgorithm.py:99: UserWarning: loadtxt: Empty input file: \"C:\\Users\\hatta\\AppData\\Local\\Temp\\tmpifd_8ob2\"\n",
      "  m = numpy.loadtxt(output_name)\n"
     ]
    },
    {
     "name": "stdout",
     "output_type": "stream",
     "text": [
      "run for parameters {} failed: too many indices for array\n"
     ]
    },
    {
     "name": "stderr",
     "output_type": "stream",
     "text": [
      "C:\\Users\\hatta\\anaconda3\\lib\\site-packages\\fairness\\algorithms\\kamishima\\KamishimaAlgorithm.py:99: UserWarning: loadtxt: Empty input file: \"C:\\Users\\hatta\\AppData\\Local\\Temp\\tmp10ac26qg\"\n",
      "  m = numpy.loadtxt(output_name)\n"
     ]
    },
    {
     "name": "stdout",
     "output_type": "stream",
     "text": [
      "run for parameters {} failed: too many indices for array\n"
     ]
    },
    {
     "name": "stderr",
     "output_type": "stream",
     "text": [
      "C:\\Users\\hatta\\anaconda3\\lib\\site-packages\\fairness\\algorithms\\kamishima\\KamishimaAlgorithm.py:99: UserWarning: loadtxt: Empty input file: \"C:\\Users\\hatta\\AppData\\Local\\Temp\\tmpddvku1ut\"\n",
      "  m = numpy.loadtxt(output_name)\n"
     ]
    },
    {
     "name": "stdout",
     "output_type": "stream",
     "text": [
      "run for parameters {} failed: too many indices for array\n"
     ]
    },
    {
     "name": "stderr",
     "output_type": "stream",
     "text": [
      "C:\\Users\\hatta\\anaconda3\\lib\\site-packages\\fairness\\algorithms\\kamishima\\KamishimaAlgorithm.py:99: UserWarning: loadtxt: Empty input file: \"C:\\Users\\hatta\\AppData\\Local\\Temp\\tmp2neakm6v\"\n",
      "  m = numpy.loadtxt(output_name)\n"
     ]
    },
    {
     "name": "stdout",
     "output_type": "stream",
     "text": [
      "run for parameters {} failed: too many indices for array\n"
     ]
    },
    {
     "name": "stderr",
     "output_type": "stream",
     "text": [
      "C:\\Users\\hatta\\anaconda3\\lib\\site-packages\\fairness\\algorithms\\kamishima\\KamishimaAlgorithm.py:99: UserWarning: loadtxt: Empty input file: \"C:\\Users\\hatta\\AppData\\Local\\Temp\\tmphi3a2p9t\"\n",
      "  m = numpy.loadtxt(output_name)\n"
     ]
    },
    {
     "name": "stdout",
     "output_type": "stream",
     "text": [
      "run for parameters {} failed: too many indices for array\n"
     ]
    },
    {
     "name": "stderr",
     "output_type": "stream",
     "text": [
      "C:\\Users\\hatta\\anaconda3\\lib\\site-packages\\fairness\\algorithms\\kamishima\\KamishimaAlgorithm.py:99: UserWarning: loadtxt: Empty input file: \"C:\\Users\\hatta\\AppData\\Local\\Temp\\tmpq16ao5gg\"\n",
      "  m = numpy.loadtxt(output_name)\n"
     ]
    },
    {
     "name": "stdout",
     "output_type": "stream",
     "text": [
      "run for parameters {} failed: too many indices for array\n"
     ]
    },
    {
     "name": "stderr",
     "output_type": "stream",
     "text": [
      "C:\\Users\\hatta\\anaconda3\\lib\\site-packages\\fairness\\algorithms\\kamishima\\KamishimaAlgorithm.py:99: UserWarning: loadtxt: Empty input file: \"C:\\Users\\hatta\\AppData\\Local\\Temp\\tmppzy_yv6q\"\n",
      "  m = numpy.loadtxt(output_name)\n"
     ]
    },
    {
     "name": "stdout",
     "output_type": "stream",
     "text": [
      "run for parameters {} failed: too many indices for array\n"
     ]
    },
    {
     "name": "stderr",
     "output_type": "stream",
     "text": [
      "C:\\Users\\hatta\\anaconda3\\lib\\site-packages\\fairness\\algorithms\\kamishima\\KamishimaAlgorithm.py:99: UserWarning: loadtxt: Empty input file: \"C:\\Users\\hatta\\AppData\\Local\\Temp\\tmpzne9pm1w\"\n",
      "  m = numpy.loadtxt(output_name)\n"
     ]
    },
    {
     "name": "stdout",
     "output_type": "stream",
     "text": [
      "run for parameters {} failed: too many indices for array\n"
     ]
    },
    {
     "name": "stderr",
     "output_type": "stream",
     "text": [
      "C:\\Users\\hatta\\anaconda3\\lib\\site-packages\\fairness\\algorithms\\kamishima\\KamishimaAlgorithm.py:99: UserWarning: loadtxt: Empty input file: \"C:\\Users\\hatta\\AppData\\Local\\Temp\\tmpzzirfzns\"\n",
      "  m = numpy.loadtxt(output_name)\n"
     ]
    },
    {
     "name": "stdout",
     "output_type": "stream",
     "text": [
      "run for parameters {} failed: too many indices for array\n"
     ]
    },
    {
     "name": "stderr",
     "output_type": "stream",
     "text": [
      "C:\\Users\\hatta\\anaconda3\\lib\\site-packages\\fairness\\algorithms\\kamishima\\KamishimaAlgorithm.py:99: UserWarning: loadtxt: Empty input file: \"C:\\Users\\hatta\\AppData\\Local\\Temp\\tmpisbqf9q2\"\n",
      "  m = numpy.loadtxt(output_name)\n"
     ]
    },
    {
     "name": "stdout",
     "output_type": "stream",
     "text": [
      "run for parameters {} failed: too many indices for array\n"
     ]
    },
    {
     "name": "stderr",
     "output_type": "stream",
     "text": [
      "C:\\Users\\hatta\\anaconda3\\lib\\site-packages\\fairness\\algorithms\\kamishima\\KamishimaAlgorithm.py:99: UserWarning: loadtxt: Empty input file: \"C:\\Users\\hatta\\AppData\\Local\\Temp\\tmp42rsavbq\"\n",
      "  m = numpy.loadtxt(output_name)\n"
     ]
    },
    {
     "name": "stdout",
     "output_type": "stream",
     "text": [
      "run for parameters {} failed: too many indices for array\n"
     ]
    },
    {
     "name": "stderr",
     "output_type": "stream",
     "text": [
      "C:\\Users\\hatta\\anaconda3\\lib\\site-packages\\fairness\\algorithms\\kamishima\\KamishimaAlgorithm.py:99: UserWarning: loadtxt: Empty input file: \"C:\\Users\\hatta\\AppData\\Local\\Temp\\tmpftyhna_o\"\n",
      "  m = numpy.loadtxt(output_name)\n"
     ]
    },
    {
     "name": "stdout",
     "output_type": "stream",
     "text": [
      "run for parameters {} failed: too many indices for array\n"
     ]
    },
    {
     "name": "stderr",
     "output_type": "stream",
     "text": [
      "C:\\Users\\hatta\\anaconda3\\lib\\site-packages\\fairness\\algorithms\\kamishima\\KamishimaAlgorithm.py:99: UserWarning: loadtxt: Empty input file: \"C:\\Users\\hatta\\AppData\\Local\\Temp\\tmp9qumm8hx\"\n",
      "  m = numpy.loadtxt(output_name)\n"
     ]
    },
    {
     "name": "stdout",
     "output_type": "stream",
     "text": [
      "run for parameters {} failed: too many indices for array\n"
     ]
    },
    {
     "name": "stderr",
     "output_type": "stream",
     "text": [
      "Traceback (most recent call last):\n",
      "  File \"C:\\Users\\hatta\\anaconda3\\lib\\site-packages\\fairness\\benchmark.py\", line 66, in run\n",
      "    run_eval_alg(algorithm, train, test, dataset_obj, processed_dataset,\n",
      "  File \"C:\\Users\\hatta\\anaconda3\\lib\\site-packages\\fairness\\benchmark.py\", line 107, in run_eval_alg\n",
      "    run_alg(algorithm, train, test, dataset, all_sensitive_attributes, single_sensitive,\n",
      "  File \"C:\\Users\\hatta\\anaconda3\\lib\\site-packages\\fairness\\benchmark.py\", line 145, in run_alg\n",
      "    algorithm.run(train, test, class_attr, positive_val, all_sensitive_attributes,\n",
      "  File \"C:\\Users\\hatta\\anaconda3\\lib\\site-packages\\fairness\\algorithms\\ParamGridSearch.py\", line 36, in run\n",
      "    best_predictions = self.find_best(all_predictions, train_df, test_df, class_attr,\n",
      "  File \"C:\\Users\\hatta\\anaconda3\\lib\\site-packages\\fairness\\algorithms\\ParamGridSearch.py\", line 44, in find_best\n",
      "    raise Exception(\n",
      "Exception: No run in the parameter grid search succeeded - failing run of algorithm\n",
      "Failed: No run in the parameter grid search succeeded - failing run of algorithm\n"
     ]
    },
    {
     "name": "stdout",
     "output_type": "stream",
     "text": [
      "    Algorithm: Feldman-SVM\n",
      "       supported types: {'numerical', 'numerical-binsensitive'}\n",
      "    Algorithm: Feldman-GaussianNB\n",
      "       supported types: {'numerical', 'numerical-binsensitive'}\n",
      "    Algorithm: Feldman-LR\n",
      "       supported types: {'numerical', 'numerical-binsensitive'}\n",
      "    Algorithm: Feldman-DecisionTree\n",
      "       supported types: {'numerical', 'numerical-binsensitive'}\n",
      "    Algorithm: Feldman-SVM-DIavgall\n",
      "       supported types: {'numerical', 'numerical-binsensitive'}\n",
      "    Algorithm: Feldman-SVM-accuracy\n",
      "       supported types: {'numerical', 'numerical-binsensitive'}\n",
      "    Algorithm: Feldman-GaussianNB-DIavgall\n",
      "       supported types: {'numerical', 'numerical-binsensitive'}\n",
      "    Algorithm: Feldman-GaussianNB-accuracy\n",
      "       supported types: {'numerical', 'numerical-binsensitive'}\n",
      "Results written to:\n",
      "    C:\\Users\\hatta\\.fairness\\results\\ricci_Race_numerical.csv\n",
      "    C:\\Users\\hatta\\.fairness\\results\\ricci_Race_numerical-binsensitive.csv\n",
      "\n",
      "Evaluating dataset:adult\n",
      "Sensitive attribute:race\n",
      "    Algorithm: SVM\n",
      "       supported types: {'numerical', 'numerical-binsensitive'}\n"
     ]
    },
    {
     "name": "stderr",
     "output_type": "stream",
     "text": [
      "C:\\Users\\hatta\\anaconda3\\lib\\site-packages\\sklearn\\metrics\\_classification.py:1221: UndefinedMetricWarning: Recall is ill-defined and being set to 0.0 due to no true samples. Use `zero_division` parameter to control this behavior.\n",
      "  _warn_prf(average, modifier, msg_start, len(result))\n",
      "C:\\Users\\hatta\\anaconda3\\lib\\site-packages\\sklearn\\metrics\\_classification.py:1221: UndefinedMetricWarning: Recall is ill-defined and being set to 0.0 due to no true samples. Use `zero_division` parameter to control this behavior.\n",
      "  _warn_prf(average, modifier, msg_start, len(result))\n",
      "C:\\Users\\hatta\\anaconda3\\lib\\site-packages\\sklearn\\metrics\\_classification.py:1221: UndefinedMetricWarning: Recall is ill-defined and being set to 0.0 due to no true samples. Use `zero_division` parameter to control this behavior.\n",
      "  _warn_prf(average, modifier, msg_start, len(result))\n",
      "C:\\Users\\hatta\\anaconda3\\lib\\site-packages\\sklearn\\metrics\\_classification.py:1221: UndefinedMetricWarning: Recall is ill-defined and being set to 0.0 due to no true samples. Use `zero_division` parameter to control this behavior.\n",
      "  _warn_prf(average, modifier, msg_start, len(result))\n"
     ]
    },
    {
     "name": "stdout",
     "output_type": "stream",
     "text": [
      "    Algorithm: GaussianNB\n",
      "       supported types: {'numerical', 'numerical-binsensitive'}\n"
     ]
    },
    {
     "name": "stderr",
     "output_type": "stream",
     "text": [
      "C:\\Users\\hatta\\anaconda3\\lib\\site-packages\\sklearn\\metrics\\_classification.py:1221: UndefinedMetricWarning: Recall is ill-defined and being set to 0.0 due to no true samples. Use `zero_division` parameter to control this behavior.\n",
      "  _warn_prf(average, modifier, msg_start, len(result))\n"
     ]
    }
   ],
   "source": [
    "#does not work, gives a lot of errors and I have to stop exacution manually:\n",
    "#'IndexError: too many indices for array' and 'Failed: too many indices for array for several algorithms in the library'\n",
    "run()"
   ]
  },
  {
   "cell_type": "code",
   "execution_count": 16,
   "metadata": {},
   "outputs": [],
   "source": [
    "#function to run all the preprocessing step to create different versions of the datassets\n",
    "from fairness import preprocess"
   ]
  },
  {
   "cell_type": "code",
   "execution_count": 17,
   "metadata": {},
   "outputs": [
    {
     "name": "stdout",
     "output_type": "stream",
     "text": [
      "--- Processing dataset: ricci ---\n",
      "\n",
      "-------------------\n",
      "Balance statistics:\n",
      "\n",
      "Class:\n",
      "Class\n",
      "0    62\n",
      "1    56\n",
      "dtype: int64\n",
      "\n",
      "Sensitive Attribute:\n",
      "Race\n",
      "B    27\n",
      "H    23\n",
      "W    68\n",
      "dtype: int64\n",
      "\n",
      "\n",
      "\n",
      "\n",
      "Writing data to: data\\preprocessed\\ricci_original.csv\n",
      "Writing data to: data\\preprocessed\\ricci_numerical.csv\n",
      "Writing data to: data\\preprocessed\\ricci_numerical-binsensitive.csv\n",
      "Writing data to: data\\preprocessed\\ricci_categorical-binsensitive.csv\n",
      "--- Processing dataset: adult ---\n",
      "Missing Data: 2399 rows removed from dataset adult\n",
      "\n",
      "-------------------\n",
      "Balance statistics:\n",
      "\n",
      "Class:\n",
      "income-per-year\n",
      "<=50K    22654\n",
      ">50K      7508\n",
      "dtype: int64\n",
      "\n",
      "Sensitive Attribute:\n",
      "race\n",
      "Amer-Indian-Eskimo      286\n",
      "Asian-Pac-Islander      895\n",
      "Black                  2817\n",
      "Other                   231\n",
      "White                 25933\n",
      "dtype: int64\n",
      "\n",
      "\n",
      "sex\n",
      "Female     9782\n",
      "Male      20380\n",
      "dtype: int64\n",
      "\n",
      "\n",
      "\n",
      "\n",
      "Writing data to: data\\preprocessed\\adult_original.csv\n",
      "Writing data to: data\\preprocessed\\adult_numerical.csv\n",
      "Writing data to: data\\preprocessed\\adult_numerical-binsensitive.csv\n",
      "Writing data to: data\\preprocessed\\adult_categorical-binsensitive.csv\n",
      "--- Processing dataset: german ---\n",
      "\n",
      "-------------------\n",
      "Balance statistics:\n",
      "\n",
      "Class:\n",
      "credit\n",
      "1    700\n",
      "2    300\n",
      "dtype: int64\n",
      "\n",
      "Sensitive Attribute:\n",
      "sex\n",
      "female    310\n",
      "male      690\n",
      "dtype: int64\n",
      "\n",
      "\n",
      "age\n",
      "adult    851\n",
      "youth    149\n",
      "dtype: int64\n",
      "\n",
      "\n",
      "\n",
      "\n",
      "Writing data to: data\\preprocessed\\german_original.csv\n",
      "Writing data to: data\\preprocessed\\german_numerical.csv\n",
      "Writing data to: data\\preprocessed\\german_numerical-binsensitive.csv\n",
      "Writing data to: data\\preprocessed\\german_categorical-binsensitive.csv\n",
      "--- Processing dataset: propublica-recidivism ---\n",
      "Missing Data: 314 rows removed from dataset propublica-recidivism\n",
      "\n",
      "-------------------\n",
      "Balance statistics:\n",
      "\n",
      "Class:\n",
      "two_year_recid\n",
      "0    3358\n",
      "1    2809\n",
      "dtype: int64\n",
      "\n",
      "Sensitive Attribute:\n",
      "sex\n",
      "Female    1173\n",
      "Male      4994\n",
      "dtype: int64\n",
      "\n",
      "\n",
      "race\n",
      "African-American    3173\n",
      "Asian                 31\n",
      "Caucasian           2100\n",
      "Hispanic             509\n",
      "Native American       11\n",
      "Other                343\n",
      "dtype: int64\n",
      "\n",
      "\n",
      "\n",
      "\n",
      "Writing data to: data\\preprocessed\\propublica-recidivism_original.csv\n",
      "Writing data to: data\\preprocessed\\propublica-recidivism_numerical.csv\n",
      "Writing data to: data\\preprocessed\\propublica-recidivism_numerical-binsensitive.csv\n",
      "Writing data to: data\\preprocessed\\propublica-recidivism_categorical-binsensitive.csv\n",
      "--- Processing dataset: propublica-violent-recidivism ---\n",
      "Missing Data: 279 rows removed from dataset propublica-violent-recidivism\n",
      "\n",
      "-------------------\n",
      "Balance statistics:\n",
      "\n",
      "Class:\n",
      "two_year_recid\n",
      "0    3358\n",
      "1     652\n",
      "dtype: int64\n",
      "\n",
      "Sensitive Attribute:\n",
      "sex\n",
      "Female     837\n",
      "Male      3173\n",
      "dtype: int64\n",
      "\n",
      "\n",
      "race\n",
      "African-American    1916\n",
      "Asian                 26\n",
      "Caucasian           1452\n",
      "Hispanic             355\n",
      "Native American        7\n",
      "Other                254\n",
      "dtype: int64\n",
      "\n",
      "\n",
      "\n",
      "\n",
      "Writing data to: data\\preprocessed\\propublica-violent-recidivism_original.csv\n",
      "Writing data to: data\\preprocessed\\propublica-violent-recidivism_numerical.csv\n",
      "Writing data to: data\\preprocessed\\propublica-violent-recidivism_numerical-binsensitive.csv\n",
      "Writing data to: data\\preprocessed\\propublica-violent-recidivism_categorical-binsensitive.csv\n"
     ]
    },
    {
     "name": "stderr",
     "output_type": "stream",
     "text": [
      "ERROR: Could not consume arg: -f\n",
      "Usage: ipykernel_launcher.py -\n",
      "\n",
      "For detailed information on this command, run:\n",
      "  ipykernel_launcher.py - --help\n"
     ]
    },
    {
     "ename": "FireExit",
     "evalue": "2",
     "output_type": "error",
     "traceback": [
      "An exception has occurred, use %tb to see the full traceback.\n",
      "\u001b[1;31mFireExit\u001b[0m\u001b[1;31m:\u001b[0m 2\n"
     ]
    }
   ],
   "source": [
    "preprocess.main()"
   ]
  },
  {
   "cell_type": "code",
   "execution_count": 20,
   "metadata": {},
   "outputs": [
    {
     "name": "stdout",
     "output_type": "stream",
     "text": [
      "\n",
      "Generating graphs for dataset:ricci\n",
      "    type:original\n",
      "Skipping graph containing no data:ricci_Race_original\n",
      "Skipping measures: sex-TPR sex-calibration-\n",
      "    type:numerical\n",
      "DIbinary accuracy\n",
      "Skipping measures: sex-TPR sex-calibration-\n",
      "    type:numerical-binsensitive\n",
      "DIbinary accuracy\n",
      "Skipping measures: sex-TPR sex-calibration-\n",
      "    type:categorical-binsensitive\n",
      "Skipping graph containing no data:ricci_Race_categorical-binsensitive\n",
      "Skipping measures: sex-TPR sex-calibration-\n",
      "\n",
      "Generating graphs for dataset:adult\n",
      "    type:original\n"
     ]
    },
    {
     "ename": "TypeError",
     "evalue": "can only concatenate str (not \"WindowsPath\") to str",
     "output_type": "error",
     "traceback": [
      "\u001b[1;31m---------------------------------------------------------------------------\u001b[0m",
      "\u001b[1;31mFileNotFoundError\u001b[0m                         Traceback (most recent call last)",
      "\u001b[1;32m~\\anaconda3\\lib\\site-packages\\fairness\\analysis.py\u001b[0m in \u001b[0;36mmake_all_graphs\u001b[1;34m(filename, graphs)\u001b[0m\n\u001b[0;32m     31\u001b[0m     \u001b[1;32mtry\u001b[0m\u001b[1;33m:\u001b[0m\u001b[1;33m\u001b[0m\u001b[1;33m\u001b[0m\u001b[0m\n\u001b[1;32m---> 32\u001b[1;33m        \u001b[0mf\u001b[0m \u001b[1;33m=\u001b[0m \u001b[0mpd\u001b[0m\u001b[1;33m.\u001b[0m\u001b[0mread_csv\u001b[0m\u001b[1;33m(\u001b[0m\u001b[0mfilename\u001b[0m\u001b[1;33m)\u001b[0m\u001b[1;33m\u001b[0m\u001b[1;33m\u001b[0m\u001b[0m\n\u001b[0m\u001b[0;32m     33\u001b[0m     \u001b[1;32mexcept\u001b[0m\u001b[1;33m:\u001b[0m\u001b[1;33m\u001b[0m\u001b[1;33m\u001b[0m\u001b[0m\n",
      "\u001b[1;32m~\\anaconda3\\lib\\site-packages\\pandas\\io\\parsers.py\u001b[0m in \u001b[0;36mparser_f\u001b[1;34m(filepath_or_buffer, sep, delimiter, header, names, index_col, usecols, squeeze, prefix, mangle_dupe_cols, dtype, engine, converters, true_values, false_values, skipinitialspace, skiprows, skipfooter, nrows, na_values, keep_default_na, na_filter, verbose, skip_blank_lines, parse_dates, infer_datetime_format, keep_date_col, date_parser, dayfirst, cache_dates, iterator, chunksize, compression, thousands, decimal, lineterminator, quotechar, quoting, doublequote, escapechar, comment, encoding, dialect, error_bad_lines, warn_bad_lines, delim_whitespace, low_memory, memory_map, float_precision)\u001b[0m\n\u001b[0;32m    675\u001b[0m \u001b[1;33m\u001b[0m\u001b[0m\n\u001b[1;32m--> 676\u001b[1;33m         \u001b[1;32mreturn\u001b[0m \u001b[0m_read\u001b[0m\u001b[1;33m(\u001b[0m\u001b[0mfilepath_or_buffer\u001b[0m\u001b[1;33m,\u001b[0m \u001b[0mkwds\u001b[0m\u001b[1;33m)\u001b[0m\u001b[1;33m\u001b[0m\u001b[1;33m\u001b[0m\u001b[0m\n\u001b[0m\u001b[0;32m    677\u001b[0m \u001b[1;33m\u001b[0m\u001b[0m\n",
      "\u001b[1;32m~\\anaconda3\\lib\\site-packages\\pandas\\io\\parsers.py\u001b[0m in \u001b[0;36m_read\u001b[1;34m(filepath_or_buffer, kwds)\u001b[0m\n\u001b[0;32m    447\u001b[0m     \u001b[1;31m# Create the parser.\u001b[0m\u001b[1;33m\u001b[0m\u001b[1;33m\u001b[0m\u001b[1;33m\u001b[0m\u001b[0m\n\u001b[1;32m--> 448\u001b[1;33m     \u001b[0mparser\u001b[0m \u001b[1;33m=\u001b[0m \u001b[0mTextFileReader\u001b[0m\u001b[1;33m(\u001b[0m\u001b[0mfp_or_buf\u001b[0m\u001b[1;33m,\u001b[0m \u001b[1;33m**\u001b[0m\u001b[0mkwds\u001b[0m\u001b[1;33m)\u001b[0m\u001b[1;33m\u001b[0m\u001b[1;33m\u001b[0m\u001b[0m\n\u001b[0m\u001b[0;32m    449\u001b[0m \u001b[1;33m\u001b[0m\u001b[0m\n",
      "\u001b[1;32m~\\anaconda3\\lib\\site-packages\\pandas\\io\\parsers.py\u001b[0m in \u001b[0;36m__init__\u001b[1;34m(self, f, engine, **kwds)\u001b[0m\n\u001b[0;32m    879\u001b[0m \u001b[1;33m\u001b[0m\u001b[0m\n\u001b[1;32m--> 880\u001b[1;33m         \u001b[0mself\u001b[0m\u001b[1;33m.\u001b[0m\u001b[0m_make_engine\u001b[0m\u001b[1;33m(\u001b[0m\u001b[0mself\u001b[0m\u001b[1;33m.\u001b[0m\u001b[0mengine\u001b[0m\u001b[1;33m)\u001b[0m\u001b[1;33m\u001b[0m\u001b[1;33m\u001b[0m\u001b[0m\n\u001b[0m\u001b[0;32m    881\u001b[0m \u001b[1;33m\u001b[0m\u001b[0m\n",
      "\u001b[1;32m~\\anaconda3\\lib\\site-packages\\pandas\\io\\parsers.py\u001b[0m in \u001b[0;36m_make_engine\u001b[1;34m(self, engine)\u001b[0m\n\u001b[0;32m   1113\u001b[0m         \u001b[1;32mif\u001b[0m \u001b[0mengine\u001b[0m \u001b[1;33m==\u001b[0m \u001b[1;34m\"c\"\u001b[0m\u001b[1;33m:\u001b[0m\u001b[1;33m\u001b[0m\u001b[1;33m\u001b[0m\u001b[0m\n\u001b[1;32m-> 1114\u001b[1;33m             \u001b[0mself\u001b[0m\u001b[1;33m.\u001b[0m\u001b[0m_engine\u001b[0m \u001b[1;33m=\u001b[0m \u001b[0mCParserWrapper\u001b[0m\u001b[1;33m(\u001b[0m\u001b[0mself\u001b[0m\u001b[1;33m.\u001b[0m\u001b[0mf\u001b[0m\u001b[1;33m,\u001b[0m \u001b[1;33m**\u001b[0m\u001b[0mself\u001b[0m\u001b[1;33m.\u001b[0m\u001b[0moptions\u001b[0m\u001b[1;33m)\u001b[0m\u001b[1;33m\u001b[0m\u001b[1;33m\u001b[0m\u001b[0m\n\u001b[0m\u001b[0;32m   1115\u001b[0m         \u001b[1;32melse\u001b[0m\u001b[1;33m:\u001b[0m\u001b[1;33m\u001b[0m\u001b[1;33m\u001b[0m\u001b[0m\n",
      "\u001b[1;32m~\\anaconda3\\lib\\site-packages\\pandas\\io\\parsers.py\u001b[0m in \u001b[0;36m__init__\u001b[1;34m(self, src, **kwds)\u001b[0m\n\u001b[0;32m   1890\u001b[0m \u001b[1;33m\u001b[0m\u001b[0m\n\u001b[1;32m-> 1891\u001b[1;33m         \u001b[0mself\u001b[0m\u001b[1;33m.\u001b[0m\u001b[0m_reader\u001b[0m \u001b[1;33m=\u001b[0m \u001b[0mparsers\u001b[0m\u001b[1;33m.\u001b[0m\u001b[0mTextReader\u001b[0m\u001b[1;33m(\u001b[0m\u001b[0msrc\u001b[0m\u001b[1;33m,\u001b[0m \u001b[1;33m**\u001b[0m\u001b[0mkwds\u001b[0m\u001b[1;33m)\u001b[0m\u001b[1;33m\u001b[0m\u001b[1;33m\u001b[0m\u001b[0m\n\u001b[0m\u001b[0;32m   1892\u001b[0m         \u001b[0mself\u001b[0m\u001b[1;33m.\u001b[0m\u001b[0munnamed_cols\u001b[0m \u001b[1;33m=\u001b[0m \u001b[0mself\u001b[0m\u001b[1;33m.\u001b[0m\u001b[0m_reader\u001b[0m\u001b[1;33m.\u001b[0m\u001b[0munnamed_cols\u001b[0m\u001b[1;33m\u001b[0m\u001b[1;33m\u001b[0m\u001b[0m\n",
      "\u001b[1;32mpandas\\_libs\\parsers.pyx\u001b[0m in \u001b[0;36mpandas._libs.parsers.TextReader.__cinit__\u001b[1;34m()\u001b[0m\n",
      "\u001b[1;32mpandas\\_libs\\parsers.pyx\u001b[0m in \u001b[0;36mpandas._libs.parsers.TextReader._setup_parser_source\u001b[1;34m()\u001b[0m\n",
      "\u001b[1;31mFileNotFoundError\u001b[0m: [Errno 2] File C:\\Users\\hatta\\.fairness\\results\\adult_race_original.csv does not exist: 'C:\\\\Users\\\\hatta\\\\.fairness\\\\results\\\\adult_race_original.csv'",
      "\nDuring handling of the above exception, another exception occurred:\n",
      "\u001b[1;31mTypeError\u001b[0m                                 Traceback (most recent call last)",
      "\u001b[1;32m<ipython-input-20-c62a08075ae3>\u001b[0m in \u001b[0;36m<module>\u001b[1;34m\u001b[0m\n\u001b[0;32m      1\u001b[0m \u001b[1;31m#analysis part\u001b[0m\u001b[1;33m\u001b[0m\u001b[1;33m\u001b[0m\u001b[1;33m\u001b[0m\u001b[0m\n\u001b[0;32m      2\u001b[0m \u001b[1;32mfrom\u001b[0m \u001b[0mfairness\u001b[0m \u001b[1;32mimport\u001b[0m \u001b[0manalysis\u001b[0m\u001b[1;33m\u001b[0m\u001b[1;33m\u001b[0m\u001b[0m\n\u001b[1;32m----> 3\u001b[1;33m \u001b[0manalysis\u001b[0m\u001b[1;33m.\u001b[0m\u001b[0mmain\u001b[0m\u001b[1;33m(\u001b[0m\u001b[1;33m)\u001b[0m\u001b[1;33m\u001b[0m\u001b[1;33m\u001b[0m\u001b[0m\n\u001b[0m\u001b[0;32m      4\u001b[0m \u001b[1;31m#AttributeError: module 'pandas' has no attribute 'tslib'\u001b[0m\u001b[1;33m\u001b[0m\u001b[1;33m\u001b[0m\u001b[1;33m\u001b[0m\u001b[0m\n\u001b[0;32m      5\u001b[0m \u001b[1;31m#the first error was regarding ggplot(?) and in connection to pandas lib, I had to change several things from the ggplot library's source code,\u001b[0m\u001b[1;33m\u001b[0m\u001b[1;33m\u001b[0m\u001b[1;33m\u001b[0m\u001b[0m\n",
      "\u001b[1;32m~\\anaconda3\\lib\\site-packages\\fairness\\analysis.py\u001b[0m in \u001b[0;36mmain\u001b[1;34m()\u001b[0m\n\u001b[0;32m     95\u001b[0m \u001b[1;33m\u001b[0m\u001b[0m\n\u001b[0;32m     96\u001b[0m \u001b[1;32mdef\u001b[0m \u001b[0mmain\u001b[0m\u001b[1;33m(\u001b[0m\u001b[1;33m)\u001b[0m\u001b[1;33m:\u001b[0m\u001b[1;33m\u001b[0m\u001b[1;33m\u001b[0m\u001b[0m\n\u001b[1;32m---> 97\u001b[1;33m     \u001b[0mfire\u001b[0m\u001b[1;33m.\u001b[0m\u001b[0mFire\u001b[0m\u001b[1;33m(\u001b[0m\u001b[0mrun\u001b[0m\u001b[1;33m)\u001b[0m\u001b[1;33m\u001b[0m\u001b[1;33m\u001b[0m\u001b[0m\n\u001b[0m\u001b[0;32m     98\u001b[0m \u001b[1;33m\u001b[0m\u001b[0m\n\u001b[0;32m     99\u001b[0m \u001b[1;32mif\u001b[0m \u001b[0m__name__\u001b[0m \u001b[1;33m==\u001b[0m \u001b[1;34m'__main__'\u001b[0m\u001b[1;33m:\u001b[0m\u001b[1;33m\u001b[0m\u001b[1;33m\u001b[0m\u001b[0m\n",
      "\u001b[1;32m~\\anaconda3\\lib\\site-packages\\fire\\core.py\u001b[0m in \u001b[0;36mFire\u001b[1;34m(component, command, name)\u001b[0m\n\u001b[0;32m    136\u001b[0m     \u001b[0mcontext\u001b[0m\u001b[1;33m.\u001b[0m\u001b[0mupdate\u001b[0m\u001b[1;33m(\u001b[0m\u001b[0mcaller_locals\u001b[0m\u001b[1;33m)\u001b[0m\u001b[1;33m\u001b[0m\u001b[1;33m\u001b[0m\u001b[0m\n\u001b[0;32m    137\u001b[0m \u001b[1;33m\u001b[0m\u001b[0m\n\u001b[1;32m--> 138\u001b[1;33m   \u001b[0mcomponent_trace\u001b[0m \u001b[1;33m=\u001b[0m \u001b[0m_Fire\u001b[0m\u001b[1;33m(\u001b[0m\u001b[0mcomponent\u001b[0m\u001b[1;33m,\u001b[0m \u001b[0margs\u001b[0m\u001b[1;33m,\u001b[0m \u001b[0mparsed_flag_args\u001b[0m\u001b[1;33m,\u001b[0m \u001b[0mcontext\u001b[0m\u001b[1;33m,\u001b[0m \u001b[0mname\u001b[0m\u001b[1;33m)\u001b[0m\u001b[1;33m\u001b[0m\u001b[1;33m\u001b[0m\u001b[0m\n\u001b[0m\u001b[0;32m    139\u001b[0m \u001b[1;33m\u001b[0m\u001b[0m\n\u001b[0;32m    140\u001b[0m   \u001b[1;32mif\u001b[0m \u001b[0mcomponent_trace\u001b[0m\u001b[1;33m.\u001b[0m\u001b[0mHasError\u001b[0m\u001b[1;33m(\u001b[0m\u001b[1;33m)\u001b[0m\u001b[1;33m:\u001b[0m\u001b[1;33m\u001b[0m\u001b[1;33m\u001b[0m\u001b[0m\n",
      "\u001b[1;32m~\\anaconda3\\lib\\site-packages\\fire\\core.py\u001b[0m in \u001b[0;36m_Fire\u001b[1;34m(component, args, parsed_flag_args, context, name)\u001b[0m\n\u001b[0;32m    461\u001b[0m \u001b[1;33m\u001b[0m\u001b[0m\n\u001b[0;32m    462\u001b[0m       \u001b[1;32mtry\u001b[0m\u001b[1;33m:\u001b[0m\u001b[1;33m\u001b[0m\u001b[1;33m\u001b[0m\u001b[0m\n\u001b[1;32m--> 463\u001b[1;33m         component, remaining_args = _CallAndUpdateTrace(\n\u001b[0m\u001b[0;32m    464\u001b[0m             \u001b[0mcomponent\u001b[0m\u001b[1;33m,\u001b[0m\u001b[1;33m\u001b[0m\u001b[1;33m\u001b[0m\u001b[0m\n\u001b[0;32m    465\u001b[0m             \u001b[0mremaining_args\u001b[0m\u001b[1;33m,\u001b[0m\u001b[1;33m\u001b[0m\u001b[1;33m\u001b[0m\u001b[0m\n",
      "\u001b[1;32m~\\anaconda3\\lib\\site-packages\\fire\\core.py\u001b[0m in \u001b[0;36m_CallAndUpdateTrace\u001b[1;34m(component, args, component_trace, treatment, target)\u001b[0m\n\u001b[0;32m    670\u001b[0m   \u001b[0mparse\u001b[0m \u001b[1;33m=\u001b[0m \u001b[0m_MakeParseFn\u001b[0m\u001b[1;33m(\u001b[0m\u001b[0mfn\u001b[0m\u001b[1;33m,\u001b[0m \u001b[0mmetadata\u001b[0m\u001b[1;33m)\u001b[0m\u001b[1;33m\u001b[0m\u001b[1;33m\u001b[0m\u001b[0m\n\u001b[0;32m    671\u001b[0m   \u001b[1;33m(\u001b[0m\u001b[0mvarargs\u001b[0m\u001b[1;33m,\u001b[0m \u001b[0mkwargs\u001b[0m\u001b[1;33m)\u001b[0m\u001b[1;33m,\u001b[0m \u001b[0mconsumed_args\u001b[0m\u001b[1;33m,\u001b[0m \u001b[0mremaining_args\u001b[0m\u001b[1;33m,\u001b[0m \u001b[0mcapacity\u001b[0m \u001b[1;33m=\u001b[0m \u001b[0mparse\u001b[0m\u001b[1;33m(\u001b[0m\u001b[0margs\u001b[0m\u001b[1;33m)\u001b[0m\u001b[1;33m\u001b[0m\u001b[1;33m\u001b[0m\u001b[0m\n\u001b[1;32m--> 672\u001b[1;33m   \u001b[0mcomponent\u001b[0m \u001b[1;33m=\u001b[0m \u001b[0mfn\u001b[0m\u001b[1;33m(\u001b[0m\u001b[1;33m*\u001b[0m\u001b[0mvarargs\u001b[0m\u001b[1;33m,\u001b[0m \u001b[1;33m**\u001b[0m\u001b[0mkwargs\u001b[0m\u001b[1;33m)\u001b[0m\u001b[1;33m\u001b[0m\u001b[1;33m\u001b[0m\u001b[0m\n\u001b[0m\u001b[0;32m    673\u001b[0m \u001b[1;33m\u001b[0m\u001b[0m\n\u001b[0;32m    674\u001b[0m   \u001b[1;32mif\u001b[0m \u001b[0mtreatment\u001b[0m \u001b[1;33m==\u001b[0m \u001b[1;34m'class'\u001b[0m\u001b[1;33m:\u001b[0m\u001b[1;33m\u001b[0m\u001b[1;33m\u001b[0m\u001b[0m\n",
      "\u001b[1;32m~\\anaconda3\\lib\\site-packages\\fairness\\analysis.py\u001b[0m in \u001b[0;36mrun\u001b[1;34m(dataset, graphs)\u001b[0m\n\u001b[0;32m     23\u001b[0m                 \u001b[0mprint\u001b[0m\u001b[1;33m(\u001b[0m\u001b[1;34m\"    type:\"\u001b[0m \u001b[1;33m+\u001b[0m \u001b[0mtag\u001b[0m\u001b[1;33m)\u001b[0m\u001b[1;33m\u001b[0m\u001b[1;33m\u001b[0m\u001b[0m\n\u001b[0;32m     24\u001b[0m                 \u001b[0mfilename\u001b[0m \u001b[1;33m=\u001b[0m \u001b[0mdataset_obj\u001b[0m\u001b[1;33m.\u001b[0m\u001b[0mget_results_filename\u001b[0m\u001b[1;33m(\u001b[0m\u001b[0msensitive\u001b[0m\u001b[1;33m,\u001b[0m \u001b[0mtag\u001b[0m\u001b[1;33m)\u001b[0m\u001b[1;33m\u001b[0m\u001b[1;33m\u001b[0m\u001b[0m\n\u001b[1;32m---> 25\u001b[1;33m                 \u001b[0mmake_all_graphs\u001b[0m\u001b[1;33m(\u001b[0m\u001b[0mfilename\u001b[0m\u001b[1;33m,\u001b[0m \u001b[0mgraphs\u001b[0m\u001b[1;33m)\u001b[0m\u001b[1;33m\u001b[0m\u001b[1;33m\u001b[0m\u001b[0m\n\u001b[0m\u001b[0;32m     26\u001b[0m     \u001b[0mprint\u001b[0m\u001b[1;33m(\u001b[0m\u001b[1;34m\"Generating additional figures in R...\"\u001b[0m\u001b[1;33m)\u001b[0m\u001b[1;33m\u001b[0m\u001b[1;33m\u001b[0m\u001b[0m\n\u001b[0;32m     27\u001b[0m     subprocess.run([\"Rscript\",\n",
      "\u001b[1;32m~\\anaconda3\\lib\\site-packages\\fairness\\analysis.py\u001b[0m in \u001b[0;36mmake_all_graphs\u001b[1;34m(filename, graphs)\u001b[0m\n\u001b[0;32m     32\u001b[0m        \u001b[0mf\u001b[0m \u001b[1;33m=\u001b[0m \u001b[0mpd\u001b[0m\u001b[1;33m.\u001b[0m\u001b[0mread_csv\u001b[0m\u001b[1;33m(\u001b[0m\u001b[0mfilename\u001b[0m\u001b[1;33m)\u001b[0m\u001b[1;33m\u001b[0m\u001b[1;33m\u001b[0m\u001b[0m\n\u001b[0;32m     33\u001b[0m     \u001b[1;32mexcept\u001b[0m\u001b[1;33m:\u001b[0m\u001b[1;33m\u001b[0m\u001b[1;33m\u001b[0m\u001b[0m\n\u001b[1;32m---> 34\u001b[1;33m        \u001b[0mprint\u001b[0m\u001b[1;33m(\u001b[0m\u001b[1;34m\"File not found:\"\u001b[0m \u001b[1;33m+\u001b[0m \u001b[0mfilename\u001b[0m\u001b[1;33m)\u001b[0m\u001b[1;33m\u001b[0m\u001b[1;33m\u001b[0m\u001b[0m\n\u001b[0m\u001b[0;32m     35\u001b[0m        \u001b[1;32mreturn\u001b[0m\u001b[1;33m\u001b[0m\u001b[1;33m\u001b[0m\u001b[0m\n\u001b[0;32m     36\u001b[0m     \u001b[1;32melse\u001b[0m\u001b[1;33m:\u001b[0m\u001b[1;33m\u001b[0m\u001b[1;33m\u001b[0m\u001b[0m\n",
      "\u001b[1;31mTypeError\u001b[0m: can only concatenate str (not \"WindowsPath\") to str"
     ]
    }
   ],
   "source": [
    "#analysis part\n",
    "from fairness import analysis\n",
    "analysis.main()\n",
    "#AttributeError: module 'pandas' has no attribute 'tslib' \n",
    "#the first error was regarding ggplot(?) and in connection to pandas lib, I had to change several things from the ggplot library's source code, \n",
    "#some of the recommendations was using plotnine instead of ggplot, but I do not wish to invest time in changing the plotting of this project.\n",
    "#but then I got another error:TypeError: can only concatenate str (not \"WindowsPath\") to str \n",
    "#it is buggy? >> https://github.com/takluyver/bookbook/issues/19"
   ]
  },
  {
   "cell_type": "code",
   "execution_count": 2,
   "metadata": {},
   "outputs": [
    {
     "name": "stdout",
     "output_type": "stream",
     "text": [
      "    type:original\n",
      "    type:numerical\n",
      "    type:numerical-binsensitive\n",
      "    type:categorical-binsensitive\n",
      "    type:original\n",
      "    type:numerical\n",
      "    type:numerical-binsensitive\n",
      "    type:categorical-binsensitive\n",
      "    type:original\n",
      "    type:numerical\n",
      "    type:numerical-binsensitive\n",
      "    type:categorical-binsensitive\n",
      "results/LR-accuracy_adult_race_original.csv\n"
     ]
    },
    {
     "ename": "FileNotFoundError",
     "evalue": "[Errno 2] File results/LR-accuracy_adult_race_original.csv does not exist: 'results/LR-accuracy_adult_race_original.csv'",
     "output_type": "error",
     "traceback": [
      "\u001b[1;31m---------------------------------------------------------------------------\u001b[0m",
      "\u001b[1;31mFileNotFoundError\u001b[0m                         Traceback (most recent call last)",
      "\u001b[1;32m<ipython-input-2-79a4d52e273f>\u001b[0m in \u001b[0;36m<module>\u001b[1;34m\u001b[0m\n\u001b[0;32m      2\u001b[0m \u001b[1;31m#when I pass the alg. name with the actual function run(), I get another error that is not related to me: TypeError: 'str' object cannot be interpreted as an integer\u001b[0m\u001b[1;33m\u001b[0m\u001b[1;33m\u001b[0m\u001b[1;33m\u001b[0m\u001b[0m\n\u001b[0;32m      3\u001b[0m \u001b[1;32mfrom\u001b[0m \u001b[0mfairness\u001b[0m \u001b[1;32mimport\u001b[0m \u001b[0mget_best_split\u001b[0m\u001b[1;33m\u001b[0m\u001b[1;33m\u001b[0m\u001b[0m\n\u001b[1;32m----> 4\u001b[1;33m \u001b[0mget_best_split\u001b[0m\u001b[1;33m.\u001b[0m\u001b[0mmain\u001b[0m\u001b[1;33m(\u001b[0m\u001b[0mget_best_split\u001b[0m\u001b[1;33m.\u001b[0m\u001b[0mrun\u001b[0m\u001b[1;33m(\u001b[0m\u001b[1;34m'LR'\u001b[0m\u001b[1;33m)\u001b[0m\u001b[1;33m)\u001b[0m\u001b[1;33m\u001b[0m\u001b[1;33m\u001b[0m\u001b[0m\n\u001b[0m",
      "\u001b[1;32m~\\anaconda3\\lib\\site-packages\\fairness\\get_best_split.py\u001b[0m in \u001b[0;36mrun\u001b[1;34m(algname, data, measure)\u001b[0m\n\u001b[0;32m     11\u001b[0m         \u001b[0mout\u001b[0m \u001b[1;33m=\u001b[0m \u001b[0mopen\u001b[0m\u001b[1;33m(\u001b[0m\u001b[0moutfile\u001b[0m\u001b[1;33m,\u001b[0m \u001b[1;34m'w'\u001b[0m\u001b[1;33m)\u001b[0m\u001b[1;33m\u001b[0m\u001b[1;33m\u001b[0m\u001b[0m\n\u001b[0;32m     12\u001b[0m         \u001b[0mprint\u001b[0m\u001b[1;33m(\u001b[0m\u001b[0mfilename\u001b[0m\u001b[1;33m)\u001b[0m\u001b[1;33m\u001b[0m\u001b[1;33m\u001b[0m\u001b[0m\n\u001b[1;32m---> 13\u001b[1;33m         \u001b[0mf\u001b[0m \u001b[1;33m=\u001b[0m \u001b[0mpd\u001b[0m\u001b[1;33m.\u001b[0m\u001b[0mread_csv\u001b[0m\u001b[1;33m(\u001b[0m\u001b[0mfilename\u001b[0m\u001b[1;33m)\u001b[0m\u001b[1;33m\u001b[0m\u001b[1;33m\u001b[0m\u001b[0m\n\u001b[0m\u001b[0;32m     14\u001b[0m         \u001b[1;32mtry\u001b[0m\u001b[1;33m:\u001b[0m\u001b[1;33m\u001b[0m\u001b[1;33m\u001b[0m\u001b[0m\n\u001b[0;32m     15\u001b[0m             \u001b[0mparams\u001b[0m \u001b[1;33m=\u001b[0m \u001b[0mf\u001b[0m\u001b[1;33m[\u001b[0m\u001b[1;34m'params'\u001b[0m\u001b[1;33m]\u001b[0m\u001b[1;33m[\u001b[0m\u001b[1;36m0\u001b[0m\u001b[1;33m]\u001b[0m\u001b[1;33m\u001b[0m\u001b[1;33m\u001b[0m\u001b[0m\n",
      "\u001b[1;32m~\\anaconda3\\lib\\site-packages\\pandas\\io\\parsers.py\u001b[0m in \u001b[0;36mparser_f\u001b[1;34m(filepath_or_buffer, sep, delimiter, header, names, index_col, usecols, squeeze, prefix, mangle_dupe_cols, dtype, engine, converters, true_values, false_values, skipinitialspace, skiprows, skipfooter, nrows, na_values, keep_default_na, na_filter, verbose, skip_blank_lines, parse_dates, infer_datetime_format, keep_date_col, date_parser, dayfirst, cache_dates, iterator, chunksize, compression, thousands, decimal, lineterminator, quotechar, quoting, doublequote, escapechar, comment, encoding, dialect, error_bad_lines, warn_bad_lines, delim_whitespace, low_memory, memory_map, float_precision)\u001b[0m\n\u001b[0;32m    674\u001b[0m         )\n\u001b[0;32m    675\u001b[0m \u001b[1;33m\u001b[0m\u001b[0m\n\u001b[1;32m--> 676\u001b[1;33m         \u001b[1;32mreturn\u001b[0m \u001b[0m_read\u001b[0m\u001b[1;33m(\u001b[0m\u001b[0mfilepath_or_buffer\u001b[0m\u001b[1;33m,\u001b[0m \u001b[0mkwds\u001b[0m\u001b[1;33m)\u001b[0m\u001b[1;33m\u001b[0m\u001b[1;33m\u001b[0m\u001b[0m\n\u001b[0m\u001b[0;32m    677\u001b[0m \u001b[1;33m\u001b[0m\u001b[0m\n\u001b[0;32m    678\u001b[0m     \u001b[0mparser_f\u001b[0m\u001b[1;33m.\u001b[0m\u001b[0m__name__\u001b[0m \u001b[1;33m=\u001b[0m \u001b[0mname\u001b[0m\u001b[1;33m\u001b[0m\u001b[1;33m\u001b[0m\u001b[0m\n",
      "\u001b[1;32m~\\anaconda3\\lib\\site-packages\\pandas\\io\\parsers.py\u001b[0m in \u001b[0;36m_read\u001b[1;34m(filepath_or_buffer, kwds)\u001b[0m\n\u001b[0;32m    446\u001b[0m \u001b[1;33m\u001b[0m\u001b[0m\n\u001b[0;32m    447\u001b[0m     \u001b[1;31m# Create the parser.\u001b[0m\u001b[1;33m\u001b[0m\u001b[1;33m\u001b[0m\u001b[1;33m\u001b[0m\u001b[0m\n\u001b[1;32m--> 448\u001b[1;33m     \u001b[0mparser\u001b[0m \u001b[1;33m=\u001b[0m \u001b[0mTextFileReader\u001b[0m\u001b[1;33m(\u001b[0m\u001b[0mfp_or_buf\u001b[0m\u001b[1;33m,\u001b[0m \u001b[1;33m**\u001b[0m\u001b[0mkwds\u001b[0m\u001b[1;33m)\u001b[0m\u001b[1;33m\u001b[0m\u001b[1;33m\u001b[0m\u001b[0m\n\u001b[0m\u001b[0;32m    449\u001b[0m \u001b[1;33m\u001b[0m\u001b[0m\n\u001b[0;32m    450\u001b[0m     \u001b[1;32mif\u001b[0m \u001b[0mchunksize\u001b[0m \u001b[1;32mor\u001b[0m \u001b[0miterator\u001b[0m\u001b[1;33m:\u001b[0m\u001b[1;33m\u001b[0m\u001b[1;33m\u001b[0m\u001b[0m\n",
      "\u001b[1;32m~\\anaconda3\\lib\\site-packages\\pandas\\io\\parsers.py\u001b[0m in \u001b[0;36m__init__\u001b[1;34m(self, f, engine, **kwds)\u001b[0m\n\u001b[0;32m    878\u001b[0m             \u001b[0mself\u001b[0m\u001b[1;33m.\u001b[0m\u001b[0moptions\u001b[0m\u001b[1;33m[\u001b[0m\u001b[1;34m\"has_index_names\"\u001b[0m\u001b[1;33m]\u001b[0m \u001b[1;33m=\u001b[0m \u001b[0mkwds\u001b[0m\u001b[1;33m[\u001b[0m\u001b[1;34m\"has_index_names\"\u001b[0m\u001b[1;33m]\u001b[0m\u001b[1;33m\u001b[0m\u001b[1;33m\u001b[0m\u001b[0m\n\u001b[0;32m    879\u001b[0m \u001b[1;33m\u001b[0m\u001b[0m\n\u001b[1;32m--> 880\u001b[1;33m         \u001b[0mself\u001b[0m\u001b[1;33m.\u001b[0m\u001b[0m_make_engine\u001b[0m\u001b[1;33m(\u001b[0m\u001b[0mself\u001b[0m\u001b[1;33m.\u001b[0m\u001b[0mengine\u001b[0m\u001b[1;33m)\u001b[0m\u001b[1;33m\u001b[0m\u001b[1;33m\u001b[0m\u001b[0m\n\u001b[0m\u001b[0;32m    881\u001b[0m \u001b[1;33m\u001b[0m\u001b[0m\n\u001b[0;32m    882\u001b[0m     \u001b[1;32mdef\u001b[0m \u001b[0mclose\u001b[0m\u001b[1;33m(\u001b[0m\u001b[0mself\u001b[0m\u001b[1;33m)\u001b[0m\u001b[1;33m:\u001b[0m\u001b[1;33m\u001b[0m\u001b[1;33m\u001b[0m\u001b[0m\n",
      "\u001b[1;32m~\\anaconda3\\lib\\site-packages\\pandas\\io\\parsers.py\u001b[0m in \u001b[0;36m_make_engine\u001b[1;34m(self, engine)\u001b[0m\n\u001b[0;32m   1112\u001b[0m     \u001b[1;32mdef\u001b[0m \u001b[0m_make_engine\u001b[0m\u001b[1;33m(\u001b[0m\u001b[0mself\u001b[0m\u001b[1;33m,\u001b[0m \u001b[0mengine\u001b[0m\u001b[1;33m=\u001b[0m\u001b[1;34m\"c\"\u001b[0m\u001b[1;33m)\u001b[0m\u001b[1;33m:\u001b[0m\u001b[1;33m\u001b[0m\u001b[1;33m\u001b[0m\u001b[0m\n\u001b[0;32m   1113\u001b[0m         \u001b[1;32mif\u001b[0m \u001b[0mengine\u001b[0m \u001b[1;33m==\u001b[0m \u001b[1;34m\"c\"\u001b[0m\u001b[1;33m:\u001b[0m\u001b[1;33m\u001b[0m\u001b[1;33m\u001b[0m\u001b[0m\n\u001b[1;32m-> 1114\u001b[1;33m             \u001b[0mself\u001b[0m\u001b[1;33m.\u001b[0m\u001b[0m_engine\u001b[0m \u001b[1;33m=\u001b[0m \u001b[0mCParserWrapper\u001b[0m\u001b[1;33m(\u001b[0m\u001b[0mself\u001b[0m\u001b[1;33m.\u001b[0m\u001b[0mf\u001b[0m\u001b[1;33m,\u001b[0m \u001b[1;33m**\u001b[0m\u001b[0mself\u001b[0m\u001b[1;33m.\u001b[0m\u001b[0moptions\u001b[0m\u001b[1;33m)\u001b[0m\u001b[1;33m\u001b[0m\u001b[1;33m\u001b[0m\u001b[0m\n\u001b[0m\u001b[0;32m   1115\u001b[0m         \u001b[1;32melse\u001b[0m\u001b[1;33m:\u001b[0m\u001b[1;33m\u001b[0m\u001b[1;33m\u001b[0m\u001b[0m\n\u001b[0;32m   1116\u001b[0m             \u001b[1;32mif\u001b[0m \u001b[0mengine\u001b[0m \u001b[1;33m==\u001b[0m \u001b[1;34m\"python\"\u001b[0m\u001b[1;33m:\u001b[0m\u001b[1;33m\u001b[0m\u001b[1;33m\u001b[0m\u001b[0m\n",
      "\u001b[1;32m~\\anaconda3\\lib\\site-packages\\pandas\\io\\parsers.py\u001b[0m in \u001b[0;36m__init__\u001b[1;34m(self, src, **kwds)\u001b[0m\n\u001b[0;32m   1889\u001b[0m         \u001b[0mkwds\u001b[0m\u001b[1;33m[\u001b[0m\u001b[1;34m\"usecols\"\u001b[0m\u001b[1;33m]\u001b[0m \u001b[1;33m=\u001b[0m \u001b[0mself\u001b[0m\u001b[1;33m.\u001b[0m\u001b[0musecols\u001b[0m\u001b[1;33m\u001b[0m\u001b[1;33m\u001b[0m\u001b[0m\n\u001b[0;32m   1890\u001b[0m \u001b[1;33m\u001b[0m\u001b[0m\n\u001b[1;32m-> 1891\u001b[1;33m         \u001b[0mself\u001b[0m\u001b[1;33m.\u001b[0m\u001b[0m_reader\u001b[0m \u001b[1;33m=\u001b[0m \u001b[0mparsers\u001b[0m\u001b[1;33m.\u001b[0m\u001b[0mTextReader\u001b[0m\u001b[1;33m(\u001b[0m\u001b[0msrc\u001b[0m\u001b[1;33m,\u001b[0m \u001b[1;33m**\u001b[0m\u001b[0mkwds\u001b[0m\u001b[1;33m)\u001b[0m\u001b[1;33m\u001b[0m\u001b[1;33m\u001b[0m\u001b[0m\n\u001b[0m\u001b[0;32m   1892\u001b[0m         \u001b[0mself\u001b[0m\u001b[1;33m.\u001b[0m\u001b[0munnamed_cols\u001b[0m \u001b[1;33m=\u001b[0m \u001b[0mself\u001b[0m\u001b[1;33m.\u001b[0m\u001b[0m_reader\u001b[0m\u001b[1;33m.\u001b[0m\u001b[0munnamed_cols\u001b[0m\u001b[1;33m\u001b[0m\u001b[1;33m\u001b[0m\u001b[0m\n\u001b[0;32m   1893\u001b[0m \u001b[1;33m\u001b[0m\u001b[0m\n",
      "\u001b[1;32mpandas\\_libs\\parsers.pyx\u001b[0m in \u001b[0;36mpandas._libs.parsers.TextReader.__cinit__\u001b[1;34m()\u001b[0m\n",
      "\u001b[1;32mpandas\\_libs\\parsers.pyx\u001b[0m in \u001b[0;36mpandas._libs.parsers.TextReader._setup_parser_source\u001b[1;34m()\u001b[0m\n",
      "\u001b[1;31mFileNotFoundError\u001b[0m: [Errno 2] File results/LR-accuracy_adult_race_original.csv does not exist: 'results/LR-accuracy_adult_race_original.csv'"
     ]
    }
   ],
   "source": [
    "#problematic, because i cannot pass the algorithm name through main function, it runs fire() and fire function runs the function run(), which requires the algorithm's name\n",
    "#when I pass the alg. name with the actual function run(), I get another error that is not related to me: TypeError: 'str' object cannot be interpreted as an integer\n",
    "#in the source code (ProcessedData.py), i changed the variable num to int(num), then I got the current error about non-existing csv file.\n",
    "from fairness import get_best_split\n",
    "get_best_split.main(get_best_split.run('LR'))"
   ]
  },
  {
   "cell_type": "code",
   "execution_count": null,
   "metadata": {},
   "outputs": [],
   "source": []
  }
 ],
 "metadata": {
  "kernelspec": {
   "display_name": "Python 3",
   "language": "python",
   "name": "python3"
  },
  "language_info": {
   "codemirror_mode": {
    "name": "ipython",
    "version": 3
   },
   "file_extension": ".py",
   "mimetype": "text/x-python",
   "name": "python",
   "nbconvert_exporter": "python",
   "pygments_lexer": "ipython3",
   "version": "3.8.3"
  }
 },
 "nbformat": 4,
 "nbformat_minor": 2
}
