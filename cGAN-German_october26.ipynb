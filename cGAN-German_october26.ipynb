{
 "cells": [
  {
   "cell_type": "markdown",
   "id": "ac79d7f8",
   "metadata": {},
   "source": [
    "# cGAN Generate Synthetic Data for German Dataset"
   ]
  },
  {
   "cell_type": "markdown",
   "id": "92b45e15",
   "metadata": {},
   "source": [
    "CTGAN model is based on the GAN-based Deep Learning data synthesizer "
   ]
  },
  {
   "cell_type": "code",
   "execution_count": 1,
   "id": "856af8c5",
   "metadata": {
    "ExecuteTime": {
     "end_time": "2021-10-26T07:44:49.266101Z",
     "start_time": "2021-10-26T07:44:46.278632Z"
    }
   },
   "outputs": [],
   "source": [
    "from implementation_functions import *\n",
    "\n",
    "import six\n",
    "import sys\n",
    "sys.modules['sklearn.externals.six'] = six\n",
    "import mlrose\n",
    "\n",
    "import pandas as pd\n",
    "import numpy as np\n",
    "from prince import FAMD #Factor analysis of mixed data\n",
    "from aif360.metrics import BinaryLabelDatasetMetric\n",
    "from sklearn.model_selection import train_test_split\n",
    "from sklearn.metrics import silhouette_score\n",
    "import matplotlib.pyplot as plt\n",
    "import skfuzzy as fuzz"
   ]
  },
  {
   "cell_type": "code",
   "execution_count": 2,
   "id": "2b314eca",
   "metadata": {
    "ExecuteTime": {
     "end_time": "2021-10-26T07:44:52.810546Z",
     "start_time": "2021-10-26T07:44:52.727298Z"
    }
   },
   "outputs": [],
   "source": [
    "data_name = \"german\"\n",
    "dataset_orig, privileged_groups, unprivileged_groups = aif_data(data_name, False)"
   ]
  },
  {
   "cell_type": "code",
   "execution_count": 3,
   "id": "8eb32b9e",
   "metadata": {
    "ExecuteTime": {
     "end_time": "2021-10-26T07:44:53.430914Z",
     "start_time": "2021-10-26T07:44:53.427815Z"
    }
   },
   "outputs": [],
   "source": [
    "sens_attr = ['age', 'sex']\n",
    "decision_label = 'credit'\n",
    "fav_l = 1\n",
    "unfav_l = 0"
   ]
  },
  {
   "cell_type": "code",
   "execution_count": 4,
   "id": "849c64ff",
   "metadata": {
    "ExecuteTime": {
     "end_time": "2021-10-26T07:44:54.906706Z",
     "start_time": "2021-10-26T07:44:54.013486Z"
    }
   },
   "outputs": [
    {
     "data": {
      "text/plain": [
       "7    447\n",
       "6    158\n",
       "3    143\n",
       "2     62\n",
       "1     58\n",
       "5     52\n",
       "0     47\n",
       "4     33\n",
       "Name: sub_labels, dtype: int64"
      ]
     },
     "execution_count": 4,
     "metadata": {},
     "output_type": "execute_result"
    }
   ],
   "source": [
    "orig_df, num_list, cat_list = preprocess(dataset_orig, sens_attr, decision_label)\n",
    "\n",
    "# The list of sub-group sizes in the dataset (to monitor the dist. of sub-groups)\n",
    "orig_df['sub_labels'].value_counts()"
   ]
  },
  {
   "cell_type": "code",
   "execution_count": 5,
   "id": "f8725faa",
   "metadata": {
    "ExecuteTime": {
     "end_time": "2021-10-26T07:44:54.914690Z",
     "start_time": "2021-10-26T07:44:54.910767Z"
    }
   },
   "outputs": [
    {
     "name": "stdout",
     "output_type": "stream",
     "text": [
      "--- 3.147125244140625e-05 seconds ---\n"
     ]
    }
   ],
   "source": [
    "import time\n",
    "start_time = time.time()\n",
    "print(\"--- %s seconds ---\" % (time.time() - start_time))"
   ]
  },
  {
   "cell_type": "code",
   "execution_count": 6,
   "id": "50f3d0ac",
   "metadata": {
    "ExecuteTime": {
     "end_time": "2021-10-26T07:44:55.896833Z",
     "start_time": "2021-10-26T07:44:55.884001Z"
    }
   },
   "outputs": [],
   "source": [
    "# Train-test split WITH stratification\n",
    "X = orig_df.loc[:, orig_df.columns != decision_label]\n",
    "y = orig_df.loc[:, orig_df.columns == decision_label].values\n",
    "X_train, X_test, y_train, y_txest = train_test_split(X, y, test_size=0.30, \n",
    "                                                    shuffle=True,\n",
    "                                                    stratify=X['sub_labels'])"
   ]
  },
  {
   "cell_type": "code",
   "execution_count": 15,
   "id": "d0761873",
   "metadata": {
    "ExecuteTime": {
     "end_time": "2021-10-26T08:27:28.802700Z",
     "start_time": "2021-10-26T08:27:28.797890Z"
    }
   },
   "outputs": [],
   "source": [
    "X_train_new = X_train.drop(['age', 'sex', 'sub_labels'], axis=1)"
   ]
  },
  {
   "cell_type": "code",
   "execution_count": 14,
   "id": "d103e2aa",
   "metadata": {
    "ExecuteTime": {
     "end_time": "2021-10-26T08:25:57.940982Z",
     "start_time": "2021-10-26T08:25:57.936064Z"
    }
   },
   "outputs": [],
   "source": [
    "#X_train_new['class_labels'] = y_train"
   ]
  },
  {
   "cell_type": "markdown",
   "id": "cc56dfb8",
   "metadata": {},
   "source": [
    "# Here we start the GAN work"
   ]
  },
  {
   "cell_type": "code",
   "execution_count": null,
   "id": "fac29145",
   "metadata": {
    "ExecuteTime": {
     "end_time": "2021-10-25T19:11:42.234693Z",
     "start_time": "2021-10-25T19:11:42.069883Z"
    }
   },
   "outputs": [],
   "source": [
    "from sdv.tabular import CTGAN\n",
    "model = CTGAN()"
   ]
  },
  {
   "cell_type": "code",
   "execution_count": null,
   "id": "7e464930",
   "metadata": {
    "ExecuteTime": {
     "end_time": "2021-10-23T10:33:23.031840Z",
     "start_time": "2021-10-23T10:07:19.355116Z"
    }
   },
   "outputs": [],
   "source": [
    "from sdv.tabular import CTGAN\n",
    "model = CTGAN()\n",
    "start_time = time.time()\n",
    "model.fit(X_train)\n",
    "print(\"--- %s seconds ---\" % (time.time() - start_time))"
   ]
  },
  {
   "cell_type": "raw",
   "id": "2dc63dff",
   "metadata": {
    "ExecuteTime": {
     "end_time": "2021-10-22T19:52:31.095185Z",
     "start_time": "2021-10-22T19:52:31.076852Z"
    }
   },
   "source": [
    "model.save('my_fariness_German_V1.pkl')"
   ]
  },
  {
   "cell_type": "code",
   "execution_count": null,
   "id": "1f80bd18",
   "metadata": {
    "ExecuteTime": {
     "end_time": "2021-10-25T19:11:45.210886Z",
     "start_time": "2021-10-25T19:11:45.184537Z"
    }
   },
   "outputs": [],
   "source": [
    "loaded = CTGAN.load('my_fariness_German_V1.pkl')"
   ]
  },
  {
   "cell_type": "markdown",
   "id": "ccfc0003",
   "metadata": {},
   "source": [
    "Generating X_train, the following cell shows "
   ]
  },
  {
   "cell_type": "code",
   "execution_count": null,
   "id": "ef5e2706",
   "metadata": {
    "ExecuteTime": {
     "end_time": "2021-10-25T19:11:48.974617Z",
     "start_time": "2021-10-25T19:11:48.945680Z"
    }
   },
   "outputs": [],
   "source": [
    "available_rows = {}\n",
    "for row_count in range(8):\n",
    "    available_rows[row_count] = X_train[\"sub_labels\"].value_counts()[row_count]\n",
    "        \n",
    "target_rows = max(available_rows.values())\n",
    "max_label = max(available_rows, key=available_rows.get)\n",
    "print(target_rows)\n",
    "print(max_label)"
   ]
  },
  {
   "cell_type": "code",
   "execution_count": null,
   "id": "a020cc5f",
   "metadata": {
    "ExecuteTime": {
     "end_time": "2021-10-25T19:11:55.320956Z",
     "start_time": "2021-10-25T19:11:55.317992Z"
    }
   },
   "outputs": [],
   "source": [
    "main_df = pd.DataFrame()"
   ]
  },
  {
   "cell_type": "code",
   "execution_count": null,
   "id": "20cb9e2c",
   "metadata": {
    "ExecuteTime": {
     "end_time": "2021-10-25T19:13:16.256378Z",
     "start_time": "2021-10-25T19:11:57.155210Z"
    }
   },
   "outputs": [],
   "source": [
    "for key, value in available_rows.items():\n",
    "    if int(key) != int(max_label):\n",
    "        conditions = {\n",
    "            \"sub_labels\" : int(key),\n",
    "        }\n",
    "        needed_rows = target_rows - value\n",
    "        main_df = pd.concat([main_df, loaded.sample(needed_rows, conditions=conditions)])\n",
    "        \n",
    "print(len(main_df.index))"
   ]
  },
  {
   "cell_type": "code",
   "execution_count": null,
   "id": "868207e8",
   "metadata": {
    "ExecuteTime": {
     "end_time": "2021-10-25T19:13:27.457751Z",
     "start_time": "2021-10-25T19:13:27.391520Z"
    }
   },
   "outputs": [],
   "source": [
    "main_df"
   ]
  },
  {
   "cell_type": "raw",
   "id": "8d9a2bfe",
   "metadata": {},
   "source": [
    "concatanate the y_test as a new column with the name 'class_labels' to main_df"
   ]
  },
  {
   "cell_type": "code",
   "execution_count": null,
   "id": "d74a2a62",
   "metadata": {
    "ExecuteTime": {
     "end_time": "2021-10-25T19:14:01.633346Z",
     "start_time": "2021-10-25T19:14:01.626120Z"
    }
   },
   "outputs": [],
   "source": [
    "print(type(main_df))"
   ]
  },
  {
   "cell_type": "code",
   "execution_count": null,
   "id": "344cb831",
   "metadata": {
    "ExecuteTime": {
     "end_time": "2021-10-22T19:59:49.559929Z",
     "start_time": "2021-10-22T19:59:49.444081Z"
    }
   },
   "outputs": [],
   "source": [
    "main_df.to_csv('german_synth.csv', index = False, header=True)"
   ]
  },
  {
   "cell_type": "markdown",
   "id": "bcb3c0ad",
   "metadata": {},
   "source": [
    "not to use any of the sensetive attributes ...trying to be blind by not using any of these obvious attributes ... we delete the sent att .. but still there is bias. Deleting them, will not remove the bias, but as a first step we are tryring to delete the traces of bias by deleteing sent and the techq"
   ]
  },
  {
   "cell_type": "code",
   "execution_count": null,
   "id": "db0cfa39",
   "metadata": {
    "ExecuteTime": {
     "end_time": "2021-10-25T19:17:28.857203Z",
     "start_time": "2021-10-25T19:17:28.825775Z"
    }
   },
   "outputs": [],
   "source": [
    "# Keep the subgroup labels to append them back later\n",
    "keep_sub_l = X_train['sub_labels']\n",
    "\n",
    "# Required drops for the GERMAN dataset (THIS DF CREATION IS A MUST)\n",
    "X_train_new = X_train.drop(['age', 'sex', 'sub_labels'], axis=1)\n",
    "\n",
    "# Get the idx of categ and numeric columns again due to the column drops above\n",
    "num_list, cat_list = type_lists(X_train_new)"
   ]
  },
  {
   "cell_type": "code",
   "execution_count": null,
   "id": "1e25dd98",
   "metadata": {
    "ExecuteTime": {
     "end_time": "2021-10-25T19:17:33.662948Z",
     "start_time": "2021-10-25T19:17:32.913553Z"
    }
   },
   "outputs": [],
   "source": [
    "# Type the desired classifier to train the classification models with model obj\n",
    "clf = GradientBoostingClassifier()\n",
    "baseline_stats, cm, ratio_table, preds = baseline_metrics(clf, X_train, X_test, \n",
    "                                                  y_train, y_test, sens_attr, \n",
    "                                                  fav_l, unfav_l)"
   ]
  },
  {
   "cell_type": "code",
   "execution_count": null,
   "id": "fabc71c5",
   "metadata": {
    "ExecuteTime": {
     "end_time": "2021-10-25T09:05:07.489517Z",
     "start_time": "2021-10-25T09:05:07.433877Z"
    }
   },
   "outputs": [],
   "source": [
    "X_train_new"
   ]
  },
  {
   "cell_type": "raw",
   "id": "2352f4d0",
   "metadata": {
    "ExecuteTime": {
     "end_time": "2021-10-25T09:05:32.333904Z",
     "start_time": "2021-10-25T09:05:29.787053Z"
    }
   },
   "source": [
    "# Dimensionality reduction for big datasets with FAMD\n",
    "X_train_new['sub_labels'] = keep_sub_l\n",
    "\n",
    "famd = FAMD(n_components=2, random_state = 42)\n",
    "famd.fit(X_train_new.drop('sub_labels', axis=1))\n",
    "X_train_reduc = famd.transform(X_train_new)\n",
    "#plotting the reduced dimensions\n",
    "ax = famd.plot_row_coordinates(X_train_new, \n",
    "                                 color_labels=['sub-labels {}'.format(t) for t in X_train_new['sub_labels']])\n",
    "# X_train_red = famd.partial_row_coordinates(X_train_new)\n",
    "# famd.explained_inertia_\n",
    "# ax = famd.plot_partial_row_coordinates(X_train_new, \n",
    "#                                         color_labels=['sub-labels {}'.format(t) for t in X_train_new['sub_labels']])\n",
    "                               \n",
    "# Delete the subgroup label column again if dimensionality reduction is used\n",
    "X_train_new = X_train_new.drop(['sub_labels'], axis=1)"
   ]
  },
  {
   "cell_type": "code",
   "execution_count": null,
   "id": "1bf06d59",
   "metadata": {
    "ExecuteTime": {
     "end_time": "2021-10-25T19:17:58.266084Z",
     "start_time": "2021-10-25T19:17:57.377220Z"
    }
   },
   "outputs": [],
   "source": [
    "clf = RandomForestClassifier()   \n",
    "baseline_stats, cm, ratio_table, preds = baseline_metrics(clf, X_train, X_test, \n",
    "                                                  y_train, y_test, sens_attr, \n",
    "                                                  fav_l, unfav_l)"
   ]
  },
  {
   "cell_type": "markdown",
   "id": "88c6cfa6",
   "metadata": {},
   "source": [
    "-str2: clusters membership-->each sample for cluster.. \n",
    "-str3: all of the clusters, each trained clusters * pp"
   ]
  },
  {
   "cell_type": "raw",
   "id": "9778333a",
   "metadata": {
    "ExecuteTime": {
     "end_time": "2021-10-25T08:42:18.129203Z",
     "start_time": "2021-10-25T08:42:18.117983Z"
    }
   },
   "source": [
    "print(baseline_stats)"
   ]
  },
  {
   "cell_type": "code",
   "execution_count": null,
   "id": "d87c9946",
   "metadata": {
    "ExecuteTime": {
     "end_time": "2021-10-25T16:27:40.122110Z",
     "start_time": "2021-10-25T16:27:40.118236Z"
    }
   },
   "outputs": [],
   "source": [
    "print(type(main_df))"
   ]
  },
  {
   "cell_type": "code",
   "execution_count": null,
   "id": "5bfc1062",
   "metadata": {
    "ExecuteTime": {
     "end_time": "2021-10-25T19:10:08.624293Z",
     "start_time": "2021-10-25T19:10:08.617453Z"
    }
   },
   "outputs": [],
   "source": [
    "print(type(X_test))"
   ]
  },
  {
   "cell_type": "code",
   "execution_count": null,
   "id": "069bb852",
   "metadata": {
    "ExecuteTime": {
     "end_time": "2021-10-25T13:12:39.421975Z",
     "start_time": "2021-10-25T13:12:39.419379Z"
    }
   },
   "outputs": [],
   "source": [
    "print(type(clf))"
   ]
  },
  {
   "cell_type": "code",
   "execution_count": null,
   "id": "f2bcf694",
   "metadata": {
    "ExecuteTime": {
     "end_time": "2021-10-25T13:11:37.645171Z",
     "start_time": "2021-10-25T13:11:37.634991Z"
    }
   },
   "outputs": [],
   "source": [
    "print(ratio_table)"
   ]
  },
  {
   "cell_type": "code",
   "execution_count": null,
   "id": "14075cea",
   "metadata": {
    "ExecuteTime": {
     "end_time": "2021-10-25T19:18:28.630256Z",
     "start_time": "2021-10-25T19:18:28.605958Z"
    }
   },
   "outputs": [],
   "source": [
    "test_sublabels = X_test['sub_labels']\n",
    "X_test_n = X_test.drop(['age', 'sex','sub_labels'], axis=1)\n",
    "num_list, cat_list = type_lists(X_test_n)"
   ]
  },
  {
   "cell_type": "code",
   "execution_count": null,
   "id": "e083860b",
   "metadata": {
    "ExecuteTime": {
     "end_time": "2021-10-25T19:18:30.406237Z",
     "start_time": "2021-10-25T19:18:30.311329Z"
    }
   },
   "outputs": [],
   "source": [
    "# Predicting the test sets based on strategy 1\n",
    "X_test_pred1 = predict_whole_set(clf, main_df, X_test_n)"
   ]
  },
  {
   "cell_type": "markdown",
   "id": "1d0fe248",
   "metadata": {
    "ExecuteTime": {
     "end_time": "2021-10-22T20:40:38.613275Z",
     "start_time": "2021-10-22T20:40:38.609561Z"
    }
   },
   "source": [
    "print(dict_german[\"month\"])"
   ]
  },
  {
   "cell_type": "code",
   "execution_count": null,
   "id": "7eda9eec",
   "metadata": {},
   "outputs": [],
   "source": [
    "metrics_table1, cm1, ratio_t1 = metrics_calculate(X_test, X_test_pred1, y_test,\n",
    "                                                  sens_attr, fav_l, unfav_l)\n",
    "metrics_table2, cm2, ratio_t2 = metrics_calculate(X_test, X_test_pred2, y_test,\n",
    "                                                  sens_attr, fav_l, unfav_l)\n",
    "metrics_table3, cm3, ratio_t3 = metrics_calculate(X_test, X_test_pred3, y_test,\n",
    "                                                  sens_attr, fav_l, unfav_l)"
   ]
  },
  {
   "cell_type": "code",
   "execution_count": null,
   "id": "1c8f7478",
   "metadata": {},
   "outputs": [],
   "source": [
    "#outputs from strategy 1\n",
    "print(metrics_table1)\n",
    "print(\"Confusion Matrix:\", cm1)\n",
    "print(ratio_t1)"
   ]
  },
  {
   "cell_type": "code",
   "execution_count": null,
   "id": "712901dd",
   "metadata": {},
   "outputs": [],
   "source": [
    "#outputs from strategy 2\n",
    "print(metrics_table2)\n",
    "print(\"Confusion Matrix:\", cm2)\n",
    "print(ratio_t2)"
   ]
  },
  {
   "cell_type": "code",
   "execution_count": null,
   "id": "26fbd234",
   "metadata": {},
   "outputs": [],
   "source": [
    "#outputs from strategy 3\n",
    "print(metrics_table3)\n",
    "print(\"Confusion Matrix:\", cm3)\n",
    "print(ratio_t3)"
   ]
  }
 ],
 "metadata": {
  "kernelspec": {
   "display_name": "Python 3 (ipykernel)",
   "language": "python",
   "name": "python3"
  },
  "language_info": {
   "codemirror_mode": {
    "name": "ipython",
    "version": 3
   },
   "file_extension": ".py",
   "mimetype": "text/x-python",
   "name": "python",
   "nbconvert_exporter": "python",
   "pygments_lexer": "ipython3",
   "version": "3.6.13"
  }
 },
 "nbformat": 4,
 "nbformat_minor": 5
}
