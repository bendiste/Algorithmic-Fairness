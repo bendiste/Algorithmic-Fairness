{
 "cells": [
  {
   "cell_type": "code",
   "execution_count": 1,
   "id": "cubic-insertion",
   "metadata": {},
   "outputs": [],
   "source": [
    "from implementation_functions import *\n",
    "\n",
    "import pandas as pd\n",
    "import numpy as np\n",
    "\n",
    "from prince import FAMD #Factor analysis of mixed data\n",
    "from aif360.metrics import BinaryLabelDatasetMetric\n",
    "from sklearn.model_selection import train_test_split\n",
    "from sklearn.metrics import silhouette_samples, silhouette_score\n",
    "import matplotlib.pyplot as plt\n",
    "import skfuzzy as fuzz"
   ]
  },
  {
   "cell_type": "code",
   "execution_count": 2,
   "id": "reliable-sleep",
   "metadata": {},
   "outputs": [
    {
     "name": "stderr",
     "output_type": "stream",
     "text": [
      "WARNING:root:Missing Data: 5 rows removed from CompasDataset.\n"
     ]
    }
   ],
   "source": [
    "# SKIP THIS BLOCK IF YOU ARE ALREADY IMPORTING A DATAFRAME FROM A CSV(except sensitive attr and decision label definition)\n",
    "data_name = \"compas\"\n",
    "dataset_orig, privileged_groups, unprivileged_groups = aif_data(data_name, False)"
   ]
  },
  {
   "cell_type": "code",
   "execution_count": 3,
   "id": "fewer-equivalent",
   "metadata": {},
   "outputs": [],
   "source": [
    "#assign the sensitive attr and decision labels\n",
    "sens_attr = ['race', 'sex']\n",
    "decision_label = 'two_year_recid'\n",
    "fav_l = 1\n",
    "unfav_l = 0"
   ]
  },
  {
   "cell_type": "code",
   "execution_count": 4,
   "id": "guilty-wednesday",
   "metadata": {},
   "outputs": [
    {
     "name": "stderr",
     "output_type": "stream",
     "text": [
      "c:\\users\\hatta\\anaconda3\\envs\\aif360\\lib\\site-packages\\sklearn\\utils\\validation.py:72: FutureWarning: Pass n_neighbors=5 as keyword args. From version 1.0 (renaming of 0.25) passing these as positional arguments will result in an error\n",
      "  \"will result in an error\", FutureWarning)\n"
     ]
    },
    {
     "name": "stdout",
     "output_type": "stream",
     "text": [
      "Disparate impact (of original labels) between unprivileged and privileged groups = 0.688041\n",
      "Difference in statistical parity (of original labels) between unprivileged and privileged groups = -0.201474\n",
      "Individual fairness metric that measures how similar the labels are for similar instances = 0.675213\n"
     ]
    }
   ],
   "source": [
    "# Initial disparities in the full original dataset\n",
    "metric_orig = BinaryLabelDatasetMetric(dataset_orig, \n",
    "                                              unprivileged_groups=unprivileged_groups,\n",
    "                                              privileged_groups=privileged_groups)\n",
    "print(\"Disparate impact (of original labels) between unprivileged and privileged groups = %f\" % metric_orig.disparate_impact())\n",
    "print(\"Difference in statistical parity (of original labels) between unprivileged and privileged groups = %f\" % metric_orig.statistical_parity_difference())\n",
    "print(\"Individual fairness metric that measures how similar the labels are for similar instances = %f\" % metric_orig.consistency())"
   ]
  },
  {
   "cell_type": "code",
   "execution_count": 5,
   "id": "macro-garbage",
   "metadata": {},
   "outputs": [],
   "source": [
    "# in this dataset, 'protected_attribute_maps': [sex={0.0: 'Male', 1.0: 'Female'}, \n",
    "# race={1.0: 'Caucasian', 0.0: 'Not Caucasian'}]\n",
    "# class label maps': [{1.0: 'Did recid.', 0.0: 'No recid.'}]\n",
    "orig_df, num_list, cat_list = preprocess(dataset_orig, sens_attr, decision_label)"
   ]
  },
  {
   "cell_type": "code",
   "execution_count": 6,
   "id": "looking-breed",
   "metadata": {},
   "outputs": [
    {
     "data": {
      "text/plain": [
       "0    1458\n",
       "1    1166\n",
       "3     968\n",
       "2     652\n",
       "5     346\n",
       "7     310\n",
       "4     203\n",
       "6     170\n",
       "Name: sub_labels, dtype: int64"
      ]
     },
     "execution_count": 6,
     "metadata": {},
     "output_type": "execute_result"
    }
   ],
   "source": [
    "#switch the dataset labels other way around for easier interpretation\n",
    "orig_df['transf_labels'] = np.where(orig_df['two_year_recid']== 0, 1, 0)\n",
    "decision_label = 'transf_labels'\n",
    "orig_df = orig_df.drop('two_year_recid', axis=1)\n",
    "\n",
    "orig_df, num_list, cat_list = preprocess(orig_df, sens_attr, decision_label)\n",
    "orig_df['sub_labels'].value_counts()"
   ]
  },
  {
   "cell_type": "code",
   "execution_count": 7,
   "id": "published-petite",
   "metadata": {},
   "outputs": [],
   "source": [
    "#clean the columns that are not needed\n",
    "cols = [c for c in orig_df.columns if (c.lower()[:13] != 'c_charge_desc')]\n",
    "orig_df = orig_df[cols]\n",
    "#Age information is duplicated in the dataset so delete one of them\n",
    "cols2 = [c for c in orig_df.columns if (c.lower()[:7] != 'age_cat')]\n",
    "orig_df = orig_df[cols2]"
   ]
  },
  {
   "cell_type": "code",
   "execution_count": 8,
   "id": "periodic-money",
   "metadata": {},
   "outputs": [
    {
     "data": {
      "image/png": "[encoded data removed]",
      "text/plain": [
       "<Figure size 432x288 with 2 Axes>"
      ]
     },
     "metadata": {
      "needs_background": "light"
     },
     "output_type": "display_data"
    }
   ],
   "source": [
    "#check correlation of the columns\n",
    "import seaborn as sns\n",
    "res = orig_df.apply(lambda x : pd.factorize(x)[0] if (x.dtype == 'O') else x).corr(method='pearson', min_periods=1)\n",
    "_ = sns.heatmap(res)"
   ]
  },
  {
   "cell_type": "code",
   "execution_count": 9,
   "id": "collected-quest",
   "metadata": {},
   "outputs": [],
   "source": [
    "# Train-test split WITH stratification\n",
    "X = orig_df.loc[:, orig_df.columns != decision_label]\n",
    "y = orig_df.loc[:, orig_df.columns == decision_label].values\n",
    "X_train, X_test, y_train, y_test = train_test_split(X, y, test_size=0.30, \n",
    "                                                    shuffle=True,\n",
    "                                                    stratify=X['sub_labels'])"
   ]
  },
  {
   "cell_type": "code",
   "execution_count": 10,
   "id": "timely-punch",
   "metadata": {},
   "outputs": [
    {
     "name": "stdout",
     "output_type": "stream",
     "text": [
      "0    1021\n",
      "1     816\n",
      "3     678\n",
      "2     456\n",
      "5     242\n",
      "7     217\n",
      "4     142\n",
      "6     119\n",
      "Name: sub_labels, dtype: int64\n",
      "0    437\n",
      "1    350\n",
      "3    290\n",
      "2    196\n",
      "5    104\n",
      "7     93\n",
      "4     61\n",
      "6     51\n",
      "Name: sub_labels, dtype: int64\n"
     ]
    }
   ],
   "source": [
    "# Check class imbalance in the splitted training set\n",
    "print(X_train['sub_labels'].value_counts())\n",
    "print(X_test['sub_labels'].value_counts())\n",
    "\n",
    "# Partial feture scaling (of numerical variables)\n",
    "X_train, X_test = scale(X_train, X_test)\n",
    "num_list, cat_list = type_lists(X_train)"
   ]
  },
  {
   "cell_type": "code",
   "execution_count": 11,
   "id": "serial-knight",
   "metadata": {},
   "outputs": [],
   "source": [
    "clf = RandomForestClassifier()\n",
    "# Getting the baseline performance results from the imbalanced dataset\n",
    "# Note: the function is created based on the assumption that the X's have sub_labels\n",
    "# Instantiate the desired classifier obj to train the classification models    \n",
    "baseline_stats, cm, ratio_table, preds = baseline_metrics(clf, X_train, X_test, \n",
    "                                                  y_train, y_test, sens_attr, \n",
    "                                                  fav_l, unfav_l)"
   ]
  },
  {
   "cell_type": "code",
   "execution_count": 12,
   "id": "found-blanket",
   "metadata": {},
   "outputs": [
    {
     "name": "stdout",
     "output_type": "stream",
     "text": [
      "                                                AEO Difference  \\\n",
      "[{'race': 0, 'sex': 0}][{'race': 1, 'sex': 0}]       -0.199713   \n",
      "[{'race': 1, 'sex': 0}][{'race': 0, 'sex': 1}]       -0.111541   \n",
      "[{'race': 0, 'sex': 1}][{'race': 1, 'sex': 1}]        0.093905   \n",
      "[{'race': 0, 'sex': 0}][{'race': 0, 'sex': 1}]       -0.311254   \n",
      "[{'race': 1, 'sex': 0}][{'race': 1, 'sex': 1}]       -0.017635   \n",
      "[{'race': 0, 'sex': 0}][{'race': 1, 'sex': 1}]       -0.217348   \n",
      "\n",
      "                                                Disparate Impact Ratio  \\\n",
      "[{'race': 0, 'sex': 0}][{'race': 1, 'sex': 0}]                0.625852   \n",
      "[{'race': 1, 'sex': 0}][{'race': 0, 'sex': 1}]                0.833333   \n",
      "[{'race': 0, 'sex': 1}][{'race': 1, 'sex': 1}]                1.160440   \n",
      "[{'race': 0, 'sex': 0}][{'race': 0, 'sex': 1}]                0.521543   \n",
      "[{'race': 1, 'sex': 0}][{'race': 1, 'sex': 1}]                0.967033   \n",
      "[{'race': 0, 'sex': 0}][{'race': 1, 'sex': 1}]                0.605219   \n",
      "\n",
      "                                                Dem Parity Difference  \\\n",
      "[{'race': 0, 'sex': 0}][{'race': 1, 'sex': 0}]              -0.228646   \n",
      "[{'race': 1, 'sex': 0}][{'race': 0, 'sex': 1}]              -0.122222   \n",
      "[{'race': 0, 'sex': 1}][{'race': 1, 'sex': 1}]               0.101389   \n",
      "[{'race': 0, 'sex': 0}][{'race': 0, 'sex': 1}]              -0.350868   \n",
      "[{'race': 1, 'sex': 0}][{'race': 1, 'sex': 1}]              -0.020833   \n",
      "[{'race': 0, 'sex': 0}][{'race': 1, 'sex': 1}]              -0.249479   \n",
      "\n",
      "                                                Predictive Parity Difference  \\\n",
      "[{'race': 0, 'sex': 0}][{'race': 1, 'sex': 0}]                     -0.058604   \n",
      "[{'race': 1, 'sex': 0}][{'race': 0, 'sex': 1}]                     -0.034282   \n",
      "[{'race': 0, 'sex': 1}][{'race': 1, 'sex': 1}]                      0.001907   \n",
      "[{'race': 0, 'sex': 0}][{'race': 0, 'sex': 1}]                     -0.092886   \n",
      "[{'race': 1, 'sex': 0}][{'race': 1, 'sex': 1}]                     -0.032375   \n",
      "[{'race': 0, 'sex': 0}][{'race': 1, 'sex': 1}]                     -0.090979   \n",
      "\n",
      "                                                Consistency  Accuracy  \\\n",
      "[{'race': 0, 'sex': 0}][{'race': 1, 'sex': 0}]       0.8067  0.621365   \n",
      "[{'race': 1, 'sex': 0}][{'race': 0, 'sex': 1}]       0.8067  0.621365   \n",
      "[{'race': 0, 'sex': 1}][{'race': 1, 'sex': 1}]       0.8067  0.621365   \n",
      "[{'race': 0, 'sex': 0}][{'race': 0, 'sex': 1}]       0.8067  0.621365   \n",
      "[{'race': 1, 'sex': 0}][{'race': 1, 'sex': 1}]       0.8067  0.621365   \n",
      "[{'race': 0, 'sex': 0}][{'race': 1, 'sex': 1}]       0.8067  0.621365   \n",
      "\n",
      "                                                Balanced accuracy  F1-Score  \\\n",
      "[{'race': 0, 'sex': 0}][{'race': 1, 'sex': 0}]           0.621076  0.636308   \n",
      "[{'race': 1, 'sex': 0}][{'race': 0, 'sex': 1}]           0.621076  0.636308   \n",
      "[{'race': 0, 'sex': 1}][{'race': 1, 'sex': 1}]           0.621076  0.636308   \n",
      "[{'race': 0, 'sex': 0}][{'race': 0, 'sex': 1}]           0.621076  0.636308   \n",
      "[{'race': 1, 'sex': 0}][{'race': 1, 'sex': 1}]           0.621076  0.636308   \n",
      "[{'race': 0, 'sex': 0}][{'race': 1, 'sex': 1}]           0.621076  0.636308   \n",
      "\n",
      "                                                Precision (PPV)  Recall (TPR)  \\\n",
      "[{'race': 0, 'sex': 0}][{'race': 1, 'sex': 0}]         0.646914      0.626045   \n",
      "[{'race': 1, 'sex': 0}][{'race': 0, 'sex': 1}]         0.646914      0.626045   \n",
      "[{'race': 0, 'sex': 1}][{'race': 1, 'sex': 1}]         0.646914      0.626045   \n",
      "[{'race': 0, 'sex': 0}][{'race': 0, 'sex': 1}]         0.646914      0.626045   \n",
      "[{'race': 1, 'sex': 0}][{'race': 1, 'sex': 1}]         0.646914      0.626045   \n",
      "[{'race': 0, 'sex': 0}][{'race': 1, 'sex': 1}]         0.646914      0.626045   \n",
      "\n",
      "                                                Specificity (TNR)  \n",
      "[{'race': 0, 'sex': 0}][{'race': 1, 'sex': 0}]           0.616107  \n",
      "[{'race': 1, 'sex': 0}][{'race': 0, 'sex': 1}]           0.616107  \n",
      "[{'race': 0, 'sex': 1}][{'race': 1, 'sex': 1}]           0.616107  \n",
      "[{'race': 0, 'sex': 0}][{'race': 0, 'sex': 1}]           0.616107  \n",
      "[{'race': 1, 'sex': 0}][{'race': 1, 'sex': 1}]           0.616107  \n",
      "[{'race': 0, 'sex': 0}][{'race': 1, 'sex': 1}]           0.616107  \n"
     ]
    }
   ],
   "source": [
    "print(baseline_stats)"
   ]
  },
  {
   "cell_type": "code",
   "execution_count": 13,
   "id": "surprising-queue",
   "metadata": {},
   "outputs": [
    {
     "name": "stdout",
     "output_type": "stream",
     "text": [
      "{'TP': 524.0, 'FP': 286.0, 'TN': 459.0, 'FN': 313.0}\n"
     ]
    }
   ],
   "source": [
    "print(cm)"
   ]
  },
  {
   "cell_type": "code",
   "execution_count": 14,
   "id": "peaceful-thriller",
   "metadata": {},
   "outputs": [
    {
     "name": "stdout",
     "output_type": "stream",
     "text": [
      "                       Base Ratio  Positive Ratio  Negative Ratio\n",
      "Index                                                            \n",
      "{'race': 0, 'sex': 0}    0.497472        0.190265        0.307206\n",
      "{'race': 1, 'sex': 0}    0.307206        0.187737        0.119469\n",
      "{'race': 0, 'sex': 1}    0.104298        0.076485        0.027813\n",
      "{'race': 1, 'sex': 1}    0.091024        0.057522        0.033502\n"
     ]
    }
   ],
   "source": [
    "print(ratio_table)"
   ]
  },
  {
   "cell_type": "code",
   "execution_count": 15,
   "id": "superior-cooling",
   "metadata": {},
   "outputs": [],
   "source": [
    "# Keep the subgroup labels to append them back later\n",
    "keep_sub_l = X_train['sub_labels']\n",
    "\n",
    "# Required drops for the GERMAN dataset (THIS DF CREATION IS A MUST)\n",
    "X_train_new = X_train.drop(['race', 'sex', 'sub_labels'], axis=1)\n",
    "\n",
    "# Get the idx of categ and numeric columns again due to the column drops above\n",
    "num_list, cat_list = type_lists(X_train_new)"
   ]
  },
  {
   "cell_type": "code",
   "execution_count": 16,
   "id": "involved-identifier",
   "metadata": {},
   "outputs": [
    {
     "data": {
      "image/png": "[encoded data removed]",
      "text/plain": [
       "<Figure size 432x432 with 1 Axes>"
      ]
     },
     "metadata": {
      "needs_background": "light"
     },
     "output_type": "display_data"
    }
   ],
   "source": [
    "# Dimensionality reduction for big datasets with FAMD\n",
    "X_train_new['sub_labels'] = keep_sub_l\n",
    "\n",
    "famd = FAMD(n_components=2, random_state = 42)\n",
    "famd.fit(X_train_new.drop('sub_labels', axis=1))\n",
    "X_train_reduc = famd.transform(X_train_new)\n",
    "#plotting the reduced dimensions\n",
    "ax = famd.plot_row_coordinates(X_train_new, \n",
    "                                 color_labels=['sub-labels {}'.format(t) for t in X_train_new['sub_labels']])\n",
    "# X_train_red = famd.partial_row_coordinates(X_train_new)\n",
    "# famd.explained_inertia_\n",
    "# ax = famd.plot_partial_row_coordinates(X_train_new, \n",
    "#                                         color_labels=['sub-labels {}'.format(t) for t in X_train_new['sub_labels']])\n",
    "                               \n",
    "# Delete the subgroup label column again if dimensionality reduction is used\n",
    "X_train_new = X_train_new.drop(['sub_labels'], axis=1)"
   ]
  },
  {
   "cell_type": "markdown",
   "id": "personal-concept",
   "metadata": {},
   "source": [
    "### Clustering Implementation with Fuzzy C-means"
   ]
  },
  {
   "cell_type": "code",
   "execution_count": 17,
   "id": "intimate-failure",
   "metadata": {},
   "outputs": [
    {
     "data": {
      "image/png": "[encoded data removed]",
      "text/plain": [
       "<Figure size 576x576 with 9 Axes>"
      ]
     },
     "metadata": {
      "needs_background": "light"
     },
     "output_type": "display_data"
    }
   ],
   "source": [
    "alldata = np.vstack((X_train_reduc[0], X_train_reduc[1]))\n",
    "#Set up the loop and plot\n",
    "colors = ['b', 'orange', 'g', 'r', 'c', 'm', 'y', 'k', 'Brown', 'ForestGreen']\n",
    "fig1, axes1 = plt.subplots(3, 3, figsize=(8, 8))\n",
    "fpcs = []\n",
    "\n",
    "#checking for the optimal num of clusters with FPC plots\n",
    "for ncenters, ax in enumerate(axes1.reshape(-1), 2):\n",
    "    cntr, u, u0, d, jm, p, fpc = fuzz.cluster.cmeans(\n",
    "        alldata, ncenters, 2, error=0.005, maxiter=1000, init=None)\n",
    "\n",
    "    # Store fpc values for later\n",
    "    fpcs.append(fpc)\n",
    "\n",
    "    # Plot assigned clusters, for each data point in training set\n",
    "    cluster_membership = np.argmax(u, axis=0)\n",
    "    for j in range(ncenters):\n",
    "        ax.plot(X_train_reduc[0][cluster_membership == j],\n",
    "                X_train_reduc[1][cluster_membership == j], '.', color=colors[j])\n",
    "\n",
    "    # Mark the center of each fuzzy cluster\n",
    "    for pt in cntr:\n",
    "        ax.plot(pt[0], pt[1], 'rs')\n",
    "\n",
    "    ax.set_title('Centers = {0}; FPC = {1:.2f}'.format(ncenters, fpc))\n",
    "    ax.axis('off')\n",
    "fig1.tight_layout()"
   ]
  },
  {
   "cell_type": "code",
   "execution_count": 18,
   "id": "regulation-diary",
   "metadata": {},
   "outputs": [
    {
     "data": {
      "text/plain": [
       "Text(0, 0.5, 'Fuzzy partition coefficient')"
      ]
     },
     "execution_count": 18,
     "metadata": {},
     "output_type": "execute_result"
    },
    {
     "data": {
      "image/png": "[encoded data removed]",
      "text/plain": [
       "<Figure size 432x288 with 1 Axes>"
      ]
     },
     "metadata": {
      "needs_background": "light"
     },
     "output_type": "display_data"
    }
   ],
   "source": [
    "#fpc plot per number of clusters\n",
    "fig2, ax2 = plt.subplots()\n",
    "ax2.plot(np.r_[2:11], fpcs)\n",
    "ax2.set_xlabel(\"Number of centers\")\n",
    "ax2.set_ylabel(\"Fuzzy partition coefficient\")"
   ]
  },
  {
   "cell_type": "code",
   "execution_count": 19,
   "id": "focal-barrel",
   "metadata": {},
   "outputs": [
    {
     "name": "stderr",
     "output_type": "stream",
     "text": [
      "100%|████████████████████████████████████████████████████████████████████████████████████| 8/8 [00:02<00:00,  2.74it/s]\n"
     ]
    },
    {
     "data": {
      "image/png": "[encoded data removed]",
      "text/plain": [
       "<Figure size 432x288 with 1 Axes>"
      ]
     },
     "metadata": {
      "needs_background": "light"
     },
     "output_type": "display_data"
    }
   ],
   "source": [
    "#silhouette score plot per number of cluster\n",
    "from tqdm import tqdm\n",
    "n_clusters = []\n",
    "silhouette_scores = []\n",
    "for i in tqdm(range(2, 10)):\n",
    "    try:\n",
    "        cntr, u_orig, _, _, _, _, _ = fuzz.cluster.cmeans(alldata, i, 2, error=0.005, \n",
    "                                                          maxiter=5000)\n",
    "        u, u0, d, jm, p, fpc = fuzz.cluster.cmeans_predict(X_train_reduc.T, cntr, 2, error=0.005,       \n",
    "                                                            maxiter=5000)\n",
    "        clusters = np.argmax(u, axis=0)\n",
    "        silhouette_val = silhouette_score(X_train_reduc, clusters, \n",
    "                                          metric='euclidean')\n",
    "        silhouette_scores.append(silhouette_val)\n",
    "        n_clusters.append(i)\n",
    "    except:\n",
    "        print(f\"Can't cluster with {i} clusters\")\n",
    "plt.scatter(x=n_clusters, y=silhouette_scores)\n",
    "plt.plot(n_clusters, silhouette_scores)\n",
    "plt.show()"
   ]
  },
  {
   "cell_type": "code",
   "execution_count": 20,
   "id": "linear-steam",
   "metadata": {},
   "outputs": [
    {
     "name": "stdout",
     "output_type": "stream",
     "text": [
      "0.8245884121519158\n"
     ]
    }
   ],
   "source": [
    "#either 4,5 or 6 clsuters\n",
    "#predict with the num of clusters desired\n",
    "n_clust = 5\n",
    "cntr, u_orig, _, _, _, _, _ = fuzz.cluster.cmeans(alldata, n_clust, 2, error=0.005, \n",
    "                                                  maxiter=5000)\n",
    "# u: final fuzzy-partitioned matrix, u0: initial guess at fuzzy c-partitioned matrix,\n",
    "# d: final euclidean distance matrix, jm: obj func hist, p: num of iter run, \n",
    "#fpc: fuzzy partition coefficient\n",
    "u, u0, d, jm, p, fpc = fuzz.cluster.cmeans_predict(X_train_reduc.T, cntr, 2, error=0.005,       \n",
    "                                                   maxiter=5000)\n",
    "clusters = np.argmax(u, axis=0)  # Hardening for silhouette   \n",
    "print(silhouette_score(X_train_reduc, clusters, metric='cosine'))"
   ]
  },
  {
   "cell_type": "code",
   "execution_count": 21,
   "id": "documentary-anaheim",
   "metadata": {},
   "outputs": [],
   "source": [
    "# Putting the required label info back to the dataframe before oversampling\n",
    "X_train_new['cluster_labels'] = clusters\n",
    "X_train_new['cluster_labels'] = X_train_new['cluster_labels'].astype('object')\n",
    "X_train_new['sub_labels'] = keep_sub_l\n",
    "# Also put the original decision labels so that they are also oversampled\n",
    "X_train_new['class_labels'] = y_train"
   ]
  },
  {
   "cell_type": "code",
   "execution_count": 22,
   "id": "designed-indication",
   "metadata": {},
   "outputs": [
    {
     "name": "stdout",
     "output_type": "stream",
     "text": [
      "3    265\n",
      "1    253\n",
      "0    200\n",
      "2    142\n",
      "7    119\n",
      "5     90\n",
      "6     38\n",
      "4     31\n",
      "Name: sub_labels, dtype: int64\n",
      "0    84\n",
      "1    16\n",
      "2     9\n",
      "4     5\n",
      "3     4\n",
      "7     1\n",
      "6     1\n",
      "5     1\n",
      "Name: sub_labels, dtype: int64\n",
      "0    261\n",
      "1     85\n",
      "2     63\n",
      "3     33\n",
      "4     17\n",
      "5     15\n",
      "6     11\n",
      "7      4\n",
      "Name: sub_labels, dtype: int64\n",
      "1    444\n",
      "0    416\n",
      "3    363\n",
      "2    220\n",
      "5    135\n",
      "7     89\n",
      "4     83\n",
      "6     65\n",
      "Name: sub_labels, dtype: int64\n",
      "0    60\n",
      "2    22\n",
      "1    18\n",
      "3    13\n",
      "4     6\n",
      "7     4\n",
      "6     4\n",
      "5     1\n",
      "Name: sub_labels, dtype: int64\n",
      "3    265\n",
      "1    253\n",
      "0    200\n",
      "2    142\n",
      "7    119\n",
      "5     91\n",
      "6     38\n",
      "4     31\n",
      "Name: sub_labels, dtype: int64\n",
      "0    84\n",
      "1    16\n",
      "2     9\n",
      "4     5\n",
      "3     4\n",
      "Name: sub_labels, dtype: int64\n",
      "0    261\n",
      "1     85\n",
      "2     63\n",
      "3     33\n",
      "4     17\n",
      "5     16\n",
      "6     12\n",
      "7      5\n",
      "Name: sub_labels, dtype: int64\n",
      "1    444\n",
      "0    416\n",
      "3    363\n",
      "2    220\n",
      "5    135\n",
      "7     89\n",
      "4     83\n",
      "6     65\n",
      "Name: sub_labels, dtype: int64\n",
      "0    60\n",
      "2    22\n",
      "1    18\n",
      "3    13\n",
      "4     6\n",
      "7     4\n",
      "6     4\n",
      "Name: sub_labels, dtype: int64\n"
     ]
    }
   ],
   "source": [
    "#cluster datasets in their original form\n",
    "existing_clust = {}\n",
    "for h in range(len(X_train_new['cluster_labels'].unique())):\n",
    "   existing_clust[h] = X_train_new.loc[X_train_new['cluster_labels']==h]\n",
    "#checking the subgroup counts in each cluster dataset\n",
    "for item in existing_clust:\n",
    "    print(existing_clust[item]['sub_labels'].value_counts())\n",
    "\n",
    "#fixing the cluster memberships in each df if a sample from a subgroup is alone\n",
    "fixed_clusters = fix_memberships_fcm(X_train_new, X_train_reduc, clust_centroids=cntr)\n",
    "#checking the subgroup counts in each cluster dataset\n",
    "for item in fixed_clusters:\n",
    "    print(fixed_clusters[item]['sub_labels'].value_counts())"
   ]
  },
  {
   "cell_type": "code",
   "execution_count": 23,
   "id": "cleared-going",
   "metadata": {},
   "outputs": [
    {
     "name": "stdout",
     "output_type": "stream",
     "text": [
      "7    265\n",
      "5    265\n",
      "3    265\n",
      "1    265\n",
      "6    265\n",
      "4    265\n",
      "2    265\n",
      "0    265\n",
      "Name: sub_labels, dtype: int64\n",
      "4    84\n",
      "3    84\n",
      "2    84\n",
      "1    84\n",
      "0    84\n",
      "Name: sub_labels, dtype: int64\n",
      "7    261\n",
      "5    261\n",
      "3    261\n",
      "1    261\n",
      "6    261\n",
      "4    261\n",
      "2    261\n",
      "0    261\n",
      "Name: sub_labels, dtype: int64\n",
      "7    444\n",
      "5    444\n",
      "3    444\n",
      "1    444\n",
      "6    444\n",
      "4    444\n",
      "2    444\n",
      "0    444\n",
      "Name: sub_labels, dtype: int64\n",
      "7    60\n",
      "6    60\n",
      "4    60\n",
      "3    60\n",
      "2    60\n",
      "1    60\n",
      "0    60\n",
      "Name: sub_labels, dtype: int64\n"
     ]
    }
   ],
   "source": [
    "#transform the data types of all the columns to numeric for SMOTE\n",
    "for df in fixed_clusters:\n",
    "    for i in range(len(fixed_clusters[df].columns)):       \n",
    "        fixed_clusters[df].iloc[:,i] = fixed_clusters[df].iloc[:,i].astype('float')\n",
    "\n",
    "# Over-sampling of each cluster\n",
    "oversampled_clusters, unique_subl = oversample(fixed_clusters)\n",
    "for item in oversampled_clusters:\n",
    "    print(oversampled_clusters[item]['sub_labels'].value_counts())\n",
    "\n",
    "# Deleting sensitive attributes and subgroup labels from test set is required\n",
    "# to apply the implemented solutions (sens. attr. are not used to satisfy the\n",
    "# disparate treatment in the functions)\n",
    "test_sublabels = X_test['sub_labels']\n",
    "X_test_n = X_test.drop(['race', 'sex','sub_labels'], axis=1)\n",
    "num_list, cat_list = type_lists(X_test_n)\n",
    "X_test_reduc = famd.transform(X_test_n)"
   ]
  },
  {
   "cell_type": "markdown",
   "id": "authorized-rental",
   "metadata": {},
   "source": [
    "### CLASS LABEL PREDICTIONS PER STRATEGY"
   ]
  },
  {
   "cell_type": "code",
   "execution_count": 24,
   "id": "dynamic-concentrate",
   "metadata": {},
   "outputs": [],
   "source": [
    "# Predicting the test sets based on strategy 1\n",
    "X_test_pred1 = predict_whole_set(clf, oversampled_clusters, X_test_n)\n",
    "\n",
    "# Predicting the test sets based on strategy 2   \n",
    "#t_u is needed later for option 3\n",
    "t_u, u0, d, jm, p, fpc = fuzz.cluster.cmeans_predict(\n",
    "    X_test_reduc.T, cntr, 2, error=0.005, maxiter=1000)\n",
    "test_clusts = np.argmax(t_u, axis=0) \n",
    "X_test_pred2 = predict_w_fuzzy(clf, oversampled_clusters, X_test_n, \n",
    "                               X_test_reduc, cntr, unique_subl, test_sublabels)\n",
    "\n",
    "# Predicting the test sets based on strategy 3\n",
    "X_test_pred3 = predict_w_weights_fuzzy(clf, oversampled_clusters, t_u, \n",
    "                                       X_test_n, unique_subl, test_sublabels)"
   ]
  },
  {
   "cell_type": "markdown",
   "id": "other-inquiry",
   "metadata": {},
   "source": [
    "#### The metrics table creation for given dataset: Protected attributes and groups must be defined based on the dataset and preferences to calculate fairness and performance metrics"
   ]
  },
  {
   "cell_type": "code",
   "execution_count": 25,
   "id": "lesser-browser",
   "metadata": {},
   "outputs": [],
   "source": [
    "metrics_table1, cm1, ratio_t1 = metrics_calculate(X_test, X_test_pred1, y_test,\n",
    "                                                  sens_attr, fav_l, unfav_l)\n",
    "metrics_table2, cm2, ratio_t2 = metrics_calculate(X_test, X_test_pred2, y_test,\n",
    "                                                  sens_attr, fav_l, unfav_l)\n",
    "metrics_table3, cm3, ratio_t3 = metrics_calculate(X_test, X_test_pred3, y_test,\n",
    "                                                  sens_attr, fav_l, unfav_l)"
   ]
  },
  {
   "cell_type": "code",
   "execution_count": 26,
   "id": "incredible-width",
   "metadata": {},
   "outputs": [
    {
     "name": "stdout",
     "output_type": "stream",
     "text": [
      "                                                AEO Difference  \\\n",
      "[{'race': 0, 'sex': 0}][{'race': 1, 'sex': 0}]       -0.136378   \n",
      "[{'race': 1, 'sex': 0}][{'race': 0, 'sex': 1}]        0.033217   \n",
      "[{'race': 0, 'sex': 1}][{'race': 1, 'sex': 1}]       -0.076065   \n",
      "[{'race': 0, 'sex': 0}][{'race': 0, 'sex': 1}]       -0.103162   \n",
      "[{'race': 1, 'sex': 0}][{'race': 1, 'sex': 1}]       -0.042848   \n",
      "[{'race': 0, 'sex': 0}][{'race': 1, 'sex': 1}]       -0.179226   \n",
      "\n",
      "                                                Disparate Impact Ratio  \\\n",
      "[{'race': 0, 'sex': 0}][{'race': 1, 'sex': 0}]                0.750844   \n",
      "[{'race': 1, 'sex': 0}][{'race': 0, 'sex': 1}]                1.028312   \n",
      "[{'race': 0, 'sex': 1}][{'race': 1, 'sex': 1}]                0.881200   \n",
      "[{'race': 0, 'sex': 0}][{'race': 0, 'sex': 1}]                0.772102   \n",
      "[{'race': 1, 'sex': 0}][{'race': 1, 'sex': 1}]                0.906149   \n",
      "[{'race': 0, 'sex': 0}][{'race': 1, 'sex': 1}]                0.680377   \n",
      "\n",
      "                                                Dem Parity Difference  \\\n",
      "[{'race': 0, 'sex': 0}][{'race': 1, 'sex': 0}]              -0.161490   \n",
      "[{'race': 1, 'sex': 0}][{'race': 0, 'sex': 1}]               0.017845   \n",
      "[{'race': 0, 'sex': 1}][{'race': 1, 'sex': 1}]              -0.084975   \n",
      "[{'race': 0, 'sex': 0}][{'race': 0, 'sex': 1}]              -0.143645   \n",
      "[{'race': 1, 'sex': 0}][{'race': 1, 'sex': 1}]              -0.067130   \n",
      "[{'race': 0, 'sex': 0}][{'race': 1, 'sex': 1}]              -0.228620   \n",
      "\n",
      "                                                Predictive Parity Difference  \\\n",
      "[{'race': 0, 'sex': 0}][{'race': 1, 'sex': 0}]                     -0.094094   \n",
      "[{'race': 1, 'sex': 0}][{'race': 0, 'sex': 1}]                     -0.063919   \n",
      "[{'race': 0, 'sex': 1}][{'race': 1, 'sex': 1}]                     -0.016617   \n",
      "[{'race': 0, 'sex': 0}][{'race': 0, 'sex': 1}]                     -0.158014   \n",
      "[{'race': 1, 'sex': 0}][{'race': 1, 'sex': 1}]                     -0.080536   \n",
      "[{'race': 0, 'sex': 0}][{'race': 1, 'sex': 1}]                     -0.174631   \n",
      "\n",
      "                                                Consistency  Accuracy  \\\n",
      "[{'race': 0, 'sex': 0}][{'race': 1, 'sex': 0}]     0.782174  0.613148   \n",
      "[{'race': 1, 'sex': 0}][{'race': 0, 'sex': 1}]     0.782174  0.613148   \n",
      "[{'race': 0, 'sex': 1}][{'race': 1, 'sex': 1}]     0.782174  0.613148   \n",
      "[{'race': 0, 'sex': 0}][{'race': 0, 'sex': 1}]     0.782174  0.613148   \n",
      "[{'race': 1, 'sex': 0}][{'race': 1, 'sex': 1}]     0.782174  0.613148   \n",
      "[{'race': 0, 'sex': 0}][{'race': 1, 'sex': 1}]     0.782174  0.613148   \n",
      "\n",
      "                                                Balanced accuracy  F1-Score  \\\n",
      "[{'race': 0, 'sex': 0}][{'race': 1, 'sex': 0}]           0.609327   0.64868   \n",
      "[{'race': 1, 'sex': 0}][{'race': 0, 'sex': 1}]           0.609327   0.64868   \n",
      "[{'race': 0, 'sex': 1}][{'race': 1, 'sex': 1}]           0.609327   0.64868   \n",
      "[{'race': 0, 'sex': 0}][{'race': 0, 'sex': 1}]           0.609327   0.64868   \n",
      "[{'race': 1, 'sex': 0}][{'race': 1, 'sex': 1}]           0.609327   0.64868   \n",
      "[{'race': 0, 'sex': 0}][{'race': 1, 'sex': 1}]           0.609327   0.64868   \n",
      "\n",
      "                                                Precision (PPV)  Recall (TPR)  \\\n",
      "[{'race': 0, 'sex': 0}][{'race': 1, 'sex': 0}]         0.624309       0.67503   \n",
      "[{'race': 1, 'sex': 0}][{'race': 0, 'sex': 1}]         0.624309       0.67503   \n",
      "[{'race': 0, 'sex': 1}][{'race': 1, 'sex': 1}]         0.624309       0.67503   \n",
      "[{'race': 0, 'sex': 0}][{'race': 0, 'sex': 1}]         0.624309       0.67503   \n",
      "[{'race': 1, 'sex': 0}][{'race': 1, 'sex': 1}]         0.624309       0.67503   \n",
      "[{'race': 0, 'sex': 0}][{'race': 1, 'sex': 1}]         0.624309       0.67503   \n",
      "\n",
      "                                                Specificity (TNR)  \n",
      "[{'race': 0, 'sex': 0}][{'race': 1, 'sex': 0}]           0.543624  \n",
      "[{'race': 1, 'sex': 0}][{'race': 0, 'sex': 1}]           0.543624  \n",
      "[{'race': 0, 'sex': 1}][{'race': 1, 'sex': 1}]           0.543624  \n",
      "[{'race': 0, 'sex': 0}][{'race': 0, 'sex': 1}]           0.543624  \n",
      "[{'race': 1, 'sex': 0}][{'race': 1, 'sex': 1}]           0.543624  \n",
      "[{'race': 0, 'sex': 0}][{'race': 1, 'sex': 1}]           0.543624  \n",
      "Confusion Matrix: {'TP': 565.0, 'FP': 340.0, 'TN': 405.0, 'FN': 272.0}\n",
      "                       Base Ratio  Positive Ratio  Negative Ratio\n",
      "Index                                                            \n",
      "{'race': 0, 'sex': 0}    0.497472        0.242099        0.255373\n",
      "{'race': 1, 'sex': 0}    0.307206        0.199115        0.108091\n",
      "{'race': 0, 'sex': 1}    0.104298        0.065740        0.038559\n",
      "{'race': 1, 'sex': 1}    0.091024        0.065107        0.025917\n"
     ]
    }
   ],
   "source": [
    "#outputs from strategy 1\n",
    "print(metrics_table1)\n",
    "print(\"Confusion Matrix:\", cm1)\n",
    "print(ratio_t1)"
   ]
  },
  {
   "cell_type": "code",
   "execution_count": 27,
   "id": "treated-jaguar",
   "metadata": {},
   "outputs": [
    {
     "name": "stdout",
     "output_type": "stream",
     "text": [
      "                                                AEO Difference  \\\n",
      "[{'race': 0, 'sex': 0}][{'race': 1, 'sex': 0}]       -0.122754   \n",
      "[{'race': 1, 'sex': 0}][{'race': 0, 'sex': 1}]        0.012757   \n",
      "[{'race': 0, 'sex': 1}][{'race': 1, 'sex': 1}]       -0.051252   \n",
      "[{'race': 0, 'sex': 0}][{'race': 0, 'sex': 1}]       -0.109997   \n",
      "[{'race': 1, 'sex': 0}][{'race': 1, 'sex': 1}]       -0.038495   \n",
      "[{'race': 0, 'sex': 0}][{'race': 1, 'sex': 1}]       -0.161249   \n",
      "\n",
      "                                                Disparate Impact Ratio  \\\n",
      "[{'race': 0, 'sex': 0}][{'race': 1, 'sex': 0}]                0.761894   \n",
      "[{'race': 1, 'sex': 0}][{'race': 0, 'sex': 1}]                0.977270   \n",
      "[{'race': 0, 'sex': 1}][{'race': 1, 'sex': 1}]                0.933818   \n",
      "[{'race': 0, 'sex': 0}][{'race': 0, 'sex': 1}]                0.744576   \n",
      "[{'race': 1, 'sex': 0}][{'race': 1, 'sex': 1}]                0.912593   \n",
      "[{'race': 0, 'sex': 0}][{'race': 1, 'sex': 1}]                0.695299   \n",
      "\n",
      "                                                Dem Parity Difference  \\\n",
      "[{'race': 0, 'sex': 0}][{'race': 1, 'sex': 0}]              -0.150899   \n",
      "[{'race': 1, 'sex': 0}][{'race': 0, 'sex': 1}]              -0.014740   \n",
      "[{'race': 0, 'sex': 1}][{'race': 1, 'sex': 1}]              -0.045960   \n",
      "[{'race': 0, 'sex': 0}][{'race': 0, 'sex': 1}]              -0.165639   \n",
      "[{'race': 1, 'sex': 0}][{'race': 1, 'sex': 1}]              -0.060700   \n",
      "[{'race': 0, 'sex': 0}][{'race': 1, 'sex': 1}]              -0.211598   \n",
      "\n",
      "                                                Predictive Parity Difference  \\\n",
      "[{'race': 0, 'sex': 0}][{'race': 1, 'sex': 0}]                     -0.090055   \n",
      "[{'race': 1, 'sex': 0}][{'race': 0, 'sex': 1}]                     -0.091819   \n",
      "[{'race': 0, 'sex': 1}][{'race': 1, 'sex': 1}]                      0.017664   \n",
      "[{'race': 0, 'sex': 0}][{'race': 0, 'sex': 1}]                     -0.181874   \n",
      "[{'race': 1, 'sex': 0}][{'race': 1, 'sex': 1}]                     -0.074156   \n",
      "[{'race': 0, 'sex': 0}][{'race': 1, 'sex': 1}]                     -0.164211   \n",
      "\n",
      "                                                Consistency  Accuracy  \\\n",
      "[{'race': 0, 'sex': 0}][{'race': 1, 'sex': 0}]     0.796966   0.62579   \n",
      "[{'race': 1, 'sex': 0}][{'race': 0, 'sex': 1}]     0.796966   0.62579   \n",
      "[{'race': 0, 'sex': 1}][{'race': 1, 'sex': 1}]     0.796966   0.62579   \n",
      "[{'race': 0, 'sex': 0}][{'race': 0, 'sex': 1}]     0.796966   0.62579   \n",
      "[{'race': 1, 'sex': 0}][{'race': 1, 'sex': 1}]     0.796966   0.62579   \n",
      "[{'race': 0, 'sex': 0}][{'race': 1, 'sex': 1}]     0.796966   0.62579   \n",
      "\n",
      "                                                Balanced accuracy  F1-Score  \\\n",
      "[{'race': 0, 'sex': 0}][{'race': 1, 'sex': 0}]           0.622381  0.658199   \n",
      "[{'race': 1, 'sex': 0}][{'race': 0, 'sex': 1}]           0.622381  0.658199   \n",
      "[{'race': 0, 'sex': 1}][{'race': 1, 'sex': 1}]           0.622381  0.658199   \n",
      "[{'race': 0, 'sex': 0}][{'race': 0, 'sex': 1}]           0.622381  0.658199   \n",
      "[{'race': 1, 'sex': 0}][{'race': 1, 'sex': 1}]           0.622381  0.658199   \n",
      "[{'race': 0, 'sex': 0}][{'race': 1, 'sex': 1}]           0.622381  0.658199   \n",
      "\n",
      "                                                Precision (PPV)  Recall (TPR)  \\\n",
      "[{'race': 0, 'sex': 0}][{'race': 1, 'sex': 0}]         0.636872      0.681004   \n",
      "[{'race': 1, 'sex': 0}][{'race': 0, 'sex': 1}]         0.636872      0.681004   \n",
      "[{'race': 0, 'sex': 1}][{'race': 1, 'sex': 1}]         0.636872      0.681004   \n",
      "[{'race': 0, 'sex': 0}][{'race': 0, 'sex': 1}]         0.636872      0.681004   \n",
      "[{'race': 1, 'sex': 0}][{'race': 1, 'sex': 1}]         0.636872      0.681004   \n",
      "[{'race': 0, 'sex': 0}][{'race': 1, 'sex': 1}]         0.636872      0.681004   \n",
      "\n",
      "                                                Specificity (TNR)  \n",
      "[{'race': 0, 'sex': 0}][{'race': 1, 'sex': 0}]           0.563758  \n",
      "[{'race': 1, 'sex': 0}][{'race': 0, 'sex': 1}]           0.563758  \n",
      "[{'race': 0, 'sex': 1}][{'race': 1, 'sex': 1}]           0.563758  \n",
      "[{'race': 0, 'sex': 0}][{'race': 0, 'sex': 1}]           0.563758  \n",
      "[{'race': 1, 'sex': 0}][{'race': 1, 'sex': 1}]           0.563758  \n",
      "[{'race': 0, 'sex': 0}][{'race': 1, 'sex': 1}]           0.563758  \n",
      "Confusion Matrix: {'TP': 570.0, 'FP': 325.0, 'TN': 420.0, 'FN': 267.0}\n",
      "                       Base Ratio  Positive Ratio  Negative Ratio\n",
      "Index                                                            \n",
      "{'race': 0, 'sex': 0}    0.497472        0.240202        0.257269\n",
      "{'race': 1, 'sex': 0}    0.307206        0.194690        0.112516\n",
      "{'race': 0, 'sex': 1}    0.104298        0.067636        0.036662\n",
      "{'race': 1, 'sex': 1}    0.091024        0.063211        0.027813\n"
     ]
    }
   ],
   "source": [
    "#outputs from strategy 2\n",
    "print(metrics_table2)\n",
    "print(\"Confusion Matrix:\", cm2)\n",
    "print(ratio_t2)"
   ]
  },
  {
   "cell_type": "code",
   "execution_count": 28,
   "id": "alone-kennedy",
   "metadata": {},
   "outputs": [
    {
     "name": "stdout",
     "output_type": "stream",
     "text": [
      "                                                AEO Difference  \\\n",
      "[{'race': 0, 'sex': 0}][{'race': 1, 'sex': 0}]       -0.137406   \n",
      "[{'race': 1, 'sex': 0}][{'race': 0, 'sex': 1}]        0.038363   \n",
      "[{'race': 0, 'sex': 1}][{'race': 1, 'sex': 1}]       -0.084245   \n",
      "[{'race': 0, 'sex': 0}][{'race': 0, 'sex': 1}]       -0.099043   \n",
      "[{'race': 1, 'sex': 0}][{'race': 1, 'sex': 1}]       -0.045881   \n",
      "[{'race': 0, 'sex': 0}][{'race': 1, 'sex': 1}]       -0.183288   \n",
      "\n",
      "                                                Disparate Impact Ratio  \\\n",
      "[{'race': 0, 'sex': 0}][{'race': 1, 'sex': 0}]                0.739858   \n",
      "[{'race': 1, 'sex': 0}][{'race': 0, 'sex': 1}]                1.021783   \n",
      "[{'race': 0, 'sex': 1}][{'race': 1, 'sex': 1}]                0.889840   \n",
      "[{'race': 0, 'sex': 0}][{'race': 0, 'sex': 1}]                0.755974   \n",
      "[{'race': 1, 'sex': 0}][{'race': 1, 'sex': 1}]                0.909223   \n",
      "[{'race': 0, 'sex': 0}][{'race': 1, 'sex': 1}]                0.672696   \n",
      "\n",
      "                                                Dem Parity Difference  \\\n",
      "[{'race': 0, 'sex': 0}][{'race': 1, 'sex': 0}]               -0.16754   \n",
      "[{'race': 1, 'sex': 0}][{'race': 0, 'sex': 1}]                0.01373   \n",
      "[{'race': 0, 'sex': 1}][{'race': 1, 'sex': 1}]               -0.07803   \n",
      "[{'race': 0, 'sex': 0}][{'race': 0, 'sex': 1}]               -0.15381   \n",
      "[{'race': 1, 'sex': 0}][{'race': 1, 'sex': 1}]               -0.06430   \n",
      "[{'race': 0, 'sex': 0}][{'race': 1, 'sex': 1}]               -0.23184   \n",
      "\n",
      "                                                Predictive Parity Difference  \\\n",
      "[{'race': 0, 'sex': 0}][{'race': 1, 'sex': 0}]                     -0.101870   \n",
      "[{'race': 1, 'sex': 0}][{'race': 0, 'sex': 1}]                     -0.085463   \n",
      "[{'race': 0, 'sex': 1}][{'race': 1, 'sex': 1}]                      0.024510   \n",
      "[{'race': 0, 'sex': 0}][{'race': 0, 'sex': 1}]                     -0.187333   \n",
      "[{'race': 1, 'sex': 0}][{'race': 1, 'sex': 1}]                     -0.060953   \n",
      "[{'race': 0, 'sex': 0}][{'race': 1, 'sex': 1}]                     -0.162824   \n",
      "\n",
      "                                                Consistency  Accuracy  \\\n",
      "[{'race': 0, 'sex': 0}][{'race': 1, 'sex': 0}]     0.807459  0.627686   \n",
      "[{'race': 1, 'sex': 0}][{'race': 0, 'sex': 1}]     0.807459  0.627686   \n",
      "[{'race': 0, 'sex': 1}][{'race': 1, 'sex': 1}]     0.807459  0.627686   \n",
      "[{'race': 0, 'sex': 0}][{'race': 0, 'sex': 1}]     0.807459  0.627686   \n",
      "[{'race': 1, 'sex': 0}][{'race': 1, 'sex': 1}]     0.807459  0.627686   \n",
      "[{'race': 0, 'sex': 0}][{'race': 1, 'sex': 1}]     0.807459  0.627686   \n",
      "\n",
      "                                                Balanced accuracy  F1-Score  \\\n",
      "[{'race': 0, 'sex': 0}][{'race': 1, 'sex': 0}]           0.624321  0.659734   \n",
      "[{'race': 1, 'sex': 0}][{'race': 0, 'sex': 1}]           0.624321  0.659734   \n",
      "[{'race': 0, 'sex': 1}][{'race': 1, 'sex': 1}]           0.624321  0.659734   \n",
      "[{'race': 0, 'sex': 0}][{'race': 0, 'sex': 1}]           0.624321  0.659734   \n",
      "[{'race': 1, 'sex': 0}][{'race': 1, 'sex': 1}]           0.624321  0.659734   \n",
      "[{'race': 0, 'sex': 0}][{'race': 1, 'sex': 1}]           0.624321  0.659734   \n",
      "\n",
      "                                                Precision (PPV)  Recall (TPR)  \\\n",
      "[{'race': 0, 'sex': 0}][{'race': 1, 'sex': 0}]         0.638702      0.682198   \n",
      "[{'race': 1, 'sex': 0}][{'race': 0, 'sex': 1}]         0.638702      0.682198   \n",
      "[{'race': 0, 'sex': 1}][{'race': 1, 'sex': 1}]         0.638702      0.682198   \n",
      "[{'race': 0, 'sex': 0}][{'race': 0, 'sex': 1}]         0.638702      0.682198   \n",
      "[{'race': 1, 'sex': 0}][{'race': 1, 'sex': 1}]         0.638702      0.682198   \n",
      "[{'race': 0, 'sex': 0}][{'race': 1, 'sex': 1}]         0.638702      0.682198   \n",
      "\n",
      "                                                Specificity (TNR)  \n",
      "[{'race': 0, 'sex': 0}][{'race': 1, 'sex': 0}]           0.566443  \n",
      "[{'race': 1, 'sex': 0}][{'race': 0, 'sex': 1}]           0.566443  \n",
      "[{'race': 0, 'sex': 1}][{'race': 1, 'sex': 1}]           0.566443  \n",
      "[{'race': 0, 'sex': 0}][{'race': 0, 'sex': 1}]           0.566443  \n",
      "[{'race': 1, 'sex': 0}][{'race': 1, 'sex': 1}]           0.566443  \n",
      "[{'race': 0, 'sex': 0}][{'race': 1, 'sex': 1}]           0.566443  \n",
      "Confusion Matrix: {'TP': 571.0, 'FP': 323.0, 'TN': 422.0, 'FN': 266.0}\n",
      "                       Base Ratio  Positive Ratio  Negative Ratio\n",
      "Index                                                            \n",
      "{'race': 0, 'sex': 0}    0.497472        0.237042        0.260430\n",
      "{'race': 1, 'sex': 0}    0.307206        0.197851        0.109355\n",
      "{'race': 0, 'sex': 1}    0.104298        0.065740        0.038559\n",
      "{'race': 1, 'sex': 1}    0.091024        0.064475        0.026549\n"
     ]
    }
   ],
   "source": [
    "#outputs from strategy 3\n",
    "print(metrics_table3)\n",
    "print(\"Confusion Matrix:\", cm3)\n",
    "print(ratio_t3)"
   ]
  }
 ],
 "metadata": {
  "kernelspec": {
   "display_name": "aif360",
   "language": "python",
   "name": "aif360"
  },
  "language_info": {
   "codemirror_mode": {
    "name": "ipython",
    "version": 3
   },
   "file_extension": ".py",
   "mimetype": "text/x-python",
   "name": "python",
   "nbconvert_exporter": "python",
   "pygments_lexer": "ipython3",
   "version": "3.6.12"
  }
 },
 "nbformat": 4,
 "nbformat_minor": 5
}
