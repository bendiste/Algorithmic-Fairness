{
 "cells": [
  {
   "cell_type": "markdown",
   "id": "ec0c8ffb",
   "metadata": {},
   "source": [
    "# cGAN Generate Synthetic Data for Compas Dataset"
   ]
  },
  {
   "cell_type": "markdown",
   "id": "92b45e15",
   "metadata": {},
   "source": [
    "CTGAN model is based on the GAN-based Deep Learning data synthesizer "
   ]
  },
  {
   "cell_type": "code",
   "execution_count": 1,
   "id": "dbd53ffc",
   "metadata": {
    "ExecuteTime": {
     "end_time": "2021-10-28T10:39:01.814602Z",
     "start_time": "2021-10-28T10:38:58.484153Z"
    }
   },
   "outputs": [],
   "source": [
    "from implementation_functions import *\n",
    "\n",
    "import pandas as pd\n",
    "import numpy as np\n",
    "\n",
    "from prince import FAMD #Factor analysis of mixed data\n",
    "from aif360.metrics import BinaryLabelDatasetMetric\n",
    "from sklearn.model_selection import train_test_split\n",
    "from sklearn.metrics import silhouette_samples, silhouette_score\n",
    "import matplotlib.pyplot as plt\n",
    "import skfuzzy as fuzz"
   ]
  },
  {
   "cell_type": "code",
   "execution_count": 2,
   "id": "2b314eca",
   "metadata": {
    "ExecuteTime": {
     "end_time": "2021-10-28T10:39:03.516270Z",
     "start_time": "2021-10-28T10:39:02.500603Z"
    }
   },
   "outputs": [
    {
     "name": "stderr",
     "output_type": "stream",
     "text": [
      "WARNING:root:Missing Data: 5 rows removed from CompasDataset.\n"
     ]
    }
   ],
   "source": [
    "data_name = \"compas\"\n",
    "dataset_orig, privileged_groups, unprivileged_groups = aif_data(data_name, False)"
   ]
  },
  {
   "cell_type": "code",
   "execution_count": 3,
   "id": "abbeeb10",
   "metadata": {
    "ExecuteTime": {
     "end_time": "2021-10-28T10:39:06.072695Z",
     "start_time": "2021-10-28T10:39:06.068088Z"
    }
   },
   "outputs": [],
   "source": [
    "#assign the sensitive attr and decision labels\n",
    "sens_attr = ['race', 'sex']\n",
    "decision_label = 'two_year_recid'\n",
    "fav_l = 1\n",
    "unfav_l = 0"
   ]
  },
  {
   "cell_type": "code",
   "execution_count": 4,
   "id": "0a1046d7",
   "metadata": {
    "ExecuteTime": {
     "end_time": "2021-10-28T10:39:20.156271Z",
     "start_time": "2021-10-28T10:39:06.892621Z"
    }
   },
   "outputs": [],
   "source": [
    "orig_df, num_list, cat_list = preprocess(dataset_orig, sens_attr, decision_label)"
   ]
  },
  {
   "cell_type": "code",
   "execution_count": 5,
   "id": "9d5b5e5f",
   "metadata": {
    "ExecuteTime": {
     "end_time": "2021-10-28T10:39:24.279225Z",
     "start_time": "2021-10-28T10:39:20.158286Z"
    }
   },
   "outputs": [
    {
     "data": {
      "text/plain": [
       "0    1458\n",
       "1    1166\n",
       "3     968\n",
       "2     652\n",
       "5     346\n",
       "7     310\n",
       "4     203\n",
       "6     170\n",
       "Name: sub_labels, dtype: int64"
      ]
     },
     "execution_count": 5,
     "metadata": {},
     "output_type": "execute_result"
    }
   ],
   "source": [
    "#switch the dataset labels other way around for easier interpretation\n",
    "orig_df['transf_labels'] = np.where(orig_df['two_year_recid']== 0, 1, 0)\n",
    "decision_label = 'transf_labels'\n",
    "orig_df = orig_df.drop('two_year_recid', axis=1)\n",
    "\n",
    "orig_df, num_list, cat_list = preprocess(orig_df, sens_attr, decision_label)\n",
    "orig_df['sub_labels'].value_counts()"
   ]
  },
  {
   "cell_type": "code",
   "execution_count": 6,
   "id": "f8725faa",
   "metadata": {
    "ExecuteTime": {
     "end_time": "2021-10-28T10:39:24.285188Z",
     "start_time": "2021-10-28T10:39:24.281278Z"
    }
   },
   "outputs": [
    {
     "name": "stdout",
     "output_type": "stream",
     "text": [
      "--- 9.1552734375e-05 seconds ---\n"
     ]
    }
   ],
   "source": [
    "import time\n",
    "start_time = time.time()\n",
    "print(\"--- %s seconds ---\" % (time.time() - start_time))"
   ]
  },
  {
   "cell_type": "code",
   "execution_count": 7,
   "id": "7ffe7872",
   "metadata": {
    "ExecuteTime": {
     "end_time": "2021-10-28T10:39:24.466317Z",
     "start_time": "2021-10-28T10:39:24.287073Z"
    }
   },
   "outputs": [],
   "source": [
    "# Train-test split WITH stratification\n",
    "X = orig_df.loc[:, orig_df.columns != decision_label]\n",
    "y = orig_df.loc[:, orig_df.columns == decision_label].values\n",
    "X_train, X_test, y_train, y_test = train_test_split(X, y, test_size=0.30, \n",
    "                                                    shuffle=True,\n",
    "                                                    stratify=X['sub_labels'])"
   ]
  },
  {
   "cell_type": "code",
   "execution_count": 8,
   "id": "5e52f9b8",
   "metadata": {
    "ExecuteTime": {
     "end_time": "2021-10-28T10:39:27.178230Z",
     "start_time": "2021-10-28T10:39:27.175505Z"
    }
   },
   "outputs": [],
   "source": [
    "keep_sub_l = X_train['sub_labels']"
   ]
  },
  {
   "cell_type": "code",
   "execution_count": 9,
   "id": "ae196673",
   "metadata": {
    "ExecuteTime": {
     "end_time": "2021-10-28T10:39:27.578996Z",
     "start_time": "2021-10-28T10:39:27.546802Z"
    }
   },
   "outputs": [],
   "source": [
    "X_train_new = X_train.drop(['age', 'sex', 'sub_labels'], axis=1)"
   ]
  },
  {
   "cell_type": "code",
   "execution_count": 10,
   "id": "74ead96e",
   "metadata": {
    "ExecuteTime": {
     "end_time": "2021-10-28T10:39:27.804680Z",
     "start_time": "2021-10-28T10:39:27.799530Z"
    }
   },
   "outputs": [],
   "source": [
    "X_train_new['sub_labels'] = keep_sub_l"
   ]
  },
  {
   "cell_type": "code",
   "execution_count": 11,
   "id": "dd5b4b5f",
   "metadata": {
    "ExecuteTime": {
     "end_time": "2021-10-28T10:39:28.043628Z",
     "start_time": "2021-10-28T10:39:28.039870Z"
    }
   },
   "outputs": [],
   "source": [
    "X_train_new['class_labels'] = y_train"
   ]
  },
  {
   "cell_type": "code",
   "execution_count": 12,
   "id": "7dda2d76",
   "metadata": {
    "ExecuteTime": {
     "end_time": "2021-10-28T10:39:28.308098Z",
     "start_time": "2021-10-28T10:39:28.253968Z"
    }
   },
   "outputs": [
    {
     "data": {
      "text/html": [
       "<div>\n",
       "<style scoped>\n",
       "    .dataframe tbody tr th:only-of-type {\n",
       "        vertical-align: middle;\n",
       "    }\n",
       "\n",
       "    .dataframe tbody tr th {\n",
       "        vertical-align: top;\n",
       "    }\n",
       "\n",
       "    .dataframe thead th {\n",
       "        text-align: right;\n",
       "    }\n",
       "</style>\n",
       "<table border=\"1\" class=\"dataframe\">\n",
       "  <thead>\n",
       "    <tr style=\"text-align: right;\">\n",
       "      <th></th>\n",
       "      <th>race</th>\n",
       "      <th>juv_fel_count</th>\n",
       "      <th>juv_misd_count</th>\n",
       "      <th>juv_other_count</th>\n",
       "      <th>priors_count</th>\n",
       "      <th>age_cat=25 - 45</th>\n",
       "      <th>age_cat=Greater than 45</th>\n",
       "      <th>age_cat=Less than 25</th>\n",
       "      <th>c_charge_degree=F</th>\n",
       "      <th>c_charge_degree=M</th>\n",
       "      <th>...</th>\n",
       "      <th>c_charge_desc=Viol Injunction Protect Dom Vi</th>\n",
       "      <th>c_charge_desc=Viol Pretrial Release Dom Viol</th>\n",
       "      <th>c_charge_desc=Viol Prot Injunc Repeat Viol</th>\n",
       "      <th>c_charge_desc=Violation License Restrictions</th>\n",
       "      <th>c_charge_desc=Violation Of Boater Safety Id</th>\n",
       "      <th>c_charge_desc=Violation of Injunction Order/Stalking/Cyberstalking</th>\n",
       "      <th>c_charge_desc=Voyeurism</th>\n",
       "      <th>c_charge_desc=arrest case no charge</th>\n",
       "      <th>sub_labels</th>\n",
       "      <th>class_labels</th>\n",
       "    </tr>\n",
       "  </thead>\n",
       "  <tbody>\n",
       "    <tr>\n",
       "      <th>6161</th>\n",
       "      <td>0</td>\n",
       "      <td>0.0</td>\n",
       "      <td>0.0</td>\n",
       "      <td>0.0</td>\n",
       "      <td>6.0</td>\n",
       "      <td>1</td>\n",
       "      <td>0</td>\n",
       "      <td>0</td>\n",
       "      <td>1</td>\n",
       "      <td>0</td>\n",
       "      <td>...</td>\n",
       "      <td>0</td>\n",
       "      <td>0</td>\n",
       "      <td>0</td>\n",
       "      <td>0</td>\n",
       "      <td>0</td>\n",
       "      <td>0</td>\n",
       "      <td>0</td>\n",
       "      <td>1</td>\n",
       "      <td>1</td>\n",
       "      <td>1</td>\n",
       "    </tr>\n",
       "    <tr>\n",
       "      <th>9907</th>\n",
       "      <td>0</td>\n",
       "      <td>0.0</td>\n",
       "      <td>0.0</td>\n",
       "      <td>0.0</td>\n",
       "      <td>7.0</td>\n",
       "      <td>0</td>\n",
       "      <td>1</td>\n",
       "      <td>0</td>\n",
       "      <td>1</td>\n",
       "      <td>0</td>\n",
       "      <td>...</td>\n",
       "      <td>0</td>\n",
       "      <td>0</td>\n",
       "      <td>0</td>\n",
       "      <td>0</td>\n",
       "      <td>0</td>\n",
       "      <td>0</td>\n",
       "      <td>0</td>\n",
       "      <td>0</td>\n",
       "      <td>0</td>\n",
       "      <td>0</td>\n",
       "    </tr>\n",
       "    <tr>\n",
       "      <th>4825</th>\n",
       "      <td>0</td>\n",
       "      <td>0.0</td>\n",
       "      <td>0.0</td>\n",
       "      <td>0.0</td>\n",
       "      <td>0.0</td>\n",
       "      <td>0</td>\n",
       "      <td>0</td>\n",
       "      <td>1</td>\n",
       "      <td>0</td>\n",
       "      <td>1</td>\n",
       "      <td>...</td>\n",
       "      <td>0</td>\n",
       "      <td>0</td>\n",
       "      <td>0</td>\n",
       "      <td>0</td>\n",
       "      <td>0</td>\n",
       "      <td>0</td>\n",
       "      <td>0</td>\n",
       "      <td>0</td>\n",
       "      <td>0</td>\n",
       "      <td>0</td>\n",
       "    </tr>\n",
       "    <tr>\n",
       "      <th>9515</th>\n",
       "      <td>0</td>\n",
       "      <td>0.0</td>\n",
       "      <td>0.0</td>\n",
       "      <td>0.0</td>\n",
       "      <td>1.0</td>\n",
       "      <td>1</td>\n",
       "      <td>0</td>\n",
       "      <td>0</td>\n",
       "      <td>1</td>\n",
       "      <td>0</td>\n",
       "      <td>...</td>\n",
       "      <td>0</td>\n",
       "      <td>0</td>\n",
       "      <td>0</td>\n",
       "      <td>0</td>\n",
       "      <td>0</td>\n",
       "      <td>0</td>\n",
       "      <td>0</td>\n",
       "      <td>0</td>\n",
       "      <td>1</td>\n",
       "      <td>1</td>\n",
       "    </tr>\n",
       "    <tr>\n",
       "      <th>10758</th>\n",
       "      <td>0</td>\n",
       "      <td>0.0</td>\n",
       "      <td>0.0</td>\n",
       "      <td>0.0</td>\n",
       "      <td>4.0</td>\n",
       "      <td>0</td>\n",
       "      <td>1</td>\n",
       "      <td>0</td>\n",
       "      <td>0</td>\n",
       "      <td>1</td>\n",
       "      <td>...</td>\n",
       "      <td>0</td>\n",
       "      <td>0</td>\n",
       "      <td>0</td>\n",
       "      <td>0</td>\n",
       "      <td>0</td>\n",
       "      <td>0</td>\n",
       "      <td>0</td>\n",
       "      <td>0</td>\n",
       "      <td>1</td>\n",
       "      <td>1</td>\n",
       "    </tr>\n",
       "    <tr>\n",
       "      <th>...</th>\n",
       "      <td>...</td>\n",
       "      <td>...</td>\n",
       "      <td>...</td>\n",
       "      <td>...</td>\n",
       "      <td>...</td>\n",
       "      <td>...</td>\n",
       "      <td>...</td>\n",
       "      <td>...</td>\n",
       "      <td>...</td>\n",
       "      <td>...</td>\n",
       "      <td>...</td>\n",
       "      <td>...</td>\n",
       "      <td>...</td>\n",
       "      <td>...</td>\n",
       "      <td>...</td>\n",
       "      <td>...</td>\n",
       "      <td>...</td>\n",
       "      <td>...</td>\n",
       "      <td>...</td>\n",
       "      <td>...</td>\n",
       "      <td>...</td>\n",
       "    </tr>\n",
       "    <tr>\n",
       "      <th>823</th>\n",
       "      <td>0</td>\n",
       "      <td>0.0</td>\n",
       "      <td>0.0</td>\n",
       "      <td>0.0</td>\n",
       "      <td>14.0</td>\n",
       "      <td>1</td>\n",
       "      <td>0</td>\n",
       "      <td>0</td>\n",
       "      <td>1</td>\n",
       "      <td>0</td>\n",
       "      <td>...</td>\n",
       "      <td>0</td>\n",
       "      <td>0</td>\n",
       "      <td>0</td>\n",
       "      <td>0</td>\n",
       "      <td>0</td>\n",
       "      <td>0</td>\n",
       "      <td>0</td>\n",
       "      <td>0</td>\n",
       "      <td>0</td>\n",
       "      <td>0</td>\n",
       "    </tr>\n",
       "    <tr>\n",
       "      <th>5729</th>\n",
       "      <td>1</td>\n",
       "      <td>0.0</td>\n",
       "      <td>1.0</td>\n",
       "      <td>0.0</td>\n",
       "      <td>4.0</td>\n",
       "      <td>0</td>\n",
       "      <td>0</td>\n",
       "      <td>1</td>\n",
       "      <td>0</td>\n",
       "      <td>1</td>\n",
       "      <td>...</td>\n",
       "      <td>0</td>\n",
       "      <td>0</td>\n",
       "      <td>0</td>\n",
       "      <td>0</td>\n",
       "      <td>0</td>\n",
       "      <td>0</td>\n",
       "      <td>0</td>\n",
       "      <td>0</td>\n",
       "      <td>2</td>\n",
       "      <td>0</td>\n",
       "    </tr>\n",
       "    <tr>\n",
       "      <th>2516</th>\n",
       "      <td>0</td>\n",
       "      <td>0.0</td>\n",
       "      <td>0.0</td>\n",
       "      <td>0.0</td>\n",
       "      <td>1.0</td>\n",
       "      <td>0</td>\n",
       "      <td>0</td>\n",
       "      <td>1</td>\n",
       "      <td>1</td>\n",
       "      <td>0</td>\n",
       "      <td>...</td>\n",
       "      <td>0</td>\n",
       "      <td>0</td>\n",
       "      <td>0</td>\n",
       "      <td>0</td>\n",
       "      <td>0</td>\n",
       "      <td>0</td>\n",
       "      <td>0</td>\n",
       "      <td>0</td>\n",
       "      <td>1</td>\n",
       "      <td>1</td>\n",
       "    </tr>\n",
       "    <tr>\n",
       "      <th>3331</th>\n",
       "      <td>0</td>\n",
       "      <td>0.0</td>\n",
       "      <td>0.0</td>\n",
       "      <td>0.0</td>\n",
       "      <td>3.0</td>\n",
       "      <td>1</td>\n",
       "      <td>0</td>\n",
       "      <td>0</td>\n",
       "      <td>1</td>\n",
       "      <td>0</td>\n",
       "      <td>...</td>\n",
       "      <td>0</td>\n",
       "      <td>0</td>\n",
       "      <td>0</td>\n",
       "      <td>0</td>\n",
       "      <td>0</td>\n",
       "      <td>0</td>\n",
       "      <td>0</td>\n",
       "      <td>0</td>\n",
       "      <td>0</td>\n",
       "      <td>0</td>\n",
       "    </tr>\n",
       "    <tr>\n",
       "      <th>4566</th>\n",
       "      <td>0</td>\n",
       "      <td>0.0</td>\n",
       "      <td>0.0</td>\n",
       "      <td>0.0</td>\n",
       "      <td>1.0</td>\n",
       "      <td>1</td>\n",
       "      <td>0</td>\n",
       "      <td>0</td>\n",
       "      <td>0</td>\n",
       "      <td>1</td>\n",
       "      <td>...</td>\n",
       "      <td>0</td>\n",
       "      <td>0</td>\n",
       "      <td>0</td>\n",
       "      <td>0</td>\n",
       "      <td>0</td>\n",
       "      <td>0</td>\n",
       "      <td>0</td>\n",
       "      <td>0</td>\n",
       "      <td>5</td>\n",
       "      <td>1</td>\n",
       "    </tr>\n",
       "  </tbody>\n",
       "</table>\n",
       "<p>3691 rows × 377 columns</p>\n",
       "</div>"
      ],
      "text/plain": [
       "      race  juv_fel_count  juv_misd_count  juv_other_count  priors_count  \\\n",
       "6161     0            0.0             0.0              0.0           6.0   \n",
       "9907     0            0.0             0.0              0.0           7.0   \n",
       "4825     0            0.0             0.0              0.0           0.0   \n",
       "9515     0            0.0             0.0              0.0           1.0   \n",
       "10758    0            0.0             0.0              0.0           4.0   \n",
       "...    ...            ...             ...              ...           ...   \n",
       "823      0            0.0             0.0              0.0          14.0   \n",
       "5729     1            0.0             1.0              0.0           4.0   \n",
       "2516     0            0.0             0.0              0.0           1.0   \n",
       "3331     0            0.0             0.0              0.0           3.0   \n",
       "4566     0            0.0             0.0              0.0           1.0   \n",
       "\n",
       "      age_cat=25 - 45 age_cat=Greater than 45 age_cat=Less than 25  \\\n",
       "6161                1                       0                    0   \n",
       "9907                0                       1                    0   \n",
       "4825                0                       0                    1   \n",
       "9515                1                       0                    0   \n",
       "10758               0                       1                    0   \n",
       "...               ...                     ...                  ...   \n",
       "823                 1                       0                    0   \n",
       "5729                0                       0                    1   \n",
       "2516                0                       0                    1   \n",
       "3331                1                       0                    0   \n",
       "4566                1                       0                    0   \n",
       "\n",
       "      c_charge_degree=F c_charge_degree=M  ...  \\\n",
       "6161                  1                 0  ...   \n",
       "9907                  1                 0  ...   \n",
       "4825                  0                 1  ...   \n",
       "9515                  1                 0  ...   \n",
       "10758                 0                 1  ...   \n",
       "...                 ...               ...  ...   \n",
       "823                   1                 0  ...   \n",
       "5729                  0                 1  ...   \n",
       "2516                  1                 0  ...   \n",
       "3331                  1                 0  ...   \n",
       "4566                  0                 1  ...   \n",
       "\n",
       "      c_charge_desc=Viol Injunction Protect Dom Vi  \\\n",
       "6161                                             0   \n",
       "9907                                             0   \n",
       "4825                                             0   \n",
       "9515                                             0   \n",
       "10758                                            0   \n",
       "...                                            ...   \n",
       "823                                              0   \n",
       "5729                                             0   \n",
       "2516                                             0   \n",
       "3331                                             0   \n",
       "4566                                             0   \n",
       "\n",
       "      c_charge_desc=Viol Pretrial Release Dom Viol  \\\n",
       "6161                                             0   \n",
       "9907                                             0   \n",
       "4825                                             0   \n",
       "9515                                             0   \n",
       "10758                                            0   \n",
       "...                                            ...   \n",
       "823                                              0   \n",
       "5729                                             0   \n",
       "2516                                             0   \n",
       "3331                                             0   \n",
       "4566                                             0   \n",
       "\n",
       "      c_charge_desc=Viol Prot Injunc Repeat Viol  \\\n",
       "6161                                           0   \n",
       "9907                                           0   \n",
       "4825                                           0   \n",
       "9515                                           0   \n",
       "10758                                          0   \n",
       "...                                          ...   \n",
       "823                                            0   \n",
       "5729                                           0   \n",
       "2516                                           0   \n",
       "3331                                           0   \n",
       "4566                                           0   \n",
       "\n",
       "      c_charge_desc=Violation License Restrictions  \\\n",
       "6161                                             0   \n",
       "9907                                             0   \n",
       "4825                                             0   \n",
       "9515                                             0   \n",
       "10758                                            0   \n",
       "...                                            ...   \n",
       "823                                              0   \n",
       "5729                                             0   \n",
       "2516                                             0   \n",
       "3331                                             0   \n",
       "4566                                             0   \n",
       "\n",
       "      c_charge_desc=Violation Of Boater Safety Id  \\\n",
       "6161                                            0   \n",
       "9907                                            0   \n",
       "4825                                            0   \n",
       "9515                                            0   \n",
       "10758                                           0   \n",
       "...                                           ...   \n",
       "823                                             0   \n",
       "5729                                            0   \n",
       "2516                                            0   \n",
       "3331                                            0   \n",
       "4566                                            0   \n",
       "\n",
       "      c_charge_desc=Violation of Injunction Order/Stalking/Cyberstalking  \\\n",
       "6161                                                   0                   \n",
       "9907                                                   0                   \n",
       "4825                                                   0                   \n",
       "9515                                                   0                   \n",
       "10758                                                  0                   \n",
       "...                                                  ...                   \n",
       "823                                                    0                   \n",
       "5729                                                   0                   \n",
       "2516                                                   0                   \n",
       "3331                                                   0                   \n",
       "4566                                                   0                   \n",
       "\n",
       "      c_charge_desc=Voyeurism c_charge_desc=arrest case no charge sub_labels  \\\n",
       "6161                        0                                   1          1   \n",
       "9907                        0                                   0          0   \n",
       "4825                        0                                   0          0   \n",
       "9515                        0                                   0          1   \n",
       "10758                       0                                   0          1   \n",
       "...                       ...                                 ...        ...   \n",
       "823                         0                                   0          0   \n",
       "5729                        0                                   0          2   \n",
       "2516                        0                                   0          1   \n",
       "3331                        0                                   0          0   \n",
       "4566                        0                                   0          5   \n",
       "\n",
       "      class_labels  \n",
       "6161             1  \n",
       "9907             0  \n",
       "4825             0  \n",
       "9515             1  \n",
       "10758            1  \n",
       "...            ...  \n",
       "823              0  \n",
       "5729             0  \n",
       "2516             1  \n",
       "3331             0  \n",
       "4566             1  \n",
       "\n",
       "[3691 rows x 377 columns]"
      ]
     },
     "execution_count": 12,
     "metadata": {},
     "output_type": "execute_result"
    }
   ],
   "source": [
    "X_train_new"
   ]
  },
  {
   "cell_type": "markdown",
   "id": "cc56dfb8",
   "metadata": {},
   "source": [
    "# Here we start the GAN work"
   ]
  },
  {
   "cell_type": "code",
   "execution_count": 13,
   "id": "4dad08f0",
   "metadata": {
    "ExecuteTime": {
     "end_time": "2021-10-28T10:39:33.244997Z",
     "start_time": "2021-10-28T10:39:33.135736Z"
    }
   },
   "outputs": [],
   "source": [
    "from sdv.tabular import CTGAN\n",
    "model = CTGAN()"
   ]
  },
  {
   "cell_type": "raw",
   "id": "35157251",
   "metadata": {
    "ExecuteTime": {
     "end_time": "2021-10-26T12:51:27.421578Z",
     "start_time": "2021-10-26T11:47:18.445776Z"
    },
    "scrolled": true
   },
   "source": [
    "from sdv.tabular import CTGAN\n",
    "model = CTGAN()\n",
    "start_time = time.time()\n",
    "model.fit(X_train_new)\n",
    "print(\"--- %s seconds ---\" % (time.time() - start_time))"
   ]
  },
  {
   "cell_type": "raw",
   "id": "98132b7e",
   "metadata": {
    "ExecuteTime": {
     "end_time": "2021-10-26T12:52:18.107861Z",
     "start_time": "2021-10-26T12:52:18.035783Z"
    }
   },
   "source": [
    "model.save('my_fariness_Compas_V3.pkl')"
   ]
  },
  {
   "cell_type": "code",
   "execution_count": 14,
   "id": "1f80bd18",
   "metadata": {
    "ExecuteTime": {
     "end_time": "2021-10-28T10:39:35.283970Z",
     "start_time": "2021-10-28T10:39:34.722676Z"
    }
   },
   "outputs": [],
   "source": [
    "loaded = CTGAN.load('my_fariness_Compas_V3.pkl')"
   ]
  },
  {
   "cell_type": "code",
   "execution_count": 15,
   "id": "ef5e2706",
   "metadata": {
    "ExecuteTime": {
     "end_time": "2021-10-28T10:39:37.660299Z",
     "start_time": "2021-10-28T10:39:37.643583Z"
    }
   },
   "outputs": [
    {
     "name": "stdout",
     "output_type": "stream",
     "text": [
      "1021\n",
      "0\n"
     ]
    }
   ],
   "source": [
    "# print(X_train.loc[:,\"sub_labels\"])\n",
    "available_rows = {}\n",
    "for row_count in range(8):\n",
    "    available_rows[row_count] = X_train[\"sub_labels\"].value_counts()[row_count]\n",
    "        \n",
    "target_rows = max(available_rows.values())\n",
    "max_label = max(available_rows, key=available_rows.get)\n",
    "print(target_rows)\n",
    "print(max_label)\n",
    "# print(X_train[\"sub_labels\"].value_counts())\n"
   ]
  },
  {
   "cell_type": "code",
   "execution_count": 16,
   "id": "a020cc5f",
   "metadata": {
    "ExecuteTime": {
     "end_time": "2021-10-28T10:39:40.494611Z",
     "start_time": "2021-10-28T10:39:40.490310Z"
    }
   },
   "outputs": [],
   "source": [
    "main_df = pd.DataFrame()"
   ]
  },
  {
   "cell_type": "code",
   "execution_count": 17,
   "id": "20cb9e2c",
   "metadata": {
    "ExecuteTime": {
     "end_time": "2021-10-28T10:40:48.436668Z",
     "start_time": "2021-10-28T10:39:41.719204Z"
    }
   },
   "outputs": [
    {
     "name": "stdout",
     "output_type": "stream",
     "text": [
      "4477\n"
     ]
    }
   ],
   "source": [
    "for key, value in available_rows.items():\n",
    "    if int(key) != int(max_label):\n",
    "        conditions = {\n",
    "            \"sub_labels\" : int(key),\n",
    "        }\n",
    "        needed_rows = target_rows - value\n",
    "        main_df = pd.concat([main_df, loaded.sample(needed_rows, conditions=conditions)])\n",
    "        \n",
    "print(len(main_df.index))"
   ]
  },
  {
   "cell_type": "markdown",
   "id": "08af1c78",
   "metadata": {},
   "source": [
    "# Extreme Gradient Boosting Classifier"
   ]
  },
  {
   "cell_type": "code",
   "execution_count": 18,
   "id": "1e25dd98",
   "metadata": {
    "ExecuteTime": {
     "end_time": "2021-10-28T10:41:25.657666Z",
     "start_time": "2021-10-28T10:41:18.251802Z"
    }
   },
   "outputs": [],
   "source": [
    "# Type the desired classifier to train the classification models with model obj\n",
    "xgb= GradientBoostingClassifier()\n",
    "baseline_stats, cm, ratio_table, preds = baseline_metrics(xgb, X_train, X_test, \n",
    "                                                  y_train, y_test, sens_attr, \n",
    "                                                  fav_l, unfav_l)"
   ]
  },
  {
   "cell_type": "code",
   "execution_count": 19,
   "id": "dcacea2b",
   "metadata": {
    "ExecuteTime": {
     "end_time": "2021-10-28T10:41:30.110474Z",
     "start_time": "2021-10-28T10:41:30.033602Z"
    }
   },
   "outputs": [],
   "source": [
    "test_sublabels = X_test['sub_labels']\n",
    "X_test_n = X_test.drop(['race', 'sex','sub_labels'], axis=1)\n",
    "num_list, cat_list = type_lists(X_test_n)"
   ]
  },
  {
   "cell_type": "code",
   "execution_count": 20,
   "id": "219ef33e",
   "metadata": {
    "ExecuteTime": {
     "end_time": "2021-10-28T10:41:31.311113Z",
     "start_time": "2021-10-28T10:41:30.966712Z"
    }
   },
   "outputs": [],
   "source": [
    "final_df = pd.concat([main_df, X_train_new])"
   ]
  },
  {
   "cell_type": "code",
   "execution_count": 21,
   "id": "3d026926",
   "metadata": {
    "ExecuteTime": {
     "end_time": "2021-10-28T10:41:32.548752Z",
     "start_time": "2021-10-28T10:41:32.475457Z"
    }
   },
   "outputs": [
    {
     "data": {
      "text/html": [
       "<div>\n",
       "<style scoped>\n",
       "    .dataframe tbody tr th:only-of-type {\n",
       "        vertical-align: middle;\n",
       "    }\n",
       "\n",
       "    .dataframe tbody tr th {\n",
       "        vertical-align: top;\n",
       "    }\n",
       "\n",
       "    .dataframe thead th {\n",
       "        text-align: right;\n",
       "    }\n",
       "</style>\n",
       "<table border=\"1\" class=\"dataframe\">\n",
       "  <thead>\n",
       "    <tr style=\"text-align: right;\">\n",
       "      <th></th>\n",
       "      <th>race</th>\n",
       "      <th>juv_fel_count</th>\n",
       "      <th>juv_misd_count</th>\n",
       "      <th>juv_other_count</th>\n",
       "      <th>priors_count</th>\n",
       "      <th>age_cat=25 - 45</th>\n",
       "      <th>age_cat=Greater than 45</th>\n",
       "      <th>age_cat=Less than 25</th>\n",
       "      <th>c_charge_degree=F</th>\n",
       "      <th>c_charge_degree=M</th>\n",
       "      <th>...</th>\n",
       "      <th>c_charge_desc=Viol Injunction Protect Dom Vi</th>\n",
       "      <th>c_charge_desc=Viol Pretrial Release Dom Viol</th>\n",
       "      <th>c_charge_desc=Viol Prot Injunc Repeat Viol</th>\n",
       "      <th>c_charge_desc=Violation License Restrictions</th>\n",
       "      <th>c_charge_desc=Violation Of Boater Safety Id</th>\n",
       "      <th>c_charge_desc=Violation of Injunction Order/Stalking/Cyberstalking</th>\n",
       "      <th>c_charge_desc=Voyeurism</th>\n",
       "      <th>c_charge_desc=arrest case no charge</th>\n",
       "      <th>sub_labels</th>\n",
       "      <th>class_labels</th>\n",
       "    </tr>\n",
       "  </thead>\n",
       "  <tbody>\n",
       "    <tr>\n",
       "      <th>0</th>\n",
       "      <td>1</td>\n",
       "      <td>0.0</td>\n",
       "      <td>0.0</td>\n",
       "      <td>0.0</td>\n",
       "      <td>0.0</td>\n",
       "      <td>0</td>\n",
       "      <td>1</td>\n",
       "      <td>1</td>\n",
       "      <td>1</td>\n",
       "      <td>0</td>\n",
       "      <td>...</td>\n",
       "      <td>0</td>\n",
       "      <td>0</td>\n",
       "      <td>0</td>\n",
       "      <td>0</td>\n",
       "      <td>0</td>\n",
       "      <td>0</td>\n",
       "      <td>0</td>\n",
       "      <td>0</td>\n",
       "      <td>1</td>\n",
       "      <td>1</td>\n",
       "    </tr>\n",
       "    <tr>\n",
       "      <th>1</th>\n",
       "      <td>0</td>\n",
       "      <td>0.0</td>\n",
       "      <td>0.0</td>\n",
       "      <td>0.0</td>\n",
       "      <td>4.0</td>\n",
       "      <td>0</td>\n",
       "      <td>1</td>\n",
       "      <td>1</td>\n",
       "      <td>1</td>\n",
       "      <td>0</td>\n",
       "      <td>...</td>\n",
       "      <td>0</td>\n",
       "      <td>0</td>\n",
       "      <td>0</td>\n",
       "      <td>0</td>\n",
       "      <td>0</td>\n",
       "      <td>0</td>\n",
       "      <td>0</td>\n",
       "      <td>0</td>\n",
       "      <td>1</td>\n",
       "      <td>1</td>\n",
       "    </tr>\n",
       "    <tr>\n",
       "      <th>2</th>\n",
       "      <td>1</td>\n",
       "      <td>0.0</td>\n",
       "      <td>0.0</td>\n",
       "      <td>0.0</td>\n",
       "      <td>2.0</td>\n",
       "      <td>1</td>\n",
       "      <td>0</td>\n",
       "      <td>0</td>\n",
       "      <td>1</td>\n",
       "      <td>1</td>\n",
       "      <td>...</td>\n",
       "      <td>0</td>\n",
       "      <td>0</td>\n",
       "      <td>0</td>\n",
       "      <td>0</td>\n",
       "      <td>0</td>\n",
       "      <td>0</td>\n",
       "      <td>0</td>\n",
       "      <td>1</td>\n",
       "      <td>1</td>\n",
       "      <td>1</td>\n",
       "    </tr>\n",
       "    <tr>\n",
       "      <th>3</th>\n",
       "      <td>0</td>\n",
       "      <td>0.0</td>\n",
       "      <td>0.0</td>\n",
       "      <td>0.0</td>\n",
       "      <td>4.0</td>\n",
       "      <td>0</td>\n",
       "      <td>1</td>\n",
       "      <td>1</td>\n",
       "      <td>1</td>\n",
       "      <td>0</td>\n",
       "      <td>...</td>\n",
       "      <td>0</td>\n",
       "      <td>0</td>\n",
       "      <td>0</td>\n",
       "      <td>0</td>\n",
       "      <td>0</td>\n",
       "      <td>0</td>\n",
       "      <td>0</td>\n",
       "      <td>0</td>\n",
       "      <td>1</td>\n",
       "      <td>1</td>\n",
       "    </tr>\n",
       "    <tr>\n",
       "      <th>4</th>\n",
       "      <td>0</td>\n",
       "      <td>0.0</td>\n",
       "      <td>0.0</td>\n",
       "      <td>1.0</td>\n",
       "      <td>6.0</td>\n",
       "      <td>0</td>\n",
       "      <td>1</td>\n",
       "      <td>1</td>\n",
       "      <td>0</td>\n",
       "      <td>0</td>\n",
       "      <td>...</td>\n",
       "      <td>0</td>\n",
       "      <td>0</td>\n",
       "      <td>0</td>\n",
       "      <td>0</td>\n",
       "      <td>0</td>\n",
       "      <td>0</td>\n",
       "      <td>0</td>\n",
       "      <td>0</td>\n",
       "      <td>1</td>\n",
       "      <td>1</td>\n",
       "    </tr>\n",
       "    <tr>\n",
       "      <th>...</th>\n",
       "      <td>...</td>\n",
       "      <td>...</td>\n",
       "      <td>...</td>\n",
       "      <td>...</td>\n",
       "      <td>...</td>\n",
       "      <td>...</td>\n",
       "      <td>...</td>\n",
       "      <td>...</td>\n",
       "      <td>...</td>\n",
       "      <td>...</td>\n",
       "      <td>...</td>\n",
       "      <td>...</td>\n",
       "      <td>...</td>\n",
       "      <td>...</td>\n",
       "      <td>...</td>\n",
       "      <td>...</td>\n",
       "      <td>...</td>\n",
       "      <td>...</td>\n",
       "      <td>...</td>\n",
       "      <td>...</td>\n",
       "      <td>...</td>\n",
       "    </tr>\n",
       "    <tr>\n",
       "      <th>823</th>\n",
       "      <td>0</td>\n",
       "      <td>0.0</td>\n",
       "      <td>0.0</td>\n",
       "      <td>0.0</td>\n",
       "      <td>14.0</td>\n",
       "      <td>1</td>\n",
       "      <td>0</td>\n",
       "      <td>0</td>\n",
       "      <td>1</td>\n",
       "      <td>0</td>\n",
       "      <td>...</td>\n",
       "      <td>0</td>\n",
       "      <td>0</td>\n",
       "      <td>0</td>\n",
       "      <td>0</td>\n",
       "      <td>0</td>\n",
       "      <td>0</td>\n",
       "      <td>0</td>\n",
       "      <td>0</td>\n",
       "      <td>0</td>\n",
       "      <td>0</td>\n",
       "    </tr>\n",
       "    <tr>\n",
       "      <th>5729</th>\n",
       "      <td>1</td>\n",
       "      <td>0.0</td>\n",
       "      <td>1.0</td>\n",
       "      <td>0.0</td>\n",
       "      <td>4.0</td>\n",
       "      <td>0</td>\n",
       "      <td>0</td>\n",
       "      <td>1</td>\n",
       "      <td>0</td>\n",
       "      <td>1</td>\n",
       "      <td>...</td>\n",
       "      <td>0</td>\n",
       "      <td>0</td>\n",
       "      <td>0</td>\n",
       "      <td>0</td>\n",
       "      <td>0</td>\n",
       "      <td>0</td>\n",
       "      <td>0</td>\n",
       "      <td>0</td>\n",
       "      <td>2</td>\n",
       "      <td>0</td>\n",
       "    </tr>\n",
       "    <tr>\n",
       "      <th>2516</th>\n",
       "      <td>0</td>\n",
       "      <td>0.0</td>\n",
       "      <td>0.0</td>\n",
       "      <td>0.0</td>\n",
       "      <td>1.0</td>\n",
       "      <td>0</td>\n",
       "      <td>0</td>\n",
       "      <td>1</td>\n",
       "      <td>1</td>\n",
       "      <td>0</td>\n",
       "      <td>...</td>\n",
       "      <td>0</td>\n",
       "      <td>0</td>\n",
       "      <td>0</td>\n",
       "      <td>0</td>\n",
       "      <td>0</td>\n",
       "      <td>0</td>\n",
       "      <td>0</td>\n",
       "      <td>0</td>\n",
       "      <td>1</td>\n",
       "      <td>1</td>\n",
       "    </tr>\n",
       "    <tr>\n",
       "      <th>3331</th>\n",
       "      <td>0</td>\n",
       "      <td>0.0</td>\n",
       "      <td>0.0</td>\n",
       "      <td>0.0</td>\n",
       "      <td>3.0</td>\n",
       "      <td>1</td>\n",
       "      <td>0</td>\n",
       "      <td>0</td>\n",
       "      <td>1</td>\n",
       "      <td>0</td>\n",
       "      <td>...</td>\n",
       "      <td>0</td>\n",
       "      <td>0</td>\n",
       "      <td>0</td>\n",
       "      <td>0</td>\n",
       "      <td>0</td>\n",
       "      <td>0</td>\n",
       "      <td>0</td>\n",
       "      <td>0</td>\n",
       "      <td>0</td>\n",
       "      <td>0</td>\n",
       "    </tr>\n",
       "    <tr>\n",
       "      <th>4566</th>\n",
       "      <td>0</td>\n",
       "      <td>0.0</td>\n",
       "      <td>0.0</td>\n",
       "      <td>0.0</td>\n",
       "      <td>1.0</td>\n",
       "      <td>1</td>\n",
       "      <td>0</td>\n",
       "      <td>0</td>\n",
       "      <td>0</td>\n",
       "      <td>1</td>\n",
       "      <td>...</td>\n",
       "      <td>0</td>\n",
       "      <td>0</td>\n",
       "      <td>0</td>\n",
       "      <td>0</td>\n",
       "      <td>0</td>\n",
       "      <td>0</td>\n",
       "      <td>0</td>\n",
       "      <td>0</td>\n",
       "      <td>5</td>\n",
       "      <td>1</td>\n",
       "    </tr>\n",
       "  </tbody>\n",
       "</table>\n",
       "<p>8168 rows × 377 columns</p>\n",
       "</div>"
      ],
      "text/plain": [
       "     race  juv_fel_count  juv_misd_count  juv_other_count  priors_count  \\\n",
       "0       1            0.0             0.0              0.0           0.0   \n",
       "1       0            0.0             0.0              0.0           4.0   \n",
       "2       1            0.0             0.0              0.0           2.0   \n",
       "3       0            0.0             0.0              0.0           4.0   \n",
       "4       0            0.0             0.0              1.0           6.0   \n",
       "...   ...            ...             ...              ...           ...   \n",
       "823     0            0.0             0.0              0.0          14.0   \n",
       "5729    1            0.0             1.0              0.0           4.0   \n",
       "2516    0            0.0             0.0              0.0           1.0   \n",
       "3331    0            0.0             0.0              0.0           3.0   \n",
       "4566    0            0.0             0.0              0.0           1.0   \n",
       "\n",
       "     age_cat=25 - 45 age_cat=Greater than 45 age_cat=Less than 25  \\\n",
       "0                  0                       1                    1   \n",
       "1                  0                       1                    1   \n",
       "2                  1                       0                    0   \n",
       "3                  0                       1                    1   \n",
       "4                  0                       1                    1   \n",
       "...              ...                     ...                  ...   \n",
       "823                1                       0                    0   \n",
       "5729               0                       0                    1   \n",
       "2516               0                       0                    1   \n",
       "3331               1                       0                    0   \n",
       "4566               1                       0                    0   \n",
       "\n",
       "     c_charge_degree=F c_charge_degree=M  ...  \\\n",
       "0                    1                 0  ...   \n",
       "1                    1                 0  ...   \n",
       "2                    1                 1  ...   \n",
       "3                    1                 0  ...   \n",
       "4                    0                 0  ...   \n",
       "...                ...               ...  ...   \n",
       "823                  1                 0  ...   \n",
       "5729                 0                 1  ...   \n",
       "2516                 1                 0  ...   \n",
       "3331                 1                 0  ...   \n",
       "4566                 0                 1  ...   \n",
       "\n",
       "     c_charge_desc=Viol Injunction Protect Dom Vi  \\\n",
       "0                                               0   \n",
       "1                                               0   \n",
       "2                                               0   \n",
       "3                                               0   \n",
       "4                                               0   \n",
       "...                                           ...   \n",
       "823                                             0   \n",
       "5729                                            0   \n",
       "2516                                            0   \n",
       "3331                                            0   \n",
       "4566                                            0   \n",
       "\n",
       "     c_charge_desc=Viol Pretrial Release Dom Viol  \\\n",
       "0                                               0   \n",
       "1                                               0   \n",
       "2                                               0   \n",
       "3                                               0   \n",
       "4                                               0   \n",
       "...                                           ...   \n",
       "823                                             0   \n",
       "5729                                            0   \n",
       "2516                                            0   \n",
       "3331                                            0   \n",
       "4566                                            0   \n",
       "\n",
       "     c_charge_desc=Viol Prot Injunc Repeat Viol  \\\n",
       "0                                             0   \n",
       "1                                             0   \n",
       "2                                             0   \n",
       "3                                             0   \n",
       "4                                             0   \n",
       "...                                         ...   \n",
       "823                                           0   \n",
       "5729                                          0   \n",
       "2516                                          0   \n",
       "3331                                          0   \n",
       "4566                                          0   \n",
       "\n",
       "     c_charge_desc=Violation License Restrictions  \\\n",
       "0                                               0   \n",
       "1                                               0   \n",
       "2                                               0   \n",
       "3                                               0   \n",
       "4                                               0   \n",
       "...                                           ...   \n",
       "823                                             0   \n",
       "5729                                            0   \n",
       "2516                                            0   \n",
       "3331                                            0   \n",
       "4566                                            0   \n",
       "\n",
       "     c_charge_desc=Violation Of Boater Safety Id  \\\n",
       "0                                              0   \n",
       "1                                              0   \n",
       "2                                              0   \n",
       "3                                              0   \n",
       "4                                              0   \n",
       "...                                          ...   \n",
       "823                                            0   \n",
       "5729                                           0   \n",
       "2516                                           0   \n",
       "3331                                           0   \n",
       "4566                                           0   \n",
       "\n",
       "     c_charge_desc=Violation of Injunction Order/Stalking/Cyberstalking  \\\n",
       "0                                                     0                   \n",
       "1                                                     0                   \n",
       "2                                                     0                   \n",
       "3                                                     0                   \n",
       "4                                                     0                   \n",
       "...                                                 ...                   \n",
       "823                                                   0                   \n",
       "5729                                                  0                   \n",
       "2516                                                  0                   \n",
       "3331                                                  0                   \n",
       "4566                                                  0                   \n",
       "\n",
       "     c_charge_desc=Voyeurism c_charge_desc=arrest case no charge sub_labels  \\\n",
       "0                          0                                   0          1   \n",
       "1                          0                                   0          1   \n",
       "2                          0                                   1          1   \n",
       "3                          0                                   0          1   \n",
       "4                          0                                   0          1   \n",
       "...                      ...                                 ...        ...   \n",
       "823                        0                                   0          0   \n",
       "5729                       0                                   0          2   \n",
       "2516                       0                                   0          1   \n",
       "3331                       0                                   0          0   \n",
       "4566                       0                                   0          5   \n",
       "\n",
       "     class_labels  \n",
       "0               1  \n",
       "1               1  \n",
       "2               1  \n",
       "3               1  \n",
       "4               1  \n",
       "...           ...  \n",
       "823             0  \n",
       "5729            0  \n",
       "2516            1  \n",
       "3331            0  \n",
       "4566            1  \n",
       "\n",
       "[8168 rows x 377 columns]"
      ]
     },
     "execution_count": 21,
     "metadata": {},
     "output_type": "execute_result"
    }
   ],
   "source": [
    "final_df "
   ]
  },
  {
   "cell_type": "code",
   "execution_count": 22,
   "id": "a355bb88",
   "metadata": {
    "ExecuteTime": {
     "end_time": "2021-10-28T10:41:37.769286Z",
     "start_time": "2021-10-28T10:41:37.762122Z"
    }
   },
   "outputs": [
    {
     "data": {
      "text/plain": [
       "7    1021\n",
       "6    1021\n",
       "5    1021\n",
       "4    1021\n",
       "3    1021\n",
       "2    1021\n",
       "1    1021\n",
       "0    1021\n",
       "Name: sub_labels, dtype: int64"
      ]
     },
     "execution_count": 22,
     "metadata": {},
     "output_type": "execute_result"
    }
   ],
   "source": [
    "final_df['sub_labels'].value_counts()"
   ]
  },
  {
   "cell_type": "code",
   "execution_count": 23,
   "id": "3c370563",
   "metadata": {
    "ExecuteTime": {
     "end_time": "2021-10-28T10:41:41.239984Z",
     "start_time": "2021-10-28T10:41:41.234608Z"
    },
    "scrolled": true
   },
   "outputs": [
    {
     "name": "stdout",
     "output_type": "stream",
     "text": [
      "                       Base Ratio  Positive Ratio  Negative Ratio\n",
      "Index                                                            \n",
      "{'race': 0, 'sex': 0}    0.497472        0.204804        0.292668\n",
      "{'race': 1, 'sex': 0}    0.307206        0.213021        0.094185\n",
      "{'race': 0, 'sex': 1}    0.104298        0.067636        0.036662\n",
      "{'race': 1, 'sex': 1}    0.091024        0.069532        0.021492\n"
     ]
    }
   ],
   "source": [
    "print(ratio_table)"
   ]
  },
  {
   "cell_type": "code",
   "execution_count": 24,
   "id": "2a9cdf0c",
   "metadata": {
    "ExecuteTime": {
     "end_time": "2021-10-28T10:42:27.640417Z",
     "start_time": "2021-10-28T10:42:21.936132Z"
    }
   },
   "outputs": [],
   "source": [
    "# Predicting the test sets using the extreme gradient boosting \n",
    "X_test_pred_xgb = predict_whole_set(xgb, final_df, X_test_n)"
   ]
  },
  {
   "cell_type": "code",
   "execution_count": 25,
   "id": "0d097048",
   "metadata": {
    "ExecuteTime": {
     "end_time": "2021-10-28T10:42:45.269408Z",
     "start_time": "2021-10-28T10:42:40.259518Z"
    }
   },
   "outputs": [],
   "source": [
    "metrics_table1, cm1, ratio_t1 = metrics_calculate(X_test, X_test_pred_xgb, y_test,\n",
    "                                                  sens_attr, fav_l, unfav_l)\n"
   ]
  },
  {
   "cell_type": "code",
   "execution_count": 26,
   "id": "aca0369b",
   "metadata": {
    "ExecuteTime": {
     "end_time": "2021-10-28T10:42:45.285417Z",
     "start_time": "2021-10-28T10:42:45.270857Z"
    }
   },
   "outputs": [
    {
     "name": "stdout",
     "output_type": "stream",
     "text": [
      "                                                AEO Difference  \\\n",
      "[{'race': 0, 'sex': 0}][{'race': 1, 'sex': 0}]       -0.119925   \n",
      "[{'race': 1, 'sex': 0}][{'race': 0, 'sex': 1}]       -0.034355   \n",
      "[{'race': 0, 'sex': 1}][{'race': 1, 'sex': 1}]        0.007313   \n",
      "[{'race': 0, 'sex': 0}][{'race': 0, 'sex': 1}]       -0.154280   \n",
      "[{'race': 1, 'sex': 0}][{'race': 1, 'sex': 1}]       -0.027042   \n",
      "[{'race': 0, 'sex': 0}][{'race': 1, 'sex': 1}]       -0.146967   \n",
      "\n",
      "                                                Disparate Impact Ratio  \\\n",
      "[{'race': 0, 'sex': 0}][{'race': 1, 'sex': 0}]                0.824351   \n",
      "[{'race': 1, 'sex': 0}][{'race': 0, 'sex': 1}]                0.972639   \n",
      "[{'race': 0, 'sex': 1}][{'race': 1, 'sex': 1}]                0.993566   \n",
      "[{'race': 0, 'sex': 0}][{'race': 0, 'sex': 1}]                0.801796   \n",
      "[{'race': 1, 'sex': 0}][{'race': 1, 'sex': 1}]                0.966382   \n",
      "[{'race': 0, 'sex': 0}][{'race': 1, 'sex': 1}]                0.796638   \n",
      "\n",
      "                                                Dem Parity Difference  \\\n",
      "[{'race': 0, 'sex': 0}][{'race': 1, 'sex': 0}]              -0.153241   \n",
      "[{'race': 1, 'sex': 0}][{'race': 0, 'sex': 1}]              -0.024542   \n",
      "[{'race': 0, 'sex': 1}][{'race': 1, 'sex': 1}]              -0.005808   \n",
      "[{'race': 0, 'sex': 0}][{'race': 0, 'sex': 1}]              -0.177783   \n",
      "[{'race': 1, 'sex': 0}][{'race': 1, 'sex': 1}]              -0.030350   \n",
      "[{'race': 0, 'sex': 0}][{'race': 1, 'sex': 1}]              -0.183591   \n",
      "\n",
      "                                                Predictive Parity Difference  \\\n",
      "[{'race': 0, 'sex': 0}][{'race': 1, 'sex': 0}]                     -0.117374   \n",
      "[{'race': 1, 'sex': 0}][{'race': 0, 'sex': 1}]                      0.002295   \n",
      "[{'race': 0, 'sex': 1}][{'race': 1, 'sex': 1}]                     -0.035967   \n",
      "[{'race': 0, 'sex': 0}][{'race': 0, 'sex': 1}]                     -0.115080   \n",
      "[{'race': 1, 'sex': 0}][{'race': 1, 'sex': 1}]                     -0.033672   \n",
      "[{'race': 0, 'sex': 0}][{'race': 1, 'sex': 1}]                     -0.151046   \n",
      "\n",
      "                                                Consistency  Accuracy  \\\n",
      "[{'race': 0, 'sex': 0}][{'race': 1, 'sex': 0}]     0.919975  0.634008   \n",
      "[{'race': 1, 'sex': 0}][{'race': 0, 'sex': 1}]     0.919975  0.634008   \n",
      "[{'race': 0, 'sex': 1}][{'race': 1, 'sex': 1}]     0.919975  0.634008   \n",
      "[{'race': 0, 'sex': 0}][{'race': 0, 'sex': 1}]     0.919975  0.634008   \n",
      "[{'race': 1, 'sex': 0}][{'race': 1, 'sex': 1}]     0.919975  0.634008   \n",
      "[{'race': 0, 'sex': 0}][{'race': 1, 'sex': 1}]     0.919975  0.634008   \n",
      "\n",
      "                                                Balanced accuracy  F1-Score  \\\n",
      "[{'race': 0, 'sex': 0}][{'race': 1, 'sex': 0}]           0.616868  0.724941   \n",
      "[{'race': 1, 'sex': 0}][{'race': 0, 'sex': 1}]           0.616868  0.724941   \n",
      "[{'race': 0, 'sex': 1}][{'race': 1, 'sex': 1}]           0.616868  0.724941   \n",
      "[{'race': 0, 'sex': 0}][{'race': 0, 'sex': 1}]           0.616868  0.724941   \n",
      "[{'race': 1, 'sex': 0}][{'race': 1, 'sex': 1}]           0.616868  0.724941   \n",
      "[{'race': 0, 'sex': 0}][{'race': 1, 'sex': 1}]           0.616868  0.724941   \n",
      "\n",
      "                                                Precision (PPV)  Recall (TPR)  \\\n",
      "[{'race': 0, 'sex': 0}][{'race': 1, 'sex': 0}]         0.601735      0.911589   \n",
      "[{'race': 1, 'sex': 0}][{'race': 0, 'sex': 1}]         0.601735      0.911589   \n",
      "[{'race': 0, 'sex': 1}][{'race': 1, 'sex': 1}]         0.601735      0.911589   \n",
      "[{'race': 0, 'sex': 0}][{'race': 0, 'sex': 1}]         0.601735      0.911589   \n",
      "[{'race': 1, 'sex': 0}][{'race': 1, 'sex': 1}]         0.601735      0.911589   \n",
      "[{'race': 0, 'sex': 0}][{'race': 1, 'sex': 1}]         0.601735      0.911589   \n",
      "\n",
      "                                                Specificity (TNR)  \n",
      "[{'race': 0, 'sex': 0}][{'race': 1, 'sex': 0}]           0.322148  \n",
      "[{'race': 1, 'sex': 0}][{'race': 0, 'sex': 1}]           0.322148  \n",
      "[{'race': 0, 'sex': 1}][{'race': 1, 'sex': 1}]           0.322148  \n",
      "[{'race': 0, 'sex': 0}][{'race': 0, 'sex': 1}]           0.322148  \n",
      "[{'race': 1, 'sex': 0}][{'race': 1, 'sex': 1}]           0.322148  \n",
      "[{'race': 0, 'sex': 0}][{'race': 1, 'sex': 1}]           0.322148  \n",
      "Confusion Matrix: {'TP': 763.0, 'FP': 505.0, 'TN': 240.0, 'FN': 74.0}\n",
      "                       Base Ratio  Positive Ratio  Negative Ratio\n",
      "Index                                                            \n",
      "{'race': 0, 'sex': 0}    0.497472        0.357775        0.139697\n",
      "{'race': 1, 'sex': 0}    0.307206        0.268015        0.039191\n",
      "{'race': 0, 'sex': 1}    0.104298        0.093552        0.010746\n",
      "{'race': 1, 'sex': 1}    0.091024        0.082174        0.008850\n"
     ]
    }
   ],
   "source": [
    "#outputs from strategy 1\n",
    "print(metrics_table1)\n",
    "print(\"Confusion Matrix:\", cm1)\n",
    "print(ratio_t1)"
   ]
  },
  {
   "cell_type": "markdown",
   "id": "e110ce8c",
   "metadata": {},
   "source": [
    "# Random Forest Classifer"
   ]
  },
  {
   "cell_type": "code",
   "execution_count": 29,
   "id": "502aa685",
   "metadata": {
    "ExecuteTime": {
     "end_time": "2021-10-28T10:44:24.193628Z",
     "start_time": "2021-10-28T10:44:17.623646Z"
    }
   },
   "outputs": [],
   "source": [
    "# Type the desired classifier to train the classification models with model obj\n",
    "RF= GradientBoostingClassifier()\n",
    "baseline_stats, cm, ratio_table, preds = baseline_metrics(xgb, X_train, X_test, \n",
    "                                                  y_train, y_test, sens_attr, \n",
    "                                                  fav_l, unfav_l)"
   ]
  },
  {
   "cell_type": "code",
   "execution_count": 32,
   "id": "a33206ee",
   "metadata": {
    "ExecuteTime": {
     "end_time": "2021-10-28T10:46:16.818301Z",
     "start_time": "2021-10-28T10:46:16.812371Z"
    }
   },
   "outputs": [
    {
     "name": "stdout",
     "output_type": "stream",
     "text": [
      "                       Base Ratio  Positive Ratio  Negative Ratio\n",
      "Index                                                            \n",
      "{'race': 0, 'sex': 0}    0.497472        0.205436        0.292035\n",
      "{'race': 1, 'sex': 0}    0.307206        0.211125        0.096081\n",
      "{'race': 0, 'sex': 1}    0.104298        0.067636        0.036662\n",
      "{'race': 1, 'sex': 1}    0.091024        0.069532        0.021492\n"
     ]
    }
   ],
   "source": [
    "print(ratio_table)"
   ]
  },
  {
   "cell_type": "code",
   "execution_count": 31,
   "id": "d62464e7",
   "metadata": {
    "ExecuteTime": {
     "end_time": "2021-10-28T10:45:51.629990Z",
     "start_time": "2021-10-28T10:45:48.020721Z"
    }
   },
   "outputs": [],
   "source": [
    "# Predicting the test sets using the extreme gradient boosting \n",
    "X_test_pred_RF = predict_whole_set(RF, final_df, X_test_n)"
   ]
  },
  {
   "cell_type": "code",
   "execution_count": 33,
   "id": "e781c1f8",
   "metadata": {
    "ExecuteTime": {
     "end_time": "2021-10-28T10:46:25.740858Z",
     "start_time": "2021-10-28T10:46:20.425466Z"
    }
   },
   "outputs": [],
   "source": [
    "metrics_table1, cm1, ratio_t1 = metrics_calculate(X_test, X_test_pred_RF, y_test,\n",
    "                                                  sens_attr, fav_l, unfav_l)"
   ]
  },
  {
   "cell_type": "code",
   "execution_count": 34,
   "id": "19e07345",
   "metadata": {
    "ExecuteTime": {
     "end_time": "2021-10-28T10:47:05.445197Z",
     "start_time": "2021-10-28T10:47:05.431215Z"
    }
   },
   "outputs": [
    {
     "name": "stdout",
     "output_type": "stream",
     "text": [
      "                                                AEO Difference  \\\n",
      "[{'race': 0, 'sex': 0}][{'race': 1, 'sex': 0}]       -0.119925   \n",
      "[{'race': 1, 'sex': 0}][{'race': 0, 'sex': 1}]       -0.034355   \n",
      "[{'race': 0, 'sex': 1}][{'race': 1, 'sex': 1}]        0.007313   \n",
      "[{'race': 0, 'sex': 0}][{'race': 0, 'sex': 1}]       -0.154280   \n",
      "[{'race': 1, 'sex': 0}][{'race': 1, 'sex': 1}]       -0.027042   \n",
      "[{'race': 0, 'sex': 0}][{'race': 1, 'sex': 1}]       -0.146967   \n",
      "\n",
      "                                                Disparate Impact Ratio  \\\n",
      "[{'race': 0, 'sex': 0}][{'race': 1, 'sex': 0}]                0.824351   \n",
      "[{'race': 1, 'sex': 0}][{'race': 0, 'sex': 1}]                0.972639   \n",
      "[{'race': 0, 'sex': 1}][{'race': 1, 'sex': 1}]                0.993566   \n",
      "[{'race': 0, 'sex': 0}][{'race': 0, 'sex': 1}]                0.801796   \n",
      "[{'race': 1, 'sex': 0}][{'race': 1, 'sex': 1}]                0.966382   \n",
      "[{'race': 0, 'sex': 0}][{'race': 1, 'sex': 1}]                0.796638   \n",
      "\n",
      "                                                Dem Parity Difference  \\\n",
      "[{'race': 0, 'sex': 0}][{'race': 1, 'sex': 0}]              -0.153241   \n",
      "[{'race': 1, 'sex': 0}][{'race': 0, 'sex': 1}]              -0.024542   \n",
      "[{'race': 0, 'sex': 1}][{'race': 1, 'sex': 1}]              -0.005808   \n",
      "[{'race': 0, 'sex': 0}][{'race': 0, 'sex': 1}]              -0.177783   \n",
      "[{'race': 1, 'sex': 0}][{'race': 1, 'sex': 1}]              -0.030350   \n",
      "[{'race': 0, 'sex': 0}][{'race': 1, 'sex': 1}]              -0.183591   \n",
      "\n",
      "                                                Predictive Parity Difference  \\\n",
      "[{'race': 0, 'sex': 0}][{'race': 1, 'sex': 0}]                     -0.117374   \n",
      "[{'race': 1, 'sex': 0}][{'race': 0, 'sex': 1}]                      0.002295   \n",
      "[{'race': 0, 'sex': 1}][{'race': 1, 'sex': 1}]                     -0.035967   \n",
      "[{'race': 0, 'sex': 0}][{'race': 0, 'sex': 1}]                     -0.115080   \n",
      "[{'race': 1, 'sex': 0}][{'race': 1, 'sex': 1}]                     -0.033672   \n",
      "[{'race': 0, 'sex': 0}][{'race': 1, 'sex': 1}]                     -0.151046   \n",
      "\n",
      "                                                Consistency  Accuracy  \\\n",
      "[{'race': 0, 'sex': 0}][{'race': 1, 'sex': 0}]     0.919975  0.634008   \n",
      "[{'race': 1, 'sex': 0}][{'race': 0, 'sex': 1}]     0.919975  0.634008   \n",
      "[{'race': 0, 'sex': 1}][{'race': 1, 'sex': 1}]     0.919975  0.634008   \n",
      "[{'race': 0, 'sex': 0}][{'race': 0, 'sex': 1}]     0.919975  0.634008   \n",
      "[{'race': 1, 'sex': 0}][{'race': 1, 'sex': 1}]     0.919975  0.634008   \n",
      "[{'race': 0, 'sex': 0}][{'race': 1, 'sex': 1}]     0.919975  0.634008   \n",
      "\n",
      "                                                Balanced accuracy  F1-Score  \\\n",
      "[{'race': 0, 'sex': 0}][{'race': 1, 'sex': 0}]           0.616868  0.724941   \n",
      "[{'race': 1, 'sex': 0}][{'race': 0, 'sex': 1}]           0.616868  0.724941   \n",
      "[{'race': 0, 'sex': 1}][{'race': 1, 'sex': 1}]           0.616868  0.724941   \n",
      "[{'race': 0, 'sex': 0}][{'race': 0, 'sex': 1}]           0.616868  0.724941   \n",
      "[{'race': 1, 'sex': 0}][{'race': 1, 'sex': 1}]           0.616868  0.724941   \n",
      "[{'race': 0, 'sex': 0}][{'race': 1, 'sex': 1}]           0.616868  0.724941   \n",
      "\n",
      "                                                Precision (PPV)  Recall (TPR)  \\\n",
      "[{'race': 0, 'sex': 0}][{'race': 1, 'sex': 0}]         0.601735      0.911589   \n",
      "[{'race': 1, 'sex': 0}][{'race': 0, 'sex': 1}]         0.601735      0.911589   \n",
      "[{'race': 0, 'sex': 1}][{'race': 1, 'sex': 1}]         0.601735      0.911589   \n",
      "[{'race': 0, 'sex': 0}][{'race': 0, 'sex': 1}]         0.601735      0.911589   \n",
      "[{'race': 1, 'sex': 0}][{'race': 1, 'sex': 1}]         0.601735      0.911589   \n",
      "[{'race': 0, 'sex': 0}][{'race': 1, 'sex': 1}]         0.601735      0.911589   \n",
      "\n",
      "                                                Specificity (TNR)  \n",
      "[{'race': 0, 'sex': 0}][{'race': 1, 'sex': 0}]           0.322148  \n",
      "[{'race': 1, 'sex': 0}][{'race': 0, 'sex': 1}]           0.322148  \n",
      "[{'race': 0, 'sex': 1}][{'race': 1, 'sex': 1}]           0.322148  \n",
      "[{'race': 0, 'sex': 0}][{'race': 0, 'sex': 1}]           0.322148  \n",
      "[{'race': 1, 'sex': 0}][{'race': 1, 'sex': 1}]           0.322148  \n",
      "[{'race': 0, 'sex': 0}][{'race': 1, 'sex': 1}]           0.322148  \n",
      "Confusion Matrix: {'TP': 763.0, 'FP': 505.0, 'TN': 240.0, 'FN': 74.0}\n",
      "                       Base Ratio  Positive Ratio  Negative Ratio\n",
      "Index                                                            \n",
      "{'race': 0, 'sex': 0}    0.497472        0.357775        0.139697\n",
      "{'race': 1, 'sex': 0}    0.307206        0.268015        0.039191\n",
      "{'race': 0, 'sex': 1}    0.104298        0.093552        0.010746\n",
      "{'race': 1, 'sex': 1}    0.091024        0.082174        0.008850\n"
     ]
    }
   ],
   "source": [
    "#outputs from strategy 1\n",
    "print(metrics_table1)\n",
    "print(\"Confusion Matrix:\", cm1)\n",
    "print(ratio_t1)"
   ]
  }
 ],
 "metadata": {
  "kernelspec": {
   "display_name": "Python 3 (ipykernel)",
   "language": "python",
   "name": "python3"
  },
  "language_info": {
   "codemirror_mode": {
    "name": "ipython",
    "version": 3
   },
   "file_extension": ".py",
   "mimetype": "text/x-python",
   "name": "python",
   "nbconvert_exporter": "python",
   "pygments_lexer": "ipython3",
   "version": "3.6.13"
  }
 },
 "nbformat": 4,
 "nbformat_minor": 5
}
