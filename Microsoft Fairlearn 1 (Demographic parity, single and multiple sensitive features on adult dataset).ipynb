{
 "cells": [
  {
   "cell_type": "markdown",
   "metadata": {},
   "source": [
    "# The Fairlearn Trial Executions Part 1"
   ]
  },
  {
   "cell_type": "markdown",
   "metadata": {},
   "source": [
    "## Single sensitive feature metric"
   ]
  },
  {
   "cell_type": "markdown",
   "metadata": {},
   "source": [
    "Note: if it is the first time of running this notebook, first type 'pip install fairlearn'"
   ]
  },
  {
   "cell_type": "markdown",
   "metadata": {},
   "source": [
    "The Fairlearn package is most applicable to two kinds of harms:\n",
    "\n",
    "1-Allocation harms can occur when AI systems extend or withhold opportunities, resources, or information. Some of the key applications are in hiring, school admissions, and lending.\n",
    "\n",
    "1-Quality-of-service harms can occur when a system does not work as well for one person as it does for another, even if no opportunities, resources, or information are extended or withheld. Examples include varying accuracy in face recognition, document search, or product recommendation.\n",
    "\n"
   ]
  },
  {
   "cell_type": "code",
   "execution_count": 1,
   "metadata": {},
   "outputs": [
    {
     "name": "stderr",
     "output_type": "stream",
     "text": [
      "C:\\Users\\hatta\\anaconda3\\lib\\site-packages\\setuptools\\distutils_patch.py:25: UserWarning: Distutils was imported before Setuptools. This usage is discouraged and may exhibit undesirable behaviors or errors. Please use Setuptools' objects directly or at least import Setuptools first.\n",
      "  warnings.warn(\n"
     ]
    },
    {
     "name": "stdout",
     "output_type": "stream",
     "text": [
      "\n",
      "System:\n",
      "    python: 3.8.3 (default, Jul  2 2020, 17:30:36) [MSC v.1916 64 bit (AMD64)]\n",
      "executable: C:\\Users\\hatta\\anaconda3\\python.exe\n",
      "   machine: Windows-10-10.0.18362-SP0\n",
      "\n",
      "Python dependencies:\n",
      "    Cython: 0.29.21\n",
      "matplotlib: 3.2.2\n",
      "     numpy: 1.18.5\n",
      "    pandas: 1.0.5\n",
      "       pip: 20.1.1\n",
      "     scipy: 1.5.0\n",
      "setuptools: 49.2.0.post20200714\n",
      "   sklearn: 0.23.1\n",
      "    tempeh: None\n"
     ]
    }
   ],
   "source": [
    "import numpy as np\n",
    "import pandas as pd\n",
    "import matplotlib.pyplot as plt\n",
    "from sklearn.datasets import fetch_openml\n",
    "from fairlearn import show_versions\n",
    "show_versions()"
   ]
  },
  {
   "cell_type": "code",
   "execution_count": 2,
   "metadata": {},
   "outputs": [
    {
     "name": "stdout",
     "output_type": "stream",
     "text": [
      "    age  workclass    fnlwgt     education  education-num      marital-status  \\\n",
      "0  25.0    Private  226802.0          11th            7.0       Never-married   \n",
      "1  38.0    Private   89814.0       HS-grad            9.0  Married-civ-spouse   \n",
      "2  28.0  Local-gov  336951.0    Assoc-acdm           12.0  Married-civ-spouse   \n",
      "3  44.0    Private  160323.0  Some-college           10.0  Married-civ-spouse   \n",
      "4  18.0        NaN  103497.0  Some-college           10.0       Never-married   \n",
      "\n",
      "          occupation relationship   race     sex  capital-gain  capital-loss  \\\n",
      "0  Machine-op-inspct    Own-child  Black    Male           0.0           0.0   \n",
      "1    Farming-fishing      Husband  White    Male           0.0           0.0   \n",
      "2    Protective-serv      Husband  White    Male           0.0           0.0   \n",
      "3  Machine-op-inspct      Husband  Black    Male        7688.0           0.0   \n",
      "4                NaN    Own-child  White  Female           0.0           0.0   \n",
      "\n",
      "   hours-per-week native-country  \n",
      "0            40.0  United-States  \n",
      "1            50.0  United-States  \n",
      "2            40.0  United-States  \n",
      "3            40.0  United-States  \n",
      "4            30.0  United-States  \n"
     ]
    }
   ],
   "source": [
    "#this is the adult dataset\n",
    "data = fetch_openml(data_id=1590, as_frame=True)\n",
    "print(data.data.head(5))\n",
    "X = pd.get_dummies(data.data)\n",
    "y_true = (data.target == '>50K') * 1"
   ]
  },
  {
   "cell_type": "code",
   "execution_count": 3,
   "metadata": {},
   "outputs": [
    {
     "data": {
      "text/plain": [
       "<matplotlib.axes._subplots.AxesSubplot at 0x22cd40d7790>"
      ]
     },
     "execution_count": 3,
     "metadata": {},
     "output_type": "execute_result"
    },
    {
     "data": {
      "image/png": "[encoded data removed]",
      "text/plain": [
       "<Figure size 432x288 with 1 Axes>"
      ]
     },
     "metadata": {
      "needs_background": "light"
     },
     "output_type": "display_data"
    }
   ],
   "source": [
    "sex = data.data['sex']\n",
    "sex.value_counts()\n",
    "sex.value_counts().plot(kind='bar')"
   ]
  },
  {
   "cell_type": "code",
   "execution_count": 4,
   "metadata": {},
   "outputs": [
    {
     "name": "stdout",
     "output_type": "stream",
     "text": [
      "0.8443552680070431\n"
     ]
    }
   ],
   "source": [
    "import sklearn.metrics as skm\n",
    "from fairlearn.metrics import MetricFrame\n",
    "from sklearn.metrics import accuracy_score\n",
    "from sklearn.tree import DecisionTreeClassifier\n",
    "\n",
    "classifier = DecisionTreeClassifier(min_samples_leaf=10, max_depth=4)\n",
    "classifier.fit(X, y_true)\n",
    "\n",
    "y_pred = classifier.predict(X)\n",
    "gm = MetricFrame(accuracy_score, y_true, y_pred, sensitive_features=sex)\n",
    "print(gm.overall)"
   ]
  },
  {
   "cell_type": "markdown",
   "metadata": {},
   "source": [
    "### Check the accuracy rate per sensitive feature group"
   ]
  },
  {
   "cell_type": "code",
   "execution_count": 5,
   "metadata": {},
   "outputs": [
    {
     "name": "stdout",
     "output_type": "stream",
     "text": [
      "sex\n",
      "Female    0.925148\n",
      "Male      0.804288\n",
      "Name: accuracy_score, dtype: object\n"
     ]
    }
   ],
   "source": [
    "print(gm.by_group)"
   ]
  },
  {
   "cell_type": "markdown",
   "metadata": {},
   "source": [
    "### Check the selection rate per sensitive feature group"
   ]
  },
  {
   "cell_type": "markdown",
   "metadata": {},
   "source": [
    "Note that the fairlearn.metrics.MetricFrame object requires a minimum of four arguments:\n",
    "\n",
    "1-The underlying metric function(s) to be evaluated\n",
    "\n",
    "2-The true values\n",
    "\n",
    "3-The predicted values\n",
    "\n",
    "4-The sensitive feature values"
   ]
  },
  {
   "cell_type": "code",
   "execution_count": 6,
   "metadata": {},
   "outputs": [
    {
     "data": {
      "text/plain": [
       "0.16385487899758405"
      ]
     },
     "execution_count": 6,
     "metadata": {},
     "output_type": "execute_result"
    }
   ],
   "source": [
    "from fairlearn.metrics import selection_rate\n",
    "sr = MetricFrame(selection_rate, y_true, y_pred, sensitive_features=sex)\n",
    "sr.overall"
   ]
  },
  {
   "cell_type": "code",
   "execution_count": 7,
   "metadata": {},
   "outputs": [
    {
     "data": {
      "text/plain": [
       "sex\n",
       "Female    0.0635499\n",
       "Male       0.213599\n",
       "Name: selection_rate, dtype: object"
      ]
     },
     "execution_count": 7,
     "metadata": {},
     "output_type": "execute_result"
    }
   ],
   "source": [
    "sr.by_group"
   ]
  },
  {
   "cell_type": "markdown",
   "metadata": {},
   "source": [
    "## The Interactive Dashboard"
   ]
  },
  {
   "cell_type": "code",
   "execution_count": 9,
   "metadata": {},
   "outputs": [
    {
     "name": "stderr",
     "output_type": "stream",
     "text": [
      "C:\\Users\\hatta\\anaconda3\\lib\\site-packages\\fairlearn\\widget\\_fairlearn_dashboard.py:47: UserWarning: The FairlearnDashboard will move from Fairlearn to the raiwidgets package after the v0.5.0 release. Instead, Fairlearn will provide some of the existing functionality through matplotlib-based visualizations.\n",
      "  warn(\"The FairlearnDashboard will move from Fairlearn to the \"\n"
     ]
    },
    {
     "data": {
      "application/vnd.jupyter.widget-view+json": {
       "model_id": "c9569418782e449f90f10be5703b5259",
       "version_major": 2,
       "version_minor": 0
      },
      "text/plain": [
       "FairlearnWidget(value={'true_y': [0, 0, 1, 1, 0, 0, 0, 1, 0, 0, 1, 0, 0, 0, 1, 1, 0, 0, 0, 1, 1, 0, 0, 0, 0, 1…"
      ]
     },
     "metadata": {},
     "output_type": "display_data"
    },
    {
     "data": {
      "text/plain": [
       "<fairlearn.widget._fairlearn_dashboard.FairlearnDashboard at 0x22cd572e3d0>"
      ]
     },
     "execution_count": 9,
     "metadata": {},
     "output_type": "execute_result"
    }
   ],
   "source": [
    "from fairlearn.widget import FairlearnDashboard\n",
    "#names = list['sex', 'race', 'workclass', 'marital-status', 'native-country']\n",
    "FairlearnDashboard(sensitive_features=sex,\n",
    "                    sensitive_feature_names=['sex'],\n",
    "                    y_true=y_true,\n",
    "                    y_pred={\"initial model\": y_pred}) "
   ]
  },
  {
   "cell_type": "markdown",
   "metadata": {},
   "source": [
    "### Mitigating Disparity ( The Exponentiated Gradient mitigation technique used fits the provided classifier using Demographic Parity as the objective)"
   ]
  },
  {
   "cell_type": "markdown",
   "metadata": {},
   "source": [
    "In Fairlearn, the following types of parity constraints are considered:\n",
    "\n",
    "-__Binary classification__:\n",
    "\n",
    "_Demographic parity_ (also known as statistical parity): A classifier _h_ satisfies demographic parity under a distribution over (X,A,Y) if its prediction _h_ (X) is statistically independent of the sensitive feature A. This is equivalent to $ E[h(X)|A=a]=E[h(X)]∀a $ .\n",
    "\n",
    "*Equalized odds* : A classifier _h_ satisfies equalized odds under a distribution over (X,A,Y) if its prediction _h_ (X) is conditionally independent of the sensitive feature A given the label Y. This is equivalent to $ E[h(X)|A=a,Y=y]=E[h(X)|Y=y]∀a,y $ .\n",
    "\n",
    "*Equal opportunity* : a relaxed version of equalized odds that only considers conditional expectations with respect to positive labels, i.e., Y=1.\n",
    "\n",
    "-__Regression__:\n",
    "\n",
    "_Demographic parity_ : A predictor _f_ satisfies demographic parity under a distribution over (X,A,Y) if _f_ (X) is independent of the sensitive feature A. This is equivalent to $ P[f(X)≥z|A=a]=P[f(X)≥z]∀a,z$ .\n",
    "\n",
    "_Bounded group loss_ : A predictor _f_ satisfies bounded group loss at level ζ under a distribution over (X,A,Y) if $ E[loss(Y,f(X))|A=a]≤ζ∀a$ .\n",
    "\n",
    "Above, demographic parity seeks to mitigate allocation harms, whereas bounded group loss primarily seeks to mitigate quality-of-service harms. Equalized odds and equal opportunity can be used as a diagnostic for both allocation harms as well as quality-of-service harms."
   ]
  },
  {
   "cell_type": "markdown",
   "metadata": {},
   "source": [
    "__Disparity metrics, Group metrics:__ \n",
    "    \n",
    "   Disparity metrics evaluate how far a given predictor departs from satisfying a parity constraint. They can either compare the behavior across different groups in terms of ratios or in terms of differences. For example, for binary classification:\n",
    "\n",
    "   Demographic parity difference is defined as $(maxaE[h(X)|A=a])−(minaE[h(X)|A=a])$ .\n",
    "\n",
    "   Demographic parity ratio is defined as $ minaE[h(X)|A=a] / maxaE[h(X)|A=a]$ .\n",
    "\n",
    "   The Fairlearn package provides the functionality to convert common accuracy and error metrics from scikit-learn to group metrics, i.e., metrics that are evaluated on the entire data set and also on each group individually. Additionally, group metrics yield the minimum and maximum metric value and for which groups these values were observed, as well as the difference and ratio between the maximum and the minimum values.(more information in fairlearn.metrics)"
   ]
  },
  {
   "cell_type": "code",
   "execution_count": 10,
   "metadata": {},
   "outputs": [],
   "source": [
    "from fairlearn.reductions import ExponentiatedGradient, DemographicParity\n",
    "np.random.seed(0)  # set seed for consistent results with ExponentiatedGradient\n",
    "#demographic parity is used as parity constraint\n",
    "constraint = DemographicParity()\n",
    "classifier = DecisionTreeClassifier(min_samples_leaf=10, max_depth=4)"
   ]
  },
  {
   "cell_type": "code",
   "execution_count": 11,
   "metadata": {},
   "outputs": [],
   "source": [
    "#this step takes really long (more than a couple of minutes)\n",
    "mitigator = ExponentiatedGradient(classifier, constraint)\n",
    "mitigator.fit(X, y_true, sensitive_features=sex)\n",
    "y_pred_mitigated = mitigator.predict(X)"
   ]
  },
  {
   "cell_type": "code",
   "execution_count": 12,
   "metadata": {},
   "outputs": [
    {
     "name": "stdout",
     "output_type": "stream",
     "text": [
      "precision      0.680345\n",
      "recall         0.472405\n",
      "selection_r    0.166148\n",
      "dtype: object\n"
     ]
    }
   ],
   "source": [
    "#selection rate of the instances = sr\n",
    "sr_mitigated = MetricFrame({'precision':skm.precision_score, 'recall':skm.recall_score,'selection_r':selection_rate},\n",
    "                           y_true, y_pred_mitigated, sensitive_features=sex)\n",
    "print(sr_mitigated.overall)"
   ]
  },
  {
   "cell_type": "code",
   "execution_count": 13,
   "metadata": {
    "scrolled": true
   },
   "outputs": [
    {
     "name": "stdout",
     "output_type": "stream",
     "text": [
      "       precision    recall selection_r\n",
      "sex                                   \n",
      "Female  0.503182  0.715093    0.155262\n",
      "Male    0.759864  0.429119    0.171547\n"
     ]
    }
   ],
   "source": [
    "print(sr_mitigated.by_group)"
   ]
  },
  {
   "cell_type": "code",
   "execution_count": 14,
   "metadata": {},
   "outputs": [
    {
     "name": "stderr",
     "output_type": "stream",
     "text": [
      "C:\\Users\\hatta\\anaconda3\\lib\\site-packages\\fairlearn\\widget\\_fairlearn_dashboard.py:47: UserWarning: The FairlearnDashboard will move from Fairlearn to the raiwidgets package after the v0.5.0 release. Instead, Fairlearn will provide some of the existing functionality through matplotlib-based visualizations.\n",
      "  warn(\"The FairlearnDashboard will move from Fairlearn to the \"\n"
     ]
    },
    {
     "data": {
      "application/vnd.jupyter.widget-view+json": {
       "model_id": "915ab0fb6b7945e086fbe854816a66f3",
       "version_major": 2,
       "version_minor": 0
      },
      "text/plain": [
       "FairlearnWidget(value={'true_y': [0, 0, 1, 1, 0, 0, 0, 1, 0, 0, 1, 0, 0, 0, 1, 1, 0, 0, 0, 1, 1, 0, 0, 0, 0, 1…"
      ]
     },
     "metadata": {},
     "output_type": "display_data"
    },
    {
     "data": {
      "text/plain": [
       "<fairlearn.widget._fairlearn_dashboard.FairlearnDashboard at 0x22cd62cc910>"
      ]
     },
     "execution_count": 14,
     "metadata": {},
     "output_type": "execute_result"
    }
   ],
   "source": [
    "#The interactive dashboard to see the results:\n",
    "FairlearnDashboard(sensitive_features=sex,\n",
    "                    sensitive_feature_names=['sex'],\n",
    "                    y_true=y_true.tolist(),\n",
    "                    y_pred={\"initial model\": y_pred.tolist(), \"mitigated model\": y_pred_mitigated.tolist()})"
   ]
  },
  {
   "cell_type": "markdown",
   "metadata": {},
   "source": [
    "## Multiple sensitive feature metrics (results)"
   ]
  },
  {
   "cell_type": "code",
   "execution_count": 24,
   "metadata": {},
   "outputs": [
    {
     "data": {
      "text/html": [
       "<div>\n",
       "<style scoped>\n",
       "    .dataframe tbody tr th:only-of-type {\n",
       "        vertical-align: middle;\n",
       "    }\n",
       "\n",
       "    .dataframe tbody tr th {\n",
       "        vertical-align: top;\n",
       "    }\n",
       "\n",
       "    .dataframe thead th {\n",
       "        text-align: right;\n",
       "    }\n",
       "</style>\n",
       "<table border=\"1\" class=\"dataframe\">\n",
       "  <thead>\n",
       "    <tr style=\"text-align: right;\">\n",
       "      <th></th>\n",
       "      <th>age</th>\n",
       "      <th>workclass</th>\n",
       "      <th>fnlwgt</th>\n",
       "      <th>education</th>\n",
       "      <th>education-num</th>\n",
       "      <th>marital-status</th>\n",
       "      <th>occupation</th>\n",
       "      <th>relationship</th>\n",
       "      <th>race</th>\n",
       "      <th>sex</th>\n",
       "      <th>capital-gain</th>\n",
       "      <th>capital-loss</th>\n",
       "      <th>hours-per-week</th>\n",
       "      <th>native-country</th>\n",
       "    </tr>\n",
       "  </thead>\n",
       "  <tbody>\n",
       "    <tr>\n",
       "      <th>0</th>\n",
       "      <td>25.0</td>\n",
       "      <td>Private</td>\n",
       "      <td>226802.0</td>\n",
       "      <td>11th</td>\n",
       "      <td>7.0</td>\n",
       "      <td>Never-married</td>\n",
       "      <td>Machine-op-inspct</td>\n",
       "      <td>Own-child</td>\n",
       "      <td>Black</td>\n",
       "      <td>Male</td>\n",
       "      <td>0.0</td>\n",
       "      <td>0.0</td>\n",
       "      <td>40.0</td>\n",
       "      <td>United-States</td>\n",
       "    </tr>\n",
       "    <tr>\n",
       "      <th>1</th>\n",
       "      <td>38.0</td>\n",
       "      <td>Private</td>\n",
       "      <td>89814.0</td>\n",
       "      <td>HS-grad</td>\n",
       "      <td>9.0</td>\n",
       "      <td>Married-civ-spouse</td>\n",
       "      <td>Farming-fishing</td>\n",
       "      <td>Husband</td>\n",
       "      <td>White</td>\n",
       "      <td>Male</td>\n",
       "      <td>0.0</td>\n",
       "      <td>0.0</td>\n",
       "      <td>50.0</td>\n",
       "      <td>United-States</td>\n",
       "    </tr>\n",
       "    <tr>\n",
       "      <th>2</th>\n",
       "      <td>28.0</td>\n",
       "      <td>Local-gov</td>\n",
       "      <td>336951.0</td>\n",
       "      <td>Assoc-acdm</td>\n",
       "      <td>12.0</td>\n",
       "      <td>Married-civ-spouse</td>\n",
       "      <td>Protective-serv</td>\n",
       "      <td>Husband</td>\n",
       "      <td>White</td>\n",
       "      <td>Male</td>\n",
       "      <td>0.0</td>\n",
       "      <td>0.0</td>\n",
       "      <td>40.0</td>\n",
       "      <td>United-States</td>\n",
       "    </tr>\n",
       "    <tr>\n",
       "      <th>3</th>\n",
       "      <td>44.0</td>\n",
       "      <td>Private</td>\n",
       "      <td>160323.0</td>\n",
       "      <td>Some-college</td>\n",
       "      <td>10.0</td>\n",
       "      <td>Married-civ-spouse</td>\n",
       "      <td>Machine-op-inspct</td>\n",
       "      <td>Husband</td>\n",
       "      <td>Black</td>\n",
       "      <td>Male</td>\n",
       "      <td>7688.0</td>\n",
       "      <td>0.0</td>\n",
       "      <td>40.0</td>\n",
       "      <td>United-States</td>\n",
       "    </tr>\n",
       "    <tr>\n",
       "      <th>4</th>\n",
       "      <td>18.0</td>\n",
       "      <td>NaN</td>\n",
       "      <td>103497.0</td>\n",
       "      <td>Some-college</td>\n",
       "      <td>10.0</td>\n",
       "      <td>Never-married</td>\n",
       "      <td>NaN</td>\n",
       "      <td>Own-child</td>\n",
       "      <td>White</td>\n",
       "      <td>Female</td>\n",
       "      <td>0.0</td>\n",
       "      <td>0.0</td>\n",
       "      <td>30.0</td>\n",
       "      <td>United-States</td>\n",
       "    </tr>\n",
       "    <tr>\n",
       "      <th>...</th>\n",
       "      <td>...</td>\n",
       "      <td>...</td>\n",
       "      <td>...</td>\n",
       "      <td>...</td>\n",
       "      <td>...</td>\n",
       "      <td>...</td>\n",
       "      <td>...</td>\n",
       "      <td>...</td>\n",
       "      <td>...</td>\n",
       "      <td>...</td>\n",
       "      <td>...</td>\n",
       "      <td>...</td>\n",
       "      <td>...</td>\n",
       "      <td>...</td>\n",
       "    </tr>\n",
       "    <tr>\n",
       "      <th>48837</th>\n",
       "      <td>27.0</td>\n",
       "      <td>Private</td>\n",
       "      <td>257302.0</td>\n",
       "      <td>Assoc-acdm</td>\n",
       "      <td>12.0</td>\n",
       "      <td>Married-civ-spouse</td>\n",
       "      <td>Tech-support</td>\n",
       "      <td>Wife</td>\n",
       "      <td>White</td>\n",
       "      <td>Female</td>\n",
       "      <td>0.0</td>\n",
       "      <td>0.0</td>\n",
       "      <td>38.0</td>\n",
       "      <td>United-States</td>\n",
       "    </tr>\n",
       "    <tr>\n",
       "      <th>48838</th>\n",
       "      <td>40.0</td>\n",
       "      <td>Private</td>\n",
       "      <td>154374.0</td>\n",
       "      <td>HS-grad</td>\n",
       "      <td>9.0</td>\n",
       "      <td>Married-civ-spouse</td>\n",
       "      <td>Machine-op-inspct</td>\n",
       "      <td>Husband</td>\n",
       "      <td>White</td>\n",
       "      <td>Male</td>\n",
       "      <td>0.0</td>\n",
       "      <td>0.0</td>\n",
       "      <td>40.0</td>\n",
       "      <td>United-States</td>\n",
       "    </tr>\n",
       "    <tr>\n",
       "      <th>48839</th>\n",
       "      <td>58.0</td>\n",
       "      <td>Private</td>\n",
       "      <td>151910.0</td>\n",
       "      <td>HS-grad</td>\n",
       "      <td>9.0</td>\n",
       "      <td>Widowed</td>\n",
       "      <td>Adm-clerical</td>\n",
       "      <td>Unmarried</td>\n",
       "      <td>White</td>\n",
       "      <td>Female</td>\n",
       "      <td>0.0</td>\n",
       "      <td>0.0</td>\n",
       "      <td>40.0</td>\n",
       "      <td>United-States</td>\n",
       "    </tr>\n",
       "    <tr>\n",
       "      <th>48840</th>\n",
       "      <td>22.0</td>\n",
       "      <td>Private</td>\n",
       "      <td>201490.0</td>\n",
       "      <td>HS-grad</td>\n",
       "      <td>9.0</td>\n",
       "      <td>Never-married</td>\n",
       "      <td>Adm-clerical</td>\n",
       "      <td>Own-child</td>\n",
       "      <td>White</td>\n",
       "      <td>Male</td>\n",
       "      <td>0.0</td>\n",
       "      <td>0.0</td>\n",
       "      <td>20.0</td>\n",
       "      <td>United-States</td>\n",
       "    </tr>\n",
       "    <tr>\n",
       "      <th>48841</th>\n",
       "      <td>52.0</td>\n",
       "      <td>Self-emp-inc</td>\n",
       "      <td>287927.0</td>\n",
       "      <td>HS-grad</td>\n",
       "      <td>9.0</td>\n",
       "      <td>Married-civ-spouse</td>\n",
       "      <td>Exec-managerial</td>\n",
       "      <td>Wife</td>\n",
       "      <td>White</td>\n",
       "      <td>Female</td>\n",
       "      <td>15024.0</td>\n",
       "      <td>0.0</td>\n",
       "      <td>40.0</td>\n",
       "      <td>United-States</td>\n",
       "    </tr>\n",
       "  </tbody>\n",
       "</table>\n",
       "<p>48842 rows × 14 columns</p>\n",
       "</div>"
      ],
      "text/plain": [
       "        age     workclass    fnlwgt     education  education-num  \\\n",
       "0      25.0       Private  226802.0          11th            7.0   \n",
       "1      38.0       Private   89814.0       HS-grad            9.0   \n",
       "2      28.0     Local-gov  336951.0    Assoc-acdm           12.0   \n",
       "3      44.0       Private  160323.0  Some-college           10.0   \n",
       "4      18.0           NaN  103497.0  Some-college           10.0   \n",
       "...     ...           ...       ...           ...            ...   \n",
       "48837  27.0       Private  257302.0    Assoc-acdm           12.0   \n",
       "48838  40.0       Private  154374.0       HS-grad            9.0   \n",
       "48839  58.0       Private  151910.0       HS-grad            9.0   \n",
       "48840  22.0       Private  201490.0       HS-grad            9.0   \n",
       "48841  52.0  Self-emp-inc  287927.0       HS-grad            9.0   \n",
       "\n",
       "           marital-status         occupation relationship   race     sex  \\\n",
       "0           Never-married  Machine-op-inspct    Own-child  Black    Male   \n",
       "1      Married-civ-spouse    Farming-fishing      Husband  White    Male   \n",
       "2      Married-civ-spouse    Protective-serv      Husband  White    Male   \n",
       "3      Married-civ-spouse  Machine-op-inspct      Husband  Black    Male   \n",
       "4           Never-married                NaN    Own-child  White  Female   \n",
       "...                   ...                ...          ...    ...     ...   \n",
       "48837  Married-civ-spouse       Tech-support         Wife  White  Female   \n",
       "48838  Married-civ-spouse  Machine-op-inspct      Husband  White    Male   \n",
       "48839             Widowed       Adm-clerical    Unmarried  White  Female   \n",
       "48840       Never-married       Adm-clerical    Own-child  White    Male   \n",
       "48841  Married-civ-spouse    Exec-managerial         Wife  White  Female   \n",
       "\n",
       "       capital-gain  capital-loss  hours-per-week native-country  \n",
       "0               0.0           0.0            40.0  United-States  \n",
       "1               0.0           0.0            50.0  United-States  \n",
       "2               0.0           0.0            40.0  United-States  \n",
       "3            7688.0           0.0            40.0  United-States  \n",
       "4               0.0           0.0            30.0  United-States  \n",
       "...             ...           ...             ...            ...  \n",
       "48837           0.0           0.0            38.0  United-States  \n",
       "48838           0.0           0.0            40.0  United-States  \n",
       "48839           0.0           0.0            40.0  United-States  \n",
       "48840           0.0           0.0            20.0  United-States  \n",
       "48841       15024.0           0.0            40.0  United-States  \n",
       "\n",
       "[48842 rows x 14 columns]"
      ]
     },
     "execution_count": 24,
     "metadata": {},
     "output_type": "execute_result"
    }
   ],
   "source": [
    "#The functools module is for higher-order functions: functions that act on or return other functions. \n",
    "#In general, any callable object can be treated as a function for the purposes of this module.\n",
    "import functools\n",
    "from sklearn.datasets import fetch_openml\n",
    "from sklearn.linear_model import LogisticRegression\n",
    "from sklearn.model_selection import train_test_split\n",
    "from sklearn.preprocessing import LabelEncoder, StandardScaler\n",
    "\n",
    "#import the dataset again with predictors and target/result\n",
    "data = fetch_openml(data_id=1590, as_frame=True)\n",
    "X_raw = data.data\n",
    "Y = (data.target == '>50K') * 1\n",
    "X_raw"
   ]
  },
  {
   "cell_type": "code",
   "execution_count": 16,
   "metadata": {},
   "outputs": [
    {
     "name": "stdout",
     "output_type": "stream",
     "text": [
      "['Black' 'Other' 'White']\n"
     ]
    },
    {
     "name": "stderr",
     "output_type": "stream",
     "text": [
      "<ipython-input-16-c167c12e556e>:10: SettingWithCopyWarning: \n",
      "A value is trying to be set on a copy of a slice from a DataFrame.\n",
      "Try using .loc[row_indexer,col_indexer] = value instead\n",
      "\n",
      "See the caveats in the documentation: https://pandas.pydata.org/pandas-docs/stable/user_guide/indexing.html#returning-a-view-versus-a-copy\n",
      "  X_raw['race'] = X_raw['race'].map(race_transform).fillna('Other')\n"
     ]
    }
   ],
   "source": [
    "#make the race column have only 3 values: White, Black and Other\n",
    "def race_transform(input_str):\n",
    "    \"\"\"Reduce values to White, Black and Other.\"\"\"\n",
    "    result = 'Other'\n",
    "    if input_str == 'White' or input_str == 'Black':\n",
    "        result = input_str\n",
    "    return result\n",
    "\n",
    "#the upcoming warning does not matter.\n",
    "X_raw['race'] = X_raw['race'].map(race_transform).fillna('Other')\n",
    "print(np.unique(X_raw['race']))"
   ]
  },
  {
   "cell_type": "code",
   "execution_count": 17,
   "metadata": {},
   "outputs": [
    {
     "name": "stderr",
     "output_type": "stream",
     "text": [
      "<ipython-input-17-142935c85ec3>:26: SettingWithCopyWarning: \n",
      "A value is trying to be set on a copy of a slice from a DataFrame.\n",
      "Try using .loc[row_indexer,col_indexer] = value instead\n",
      "\n",
      "See the caveats in the documentation: https://pandas.pydata.org/pandas-docs/stable/user_guide/indexing.html#returning-a-view-versus-a-copy\n",
      "  A['Credit Score'] = col_credit\n",
      "<ipython-input-17-142935c85ec3>:27: SettingWithCopyWarning: \n",
      "A value is trying to be set on a copy of a slice from a DataFrame.\n",
      "Try using .loc[row_indexer,col_indexer] = value instead\n",
      "\n",
      "See the caveats in the documentation: https://pandas.pydata.org/pandas-docs/stable/user_guide/indexing.html#returning-a-view-versus-a-copy\n",
      "  A['Loan Size'] = col_loan_size\n"
     ]
    },
    {
     "data": {
      "text/html": [
       "<div>\n",
       "<style scoped>\n",
       "    .dataframe tbody tr th:only-of-type {\n",
       "        vertical-align: middle;\n",
       "    }\n",
       "\n",
       "    .dataframe tbody tr th {\n",
       "        vertical-align: top;\n",
       "    }\n",
       "\n",
       "    .dataframe thead th {\n",
       "        text-align: right;\n",
       "    }\n",
       "</style>\n",
       "<table border=\"1\" class=\"dataframe\">\n",
       "  <thead>\n",
       "    <tr style=\"text-align: right;\">\n",
       "      <th></th>\n",
       "      <th>race</th>\n",
       "      <th>sex</th>\n",
       "      <th>Credit Score</th>\n",
       "      <th>Loan Size</th>\n",
       "    </tr>\n",
       "  </thead>\n",
       "  <tbody>\n",
       "    <tr>\n",
       "      <th>0</th>\n",
       "      <td>Black</td>\n",
       "      <td>Male</td>\n",
       "      <td>Low</td>\n",
       "      <td>Large</td>\n",
       "    </tr>\n",
       "    <tr>\n",
       "      <th>1</th>\n",
       "      <td>White</td>\n",
       "      <td>Male</td>\n",
       "      <td>Medium</td>\n",
       "      <td>Small</td>\n",
       "    </tr>\n",
       "    <tr>\n",
       "      <th>2</th>\n",
       "      <td>White</td>\n",
       "      <td>Male</td>\n",
       "      <td>Medium</td>\n",
       "      <td>Small</td>\n",
       "    </tr>\n",
       "    <tr>\n",
       "      <th>3</th>\n",
       "      <td>Black</td>\n",
       "      <td>Male</td>\n",
       "      <td>Medium</td>\n",
       "      <td>Large</td>\n",
       "    </tr>\n",
       "    <tr>\n",
       "      <th>4</th>\n",
       "      <td>White</td>\n",
       "      <td>Female</td>\n",
       "      <td>Low</td>\n",
       "      <td>Small</td>\n",
       "    </tr>\n",
       "    <tr>\n",
       "      <th>...</th>\n",
       "      <td>...</td>\n",
       "      <td>...</td>\n",
       "      <td>...</td>\n",
       "      <td>...</td>\n",
       "    </tr>\n",
       "    <tr>\n",
       "      <th>48837</th>\n",
       "      <td>White</td>\n",
       "      <td>Female</td>\n",
       "      <td>Medium</td>\n",
       "      <td>Small</td>\n",
       "    </tr>\n",
       "    <tr>\n",
       "      <th>48838</th>\n",
       "      <td>White</td>\n",
       "      <td>Male</td>\n",
       "      <td>Medium</td>\n",
       "      <td>Large</td>\n",
       "    </tr>\n",
       "    <tr>\n",
       "      <th>48839</th>\n",
       "      <td>White</td>\n",
       "      <td>Female</td>\n",
       "      <td>High</td>\n",
       "      <td>Small</td>\n",
       "    </tr>\n",
       "    <tr>\n",
       "      <th>48840</th>\n",
       "      <td>White</td>\n",
       "      <td>Male</td>\n",
       "      <td>Low</td>\n",
       "      <td>Small</td>\n",
       "    </tr>\n",
       "    <tr>\n",
       "      <th>48841</th>\n",
       "      <td>White</td>\n",
       "      <td>Female</td>\n",
       "      <td>Medium</td>\n",
       "      <td>Small</td>\n",
       "    </tr>\n",
       "  </tbody>\n",
       "</table>\n",
       "<p>48842 rows × 4 columns</p>\n",
       "</div>"
      ],
      "text/plain": [
       "        race     sex Credit Score Loan Size\n",
       "0      Black    Male          Low     Large\n",
       "1      White    Male       Medium     Small\n",
       "2      White    Male       Medium     Small\n",
       "3      Black    Male       Medium     Large\n",
       "4      White  Female          Low     Small\n",
       "...      ...     ...          ...       ...\n",
       "48837  White  Female       Medium     Small\n",
       "48838  White    Male       Medium     Large\n",
       "48839  White  Female         High     Small\n",
       "48840  White    Male          Low     Small\n",
       "48841  White  Female       Medium     Small\n",
       "\n",
       "[48842 rows x 4 columns]"
      ]
     },
     "execution_count": 17,
     "metadata": {},
     "output_type": "execute_result"
    }
   ],
   "source": [
    "#some example manipulations in the sensitive data. They are made for illustrative purposes\n",
    "def marriage_transform(m_s_string):\n",
    "    \"\"\"Perform some simple manipulations.\"\"\"\n",
    "    result = 'Low'\n",
    "    if m_s_string.startswith(\"Married\"):\n",
    "        result = 'Medium'\n",
    "    elif m_s_string.startswith(\"Widowed\"):\n",
    "        result = 'High'\n",
    "    return result\n",
    "\n",
    "\n",
    "def occupation_transform(occ_string):\n",
    "    \"\"\"Perform some simple manipulations.\"\"\"\n",
    "    result = 'Small'\n",
    "    if occ_string.startswith(\"Machine\"):\n",
    "        result = 'Large'\n",
    "    return result\n",
    "\n",
    "\n",
    "col_credit = X_raw['marital-status'].map(marriage_transform).fillna('Low')\n",
    "col_credit.name = \"Credit Score\"\n",
    "col_loan_size = X_raw['occupation'].map(occupation_transform).fillna('Small')\n",
    "col_loan_size.name = \"Loan Size\"\n",
    "\n",
    "#A dataset that contains ass the sensitive features\n",
    "A = X_raw[['race', 'sex']]\n",
    "A['Credit Score'] = col_credit\n",
    "A['Loan Size'] = col_loan_size\n",
    "A"
   ]
  },
  {
   "cell_type": "code",
   "execution_count": 23,
   "metadata": {},
   "outputs": [
    {
     "data": {
      "text/html": [
       "<div>\n",
       "<style scoped>\n",
       "    .dataframe tbody tr th:only-of-type {\n",
       "        vertical-align: middle;\n",
       "    }\n",
       "\n",
       "    .dataframe tbody tr th {\n",
       "        vertical-align: top;\n",
       "    }\n",
       "\n",
       "    .dataframe thead th {\n",
       "        text-align: right;\n",
       "    }\n",
       "</style>\n",
       "<table border=\"1\" class=\"dataframe\">\n",
       "  <thead>\n",
       "    <tr style=\"text-align: right;\">\n",
       "      <th></th>\n",
       "      <th>age</th>\n",
       "      <th>fnlwgt</th>\n",
       "      <th>education-num</th>\n",
       "      <th>capital-gain</th>\n",
       "      <th>capital-loss</th>\n",
       "      <th>hours-per-week</th>\n",
       "      <th>workclass_Private</th>\n",
       "      <th>workclass_Self-emp-not-inc</th>\n",
       "      <th>workclass_Self-emp-inc</th>\n",
       "      <th>workclass_Federal-gov</th>\n",
       "      <th>...</th>\n",
       "      <th>native-country_Guatemala</th>\n",
       "      <th>native-country_Nicaragua</th>\n",
       "      <th>native-country_Scotland</th>\n",
       "      <th>native-country_Thailand</th>\n",
       "      <th>native-country_Yugoslavia</th>\n",
       "      <th>native-country_El-Salvador</th>\n",
       "      <th>native-country_Trinadad&amp;Tobago</th>\n",
       "      <th>native-country_Peru</th>\n",
       "      <th>native-country_Hong</th>\n",
       "      <th>native-country_Holand-Netherlands</th>\n",
       "    </tr>\n",
       "  </thead>\n",
       "  <tbody>\n",
       "    <tr>\n",
       "      <th>0</th>\n",
       "      <td>1.120058</td>\n",
       "      <td>-1.353751</td>\n",
       "      <td>-0.419335</td>\n",
       "      <td>-0.144804</td>\n",
       "      <td>-0.217127</td>\n",
       "      <td>1.579946</td>\n",
       "      <td>-1.506680</td>\n",
       "      <td>3.412743</td>\n",
       "      <td>-0.189609</td>\n",
       "      <td>-0.173795</td>\n",
       "      <td>...</td>\n",
       "      <td>-0.042485</td>\n",
       "      <td>-0.03169</td>\n",
       "      <td>-0.02074</td>\n",
       "      <td>-0.024791</td>\n",
       "      <td>-0.021705</td>\n",
       "      <td>-0.056423</td>\n",
       "      <td>-0.023518</td>\n",
       "      <td>-0.030703</td>\n",
       "      <td>-0.024791</td>\n",
       "      <td>-0.004525</td>\n",
       "    </tr>\n",
       "    <tr>\n",
       "      <th>1</th>\n",
       "      <td>0.974183</td>\n",
       "      <td>2.405973</td>\n",
       "      <td>-0.030373</td>\n",
       "      <td>-0.144804</td>\n",
       "      <td>-0.217127</td>\n",
       "      <td>1.579946</td>\n",
       "      <td>0.663711</td>\n",
       "      <td>-0.293019</td>\n",
       "      <td>-0.189609</td>\n",
       "      <td>-0.173795</td>\n",
       "      <td>...</td>\n",
       "      <td>-0.042485</td>\n",
       "      <td>-0.03169</td>\n",
       "      <td>-0.02074</td>\n",
       "      <td>-0.024791</td>\n",
       "      <td>-0.021705</td>\n",
       "      <td>-0.056423</td>\n",
       "      <td>-0.023518</td>\n",
       "      <td>-0.030703</td>\n",
       "      <td>-0.024791</td>\n",
       "      <td>-0.004525</td>\n",
       "    </tr>\n",
       "    <tr>\n",
       "      <th>2</th>\n",
       "      <td>0.609496</td>\n",
       "      <td>0.081048</td>\n",
       "      <td>-0.419335</td>\n",
       "      <td>-0.144804</td>\n",
       "      <td>-0.217127</td>\n",
       "      <td>-0.034087</td>\n",
       "      <td>-1.506680</td>\n",
       "      <td>-0.293019</td>\n",
       "      <td>-0.189609</td>\n",
       "      <td>5.753915</td>\n",
       "      <td>...</td>\n",
       "      <td>-0.042485</td>\n",
       "      <td>-0.03169</td>\n",
       "      <td>-0.02074</td>\n",
       "      <td>-0.024791</td>\n",
       "      <td>-0.021705</td>\n",
       "      <td>-0.056423</td>\n",
       "      <td>-0.023518</td>\n",
       "      <td>-0.030703</td>\n",
       "      <td>-0.024791</td>\n",
       "      <td>-0.004525</td>\n",
       "    </tr>\n",
       "    <tr>\n",
       "      <th>3</th>\n",
       "      <td>0.682433</td>\n",
       "      <td>0.016333</td>\n",
       "      <td>-0.030373</td>\n",
       "      <td>-0.144804</td>\n",
       "      <td>-0.217127</td>\n",
       "      <td>0.772930</td>\n",
       "      <td>-1.506680</td>\n",
       "      <td>3.412743</td>\n",
       "      <td>-0.189609</td>\n",
       "      <td>-0.173795</td>\n",
       "      <td>...</td>\n",
       "      <td>-0.042485</td>\n",
       "      <td>-0.03169</td>\n",
       "      <td>-0.02074</td>\n",
       "      <td>-0.024791</td>\n",
       "      <td>-0.021705</td>\n",
       "      <td>-0.056423</td>\n",
       "      <td>-0.023518</td>\n",
       "      <td>-0.030703</td>\n",
       "      <td>-0.024791</td>\n",
       "      <td>-0.004525</td>\n",
       "    </tr>\n",
       "    <tr>\n",
       "      <th>4</th>\n",
       "      <td>-0.192816</td>\n",
       "      <td>0.244679</td>\n",
       "      <td>-0.419335</td>\n",
       "      <td>-0.144804</td>\n",
       "      <td>-0.217127</td>\n",
       "      <td>1.983455</td>\n",
       "      <td>0.663711</td>\n",
       "      <td>-0.293019</td>\n",
       "      <td>-0.189609</td>\n",
       "      <td>-0.173795</td>\n",
       "      <td>...</td>\n",
       "      <td>-0.042485</td>\n",
       "      <td>-0.03169</td>\n",
       "      <td>-0.02074</td>\n",
       "      <td>-0.024791</td>\n",
       "      <td>-0.021705</td>\n",
       "      <td>-0.056423</td>\n",
       "      <td>-0.023518</td>\n",
       "      <td>-0.030703</td>\n",
       "      <td>-0.024791</td>\n",
       "      <td>-0.004525</td>\n",
       "    </tr>\n",
       "    <tr>\n",
       "      <th>...</th>\n",
       "      <td>...</td>\n",
       "      <td>...</td>\n",
       "      <td>...</td>\n",
       "      <td>...</td>\n",
       "      <td>...</td>\n",
       "      <td>...</td>\n",
       "      <td>...</td>\n",
       "      <td>...</td>\n",
       "      <td>...</td>\n",
       "      <td>...</td>\n",
       "      <td>...</td>\n",
       "      <td>...</td>\n",
       "      <td>...</td>\n",
       "      <td>...</td>\n",
       "      <td>...</td>\n",
       "      <td>...</td>\n",
       "      <td>...</td>\n",
       "      <td>...</td>\n",
       "      <td>...</td>\n",
       "      <td>...</td>\n",
       "      <td>...</td>\n",
       "    </tr>\n",
       "    <tr>\n",
       "      <th>34184</th>\n",
       "      <td>0.536558</td>\n",
       "      <td>0.032034</td>\n",
       "      <td>-0.419335</td>\n",
       "      <td>-0.144804</td>\n",
       "      <td>-0.217127</td>\n",
       "      <td>-0.034087</td>\n",
       "      <td>0.663711</td>\n",
       "      <td>-0.293019</td>\n",
       "      <td>-0.189609</td>\n",
       "      <td>-0.173795</td>\n",
       "      <td>...</td>\n",
       "      <td>-0.042485</td>\n",
       "      <td>-0.03169</td>\n",
       "      <td>-0.02074</td>\n",
       "      <td>-0.024791</td>\n",
       "      <td>-0.021705</td>\n",
       "      <td>-0.056423</td>\n",
       "      <td>-0.023518</td>\n",
       "      <td>-0.030703</td>\n",
       "      <td>-0.024791</td>\n",
       "      <td>-0.004525</td>\n",
       "    </tr>\n",
       "    <tr>\n",
       "      <th>34185</th>\n",
       "      <td>-1.141004</td>\n",
       "      <td>-0.488880</td>\n",
       "      <td>1.136512</td>\n",
       "      <td>-0.144804</td>\n",
       "      <td>3.728278</td>\n",
       "      <td>0.772930</td>\n",
       "      <td>0.663711</td>\n",
       "      <td>-0.293019</td>\n",
       "      <td>-0.189609</td>\n",
       "      <td>-0.173795</td>\n",
       "      <td>...</td>\n",
       "      <td>-0.042485</td>\n",
       "      <td>-0.03169</td>\n",
       "      <td>-0.02074</td>\n",
       "      <td>-0.024791</td>\n",
       "      <td>-0.021705</td>\n",
       "      <td>-0.056423</td>\n",
       "      <td>-0.023518</td>\n",
       "      <td>-0.030703</td>\n",
       "      <td>-0.024791</td>\n",
       "      <td>-0.004525</td>\n",
       "    </tr>\n",
       "    <tr>\n",
       "      <th>34186</th>\n",
       "      <td>-0.703379</td>\n",
       "      <td>-0.735142</td>\n",
       "      <td>-0.419335</td>\n",
       "      <td>-0.144804</td>\n",
       "      <td>-0.217127</td>\n",
       "      <td>0.772930</td>\n",
       "      <td>0.663711</td>\n",
       "      <td>-0.293019</td>\n",
       "      <td>-0.189609</td>\n",
       "      <td>-0.173795</td>\n",
       "      <td>...</td>\n",
       "      <td>-0.042485</td>\n",
       "      <td>-0.03169</td>\n",
       "      <td>-0.02074</td>\n",
       "      <td>-0.024791</td>\n",
       "      <td>-0.021705</td>\n",
       "      <td>-0.056423</td>\n",
       "      <td>-0.023518</td>\n",
       "      <td>-0.030703</td>\n",
       "      <td>-0.024791</td>\n",
       "      <td>-0.004525</td>\n",
       "    </tr>\n",
       "    <tr>\n",
       "      <th>34187</th>\n",
       "      <td>-0.192816</td>\n",
       "      <td>1.424457</td>\n",
       "      <td>2.303397</td>\n",
       "      <td>-0.144804</td>\n",
       "      <td>-0.217127</td>\n",
       "      <td>-0.356894</td>\n",
       "      <td>-1.506680</td>\n",
       "      <td>-0.293019</td>\n",
       "      <td>-0.189609</td>\n",
       "      <td>-0.173795</td>\n",
       "      <td>...</td>\n",
       "      <td>-0.042485</td>\n",
       "      <td>-0.03169</td>\n",
       "      <td>-0.02074</td>\n",
       "      <td>-0.024791</td>\n",
       "      <td>-0.021705</td>\n",
       "      <td>-0.056423</td>\n",
       "      <td>-0.023518</td>\n",
       "      <td>-0.030703</td>\n",
       "      <td>-0.024791</td>\n",
       "      <td>-0.004525</td>\n",
       "    </tr>\n",
       "    <tr>\n",
       "      <th>34188</th>\n",
       "      <td>0.244808</td>\n",
       "      <td>0.829445</td>\n",
       "      <td>1.136512</td>\n",
       "      <td>-0.144804</td>\n",
       "      <td>-0.217127</td>\n",
       "      <td>-0.034087</td>\n",
       "      <td>-1.506680</td>\n",
       "      <td>-0.293019</td>\n",
       "      <td>-0.189609</td>\n",
       "      <td>-0.173795</td>\n",
       "      <td>...</td>\n",
       "      <td>-0.042485</td>\n",
       "      <td>-0.03169</td>\n",
       "      <td>-0.02074</td>\n",
       "      <td>-0.024791</td>\n",
       "      <td>-0.021705</td>\n",
       "      <td>-0.056423</td>\n",
       "      <td>-0.023518</td>\n",
       "      <td>-0.030703</td>\n",
       "      <td>-0.024791</td>\n",
       "      <td>-0.004525</td>\n",
       "    </tr>\n",
       "  </tbody>\n",
       "</table>\n",
       "<p>34189 rows × 103 columns</p>\n",
       "</div>"
      ],
      "text/plain": [
       "            age    fnlwgt  education-num  capital-gain  capital-loss  \\\n",
       "0      1.120058 -1.353751      -0.419335     -0.144804     -0.217127   \n",
       "1      0.974183  2.405973      -0.030373     -0.144804     -0.217127   \n",
       "2      0.609496  0.081048      -0.419335     -0.144804     -0.217127   \n",
       "3      0.682433  0.016333      -0.030373     -0.144804     -0.217127   \n",
       "4     -0.192816  0.244679      -0.419335     -0.144804     -0.217127   \n",
       "...         ...       ...            ...           ...           ...   \n",
       "34184  0.536558  0.032034      -0.419335     -0.144804     -0.217127   \n",
       "34185 -1.141004 -0.488880       1.136512     -0.144804      3.728278   \n",
       "34186 -0.703379 -0.735142      -0.419335     -0.144804     -0.217127   \n",
       "34187 -0.192816  1.424457       2.303397     -0.144804     -0.217127   \n",
       "34188  0.244808  0.829445       1.136512     -0.144804     -0.217127   \n",
       "\n",
       "       hours-per-week  workclass_Private  workclass_Self-emp-not-inc  \\\n",
       "0            1.579946          -1.506680                    3.412743   \n",
       "1            1.579946           0.663711                   -0.293019   \n",
       "2           -0.034087          -1.506680                   -0.293019   \n",
       "3            0.772930          -1.506680                    3.412743   \n",
       "4            1.983455           0.663711                   -0.293019   \n",
       "...               ...                ...                         ...   \n",
       "34184       -0.034087           0.663711                   -0.293019   \n",
       "34185        0.772930           0.663711                   -0.293019   \n",
       "34186        0.772930           0.663711                   -0.293019   \n",
       "34187       -0.356894          -1.506680                   -0.293019   \n",
       "34188       -0.034087          -1.506680                   -0.293019   \n",
       "\n",
       "       workclass_Self-emp-inc  workclass_Federal-gov  ...  \\\n",
       "0                   -0.189609              -0.173795  ...   \n",
       "1                   -0.189609              -0.173795  ...   \n",
       "2                   -0.189609               5.753915  ...   \n",
       "3                   -0.189609              -0.173795  ...   \n",
       "4                   -0.189609              -0.173795  ...   \n",
       "...                       ...                    ...  ...   \n",
       "34184               -0.189609              -0.173795  ...   \n",
       "34185               -0.189609              -0.173795  ...   \n",
       "34186               -0.189609              -0.173795  ...   \n",
       "34187               -0.189609              -0.173795  ...   \n",
       "34188               -0.189609              -0.173795  ...   \n",
       "\n",
       "       native-country_Guatemala  native-country_Nicaragua  \\\n",
       "0                     -0.042485                  -0.03169   \n",
       "1                     -0.042485                  -0.03169   \n",
       "2                     -0.042485                  -0.03169   \n",
       "3                     -0.042485                  -0.03169   \n",
       "4                     -0.042485                  -0.03169   \n",
       "...                         ...                       ...   \n",
       "34184                 -0.042485                  -0.03169   \n",
       "34185                 -0.042485                  -0.03169   \n",
       "34186                 -0.042485                  -0.03169   \n",
       "34187                 -0.042485                  -0.03169   \n",
       "34188                 -0.042485                  -0.03169   \n",
       "\n",
       "       native-country_Scotland  native-country_Thailand  \\\n",
       "0                     -0.02074                -0.024791   \n",
       "1                     -0.02074                -0.024791   \n",
       "2                     -0.02074                -0.024791   \n",
       "3                     -0.02074                -0.024791   \n",
       "4                     -0.02074                -0.024791   \n",
       "...                        ...                      ...   \n",
       "34184                 -0.02074                -0.024791   \n",
       "34185                 -0.02074                -0.024791   \n",
       "34186                 -0.02074                -0.024791   \n",
       "34187                 -0.02074                -0.024791   \n",
       "34188                 -0.02074                -0.024791   \n",
       "\n",
       "       native-country_Yugoslavia  native-country_El-Salvador  \\\n",
       "0                      -0.021705                   -0.056423   \n",
       "1                      -0.021705                   -0.056423   \n",
       "2                      -0.021705                   -0.056423   \n",
       "3                      -0.021705                   -0.056423   \n",
       "4                      -0.021705                   -0.056423   \n",
       "...                          ...                         ...   \n",
       "34184                  -0.021705                   -0.056423   \n",
       "34185                  -0.021705                   -0.056423   \n",
       "34186                  -0.021705                   -0.056423   \n",
       "34187                  -0.021705                   -0.056423   \n",
       "34188                  -0.021705                   -0.056423   \n",
       "\n",
       "       native-country_Trinadad&Tobago  native-country_Peru  \\\n",
       "0                           -0.023518            -0.030703   \n",
       "1                           -0.023518            -0.030703   \n",
       "2                           -0.023518            -0.030703   \n",
       "3                           -0.023518            -0.030703   \n",
       "4                           -0.023518            -0.030703   \n",
       "...                               ...                  ...   \n",
       "34184                       -0.023518            -0.030703   \n",
       "34185                       -0.023518            -0.030703   \n",
       "34186                       -0.023518            -0.030703   \n",
       "34187                       -0.023518            -0.030703   \n",
       "34188                       -0.023518            -0.030703   \n",
       "\n",
       "       native-country_Hong  native-country_Holand-Netherlands  \n",
       "0                -0.024791                          -0.004525  \n",
       "1                -0.024791                          -0.004525  \n",
       "2                -0.024791                          -0.004525  \n",
       "3                -0.024791                          -0.004525  \n",
       "4                -0.024791                          -0.004525  \n",
       "...                    ...                                ...  \n",
       "34184            -0.024791                          -0.004525  \n",
       "34185            -0.024791                          -0.004525  \n",
       "34186            -0.024791                          -0.004525  \n",
       "34187            -0.024791                          -0.004525  \n",
       "34188            -0.024791                          -0.004525  \n",
       "\n",
       "[34189 rows x 103 columns]"
      ]
     },
     "execution_count": 23,
     "metadata": {},
     "output_type": "execute_result"
    }
   ],
   "source": [
    "#pre-processing with standardization scaling, train and test set splitting\n",
    "\n",
    "#with label encoder, encode target labels with value between 0 and n_classes-1. Should only be used for target var Y.\n",
    "le = LabelEncoder()\n",
    "Y = le.fit_transform(Y)\n",
    "\n",
    "#scale the data by standardization\n",
    "sc = StandardScaler()\n",
    "#Convert categorical variable into dummy/indicator variables.\n",
    "X_dummies = pd.get_dummies(X_raw)\n",
    "\n",
    "X_scaled = sc.fit_transform(X_dummies)\n",
    "X_scaled = pd.DataFrame(X_scaled, columns=X_dummies.columns)\n",
    "#train-test split of the dataset\n",
    "X_train, X_test, Y_train, Y_test, A_train, A_test = train_test_split(X_scaled, Y, A,\n",
    "                                                                     test_size=0.3,\n",
    "                                                                     random_state=12345,\n",
    "                                                                     stratify=Y)\n",
    "\n",
    "# Ensure indices are aligned\n",
    "X_train = X_train.reset_index(drop=True)\n",
    "X_test = X_test.reset_index(drop=True)\n",
    "A_train = A_train.reset_index(drop=True)\n",
    "A_test = A_test.reset_index(drop=True)\n",
    "X_train"
   ]
  },
  {
   "cell_type": "code",
   "execution_count": 20,
   "metadata": {},
   "outputs": [
    {
     "data": {
      "text/plain": [
       "array([0, 0, 1, ..., 0, 0, 1], dtype=int64)"
      ]
     },
     "execution_count": 20,
     "metadata": {},
     "output_type": "execute_result"
    }
   ],
   "source": [
    "#train the model and get the predictions\n",
    "unmitigated_predictor = LogisticRegression(solver='liblinear', fit_intercept=True)\n",
    "unmitigated_predictor.fit(X_train, Y_train)\n",
    "\n",
    "Y_pred = unmitigated_predictor.predict(X_test)\n",
    "Y_pred"
   ]
  },
  {
   "cell_type": "markdown",
   "metadata": {},
   "source": [
    "### Analyze the model using different metrics"
   ]
  },
  {
   "cell_type": "markdown",
   "metadata": {},
   "source": [
    "The __F-beta score__ is the weighted harmonic mean of precision and recall, reaching its optimal value at 1 and its worst value at 0.\n",
    "The beta parameter determines the weight of recall in the combined score. beta < 1 lends more weight to precision, while beta > 1 favors recall (beta -> 0 considers only precision, beta -> +inf only recall)."
   ]
  },
  {
   "cell_type": "code",
   "execution_count": 25,
   "metadata": {},
   "outputs": [
    {
     "name": "stdout",
     "output_type": "stream",
     "text": [
      "Selection Rate: 0.20050501603767146\n",
      "fbeta: 0.6819168793569769\n"
     ]
    }
   ],
   "source": [
    "print(\"Selection Rate:\", selection_rate(Y_test, Y_pred))\n",
    "print(\"fbeta:\", skm.fbeta_score(Y_test, Y_pred, beta=0.6))"
   ]
  },
  {
   "cell_type": "markdown",
   "metadata": {},
   "source": [
    "__functools.partial():__\n",
    "    Return a new partial object which when called will behave like func called with the positional arguments args and keyword arguments keywords. \n",
    "    If more arguments are supplied to the call, they are appended to args. If additional keyword arguments are supplied, they extend and override keywords.\n",
    "    \n",
    "   The _partial()_ is used for partial function application which “freezes” some portion of a function’s arguments and/or keywords resulting in a new object with a simplified signature. For example, partial() can be used to create a callable that behaves like the int() function where the base argument defaults to two.\n",
    " "
   ]
  },
  {
   "cell_type": "code",
   "execution_count": null,
   "metadata": {},
   "outputs": [],
   "source": [
    "#The underlying metrics must have a signature fn(y_true, y_pred), so we have to use functools.partial() on fbeta_score() to furnish beta=0.6\n",
    "fbeta_06 = functools.partial(skm.fbeta_score, beta=0.6)\n",
    "\n",
    "metric_fns = {'selection_rate': selection_rate, 'fbeta_06': fbeta_06}\n",
    "grouped_on_sex = MetricFrame(metric_fns,\n",
    "                             Y_test, Y_pred,\n",
    "                             sensitive_features=A_test['sex'])"
   ]
  },
  {
   "cell_type": "code",
   "execution_count": 27,
   "metadata": {},
   "outputs": [
    {
     "name": "stdout",
     "output_type": "stream",
     "text": [
      "selection_rate    0.200505\n",
      "fbeta_06          0.681917\n",
      "dtype: object\n",
      "       selection_rate  fbeta_06\n",
      "sex                            \n",
      "Female      0.0730349  0.639174\n",
      "Male         0.263512    0.6882\n"
     ]
    }
   ],
   "source": [
    "assert grouped_on_sex.overall['selection_rate'] == selection_rate(Y_test, Y_pred)\n",
    "assert grouped_on_sex.overall['fbeta_06'] == skm.fbeta_score(Y_test, Y_pred, beta=0.6)\n",
    "print(grouped_on_sex.overall)\n",
    "print(grouped_on_sex.by_group)\n",
    "#note: Assertions are simply boolean expressions that check if the conditions return true or not. \n",
    "#If it is true, the program does nothing and move to the next line of code. \n",
    "#However, if it's false, the program stops and throws an error."
   ]
  },
  {
   "cell_type": "code",
   "execution_count": 28,
   "metadata": {},
   "outputs": [],
   "source": [
    "#disparity among races\n",
    "grouped_on_race = MetricFrame(metric_fns,\n",
    "                              Y_test, Y_pred,\n",
    "                              sensitive_features=A_test['race'])"
   ]
  },
  {
   "cell_type": "code",
   "execution_count": 29,
   "metadata": {},
   "outputs": [
    {
     "name": "stdout",
     "output_type": "stream",
     "text": [
      "      selection_rate  fbeta_06\n",
      "race                          \n",
      "Black      0.0766017   0.60886\n",
      "Other       0.189607  0.648637\n",
      "White       0.215354  0.686801\n"
     ]
    }
   ],
   "source": [
    "assert (grouped_on_sex.overall == grouped_on_race.overall).all()\n",
    "print(grouped_on_race.by_group)"
   ]
  },
  {
   "cell_type": "markdown",
   "metadata": {},
   "source": [
    "Fairlearn supports arguments which have one entry for each sample, with an array of sample weights being the most common example. These are divided into subgroups along with y_true and y_pred, and passed along to the underlying metric. To use these arguments, pass them in a dictionary as the sample_params= argument of the constructor."
   ]
  },
  {
   "cell_type": "code",
   "execution_count": 30,
   "metadata": {},
   "outputs": [],
   "source": [
    "random_weights = np.random.rand(len(Y_test))\n",
    "\n",
    "example_sample_params = {\n",
    "    'selection_rate': {'sample_weight': random_weights},\n",
    "    'fbeta_06': {'sample_weight': random_weights},\n",
    "}\n",
    "\n",
    "\n",
    "grouped_with_weights = MetricFrame(metric_fns,\n",
    "                                   Y_test, Y_pred,\n",
    "                                   sensitive_features=A_test['sex'],\n",
    "                                   sample_params=example_sample_params)"
   ]
  },
  {
   "cell_type": "code",
   "execution_count": 32,
   "metadata": {},
   "outputs": [
    {
     "name": "stdout",
     "output_type": "stream",
     "text": [
      "selection_rate    0.199729\n",
      "fbeta_06          0.689475\n",
      "dtype: object\n",
      "       selection_rate  fbeta_06\n",
      "sex                            \n",
      "Female      0.0703117  0.618403\n",
      "Male         0.263153   0.69949\n"
     ]
    }
   ],
   "source": [
    "assert grouped_with_weights.overall['selection_rate'] == \\\n",
    "    selection_rate(Y_test, Y_pred, sample_weight=random_weights)\n",
    "assert grouped_with_weights.overall['fbeta_06'] == \\\n",
    "    skm.fbeta_score(Y_test, Y_pred, beta=0.6, sample_weight=random_weights)\n",
    "print(grouped_with_weights.overall)\n",
    "print(grouped_with_weights.by_group)"
   ]
  },
  {
   "cell_type": "markdown",
   "metadata": {},
   "source": [
    "## Quantifying  Disparities (aggregating metrics across the subgroups)"
   ]
  },
  {
   "cell_type": "code",
   "execution_count": 37,
   "metadata": {},
   "outputs": [
    {
     "name": "stdout",
     "output_type": "stream",
     "text": [
      "selection_rate    0.0766017\n",
      "fbeta_06            0.60886\n",
      "dtype: object\n",
      "selection_rate    0.138752\n",
      "fbeta_06          0.077941\n",
      "dtype: float64\n"
     ]
    }
   ],
   "source": [
    "#min subgroup\n",
    "print(grouped_on_race.group_min())\n",
    "#subgroup differences: the difference in selection rates can be quantified in terms of a difference between the subgroup \n",
    "#with the highest value of the metric, and the subgroup with the lowest value. \n",
    "print(grouped_on_race.difference(method='between_groups'))"
   ]
  },
  {
   "cell_type": "code",
   "execution_count": 34,
   "metadata": {},
   "outputs": [
    {
     "data": {
      "text/plain": [
       "selection_rate    0.123903\n",
       "fbeta_06          0.073057\n",
       "dtype: float64"
      ]
     },
     "execution_count": 34,
     "metadata": {},
     "output_type": "execute_result"
    }
   ],
   "source": [
    "#We can also evaluate the difference relative to the corresponding overall value of the metric. \n",
    "#In this case we take the absolute value, so that the result is always positive:\n",
    "grouped_on_race.difference(method='to_overall')"
   ]
  },
  {
   "cell_type": "code",
   "execution_count": 39,
   "metadata": {},
   "outputs": [
    {
     "name": "stdout",
     "output_type": "stream",
     "text": [
      "selection_rate    0.355701\n",
      "fbeta_06          0.886516\n",
      "dtype: object\n",
      "selection_rate    0.382044\n",
      "fbeta_06          0.892865\n",
      "dtype: float64\n"
     ]
    }
   ],
   "source": [
    "#Note: There are situations where knowing the ratios of the metrics evaluated on the subgroups is more useful. \n",
    "print(grouped_on_race.ratio(method='between_groups'))\n",
    "print(grouped_on_race.ratio(method='to_overall'))"
   ]
  },
  {
   "cell_type": "markdown",
   "metadata": {},
   "source": [
    "## Intersection of Features ***"
   ]
  },
  {
   "cell_type": "code",
   "execution_count": 35,
   "metadata": {},
   "outputs": [
    {
     "data": {
      "text/html": [
       "<div>\n",
       "<style scoped>\n",
       "    .dataframe tbody tr th:only-of-type {\n",
       "        vertical-align: middle;\n",
       "    }\n",
       "\n",
       "    .dataframe tbody tr th {\n",
       "        vertical-align: top;\n",
       "    }\n",
       "\n",
       "    .dataframe thead th {\n",
       "        text-align: right;\n",
       "    }\n",
       "</style>\n",
       "<table border=\"1\" class=\"dataframe\">\n",
       "  <thead>\n",
       "    <tr style=\"text-align: right;\">\n",
       "      <th></th>\n",
       "      <th></th>\n",
       "      <th>selection_rate</th>\n",
       "      <th>fbeta_06</th>\n",
       "    </tr>\n",
       "    <tr>\n",
       "      <th>race</th>\n",
       "      <th>sex</th>\n",
       "      <th></th>\n",
       "      <th></th>\n",
       "    </tr>\n",
       "  </thead>\n",
       "  <tbody>\n",
       "    <tr>\n",
       "      <th rowspan=\"2\" valign=\"top\">Black</th>\n",
       "      <th>Female</th>\n",
       "      <td>0.0235784</td>\n",
       "      <td>0.6206</td>\n",
       "    </tr>\n",
       "    <tr>\n",
       "      <th>Male</th>\n",
       "      <td>0.13007</td>\n",
       "      <td>0.60627</td>\n",
       "    </tr>\n",
       "    <tr>\n",
       "      <th rowspan=\"2\" valign=\"top\">Other</th>\n",
       "      <th>Female</th>\n",
       "      <td>0.0711462</td>\n",
       "      <td>0.539683</td>\n",
       "    </tr>\n",
       "    <tr>\n",
       "      <th>Male</th>\n",
       "      <td>0.254902</td>\n",
       "      <td>0.667157</td>\n",
       "    </tr>\n",
       "    <tr>\n",
       "      <th rowspan=\"2\" valign=\"top\">White</th>\n",
       "      <th>Female</th>\n",
       "      <td>0.0823651</td>\n",
       "      <td>0.646108</td>\n",
       "    </tr>\n",
       "    <tr>\n",
       "      <th>Male</th>\n",
       "      <td>0.275023</td>\n",
       "      <td>0.692614</td>\n",
       "    </tr>\n",
       "  </tbody>\n",
       "</table>\n",
       "</div>"
      ],
      "text/plain": [
       "             selection_rate  fbeta_06\n",
       "race  sex                            \n",
       "Black Female      0.0235784    0.6206\n",
       "      Male          0.13007   0.60627\n",
       "Other Female      0.0711462  0.539683\n",
       "      Male         0.254902  0.667157\n",
       "White Female      0.0823651  0.646108\n",
       "      Male         0.275023  0.692614"
      ]
     },
     "execution_count": 35,
     "metadata": {},
     "output_type": "execute_result"
    }
   ],
   "source": [
    "grouped_on_race_and_sex = MetricFrame(metric_fns,\n",
    "                                      Y_test, Y_pred,\n",
    "                                      sensitive_features=A_test[['race', 'sex']])\n",
    "assert (grouped_on_race_and_sex.overall == grouped_on_race.overall).all()\n",
    "grouped_on_race_and_sex.by_group"
   ]
  },
  {
   "cell_type": "code",
   "execution_count": 40,
   "metadata": {},
   "outputs": [
    {
     "name": "stdout",
     "output_type": "stream",
     "text": [
      "selection_rate    0.0235784\n",
      "fbeta_06           0.539683\n",
      "dtype: object\n",
      "selection_rate    0.0857323\n",
      "fbeta_06           0.779197\n",
      "dtype: object\n"
     ]
    }
   ],
   "source": [
    "print(grouped_on_race_and_sex.group_min())\n",
    "print(grouped_on_race_and_sex.ratio(method='between_groups'))"
   ]
  },
  {
   "cell_type": "markdown",
   "metadata": {},
   "source": [
    "## Control Features (to slice the data further)"
   ]
  },
  {
   "cell_type": "markdown",
   "metadata": {},
   "source": [
    "There is a further way we can slice up our data. We have (completely made up) features for the individuals’ credit scores (in three bands) and also the size of the loan requested (large or small). In our loan scenario, it is acceptable that individuals with high credit scores are selected more often than individuals with low credit scores. However, within each credit score band, we do not want a disparity between (say) black females and white males. To example these cases, we have the concept of control features."
   ]
  },
  {
   "cell_type": "code",
   "execution_count": 41,
   "metadata": {},
   "outputs": [
    {
     "name": "stdout",
     "output_type": "stream",
     "text": [
      "             selection_rate  fbeta_06\n",
      "Credit Score                         \n",
      "High              0.0367965  0.556675\n",
      "Low               0.0195585  0.515224\n",
      "Medium             0.395422  0.695178\n",
      "                          selection_rate  fbeta_06\n",
      "Credit Score race  sex                            \n",
      "High         Black Female              0         0\n",
      "                   Male              0.2         1\n",
      "             Other Female              0         0\n",
      "                   Male                0         0\n",
      "             White Female       0.012945  0.418033\n",
      "                   Male         0.151899  0.625767\n",
      "Low          Black Female     0.00176367  0.274194\n",
      "                   Male        0.0179028  0.480565\n",
      "             Other Female              0         0\n",
      "                   Male         0.011236   0.60177\n",
      "             White Female      0.0136555  0.450228\n",
      "                   Male        0.0303738  0.562242\n",
      "Medium       Black Female       0.153846  0.697161\n",
      "                   Male         0.266458  0.613291\n",
      "             Other Female       0.268657  0.602254\n",
      "                   Male         0.413669  0.670544\n",
      "             White Female       0.389831   0.69678\n",
      "                   Male         0.408674  0.700198\n"
     ]
    }
   ],
   "source": [
    "cond_credit_score = MetricFrame(metric_fns,\n",
    "                                Y_test, Y_pred,\n",
    "                                sensitive_features=A_test[['race', 'sex']],\n",
    "                                control_features=A_test['Credit Score'])\n",
    "print(cond_credit_score.overall)\n",
    "print(cond_credit_score.by_group)"
   ]
  },
  {
   "cell_type": "code",
   "execution_count": 42,
   "metadata": {},
   "outputs": [
    {
     "data": {
      "text/html": [
       "<div>\n",
       "<style scoped>\n",
       "    .dataframe tbody tr th:only-of-type {\n",
       "        vertical-align: middle;\n",
       "    }\n",
       "\n",
       "    .dataframe tbody tr th {\n",
       "        vertical-align: top;\n",
       "    }\n",
       "\n",
       "    .dataframe thead th {\n",
       "        text-align: right;\n",
       "    }\n",
       "</style>\n",
       "<table border=\"1\" class=\"dataframe\">\n",
       "  <thead>\n",
       "    <tr style=\"text-align: right;\">\n",
       "      <th></th>\n",
       "      <th>selection_rate</th>\n",
       "      <th>fbeta_06</th>\n",
       "    </tr>\n",
       "    <tr>\n",
       "      <th>Credit Score</th>\n",
       "      <th></th>\n",
       "      <th></th>\n",
       "    </tr>\n",
       "  </thead>\n",
       "  <tbody>\n",
       "    <tr>\n",
       "      <th>High</th>\n",
       "      <td>0.000000</td>\n",
       "      <td>0.000000</td>\n",
       "    </tr>\n",
       "    <tr>\n",
       "      <th>Low</th>\n",
       "      <td>0.000000</td>\n",
       "      <td>0.000000</td>\n",
       "    </tr>\n",
       "    <tr>\n",
       "      <th>Medium</th>\n",
       "      <td>0.153846</td>\n",
       "      <td>0.602254</td>\n",
       "    </tr>\n",
       "  </tbody>\n",
       "</table>\n",
       "</div>"
      ],
      "text/plain": [
       "              selection_rate  fbeta_06\n",
       "Credit Score                          \n",
       "High                0.000000  0.000000\n",
       "Low                 0.000000  0.000000\n",
       "Medium              0.153846  0.602254"
      ]
     },
     "execution_count": 42,
     "metadata": {},
     "output_type": "execute_result"
    }
   ],
   "source": [
    "#The aggregates are also evaluated once for each group identified by the control feature:\n",
    "cond_credit_score.group_min()\n",
    "# it can be seen that  we have a dearth of positive results for high income non-whites, which significantly affects the aggregates."
   ]
  },
  {
   "cell_type": "code",
   "execution_count": 43,
   "metadata": {},
   "outputs": [
    {
     "name": "stderr",
     "output_type": "stream",
     "text": [
      "Found 36 subgroups. Evaluation may be slow\n",
      "C:\\Users\\hatta\\anaconda3\\lib\\site-packages\\sklearn\\metrics\\_classification.py:1464: UndefinedMetricWarning: F-score is ill-defined and being set to 0.0 due to no true nor predicted samples. Use `zero_division` parameter to control this behavior.\n",
      "  _warn_prf(\n"
     ]
    }
   ],
   "source": [
    "#with more control features\n",
    "cond_both = MetricFrame(metric_fns,\n",
    "                        Y_test, Y_pred,\n",
    "                        sensitive_features=A_test[['race', 'sex']],\n",
    "                        control_features=A_test[['Loan Size', 'Credit Score']])"
   ]
  },
  {
   "cell_type": "code",
   "execution_count": 44,
   "metadata": {},
   "outputs": [
    {
     "data": {
      "text/html": [
       "<div>\n",
       "<style scoped>\n",
       "    .dataframe tbody tr th:only-of-type {\n",
       "        vertical-align: middle;\n",
       "    }\n",
       "\n",
       "    .dataframe tbody tr th {\n",
       "        vertical-align: top;\n",
       "    }\n",
       "\n",
       "    .dataframe thead th {\n",
       "        text-align: right;\n",
       "    }\n",
       "</style>\n",
       "<table border=\"1\" class=\"dataframe\">\n",
       "  <thead>\n",
       "    <tr style=\"text-align: right;\">\n",
       "      <th></th>\n",
       "      <th></th>\n",
       "      <th>selection_rate</th>\n",
       "      <th>fbeta_06</th>\n",
       "    </tr>\n",
       "    <tr>\n",
       "      <th>Loan Size</th>\n",
       "      <th>Credit Score</th>\n",
       "      <th></th>\n",
       "      <th></th>\n",
       "    </tr>\n",
       "  </thead>\n",
       "  <tbody>\n",
       "    <tr>\n",
       "      <th rowspan=\"3\" valign=\"top\">Large</th>\n",
       "      <th>High</th>\n",
       "      <td>0</td>\n",
       "      <td>0</td>\n",
       "    </tr>\n",
       "    <tr>\n",
       "      <th>Low</th>\n",
       "      <td>0.00697674</td>\n",
       "      <td>0.790698</td>\n",
       "    </tr>\n",
       "    <tr>\n",
       "      <th>Medium</th>\n",
       "      <td>0.0669643</td>\n",
       "      <td>0.406143</td>\n",
       "    </tr>\n",
       "    <tr>\n",
       "      <th rowspan=\"3\" valign=\"top\">Small</th>\n",
       "      <th>High</th>\n",
       "      <td>0.0397196</td>\n",
       "      <td>0.563057</td>\n",
       "    </tr>\n",
       "    <tr>\n",
       "      <th>Low</th>\n",
       "      <td>0.0203627</td>\n",
       "      <td>0.510146</td>\n",
       "    </tr>\n",
       "    <tr>\n",
       "      <th>Medium</th>\n",
       "      <td>0.417768</td>\n",
       "      <td>0.700509</td>\n",
       "    </tr>\n",
       "  </tbody>\n",
       "</table>\n",
       "</div>"
      ],
      "text/plain": [
       "                       selection_rate  fbeta_06\n",
       "Loan Size Credit Score                         \n",
       "Large     High                      0         0\n",
       "          Low              0.00697674  0.790698\n",
       "          Medium            0.0669643  0.406143\n",
       "Small     High              0.0397196  0.563057\n",
       "          Low               0.0203627  0.510146\n",
       "          Medium             0.417768  0.700509"
      ]
     },
     "execution_count": 44,
     "metadata": {},
     "output_type": "execute_result"
    }
   ],
   "source": [
    "cond_both.overall"
   ]
  },
  {
   "cell_type": "code",
   "execution_count": 45,
   "metadata": {},
   "outputs": [
    {
     "data": {
      "text/html": [
       "<div>\n",
       "<style scoped>\n",
       "    .dataframe tbody tr th:only-of-type {\n",
       "        vertical-align: middle;\n",
       "    }\n",
       "\n",
       "    .dataframe tbody tr th {\n",
       "        vertical-align: top;\n",
       "    }\n",
       "\n",
       "    .dataframe thead th {\n",
       "        text-align: right;\n",
       "    }\n",
       "</style>\n",
       "<table border=\"1\" class=\"dataframe\">\n",
       "  <thead>\n",
       "    <tr style=\"text-align: right;\">\n",
       "      <th></th>\n",
       "      <th></th>\n",
       "      <th></th>\n",
       "      <th></th>\n",
       "      <th>selection_rate</th>\n",
       "      <th>fbeta_06</th>\n",
       "    </tr>\n",
       "    <tr>\n",
       "      <th>Loan Size</th>\n",
       "      <th>Credit Score</th>\n",
       "      <th>race</th>\n",
       "      <th>sex</th>\n",
       "      <th></th>\n",
       "      <th></th>\n",
       "    </tr>\n",
       "  </thead>\n",
       "  <tbody>\n",
       "    <tr>\n",
       "      <th rowspan=\"18\" valign=\"top\">Large</th>\n",
       "      <th rowspan=\"6\" valign=\"top\">High</th>\n",
       "      <th rowspan=\"2\" valign=\"top\">Black</th>\n",
       "      <th>Female</th>\n",
       "      <td>0</td>\n",
       "      <td>0</td>\n",
       "    </tr>\n",
       "    <tr>\n",
       "      <th>Male</th>\n",
       "      <td>NaN</td>\n",
       "      <td>NaN</td>\n",
       "    </tr>\n",
       "    <tr>\n",
       "      <th rowspan=\"2\" valign=\"top\">Other</th>\n",
       "      <th>Female</th>\n",
       "      <td>NaN</td>\n",
       "      <td>NaN</td>\n",
       "    </tr>\n",
       "    <tr>\n",
       "      <th>Male</th>\n",
       "      <td>NaN</td>\n",
       "      <td>NaN</td>\n",
       "    </tr>\n",
       "    <tr>\n",
       "      <th rowspan=\"2\" valign=\"top\">White</th>\n",
       "      <th>Female</th>\n",
       "      <td>0</td>\n",
       "      <td>0</td>\n",
       "    </tr>\n",
       "    <tr>\n",
       "      <th>Male</th>\n",
       "      <td>0</td>\n",
       "      <td>0</td>\n",
       "    </tr>\n",
       "    <tr>\n",
       "      <th rowspan=\"6\" valign=\"top\">Low</th>\n",
       "      <th rowspan=\"2\" valign=\"top\">Black</th>\n",
       "      <th>Female</th>\n",
       "      <td>0</td>\n",
       "      <td>0</td>\n",
       "    </tr>\n",
       "    <tr>\n",
       "      <th>Male</th>\n",
       "      <td>0</td>\n",
       "      <td>0</td>\n",
       "    </tr>\n",
       "    <tr>\n",
       "      <th rowspan=\"2\" valign=\"top\">Other</th>\n",
       "      <th>Female</th>\n",
       "      <td>0</td>\n",
       "      <td>0</td>\n",
       "    </tr>\n",
       "    <tr>\n",
       "      <th>Male</th>\n",
       "      <td>0</td>\n",
       "      <td>0</td>\n",
       "    </tr>\n",
       "    <tr>\n",
       "      <th rowspan=\"2\" valign=\"top\">White</th>\n",
       "      <th>Female</th>\n",
       "      <td>0</td>\n",
       "      <td>0</td>\n",
       "    </tr>\n",
       "    <tr>\n",
       "      <th>Male</th>\n",
       "      <td>0.0148515</td>\n",
       "      <td>0.790698</td>\n",
       "    </tr>\n",
       "    <tr>\n",
       "      <th rowspan=\"6\" valign=\"top\">Medium</th>\n",
       "      <th rowspan=\"2\" valign=\"top\">Black</th>\n",
       "      <th>Female</th>\n",
       "      <td>0</td>\n",
       "      <td>0</td>\n",
       "    </tr>\n",
       "    <tr>\n",
       "      <th>Male</th>\n",
       "      <td>0.0322581</td>\n",
       "      <td>0.350515</td>\n",
       "    </tr>\n",
       "    <tr>\n",
       "      <th rowspan=\"2\" valign=\"top\">Other</th>\n",
       "      <th>Female</th>\n",
       "      <td>0.2</td>\n",
       "      <td>0</td>\n",
       "    </tr>\n",
       "    <tr>\n",
       "      <th>Male</th>\n",
       "      <td>0</td>\n",
       "      <td>0</td>\n",
       "    </tr>\n",
       "    <tr>\n",
       "      <th rowspan=\"2\" valign=\"top\">White</th>\n",
       "      <th>Female</th>\n",
       "      <td>0.0909091</td>\n",
       "      <td>0.492754</td>\n",
       "    </tr>\n",
       "    <tr>\n",
       "      <th>Male</th>\n",
       "      <td>0.0710227</td>\n",
       "      <td>0.426481</td>\n",
       "    </tr>\n",
       "    <tr>\n",
       "      <th rowspan=\"18\" valign=\"top\">Small</th>\n",
       "      <th rowspan=\"6\" valign=\"top\">High</th>\n",
       "      <th rowspan=\"2\" valign=\"top\">Black</th>\n",
       "      <th>Female</th>\n",
       "      <td>0</td>\n",
       "      <td>0</td>\n",
       "    </tr>\n",
       "    <tr>\n",
       "      <th>Male</th>\n",
       "      <td>0.2</td>\n",
       "      <td>1</td>\n",
       "    </tr>\n",
       "    <tr>\n",
       "      <th rowspan=\"2\" valign=\"top\">Other</th>\n",
       "      <th>Female</th>\n",
       "      <td>0</td>\n",
       "      <td>0</td>\n",
       "    </tr>\n",
       "    <tr>\n",
       "      <th>Male</th>\n",
       "      <td>0</td>\n",
       "      <td>0</td>\n",
       "    </tr>\n",
       "    <tr>\n",
       "      <th rowspan=\"2\" valign=\"top\">White</th>\n",
       "      <th>Female</th>\n",
       "      <td>0.013986</td>\n",
       "      <td>0.418033</td>\n",
       "    </tr>\n",
       "    <tr>\n",
       "      <th>Male</th>\n",
       "      <td>0.157895</td>\n",
       "      <td>0.6375</td>\n",
       "    </tr>\n",
       "    <tr>\n",
       "      <th rowspan=\"6\" valign=\"top\">Low</th>\n",
       "      <th rowspan=\"2\" valign=\"top\">Black</th>\n",
       "      <th>Female</th>\n",
       "      <td>0.0019685</td>\n",
       "      <td>0.274194</td>\n",
       "    </tr>\n",
       "    <tr>\n",
       "      <th>Male</th>\n",
       "      <td>0.019337</td>\n",
       "      <td>0.480565</td>\n",
       "    </tr>\n",
       "    <tr>\n",
       "      <th rowspan=\"2\" valign=\"top\">Other</th>\n",
       "      <th>Female</th>\n",
       "      <td>0</td>\n",
       "      <td>0</td>\n",
       "    </tr>\n",
       "    <tr>\n",
       "      <th>Male</th>\n",
       "      <td>0.0123457</td>\n",
       "      <td>0.60177</td>\n",
       "    </tr>\n",
       "    <tr>\n",
       "      <th rowspan=\"2\" valign=\"top\">White</th>\n",
       "      <th>Female</th>\n",
       "      <td>0.0142492</td>\n",
       "      <td>0.450228</td>\n",
       "    </tr>\n",
       "    <tr>\n",
       "      <th>Male</th>\n",
       "      <td>0.0314961</td>\n",
       "      <td>0.555266</td>\n",
       "    </tr>\n",
       "    <tr>\n",
       "      <th rowspan=\"6\" valign=\"top\">Medium</th>\n",
       "      <th rowspan=\"2\" valign=\"top\">Black</th>\n",
       "      <th>Female</th>\n",
       "      <td>0.16</td>\n",
       "      <td>0.7072</td>\n",
       "    </tr>\n",
       "    <tr>\n",
       "      <th>Male</th>\n",
       "      <td>0.291667</td>\n",
       "      <td>0.621613</td>\n",
       "    </tr>\n",
       "    <tr>\n",
       "      <th rowspan=\"2\" valign=\"top\">Other</th>\n",
       "      <th>Female</th>\n",
       "      <td>0.274194</td>\n",
       "      <td>0.627517</td>\n",
       "    </tr>\n",
       "    <tr>\n",
       "      <th>Male</th>\n",
       "      <td>0.45098</td>\n",
       "      <td>0.679826</td>\n",
       "    </tr>\n",
       "    <tr>\n",
       "      <th rowspan=\"2\" valign=\"top\">White</th>\n",
       "      <th>Female</th>\n",
       "      <td>0.404444</td>\n",
       "      <td>0.699767</td>\n",
       "    </tr>\n",
       "    <tr>\n",
       "      <th>Male</th>\n",
       "      <td>0.431508</td>\n",
       "      <td>0.705253</td>\n",
       "    </tr>\n",
       "  </tbody>\n",
       "</table>\n",
       "</div>"
      ],
      "text/plain": [
       "                                    selection_rate  fbeta_06\n",
       "Loan Size Credit Score race  sex                            \n",
       "Large     High         Black Female              0         0\n",
       "                             Male              NaN       NaN\n",
       "                       Other Female            NaN       NaN\n",
       "                             Male              NaN       NaN\n",
       "                       White Female              0         0\n",
       "                             Male                0         0\n",
       "          Low          Black Female              0         0\n",
       "                             Male                0         0\n",
       "                       Other Female              0         0\n",
       "                             Male                0         0\n",
       "                       White Female              0         0\n",
       "                             Male        0.0148515  0.790698\n",
       "          Medium       Black Female              0         0\n",
       "                             Male        0.0322581  0.350515\n",
       "                       Other Female            0.2         0\n",
       "                             Male                0         0\n",
       "                       White Female      0.0909091  0.492754\n",
       "                             Male        0.0710227  0.426481\n",
       "Small     High         Black Female              0         0\n",
       "                             Male              0.2         1\n",
       "                       Other Female              0         0\n",
       "                             Male                0         0\n",
       "                       White Female       0.013986  0.418033\n",
       "                             Male         0.157895    0.6375\n",
       "          Low          Black Female      0.0019685  0.274194\n",
       "                             Male         0.019337  0.480565\n",
       "                       Other Female              0         0\n",
       "                             Male        0.0123457   0.60177\n",
       "                       White Female      0.0142492  0.450228\n",
       "                             Male        0.0314961  0.555266\n",
       "          Medium       Black Female           0.16    0.7072\n",
       "                             Male         0.291667  0.621613\n",
       "                       Other Female       0.274194  0.627517\n",
       "                             Male          0.45098  0.679826\n",
       "                       White Female       0.404444  0.699767\n",
       "                             Male         0.431508  0.705253"
      ]
     },
     "execution_count": 45,
     "metadata": {},
     "output_type": "execute_result"
    }
   ],
   "source": [
    "cond_both.by_group\n",
    "#note: NaN values indicate that there were no samples in the cell"
   ]
  },
  {
   "cell_type": "code",
   "execution_count": 46,
   "metadata": {},
   "outputs": [
    {
     "name": "stderr",
     "output_type": "stream",
     "text": [
      "Found 36 subgroups. Evaluation may be slow\n"
     ]
    },
    {
     "data": {
      "text/plain": [
       "Loan Size  Credit Score  race   sex   \n",
       "Large      High          Black  Female       8\n",
       "                                Male       NaN\n",
       "                         Other  Female     NaN\n",
       "                                Male       NaN\n",
       "                         White  Female      23\n",
       "                                Male         3\n",
       "           Low           Black  Female      59\n",
       "                                Male        29\n",
       "                         Other  Female       5\n",
       "                                Male        16\n",
       "                         White  Female     119\n",
       "                                Male       202\n",
       "           Medium        Black  Female       4\n",
       "                                Male        31\n",
       "                         Other  Female       5\n",
       "                                Male        23\n",
       "                         White  Female      33\n",
       "                                Male       352\n",
       "Small      High          Black  Female      42\n",
       "                                Male         5\n",
       "                         Other  Female      16\n",
       "                                Male         3\n",
       "                         White  Female     286\n",
       "                                Male        76\n",
       "           Low           Black  Female     508\n",
       "                                Male       362\n",
       "                         Other  Female     165\n",
       "                                Male       162\n",
       "                         White  Female    2737\n",
       "                                Male      2794\n",
       "           Medium        Black  Female     100\n",
       "                                Male       288\n",
       "                         Other  Female      62\n",
       "                                Male       255\n",
       "                         White  Female     675\n",
       "                                Male      5205\n",
       "Name: member_counts, dtype: object"
      ]
     },
     "execution_count": 46,
     "metadata": {},
     "output_type": "execute_result"
    }
   ],
   "source": [
    "#there is an underpopulation for certain subgroups.\n",
    "#count the instances that belong to each sub-category\n",
    "def member_counts(y_true, y_pred):\n",
    "    assert len(y_true) == len(y_pred)\n",
    "    return len(y_true)\n",
    "\n",
    "\n",
    "counts = MetricFrame(member_counts,\n",
    "                     Y_test, Y_pred,\n",
    "                     sensitive_features=A_test[['race', 'sex']],\n",
    "                     control_features=A_test[['Loan Size', 'Credit Score']])\n",
    "\n",
    "counts.by_group"
   ]
  },
  {
   "cell_type": "code",
   "execution_count": 51,
   "metadata": {},
   "outputs": [
    {
     "data": {
      "application/vnd.jupyter.widget-view+json": {
       "model_id": "ed4efbbfa3684a2a8c7d29c9b5d5ad66",
       "version_major": 2,
       "version_minor": 0
      },
      "text/plain": [
       "FairlearnWidget(value={'true_y': [0, 0, 1, 0, 0, 0, 0, 0, 0, 1, 0, 0, 0, 0, 0, 1, 0, 0, 0, 0, 0, 1, 1, 0, 0, 1…"
      ]
     },
     "metadata": {},
     "output_type": "display_data"
    },
    {
     "data": {
      "text/plain": [
       "<fairlearn.widget._fairlearn_dashboard.FairlearnDashboard at 0x22cd830f790>"
      ]
     },
     "execution_count": 51,
     "metadata": {},
     "output_type": "execute_result"
    }
   ],
   "source": [
    "#the interactive dashboard\n",
    "FairlearnDashboard(sensitive_features=A_test[['race', 'sex']],\n",
    "                    sensitive_feature_names=[['race'],['sex']],\n",
    "                    y_true=Y_test,\n",
    "                    y_pred={\"initial model\": Y_pred}) "
   ]
  },
  {
   "cell_type": "code",
   "execution_count": 61,
   "metadata": {},
   "outputs": [],
   "source": [
    "#try to mitigate the model with demographic parity (takes quite long ~8mins)\n",
    "constraint2 = DemographicParity()\n",
    "classifier2 = LogisticRegression(solver='liblinear', fit_intercept=True)\n",
    "\n",
    "mitigator2 = ExponentiatedGradient(classifier2, constraint2)\n",
    "mitigator2.fit(X_train, Y_train, sensitive_features=A_train[['race', 'sex']])\n",
    "y_pred_mitigated2 = mitigator2.predict(X_test)"
   ]
  },
  {
   "cell_type": "code",
   "execution_count": 62,
   "metadata": {},
   "outputs": [
    {
     "name": "stderr",
     "output_type": "stream",
     "text": [
      "C:\\Users\\hatta\\anaconda3\\lib\\site-packages\\sklearn\\metrics\\_classification.py:1221: UndefinedMetricWarning: Precision is ill-defined and being set to 0.0 due to no predicted samples. Use `zero_division` parameter to control this behavior.\n",
      "  _warn_prf(average, modifier, msg_start, len(result))\n",
      "Found 36 subgroups. Evaluation may be slow\n",
      "C:\\Users\\hatta\\anaconda3\\lib\\site-packages\\sklearn\\metrics\\_classification.py:1464: UndefinedMetricWarning: F-score is ill-defined and being set to 0.0 due to no true nor predicted samples. Use `zero_division` parameter to control this behavior.\n",
      "  _warn_prf(\n",
      "C:\\Users\\hatta\\anaconda3\\lib\\site-packages\\sklearn\\metrics\\_classification.py:1221: UndefinedMetricWarning: Recall is ill-defined and being set to 0.0 due to no true samples. Use `zero_division` parameter to control this behavior.\n",
      "  _warn_prf(average, modifier, msg_start, len(result))\n"
     ]
    }
   ],
   "source": [
    "fbeta_06 = functools.partial(skm.fbeta_score, beta=0.6)\n",
    "\n",
    "sr_mitigated = MetricFrame({'fbeta':fbeta_06, 'precision':skm.precision_score, 'recall':skm.recall_score,'selection_r':selection_rate},\n",
    "                           Y_test, y_pred_mitigated2, sensitive_features=A_test[['race', 'sex']],\n",
    "                           control_features=A_test[['Loan Size', 'Credit Score']])"
   ]
  },
  {
   "cell_type": "code",
   "execution_count": 63,
   "metadata": {},
   "outputs": [
    {
     "name": "stdout",
     "output_type": "stream",
     "text": [
      "                           fbeta precision    recall selection_r\n",
      "Loan Size Credit Score                                          \n",
      "Large     High                 0         0         0           0\n",
      "          Low                  0         0         0           0\n",
      "          Medium        0.318501  0.571429  0.142857      0.0625\n",
      "Small     High          0.509251  0.548387     0.425   0.0724299\n",
      "          Low           0.465267  0.584158  0.297229   0.0300238\n",
      "          Medium        0.674815  0.733875  0.551525    0.336674\n"
     ]
    }
   ],
   "source": [
    "print(sr_mitigated.overall)"
   ]
  },
  {
   "cell_type": "code",
   "execution_count": 56,
   "metadata": {},
   "outputs": [
    {
     "name": "stdout",
     "output_type": "stream",
     "text": [
      "                                    precision     recall selection_r\n",
      "Loan Size Credit Score race  sex                                    \n",
      "Large     High         Black Female         0          0           0\n",
      "                             Male         NaN        NaN         NaN\n",
      "                       Other Female       NaN        NaN         NaN\n",
      "                             Male         NaN        NaN         NaN\n",
      "                       White Female         0          0           0\n",
      "                             Male           0          0           0\n",
      "          Low          Black Female         0          0           0\n",
      "                             Male           0          0           0\n",
      "                       Other Female         0          0           0\n",
      "                             Male           0          0           0\n",
      "                       White Female         0          0           0\n",
      "                             Male           1   0.166667   0.0049505\n",
      "          Medium       Black Female  0.333333          1        0.75\n",
      "                             Male        0.75      0.375    0.129032\n",
      "                       Other Female         0          0         0.2\n",
      "                             Male           0          0           0\n",
      "                       White Female  0.357143   0.714286    0.424242\n",
      "                             Male           1  0.0777778   0.0198864\n",
      "Small     High         Black Female     0.125          1    0.190476\n",
      "                             Male           1          1         0.2\n",
      "                       Other Female         0          0           0\n",
      "                             Male           0          0           0\n",
      "                       White Female  0.428571      0.375    0.048951\n",
      "                             Male         0.9       0.45    0.131579\n",
      "          Low          Black Female  0.258065   0.727273   0.0610236\n",
      "                             Male    0.571429   0.333333    0.019337\n",
      "                       Other Female     0.375   0.428571   0.0484848\n",
      "                             Male           1   0.285714   0.0123457\n",
      "                       White Female  0.476636   0.377778   0.0390939\n",
      "                             Male    0.912281   0.231111   0.0204009\n",
      "          Medium       Black Female   0.33871       0.84        0.62\n",
      "                             Male    0.681319   0.579439    0.315972\n",
      "                       Other Female  0.484848   0.842105    0.532258\n",
      "                             Male    0.722892   0.526316     0.32549\n",
      "                       White Female  0.574236   0.910035    0.678519\n",
      "                             Male    0.813985   0.500417    0.282997\n"
     ]
    }
   ],
   "source": [
    "print(sr_mitigated.by_group)"
   ]
  },
  {
   "cell_type": "code",
   "execution_count": 64,
   "metadata": {},
   "outputs": [
    {
     "name": "stderr",
     "output_type": "stream",
     "text": [
      "C:\\Users\\hatta\\anaconda3\\lib\\site-packages\\fairlearn\\widget\\_fairlearn_dashboard.py:47: UserWarning: The FairlearnDashboard will move from Fairlearn to the raiwidgets package after the v0.5.0 release. Instead, Fairlearn will provide some of the existing functionality through matplotlib-based visualizations.\n",
      "  warn(\"The FairlearnDashboard will move from Fairlearn to the \"\n"
     ]
    },
    {
     "data": {
      "application/vnd.jupyter.widget-view+json": {
       "model_id": "7c28b78b9ecc4932a1ba683e61b9d9b9",
       "version_major": 2,
       "version_minor": 0
      },
      "text/plain": [
       "FairlearnWidget(value={'true_y': [0, 0, 1, 0, 0, 0, 0, 0, 0, 1, 0, 0, 0, 0, 0, 1, 0, 0, 0, 0, 0, 1, 1, 0, 0, 1…"
      ]
     },
     "metadata": {},
     "output_type": "display_data"
    },
    {
     "data": {
      "text/plain": [
       "<fairlearn.widget._fairlearn_dashboard.FairlearnDashboard at 0x22cd5f6a9a0>"
      ]
     },
     "execution_count": 64,
     "metadata": {},
     "output_type": "execute_result"
    }
   ],
   "source": [
    "#comparison of logistic regression models with and without mitigation on dashboard\n",
    "FairlearnDashboard(sensitive_features=A_test[['race', 'sex']],\n",
    "                    sensitive_feature_names=[['race'],['sex']],\n",
    "                    y_true=Y_test,\n",
    "                    y_pred={\"initial model\": Y_pred.tolist(), \"mitigated model\": y_pred_mitigated2.tolist()}) "
   ]
  },
  {
   "cell_type": "code",
   "execution_count": null,
   "metadata": {},
   "outputs": [],
   "source": []
  }
 ],
 "metadata": {
  "kernelspec": {
   "display_name": "Python 3",
   "language": "python",
   "name": "python3"
  },
  "language_info": {
   "codemirror_mode": {
    "name": "ipython",
    "version": 3
   },
   "file_extension": ".py",
   "mimetype": "text/x-python",
   "name": "python",
   "nbconvert_exporter": "python",
   "pygments_lexer": "ipython3",
   "version": "3.8.3"
  }
 },
 "nbformat": 4,
 "nbformat_minor": 4
}
