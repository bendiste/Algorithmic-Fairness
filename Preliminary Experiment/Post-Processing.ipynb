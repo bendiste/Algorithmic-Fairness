{
 "cells": [
  {
   "cell_type": "markdown",
   "metadata": {},
   "source": [
    "# Preliminary Experiments with Existing Algorithms Part 3: Post-Processing algorithm- Calibrated Equalized Odds"
   ]
  },
  {
   "cell_type": "code",
   "execution_count": 1,
   "metadata": {},
   "outputs": [],
   "source": [
    "import sys\n",
    "import numpy as np\n",
    "import pandas as pd\n",
    "\n",
    "sys.path.append(\"../\")\n",
    "from aif360.datasets import AdultDataset, GermanDataset\n",
    "from aif360.metrics import BinaryLabelDatasetMetric\n",
    "from aif360.metrics import ClassificationMetric\n",
    "from aif360.metrics.utils import compute_boolean_conditioning_vector\n",
    "\n",
    "from aif360.algorithms.preprocessing.optim_preproc_helpers.data_preproc_functions import load_preproc_data_adult, load_preproc_data_german\n",
    "from aif360.algorithms.postprocessing.calibrated_eq_odds_postprocessing import CalibratedEqOddsPostprocessing\n",
    "\n",
    "from sklearn.preprocessing import scale\n",
    "from sklearn.linear_model import LogisticRegression\n",
    "\n",
    "\n",
    "from sklearn.metrics import confusion_matrix, ConfusionMatrixDisplay\n",
    "\n",
    "from sklearn.preprocessing import StandardScaler\n",
    "from sklearn.metrics import roc_curve\n",
    "\n",
    "from IPython.display import Markdown, display\n",
    "import matplotlib.pyplot as plt\n",
    "\n",
    "import warnings; warnings.simplefilter('ignore')"
   ]
  },
  {
   "cell_type": "code",
   "execution_count": 2,
   "metadata": {},
   "outputs": [],
   "source": [
    "#Import datasets\n",
    "\n",
    "#Adult\n",
    "adult_orig = load_preproc_data_adult()\n",
    "\n",
    "a_privileged_groups = [{'sex': 1}]\n",
    "a_unprivileged_groups = [{'sex': 0}]\n",
    "\n",
    "adult_orig_train, adult_orig_test = adult_orig.split([0.7], shuffle=True)\n",
    "\n",
    "#German\n",
    "german_orig = load_preproc_data_german()\n",
    "\n",
    "for i in range(1000):\n",
    "    if (german_orig.labels[i] == 2.0):\n",
    "        german_orig.labels[i] = 0\n",
    "    else:\n",
    "        german_orig.labels[i] = 1\n",
    "        \n",
    "german_orig.favorable_label = 1\n",
    "german_orig.unfavorable_label = 0\n",
    "\n",
    "g_privileged_groups = [{'age': 1}]\n",
    "g_unprivileged_groups = [{'age': 0}]\n",
    "\n",
    "german_orig_train, german_orig_test = german_orig.split([0.7], shuffle=True)"
   ]
  },
  {
   "cell_type": "code",
   "execution_count": 3,
   "metadata": {},
   "outputs": [],
   "source": [
    "#Scaling the datasets\n",
    "std_scaler = StandardScaler()\n",
    "#German\n",
    "X_train_g = std_scaler.fit_transform(german_orig_train.features)\n",
    "X_test_g = std_scaler.transform(german_orig_test.features)\n",
    "\n",
    "y_train_g = german_orig_train.labels.ravel()\n",
    "y_test_g = german_orig_test.labels.ravel()\n",
    "\n",
    "#Adult\n",
    "X_train_a = std_scaler.fit_transform(adult_orig_train.features)\n",
    "X_test_a = std_scaler.transform(adult_orig_test.features)\n",
    "\n",
    "y_train_a = adult_orig_train.labels.ravel()\n",
    "y_test_a = adult_orig_test.labels.ravel()"
   ]
  },
  {
   "cell_type": "code",
   "execution_count": 4,
   "metadata": {},
   "outputs": [],
   "source": [
    "#Train Logistic Regression algorithm\n",
    "\n",
    "#Logistic Regression Training for each dataset\n",
    "log_reg_g = LogisticRegression() \n",
    "log_reg_a = LogisticRegression() \n",
    "\n",
    "#Fitting the German dataset\n",
    "log_reg_g.fit(X_train_g, y_train_g)\n",
    "\n",
    "#Fitting Adult dataset\n",
    "log_reg_a.fit(X_train_a, y_train_a)\n",
    "\n",
    "\n",
    "#Training data labels predictions\n",
    "#German\n",
    "fav_idx_g = np.where(log_reg_g.classes_ == german_orig_train.favorable_label)[0][0]\n",
    "y_train_pred_proba_g = log_reg_g.predict_proba(X_train_g)[:,fav_idx_g]\n",
    "\n",
    "#Adult\n",
    "fav_idx_a = np.where(log_reg_a.classes_ == adult_orig_train.favorable_label)[0][0]\n",
    "y_train_pred_proba_a = log_reg_a.predict_proba(X_train_a)[:,fav_idx_a]\n",
    "\n",
    "\n",
    "#Predicting test set labels\n",
    "#German\n",
    "y_test_pred_g = log_reg_g.predict(X_test_g)\n",
    "y_test_pred_proba_g = log_reg_g.predict_proba(X_test_g)[:,fav_idx_g]\n",
    "\n",
    "#Adult\n",
    "y_test_pred_a = log_reg_a.predict(X_test_a)\n",
    "y_test_pred_proba_a = log_reg_a.predict_proba(X_test_a)[:,fav_idx_g]\n",
    "\n",
    "\n",
    "#re-creating the test sets with predicted class labels\n",
    "pred_adult_test = adult_orig_test.copy()\n",
    "pred_adult_test.labels = y_test_pred_a\n",
    "\n",
    "pred_german_test = german_orig_test.copy()\n",
    "pred_german_test.labels = y_test_pred_g"
   ]
  },
  {
   "cell_type": "code",
   "execution_count": 5,
   "metadata": {},
   "outputs": [
    {
     "data": {
      "text/plain": [
       "'# Prediction probs for validation and testing data: finding labels from the predicted probabilities\\nclass_thresh = 0.5\\n#Adult\\nadult_orig_train.scores = y_train_pred_proba_a.reshape(-1,1)\\nadult_orig_test.scores = y_test_pred_proba_a.reshape(-1,1)\\n\\ny_train_pred_a = np.zeros_like(adult_orig_train.labels)\\ny_train_pred_a[y_train_pred_proba_a >= class_thresh] = adult_orig_train.favorable_label\\ny_train_pred_a[~(y_train_pred_proba_a >= class_thresh)] = adult_orig_train.unfavorable_label\\nadult_orig_train.labels = y_train_pred_a\\n \\ny_test_pred_a = np.zeros_like(adult_orig_test.labels)\\ny_test_pred_a[y_test_pred_proba_a >= class_thresh] = adult_orig_test.favorable_label\\ny_test_pred_a[~(y_test_pred_proba_a >= class_thresh)] = adult_orig_test.unfavorable_label\\nadult_orig_test.labels = y_test_pred_a\\n\\n\\n#German\\ngerman_orig_train.scores = y_train_pred_proba_g.reshape(-1,1)\\ngerman_orig_test.scores = y_test_pred_proba_g.reshape(-1,1)\\n\\ny_train_pred_g = np.zeros_like(german_orig_train.labels)\\ny_train_pred_g[y_train_pred_proba_g >= class_thresh] = german_orig_train.favorable_label\\ny_train_pred_g[~(y_train_pred_proba_g >= class_thresh)] = german_orig_train.unfavorable_label\\ngerman_orig_train.labels = y_train_pred_g\\n \\ny_test_pred_g = np.zeros_like(german_orig_test.labels)\\ny_test_pred_g[y_test_pred_proba_g >= class_thresh] = german_orig_test.favorable_label\\ny_test_pred_g[~(y_test_pred_proba_g >= class_thresh)] = german_orig_test.unfavorable_label\\ngerman_orig_test.labels = y_test_pred_g\\n'"
      ]
     },
     "execution_count": 5,
     "metadata": {},
     "output_type": "execute_result"
    }
   ],
   "source": [
    "'''# Prediction probs for validation and testing data: finding labels from the predicted probabilities\n",
    "class_thresh = 0.5\n",
    "#Adult\n",
    "adult_orig_train.scores = y_train_pred_proba_a.reshape(-1,1)\n",
    "adult_orig_test.scores = y_test_pred_proba_a.reshape(-1,1)\n",
    "\n",
    "y_train_pred_a = np.zeros_like(adult_orig_train.labels)\n",
    "y_train_pred_a[y_train_pred_proba_a >= class_thresh] = adult_orig_train.favorable_label\n",
    "y_train_pred_a[~(y_train_pred_proba_a >= class_thresh)] = adult_orig_train.unfavorable_label\n",
    "adult_orig_train.labels = y_train_pred_a\n",
    " \n",
    "y_test_pred_a = np.zeros_like(adult_orig_test.labels)\n",
    "y_test_pred_a[y_test_pred_proba_a >= class_thresh] = adult_orig_test.favorable_label\n",
    "y_test_pred_a[~(y_test_pred_proba_a >= class_thresh)] = adult_orig_test.unfavorable_label\n",
    "adult_orig_test.labels = y_test_pred_a\n",
    "\n",
    "\n",
    "#German\n",
    "german_orig_train.scores = y_train_pred_proba_g.reshape(-1,1)\n",
    "german_orig_test.scores = y_test_pred_proba_g.reshape(-1,1)\n",
    "\n",
    "y_train_pred_g = np.zeros_like(german_orig_train.labels)\n",
    "y_train_pred_g[y_train_pred_proba_g >= class_thresh] = german_orig_train.favorable_label\n",
    "y_train_pred_g[~(y_train_pred_proba_g >= class_thresh)] = german_orig_train.unfavorable_label\n",
    "german_orig_train.labels = y_train_pred_g\n",
    " \n",
    "y_test_pred_g = np.zeros_like(german_orig_test.labels)\n",
    "y_test_pred_g[y_test_pred_proba_g >= class_thresh] = german_orig_test.favorable_label\n",
    "y_test_pred_g[~(y_test_pred_proba_g >= class_thresh)] = german_orig_test.unfavorable_label\n",
    "german_orig_test.labels = y_test_pred_g\n",
    "'''"
   ]
  },
  {
   "cell_type": "code",
   "execution_count": 6,
   "metadata": {},
   "outputs": [
    {
     "data": {
      "text/plain": [
       "array([0.40537995, 0.35160492, 0.2146336 , ..., 0.29868146, 0.2146336 ,\n",
       "       0.30107059])"
      ]
     },
     "execution_count": 6,
     "metadata": {},
     "output_type": "execute_result"
    }
   ],
   "source": [
    "y_test_pred_proba_a"
   ]
  },
  {
   "cell_type": "code",
   "execution_count": 7,
   "metadata": {},
   "outputs": [],
   "source": [
    "# Learn parameters to equalize odds and apply to create a new dataset\n",
    "\n",
    "# cost constraint of fnr will optimize generalized false negative rates, that of\n",
    "# fpr will optimize generalized false positive rates, and weighted will optimize\n",
    "# a weighted combination of both\n",
    "cost_constraint = \"weighted\" # \"fnr\", \"fpr\", \"weighted\"\n",
    "\n",
    "#random seed for calibrated equal odds prediction\n",
    "randseed = 12345679\n",
    "\n",
    "#Adult\n",
    "ceopp_a = CalibratedEqOddsPostprocessing(privileged_groups = a_privileged_groups,\n",
    "                                     unprivileged_groups = a_unprivileged_groups,\n",
    "                                     cost_constraint=cost_constraint,\n",
    "                                     seed=randseed)\n",
    "ceopp_a = ceopp_a.fit(adult_orig_test, pred_adult_test)\n",
    "\n",
    "#German\n",
    "# Learn parameters to equalize odds and apply to create a new dataset\n",
    "ceopp_g = CalibratedEqOddsPostprocessing(privileged_groups = g_privileged_groups,\n",
    "                                     unprivileged_groups = g_unprivileged_groups,\n",
    "                                     cost_constraint=cost_constraint,\n",
    "                                     seed=randseed)\n",
    "ceopp_g = ceopp_g.fit(german_orig_test, pred_german_test)"
   ]
  },
  {
   "cell_type": "code",
   "execution_count": 8,
   "metadata": {},
   "outputs": [],
   "source": [
    "#new prediction of ceopp algorithm\n",
    "#Adult\n",
    "adult_transf_test_pred = ceopp_a.predict(pred_adult_test)\n",
    "#German\n",
    "german_transf_test_pred = ceopp_g.predict(pred_german_test)"
   ]
  },
  {
   "cell_type": "markdown",
   "metadata": {},
   "source": [
    "### Results after post-processing"
   ]
  },
  {
   "cell_type": "code",
   "execution_count": 9,
   "metadata": {},
   "outputs": [
    {
     "data": {
      "text/markdown": [
       "#### Post-processed LR with Adult Test Set Fairness Performance (based on predictions)"
      ],
      "text/plain": [
       "<IPython.core.display.Markdown object>"
      ]
     },
     "metadata": {},
     "output_type": "display_data"
    },
    {
     "name": "stdout",
     "output_type": "stream",
     "text": [
      "Average equalized odds difference between unprivileged and privileged groups = -0.280132\n",
      "Disparate impact ratio between unprivileged and privileged groups = 0.000000\n",
      "Demographic parity difference between unprivileged and privileged groups = -0.211454\n",
      "Predictive Parity difference between unprivileged and privileged groups = -0.646802\n",
      "Consistency of indivuals' predicted labels = 1.000000\n"
     ]
    },
    {
     "data": {
      "text/markdown": [
       "#### Post-processed LR with Adult Test Set Prediction Performance"
      ],
      "text/plain": [
       "<IPython.core.display.Markdown object>"
      ]
     },
     "metadata": {},
     "output_type": "display_data"
    },
    {
     "name": "stdout",
     "output_type": "stream",
     "text": [
      "Standard accuracy of logistic regression trained on German dataset without any mitigation = 0.805432\n",
      "Balanced accuracy of logistic regression trained on German dataset without any mitigation = 0.660530\n",
      "F1 score of logistic regression trained on German dataset without any mitigation = 0.483608\n",
      "Detailed scores for Adult dataset\n",
      "Precision (PPV): 0.646802\n",
      "Recall (TPR): 0.386173\n",
      "Specificity (TNR): 0.934887\n",
      "F1-score: 0.483608\n"
     ]
    }
   ],
   "source": [
    "#Performance Metrics from Adult dataset post-processing predictions\n",
    "\n",
    "metric_adult_eo_test = BinaryLabelDatasetMetric(pred_adult_test, \n",
    "                                             unprivileged_groups=a_unprivileged_groups,\n",
    "                                             privileged_groups=a_privileged_groups)\n",
    "\n",
    "\n",
    "\n",
    "classified_adult_eo_test = ClassificationMetric(adult_orig_test, \n",
    "                                                 pred_adult_test,\n",
    "                                                 unprivileged_groups=a_unprivileged_groups,\n",
    "                                                 privileged_groups=a_privileged_groups)\n",
    "\n",
    "\n",
    "display(Markdown(\"#### Post-processed LR with Adult Test Set Fairness Performance (based on predictions)\"))\n",
    "\n",
    "#Checking Equalized Odds: average odds differecence, which is the avg. of differences in FPR&TPR for privileged and unprivileged groups.\n",
    "eop_aeo_a = classified_adult_eo_test.average_odds_difference()\n",
    "print(\"Average equalized odds difference between unprivileged and privileged groups = %f\" % eop_aeo_a)\n",
    "\n",
    "#Disparate Impact ratio between privileged and unprivileged groups.\n",
    "eop_di_a = classified_adult_eo_test.disparate_impact()\n",
    "print(\"Disparate impact ratio between unprivileged and privileged groups = %f\" % eop_di_a)\n",
    "\n",
    "#Demographic parity difference between privileged and unprivileged groups.\n",
    "eop_spd_a = classified_adult_eo_test.statistical_parity_difference()\n",
    "print(\"Demographic parity difference between unprivileged and privileged groups = %f\" % eop_spd_a)\n",
    "\n",
    "#Predictive parity difference: PPV difference between privileged and unprivileged groups.\n",
    "eop_ppd_a = classified_adult_eo_test.positive_predictive_value(privileged=False) - classified_adult_eo_test.positive_predictive_value(privileged=True)\n",
    "print(\"Predictive Parity difference between unprivileged and privileged groups = %f\" % eop_ppd_a)\n",
    "\n",
    "#Individual Fairness: 1)Consistency, 2) Euclidean Distance between individuals.\n",
    "print(\"Consistency of indivuals' predicted labels = %f\" % metric_adult_eo_test.consistency())\n",
    "\n",
    "\n",
    "#Prediction performance metrics\n",
    "TPRa = classified_adult_eo_test.true_positive_rate() #recall\n",
    "TNRa = classified_adult_eo_test.true_negative_rate() #specificity\n",
    "PPVa = classified_adult_eo_test.positive_predictive_value() #precision\n",
    "bal_acc_a = (TPRa+TNRa)/2\n",
    "f1_a = 2*((PPVa*TPRa)/(PPVa+TPRa))\n",
    "\n",
    "display(Markdown(\"#### Post-processed LR with Adult Test Set Prediction Performance\"))\n",
    "print(\"Standard accuracy of logistic regression trained on German dataset without any mitigation = %f\" % classified_adult_eo_test.accuracy())\n",
    "print(\"Balanced accuracy of logistic regression trained on German dataset without any mitigation = %f\" % bal_acc_a)\n",
    "print(\"F1 score of logistic regression trained on German dataset without any mitigation = %f\" % f1_a)\n",
    "\n",
    "print(\"Detailed scores for Adult dataset\")\n",
    "print(\"Precision (PPV): %f\" %PPVa)\n",
    "print(\"Recall (TPR): %f\" %TPRa)\n",
    "print(\"Specificity (TNR): %f\" %TNRa)\n",
    "print(\"F1-score: %f\" %f1_a)\n"
   ]
  },
  {
   "cell_type": "code",
   "execution_count": 10,
   "metadata": {},
   "outputs": [
    {
     "data": {
      "text/plain": [
       "<sklearn.metrics._plot.confusion_matrix.ConfusionMatrixDisplay at 0x27d414e3e10>"
      ]
     },
     "execution_count": 10,
     "metadata": {},
     "output_type": "execute_result"
    },
    {
     "data": {
      "image/png": "[encoded data removed]",
      "text/plain": [
       "<Figure size 432x288 with 2 Axes>"
      ]
     },
     "metadata": {
      "needs_background": "light"
     },
     "output_type": "display_data"
    }
   ],
   "source": [
    "cm_adult = confusion_matrix(adult_orig_test.labels, pred_adult_test.labels)\n",
    "\n",
    "disp_adult = ConfusionMatrixDisplay(confusion_matrix=cm_adult)\n",
    "disp_adult.plot()"
   ]
  },
  {
   "cell_type": "code",
   "execution_count": 12,
   "metadata": {},
   "outputs": [
    {
     "data": {
      "text/markdown": [
       "#### Post-processed LR with German Test Set Fairness Performance (based on predictions)"
      ],
      "text/plain": [
       "<IPython.core.display.Markdown object>"
      ]
     },
     "metadata": {},
     "output_type": "display_data"
    },
    {
     "name": "stdout",
     "output_type": "stream",
     "text": [
      "Average equalized odds difference between unprivileged and privileged groups = -0.461874\n",
      "Disparate impact ratio between unprivileged and privileged groups = 0.557377\n",
      "Demographic parity difference between unprivileged and privileged groups = -0.442623\n",
      "Predictive Parity difference between unprivileged and privileged groups = 0.015506\n",
      "Consistency of indivuals' predicted labels = 0.989333\n"
     ]
    },
    {
     "data": {
      "text/markdown": [
       "#### Post-processed LR with German Test Set Prediction Performance"
      ],
      "text/plain": [
       "<IPython.core.display.Markdown object>"
      ]
     },
     "metadata": {},
     "output_type": "display_data"
    },
    {
     "name": "stdout",
     "output_type": "stream",
     "text": [
      "Standard accuracy of logistic regression trained on German dataset without any mitigation = 0.686667\n",
      "Balanced accuracy of logistic regression trained on German dataset without any mitigation = 0.559033\n",
      "F1 score of logistic regression trained on German dataset without any mitigation = 0.800847\n",
      "Detailed scores for german dataset\n",
      "Precision (PPV): 0.692308\n",
      "Recall (TPR): 0.949749\n",
      "Specificity (TNR): 0.168317\n",
      "F1-score: 0.800847\n"
     ]
    }
   ],
   "source": [
    "#Performance Metrics from German dataset post-processing predictions\n",
    "\n",
    "metric_german_eo_test = BinaryLabelDatasetMetric(pred_german_test, \n",
    "                                             unprivileged_groups=g_unprivileged_groups,\n",
    "                                             privileged_groups=g_privileged_groups)\n",
    "\n",
    "\n",
    "\n",
    "classified_german_eo_test = ClassificationMetric(german_orig_test, \n",
    "                                                 pred_german_test,\n",
    "                                                 unprivileged_groups=g_unprivileged_groups,\n",
    "                                                 privileged_groups=g_privileged_groups)\n",
    "\n",
    "\n",
    "display(Markdown(\"#### Post-processed LR with German Test Set Fairness Performance (based on predictions)\"))\n",
    "\n",
    "#Checking Equalized Odds: average odds differecence, which is the avg. of differences in FPR&TPR for privileged and unprivileged groups.\n",
    "eop_aeo_g = classified_german_eo_test.average_odds_difference()\n",
    "print(\"Average equalized odds difference between unprivileged and privileged groups = %f\" % eop_aeo_g)\n",
    "\n",
    "#Disparate Impact ratio between privileged and unprivileged groups.\n",
    "eop_di_g = classified_german_eo_test.disparate_impact()\n",
    "print(\"Disparate impact ratio between unprivileged and privileged groups = %f\" % eop_di_g)\n",
    "\n",
    "#Demographic parity difference between privileged and unprivileged groups.\n",
    "eop_spd_g = classified_german_eo_test.statistical_parity_difference()\n",
    "print(\"Demographic parity difference between unprivileged and privileged groups = %f\" % eop_spd_g)\n",
    "\n",
    "#Predictive parity difference: PPV difference between privileged and unprivileged groups.\n",
    "eop_ppd_g = classified_german_eo_test.positive_predictive_value(privileged=False) - classified_german_eo_test.positive_predictive_value(privileged=True)\n",
    "print(\"Predictive Parity difference between unprivileged and privileged groups = %f\" % eop_ppd_g)\n",
    "\n",
    "#Individual Fairness: 1)Consistency, 2) Euclidean Distance between individuals.\n",
    "print(\"Consistency of indivuals' predicted labels = %f\" % metric_german_eo_test.consistency())\n",
    "\n",
    "\n",
    "#Prediction performance metrics\n",
    "TPRg = classified_german_eo_test.true_positive_rate() #recall\n",
    "TNRg = classified_german_eo_test.true_negative_rate() #specificity\n",
    "PPVg = classified_german_eo_test.positive_predictive_value() #precision\n",
    "bal_acc_g = (TPRg+TNRg)/2\n",
    "f1_g = 2*((PPVg*TPRg)/(PPVg+TPRg))\n",
    "\n",
    "display(Markdown(\"#### Post-processed LR with German Test Set Prediction Performance\"))\n",
    "print(\"Standard accuracy of logistic regression trained on German dataset without any mitigation = %f\" % classified_german_eo_test.accuracy())\n",
    "print(\"Balanced accuracy of logistic regression trained on German dataset without any mitigation = %f\" % bal_acc_g)\n",
    "print(\"F1 score of logistic regression trained on German dataset without any mitigation = %f\" % f1_g)\n",
    "\n",
    "print(\"Detailed scores for german dataset\")\n",
    "print(\"Precision (PPV): %f\" %PPVg)\n",
    "print(\"Recall (TPR): %f\" %TPRg)\n",
    "print(\"Specificity (TNR): %f\" %TNRg)\n",
    "print(\"F1-score: %f\" %f1_g)"
   ]
  },
  {
   "cell_type": "code",
   "execution_count": 13,
   "metadata": {},
   "outputs": [
    {
     "data": {
      "text/plain": [
       "<sklearn.metrics._plot.confusion_matrix.ConfusionMatrixDisplay at 0x27d6961c278>"
      ]
     },
     "execution_count": 13,
     "metadata": {},
     "output_type": "execute_result"
    },
    {
     "data": {
      "image/png": "[encoded data removed]",
      "text/plain": [
       "<Figure size 432x288 with 2 Axes>"
      ]
     },
     "metadata": {
      "needs_background": "light"
     },
     "output_type": "display_data"
    }
   ],
   "source": [
    "cm_german = confusion_matrix(german_orig_test.labels, pred_german_test.labels)\n",
    "\n",
    "disp_german = ConfusionMatrixDisplay(confusion_matrix=cm_german)\n",
    "disp_german.plot()"
   ]
  },
  {
   "cell_type": "code",
   "execution_count": null,
   "metadata": {},
   "outputs": [],
   "source": []
  }
 ],
 "metadata": {
  "kernelspec": {
   "display_name": "aif360",
   "language": "python",
   "name": "aif360"
  },
  "language_info": {
   "codemirror_mode": {
    "name": "ipython",
    "version": 3
   },
   "file_extension": ".py",
   "mimetype": "text/x-python",
   "name": "python",
   "nbconvert_exporter": "python",
   "pygments_lexer": "ipython3",
   "version": "3.6.12"
  }
 },
 "nbformat": 4,
 "nbformat_minor": 4
}
