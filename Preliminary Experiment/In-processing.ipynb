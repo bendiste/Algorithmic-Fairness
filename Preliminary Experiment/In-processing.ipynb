{
 "cells": [
  {
   "cell_type": "markdown",
   "metadata": {},
   "source": [
    "# Preliminary Experiments with Existing Algorithms Part 2: In-Processing algorithm- Adversarial Debiasing"
   ]
  },
  {
   "cell_type": "code",
   "execution_count": 1,
   "metadata": {},
   "outputs": [],
   "source": [
    "import sys\n",
    "sys.path.append(\"../\")\n",
    "from aif360.datasets import BinaryLabelDataset\n",
    "from aif360.datasets import AdultDataset, GermanDataset\n",
    "from aif360.metrics import BinaryLabelDatasetMetric\n",
    "from aif360.metrics import ClassificationMetric\n",
    "from aif360.metrics.utils import compute_boolean_conditioning_vector\n",
    "\n",
    "from aif360.algorithms.preprocessing.optim_preproc_helpers.data_preproc_functions import load_preproc_data_adult, load_preproc_data_german\n",
    "\n",
    "from aif360.algorithms.inprocessing.adversarial_debiasing import AdversarialDebiasing\n",
    "\n",
    "from sklearn.linear_model import LogisticRegression\n",
    "from sklearn.preprocessing import StandardScaler\n",
    "from sklearn.metrics import accuracy_score\n",
    "\n",
    "from sklearn.metrics import confusion_matrix, ConfusionMatrixDisplay\n",
    "\n",
    "from IPython.display import Markdown, display\n",
    "import matplotlib.pyplot as plt\n",
    "\n",
    "import tensorflow as tf\n",
    "import warnings; warnings.simplefilter('ignore')\n",
    "\n",
    "import random\n",
    "random.seed(0)"
   ]
  },
  {
   "cell_type": "code",
   "execution_count": 2,
   "metadata": {},
   "outputs": [],
   "source": [
    "#Importing the datasets\n",
    "\n",
    "#Adult\n",
    "adult_orig = load_preproc_data_adult()\n",
    "\n",
    "a_privileged_groups = [{'sex': 1}]\n",
    "a_unprivileged_groups = [{'sex': 0}]\n",
    "\n",
    "adult_orig_train, adult_orig_test = adult_orig.split([0.7], shuffle=True)\n",
    "\n",
    "#German\n",
    "german_orig = load_preproc_data_german()\n",
    "\n",
    "for i in range(1000):\n",
    "    if (german_orig.labels[i] == 2.0):\n",
    "        german_orig.labels[i] = 0\n",
    "    else:\n",
    "        german_orig.labels[i] = 1\n",
    "        \n",
    "german_orig.favorable_label = 1\n",
    "german_orig.unfavorable_label = 0\n",
    "\n",
    "g_privileged_groups = [{'age': 1}]\n",
    "g_unprivileged_groups = [{'age': 0}]\n",
    "\n",
    "german_orig_train, german_orig_test = german_orig.split([0.7], shuffle=True)\n",
    "\n",
    "#Scaling the datasets\n",
    "std_scaler = StandardScaler()\n",
    "\n",
    "#Adult\n",
    "adult_orig_train.features = std_scaler.fit_transform(adult_orig_train.features)\n",
    "adult_orig_test.features = std_scaler.transform(adult_orig_test.features)\n",
    "\n",
    "#German\n",
    "german_orig_train.features = std_scaler.fit_transform(german_orig_train.features)\n",
    "german_orig_test.features = std_scaler.transform(german_orig_test.features)"
   ]
  },
  {
   "cell_type": "code",
   "execution_count": 3,
   "metadata": {},
   "outputs": [
    {
     "name": "stdout",
     "output_type": "stream",
     "text": [
      "WARNING:tensorflow:From c:\\users\\hatta\\anaconda3\\envs\\aif360\\lib\\site-packages\\aif360\\algorithms\\inprocessing\\adversarial_debiasing.py:137: The name tf.variable_scope is deprecated. Please use tf.compat.v1.variable_scope instead.\n",
      "\n",
      "WARNING:tensorflow:From c:\\users\\hatta\\anaconda3\\envs\\aif360\\lib\\site-packages\\aif360\\algorithms\\inprocessing\\adversarial_debiasing.py:141: The name tf.placeholder is deprecated. Please use tf.compat.v1.placeholder instead.\n",
      "\n",
      "WARNING:tensorflow:From c:\\users\\hatta\\anaconda3\\envs\\aif360\\lib\\site-packages\\aif360\\algorithms\\inprocessing\\adversarial_debiasing.py:84: The name tf.get_variable is deprecated. Please use tf.compat.v1.get_variable instead.\n",
      "\n",
      "WARNING:tensorflow:\n",
      "The TensorFlow contrib module will not be included in TensorFlow 2.0.\n",
      "For more information, please see:\n",
      "  * https://github.com/tensorflow/community/blob/master/rfcs/20180907-contrib-sunset.md\n",
      "  * https://github.com/tensorflow/addons\n",
      "  * https://github.com/tensorflow/io (for I/O related ops)\n",
      "If you depend on functionality not listed there, please file an issue.\n",
      "\n",
      "WARNING:tensorflow:From c:\\users\\hatta\\anaconda3\\envs\\aif360\\lib\\site-packages\\aif360\\algorithms\\inprocessing\\adversarial_debiasing.py:89: calling dropout (from tensorflow.python.ops.nn_ops) with keep_prob is deprecated and will be removed in a future version.\n",
      "Instructions for updating:\n",
      "Please use `rate` instead of `keep_prob`. Rate should be set to `rate = 1 - keep_prob`.\n",
      "WARNING:tensorflow:From c:\\users\\hatta\\anaconda3\\envs\\aif360\\lib\\site-packages\\tensorflow_core\\python\\ops\\nn_impl.py:183: where (from tensorflow.python.ops.array_ops) is deprecated and will be removed in a future version.\n",
      "Instructions for updating:\n",
      "Use tf.where in 2.0, which has the same broadcast rule as np.where\n",
      "WARNING:tensorflow:From c:\\users\\hatta\\anaconda3\\envs\\aif360\\lib\\site-packages\\aif360\\algorithms\\inprocessing\\adversarial_debiasing.py:159: The name tf.train.exponential_decay is deprecated. Please use tf.compat.v1.train.exponential_decay instead.\n",
      "\n",
      "WARNING:tensorflow:From c:\\users\\hatta\\anaconda3\\envs\\aif360\\lib\\site-packages\\aif360\\algorithms\\inprocessing\\adversarial_debiasing.py:161: The name tf.train.AdamOptimizer is deprecated. Please use tf.compat.v1.train.AdamOptimizer instead.\n",
      "\n",
      "WARNING:tensorflow:From c:\\users\\hatta\\anaconda3\\envs\\aif360\\lib\\site-packages\\aif360\\algorithms\\inprocessing\\adversarial_debiasing.py:165: The name tf.trainable_variables is deprecated. Please use tf.compat.v1.trainable_variables instead.\n",
      "\n",
      "WARNING:tensorflow:From c:\\users\\hatta\\anaconda3\\envs\\aif360\\lib\\site-packages\\aif360\\algorithms\\inprocessing\\adversarial_debiasing.py:187: The name tf.global_variables_initializer is deprecated. Please use tf.compat.v1.global_variables_initializer instead.\n",
      "\n",
      "WARNING:tensorflow:From c:\\users\\hatta\\anaconda3\\envs\\aif360\\lib\\site-packages\\aif360\\algorithms\\inprocessing\\adversarial_debiasing.py:188: The name tf.local_variables_initializer is deprecated. Please use tf.compat.v1.local_variables_initializer instead.\n",
      "\n",
      "epoch 0; iter: 0; batch classifier loss: 0.702637; batch adversarial loss: 0.643104\n",
      "epoch 0; iter: 200; batch classifier loss: 0.446043; batch adversarial loss: 0.632510\n",
      "epoch 1; iter: 0; batch classifier loss: 0.449528; batch adversarial loss: 0.631461\n",
      "epoch 1; iter: 200; batch classifier loss: 0.565505; batch adversarial loss: 0.593458\n",
      "epoch 2; iter: 0; batch classifier loss: 0.463715; batch adversarial loss: 0.627835\n",
      "epoch 2; iter: 200; batch classifier loss: 0.480556; batch adversarial loss: 0.637914\n",
      "epoch 3; iter: 0; batch classifier loss: 0.468187; batch adversarial loss: 0.598563\n",
      "epoch 3; iter: 200; batch classifier loss: 0.485439; batch adversarial loss: 0.625070\n",
      "epoch 4; iter: 0; batch classifier loss: 0.425566; batch adversarial loss: 0.559488\n",
      "epoch 4; iter: 200; batch classifier loss: 0.497857; batch adversarial loss: 0.608611\n",
      "epoch 5; iter: 0; batch classifier loss: 0.520671; batch adversarial loss: 0.596411\n",
      "epoch 5; iter: 200; batch classifier loss: 0.432794; batch adversarial loss: 0.588477\n",
      "epoch 6; iter: 0; batch classifier loss: 0.385044; batch adversarial loss: 0.591188\n",
      "epoch 6; iter: 200; batch classifier loss: 0.493745; batch adversarial loss: 0.618763\n",
      "epoch 7; iter: 0; batch classifier loss: 0.456887; batch adversarial loss: 0.595009\n",
      "epoch 7; iter: 200; batch classifier loss: 0.480604; batch adversarial loss: 0.615613\n",
      "epoch 8; iter: 0; batch classifier loss: 0.409577; batch adversarial loss: 0.600578\n",
      "epoch 8; iter: 200; batch classifier loss: 0.543765; batch adversarial loss: 0.584667\n",
      "epoch 9; iter: 0; batch classifier loss: 0.473540; batch adversarial loss: 0.596981\n",
      "epoch 9; iter: 200; batch classifier loss: 0.407816; batch adversarial loss: 0.643017\n",
      "epoch 10; iter: 0; batch classifier loss: 0.455599; batch adversarial loss: 0.572640\n",
      "epoch 10; iter: 200; batch classifier loss: 0.403434; batch adversarial loss: 0.639807\n",
      "epoch 11; iter: 0; batch classifier loss: 0.476783; batch adversarial loss: 0.617575\n",
      "epoch 11; iter: 200; batch classifier loss: 0.435772; batch adversarial loss: 0.636393\n",
      "epoch 12; iter: 0; batch classifier loss: 0.419219; batch adversarial loss: 0.585610\n",
      "epoch 12; iter: 200; batch classifier loss: 0.381363; batch adversarial loss: 0.626385\n",
      "epoch 13; iter: 0; batch classifier loss: 0.453920; batch adversarial loss: 0.591970\n",
      "epoch 13; iter: 200; batch classifier loss: 0.439005; batch adversarial loss: 0.625667\n",
      "epoch 14; iter: 0; batch classifier loss: 0.472969; batch adversarial loss: 0.572030\n",
      "epoch 14; iter: 200; batch classifier loss: 0.571285; batch adversarial loss: 0.602795\n",
      "epoch 15; iter: 0; batch classifier loss: 0.556355; batch adversarial loss: 0.627983\n",
      "epoch 15; iter: 200; batch classifier loss: 0.439406; batch adversarial loss: 0.609141\n",
      "epoch 16; iter: 0; batch classifier loss: 0.411538; batch adversarial loss: 0.624747\n",
      "epoch 16; iter: 200; batch classifier loss: 0.379637; batch adversarial loss: 0.616126\n",
      "epoch 17; iter: 0; batch classifier loss: 0.394668; batch adversarial loss: 0.641421\n",
      "epoch 17; iter: 200; batch classifier loss: 0.465816; batch adversarial loss: 0.650304\n",
      "epoch 18; iter: 0; batch classifier loss: 0.474180; batch adversarial loss: 0.636991\n",
      "epoch 18; iter: 200; batch classifier loss: 0.378783; batch adversarial loss: 0.610576\n",
      "epoch 19; iter: 0; batch classifier loss: 0.510188; batch adversarial loss: 0.593124\n",
      "epoch 19; iter: 200; batch classifier loss: 0.433693; batch adversarial loss: 0.625736\n",
      "epoch 20; iter: 0; batch classifier loss: 0.423834; batch adversarial loss: 0.603149\n",
      "epoch 20; iter: 200; batch classifier loss: 0.434819; batch adversarial loss: 0.604131\n",
      "epoch 21; iter: 0; batch classifier loss: 0.481800; batch adversarial loss: 0.622242\n",
      "epoch 21; iter: 200; batch classifier loss: 0.499771; batch adversarial loss: 0.612289\n",
      "epoch 22; iter: 0; batch classifier loss: 0.475720; batch adversarial loss: 0.584612\n",
      "epoch 22; iter: 200; batch classifier loss: 0.452298; batch adversarial loss: 0.590906\n",
      "epoch 23; iter: 0; batch classifier loss: 0.381792; batch adversarial loss: 0.634188\n",
      "epoch 23; iter: 200; batch classifier loss: 0.494642; batch adversarial loss: 0.612154\n",
      "epoch 24; iter: 0; batch classifier loss: 0.363037; batch adversarial loss: 0.608994\n",
      "epoch 24; iter: 200; batch classifier loss: 0.466827; batch adversarial loss: 0.629512\n",
      "epoch 25; iter: 0; batch classifier loss: 0.394404; batch adversarial loss: 0.619183\n",
      "epoch 25; iter: 200; batch classifier loss: 0.513718; batch adversarial loss: 0.646980\n",
      "epoch 26; iter: 0; batch classifier loss: 0.389931; batch adversarial loss: 0.580637\n",
      "epoch 26; iter: 200; batch classifier loss: 0.362207; batch adversarial loss: 0.581990\n",
      "epoch 27; iter: 0; batch classifier loss: 0.387135; batch adversarial loss: 0.585649\n",
      "epoch 27; iter: 200; batch classifier loss: 0.527813; batch adversarial loss: 0.564877\n",
      "epoch 28; iter: 0; batch classifier loss: 0.395442; batch adversarial loss: 0.562184\n",
      "epoch 28; iter: 200; batch classifier loss: 0.398720; batch adversarial loss: 0.603665\n",
      "epoch 29; iter: 0; batch classifier loss: 0.410731; batch adversarial loss: 0.615739\n",
      "epoch 29; iter: 200; batch classifier loss: 0.347121; batch adversarial loss: 0.671578\n",
      "epoch 30; iter: 0; batch classifier loss: 0.444418; batch adversarial loss: 0.679635\n"
     ]
    },
    {
     "name": "stdout",
     "output_type": "stream",
     "text": [
      "epoch 30; iter: 200; batch classifier loss: 0.483944; batch adversarial loss: 0.657298\n",
      "epoch 31; iter: 0; batch classifier loss: 0.448528; batch adversarial loss: 0.589990\n",
      "epoch 31; iter: 200; batch classifier loss: 0.435900; batch adversarial loss: 0.643269\n",
      "epoch 32; iter: 0; batch classifier loss: 0.508764; batch adversarial loss: 0.629034\n",
      "epoch 32; iter: 200; batch classifier loss: 0.320070; batch adversarial loss: 0.614476\n",
      "epoch 33; iter: 0; batch classifier loss: 0.455155; batch adversarial loss: 0.630397\n",
      "epoch 33; iter: 200; batch classifier loss: 0.397175; batch adversarial loss: 0.599331\n",
      "epoch 34; iter: 0; batch classifier loss: 0.433399; batch adversarial loss: 0.605128\n",
      "epoch 34; iter: 200; batch classifier loss: 0.380709; batch adversarial loss: 0.571620\n",
      "epoch 35; iter: 0; batch classifier loss: 0.424173; batch adversarial loss: 0.567642\n",
      "epoch 35; iter: 200; batch classifier loss: 0.473366; batch adversarial loss: 0.597303\n",
      "epoch 36; iter: 0; batch classifier loss: 0.333765; batch adversarial loss: 0.610856\n",
      "epoch 36; iter: 200; batch classifier loss: 0.504115; batch adversarial loss: 0.524601\n",
      "epoch 37; iter: 0; batch classifier loss: 0.479863; batch adversarial loss: 0.629958\n",
      "epoch 37; iter: 200; batch classifier loss: 0.470176; batch adversarial loss: 0.605557\n",
      "epoch 38; iter: 0; batch classifier loss: 0.460808; batch adversarial loss: 0.605980\n",
      "epoch 38; iter: 200; batch classifier loss: 0.441620; batch adversarial loss: 0.603004\n",
      "epoch 39; iter: 0; batch classifier loss: 0.480842; batch adversarial loss: 0.596660\n",
      "epoch 39; iter: 200; batch classifier loss: 0.446379; batch adversarial loss: 0.600558\n",
      "epoch 40; iter: 0; batch classifier loss: 0.436479; batch adversarial loss: 0.667086\n",
      "epoch 40; iter: 200; batch classifier loss: 0.351720; batch adversarial loss: 0.619715\n",
      "epoch 41; iter: 0; batch classifier loss: 0.447754; batch adversarial loss: 0.587338\n",
      "epoch 41; iter: 200; batch classifier loss: 0.545910; batch adversarial loss: 0.621855\n",
      "epoch 42; iter: 0; batch classifier loss: 0.339407; batch adversarial loss: 0.648622\n",
      "epoch 42; iter: 200; batch classifier loss: 0.434302; batch adversarial loss: 0.573869\n",
      "epoch 43; iter: 0; batch classifier loss: 0.316647; batch adversarial loss: 0.570659\n",
      "epoch 43; iter: 200; batch classifier loss: 0.482433; batch adversarial loss: 0.588754\n",
      "epoch 44; iter: 0; batch classifier loss: 0.431610; batch adversarial loss: 0.626809\n",
      "epoch 44; iter: 200; batch classifier loss: 0.408103; batch adversarial loss: 0.637263\n",
      "epoch 45; iter: 0; batch classifier loss: 0.403977; batch adversarial loss: 0.593193\n",
      "epoch 45; iter: 200; batch classifier loss: 0.524477; batch adversarial loss: 0.583324\n",
      "epoch 46; iter: 0; batch classifier loss: 0.408116; batch adversarial loss: 0.630082\n",
      "epoch 46; iter: 200; batch classifier loss: 0.583442; batch adversarial loss: 0.645747\n",
      "epoch 47; iter: 0; batch classifier loss: 0.406462; batch adversarial loss: 0.603723\n",
      "epoch 47; iter: 200; batch classifier loss: 0.345456; batch adversarial loss: 0.623322\n",
      "epoch 48; iter: 0; batch classifier loss: 0.485539; batch adversarial loss: 0.551453\n",
      "epoch 48; iter: 200; batch classifier loss: 0.469378; batch adversarial loss: 0.564169\n",
      "epoch 49; iter: 0; batch classifier loss: 0.381509; batch adversarial loss: 0.571329\n",
      "epoch 49; iter: 200; batch classifier loss: 0.497403; batch adversarial loss: 0.605199\n"
     ]
    }
   ],
   "source": [
    "#start a tesnforflow session for Adversarial Debiasing\n",
    "sess = tf.Session()\n",
    "\n",
    "# Learn parameters with debias set to True\n",
    "#Debiasing Model for Adult dataset\n",
    "\n",
    "adult_model = AdversarialDebiasing(privileged_groups = a_privileged_groups,\n",
    "                          unprivileged_groups = a_unprivileged_groups,\n",
    "                          scope_name='debiased_adult_classifier',\n",
    "                          debias=True,\n",
    "                          sess=sess)\n",
    "\n",
    "adult_model.fit(adult_orig_train)\n",
    "\n",
    "#pred_debiased_train_a = adult_model.predict(adult_orig_train)\n",
    "pred_debiased_test_a = adult_model.predict(adult_orig_test)"
   ]
  },
  {
   "cell_type": "code",
   "execution_count": 4,
   "metadata": {},
   "outputs": [
    {
     "data": {
      "text/plain": [
       "               instance weights            features                       \\\n",
       "                                protected attribute                        \n",
       "                                               race  sex Age (decade)=10   \n",
       "instance names                                                             \n",
       "6745                        1.0                 1.0  1.0       -0.230934   \n",
       "40581                       1.0                 1.0  1.0       -0.230934   \n",
       "33909                       1.0                 0.0  1.0       -0.230934   \n",
       "20134                       1.0                 1.0  1.0       -0.230934   \n",
       "6724                        1.0                 1.0  1.0       -0.230934   \n",
       "...                         ...                 ...  ...             ...   \n",
       "4350                        1.0                 1.0  0.0       -0.230934   \n",
       "42342                       1.0                 1.0  1.0       -0.230934   \n",
       "2981                        1.0                 1.0  1.0       -0.230934   \n",
       "18369                       1.0                 1.0  0.0       -0.230934   \n",
       "14295                       1.0                 1.0  1.0       -0.230934   \n",
       "\n",
       "                                                                \\\n",
       "                                                                 \n",
       "               Age (decade)=20 Age (decade)=30 Age (decade)=40   \n",
       "instance names                                                   \n",
       "6745                 -0.570449       -0.603020        1.886085   \n",
       "40581                -0.570449       -0.603020        1.886085   \n",
       "33909                -0.570449       -0.603020       -0.530199   \n",
       "20134                 1.753006       -0.603020       -0.530199   \n",
       "6724                 -0.570449       -0.603020       -0.530199   \n",
       "...                        ...             ...             ...   \n",
       "4350                 -0.570449       -0.603020       -0.530199   \n",
       "42342                 1.753006       -0.603020       -0.530199   \n",
       "2981                  1.753006       -0.603020       -0.530199   \n",
       "18369                -0.570449        1.658321       -0.530199   \n",
       "14295                 1.753006       -0.603020       -0.530199   \n",
       "\n",
       "                                                                  \\\n",
       "                                                                   \n",
       "               Age (decade)=50 Age (decade)=60 Age (decade)=>=70   \n",
       "instance names                                                     \n",
       "6745                 -0.395179       -0.258404           -0.1432   \n",
       "40581                -0.395179       -0.258404           -0.1432   \n",
       "33909                 2.530498       -0.258404           -0.1432   \n",
       "20134                -0.395179       -0.258404           -0.1432   \n",
       "6724                  2.530498       -0.258404           -0.1432   \n",
       "...                        ...             ...               ...   \n",
       "4350                  2.530498       -0.258404           -0.1432   \n",
       "42342                -0.395179       -0.258404           -0.1432   \n",
       "2981                 -0.395179       -0.258404           -0.1432   \n",
       "18369                -0.395179       -0.258404           -0.1432   \n",
       "14295                -0.395179       -0.258404           -0.1432   \n",
       "\n",
       "                                                                      \\\n",
       "                                                                       \n",
       "               Education Years=6 Education Years=7 Education Years=8   \n",
       "instance names                                                         \n",
       "6745                   -0.172055          5.037897         -0.116911   \n",
       "40581                  -0.172055         -0.198496         -0.116911   \n",
       "33909                  -0.172055          5.037897         -0.116911   \n",
       "20134                  -0.172055         -0.198496          8.553519   \n",
       "6724                   -0.172055         -0.198496         -0.116911   \n",
       "...                          ...               ...               ...   \n",
       "4350                   -0.172055         -0.198496         -0.116911   \n",
       "42342                  -0.172055         -0.198496          8.553519   \n",
       "2981                   -0.172055         -0.198496         -0.116911   \n",
       "18369                  -0.172055         -0.198496         -0.116911   \n",
       "14295                  -0.172055         -0.198496         -0.116911   \n",
       "\n",
       "                                                                        \\\n",
       "                                                                         \n",
       "               Education Years=9 Education Years=10 Education Years=11   \n",
       "instance names                                                           \n",
       "6745                   -0.688786          -0.534316          -0.210375   \n",
       "40581                  -0.688786          -0.534316           4.753409   \n",
       "33909                  -0.688786          -0.534316          -0.210375   \n",
       "20134                  -0.688786          -0.534316          -0.210375   \n",
       "6724                    1.451829          -0.534316          -0.210375   \n",
       "...                          ...                ...                ...   \n",
       "4350                   -0.688786          -0.534316          -0.210375   \n",
       "42342                  -0.688786          -0.534316          -0.210375   \n",
       "2981                   -0.688786           1.871550          -0.210375   \n",
       "18369                   1.451829          -0.534316          -0.210375   \n",
       "14295                   1.451829          -0.534316          -0.210375   \n",
       "\n",
       "                                                                          \\\n",
       "                                                                           \n",
       "               Education Years=12 Education Years=<6 Education Years=>12   \n",
       "instance names                                                             \n",
       "6745                    -0.184034           -0.23387           -0.575808   \n",
       "40581                   -0.184034           -0.23387           -0.575808   \n",
       "33909                   -0.184034           -0.23387           -0.575808   \n",
       "20134                   -0.184034           -0.23387           -0.575808   \n",
       "6724                    -0.184034           -0.23387           -0.575808   \n",
       "...                           ...                ...                 ...   \n",
       "4350                     5.433773           -0.23387           -0.575808   \n",
       "42342                   -0.184034           -0.23387           -0.575808   \n",
       "2981                    -0.184034           -0.23387           -0.575808   \n",
       "18369                   -0.184034           -0.23387           -0.575808   \n",
       "14295                   -0.184034           -0.23387           -0.575808   \n",
       "\n",
       "               labels  \n",
       "                       \n",
       "                       \n",
       "instance names         \n",
       "6745              0.0  \n",
       "40581             0.0  \n",
       "33909             0.0  \n",
       "20134             0.0  \n",
       "6724              0.0  \n",
       "...               ...  \n",
       "4350              0.0  \n",
       "42342             0.0  \n",
       "2981              0.0  \n",
       "18369             0.0  \n",
       "14295             0.0  \n",
       "\n",
       "[14653 rows x 20 columns]"
      ]
     },
     "execution_count": 4,
     "metadata": {},
     "output_type": "execute_result"
    }
   ],
   "source": [
    "pred_debiased_test_a"
   ]
  },
  {
   "cell_type": "code",
   "execution_count": 5,
   "metadata": {},
   "outputs": [
    {
     "data": {
      "text/markdown": [
       "#### Debiased LR with Adult Test Set Fairness Performance (based on predictions)"
      ],
      "text/plain": [
       "<IPython.core.display.Markdown object>"
      ]
     },
     "metadata": {},
     "output_type": "display_data"
    },
    {
     "name": "stdout",
     "output_type": "stream",
     "text": [
      "Average equalized odds difference between unprivileged and privileged groups = -0.016155\n",
      "Disparate impact ratio between unprivileged and privileged groups = 0.632561\n",
      "Demographic parity difference between unprivileged and privileged groups = -0.073772\n",
      "Predictive Parity difference between unprivileged and privileged groups = -0.298572\n",
      "Consistency of indivuals' predicted labels = 1.000000\n"
     ]
    },
    {
     "data": {
      "text/markdown": [
       "#### Debiased LR with Adult Test Set Prediction Performance"
      ],
      "text/plain": [
       "<IPython.core.display.Markdown object>"
      ]
     },
     "metadata": {},
     "output_type": "display_data"
    },
    {
     "name": "stdout",
     "output_type": "stream",
     "text": [
      "Standard accuracy of logistic regression trained on German dataset without any mitigation = 0.791715\n",
      "Balanced accuracy of logistic regression trained on German dataset without any mitigation = 0.668590\n",
      "F1 score of logistic regression trained on German dataset without any mitigation = 0.497861\n",
      "Detailed scores for Adult dataset\n",
      "Precision (PPV): 0.584847\n",
      "Recall (TPR): 0.433400\n",
      "Specificity (TNR): 0.903781\n",
      "F1-score: 0.497861\n"
     ]
    }
   ],
   "source": [
    "#Performance Metrics from Adult dataset predictions\n",
    "\n",
    "metric_adult_debiased_test = BinaryLabelDatasetMetric(pred_debiased_test_a, \n",
    "                                             unprivileged_groups=a_unprivileged_groups,\n",
    "                                             privileged_groups=a_privileged_groups)\n",
    "\n",
    "\n",
    "\n",
    "classified_adult_debiased_test = ClassificationMetric(adult_orig_test, \n",
    "                                                 pred_debiased_test_a,\n",
    "                                                 unprivileged_groups=a_unprivileged_groups,\n",
    "                                                 privileged_groups=a_privileged_groups)\n",
    "\n",
    "\n",
    "display(Markdown(\"#### Debiased LR with Adult Test Set Fairness Performance (based on predictions)\"))\n",
    "\n",
    "#Checking Equalized Odds: average odds differecence, which is the avg. of differences in FPR&TPR for privileged and unprivileged groups.\n",
    "deb_aeo_a = classified_adult_debiased_test.average_odds_difference()\n",
    "print(\"Average equalized odds difference between unprivileged and privileged groups = %f\" % deb_aeo_a)\n",
    "\n",
    "#Disparate Impact ratio between privileged and unprivileged groups.\n",
    "deb_di_a = classified_adult_debiased_test.disparate_impact()\n",
    "print(\"Disparate impact ratio between unprivileged and privileged groups = %f\" % deb_di_a)\n",
    "\n",
    "#Demographic parity difference between privileged and unprivileged groups.\n",
    "deb_spd_a = classified_adult_debiased_test.statistical_parity_difference()\n",
    "print(\"Demographic parity difference between unprivileged and privileged groups = %f\" % deb_spd_a)\n",
    "\n",
    "#Predictive parity difference: PPV difference between privileged and unprivileged groups.\n",
    "deb_ppd_a = classified_adult_debiased_test.positive_predictive_value(privileged=False) - classified_adult_debiased_test.positive_predictive_value(privileged=True)\n",
    "print(\"Predictive Parity difference between unprivileged and privileged groups = %f\" % deb_ppd_a)\n",
    "\n",
    "#Individual Fairness: 1)Consistency, 2) Euclidean Distance between individuals.\n",
    "print(\"Consistency of indivuals' predicted labels = %f\" % metric_adult_debiased_test.consistency())\n",
    "\n",
    "\n",
    "#Prediction performance metrics\n",
    "TPRa = classified_adult_debiased_test.true_positive_rate() #recall\n",
    "TNRa = classified_adult_debiased_test.true_negative_rate() #specificity\n",
    "PPVa = classified_adult_debiased_test.positive_predictive_value() #precision\n",
    "bal_acc_a = (TPRa+TNRa)/2\n",
    "f1_a = 2*((PPVa*TPRa)/(PPVa+TPRa))\n",
    "\n",
    "display(Markdown(\"#### Debiased LR with Adult Test Set Prediction Performance\"))\n",
    "print(\"Standard accuracy of logistic regression trained on German dataset without any mitigation = %f\" % classified_adult_debiased_test.accuracy())\n",
    "print(\"Balanced accuracy of logistic regression trained on German dataset without any mitigation = %f\" % bal_acc_a)\n",
    "print(\"F1 score of logistic regression trained on German dataset without any mitigation = %f\" % f1_a)\n",
    "\n",
    "print(\"Detailed scores for Adult dataset\")\n",
    "print(\"Precision (PPV): %f\" %PPVa)\n",
    "print(\"Recall (TPR): %f\" %TPRa)\n",
    "print(\"Specificity (TNR): %f\" %TNRa)\n",
    "print(\"F1-score: %f\" %f1_a)"
   ]
  },
  {
   "cell_type": "code",
   "execution_count": 6,
   "metadata": {},
   "outputs": [
    {
     "data": {
      "text/plain": [
       "<sklearn.metrics._plot.confusion_matrix.ConfusionMatrixDisplay at 0x24cbcb9c550>"
      ]
     },
     "execution_count": 6,
     "metadata": {},
     "output_type": "execute_result"
    },
    {
     "data": {
      "image/png": "[encoded data removed]",
      "text/plain": [
       "<Figure size 432x288 with 2 Axes>"
      ]
     },
     "metadata": {
      "needs_background": "light"
     },
     "output_type": "display_data"
    }
   ],
   "source": [
    "cm_adult = confusion_matrix(adult_orig_test.labels, pred_debiased_test_a.labels)\n",
    "\n",
    "disp_adult = ConfusionMatrixDisplay(confusion_matrix=cm_adult)\n",
    "disp_adult.plot()"
   ]
  },
  {
   "cell_type": "code",
   "execution_count": 7,
   "metadata": {},
   "outputs": [
    {
     "name": "stdout",
     "output_type": "stream",
     "text": [
      "epoch 0; iter: 0; batch classifier loss: 0.746716; batch adversarial loss: 0.689986\n",
      "epoch 1; iter: 0; batch classifier loss: 0.686425; batch adversarial loss: 0.670758\n",
      "epoch 2; iter: 0; batch classifier loss: 0.605644; batch adversarial loss: 0.686718\n",
      "epoch 3; iter: 0; batch classifier loss: 0.617251; batch adversarial loss: 0.664385\n",
      "epoch 4; iter: 0; batch classifier loss: 0.591867; batch adversarial loss: 0.666315\n",
      "epoch 5; iter: 0; batch classifier loss: 0.533945; batch adversarial loss: 0.683485\n",
      "epoch 6; iter: 0; batch classifier loss: 0.581868; batch adversarial loss: 0.658815\n",
      "epoch 7; iter: 0; batch classifier loss: 0.547423; batch adversarial loss: 0.671008\n",
      "epoch 8; iter: 0; batch classifier loss: 0.587933; batch adversarial loss: 0.613524\n",
      "epoch 9; iter: 0; batch classifier loss: 0.545257; batch adversarial loss: 0.669455\n",
      "epoch 10; iter: 0; batch classifier loss: 0.532506; batch adversarial loss: 0.653805\n",
      "epoch 11; iter: 0; batch classifier loss: 0.486039; batch adversarial loss: 0.662835\n",
      "epoch 12; iter: 0; batch classifier loss: 0.572186; batch adversarial loss: 0.640990\n",
      "epoch 13; iter: 0; batch classifier loss: 0.519840; batch adversarial loss: 0.652326\n",
      "epoch 14; iter: 0; batch classifier loss: 0.587776; batch adversarial loss: 0.649916\n",
      "epoch 15; iter: 0; batch classifier loss: 0.461740; batch adversarial loss: 0.639194\n",
      "epoch 16; iter: 0; batch classifier loss: 0.593895; batch adversarial loss: 0.643197\n",
      "epoch 17; iter: 0; batch classifier loss: 0.535696; batch adversarial loss: 0.627556\n",
      "epoch 18; iter: 0; batch classifier loss: 0.535228; batch adversarial loss: 0.647279\n",
      "epoch 19; iter: 0; batch classifier loss: 0.551716; batch adversarial loss: 0.651366\n",
      "epoch 20; iter: 0; batch classifier loss: 0.592060; batch adversarial loss: 0.630770\n",
      "epoch 21; iter: 0; batch classifier loss: 0.490198; batch adversarial loss: 0.611489\n",
      "epoch 22; iter: 0; batch classifier loss: 0.578690; batch adversarial loss: 0.626719\n",
      "epoch 23; iter: 0; batch classifier loss: 0.555845; batch adversarial loss: 0.586559\n",
      "epoch 24; iter: 0; batch classifier loss: 0.534132; batch adversarial loss: 0.637327\n",
      "epoch 25; iter: 0; batch classifier loss: 0.544895; batch adversarial loss: 0.603733\n",
      "epoch 26; iter: 0; batch classifier loss: 0.554105; batch adversarial loss: 0.605296\n",
      "epoch 27; iter: 0; batch classifier loss: 0.581203; batch adversarial loss: 0.611553\n",
      "epoch 28; iter: 0; batch classifier loss: 0.559759; batch adversarial loss: 0.604962\n",
      "epoch 29; iter: 0; batch classifier loss: 0.645262; batch adversarial loss: 0.625306\n",
      "epoch 30; iter: 0; batch classifier loss: 0.467467; batch adversarial loss: 0.586512\n",
      "epoch 31; iter: 0; batch classifier loss: 0.564148; batch adversarial loss: 0.601605\n",
      "epoch 32; iter: 0; batch classifier loss: 0.531805; batch adversarial loss: 0.568419\n",
      "epoch 33; iter: 0; batch classifier loss: 0.606758; batch adversarial loss: 0.592282\n",
      "epoch 34; iter: 0; batch classifier loss: 0.617191; batch adversarial loss: 0.579984\n",
      "epoch 35; iter: 0; batch classifier loss: 0.555571; batch adversarial loss: 0.608455\n",
      "epoch 36; iter: 0; batch classifier loss: 0.512149; batch adversarial loss: 0.567965\n",
      "epoch 37; iter: 0; batch classifier loss: 0.565496; batch adversarial loss: 0.553713\n",
      "epoch 38; iter: 0; batch classifier loss: 0.558749; batch adversarial loss: 0.549407\n",
      "epoch 39; iter: 0; batch classifier loss: 0.491238; batch adversarial loss: 0.593270\n",
      "epoch 40; iter: 0; batch classifier loss: 0.537248; batch adversarial loss: 0.554471\n",
      "epoch 41; iter: 0; batch classifier loss: 0.537119; batch adversarial loss: 0.559440\n",
      "epoch 42; iter: 0; batch classifier loss: 0.586837; batch adversarial loss: 0.546914\n",
      "epoch 43; iter: 0; batch classifier loss: 0.554350; batch adversarial loss: 0.553074\n",
      "epoch 44; iter: 0; batch classifier loss: 0.587073; batch adversarial loss: 0.580736\n",
      "epoch 45; iter: 0; batch classifier loss: 0.549151; batch adversarial loss: 0.579406\n",
      "epoch 46; iter: 0; batch classifier loss: 0.489261; batch adversarial loss: 0.568290\n",
      "epoch 47; iter: 0; batch classifier loss: 0.557103; batch adversarial loss: 0.579409\n",
      "epoch 48; iter: 0; batch classifier loss: 0.551092; batch adversarial loss: 0.604424\n",
      "epoch 49; iter: 0; batch classifier loss: 0.501426; batch adversarial loss: 0.609001\n"
     ]
    }
   ],
   "source": [
    "sess.close()\n",
    "tf.reset_default_graph()\n",
    "sess = tf.Session()\n",
    "\n",
    "#Debiasing model for German dataset\n",
    "german_model = AdversarialDebiasing(privileged_groups = g_privileged_groups,\n",
    "                          unprivileged_groups = g_unprivileged_groups,\n",
    "                          scope_name='debiased_german_classifier',\n",
    "                          debias=True,\n",
    "                          sess=sess)\n",
    "\n",
    "\n",
    "german_model.fit(german_orig_train)\n",
    "\n",
    "#pred_debiased_train_g = german_model.predict(german_orig_train)\n",
    "pred_debiased_test_g = german_model.predict(german_orig_test)"
   ]
  },
  {
   "cell_type": "code",
   "execution_count": 8,
   "metadata": {},
   "outputs": [
    {
     "data": {
      "text/plain": [
       "               instance weights            features                            \\\n",
       "                                protected attribute                             \n",
       "                                                age  sex credit_history=Delay   \n",
       "instance names                                                                  \n",
       "135                         1.0                 1.0  0.0            -0.303387   \n",
       "392                         1.0                 1.0  1.0            -0.303387   \n",
       "14                          1.0                 1.0  0.0            -0.303387   \n",
       "721                         1.0                 0.0  0.0            -0.303387   \n",
       "773                         1.0                 1.0  1.0            -0.303387   \n",
       "...                         ...                 ...  ...                  ...   \n",
       "871                         1.0                 1.0  1.0            -0.303387   \n",
       "444                         1.0                 1.0  0.0            -0.303387   \n",
       "542                         1.0                 1.0  1.0            -0.303387   \n",
       "95                          1.0                 1.0  1.0            -0.303387   \n",
       "462                         1.0                 1.0  0.0            -0.303387   \n",
       "\n",
       "                                                                           \\\n",
       "                                                                            \n",
       "               credit_history=None/Paid credit_history=Other savings=500+   \n",
       "instance names                                                              \n",
       "135                           -1.300887             1.575623    -0.348991   \n",
       "392                            0.768706            -0.634670    -0.348991   \n",
       "14                             0.768706            -0.634670    -0.348991   \n",
       "721                            0.768706            -0.634670     2.865402   \n",
       "773                           -1.300887             1.575623    -0.348991   \n",
       "...                                 ...                  ...          ...   \n",
       "871                           -1.300887             1.575623    -0.348991   \n",
       "444                           -1.300887             1.575623    -0.348991   \n",
       "542                            0.768706            -0.634670    -0.348991   \n",
       "95                             0.768706            -0.634670    -0.348991   \n",
       "462                            0.768706            -0.634670    -0.348991   \n",
       "\n",
       "                                                                       \\\n",
       "                                                                        \n",
       "               savings=<500 savings=Unknown/None employment=1-4 years   \n",
       "instance names                                                          \n",
       "135               -1.615007             2.220856            -0.988636   \n",
       "392                0.619192            -0.450277            -0.988636   \n",
       "14                 0.619192            -0.450277             1.011495   \n",
       "721               -1.615007            -0.450277             1.011495   \n",
       "773                0.619192            -0.450277            -0.988636   \n",
       "...                     ...                  ...                  ...   \n",
       "871                0.619192            -0.450277            -0.988636   \n",
       "444                0.619192            -0.450277             1.011495   \n",
       "542               -1.615007             2.220856            -0.988636   \n",
       "95                 0.619192            -0.450277             1.011495   \n",
       "462                0.619192            -0.450277             1.011495   \n",
       "\n",
       "                                                         labels  \n",
       "                                                                 \n",
       "               employment=4+ years employment=Unemployed         \n",
       "instance names                                                   \n",
       "135                       1.141329              -0.27735    1.0  \n",
       "392                       1.141329              -0.27735    1.0  \n",
       "14                       -0.876172              -0.27735    0.0  \n",
       "721                      -0.876172              -0.27735    1.0  \n",
       "773                       1.141329              -0.27735    1.0  \n",
       "...                            ...                   ...    ...  \n",
       "871                       1.141329              -0.27735    1.0  \n",
       "444                      -0.876172              -0.27735    1.0  \n",
       "542                       1.141329              -0.27735    1.0  \n",
       "95                       -0.876172              -0.27735    1.0  \n",
       "462                      -0.876172              -0.27735    0.0  \n",
       "\n",
       "[300 rows x 13 columns]"
      ]
     },
     "execution_count": 8,
     "metadata": {},
     "output_type": "execute_result"
    }
   ],
   "source": [
    "pred_debiased_test_g"
   ]
  },
  {
   "cell_type": "code",
   "execution_count": 9,
   "metadata": {},
   "outputs": [
    {
     "data": {
      "text/markdown": [
       "#### Debiased LR with German Test Set Fairness Performance (based on predictions)"
      ],
      "text/plain": [
       "<IPython.core.display.Markdown object>"
      ]
     },
     "metadata": {},
     "output_type": "display_data"
    },
    {
     "name": "stdout",
     "output_type": "stream",
     "text": [
      "Average equalized odds difference between unprivileged and privileged groups = 0.089572\n",
      "Disparate impact ratio between unprivileged and privileged groups = 1.099099\n",
      "Demographic parity difference between unprivileged and privileged groups = 0.090164\n",
      "Predictive Parity difference between unprivileged and privileged groups = -0.220721\n",
      "Consistency of indivuals' predicted labels = 0.992667\n"
     ]
    },
    {
     "data": {
      "text/markdown": [
       "#### Debiased LR with German Test Set Prediction Performance"
      ],
      "text/plain": [
       "<IPython.core.display.Markdown object>"
      ]
     },
     "metadata": {},
     "output_type": "display_data"
    },
    {
     "name": "stdout",
     "output_type": "stream",
     "text": [
      "Standard accuracy of logistic regression trained on German dataset without any mitigation = 0.646667\n",
      "Balanced accuracy of logistic regression trained on German dataset without any mitigation = 0.492034\n",
      "F1 score of logistic regression trained on German dataset without any mitigation = 0.780083\n",
      "Detailed scores for german dataset\n",
      "Precision (PPV): 0.676259\n",
      "Recall (TPR): 0.921569\n",
      "Specificity (TNR): 0.062500\n",
      "F1-score: 0.780083\n"
     ]
    }
   ],
   "source": [
    "#Performance Metrics from German dataset predictions\n",
    "\n",
    "metric_german_debiased_test = BinaryLabelDatasetMetric(pred_debiased_test_g, \n",
    "                                             unprivileged_groups=g_unprivileged_groups,\n",
    "                                             privileged_groups=g_privileged_groups)\n",
    "\n",
    "\n",
    "\n",
    "classified_german_debiased_test = ClassificationMetric(german_orig_test, \n",
    "                                                 pred_debiased_test_g,\n",
    "                                                 unprivileged_groups=g_unprivileged_groups,\n",
    "                                                 privileged_groups=g_privileged_groups)\n",
    "\n",
    "\n",
    "display(Markdown(\"#### Debiased LR with German Test Set Fairness Performance (based on predictions)\"))\n",
    "\n",
    "#Checking Equalized Odds: average odds differecence, which is the avg. of differences in FPR&TPR for privileged and unprivileged groups.\n",
    "deb_aeo_g = classified_german_debiased_test.average_odds_difference()\n",
    "print(\"Average equalized odds difference between unprivileged and privileged groups = %f\" % deb_aeo_g)\n",
    "\n",
    "#Disparate Impact ratio between privileged and unprivileged groups.\n",
    "deb_di_g = classified_german_debiased_test.disparate_impact()\n",
    "print(\"Disparate impact ratio between unprivileged and privileged groups = %f\" % deb_di_g)\n",
    "\n",
    "#Demographic parity difference between privileged and unprivileged groups.\n",
    "deb_spd_g = classified_german_debiased_test.statistical_parity_difference()\n",
    "print(\"Demographic parity difference between unprivileged and privileged groups = %f\" % deb_spd_g)\n",
    "\n",
    "#Predictive parity difference: PPV difference between privileged and unprivileged groups.\n",
    "deb_ppd_g = classified_german_debiased_test.positive_predictive_value(privileged=False) - classified_german_debiased_test.positive_predictive_value(privileged=True)\n",
    "print(\"Predictive Parity difference between unprivileged and privileged groups = %f\" % deb_ppd_g)\n",
    "\n",
    "#Individual Fairness: 1)Consistency, 2) Euclidean Distance between individuals.\n",
    "print(\"Consistency of indivuals' predicted labels = %f\" % metric_german_debiased_test.consistency())\n",
    "\n",
    "\n",
    "#Prediction performance metrics\n",
    "TPRg = classified_german_debiased_test.true_positive_rate() #recall\n",
    "TNRg = classified_german_debiased_test.true_negative_rate() #specificity\n",
    "PPVg = classified_german_debiased_test.positive_predictive_value() #precision\n",
    "bal_acc_g = (TPRg+TNRg)/2\n",
    "f1_g = 2*((PPVg*TPRg)/(PPVg+TPRg))\n",
    "\n",
    "display(Markdown(\"#### Debiased LR with German Test Set Prediction Performance\"))\n",
    "print(\"Standard accuracy of logistic regression trained on German dataset without any mitigation = %f\" % classified_german_debiased_test.accuracy())\n",
    "print(\"Balanced accuracy of logistic regression trained on German dataset without any mitigation = %f\" % bal_acc_g)\n",
    "print(\"F1 score of logistic regression trained on German dataset without any mitigation = %f\" % f1_g)\n",
    "\n",
    "print(\"Detailed scores for german dataset\")\n",
    "print(\"Precision (PPV): %f\" %PPVg)\n",
    "print(\"Recall (TPR): %f\" %TPRg)\n",
    "print(\"Specificity (TNR): %f\" %TNRg)\n",
    "print(\"F1-score: %f\" %f1_g)"
   ]
  },
  {
   "cell_type": "code",
   "execution_count": 10,
   "metadata": {},
   "outputs": [
    {
     "data": {
      "text/plain": [
       "<sklearn.metrics._plot.confusion_matrix.ConfusionMatrixDisplay at 0x24cc1781c88>"
      ]
     },
     "execution_count": 10,
     "metadata": {},
     "output_type": "execute_result"
    },
    {
     "data": {
      "image/png": "[encoded data removed]",
      "text/plain": [
       "<Figure size 432x288 with 2 Axes>"
      ]
     },
     "metadata": {
      "needs_background": "light"
     },
     "output_type": "display_data"
    }
   ],
   "source": [
    "cm_german = confusion_matrix(german_orig_test.labels, pred_debiased_test_g.labels)\n",
    "\n",
    "disp_german = ConfusionMatrixDisplay(confusion_matrix=cm_german)\n",
    "disp_german.plot()"
   ]
  },
  {
   "cell_type": "code",
   "execution_count": 11,
   "metadata": {},
   "outputs": [],
   "source": [
    "sess.close()"
   ]
  }
 ],
 "metadata": {
  "kernelspec": {
   "display_name": "aif360",
   "language": "python",
   "name": "aif360"
  },
  "language_info": {
   "codemirror_mode": {
    "name": "ipython",
    "version": 3
   },
   "file_extension": ".py",
   "mimetype": "text/x-python",
   "name": "python",
   "nbconvert_exporter": "python",
   "pygments_lexer": "ipython3",
   "version": "3.6.12"
  }
 },
 "nbformat": 4,
 "nbformat_minor": 4
}
