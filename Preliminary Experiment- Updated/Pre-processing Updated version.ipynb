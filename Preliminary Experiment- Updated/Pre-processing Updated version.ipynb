{
 "cells": [
  {
   "cell_type": "code",
   "execution_count": 1,
   "metadata": {},
   "outputs": [],
   "source": [
    "%matplotlib inline\n",
    "# Load all necessary packages\n",
    "import sys\n",
    "sys.path.append(\"../\")\n",
    "from aif360.datasets import BinaryLabelDataset\n",
    "from aif360.datasets import AdultDataset, GermanDataset, CompasDataset\n",
    "from aif360.metrics import BinaryLabelDatasetMetric\n",
    "from aif360.metrics import ClassificationMetric\n",
    "from aif360.metrics.utils import compute_boolean_conditioning_vector\n",
    "\n",
    "from aif360.algorithms.preprocessing.optim_preproc_helpers.data_preproc_functions\\\n",
    "    import load_preproc_data_adult, load_preproc_data_german, load_preproc_data_compas\n",
    "\n",
    "from aif360.algorithms.preprocessing.lfr import LFR\n",
    "\n",
    "from sklearn.linear_model import LogisticRegression\n",
    "from sklearn.preprocessing import StandardScaler\n",
    "from sklearn.metrics import accuracy_score\n",
    "from sklearn.metrics import classification_report\n",
    "\n",
    "from sklearn.metrics import confusion_matrix, ConfusionMatrixDisplay\n",
    "\n",
    "from IPython.display import Markdown, display\n",
    "import matplotlib.pyplot as plt\n",
    "import numpy as np\n"
   ]
  },
  {
   "cell_type": "code",
   "execution_count": 2,
   "metadata": {},
   "outputs": [],
   "source": [
    "## import dataset\n",
    "dataset_used = \"german\" # \"adult\", \"german\", \"compas\"\n",
    "protected_attribute_used = 2 # 1, 2\n",
    "\n",
    "if dataset_used == \"adult\":\n",
    "#    dataset_orig = AdultDataset()\n",
    "    dataset_orig = load_preproc_data_adult()\n",
    "    if protected_attribute_used == 1:\n",
    "        privileged_groups = [{'sex': 1}]\n",
    "        unprivileged_groups = [{'sex': 0}]\n",
    "    else:\n",
    "        privileged_groups = [{'race': 1}]\n",
    "        unprivileged_groups = [{'race': 0}]\n",
    "    \n",
    "elif dataset_used == \"german\":\n",
    "    dataset_orig = GermanDataset()\n",
    "    if protected_attribute_used == 1:\n",
    "        privileged_groups = [{'sex': 1}]\n",
    "        unprivileged_groups = [{'sex': 0}]\n",
    "    else:\n",
    "        privileged_groups = [{'age': 1}]\n",
    "        unprivileged_groups = [{'age': 0}]\n",
    "        \n",
    "    for i in range(1000):\n",
    "        if (dataset_orig.labels[i] == 2.0):\n",
    "            dataset_orig.labels[i] = 0\n",
    "        else:\n",
    "            dataset_orig.labels[i] = 1\n",
    "        \n",
    "    dataset_orig.favorable_label = 1\n",
    "    dataset_orig.unfavorable_label = 0\n",
    "\n",
    "    \n",
    "elif dataset_used == \"compas\":\n",
    "#     dataset_orig = CompasDataset()\n",
    "    dataset_orig = load_preproc_data_compas()\n",
    "    if protected_attribute_used == 1:\n",
    "        privileged_groups = [{'sex': 1}]\n",
    "        unprivileged_groups = [{'sex': 0}]\n",
    "    else:\n",
    "        privileged_groups = [{'race': 1}]\n",
    "        unprivileged_groups = [{'race': 0}] \n",
    "\n",
    "#Splitting train and test set\n",
    "dataset_orig_train, dataset_orig_test = dataset_orig.split([0.7], shuffle=True)"
   ]
  },
  {
   "cell_type": "code",
   "execution_count": 3,
   "metadata": {},
   "outputs": [
    {
     "name": "stdout",
     "output_type": "stream",
     "text": [
      "700\n"
     ]
    }
   ],
   "source": [
    "#It finds that if the dataset has a class imbalance, in terms of positive and negative outcomes.\n",
    "k=0\n",
    "for i in range(len(dataset_orig.labels)):\n",
    "    if(dataset_orig.labels[i] == 1):\n",
    "        k+=1\n",
    "    else:\n",
    "        pass\n",
    "print(k)"
   ]
  },
  {
   "cell_type": "code",
   "execution_count": 4,
   "metadata": {},
   "outputs": [
    {
     "data": {
      "text/markdown": [
       "#### Training Dataset shape"
      ],
      "text/plain": [
       "<IPython.core.display.Markdown object>"
      ]
     },
     "metadata": {},
     "output_type": "display_data"
    },
    {
     "name": "stdout",
     "output_type": "stream",
     "text": [
      "(700, 58)\n"
     ]
    },
    {
     "data": {
      "text/markdown": [
       "#### Favorable and unfavorable labels"
      ],
      "text/plain": [
       "<IPython.core.display.Markdown object>"
      ]
     },
     "metadata": {},
     "output_type": "display_data"
    },
    {
     "name": "stdout",
     "output_type": "stream",
     "text": [
      "1 0\n"
     ]
    },
    {
     "data": {
      "text/markdown": [
       "#### Protected attribute names"
      ],
      "text/plain": [
       "<IPython.core.display.Markdown object>"
      ]
     },
     "metadata": {},
     "output_type": "display_data"
    },
    {
     "name": "stdout",
     "output_type": "stream",
     "text": [
      "['sex', 'age']\n"
     ]
    },
    {
     "data": {
      "text/markdown": [
       "#### Privileged and unprivileged protected attribute values"
      ],
      "text/plain": [
       "<IPython.core.display.Markdown object>"
      ]
     },
     "metadata": {},
     "output_type": "display_data"
    },
    {
     "name": "stdout",
     "output_type": "stream",
     "text": [
      "[array([1.]), array([1.])] [array([0.]), array([0.])]\n"
     ]
    },
    {
     "data": {
      "text/markdown": [
       "#### Dataset feature names"
      ],
      "text/plain": [
       "<IPython.core.display.Markdown object>"
      ]
     },
     "metadata": {},
     "output_type": "display_data"
    },
    {
     "name": "stdout",
     "output_type": "stream",
     "text": [
      "['month', 'credit_amount', 'investment_as_income_percentage', 'residence_since', 'age', 'number_of_credits', 'people_liable_for', 'sex', 'status=A11', 'status=A12', 'status=A13', 'status=A14', 'credit_history=A30', 'credit_history=A31', 'credit_history=A32', 'credit_history=A33', 'credit_history=A34', 'purpose=A40', 'purpose=A41', 'purpose=A410', 'purpose=A42', 'purpose=A43', 'purpose=A44', 'purpose=A45', 'purpose=A46', 'purpose=A48', 'purpose=A49', 'savings=A61', 'savings=A62', 'savings=A63', 'savings=A64', 'savings=A65', 'employment=A71', 'employment=A72', 'employment=A73', 'employment=A74', 'employment=A75', 'other_debtors=A101', 'other_debtors=A102', 'other_debtors=A103', 'property=A121', 'property=A122', 'property=A123', 'property=A124', 'installment_plans=A141', 'installment_plans=A142', 'installment_plans=A143', 'housing=A151', 'housing=A152', 'housing=A153', 'skill_level=A171', 'skill_level=A172', 'skill_level=A173', 'skill_level=A174', 'telephone=A191', 'telephone=A192', 'foreign_worker=A201', 'foreign_worker=A202']\n"
     ]
    }
   ],
   "source": [
    "# some information of each dataset regarding labels, names, etc. \n",
    "display(Markdown(\"#### Training Dataset shape\"))\n",
    "print(dataset_orig_train.features.shape)\n",
    "display(Markdown(\"#### Favorable and unfavorable labels\"))\n",
    "print(dataset_orig_train.favorable_label, dataset_orig_train.unfavorable_label)\n",
    "display(Markdown(\"#### Protected attribute names\"))\n",
    "print(dataset_orig_train.protected_attribute_names)\n",
    "display(Markdown(\"#### Privileged and unprivileged protected attribute values\"))\n",
    "print(dataset_orig_train.privileged_protected_attributes, \n",
    "      dataset_orig_train.unprivileged_protected_attributes)\n",
    "display(Markdown(\"#### Dataset feature names\"))\n",
    "print(dataset_orig_train.feature_names)"
   ]
  },
  {
   "cell_type": "code",
   "execution_count": 5,
   "metadata": {},
   "outputs": [
    {
     "data": {
      "text/markdown": [
       "#### german original training dataset"
      ],
      "text/plain": [
       "<IPython.core.display.Markdown object>"
      ]
     },
     "metadata": {},
     "output_type": "display_data"
    },
    {
     "name": "stdout",
     "output_type": "stream",
     "text": [
      "Disparate impact (of original labels) between unprivileged and privileged groups = 0.744820\n",
      "Difference in statistical parity (of original labels) between unprivileged and privileged groups = -0.185911\n",
      "Individual fairness metric from Zemel et.al. that measures how similar the labels are for similar instances = 0.674571\n"
     ]
    },
    {
     "name": "stderr",
     "output_type": "stream",
     "text": [
      "c:\\users\\hatta\\anaconda3\\envs\\aif360\\lib\\site-packages\\sklearn\\utils\\validation.py:70: FutureWarning: Pass n_neighbors=5 as keyword args. From version 0.25 passing these as positional arguments will result in an error\n",
      "  FutureWarning)\n"
     ]
    },
    {
     "data": {
      "text/markdown": [
       "#### german original test dataset"
      ],
      "text/plain": [
       "<IPython.core.display.Markdown object>"
      ]
     },
     "metadata": {},
     "output_type": "display_data"
    },
    {
     "name": "stdout",
     "output_type": "stream",
     "text": [
      "Disparate impact (of original labels) between unprivileged and privileged groups = 0.900697\n",
      "Difference in statistical parity (of original labels) between unprivileged and privileged groups = -0.072296\n",
      "Individual fairness metric from Zemel et.al. that measures how similar the labels are for similar instances = 0.688000\n"
     ]
    },
    {
     "name": "stderr",
     "output_type": "stream",
     "text": [
      "c:\\users\\hatta\\anaconda3\\envs\\aif360\\lib\\site-packages\\sklearn\\utils\\validation.py:70: FutureWarning: Pass n_neighbors=5 as keyword args. From version 0.25 passing these as positional arguments will result in an error\n",
      "  FutureWarning)\n"
     ]
    }
   ],
   "source": [
    "# Initial disparities in the original datasets\n",
    "\n",
    "metric_orig_train = BinaryLabelDatasetMetric(dataset_orig_train, \n",
    "                                             unprivileged_groups=unprivileged_groups,\n",
    "                                             privileged_groups=privileged_groups)\n",
    "\n",
    "display(Markdown(\"#### %s original training dataset\"%dataset_used))\n",
    "print(\"Disparate impact (of original labels) between unprivileged and privileged groups = %f\" % metric_orig_train.disparate_impact())\n",
    "print(\"Difference in statistical parity (of original labels) between unprivileged and privileged groups = %f\" % metric_orig_train.statistical_parity_difference())\n",
    "print(\"Individual fairness metric from Zemel et.al. that measures how similar the labels are for similar instances = %f\" % metric_orig_train.consistency())\n",
    "\n",
    "metric_orig_test = BinaryLabelDatasetMetric(dataset_orig_test, \n",
    "                                             unprivileged_groups=unprivileged_groups,\n",
    "                                             privileged_groups=privileged_groups)\n",
    "\n",
    "display(Markdown(\"#### %s original test dataset\"%dataset_used))\n",
    "print(\"Disparate impact (of original labels) between unprivileged and privileged groups = %f\" % metric_orig_test.disparate_impact())\n",
    "print(\"Difference in statistical parity (of original labels) between unprivileged and privileged groups = %f\" % metric_orig_test.statistical_parity_difference())\n",
    "print(\"Individual fairness metric from Zemel et.al. that measures how similar the labels are for similar instances = %f\" % metric_orig_test.consistency())\n"
   ]
  },
  {
   "cell_type": "code",
   "execution_count": 6,
   "metadata": {},
   "outputs": [],
   "source": [
    "#Scaling the dataset\n",
    "scale_orig = StandardScaler()\n",
    "\n",
    "X_train = scale_orig.fit_transform(dataset_orig_train.features)\n",
    "X_test = scale_orig.transform(dataset_orig_test.features)\n",
    "\n",
    "y_train = dataset_orig_train.labels.ravel()\n",
    "y_test = dataset_orig_test.labels.ravel()\n",
    "\n",
    "#Logistic Regression Training for each dataset\n",
    "log_reg = LogisticRegression() \n",
    "\n",
    "#Fitting the training set\n",
    "log_reg.fit(X_train, y_train)\n",
    "\n",
    "#Predicting test set labels\n",
    "y_test_pred = log_reg.predict(X_test)\n",
    "y_test_pred_proba = log_reg.predict_proba(X_test)"
   ]
  },
  {
   "cell_type": "markdown",
   "metadata": {},
   "source": [
    "#### Fairness performance of the predicted labels without mitigation"
   ]
  },
  {
   "cell_type": "code",
   "execution_count": 7,
   "metadata": {},
   "outputs": [
    {
     "data": {
      "text/markdown": [
       "#### LR predictions of german Test Set: Fairness Performance Results"
      ],
      "text/plain": [
       "<IPython.core.display.Markdown object>"
      ]
     },
     "metadata": {},
     "output_type": "display_data"
    },
    {
     "name": "stdout",
     "output_type": "stream",
     "text": [
      "Average equalized odds difference between unprivileged and privileged groups = -0.209907\n",
      "Disparate impact ratio between unprivileged and privileged groups = 0.679659\n",
      "Demographic parity difference between unprivileged and privileged groups = -0.262707\n",
      "Predictive Parity difference between unprivileged and privileged groups = -0.081032\n",
      "Consistency of indivuals' predicted labels = 0.713333\n"
     ]
    },
    {
     "name": "stderr",
     "output_type": "stream",
     "text": [
      "c:\\users\\hatta\\anaconda3\\envs\\aif360\\lib\\site-packages\\sklearn\\utils\\validation.py:70: FutureWarning: Pass n_neighbors=5 as keyword args. From version 0.25 passing these as positional arguments will result in an error\n",
      "  FutureWarning)\n"
     ]
    },
    {
     "data": {
      "text/markdown": [
       "#### LR Prediction Performance on german Test Set"
      ],
      "text/plain": [
       "<IPython.core.display.Markdown object>"
      ]
     },
     "metadata": {},
     "output_type": "display_data"
    },
    {
     "name": "stdout",
     "output_type": "stream",
     "text": [
      "Standard accuracy of logistic regression trained on German dataset without any mitigation = 0.753333\n",
      "Balanced accuracy of logistic regression trained on German dataset without any mitigation = 0.670615\n",
      "F1 score of logistic regression trained on German dataset without any mitigation = 0.833333\n",
      "For german dataset\n",
      "Precision (PPV): 0.804348\n",
      "Recall (TPR): 0.864486\n",
      "Specificity (TNR): 0.476744\n"
     ]
    }
   ],
   "source": [
    "display(Markdown(\"#### LR predictions of %s Test Set: Fairness Performance Results\"%dataset_used))\n",
    "\n",
    "#Create a new version of the test set with predicted class labels\n",
    "testset_pred = dataset_orig_test.copy()\n",
    "testset_pred.labels = y_test_pred\n",
    "\n",
    "#Construction 1\n",
    "#to construct this metric function, the predicted labels should be united with the test fetures to make a new datas\n",
    "metric_pred_test = BinaryLabelDatasetMetric(testset_pred, \n",
    "                                             unprivileged_groups=unprivileged_groups,\n",
    "                                             privileged_groups=privileged_groups)\n",
    "#Construction 2\n",
    "#both original test dataset with actual labels and the test dataset combined with predicted class labels need to be given to this function\n",
    "classified_metric = ClassificationMetric(dataset_orig_test, \n",
    "                                                 testset_pred,\n",
    "                                                 unprivileged_groups=unprivileged_groups,\n",
    "                                                 privileged_groups=privileged_groups)\n",
    "\n",
    "\n",
    "#Checking Equalized Odds: average odds differecence, which is the avg. of differences in FPR&TPR for privileged and unprivileged groups.\n",
    "aeo = classified_metric.average_odds_difference()\n",
    "print(\"Average equalized odds difference between unprivileged and privileged groups = %f\" % aeo)\n",
    "\n",
    "#Disparate Impact ratio between privileged and unprivileged groups.\n",
    "di = classified_metric.disparate_impact()\n",
    "print(\"Disparate impact ratio between unprivileged and privileged groups = %f\" % di)\n",
    "\n",
    "#Demographic parity difference between privileged and unprivileged groups.\n",
    "spd = classified_metric.statistical_parity_difference()\n",
    "print(\"Demographic parity difference between unprivileged and privileged groups = %f\" % spd)\n",
    "\n",
    "#Predictive parity difference: PPV difference between privileged and unprivileged groups.\n",
    "ppd = classified_metric.positive_predictive_value(privileged=False) - classified_metric.positive_predictive_value(privileged=True)\n",
    "print(\"Predictive Parity difference between unprivileged and privileged groups = %f\" % ppd)\n",
    "\n",
    "#Individual Fairness: 1)Consistency, 2) Euclidean Distance between individuals.\n",
    "print(\"Consistency of indivuals' predicted labels = %f\" % metric_pred_test.consistency())\n",
    "\n",
    "TPR = classified_metric.true_positive_rate() #recall\n",
    "TNR = classified_metric.true_negative_rate() #specificity\n",
    "PPV = classified_metric.positive_predictive_value() #precision\n",
    "bal_acc = (TPR+TNR)/2\n",
    "f1 = 2*((PPV*TPR)/(PPV+TPR))\n",
    "\n",
    "display(Markdown(\"#### LR Prediction Performance on %s Test Set\"%dataset_used))\n",
    "print(\"Standard accuracy of logistic regression trained on German dataset without any mitigation = %f\" % classified_metric.accuracy())\n",
    "print(\"Balanced accuracy of logistic regression trained on German dataset without any mitigation = %f\" % bal_acc)\n",
    "print(\"F1 score of logistic regression trained on German dataset without any mitigation = %f\" % f1)\n",
    "\n",
    "print(\"For german dataset\")\n",
    "print(\"Precision (PPV): %f\" %PPV)\n",
    "print(\"Recall (TPR): %f\" %TPR)\n",
    "print(\"Specificity (TNR): %f\" %TNR)"
   ]
  },
  {
   "cell_type": "code",
   "execution_count": 8,
   "metadata": {},
   "outputs": [
    {
     "data": {
      "text/plain": [
       "<sklearn.metrics._plot.confusion_matrix.ConfusionMatrixDisplay at 0x1e8efaf0390>"
      ]
     },
     "execution_count": 8,
     "metadata": {},
     "output_type": "execute_result"
    },
    {
     "data": {
      "image/png": "[encoded data removed]",
      "text/plain": [
       "<Figure size 432x288 with 2 Axes>"
      ]
     },
     "metadata": {
      "needs_background": "light"
     },
     "output_type": "display_data"
    }
   ],
   "source": [
    "cm_orig = confusion_matrix(dataset_orig_test.labels, testset_pred.labels)\n",
    "\n",
    "disp_orig = ConfusionMatrixDisplay(confusion_matrix=cm_orig,\n",
    "                              display_labels=log_reg.classes_)\n",
    "disp_orig.plot()"
   ]
  },
  {
   "cell_type": "markdown",
   "metadata": {},
   "source": [
    "### Implementation of Learning Fair Represenrations Algorithm"
   ]
  },
  {
   "cell_type": "code",
   "execution_count": 9,
   "metadata": {},
   "outputs": [
    {
     "name": "stderr",
     "output_type": "stream",
     "text": [
      "c:\\users\\hatta\\anaconda3\\envs\\aif360\\lib\\site-packages\\aif360\\algorithms\\preprocessing\\lfr_helpers\\helpers.py:62: NumbaWarning: \u001b[1m\n",
      "Compilation is falling back to object mode WITH looplifting enabled because Function \"LFR_optim_obj\" failed type inference due to: \u001b[1m\u001b[1mUnknown attribute 'iters' of type recursive(type(CPUDispatcher(<function LFR_optim_obj at 0x000001E896B0C9D8>)))\n",
      "\u001b[1m\n",
      "File \"..\\..\\..\\..\\anaconda3\\envs\\aif360\\lib\\site-packages\\aif360\\algorithms\\preprocessing\\lfr_helpers\\helpers.py\", line 66:\u001b[0m\n",
      "\u001b[1mdef LFR_optim_obj(params, data_sensitive, data_nonsensitive, y_sensitive,\n",
      "    <source elided>\n",
      "\n",
      "\u001b[1m    LFR_optim_obj.iters += 1\n",
      "\u001b[0m    \u001b[1m^\u001b[0m\u001b[0m\n",
      "\u001b[0m\n",
      "\u001b[0m\u001b[1m[1] During: typing of get attribute at c:\\users\\hatta\\anaconda3\\envs\\aif360\\lib\\site-packages\\aif360\\algorithms\\preprocessing\\lfr_helpers\\helpers.py (66)\u001b[0m\n",
      "\u001b[1m\n",
      "File \"..\\..\\..\\..\\anaconda3\\envs\\aif360\\lib\\site-packages\\aif360\\algorithms\\preprocessing\\lfr_helpers\\helpers.py\", line 66:\u001b[0m\n",
      "\u001b[1mdef LFR_optim_obj(params, data_sensitive, data_nonsensitive, y_sensitive,\n",
      "    <source elided>\n",
      "\n",
      "\u001b[1m    LFR_optim_obj.iters += 1\n",
      "\u001b[0m    \u001b[1m^\u001b[0m\u001b[0m\n",
      "\u001b[0m\n",
      "  @jit\n",
      "c:\\users\\hatta\\anaconda3\\envs\\aif360\\lib\\site-packages\\aif360\\algorithms\\preprocessing\\lfr_helpers\\helpers.py:62: NumbaWarning: \u001b[1m\n",
      "Compilation is falling back to object mode WITHOUT looplifting enabled because Function \"LFR_optim_obj\" failed type inference due to: \u001b[1m\u001b[1mcannot determine Numba type of <class 'numba.dispatcher.LiftedLoop'>\u001b[0m\n",
      "\u001b[1m\n",
      "File \"..\\..\\..\\..\\anaconda3\\envs\\aif360\\lib\\site-packages\\aif360\\algorithms\\preprocessing\\lfr_helpers\\helpers.py\", line 85:\u001b[0m\n",
      "\u001b[1mdef LFR_optim_obj(params, data_sensitive, data_nonsensitive, y_sensitive,\n",
      "    <source elided>\n",
      "    L_z = 0.0\n",
      "\u001b[1m    for j in range(k):\n",
      "\u001b[0m    \u001b[1m^\u001b[0m\u001b[0m\n",
      "\u001b[0m\u001b[0m\n",
      "  @jit\n",
      "c:\\users\\hatta\\anaconda3\\envs\\aif360\\lib\\site-packages\\numba\\object_mode_passes.py:178: NumbaWarning: \u001b[1mFunction \"LFR_optim_obj\" was compiled in object mode without forceobj=True, but has lifted loops.\n",
      "\u001b[1m\n",
      "File \"..\\..\\..\\..\\anaconda3\\envs\\aif360\\lib\\site-packages\\aif360\\algorithms\\preprocessing\\lfr_helpers\\helpers.py\", line 66:\u001b[0m\n",
      "\u001b[1mdef LFR_optim_obj(params, data_sensitive, data_nonsensitive, y_sensitive,\n",
      "    <source elided>\n",
      "\n",
      "\u001b[1m    LFR_optim_obj.iters += 1\n",
      "\u001b[0m    \u001b[1m^\u001b[0m\u001b[0m\n",
      "\u001b[0m\n",
      "  state.func_ir.loc))\n",
      "c:\\users\\hatta\\anaconda3\\envs\\aif360\\lib\\site-packages\\numba\\object_mode_passes.py:188: NumbaDeprecationWarning: \u001b[1m\n",
      "Fall-back from the nopython compilation path to the object mode compilation path has been detected, this is deprecated behaviour.\n",
      "\n",
      "For more information visit http://numba.pydata.org/numba-doc/latest/reference/deprecation.html#deprecation-of-object-mode-fall-back-behaviour-when-using-jit\n",
      "\u001b[1m\n",
      "File \"..\\..\\..\\..\\anaconda3\\envs\\aif360\\lib\\site-packages\\aif360\\algorithms\\preprocessing\\lfr_helpers\\helpers.py\", line 66:\u001b[0m\n",
      "\u001b[1mdef LFR_optim_obj(params, data_sensitive, data_nonsensitive, y_sensitive,\n",
      "    <source elided>\n",
      "\n",
      "\u001b[1m    LFR_optim_obj.iters += 1\n",
      "\u001b[0m    \u001b[1m^\u001b[0m\u001b[0m\n",
      "\u001b[0m\n",
      "  state.func_ir.loc))\n"
     ]
    },
    {
     "name": "stdout",
     "output_type": "stream",
     "text": [
      "250 5429.2547597280745\n",
      "500 5181.880613027107\n",
      "750 5181.880690387563\n",
      "1000 5063.016636443756\n",
      "1250 5176.2366195427785\n",
      "1500 5176.236875121079\n",
      "1750 4719.054296809685\n",
      "2000 4719.054323682544\n",
      "2250 4397.456354985086\n",
      "2500 4684.0108847738675\n",
      "2750 4684.010943226902\n",
      "3000 4347.121806696803\n",
      "3250 4347.121920133898\n",
      "3500 4315.103935306959\n",
      "3750 4268.176217976064\n",
      "4000 4268.176281290303\n",
      "4250 4221.6372286150745\n",
      "4500 4221.637250793688\n",
      "4750 4176.656549597286\n",
      "5000 4199.117470580807\n",
      "5250 4199.117331902985\n",
      "5500 4167.0962727762835\n",
      "5750 4167.096116024622\n"
     ]
    },
    {
     "name": "stderr",
     "output_type": "stream",
     "text": [
      "c:\\users\\hatta\\anaconda3\\envs\\aif360\\lib\\site-packages\\aif360\\algorithms\\preprocessing\\lfr_helpers\\helpers.py:50: NumbaWarning: \u001b[1m\n",
      "Compilation is falling back to object mode WITH looplifting enabled because Function \"yhat\" failed type inference due to: \u001b[1m\u001b[1mInvalid use of Function(<built-in function iadd>) with argument(s) of type(s): (float64, array(float64, 1d, C))\n",
      "Known signatures:\n",
      " * (int64, int64) -> int64\n",
      " * (int64, uint64) -> int64\n",
      " * (uint64, int64) -> int64\n",
      " * (uint64, uint64) -> uint64\n",
      " * (float32, float32) -> float32\n",
      " * (float64, float64) -> float64\n",
      " * (complex64, complex64) -> complex64\n",
      " * (complex128, complex128) -> complex128\n",
      " * parameterized\n",
      "\u001b[1mIn definition 0:\u001b[0m\n",
      "\u001b[1m    All templates rejected with literals.\u001b[0m\n",
      "\u001b[1mIn definition 1:\u001b[0m\n",
      "\u001b[1m    All templates rejected without literals.\u001b[0m\n",
      "\u001b[1mIn definition 2:\u001b[0m\n",
      "\u001b[1m    All templates rejected with literals.\u001b[0m\n",
      "\u001b[1mIn definition 3:\u001b[0m\n",
      "\u001b[1m    All templates rejected without literals.\u001b[0m\n",
      "\u001b[1mIn definition 4:\u001b[0m\n",
      "\u001b[1m    All templates rejected with literals.\u001b[0m\n",
      "\u001b[1mIn definition 5:\u001b[0m\n",
      "\u001b[1m    All templates rejected without literals.\u001b[0m\n",
      "\u001b[1mIn definition 6:\u001b[0m\n",
      "\u001b[1m    All templates rejected with literals.\u001b[0m\n",
      "\u001b[1mIn definition 7:\u001b[0m\n",
      "\u001b[1m    All templates rejected without literals.\u001b[0m\n",
      "\u001b[1mIn definition 8:\u001b[0m\n",
      "\u001b[1m    All templates rejected with literals.\u001b[0m\n",
      "\u001b[1mIn definition 9:\u001b[0m\n",
      "\u001b[1m    All templates rejected without literals.\u001b[0m\n",
      "\u001b[1mIn definition 10:\u001b[0m\n",
      "\u001b[1m    All templates rejected with literals.\u001b[0m\n",
      "\u001b[1mIn definition 11:\u001b[0m\n",
      "\u001b[1m    All templates rejected without literals.\u001b[0m\n",
      "\u001b[1mIn definition 12:\u001b[0m\n",
      "\u001b[1m    All templates rejected with literals.\u001b[0m\n",
      "\u001b[1mIn definition 13:\u001b[0m\n",
      "\u001b[1m    All templates rejected without literals.\u001b[0m\n",
      "\u001b[1mIn definition 14:\u001b[0m\n",
      "\u001b[1m    All templates rejected with literals.\u001b[0m\n",
      "\u001b[1mIn definition 15:\u001b[0m\n",
      "\u001b[1m    All templates rejected without literals.\u001b[0m\n",
      "\u001b[1mThis error is usually caused by passing an argument of a type that is unsupported by the named function.\u001b[0m\u001b[0m\n",
      "\u001b[0m\u001b[1m[1] During: typing of intrinsic-call at c:\\users\\hatta\\anaconda3\\envs\\aif360\\lib\\site-packages\\aif360\\algorithms\\preprocessing\\lfr_helpers\\helpers.py (59)\u001b[0m\n",
      "\u001b[1m\n",
      "File \"..\\..\\..\\..\\anaconda3\\envs\\aif360\\lib\\site-packages\\aif360\\algorithms\\preprocessing\\lfr_helpers\\helpers.py\", line 59:\u001b[0m\n",
      "\u001b[1mdef yhat(M_nk, y, w, N, k):\n",
      "    <source elided>\n",
      "        yhat[i] = 0.999 if yhat[i] >= 1 else yhat[i]\n",
      "\u001b[1m        L_y += -1 * y[i] * np.log(yhat[i]) - (1.0 - y[i]) * np.log(1.0 - yhat[i])\n",
      "\u001b[0m        \u001b[1m^\u001b[0m\u001b[0m\n",
      "\u001b[0m\n",
      "  @jit\n",
      "c:\\users\\hatta\\anaconda3\\envs\\aif360\\lib\\site-packages\\aif360\\algorithms\\preprocessing\\lfr_helpers\\helpers.py:50: NumbaWarning: \u001b[1m\n",
      "Compilation is falling back to object mode WITHOUT looplifting enabled because Function \"yhat\" failed type inference due to: \u001b[1m\u001b[1mcannot determine Numba type of <class 'numba.dispatcher.LiftedLoop'>\u001b[0m\n",
      "\u001b[1m\n",
      "File \"..\\..\\..\\..\\anaconda3\\envs\\aif360\\lib\\site-packages\\aif360\\algorithms\\preprocessing\\lfr_helpers\\helpers.py\", line 54:\u001b[0m\n",
      "\u001b[1mdef yhat(M_nk, y, w, N, k):\n",
      "    <source elided>\n",
      "    L_y = 0.0\n",
      "\u001b[1m    for i in range(N):\n",
      "\u001b[0m    \u001b[1m^\u001b[0m\u001b[0m\n",
      "\u001b[0m\u001b[0m\n",
      "  @jit\n",
      "c:\\users\\hatta\\anaconda3\\envs\\aif360\\lib\\site-packages\\numba\\object_mode_passes.py:178: NumbaWarning: \u001b[1mFunction \"yhat\" was compiled in object mode without forceobj=True, but has lifted loops.\n",
      "\u001b[1m\n",
      "File \"..\\..\\..\\..\\anaconda3\\envs\\aif360\\lib\\site-packages\\aif360\\algorithms\\preprocessing\\lfr_helpers\\helpers.py\", line 52:\u001b[0m\n",
      "\u001b[1mdef yhat(M_nk, y, w, N, k):\n",
      "\u001b[1m    yhat = np.zeros(N)\n",
      "\u001b[0m    \u001b[1m^\u001b[0m\u001b[0m\n",
      "\u001b[0m\n",
      "  state.func_ir.loc))\n",
      "c:\\users\\hatta\\anaconda3\\envs\\aif360\\lib\\site-packages\\numba\\object_mode_passes.py:188: NumbaDeprecationWarning: \u001b[1m\n",
      "Fall-back from the nopython compilation path to the object mode compilation path has been detected, this is deprecated behaviour.\n",
      "\n",
      "For more information visit http://numba.pydata.org/numba-doc/latest/reference/deprecation.html#deprecation-of-object-mode-fall-back-behaviour-when-using-jit\n",
      "\u001b[1m\n",
      "File \"..\\..\\..\\..\\anaconda3\\envs\\aif360\\lib\\site-packages\\aif360\\algorithms\\preprocessing\\lfr_helpers\\helpers.py\", line 52:\u001b[0m\n",
      "\u001b[1mdef yhat(M_nk, y, w, N, k):\n",
      "\u001b[1m    yhat = np.zeros(N)\n",
      "\u001b[0m    \u001b[1m^\u001b[0m\u001b[0m\n",
      "\u001b[0m\n",
      "  state.func_ir.loc))\n",
      "c:\\users\\hatta\\anaconda3\\envs\\aif360\\lib\\site-packages\\aif360\\algorithms\\preprocessing\\lfr_helpers\\helpers.py:50: NumbaWarning: \u001b[1m\n",
      "Compilation is falling back to object mode WITHOUT looplifting enabled because Function \"yhat\" failed type inference due to: \u001b[1m\u001b[1mInvalid use of Function(<built-in function iadd>) with argument(s) of type(s): (float64, array(float64, 1d, C))\n",
      "Known signatures:\n",
      " * (int64, int64) -> int64\n",
      " * (int64, uint64) -> int64\n",
      " * (uint64, int64) -> int64\n",
      " * (uint64, uint64) -> uint64\n",
      " * (float32, float32) -> float32\n",
      " * (float64, float64) -> float64\n",
      " * (complex64, complex64) -> complex64\n",
      " * (complex128, complex128) -> complex128\n",
      " * parameterized\n",
      "\u001b[1mIn definition 0:\u001b[0m\n",
      "\u001b[1m    All templates rejected with literals.\u001b[0m\n",
      "\u001b[1mIn definition 1:\u001b[0m\n",
      "\u001b[1m    All templates rejected without literals.\u001b[0m\n",
      "\u001b[1mIn definition 2:\u001b[0m\n",
      "\u001b[1m    All templates rejected with literals.\u001b[0m\n",
      "\u001b[1mIn definition 3:\u001b[0m\n",
      "\u001b[1m    All templates rejected without literals.\u001b[0m\n",
      "\u001b[1mIn definition 4:\u001b[0m\n",
      "\u001b[1m    All templates rejected with literals.\u001b[0m\n",
      "\u001b[1mIn definition 5:\u001b[0m\n",
      "\u001b[1m    All templates rejected without literals.\u001b[0m\n",
      "\u001b[1mIn definition 6:\u001b[0m\n",
      "\u001b[1m    All templates rejected with literals.\u001b[0m\n",
      "\u001b[1mIn definition 7:\u001b[0m\n",
      "\u001b[1m    All templates rejected without literals.\u001b[0m\n",
      "\u001b[1mIn definition 8:\u001b[0m\n",
      "\u001b[1m    All templates rejected with literals.\u001b[0m\n",
      "\u001b[1mIn definition 9:\u001b[0m\n",
      "\u001b[1m    All templates rejected without literals.\u001b[0m\n",
      "\u001b[1mIn definition 10:\u001b[0m\n",
      "\u001b[1m    All templates rejected with literals.\u001b[0m\n",
      "\u001b[1mIn definition 11:\u001b[0m\n",
      "\u001b[1m    All templates rejected without literals.\u001b[0m\n",
      "\u001b[1mIn definition 12:\u001b[0m\n",
      "\u001b[1m    All templates rejected with literals.\u001b[0m\n",
      "\u001b[1mIn definition 13:\u001b[0m\n",
      "\u001b[1m    All templates rejected without literals.\u001b[0m\n",
      "\u001b[1mIn definition 14:\u001b[0m\n",
      "\u001b[1m    All templates rejected with literals.\u001b[0m\n",
      "\u001b[1mIn definition 15:\u001b[0m\n",
      "\u001b[1m    All templates rejected without literals.\u001b[0m\n",
      "\u001b[1mThis error is usually caused by passing an argument of a type that is unsupported by the named function.\u001b[0m\u001b[0m\n",
      "\u001b[0m\u001b[1m[1] During: typing of intrinsic-call at c:\\users\\hatta\\anaconda3\\envs\\aif360\\lib\\site-packages\\aif360\\algorithms\\preprocessing\\lfr_helpers\\helpers.py (59)\u001b[0m\n",
      "\u001b[1m\n",
      "File \"..\\..\\..\\..\\anaconda3\\envs\\aif360\\lib\\site-packages\\aif360\\algorithms\\preprocessing\\lfr_helpers\\helpers.py\", line 59:\u001b[0m\n",
      "\u001b[1mdef yhat(M_nk, y, w, N, k):\n",
      "    <source elided>\n",
      "        yhat[i] = 0.999 if yhat[i] >= 1 else yhat[i]\n",
      "\u001b[1m        L_y += -1 * y[i] * np.log(yhat[i]) - (1.0 - y[i]) * np.log(1.0 - yhat[i])\n",
      "\u001b[0m        \u001b[1m^\u001b[0m\u001b[0m\n",
      "\u001b[0m\n",
      "  @jit\n",
      "c:\\users\\hatta\\anaconda3\\envs\\aif360\\lib\\site-packages\\numba\\object_mode_passes.py:178: NumbaWarning: \u001b[1mFunction \"yhat\" was compiled in object mode without forceobj=True.\n",
      "\u001b[1m\n",
      "File \"..\\..\\..\\..\\anaconda3\\envs\\aif360\\lib\\site-packages\\aif360\\algorithms\\preprocessing\\lfr_helpers\\helpers.py\", line 54:\u001b[0m\n",
      "\u001b[1mdef yhat(M_nk, y, w, N, k):\n",
      "    <source elided>\n",
      "    L_y = 0.0\n",
      "\u001b[1m    for i in range(N):\n",
      "\u001b[0m    \u001b[1m^\u001b[0m\u001b[0m\n",
      "\u001b[0m\n",
      "  state.func_ir.loc))\n",
      "c:\\users\\hatta\\anaconda3\\envs\\aif360\\lib\\site-packages\\numba\\object_mode_passes.py:188: NumbaDeprecationWarning: \u001b[1m\n",
      "Fall-back from the nopython compilation path to the object mode compilation path has been detected, this is deprecated behaviour.\n",
      "\n",
      "For more information visit http://numba.pydata.org/numba-doc/latest/reference/deprecation.html#deprecation-of-object-mode-fall-back-behaviour-when-using-jit\n",
      "\u001b[1m\n",
      "File \"..\\..\\..\\..\\anaconda3\\envs\\aif360\\lib\\site-packages\\aif360\\algorithms\\preprocessing\\lfr_helpers\\helpers.py\", line 54:\u001b[0m\n",
      "\u001b[1mdef yhat(M_nk, y, w, N, k):\n",
      "    <source elided>\n",
      "    L_y = 0.0\n",
      "\u001b[1m    for i in range(N):\n",
      "\u001b[0m    \u001b[1m^\u001b[0m\u001b[0m\n",
      "\u001b[0m\n",
      "  state.func_ir.loc))\n"
     ]
    }
   ],
   "source": [
    "#1) Transforming Adult Dataset\n",
    "\n",
    "#Required Inputs:\n",
    "# Input recontruction quality - Ax\n",
    "# Fairness constraint - Az\n",
    "# Output prediction error - Ay\n",
    "\n",
    "#scaled dataset together with its labels is needed\n",
    "dataset_orig_train.features = scale_orig.fit_transform(dataset_orig_train.features)\n",
    "dataset_orig_test.features = scale_orig.transform(dataset_orig_test.features)\n",
    "\n",
    "#LFR itself contains logistic regression sinc it uses signoid functions \n",
    "LFR =LFR(unprivileged_groups=unprivileged_groups,\n",
    "         privileged_groups=privileged_groups,\n",
    "         k=5, Ax=0.1, Ay=1.0, Az=100.0, verbose=1)\n",
    "\n",
    "TR = LFR.fit(dataset_orig_train, maxiter=5000, maxfun=5000)\n",
    "\n",
    "# Transform training data and align features\n",
    "dataset_transf_train = TR.transform(dataset_orig_train)\n",
    "#a_transf_test = TR_a.transform(adult_orig_test)"
   ]
  },
  {
   "cell_type": "code",
   "execution_count": 10,
   "metadata": {},
   "outputs": [
    {
     "data": {
      "text/plain": [
       "205"
      ]
     },
     "execution_count": 10,
     "metadata": {},
     "output_type": "execute_result"
    }
   ],
   "source": [
    "#check if the labels are transformed: counts the num. of transformed labels\n",
    "k=0\n",
    "for i in range(len(dataset_orig_train.labels)):\n",
    "    if(dataset_transf_train.labels[i] == dataset_orig_train.labels[i]):\n",
    "        pass\n",
    "    else:\n",
    "        k+=1\n",
    "        \n",
    "k"
   ]
  },
  {
   "cell_type": "code",
   "execution_count": 11,
   "metadata": {},
   "outputs": [],
   "source": [
    "#copying transformed features and pasting original labels to them\n",
    "transf_train_new = dataset_orig_train.copy(deepcopy=True)\n",
    "transf_train_new.scores = dataset_transf_train.scores"
   ]
  },
  {
   "cell_type": "markdown",
   "metadata": {},
   "source": [
    "### Evaluation of LFR"
   ]
  },
  {
   "cell_type": "code",
   "execution_count": 12,
   "metadata": {},
   "outputs": [
    {
     "data": {
      "text/markdown": [
       "#### Transformed german train set"
      ],
      "text/plain": [
       "<IPython.core.display.Markdown object>"
      ]
     },
     "metadata": {},
     "output_type": "display_data"
    },
    {
     "name": "stdout",
     "output_type": "stream",
     "text": [
      "Disparate impact ratio (of transformed labels) between unprivileged and privileged groups = 1.000262\n",
      "Difference in statistical parity (of transformed labels) between unprivileged and privileged groups = 0.000258\n",
      "Individual fairness metric 'consistency' that measures how similar the labels are for similar instances = 0.998000\n"
     ]
    },
    {
     "name": "stderr",
     "output_type": "stream",
     "text": [
      "c:\\users\\hatta\\anaconda3\\envs\\aif360\\lib\\site-packages\\sklearn\\utils\\validation.py:70: FutureWarning: Pass n_neighbors=5 as keyword args. From version 0.25 passing these as positional arguments will result in an error\n",
      "  FutureWarning)\n"
     ]
    }
   ],
   "source": [
    "#Fairness Performance of Datasets Before Classification\n",
    "\n",
    "#Constucting two functions to call the desired metrics\n",
    "metric_transf_train = BinaryLabelDatasetMetric(dataset_transf_train, \n",
    "                                             unprivileged_groups=unprivileged_groups,\n",
    "                                             privileged_groups=privileged_groups)\n",
    "\n",
    "display(Markdown(\"#### Transformed %s train set\"%dataset_used))\n",
    "print(\"Disparate impact ratio (of transformed labels) between unprivileged and privileged groups = %f\" % metric_transf_train.disparate_impact())\n",
    "print(\"Difference in statistical parity (of transformed labels) between unprivileged and privileged groups = %f\" % metric_transf_train.statistical_parity_difference())\n",
    "print(\"Individual fairness metric 'consistency' that measures how similar the labels are for similar instances = %f\" % metric_transf_train.consistency())"
   ]
  },
  {
   "cell_type": "markdown",
   "metadata": {},
   "source": [
    "#### Training logistic regression with transformed dataset and predicting test set"
   ]
  },
  {
   "cell_type": "code",
   "execution_count": 13,
   "metadata": {},
   "outputs": [],
   "source": [
    "X_train_trans =dataset_transf_train.features\n",
    "X_test_trans = dataset_orig_test.features\n",
    "\n",
    "y_train_trans = dataset_transf_train.labels.ravel()\n",
    "y_test_trans = dataset_orig_test.labels.ravel() \n",
    "\n",
    "\n",
    "#Logistic Regression Training with the transformed dataset\n",
    "trans_lr = LogisticRegression()\n",
    "\n",
    "#fitting the model\n",
    "trans_lr.fit(X_train_trans, y_train_trans)\n",
    "\n",
    "#Predicting test set labels\n",
    "y_test_trans_pred = trans_lr.predict(X_test_trans)\n",
    "y_test_trans_pred_proba = trans_lr.predict_proba(X_test_trans)"
   ]
  },
  {
   "cell_type": "code",
   "execution_count": 14,
   "metadata": {},
   "outputs": [],
   "source": [
    "#Create a new version of the transformed test set with predicted class labels\n",
    "testset_pred_trans = dataset_orig_test.copy()\n",
    "testset_pred_trans.labels = y_test_trans_pred"
   ]
  },
  {
   "cell_type": "code",
   "execution_count": 15,
   "metadata": {},
   "outputs": [
    {
     "data": {
      "text/markdown": [
       "#### (Pre-processed) LR with german Test Set Fairness Performance (based on predictions)"
      ],
      "text/plain": [
       "<IPython.core.display.Markdown object>"
      ]
     },
     "metadata": {},
     "output_type": "display_data"
    },
    {
     "name": "stdout",
     "output_type": "stream",
     "text": [
      "Average equalized odds difference between unprivileged and privileged groups = 0.048939\n",
      "Disparate impact ratio between unprivileged and privileged groups = 1.052863\n",
      "Demographic parity difference between unprivileged and privileged groups = 0.050209\n",
      "Predictive Parity difference between unprivileged and privileged groups = -0.071135\n",
      "Consistency of indivuals' predicted labels = 0.964000\n"
     ]
    },
    {
     "name": "stderr",
     "output_type": "stream",
     "text": [
      "c:\\users\\hatta\\anaconda3\\envs\\aif360\\lib\\site-packages\\sklearn\\utils\\validation.py:70: FutureWarning: Pass n_neighbors=5 as keyword args. From version 0.25 passing these as positional arguments will result in an error\n",
      "  FutureWarning)\n"
     ]
    },
    {
     "data": {
      "text/markdown": [
       "#### (Pre-processed) LR with german Test Set Prediction Performance"
      ],
      "text/plain": [
       "<IPython.core.display.Markdown object>"
      ]
     },
     "metadata": {},
     "output_type": "display_data"
    },
    {
     "name": "stdout",
     "output_type": "stream",
     "text": [
      "Standard accuracy of logistic regression trained on test set with debiasing = 0.693333\n",
      "Balanced accuracy of logistic regression trained on test set  with debiasing = 0.496414\n",
      "F1 score of logistic regression trained on test set with debiasing = 0.816733\n",
      "Detailed scores for german test set\n",
      "Precision (PPV): 0.711806\n",
      "Recall (TPR): 0.957944\n",
      "Specificity (TNR): 0.034884\n"
     ]
    }
   ],
   "source": [
    "#Performance Metrics from the dataset predictions\n",
    "\n",
    "metric_trans_test = BinaryLabelDatasetMetric(testset_pred_trans, \n",
    "                                             unprivileged_groups=unprivileged_groups,\n",
    "                                             privileged_groups=privileged_groups)\n",
    "\n",
    "classified_trans_test = ClassificationMetric(dataset_orig_test, \n",
    "                                                 testset_pred_trans,\n",
    "                                                 unprivileged_groups=unprivileged_groups,\n",
    "                                                 privileged_groups=privileged_groups)\n",
    "\n",
    "\n",
    "display(Markdown(\"#### (Pre-processed) LR with %s Test Set Fairness Performance (based on predictions)\"%dataset_used))\n",
    "\n",
    "#Checking Equalized Odds: average odds differecence, which is the avg. of differences in FPR&TPR for privileged and unprivileged groups.\n",
    "deb_aeo_t = classified_trans_test.average_odds_difference()\n",
    "print(\"Average equalized odds difference between unprivileged and privileged groups = %f\" % deb_aeo_t)\n",
    "\n",
    "#Disparate Impact ratio between privileged and unprivileged groups.\n",
    "deb_di_t = classified_trans_test.disparate_impact()\n",
    "print(\"Disparate impact ratio between unprivileged and privileged groups = %f\" % deb_di_t)\n",
    "\n",
    "#Demographic parity difference between privileged and unprivileged groups.\n",
    "deb_spd_t = classified_trans_test.statistical_parity_difference()\n",
    "print(\"Demographic parity difference between unprivileged and privileged groups = %f\" % deb_spd_t)\n",
    "\n",
    "#Predictive parity difference: PPV difference between privileged and unprivileged groups.\n",
    "deb_ppd_t = classified_trans_test.positive_predictive_value(privileged=False) - classified_trans_test.positive_predictive_value(privileged=True)\n",
    "print(\"Predictive Parity difference between unprivileged and privileged groups = %f\" % deb_ppd_t)\n",
    "\n",
    "#Individual Fairness: 1)Consistency, 2) Euclidean Distance between individuals.\n",
    "print(\"Consistency of indivuals' predicted labels = %f\" % metric_trans_test.consistency())\n",
    "\n",
    "\n",
    "#Prediction performance metrics\n",
    "TPR_t = classified_trans_test.true_positive_rate() #recall\n",
    "TNR_t = classified_trans_test.true_negative_rate() #specificity\n",
    "PPV_t = classified_trans_test.positive_predictive_value() #precision\n",
    "bal_acc_t = (TPR_t+TNR_t)/2\n",
    "f1_t = 2*((PPV_t*TPR_t)/(PPV_t+TPR_t))\n",
    "\n",
    "display(Markdown(\"#### (Pre-processed) LR with %s Test Set Prediction Performance\"%dataset_used))\n",
    "print(\"Standard accuracy of logistic regression trained on test set with debiasing = %f\" % classified_trans_test.accuracy())\n",
    "print(\"Balanced accuracy of logistic regression trained on test set  with debiasing = %f\" % bal_acc_t)\n",
    "print(\"F1 score of logistic regression trained on test set with debiasing = %f\" % f1_t)\n",
    "\n",
    "print(\"Detailed scores for %s test set\"%dataset_used)\n",
    "print(\"Precision (PPV): %f\" %PPV_t)\n",
    "print(\"Recall (TPR): %f\" %TPR_t)\n",
    "print(\"Specificity (TNR): %f\" %TNR_t)"
   ]
  },
  {
   "cell_type": "code",
   "execution_count": 16,
   "metadata": {},
   "outputs": [
    {
     "data": {
      "text/plain": [
       "<sklearn.metrics._plot.confusion_matrix.ConfusionMatrixDisplay at 0x1e89c59ba58>"
      ]
     },
     "execution_count": 16,
     "metadata": {},
     "output_type": "execute_result"
    },
    {
     "data": {
      "image/png": "[encoded data removed]",
      "text/plain": [
       "<Figure size 432x288 with 2 Axes>"
      ]
     },
     "metadata": {
      "needs_background": "light"
     },
     "output_type": "display_data"
    }
   ],
   "source": [
    "cm_trans = confusion_matrix(dataset_orig_test.labels, testset_pred_trans.labels)\n",
    "\n",
    "disp_trans = ConfusionMatrixDisplay(confusion_matrix=cm_trans,\n",
    "                              display_labels=trans_lr.classes_)\n",
    "disp_trans.plot() "
   ]
  }
 ],
 "metadata": {
  "kernelspec": {
   "display_name": "Python 3",
   "language": "python",
   "name": "python3"
  },
  "language_info": {
   "codemirror_mode": {
    "name": "ipython",
    "version": 3
   },
   "file_extension": ".py",
   "mimetype": "text/x-python",
   "name": "python",
   "nbconvert_exporter": "python",
   "pygments_lexer": "ipython3",
   "version": "3.8.8"
  }
 },
 "nbformat": 4,
 "nbformat_minor": 4
}
