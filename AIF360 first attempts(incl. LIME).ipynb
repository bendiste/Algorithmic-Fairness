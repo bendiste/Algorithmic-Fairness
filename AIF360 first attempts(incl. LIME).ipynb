{
 "cells": [
  {
   "cell_type": "markdown",
   "metadata": {},
   "source": [
    "## Introduction to AIF360 with several measuring and mitigation techniques"
   ]
  },
  {
   "cell_type": "code",
   "execution_count": null,
   "metadata": {},
   "outputs": [],
   "source": [
    "#note: neither virtual environment nor normal pip installed library of AIF360 contains the dataset. It gave an error in the next\n",
    "#step and I had to download the dataset manually from the link given in the error message.\n",
    "import sys\n",
    "sys.path.insert(1, \"../\")  \n",
    "\n",
    "import numpy as np\n",
    "np.random.seed(0)\n",
    "\n",
    "import lime\n",
    "import lime.lime_tabular\n",
    "\n",
    "from aif360.datasets import GermanDataset\n",
    "from aif360.metrics import BinaryLabelDatasetMetric\n",
    "from aif360.algorithms.preprocessing import Reweighing\n",
    "\n",
    "from sklearn.linear_model import LogisticRegression\n",
    "from sklearn.preprocessing import StandardScaler\n",
    "from sklearn.metrics import accuracy_score\n",
    "\n",
    "from aif360.metrics.binary_label_dataset_metric import BinaryLabelDatasetMetric\n",
    "from aif360.metrics.classification_metric import ClassificationMetric\n",
    "from aif360.algorithms.preprocessing.optim_preproc_helpers.data_preproc_functions import load_preproc_data_adult\n",
    "from aif360.algorithms.preprocessing.reweighing import Reweighing\n",
    "\n",
    "from IPython.display import Markdown, display"
   ]
  },
  {
   "cell_type": "markdown",
   "metadata": {},
   "source": [
    "### Mitigation on German Credit Dataset"
   ]
  },
  {
   "cell_type": "code",
   "execution_count": null,
   "metadata": {},
   "outputs": [],
   "source": [
    "#Note:this dataset also contains protected attribute for \"sex\" which is not considered in this evaluation age >=25 is privileged\n",
    "dataset_orig = GermanDataset(\n",
    "    protected_attribute_names=['age'],                                                         \n",
    "    privileged_classes=[lambda x: x >= 25],      \n",
    "    features_to_drop=['personal_status', 'sex'] # ignore sex-related attributes\n",
    ")\n",
    "#train-test split function\n",
    "dataset_orig_train, dataset_orig_test = dataset_orig.split([0.7], shuffle=True)\n",
    "\n",
    "privileged_groups = [{'age': 1}]\n",
    "unprivileged_groups = [{'age': 0}]\n",
    "\n",
    "print(dataset_orig_train)\n",
    "#I see that it is aif360.dataset type, the data cannot be manipulated using any scikit functionalities.\n",
    "print(type(dataset_orig_train))"
   ]
  },
  {
   "cell_type": "markdown",
   "metadata": {},
   "source": [
    "NOTE: There is a column inserted in the dataset called \"instance weights features\". It is probably for this algorithm speficically. Reweighing algorithms changes the values in this column."
   ]
  },
  {
   "cell_type": "code",
   "execution_count": null,
   "metadata": {},
   "outputs": [],
   "source": [
    "#One simple test is to compare the percentage of favorable results for the privileged and unprivileged groups, subtracting the\n",
    "#former percentage from the latter. A negative value indicates less favorable outcomes for the unprivileged groups.\n",
    "#This is implemented in the method called mean_difference on the BinaryLabelDatasetMetric class.\n",
    "metric_orig_train = BinaryLabelDatasetMetric(dataset_orig_train, \n",
    "                                             unprivileged_groups=unprivileged_groups,\n",
    "                                             privileged_groups=privileged_groups)\n",
    "display(Markdown(\"#### Original training dataset\"))\n",
    "print(\"Difference in mean outcomes between unprivileged and privileged groups = %f\" % metric_orig_train.mean_difference())"
   ]
  },
  {
   "cell_type": "code",
   "execution_count": null,
   "metadata": {},
   "outputs": [],
   "source": [
    "#Mitigating the unfairness with \"Reweighing\" preprocessing algorithm (Kamiran & Calders' algorithm)\n",
    "\n",
    "RW = Reweighing(unprivileged_groups=unprivileged_groups,\n",
    "                privileged_groups=privileged_groups)\n",
    "dataset_transf_train = RW.fit_transform(dataset_orig_train)\n",
    "dataset_transf_train"
   ]
  },
  {
   "cell_type": "code",
   "execution_count": null,
   "metadata": {},
   "outputs": [],
   "source": [
    "metric_transf_train = BinaryLabelDatasetMetric(dataset_transf_train, \n",
    "                                               unprivileged_groups=unprivileged_groups,\n",
    "                                               privileged_groups=privileged_groups)\n",
    "display(Markdown(\"#### Transformed training dataset\"))\n",
    "print(\"Difference in mean outcomes between unprivileged and privileged groups = %f\" % metric_transf_train.mean_difference())"
   ]
  },
  {
   "cell_type": "code",
   "execution_count": null,
   "metadata": {},
   "outputs": [],
   "source": [
    "#Training a logistic regression model on preprocessed fair dataset to test the predictions\n",
    "\n",
    "trainset = dataset_transf_train  # data to train on\n",
    "scale = StandardScaler().fit(trainset.features)   # remember the scale\n",
    "model = LogisticRegression()        # model to learn\n",
    "\n",
    "X_train = scale.transform(trainset.features)      #apply the scale\n",
    "y_train = trainset.labels.ravel()\n",
    "\n",
    "model.fit(X_train, y_train, sample_weight=trainset.instance_weights)\n",
    "\n",
    "#save model\n",
    "lr_orig = model\n",
    "lr_scale_orig = scale\n",
    "\n",
    "print(X_train)\n",
    "print(y_train)"
   ]
  },
  {
   "cell_type": "code",
   "execution_count": null,
   "metadata": {},
   "outputs": [],
   "source": [
    "#Test model on given dataset and find threshold for best balanced accuracy\n",
    "import numpy as np\n",
    "\n",
    "#tqdm makes your loops show a smart progress meter. It can also be executed as a module with pipes, which will be used here.\n",
    "from tqdm import tqdm\n",
    "thresh_arr = np.linspace(0.01, 0.5, 50)\n",
    "\n",
    "scale = lr_scale_orig\n",
    "\n",
    "model = lr_orig                  #model to test\n",
    "testset = dataset_orig_test        #data to test on\n",
    "\n",
    "X_test = scale.transform(testset.features)   #apply the same scale as applied to the training data\n",
    "y_test = testset.labels.ravel()\n",
    "y_test_pred_prob = model.predict_proba(X_test)\n",
    "\n",
    "#collecting various performance metrics\n",
    "bal_acc_arr = []\n",
    "disp_imp_arr = []\n",
    "avg_odds_diff_arr = []\n",
    "    \n",
    "for thresh in tqdm(thresh_arr):\n",
    "    y_test_pred = (y_test_pred_prob[:,1] > thresh).astype(np.double)\n",
    "\n",
    "    testset_pred = testset.copy()\n",
    "    testset_pred.labels = y_test_pred\n",
    "\n",
    "    classified_metric = ClassificationMetric(testset, \n",
    "                                                 testset_pred,\n",
    "                                                 unprivileged_groups=unprivileged_groups,\n",
    "                                                 privileged_groups=privileged_groups)\n",
    "    metric_pred = BinaryLabelDatasetMetric(testset_pred,\n",
    "                                                 unprivileged_groups=unprivileged_groups,\n",
    "                                                 privileged_groups=privileged_groups)\n",
    "    \n",
    "    TPR = classified_metric.true_positive_rate()\n",
    "    TNR = classified_metric.true_negative_rate()\n",
    "    bal_acc = 0.5*(TPR+TNR)\n",
    "    \n",
    "    acc = accuracy_score(y_true=testset.labels,\n",
    "                            y_pred=testset_pred.labels)\n",
    "    bal_acc_arr.append(bal_acc)\n",
    "    avg_odds_diff_arr.append(classified_metric.average_odds_difference())\n",
    "    disp_imp_arr.append(metric_pred.disparate_impact())\n",
    "    \n",
    "thresh_arr_best_ind = np.where(bal_acc_arr == np.max(bal_acc_arr))[0][0]\n",
    "thresh_arr_best = np.array(thresh_arr)[thresh_arr_best_ind]\n",
    "\n",
    "best_bal_acc = bal_acc_arr[thresh_arr_best_ind]\n",
    "disp_imp_at_best_bal_acc = np.abs(1.0-np.array(disp_imp_arr))[thresh_arr_best_ind]\n",
    "\n",
    "avg_odds_diff_at_best_bal_acc = avg_odds_diff_arr[thresh_arr_best_ind]"
   ]
  },
  {
   "cell_type": "code",
   "execution_count": null,
   "metadata": {},
   "outputs": [],
   "source": [
    "#plotting the balanced accuracy, abs(1-disparate impact)\n",
    "import matplotlib.pyplot as plt\n",
    "\n",
    "fig, ax1 = plt.subplots(figsize=(10,7))\n",
    "ax1.plot(thresh_arr, bal_acc_arr)\n",
    "ax1.set_xlabel('Classification Thresholds', fontsize=16, fontweight='bold')\n",
    "ax1.set_ylabel('Balanced Accuracy', color='b', fontsize=16, fontweight='bold')\n",
    "ax1.xaxis.set_tick_params(labelsize=14)\n",
    "ax1.yaxis.set_tick_params(labelsize=14)\n",
    "\n",
    "\n",
    "ax2 = ax1.twinx()\n",
    "ax2.plot(thresh_arr, np.abs(1.0-np.array(disp_imp_arr)), color='r')\n",
    "ax2.set_ylabel('abs(1-disparate impact)', color='r', fontsize=16, fontweight='bold')\n",
    "\n",
    "ax2.axvline(np.array(thresh_arr)[thresh_arr_best_ind], \n",
    "            color='k', linestyle=':')\n",
    "ax2.yaxis.set_tick_params(labelsize=14)\n",
    "ax2.grid(True)"
   ]
  },
  {
   "cell_type": "code",
   "execution_count": null,
   "metadata": {},
   "outputs": [],
   "source": [
    "#Plot average odds difference\n",
    "fig, ax1 = plt.subplots(figsize=(10,7))\n",
    "ax1.plot(thresh_arr, bal_acc_arr)\n",
    "ax1.set_xlabel('Classification Thresholds', fontsize=16, fontweight='bold')\n",
    "ax1.set_ylabel('Balanced Accuracy', color='b', fontsize=16, fontweight='bold')\n",
    "ax1.xaxis.set_tick_params(labelsize=14)\n",
    "ax1.yaxis.set_tick_params(labelsize=14)\n",
    "\n",
    "ax2 = ax1.twinx()\n",
    "ax2.plot(thresh_arr, avg_odds_diff_arr, color='r')\n",
    "ax2.set_ylabel('avg. odds diff.', color='r', fontsize=16, fontweight='bold')\n",
    "\n",
    "ax2.axvline(np.array(thresh_arr)[thresh_arr_best_ind], color='k', linestyle=':')\n",
    "ax2.yaxis.set_tick_params(labelsize=14)\n",
    "ax2.grid(True)"
   ]
  },
  {
   "cell_type": "code",
   "execution_count": null,
   "metadata": {},
   "outputs": [],
   "source": [
    "rf_thresh_arr_orig_best = thresh_arr_best\n",
    "print(\"Threshold corresponding to Best balance accuracy: %6.4f\" % rf_thresh_arr_orig_best)\n",
    "rf_best_bal_acc_arr_orig = best_bal_acc\n",
    "print(\"Best balance accuracy: %6.4f\" % rf_best_bal_acc_arr_orig)\n",
    "rf_disp_imp_at_best_bal_acc_orig = disp_imp_at_best_bal_acc\n",
    "print(\"Corresponding abs(1-disparate impact) value: %6.4f\" % rf_disp_imp_at_best_bal_acc_orig)\n",
    "rf_avg_odds_diff_at_best_bal_acc_orig = avg_odds_diff_at_best_bal_acc\n",
    "print(\"Corresponding average odds difference value: %6.4f\" % rf_avg_odds_diff_at_best_bal_acc_orig)"
   ]
  },
  {
   "cell_type": "code",
   "execution_count": null,
   "metadata": {},
   "outputs": [],
   "source": [
    "from aif360.datasets.lime_encoder import LimeEncoder \n",
    "\n",
    "limeData = LimeEncoder().fit(dataset_orig_train)\n",
    "s_train = limeData.transform(dataset_orig_train.features)\n",
    "s_test = limeData.transform(dataset_orig_test.features)\n",
    "\n",
    "scale = lr_scale_orig\n",
    "\n",
    "model = lr_orig                  #model to test\n",
    "\n",
    "\n",
    "\n",
    "\n",
    "explainer = lime.lime_tabular.LimeTabularExplainer(s_train ,class_names=limeData.s_class_names, \n",
    "                                                   feature_names = limeData.s_feature_names,\n",
    "                                                   categorical_features=limeData.s_categorical_features, \n",
    "                                                   categorical_names=limeData.s_categorical_names, \n",
    "                                                   kernel_width=3, verbose=False,discretize_continuous=True)\n",
    "\n",
    "s_predict_fn = lambda x: model.predict_proba(scale.transform(limeData.inverse_transform(x)))\n",
    "\n",
    "import random\n",
    "print(\"Threshold corresponding to Best balance accuracy: %6.4f\" % rf_thresh_arr_orig_best)\n",
    "i1 = 1\n",
    "exp = explainer.explain_instance(s_test[i1], s_predict_fn, num_features=5)\n",
    "exp.as_pyplot_figure()\n",
    "print(\"        Actual label: \" + str(dataset_orig_test.labels[i1]))\n",
    "\n",
    "i2 = 100\n",
    "exp = explainer.explain_instance(s_test[i2], s_predict_fn, num_features=5)\n",
    "exp.as_pyplot_figure()\n",
    "print(\"        Actual label: \" + str(dataset_orig_test.labels[i2]))"
   ]
  },
  {
   "cell_type": "markdown",
   "metadata": {},
   "source": [
    "### Mitigation on Adult Dataset (scikit-learn compatible!)"
   ]
  },
  {
   "cell_type": "code",
   "execution_count": 1,
   "metadata": {},
   "outputs": [],
   "source": [
    "import matplotlib.pyplot as plt\n",
    "import numpy as np\n",
    "import pandas as pd\n",
    "import tensorflow as tf\n",
    "tf.compat.v1.logging.set_verbosity(tf.compat.v1.logging.ERROR)\n",
    "\n",
    "from sklearn.compose import make_column_transformer\n",
    "from sklearn.linear_model import LogisticRegression\n",
    "from sklearn.metrics import accuracy_score\n",
    "from sklearn.model_selection import GridSearchCV, train_test_split\n",
    "from sklearn.preprocessing import OneHotEncoder\n",
    "\n",
    "from aif360.sklearn.preprocessing import ReweighingMeta\n",
    "from aif360.sklearn.inprocessing import AdversarialDebiasing\n",
    "from aif360.sklearn.postprocessing import CalibratedEqualizedOdds, PostProcessingMeta\n",
    "from aif360.sklearn.datasets import fetch_adult\n",
    "from aif360.sklearn.metrics import disparate_impact_ratio, average_odds_error, generalized_fpr, equal_opportunity_difference\n",
    "from aif360.sklearn.metrics import generalized_fnr, difference"
   ]
  },
  {
   "cell_type": "code",
   "execution_count": 2,
   "metadata": {},
   "outputs": [
    {
     "data": {
      "text/html": [
       "<div>\n",
       "<style scoped>\n",
       "    .dataframe tbody tr th:only-of-type {\n",
       "        vertical-align: middle;\n",
       "    }\n",
       "\n",
       "    .dataframe tbody tr th {\n",
       "        vertical-align: top;\n",
       "    }\n",
       "\n",
       "    .dataframe thead th {\n",
       "        text-align: right;\n",
       "    }\n",
       "</style>\n",
       "<table border=\"1\" class=\"dataframe\">\n",
       "  <thead>\n",
       "    <tr style=\"text-align: right;\">\n",
       "      <th></th>\n",
       "      <th></th>\n",
       "      <th></th>\n",
       "      <th>age</th>\n",
       "      <th>workclass</th>\n",
       "      <th>education</th>\n",
       "      <th>education-num</th>\n",
       "      <th>marital-status</th>\n",
       "      <th>occupation</th>\n",
       "      <th>relationship</th>\n",
       "      <th>race</th>\n",
       "      <th>sex</th>\n",
       "      <th>capital-gain</th>\n",
       "      <th>capital-loss</th>\n",
       "      <th>hours-per-week</th>\n",
       "      <th>native-country</th>\n",
       "    </tr>\n",
       "    <tr>\n",
       "      <th></th>\n",
       "      <th>race</th>\n",
       "      <th>sex</th>\n",
       "      <th></th>\n",
       "      <th></th>\n",
       "      <th></th>\n",
       "      <th></th>\n",
       "      <th></th>\n",
       "      <th></th>\n",
       "      <th></th>\n",
       "      <th></th>\n",
       "      <th></th>\n",
       "      <th></th>\n",
       "      <th></th>\n",
       "      <th></th>\n",
       "      <th></th>\n",
       "    </tr>\n",
       "  </thead>\n",
       "  <tbody>\n",
       "    <tr>\n",
       "      <th>0</th>\n",
       "      <th>Non-white</th>\n",
       "      <th>Male</th>\n",
       "      <td>25.0</td>\n",
       "      <td>Private</td>\n",
       "      <td>11th</td>\n",
       "      <td>7.0</td>\n",
       "      <td>Never-married</td>\n",
       "      <td>Machine-op-inspct</td>\n",
       "      <td>Own-child</td>\n",
       "      <td>Non-white</td>\n",
       "      <td>Male</td>\n",
       "      <td>0.0</td>\n",
       "      <td>0.0</td>\n",
       "      <td>40.0</td>\n",
       "      <td>United-States</td>\n",
       "    </tr>\n",
       "    <tr>\n",
       "      <th>1</th>\n",
       "      <th>White</th>\n",
       "      <th>Male</th>\n",
       "      <td>38.0</td>\n",
       "      <td>Private</td>\n",
       "      <td>HS-grad</td>\n",
       "      <td>9.0</td>\n",
       "      <td>Married-civ-spouse</td>\n",
       "      <td>Farming-fishing</td>\n",
       "      <td>Husband</td>\n",
       "      <td>White</td>\n",
       "      <td>Male</td>\n",
       "      <td>0.0</td>\n",
       "      <td>0.0</td>\n",
       "      <td>50.0</td>\n",
       "      <td>United-States</td>\n",
       "    </tr>\n",
       "    <tr>\n",
       "      <th>2</th>\n",
       "      <th>White</th>\n",
       "      <th>Male</th>\n",
       "      <td>28.0</td>\n",
       "      <td>Local-gov</td>\n",
       "      <td>Assoc-acdm</td>\n",
       "      <td>12.0</td>\n",
       "      <td>Married-civ-spouse</td>\n",
       "      <td>Protective-serv</td>\n",
       "      <td>Husband</td>\n",
       "      <td>White</td>\n",
       "      <td>Male</td>\n",
       "      <td>0.0</td>\n",
       "      <td>0.0</td>\n",
       "      <td>40.0</td>\n",
       "      <td>United-States</td>\n",
       "    </tr>\n",
       "    <tr>\n",
       "      <th>3</th>\n",
       "      <th>Non-white</th>\n",
       "      <th>Male</th>\n",
       "      <td>44.0</td>\n",
       "      <td>Private</td>\n",
       "      <td>Some-college</td>\n",
       "      <td>10.0</td>\n",
       "      <td>Married-civ-spouse</td>\n",
       "      <td>Machine-op-inspct</td>\n",
       "      <td>Husband</td>\n",
       "      <td>Non-white</td>\n",
       "      <td>Male</td>\n",
       "      <td>7688.0</td>\n",
       "      <td>0.0</td>\n",
       "      <td>40.0</td>\n",
       "      <td>United-States</td>\n",
       "    </tr>\n",
       "    <tr>\n",
       "      <th>5</th>\n",
       "      <th>White</th>\n",
       "      <th>Male</th>\n",
       "      <td>34.0</td>\n",
       "      <td>Private</td>\n",
       "      <td>10th</td>\n",
       "      <td>6.0</td>\n",
       "      <td>Never-married</td>\n",
       "      <td>Other-service</td>\n",
       "      <td>Not-in-family</td>\n",
       "      <td>White</td>\n",
       "      <td>Male</td>\n",
       "      <td>0.0</td>\n",
       "      <td>0.0</td>\n",
       "      <td>30.0</td>\n",
       "      <td>United-States</td>\n",
       "    </tr>\n",
       "  </tbody>\n",
       "</table>\n",
       "</div>"
      ],
      "text/plain": [
       "                   age  workclass     education  education-num  \\\n",
       "  race      sex                                                  \n",
       "0 Non-white Male  25.0    Private          11th            7.0   \n",
       "1 White     Male  38.0    Private       HS-grad            9.0   \n",
       "2 White     Male  28.0  Local-gov    Assoc-acdm           12.0   \n",
       "3 Non-white Male  44.0    Private  Some-college           10.0   \n",
       "5 White     Male  34.0    Private          10th            6.0   \n",
       "\n",
       "                      marital-status         occupation   relationship  \\\n",
       "  race      sex                                                          \n",
       "0 Non-white Male       Never-married  Machine-op-inspct      Own-child   \n",
       "1 White     Male  Married-civ-spouse    Farming-fishing        Husband   \n",
       "2 White     Male  Married-civ-spouse    Protective-serv        Husband   \n",
       "3 Non-white Male  Married-civ-spouse  Machine-op-inspct        Husband   \n",
       "5 White     Male       Never-married      Other-service  Not-in-family   \n",
       "\n",
       "                       race   sex  capital-gain  capital-loss  hours-per-week  \\\n",
       "  race      sex                                                                 \n",
       "0 Non-white Male  Non-white  Male           0.0           0.0            40.0   \n",
       "1 White     Male      White  Male           0.0           0.0            50.0   \n",
       "2 White     Male      White  Male           0.0           0.0            40.0   \n",
       "3 Non-white Male  Non-white  Male        7688.0           0.0            40.0   \n",
       "5 White     Male      White  Male           0.0           0.0            30.0   \n",
       "\n",
       "                 native-country  \n",
       "  race      sex                  \n",
       "0 Non-white Male  United-States  \n",
       "1 White     Male  United-States  \n",
       "2 White     Male  United-States  \n",
       "3 Non-white Male  United-States  \n",
       "5 White     Male  United-States  "
      ]
     },
     "execution_count": 2,
     "metadata": {},
     "output_type": "execute_result"
    }
   ],
   "source": [
    "#Datasets are formatted as separate X (# samples x # features) and y (# samples x # labels) DataFrames. The index of each DataFrame contains protected attribute values per sample. Datasets may also load a sample_weight object to be used with certain algorithms/metrics. All of this makes it so that aif360 is compatible with scikit-learn objects\n",
    "    \n",
    "X, y, sample_weight = fetch_adult()\n",
    "X.head()  "
   ]
  },
  {
   "cell_type": "code",
   "execution_count": 3,
   "metadata": {},
   "outputs": [
    {
     "data": {
      "text/plain": [
       "   race       sex \n",
       "0  Non-white  Male    <=50K\n",
       "1  White      Male    <=50K\n",
       "2  White      Male     >50K\n",
       "3  Non-white  Male     >50K\n",
       "5  White      Male    <=50K\n",
       "Name: annual-income, dtype: category\n",
       "Categories (2, object): ['<=50K' < '>50K']"
      ]
     },
     "execution_count": 3,
     "metadata": {},
     "output_type": "execute_result"
    }
   ],
   "source": [
    "y.head()"
   ]
  },
  {
   "cell_type": "code",
   "execution_count": 4,
   "metadata": {},
   "outputs": [
    {
     "name": "stdout",
     "output_type": "stream",
     "text": [
      "             age  workclass     education  education-num      marital-status  \\\n",
      "  race sex                                                                     \n",
      "0 0    1    25.0    Private          11th            7.0       Never-married   \n",
      "1 1    1    38.0    Private       HS-grad            9.0  Married-civ-spouse   \n",
      "2 1    1    28.0  Local-gov    Assoc-acdm           12.0  Married-civ-spouse   \n",
      "3 0    1    44.0    Private  Some-college           10.0  Married-civ-spouse   \n",
      "5 1    1    34.0    Private          10th            6.0       Never-married   \n",
      "\n",
      "                   occupation   relationship       race   sex  capital-gain  \\\n",
      "  race sex                                                                    \n",
      "0 0    1    Machine-op-inspct      Own-child  Non-white  Male           0.0   \n",
      "1 1    1      Farming-fishing        Husband      White  Male           0.0   \n",
      "2 1    1      Protective-serv        Husband      White  Male           0.0   \n",
      "3 0    1    Machine-op-inspct        Husband  Non-white  Male        7688.0   \n",
      "5 1    1        Other-service  Not-in-family      White  Male           0.0   \n",
      "\n",
      "            capital-loss  hours-per-week native-country  \n",
      "  race sex                                               \n",
      "0 0    1             0.0            40.0  United-States  \n",
      "1 1    1             0.0            50.0  United-States  \n",
      "2 1    1             0.0            40.0  United-States  \n",
      "3 0    1             0.0            40.0  United-States  \n",
      "5 1    1             0.0            30.0  United-States  \n",
      "   race  sex\n",
      "0  0     1      <=50K\n",
      "1  1     1      <=50K\n",
      "2  1     1       >50K\n",
      "3  0     1       >50K\n",
      "5  1     1      <=50K\n",
      "Name: annual-income, dtype: category\n",
      "Categories (2, object): ['<=50K' < '>50K']\n"
     ]
    }
   ],
   "source": [
    "#We can then map the protected attributes to integers\n",
    "X.index = pd.MultiIndex.from_arrays(X.index.codes, names=X.index.names)\n",
    "y.index = pd.MultiIndex.from_arrays(y.index.codes, names=y.index.names)\n",
    "print(X.head())\n",
    "print(y.head())"
   ]
  },
  {
   "cell_type": "code",
   "execution_count": 5,
   "metadata": {},
   "outputs": [
    {
     "data": {
      "text/plain": [
       "   race  sex\n",
       "0  0     1      0\n",
       "1  1     1      0\n",
       "2  1     1      1\n",
       "3  0     1      1\n",
       "5  1     1      0\n",
       "dtype: int64"
      ]
     },
     "execution_count": 5,
     "metadata": {},
     "output_type": "execute_result"
    }
   ],
   "source": [
    "# change the target classes with 0 and 1\n",
    "y = pd.Series(y.factorize(sort=True)[0], index=y.index)\n",
    "y.head()"
   ]
  },
  {
   "cell_type": "code",
   "execution_count": 6,
   "metadata": {},
   "outputs": [
    {
     "data": {
      "text/html": [
       "<div>\n",
       "<style scoped>\n",
       "    .dataframe tbody tr th:only-of-type {\n",
       "        vertical-align: middle;\n",
       "    }\n",
       "\n",
       "    .dataframe tbody tr th {\n",
       "        vertical-align: top;\n",
       "    }\n",
       "\n",
       "    .dataframe thead th {\n",
       "        text-align: right;\n",
       "    }\n",
       "</style>\n",
       "<table border=\"1\" class=\"dataframe\">\n",
       "  <thead>\n",
       "    <tr style=\"text-align: right;\">\n",
       "      <th></th>\n",
       "      <th></th>\n",
       "      <th></th>\n",
       "      <th>0</th>\n",
       "      <th>1</th>\n",
       "      <th>2</th>\n",
       "      <th>3</th>\n",
       "      <th>4</th>\n",
       "      <th>5</th>\n",
       "      <th>6</th>\n",
       "      <th>7</th>\n",
       "      <th>8</th>\n",
       "      <th>9</th>\n",
       "      <th>...</th>\n",
       "      <th>90</th>\n",
       "      <th>91</th>\n",
       "      <th>92</th>\n",
       "      <th>93</th>\n",
       "      <th>94</th>\n",
       "      <th>95</th>\n",
       "      <th>96</th>\n",
       "      <th>97</th>\n",
       "      <th>98</th>\n",
       "      <th>99</th>\n",
       "    </tr>\n",
       "    <tr>\n",
       "      <th></th>\n",
       "      <th>race</th>\n",
       "      <th>sex</th>\n",
       "      <th></th>\n",
       "      <th></th>\n",
       "      <th></th>\n",
       "      <th></th>\n",
       "      <th></th>\n",
       "      <th></th>\n",
       "      <th></th>\n",
       "      <th></th>\n",
       "      <th></th>\n",
       "      <th></th>\n",
       "      <th></th>\n",
       "      <th></th>\n",
       "      <th></th>\n",
       "      <th></th>\n",
       "      <th></th>\n",
       "      <th></th>\n",
       "      <th></th>\n",
       "      <th></th>\n",
       "      <th></th>\n",
       "      <th></th>\n",
       "      <th></th>\n",
       "    </tr>\n",
       "  </thead>\n",
       "  <tbody>\n",
       "    <tr>\n",
       "      <th>30149</th>\n",
       "      <th>1</th>\n",
       "      <th>1</th>\n",
       "      <td>0.0</td>\n",
       "      <td>0.0</td>\n",
       "      <td>0.0</td>\n",
       "      <td>0.0</td>\n",
       "      <td>1.0</td>\n",
       "      <td>0.0</td>\n",
       "      <td>0.0</td>\n",
       "      <td>0.0</td>\n",
       "      <td>0.0</td>\n",
       "      <td>0.0</td>\n",
       "      <td>...</td>\n",
       "      <td>0.0</td>\n",
       "      <td>0.0</td>\n",
       "      <td>1.0</td>\n",
       "      <td>0.0</td>\n",
       "      <td>0.0</td>\n",
       "      <td>58.0</td>\n",
       "      <td>11.0</td>\n",
       "      <td>0.0</td>\n",
       "      <td>0.0</td>\n",
       "      <td>42.0</td>\n",
       "    </tr>\n",
       "    <tr>\n",
       "      <th>12028</th>\n",
       "      <th>1</th>\n",
       "      <th>0</th>\n",
       "      <td>0.0</td>\n",
       "      <td>0.0</td>\n",
       "      <td>0.0</td>\n",
       "      <td>0.0</td>\n",
       "      <td>1.0</td>\n",
       "      <td>0.0</td>\n",
       "      <td>0.0</td>\n",
       "      <td>0.0</td>\n",
       "      <td>0.0</td>\n",
       "      <td>0.0</td>\n",
       "      <td>...</td>\n",
       "      <td>0.0</td>\n",
       "      <td>0.0</td>\n",
       "      <td>0.0</td>\n",
       "      <td>0.0</td>\n",
       "      <td>0.0</td>\n",
       "      <td>51.0</td>\n",
       "      <td>12.0</td>\n",
       "      <td>0.0</td>\n",
       "      <td>0.0</td>\n",
       "      <td>30.0</td>\n",
       "    </tr>\n",
       "    <tr>\n",
       "      <th>36374</th>\n",
       "      <th>1</th>\n",
       "      <th>1</th>\n",
       "      <td>0.0</td>\n",
       "      <td>0.0</td>\n",
       "      <td>1.0</td>\n",
       "      <td>0.0</td>\n",
       "      <td>0.0</td>\n",
       "      <td>0.0</td>\n",
       "      <td>0.0</td>\n",
       "      <td>0.0</td>\n",
       "      <td>0.0</td>\n",
       "      <td>0.0</td>\n",
       "      <td>...</td>\n",
       "      <td>0.0</td>\n",
       "      <td>0.0</td>\n",
       "      <td>1.0</td>\n",
       "      <td>0.0</td>\n",
       "      <td>0.0</td>\n",
       "      <td>26.0</td>\n",
       "      <td>14.0</td>\n",
       "      <td>0.0</td>\n",
       "      <td>1887.0</td>\n",
       "      <td>40.0</td>\n",
       "    </tr>\n",
       "    <tr>\n",
       "      <th>8055</th>\n",
       "      <th>1</th>\n",
       "      <th>1</th>\n",
       "      <td>0.0</td>\n",
       "      <td>0.0</td>\n",
       "      <td>1.0</td>\n",
       "      <td>0.0</td>\n",
       "      <td>0.0</td>\n",
       "      <td>0.0</td>\n",
       "      <td>0.0</td>\n",
       "      <td>0.0</td>\n",
       "      <td>0.0</td>\n",
       "      <td>0.0</td>\n",
       "      <td>...</td>\n",
       "      <td>0.0</td>\n",
       "      <td>0.0</td>\n",
       "      <td>0.0</td>\n",
       "      <td>0.0</td>\n",
       "      <td>0.0</td>\n",
       "      <td>44.0</td>\n",
       "      <td>3.0</td>\n",
       "      <td>0.0</td>\n",
       "      <td>0.0</td>\n",
       "      <td>40.0</td>\n",
       "    </tr>\n",
       "    <tr>\n",
       "      <th>38108</th>\n",
       "      <th>1</th>\n",
       "      <th>1</th>\n",
       "      <td>0.0</td>\n",
       "      <td>0.0</td>\n",
       "      <td>1.0</td>\n",
       "      <td>0.0</td>\n",
       "      <td>0.0</td>\n",
       "      <td>0.0</td>\n",
       "      <td>0.0</td>\n",
       "      <td>1.0</td>\n",
       "      <td>0.0</td>\n",
       "      <td>0.0</td>\n",
       "      <td>...</td>\n",
       "      <td>0.0</td>\n",
       "      <td>0.0</td>\n",
       "      <td>1.0</td>\n",
       "      <td>0.0</td>\n",
       "      <td>0.0</td>\n",
       "      <td>33.0</td>\n",
       "      <td>6.0</td>\n",
       "      <td>0.0</td>\n",
       "      <td>0.0</td>\n",
       "      <td>40.0</td>\n",
       "    </tr>\n",
       "  </tbody>\n",
       "</table>\n",
       "<p>5 rows × 100 columns</p>\n",
       "</div>"
      ],
      "text/plain": [
       "                 0    1    2    3    4    5    6    7    8    9   ...   90  \\\n",
       "      race sex                                                    ...        \n",
       "30149 1    1    0.0  0.0  0.0  0.0  1.0  0.0  0.0  0.0  0.0  0.0  ...  0.0   \n",
       "12028 1    0    0.0  0.0  0.0  0.0  1.0  0.0  0.0  0.0  0.0  0.0  ...  0.0   \n",
       "36374 1    1    0.0  0.0  1.0  0.0  0.0  0.0  0.0  0.0  0.0  0.0  ...  0.0   \n",
       "8055  1    1    0.0  0.0  1.0  0.0  0.0  0.0  0.0  0.0  0.0  0.0  ...  0.0   \n",
       "38108 1    1    0.0  0.0  1.0  0.0  0.0  0.0  0.0  1.0  0.0  0.0  ...  0.0   \n",
       "\n",
       "                 91   92   93   94    95    96   97      98    99  \n",
       "      race sex                                                     \n",
       "30149 1    1    0.0  1.0  0.0  0.0  58.0  11.0  0.0     0.0  42.0  \n",
       "12028 1    0    0.0  0.0  0.0  0.0  51.0  12.0  0.0     0.0  30.0  \n",
       "36374 1    1    0.0  1.0  0.0  0.0  26.0  14.0  0.0  1887.0  40.0  \n",
       "8055  1    1    0.0  0.0  0.0  0.0  44.0   3.0  0.0     0.0  40.0  \n",
       "38108 1    1    0.0  1.0  0.0  0.0  33.0   6.0  0.0     0.0  40.0  \n",
       "\n",
       "[5 rows x 100 columns]"
      ]
     },
     "execution_count": 6,
     "metadata": {},
     "output_type": "execute_result"
    }
   ],
   "source": [
    "#split the train and test set, then encode the categorical features using one-hot encoder\n",
    "(X_train, X_test, y_train, y_test) = train_test_split(X, y, train_size=0.7, random_state=1234567)\n",
    "\n",
    "ohe = make_column_transformer((OneHotEncoder(sparse=False), X_train.dtypes == 'category'),\n",
    "                            remainder='passthrough')\n",
    "X_train = pd.DataFrame(ohe.fit_transform(X_train), index=X_train.index)\n",
    "X_test = pd.DataFrame(ohe.transform(X_test), index=X_test.index)\n",
    "\n",
    "X_train.head()\n",
    "\n",
    "#Note: the column names are lost in this transformation. The same encoding can be done with Pandas, but this cannot be combined\n",
    "#with other preprocessing in a Pipeline."
   ]
  },
  {
   "cell_type": "code",
   "execution_count": 7,
   "metadata": {},
   "outputs": [
    {
     "data": {
      "text/html": [
       "<div>\n",
       "<style scoped>\n",
       "    .dataframe tbody tr th:only-of-type {\n",
       "        vertical-align: middle;\n",
       "    }\n",
       "\n",
       "    .dataframe tbody tr th {\n",
       "        vertical-align: top;\n",
       "    }\n",
       "\n",
       "    .dataframe thead th {\n",
       "        text-align: right;\n",
       "    }\n",
       "</style>\n",
       "<table border=\"1\" class=\"dataframe\">\n",
       "  <thead>\n",
       "    <tr style=\"text-align: right;\">\n",
       "      <th></th>\n",
       "      <th></th>\n",
       "      <th></th>\n",
       "      <th>age</th>\n",
       "      <th>education-num</th>\n",
       "      <th>capital-gain</th>\n",
       "      <th>capital-loss</th>\n",
       "      <th>hours-per-week</th>\n",
       "      <th>workclass_Federal-gov</th>\n",
       "      <th>workclass_Local-gov</th>\n",
       "      <th>workclass_Private</th>\n",
       "      <th>workclass_Self-emp-inc</th>\n",
       "      <th>workclass_Self-emp-not-inc</th>\n",
       "      <th>...</th>\n",
       "      <th>native-country_Portugal</th>\n",
       "      <th>native-country_Puerto-Rico</th>\n",
       "      <th>native-country_Scotland</th>\n",
       "      <th>native-country_South</th>\n",
       "      <th>native-country_Taiwan</th>\n",
       "      <th>native-country_Thailand</th>\n",
       "      <th>native-country_Trinadad&amp;Tobago</th>\n",
       "      <th>native-country_United-States</th>\n",
       "      <th>native-country_Vietnam</th>\n",
       "      <th>native-country_Yugoslavia</th>\n",
       "    </tr>\n",
       "    <tr>\n",
       "      <th></th>\n",
       "      <th>race</th>\n",
       "      <th>sex</th>\n",
       "      <th></th>\n",
       "      <th></th>\n",
       "      <th></th>\n",
       "      <th></th>\n",
       "      <th></th>\n",
       "      <th></th>\n",
       "      <th></th>\n",
       "      <th></th>\n",
       "      <th></th>\n",
       "      <th></th>\n",
       "      <th></th>\n",
       "      <th></th>\n",
       "      <th></th>\n",
       "      <th></th>\n",
       "      <th></th>\n",
       "      <th></th>\n",
       "      <th></th>\n",
       "      <th></th>\n",
       "      <th></th>\n",
       "      <th></th>\n",
       "      <th></th>\n",
       "    </tr>\n",
       "  </thead>\n",
       "  <tbody>\n",
       "    <tr>\n",
       "      <th>0</th>\n",
       "      <th>0</th>\n",
       "      <th>1</th>\n",
       "      <td>25.0</td>\n",
       "      <td>7.0</td>\n",
       "      <td>0.0</td>\n",
       "      <td>0.0</td>\n",
       "      <td>40.0</td>\n",
       "      <td>0</td>\n",
       "      <td>0</td>\n",
       "      <td>1</td>\n",
       "      <td>0</td>\n",
       "      <td>0</td>\n",
       "      <td>...</td>\n",
       "      <td>0</td>\n",
       "      <td>0</td>\n",
       "      <td>0</td>\n",
       "      <td>0</td>\n",
       "      <td>0</td>\n",
       "      <td>0</td>\n",
       "      <td>0</td>\n",
       "      <td>1</td>\n",
       "      <td>0</td>\n",
       "      <td>0</td>\n",
       "    </tr>\n",
       "    <tr>\n",
       "      <th>1</th>\n",
       "      <th>1</th>\n",
       "      <th>1</th>\n",
       "      <td>38.0</td>\n",
       "      <td>9.0</td>\n",
       "      <td>0.0</td>\n",
       "      <td>0.0</td>\n",
       "      <td>50.0</td>\n",
       "      <td>0</td>\n",
       "      <td>0</td>\n",
       "      <td>1</td>\n",
       "      <td>0</td>\n",
       "      <td>0</td>\n",
       "      <td>...</td>\n",
       "      <td>0</td>\n",
       "      <td>0</td>\n",
       "      <td>0</td>\n",
       "      <td>0</td>\n",
       "      <td>0</td>\n",
       "      <td>0</td>\n",
       "      <td>0</td>\n",
       "      <td>1</td>\n",
       "      <td>0</td>\n",
       "      <td>0</td>\n",
       "    </tr>\n",
       "    <tr>\n",
       "      <th>2</th>\n",
       "      <th>1</th>\n",
       "      <th>1</th>\n",
       "      <td>28.0</td>\n",
       "      <td>12.0</td>\n",
       "      <td>0.0</td>\n",
       "      <td>0.0</td>\n",
       "      <td>40.0</td>\n",
       "      <td>0</td>\n",
       "      <td>1</td>\n",
       "      <td>0</td>\n",
       "      <td>0</td>\n",
       "      <td>0</td>\n",
       "      <td>...</td>\n",
       "      <td>0</td>\n",
       "      <td>0</td>\n",
       "      <td>0</td>\n",
       "      <td>0</td>\n",
       "      <td>0</td>\n",
       "      <td>0</td>\n",
       "      <td>0</td>\n",
       "      <td>1</td>\n",
       "      <td>0</td>\n",
       "      <td>0</td>\n",
       "    </tr>\n",
       "    <tr>\n",
       "      <th>3</th>\n",
       "      <th>0</th>\n",
       "      <th>1</th>\n",
       "      <td>44.0</td>\n",
       "      <td>10.0</td>\n",
       "      <td>7688.0</td>\n",
       "      <td>0.0</td>\n",
       "      <td>40.0</td>\n",
       "      <td>0</td>\n",
       "      <td>0</td>\n",
       "      <td>1</td>\n",
       "      <td>0</td>\n",
       "      <td>0</td>\n",
       "      <td>...</td>\n",
       "      <td>0</td>\n",
       "      <td>0</td>\n",
       "      <td>0</td>\n",
       "      <td>0</td>\n",
       "      <td>0</td>\n",
       "      <td>0</td>\n",
       "      <td>0</td>\n",
       "      <td>1</td>\n",
       "      <td>0</td>\n",
       "      <td>0</td>\n",
       "    </tr>\n",
       "    <tr>\n",
       "      <th>5</th>\n",
       "      <th>1</th>\n",
       "      <th>1</th>\n",
       "      <td>34.0</td>\n",
       "      <td>6.0</td>\n",
       "      <td>0.0</td>\n",
       "      <td>0.0</td>\n",
       "      <td>30.0</td>\n",
       "      <td>0</td>\n",
       "      <td>0</td>\n",
       "      <td>1</td>\n",
       "      <td>0</td>\n",
       "      <td>0</td>\n",
       "      <td>...</td>\n",
       "      <td>0</td>\n",
       "      <td>0</td>\n",
       "      <td>0</td>\n",
       "      <td>0</td>\n",
       "      <td>0</td>\n",
       "      <td>0</td>\n",
       "      <td>0</td>\n",
       "      <td>1</td>\n",
       "      <td>0</td>\n",
       "      <td>0</td>\n",
       "    </tr>\n",
       "  </tbody>\n",
       "</table>\n",
       "<p>5 rows × 100 columns</p>\n",
       "</div>"
      ],
      "text/plain": [
       "             age  education-num  capital-gain  capital-loss  hours-per-week  \\\n",
       "  race sex                                                                    \n",
       "0 0    1    25.0            7.0           0.0           0.0            40.0   \n",
       "1 1    1    38.0            9.0           0.0           0.0            50.0   \n",
       "2 1    1    28.0           12.0           0.0           0.0            40.0   \n",
       "3 0    1    44.0           10.0        7688.0           0.0            40.0   \n",
       "5 1    1    34.0            6.0           0.0           0.0            30.0   \n",
       "\n",
       "            workclass_Federal-gov  workclass_Local-gov  workclass_Private  \\\n",
       "  race sex                                                                  \n",
       "0 0    1                        0                    0                  1   \n",
       "1 1    1                        0                    0                  1   \n",
       "2 1    1                        0                    1                  0   \n",
       "3 0    1                        0                    0                  1   \n",
       "5 1    1                        0                    0                  1   \n",
       "\n",
       "            workclass_Self-emp-inc  workclass_Self-emp-not-inc  ...  \\\n",
       "  race sex                                                      ...   \n",
       "0 0    1                         0                           0  ...   \n",
       "1 1    1                         0                           0  ...   \n",
       "2 1    1                         0                           0  ...   \n",
       "3 0    1                         0                           0  ...   \n",
       "5 1    1                         0                           0  ...   \n",
       "\n",
       "            native-country_Portugal  native-country_Puerto-Rico  \\\n",
       "  race sex                                                        \n",
       "0 0    1                          0                           0   \n",
       "1 1    1                          0                           0   \n",
       "2 1    1                          0                           0   \n",
       "3 0    1                          0                           0   \n",
       "5 1    1                          0                           0   \n",
       "\n",
       "            native-country_Scotland  native-country_South  \\\n",
       "  race sex                                                  \n",
       "0 0    1                          0                     0   \n",
       "1 1    1                          0                     0   \n",
       "2 1    1                          0                     0   \n",
       "3 0    1                          0                     0   \n",
       "5 1    1                          0                     0   \n",
       "\n",
       "            native-country_Taiwan  native-country_Thailand  \\\n",
       "  race sex                                                   \n",
       "0 0    1                        0                        0   \n",
       "1 1    1                        0                        0   \n",
       "2 1    1                        0                        0   \n",
       "3 0    1                        0                        0   \n",
       "5 1    1                        0                        0   \n",
       "\n",
       "            native-country_Trinadad&Tobago  native-country_United-States  \\\n",
       "  race sex                                                                 \n",
       "0 0    1                                 0                             1   \n",
       "1 1    1                                 0                             1   \n",
       "2 1    1                                 0                             1   \n",
       "3 0    1                                 0                             1   \n",
       "5 1    1                                 0                             1   \n",
       "\n",
       "            native-country_Vietnam  native-country_Yugoslavia  \n",
       "  race sex                                                     \n",
       "0 0    1                         0                          0  \n",
       "1 1    1                         0                          0  \n",
       "2 1    1                         0                          0  \n",
       "3 0    1                         0                          0  \n",
       "5 1    1                         0                          0  \n",
       "\n",
       "[5 rows x 100 columns]"
      ]
     },
     "execution_count": 7,
     "metadata": {},
     "output_type": "execute_result"
    }
   ],
   "source": [
    "# there is one unused category ('Never-worked') that was dropped during dropna\n",
    "# get_dummies: pandas library's categorical variable converter into dummy/indicator variables.\n",
    "X.workclass.cat.remove_unused_categories(inplace=True)\n",
    "pd.get_dummies(X).head()"
   ]
  },
  {
   "cell_type": "markdown",
   "metadata": {},
   "source": [
    "#### Metrics"
   ]
  },
  {
   "cell_type": "code",
   "execution_count": 8,
   "metadata": {},
   "outputs": [
    {
     "data": {
      "text/plain": [
       "0.8470553549052848"
      ]
     },
     "execution_count": 8,
     "metadata": {},
     "output_type": "execute_result"
    }
   ],
   "source": [
    "#I increased the max_iter object's value to 10000 from 100 in _logistic.py to prevent convergence error.\n",
    "y_pred = LogisticRegression(solver='lbfgs').fit(X_train, y_train).predict(X_test)\n",
    "accuracy_score(y_test, y_pred)"
   ]
  },
  {
   "cell_type": "code",
   "execution_count": 9,
   "metadata": {},
   "outputs": [
    {
     "data": {
      "text/plain": [
       "0.306693066127975"
      ]
     },
     "execution_count": 9,
     "metadata": {},
     "output_type": "execute_result"
    }
   ],
   "source": [
    "#disparate impact check (unprivileged group's positive outcome rate/privileged group's positive outcome rate)\n",
    "disparate_impact_ratio(y_test, y_pred, prot_attr='sex')"
   ]
  },
  {
   "cell_type": "code",
   "execution_count": 10,
   "metadata": {},
   "outputs": [
    {
     "data": {
      "text/plain": [
       "0.513408447871844"
      ]
     },
     "execution_count": 10,
     "metadata": {},
     "output_type": "execute_result"
    }
   ],
   "source": [
    "disparate_impact_ratio(y_test, y_pred, prot_attr='race')"
   ]
  },
  {
   "cell_type": "code",
   "execution_count": 11,
   "metadata": {},
   "outputs": [
    {
     "data": {
      "text/plain": [
       "0.08209643421346868"
      ]
     },
     "execution_count": 11,
     "metadata": {},
     "output_type": "execute_result"
    }
   ],
   "source": [
    "#average_odds_error() computes the (unweighted) average of the absolute values of the true positive rate (TPR) difference and \n",
    "#false positive rate (FPR) difference\n",
    "average_odds_error(y_test, y_pred, prot_attr='sex')"
   ]
  },
  {
   "cell_type": "code",
   "execution_count": 12,
   "metadata": {},
   "outputs": [
    {
     "data": {
      "text/plain": [
       "0.06569245398649454"
      ]
     },
     "execution_count": 12,
     "metadata": {},
     "output_type": "execute_result"
    }
   ],
   "source": [
    "average_odds_error(y_test, y_pred, prot_attr='race')"
   ]
  },
  {
   "cell_type": "markdown",
   "metadata": {},
   "source": [
    "#### Debiasing Algorithms"
   ]
  },
  {
   "cell_type": "markdown",
   "metadata": {},
   "source": [
    "ReweighingMeta is a workaround until changing sample weights can be handled properly in Pipeline/GridSearchCV"
   ]
  },
  {
   "cell_type": "code",
   "execution_count": 13,
   "metadata": {},
   "outputs": [
    {
     "name": "stdout",
     "output_type": "stream",
     "text": [
      "0.8404216112626225\n",
      "{'estimator__C': 1, 'reweigher__prot_attr': 'sex'}\n"
     ]
    }
   ],
   "source": [
    "rew = ReweighingMeta(estimator=LogisticRegression(solver='lbfgs'))\n",
    "params = {'estimator__C': [1, 10], 'reweigher__prot_attr': ['sex']}\n",
    "\n",
    "clf = GridSearchCV(rew, params, scoring='accuracy', cv=5)\n",
    "clf.fit(X_train, y_train)\n",
    "print(clf.score(X_test, y_test))\n",
    "print(clf.best_params_)"
   ]
  },
  {
   "cell_type": "code",
   "execution_count": 14,
   "metadata": {},
   "outputs": [
    {
     "name": "stdout",
     "output_type": "stream",
     "text": [
      "0.8450652318124862\n",
      "{'estimator__C': 10, 'reweigher__prot_attr': 'race'}\n"
     ]
    }
   ],
   "source": [
    "params2 = {'estimator__C': [1, 10], 'reweigher__prot_attr': ['race']}\n",
    "\n",
    "clf2 = GridSearchCV(rew, params2, scoring='accuracy', cv=5)\n",
    "clf2.fit(X_train, y_train)\n",
    "print(clf2.score(X_test, y_test))\n",
    "print(clf2.best_params_)"
   ]
  },
  {
   "cell_type": "code",
   "execution_count": 15,
   "metadata": {},
   "outputs": [
    {
     "name": "stdout",
     "output_type": "stream",
     "text": [
      "For gender:\n",
      "Disparate impact ratio- 0.597239412476256\n",
      "Average odds error- 0.0848214275444617\n",
      "Equal oppotunity difference= 0.15453677628752804\n",
      "For race:\n",
      "Disparate impact ratio- 0.7005607368861085\n",
      "Average odds error- 0.019024797349856126\n",
      "Equal oppotunity difference= 0.024531863485351857\n"
     ]
    }
   ],
   "source": [
    "print(\"For gender:\")\n",
    "print(\"Disparate impact ratio-\", disparate_impact_ratio(y_test, clf.predict(X_test), prot_attr='sex'))\n",
    "print(\"Average odds error-\", average_odds_error(y_test, clf.predict(X_test), prot_attr='sex'))\n",
    "print(\"Equal oppotunity difference=\", equal_opportunity_difference(y_test, clf.predict(X_test), prot_attr='sex'))\n",
    "print(\"For race:\")\n",
    "print(\"Disparate impact ratio-\", disparate_impact_ratio(y_test, clf2.predict(X_test), prot_attr='race'))\n",
    "print(\"Average odds error-\", average_odds_error(y_test, clf2.predict(X_test), prot_attr='race'))\n",
    "print(\"Equal oppotunity difference=\", equal_opportunity_difference(y_test, clf2.predict(X_test), prot_attr='race'))"
   ]
  },
  {
   "cell_type": "markdown",
   "metadata": {},
   "source": [
    "#### Adverserial debiasing in-processing algorithm"
   ]
  },
  {
   "cell_type": "code",
   "execution_count": 16,
   "metadata": {},
   "outputs": [
    {
     "name": "stdout",
     "output_type": "stream",
     "text": [
      "0.8399056534237488\n",
      "0.840569027788015\n"
     ]
    }
   ],
   "source": [
    "adv_deb = AdversarialDebiasing(prot_attr='sex', random_state=1234567)\n",
    "adv_deb.fit(X_train, y_train)\n",
    "print(adv_deb.score(X_test, y_test))\n",
    "\n",
    "adv_deb2 = AdversarialDebiasing(prot_attr='race', random_state=1234567)\n",
    "adv_deb2.fit(X_train, y_train)\n",
    "print(adv_deb2.score(X_test, y_test))"
   ]
  },
  {
   "cell_type": "code",
   "execution_count": 17,
   "metadata": {},
   "outputs": [
    {
     "name": "stdout",
     "output_type": "stream",
     "text": [
      "For gender:\n",
      "Disparate impact ratio= 0.5388528021085786\n",
      "Average odds error= 0.060623189820735834\n",
      "Equal oppotunity difference= 0.10739821488234447\n",
      "For race:\n",
      "Disparate impact ratio= 1.0833962821860221\n",
      "Average odds error= 0.11002622907329035\n",
      "Equal oppotunity difference= 0.1768951978254304\n"
     ]
    }
   ],
   "source": [
    "print(\"For gender:\")\n",
    "print(\"Disparate impact ratio=\", disparate_impact_ratio(y_test, adv_deb.predict(X_test), prot_attr='sex'))\n",
    "print(\"Average odds error=\", average_odds_error(y_test, adv_deb.predict(X_test), prot_attr='sex'))\n",
    "print(\"Equal oppotunity difference=\", equal_opportunity_difference(y_test, adv_deb.predict(X_test), prot_attr='sex'))\n",
    "\n",
    "print(\"For race:\")\n",
    "print(\"Disparate impact ratio=\", disparate_impact_ratio(y_test, adv_deb2.predict(X_test), prot_attr='race'))\n",
    "print(\"Average odds error=\", average_odds_error(y_test, adv_deb2.predict(X_test), prot_attr='race'))\n",
    "print(\"Equal oppotunity difference=\", equal_opportunity_difference(y_test, adv_deb2.predict(X_test), prot_attr='race'))"
   ]
  },
  {
   "cell_type": "code",
   "execution_count": 18,
   "metadata": {},
   "outputs": [],
   "source": [
    "#NOTE: AdversarialDebiasing creates a TensorFlow session which we should close when we're finished to free up resources:\n",
    "adv_deb.sess_.close()"
   ]
  },
  {
   "cell_type": "markdown",
   "metadata": {},
   "source": [
    "#### CalibratedEqualizedOdds: a post-processing algorithm\n",
    "\n",
    "Since the post-processor needs to be trained on data unseen by the original estimator, we will use the PostProcessingMeta class\n",
    "which splits the data and trains the estimator and post-processor with their own split."
   ]
  },
  {
   "cell_type": "code",
   "execution_count": 19,
   "metadata": {},
   "outputs": [
    {
     "name": "stdout",
     "output_type": "stream",
     "text": [
      "Gender: 0.8200044224957618\n",
      "Race: 0.839979361686445\n"
     ]
    }
   ],
   "source": [
    "log_reg = LogisticRegression(solver='lbfgs')\n",
    "\n",
    "#for gender\n",
    "cal_eq_odds = CalibratedEqualizedOdds('sex', cost_constraint='fnr', random_state=1234567)\n",
    "postproc = PostProcessingMeta(estimator=log_reg, postprocessor=cal_eq_odds, random_state=1234567)\n",
    "\n",
    "postproc.fit(X_train, y_train)\n",
    "print(\"Gender:\", accuracy_score(y_test, postproc.predict(X_test)))\n",
    "\n",
    "#for race\n",
    "cal_eq_odds2 = CalibratedEqualizedOdds('race', cost_constraint='fnr', random_state=1234567)\n",
    "postproc2 = PostProcessingMeta(estimator=log_reg, postprocessor=cal_eq_odds2, random_state=1234567)\n",
    "\n",
    "postproc2.fit(X_train, y_train)\n",
    "print(\"Race:\", accuracy_score(y_test, postproc2.predict(X_test)))"
   ]
  },
  {
   "cell_type": "code",
   "execution_count": 21,
   "metadata": {},
   "outputs": [
    {
     "data": {
      "image/png": "[encoded data removed]",
      "text/plain": [
       "<Figure size 432x288 with 1 Axes>"
      ]
     },
     "metadata": {
      "needs_background": "light"
     },
     "output_type": "display_data"
    }
   ],
   "source": [
    "#Representing changes per sensitive attribute subgroup with visualizations (for gender)\n",
    "y_pred = postproc.predict_proba(X_test)[:, 1]\n",
    "y_lr = postproc.estimator_.predict_proba(X_test)[:, 1]\n",
    "br = postproc.postprocessor_.base_rates_\n",
    "i = X_test.index.get_level_values('sex') == 1\n",
    "\n",
    "plt.plot([0, br[0]], [0, 1-br[0]], '-b', label='All calibrated classifiers (Females)')\n",
    "plt.plot([0, br[1]], [0, 1-br[1]], '-r', label='All calibrated classifiers (Males)')\n",
    "\n",
    "plt.scatter(generalized_fpr(y_test[~i], y_lr[~i]),\n",
    "            generalized_fnr(y_test[~i], y_lr[~i]),\n",
    "            300, c='b', marker='.', label='Original classifier (Females)')\n",
    "plt.scatter(generalized_fpr(y_test[i], y_lr[i]),\n",
    "            generalized_fnr(y_test[i], y_lr[i]),\n",
    "            300, c='r', marker='.', label='Original classifier (Males)')\n",
    "                                                                        \n",
    "plt.scatter(generalized_fpr(y_test[~i], y_pred[~i]),\n",
    "            generalized_fnr(y_test[~i], y_pred[~i]),\n",
    "            100, c='b', marker='d', label='Post-processed classifier (Females)')\n",
    "plt.scatter(generalized_fpr(y_test[i], y_pred[i]),\n",
    "            generalized_fnr(y_test[i], y_pred[i]),\n",
    "            100, c='r', marker='d', label='Post-processed classifier (Males)')\n",
    "\n",
    "plt.plot([0, 1], [generalized_fnr(y_test, y_pred)]*2, '--', c='0.5')\n",
    "\n",
    "plt.axis('square')\n",
    "plt.title(\"Gender\")\n",
    "plt.xlim([0.0, 0.4])\n",
    "plt.ylim([0.3, 0.7])\n",
    "plt.xlabel('generalized fpr');\n",
    "plt.ylabel('generalized fnr');\n",
    "plt.legend(bbox_to_anchor=(1.04,1), loc='upper left');"
   ]
  },
  {
   "cell_type": "code",
   "execution_count": 24,
   "metadata": {},
   "outputs": [
    {
     "data": {
      "image/png": "[encoded data removed]",
      "text/plain": [
       "<Figure size 432x288 with 1 Axes>"
      ]
     },
     "metadata": {
      "needs_background": "light"
     },
     "output_type": "display_data"
    }
   ],
   "source": [
    "#Representing changes per sensitive attribute subgroup with visualizations (for race)\n",
    "y_pred = postproc2.predict_proba(X_test)[:, 1]\n",
    "y_lr = postproc2.estimator_.predict_proba(X_test)[:, 1]\n",
    "br = postproc2.postprocessor_.base_rates_\n",
    "i = X_test.index.get_level_values('race') == 1\n",
    "\n",
    "plt.plot([0, br[0]], [0, 1-br[0]], '-b', label='All calibrated classifiers (Non-white)')\n",
    "plt.plot([0, br[1]], [0, 1-br[1]], '-r', label='All calibrated classifiers (White)')\n",
    "\n",
    "'''NOTE: The bitwise operator ~ (pronounced as tilde) is a complement operator. It takes one bit operand and returns its \n",
    "complement. If the operand is 1, it returns 0, and if it is 0, it returns 1'''\n",
    "\n",
    "plt.scatter(generalized_fpr(y_test[~i], y_lr[~i]),\n",
    "            generalized_fnr(y_test[~i], y_lr[~i]),\n",
    "            300, c='b', marker='.', label='Original classifier (Non-whites)')\n",
    "plt.scatter(generalized_fpr(y_test[i], y_lr[i]),\n",
    "            generalized_fnr(y_test[i], y_lr[i]),\n",
    "            300, c='r', marker='.', label='Original classifier (Whites)')\n",
    "                                                                        \n",
    "plt.scatter(generalized_fpr(y_test[~i], y_pred[~i]),\n",
    "            generalized_fnr(y_test[~i], y_pred[~i]),\n",
    "            100, c='b', marker='d', label='Post-processed classifier (Non-whites)')\n",
    "plt.scatter(generalized_fpr(y_test[i], y_pred[i]),\n",
    "            generalized_fnr(y_test[i], y_pred[i]),\n",
    "            100, c='r', marker='d', label='Post-processed classifier (Whites)')\n",
    "\n",
    "plt.plot([0, 1], [generalized_fnr(y_test, y_pred)]*2, '--', c='0.5')\n",
    "\n",
    "plt.axis('square')\n",
    "plt.title('Race')\n",
    "plt.xlim([0.0, 0.4])\n",
    "plt.ylim([0.3, 0.7])\n",
    "plt.xlabel('generalized fpr');\n",
    "plt.ylabel('generalized fnr');\n",
    "plt.legend(bbox_to_anchor=(1.04,1), loc='upper left');"
   ]
  },
  {
   "cell_type": "markdown",
   "metadata": {},
   "source": [
    "We can see the generalized false negative rate is approximately equalized and the classifiers remain close to the calibration lines. We can quanitify the discrepancy between protected groups using the difference operator:"
   ]
  },
  {
   "cell_type": "code",
   "execution_count": 25,
   "metadata": {},
   "outputs": [
    {
     "name": "stdout",
     "output_type": "stream",
     "text": [
      "0.08405224398402267\n",
      "0.04211462602860394\n"
     ]
    }
   ],
   "source": [
    "print(difference(generalized_fnr, y_test, y_pred, prot_attr='sex'))\n",
    "\n",
    "print(difference(generalized_fnr, y_test, y_pred, prot_attr='race'))"
   ]
  },
  {
   "cell_type": "markdown",
   "metadata": {},
   "source": [
    "## Exercise on how to use LIME (Local Interpretable Model-Agnostic Explanations) to generate explanations for model predictions"
   ]
  },
  {
   "cell_type": "code",
   "execution_count": 26,
   "metadata": {},
   "outputs": [],
   "source": [
    "\n",
    "%matplotlib inline\n",
    "\n",
    "import sklearn.model_selection\n",
    "import sklearn.metrics\n",
    "import sklearn.datasets\n",
    "import sklearn.ensemble\n",
    "import sklearn.preprocessing\n",
    "import numpy as np\n",
    "import lime\n",
    "import lime.lime_tabular\n",
    "from IPython.display import Markdown, display\n",
    "import matplotlib.pyplot as plt\n",
    "import sys\n",
    "sys.path.append(\"../\")\n",
    "import numpy as np\n",
    "from aif360.datasets import BinaryLabelDataset\n",
    "from aif360.metrics.binary_label_dataset_metric import BinaryLabelDatasetMetric\n",
    "from aif360.metrics.classification_metric import ClassificationMetric\n",
    "from aif360.algorithms.preprocessing.optim_preproc_helpers.data_preproc_functions import load_preproc_data_adult\n",
    "from aif360.algorithms.preprocessing.reweighing import Reweighing\n",
    "\n",
    "from sklearn.linear_model import LogisticRegression\n",
    "from sklearn.preprocessing import StandardScaler\n",
    "from sklearn.metrics import accuracy_score\n",
    "\n",
    "from IPython.display import Markdown, display\n",
    "import matplotlib.pyplot as plt\n",
    "\n",
    "from aif360.datasets.lime_encoder import LimeEncoder \n",
    "\n",
    "\n",
    "from aif360.datasets.adult_dataset import AdultDataset"
   ]
  },
  {
   "cell_type": "code",
   "execution_count": 27,
   "metadata": {},
   "outputs": [
    {
     "name": "stderr",
     "output_type": "stream",
     "text": [
      "WARNING:root:Missing Data: 3620 rows removed from AdultDataset.\n"
     ]
    }
   ],
   "source": [
    "np.random.seed(1)\n",
    "#Dataset is not scikit-learn compatible\n",
    "dataset_orig = AdultDataset()\n",
    "dataset_orig_train, dataset_orig_test = dataset_orig.split([0.7], shuffle=True)"
   ]
  },
  {
   "cell_type": "code",
   "execution_count": 28,
   "metadata": {},
   "outputs": [
    {
     "data": {
      "text/markdown": [
       "#### Original training dataset"
      ],
      "text/plain": [
       "<IPython.core.display.Markdown object>"
      ]
     },
     "metadata": {},
     "output_type": "display_data"
    },
    {
     "name": "stdout",
     "output_type": "stream",
     "text": [
      "Difference in mean outcomes between privileged and unprivileged groups = -0.106968\n"
     ]
    }
   ],
   "source": [
    "# Metric for the original dataset\n",
    "sens_attr = dataset_orig_train.protected_attribute_names[0]\n",
    "sens_idx = dataset_orig_train.protected_attribute_names.index(sens_attr)\n",
    "\n",
    "privileged_groups = [{sens_attr:dataset_orig_train.privileged_protected_attributes[sens_idx][0]}] \n",
    "unprivileged_groups = [{sens_attr:dataset_orig_train.unprivileged_protected_attributes[sens_idx][0]}]\n",
    "\n",
    "#BinaryLabelDatasetMetric() is the class for computing metrics based on a single BinaryLabelDataset.\n",
    "metric_orig_train = BinaryLabelDatasetMetric(dataset_orig_train, \n",
    "                                             unprivileged_groups=unprivileged_groups,\n",
    "                                             privileged_groups=privileged_groups)\n",
    "display(Markdown(\"#### Original training dataset\"))\n",
    "print(\"Difference in mean outcomes between privileged and unprivileged groups = %f\" % metric_orig_train.mean_difference())"
   ]
  },
  {
   "cell_type": "markdown",
   "metadata": {},
   "source": [
    "#### Mitigating the unfairness using pre-processing algorithm: re-weighing"
   ]
  },
  {
   "cell_type": "code",
   "execution_count": 29,
   "metadata": {},
   "outputs": [],
   "source": [
    "RW = Reweighing(unprivileged_groups=unprivileged_groups,\n",
    "               privileged_groups=privileged_groups)\n",
    "RW.fit(dataset_orig_train)\n",
    "dataset_transf_train = RW.transform(dataset_orig_train)"
   ]
  },
  {
   "cell_type": "markdown",
   "metadata": {},
   "source": [
    "#### Learn and test models from the transformed data using Random Forests"
   ]
  },
  {
   "cell_type": "code",
   "execution_count": 30,
   "metadata": {},
   "outputs": [],
   "source": [
    "#Train model on given dataset\n",
    "\n",
    "dataset = dataset_transf_train  # data to train on\n",
    "scale = StandardScaler().fit(dataset.features)   # remember the scale\n",
    "model = sklearn.ensemble.RandomForestClassifier(n_estimators=500)       # model to learn\n",
    "\n",
    "X_train = scale.transform(dataset.features)      #apply the scale\n",
    "y_train = dataset.labels.ravel()\n",
    "\n",
    "model.fit(X_train, y_train, sample_weight=dataset.instance_weights)\n",
    "\n",
    "#save model\n",
    "rf_orig = model\n",
    "rf_scale_orig = scale"
   ]
  },
  {
   "cell_type": "code",
   "execution_count": 31,
   "metadata": {},
   "outputs": [
    {
     "name": "stderr",
     "output_type": "stream",
     "text": [
      "100%|██████████████████████████████████████████████████████████████████████████████████| 50/50 [00:02<00:00, 19.49it/s]\n"
     ]
    }
   ],
   "source": [
    "#Test model on given dataset and find threshold for best balanced accuracy\n",
    "import numpy as np\n",
    "from tqdm import tqdm\n",
    "thresh_arr = np.linspace(0.01, 0.5, 50)\n",
    "\n",
    "scale = rf_scale_orig\n",
    "\n",
    "model = rf_orig                  #model to test\n",
    "dataset = dataset_orig_test        #data to test on\n",
    "\n",
    "X_test = scale.transform(dataset.features)   #apply the same scale as applied to the training data\n",
    "y_test = dataset.labels.ravel()\n",
    "y_test_pred_prob = model.predict_proba(X_test)\n",
    "\n",
    "\n",
    "bal_acc_arr = []\n",
    "disp_imp_arr = []\n",
    "avg_odds_diff_arr = []\n",
    "    \n",
    "for thresh in tqdm(thresh_arr):\n",
    "    y_test_pred = (y_test_pred_prob[:,1] > thresh).astype(np.double)\n",
    "\n",
    "    dataset_pred = dataset.copy()\n",
    "    dataset_pred.labels = y_test_pred\n",
    "\n",
    "    classified_metric = ClassificationMetric(dataset, \n",
    "                                                 dataset_pred,\n",
    "                                                 unprivileged_groups=unprivileged_groups,\n",
    "                                                 privileged_groups=privileged_groups)\n",
    "    metric_pred = BinaryLabelDatasetMetric(dataset_pred,\n",
    "                                                 unprivileged_groups=unprivileged_groups,\n",
    "                                                 privileged_groups=privileged_groups)\n",
    "    \n",
    "    TPR = classified_metric.true_positive_rate()\n",
    "    TNR = classified_metric.true_negative_rate()\n",
    "    bal_acc = 0.5*(TPR+TNR)\n",
    "    \n",
    "    acc = accuracy_score(y_true=dataset.labels,\n",
    "                            y_pred=dataset_pred.labels)\n",
    "    bal_acc_arr.append(bal_acc)\n",
    "    avg_odds_diff_arr.append(classified_metric.average_odds_difference())\n",
    "    disp_imp_arr.append(metric_pred.disparate_impact())\n",
    "    \n",
    "thresh_arr_best_ind = np.where(bal_acc_arr == np.max(bal_acc_arr))[0][0]\n",
    "thresh_arr_best = np.array(thresh_arr)[thresh_arr_best_ind]\n",
    "\n",
    "best_bal_acc = bal_acc_arr[thresh_arr_best_ind]\n",
    "disp_imp_at_best_bal_acc = np.abs(1.0-np.array(disp_imp_arr))[thresh_arr_best_ind]\n",
    "\n",
    "avg_odds_diff_at_best_bal_acc = avg_odds_diff_arr[thresh_arr_best_ind]"
   ]
  },
  {
   "cell_type": "markdown",
   "metadata": {},
   "source": [
    "#### Plotting performace measures"
   ]
  },
  {
   "cell_type": "code",
   "execution_count": 32,
   "metadata": {},
   "outputs": [
    {
     "data": {
      "image/png": "[encoded data removed]",
      "text/plain": [
       "<Figure size 720x504 with 2 Axes>"
      ]
     },
     "metadata": {
      "needs_background": "light"
     },
     "output_type": "display_data"
    }
   ],
   "source": [
    "#Plot balanced accuracy, abs(1-disparate impact)\n",
    "\n",
    "fig, ax1 = plt.subplots(figsize=(10,7))\n",
    "ax1.plot(thresh_arr, bal_acc_arr)\n",
    "ax1.set_xlabel('Classification Thresholds', fontsize=16, fontweight='bold')\n",
    "ax1.set_ylabel('Balanced Accuracy', color='b', fontsize=16, fontweight='bold')\n",
    "ax1.xaxis.set_tick_params(labelsize=14)\n",
    "ax1.yaxis.set_tick_params(labelsize=14)\n",
    "\n",
    "\n",
    "ax2 = ax1.twinx()\n",
    "ax2.plot(thresh_arr, np.abs(1.0-np.array(disp_imp_arr)), color='r')\n",
    "ax2.set_ylabel('abs(1-disparate impact)', color='r', fontsize=16, fontweight='bold')\n",
    "\n",
    "ax2.axvline(np.array(thresh_arr)[thresh_arr_best_ind], \n",
    "            color='k', linestyle=':')\n",
    "ax2.yaxis.set_tick_params(labelsize=14)\n",
    "ax2.grid(True)"
   ]
  },
  {
   "cell_type": "code",
   "execution_count": 33,
   "metadata": {},
   "outputs": [
    {
     "data": {
      "image/png": "[encoded data removed]",
      "text/plain": [
       "<Figure size 720x504 with 2 Axes>"
      ]
     },
     "metadata": {
      "needs_background": "light"
     },
     "output_type": "display_data"
    }
   ],
   "source": [
    "#Plot average odds difference\n",
    "fig, ax1 = plt.subplots(figsize=(10,7))\n",
    "ax1.plot(thresh_arr, bal_acc_arr)\n",
    "ax1.set_xlabel('Classification Thresholds', fontsize=16, fontweight='bold')\n",
    "ax1.set_ylabel('Balanced Accuracy', color='b', fontsize=16, fontweight='bold')\n",
    "ax1.xaxis.set_tick_params(labelsize=14)\n",
    "ax1.yaxis.set_tick_params(labelsize=14)\n",
    "\n",
    "\n",
    "ax2 = ax1.twinx()\n",
    "ax2.plot(thresh_arr, avg_odds_diff_arr, color='r')\n",
    "ax2.set_ylabel('avg. odds diff.', color='r', fontsize=16, fontweight='bold')\n",
    "\n",
    "ax2.axvline(np.array(thresh_arr)[thresh_arr_best_ind], color='k', linestyle=':')\n",
    "ax2.yaxis.set_tick_params(labelsize=14)\n",
    "ax2.grid(True)"
   ]
  },
  {
   "cell_type": "code",
   "execution_count": 35,
   "metadata": {},
   "outputs": [
    {
     "name": "stdout",
     "output_type": "stream",
     "text": [
      "Threshold corresponding to Best balance accuracy: 0.2200\n",
      "Best balance accuracy: 0.8080\n",
      "Corresponding abs(1-disparate impact) value: 0.3898\n",
      "Corresponding average odds difference value: -0.0641\n"
     ]
    }
   ],
   "source": [
    "rf_thresh_arr_orig_best = thresh_arr_best\n",
    "print(\"Threshold corresponding to Best balance accuracy: %6.4f\" % rf_thresh_arr_orig_best)\n",
    "rf_best_bal_acc_arr_orig = best_bal_acc\n",
    "print(\"Best balance accuracy: %6.4f\" % rf_best_bal_acc_arr_orig)\n",
    "rf_disp_imp_at_best_bal_acc_orig = disp_imp_at_best_bal_acc\n",
    "print(\"Corresponding abs(1-disparate impact) value: %6.4f\" % rf_disp_imp_at_best_bal_acc_orig)\n",
    "rf_avg_odds_diff_at_best_bal_acc_orig = avg_odds_diff_at_best_bal_acc\n",
    "print(\"Corresponding average odds difference value: %6.4f\" % rf_avg_odds_diff_at_best_bal_acc_orig)"
   ]
  },
  {
   "cell_type": "markdown",
   "metadata": {},
   "source": [
    "#### Use LIME to generate explanations for predictions made using the learnt Logistic Regression model"
   ]
  },
  {
   "cell_type": "code",
   "execution_count": 49,
   "metadata": {},
   "outputs": [
    {
     "name": "stdout",
     "output_type": "stream",
     "text": [
      "Threshold corresponding to Best balance accuracy: 0.2200\n",
      "        Actual label: [1.]\n",
      "        Actual label: [0.]\n"
     ]
    },
    {
     "data": {
      "image/png": "[encoded data removed]",
      "text/plain": [
       "<Figure size 432x288 with 1 Axes>"
      ]
     },
     "metadata": {
      "needs_background": "light"
     },
     "output_type": "display_data"
    },
    {
     "data": {
      "image/png": "[encoded data removed]",
      "text/plain": [
       "<Figure size 432x288 with 1 Axes>"
      ]
     },
     "metadata": {
      "needs_background": "light"
     },
     "output_type": "display_data"
    }
   ],
   "source": [
    "limeData = LimeEncoder().fit(dataset_orig_train)\n",
    "s_train = limeData.transform(dataset_orig_train.features)\n",
    "s_test = limeData.transform(dataset_orig_test.features)\n",
    "\n",
    "scale = rf_scale_orig\n",
    "model = rf_orig                  #model to test\n",
    "\n",
    "#some samples (individuals) from the test set based on their index\n",
    "i1 = 1\n",
    "i2 = 100\n",
    "\n",
    "explainer = lime.lime_tabular.LimeTabularExplainer(s_train ,class_names=limeData.s_class_names, \n",
    "                                                   feature_names = limeData.s_feature_names,\n",
    "                                                   categorical_features=limeData.s_categorical_features, \n",
    "                                                   categorical_names=limeData.s_categorical_names, \n",
    "                                                   kernel_width=3, verbose=False,discretize_continuous=True)\n",
    "\n",
    "s_predict_fn = lambda x: model.predict_proba(scale.transform(limeData.inverse_transform(x)))\n",
    "\n",
    "import random\n",
    "print(\"Threshold corresponding to Best balance accuracy: %6.4f\" % rf_thresh_arr_orig_best)\n",
    "\n",
    "exp = explainer.explain_instance(s_test[i1], s_predict_fn, num_features=10)\n",
    "exp.as_pyplot_figure()\n",
    "print(\"        Actual label: \" + str(dataset_orig_test.labels[i1]))\n",
    "\n",
    "\n",
    "exp = explainer.explain_instance(s_test[i2], s_predict_fn, num_features=10)\n",
    "exp.as_pyplot_figure()\n",
    "print(\"        Actual label: \" + str(dataset_orig_test.labels[i2]))"
   ]
  },
  {
   "cell_type": "code",
   "execution_count": 39,
   "metadata": {},
   "outputs": [
    {
     "data": {
      "text/plain": [
       "array([41., 13.,  1.,  1.,  0.,  0., 75.,  4.,  9.,  2.,  4.,  0., 38.])"
      ]
     },
     "execution_count": 39,
     "metadata": {},
     "output_type": "execute_result"
    }
   ],
   "source": [
    "s_test[i1]"
   ]
  },
  {
   "cell_type": "code",
   "execution_count": 48,
   "metadata": {},
   "outputs": [
    {
     "name": "stdout",
     "output_type": "stream",
     "text": [
      "        Actual label: [1.]\n"
     ]
    },
    {
     "data": {
      "image/png": "[encoded data removed]",
      "text/plain": [
       "<Figure size 432x288 with 1 Axes>"
      ]
     },
     "metadata": {
      "needs_background": "light"
     },
     "output_type": "display_data"
    }
   ],
   "source": [
    "i3 = 63\n",
    "exp = explainer.explain_instance(s_test[i3], s_predict_fn, num_features=12)\n",
    "exp.as_pyplot_figure()\n",
    "print(\"        Actual label: \" + str(dataset_orig_test.labels[i3]))"
   ]
  },
  {
   "cell_type": "code",
   "execution_count": 46,
   "metadata": {},
   "outputs": [
    {
     "name": "stdout",
     "output_type": "stream",
     "text": [
      "        Actual label: [1.]\n"
     ]
    },
    {
     "data": {
      "image/png": "[encoded data removed]",
      "text/plain": [
       "<Figure size 432x288 with 1 Axes>"
      ]
     },
     "metadata": {
      "needs_background": "light"
     },
     "output_type": "display_data"
    }
   ],
   "source": [
    "i4 = 38\n",
    "exp = explainer.explain_instance(s_test[i4], s_predict_fn, num_features=12)\n",
    "exp.as_pyplot_figure()\n",
    "print(\"        Actual label: \" + str(dataset_orig_test.labels[i4]))"
   ]
  },
  {
   "cell_type": "code",
   "execution_count": null,
   "metadata": {},
   "outputs": [],
   "source": []
  }
 ],
 "metadata": {
  "kernelspec": {
   "display_name": "aif360",
   "language": "python",
   "name": "aif360"
  },
  "language_info": {
   "codemirror_mode": {
    "name": "ipython",
    "version": 3
   },
   "file_extension": ".py",
   "mimetype": "text/x-python",
   "name": "python",
   "nbconvert_exporter": "python",
   "pygments_lexer": "ipython3",
   "version": "3.6.12"
  }
 },
 "nbformat": 4,
 "nbformat_minor": 4
}
